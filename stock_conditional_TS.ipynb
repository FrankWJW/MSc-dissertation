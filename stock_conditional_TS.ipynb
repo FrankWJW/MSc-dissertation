{
 "cells": [
  {
   "cell_type": "code",
   "execution_count": 1,
   "metadata": {},
   "outputs": [],
   "source": [
    "%load_ext autoreload\n",
    "%autoreload 2\n",
    "\n",
    "import numpy as np\n",
    "import pandas as pd\n",
    "import torch\n",
    "import torch.nn as nn\n",
    "import torch.nn.functional as F\n",
    "# from keras.layers import Dense, Dropout, Activation, LSTM, Convolution1D, MaxPooling1D, Flatten\n",
    "# from keras.models import Sequential\n",
    "import matplotlib.pyplot as plt\n",
    "\n",
    "%matplotlib inline\n",
    "from torchbearer import Trial\n",
    "import os"
   ]
  },
  {
   "cell_type": "code",
   "execution_count": 2,
   "metadata": {},
   "outputs": [],
   "source": [
    "import torch\n",
    "import torch.nn.functional as F\n",
    "import torchvision.transforms as transforms\n",
    "import torchbearer\n",
    "from torch import nn\n",
    "from torch import optim\n",
    "from torch.utils.data import DataLoader, TensorDataset, Dataset\n",
    "from torchvision.datasets import MNIST\n",
    "from torchbearer import Trial\n",
    "import torchvision.transforms as transforms"
   ]
  },
  {
   "cell_type": "code",
   "execution_count": 3,
   "metadata": {
    "scrolled": false
   },
   "outputs": [
    {
     "name": "stdout",
     "output_type": "stream",
     "text": [
      " 驱动器 E 中的卷是 软件\n",
      " 卷的序列号是 000B-4453\n",
      "\n",
      " E:\\git\\MSc-dissertation 的目录\n",
      "\n",
      "2019/08/08  22:22    <DIR>          .\n",
      "2019/08/08  22:22    <DIR>          ..\n",
      "2019/08/08  21:41    <DIR>          .ipynb_checkpoints\n",
      "2019/08/05  13:58           368,007 ^DJI.csv\n",
      "2019/08/05  13:58           104,540 ^GSPC.csv\n",
      "2019/08/05  13:58           167,205 ^GSPC_2011_06_01-2019_06_01.csv\n",
      "2019/08/08  22:21    <DIR>          __pycache__\n",
      "2019/08/05  13:58            41,117 1d_conv.weights\n",
      "2019/08/05  13:58           382,435 5_1_CNN-Copy1.ipynb\n",
      "2019/08/05  13:58           335,219 Archive.zip\n",
      "2019/08/05  13:58               658 CBOE yearly 04-18.csv\n",
      "2019/08/05  13:58    <DIR>          data\n",
      "2019/08/05  13:58           189,414 EUR_GBP 05-16.csv\n",
      "2019/08/05  13:58           189,007 EUR_JPY 05-16.csv\n",
      "2019/08/05  13:58           189,396 EUR_USD 05-16.csv\n",
      "2019/08/05  13:58           189,370 GBP_JPY 05-16.csv\n",
      "2019/08/05  13:58           189,425 GBP_USD 05-16.csv\n",
      "2019/08/05  13:58             8,500 misc_functions.py\n",
      "2019/08/08  21:33               885 MLP_visualise_activation.ipynb\n",
      "2019/08/05  13:58    <DIR>          MNIST\n",
      "2019/08/05  13:58             1,129 README.md\n",
      "2019/08/05  13:58             6,118 simple MLP.ipynb\n",
      "2019/08/05  13:58           206,054 SP500 05-16.csv\n",
      "2019/08/08  22:04            78,170 stock_conditional_TS.ipynb\n",
      "2019/08/08  22:22            65,485 stock_conditional_TS_MLP_classifier.ipynb\n",
      "2019/08/08  21:33           126,560 stock_conv1d.ipynb\n",
      "2019/08/08  21:33           136,934 stock_conv1d-Copy1.ipynb\n",
      "2019/08/08  21:33            70,938 stock_conv1d-out-of-sample.ipynb\n",
      "2019/08/08  22:04           211,838 stock_conv1d-pytorch.ipynb\n",
      "2019/08/08  22:04           161,120 stock_dilatedconv+lstm.ipynb\n",
      "2019/08/08  22:06             9,118 stock_lstm+conv1d.ipynb\n",
      "2019/08/05  13:58            58,239 stock_nn.ipynb\n",
      "2019/08/08  21:33            63,055 stock_rnn_lstm.ipynb\n",
      "2019/08/08  21:41             5,420 train_test_split.ipynb\n",
      "2019/08/08  22:22             3,587 train_test_split.py\n",
      "2019/08/05  13:58             1,562 vanillabackprop.py\n",
      "2019/08/05  13:58           183,293 Volatility 05-16.csv\n",
      "              31 个文件      3,743,798 字节\n",
      "               6 个目录 22,323,277,824 可用字节\n"
     ]
    }
   ],
   "source": [
    "%ls"
   ]
  },
  {
   "cell_type": "code",
   "execution_count": 4,
   "metadata": {},
   "outputs": [
    {
     "data": {
      "text/plain": [
       "'E:\\\\git\\\\MSc-dissertation\\\\data'"
      ]
     },
     "execution_count": 4,
     "metadata": {},
     "output_type": "execute_result"
    }
   ],
   "source": [
    "datapath = os.path.join(os.getcwd(), 'data')\n",
    "datapath"
   ]
  },
  {
   "cell_type": "code",
   "execution_count": 5,
   "metadata": {},
   "outputs": [
    {
     "name": "stdout",
     "output_type": "stream",
     "text": [
      " 驱动器 E 中的卷是 软件\n",
      " 卷的序列号是 000B-4453\n",
      "\n",
      " E:\\git\\MSc-dissertation\\data 的目录\n",
      "\n",
      "2019/08/05  13:58    <DIR>          .\n",
      "2019/08/05  13:58    <DIR>          ..\n",
      "2019/08/05  13:58           178,424 ^TNX.csv\n",
      "2019/08/05  13:58           193,366 ^VIX.csv\n",
      "2019/08/05  13:58               658 CBOE yearly 04-18.csv\n",
      "2019/08/05  13:58           189,414 EUR_GBP 05-16.csv\n",
      "2019/08/05  13:58           189,007 EUR_JPY 05-16.csv\n",
      "2019/08/05  13:58           189,396 EUR_USD 05-16.csv\n",
      "2019/08/05  13:58           189,370 GBP_JPY 05-16.csv\n",
      "2019/08/05  13:58           189,425 GBP_USD 05-16.csv\n",
      "2019/08/05  13:58           206,054 SP500 05-16.csv\n",
      "               9 个文件      1,525,114 字节\n",
      "               2 个目录 22,323,277,824 可用字节\n"
     ]
    }
   ],
   "source": [
    "%ls data"
   ]
  },
  {
   "cell_type": "code",
   "execution_count": 6,
   "metadata": {
    "scrolled": true
   },
   "outputs": [
    {
     "name": "stdout",
     "output_type": "stream",
     "text": [
      "CBOE yearly 04-18.csv \n",
      "    Change Date     Rate (%)\n",
      "32   13-Dec-17  1.25 - 1.50\n",
      "33   21-Mar-18  1.50 - 1.75\n",
      "34   13-Jun-18  1.75 - 2.00\n",
      "35   26-Sep-18  2.00 - 2.25\n",
      "36   19-Dec-18  2.25 - 2.50\n",
      "EUR_GBP 05-16.csv \n",
      "               Date   Price    Open    High     Low Change %\n",
      "3125  Jan 07, 2005  0.6981  0.7022  0.7049  0.6971   -0.64%\n",
      "3126  Jan 06, 2005  0.7026  0.7041  0.7055  0.7016   -0.24%\n",
      "3127  Jan 05, 2005  0.7043  0.7049  0.7073  0.7021   -0.17%\n",
      "3128  Jan 04, 2005  0.7055  0.7069  0.7076  0.7044   -0.20%\n",
      "3129  Jan 03, 2005  0.7069  0.7058  0.7097  0.7038   -0.01%\n",
      "EUR_JPY 05-16.csv \n",
      "               Date   Price    Open    High     Low Change %\n",
      "3125  Jan 07, 2005  136.80  138.23  138.74  136.44   -1.16%\n",
      "3126  Jan 06, 2005  138.41  138.03  138.69  137.85    0.28%\n",
      "3127  Jan 05, 2005  138.03  138.85  139.02  137.68   -0.58%\n",
      "3128  Jan 04, 2005  138.83  138.34  139.05  137.77    0.38%\n",
      "3129  Jan 03, 2005  138.31  139.07  139.31  138.06   -0.40%\n",
      "EUR_USD 05-16.csv \n",
      "               Date   Price    Open    High     Low Change %\n",
      "3125  Jan 07, 2005  1.3054  1.3171  1.3251  1.3024   -0.89%\n",
      "3126  Jan 06, 2005  1.3171  1.3262  1.3286  1.3156   -0.69%\n",
      "3127  Jan 05, 2005  1.3262  1.3282  1.3305  1.3215   -0.08%\n",
      "3128  Jan 04, 2005  1.3272  1.3466  1.3496  1.3249   -1.42%\n",
      "3129  Jan 03, 2005  1.3463  1.3547  1.3582  1.3386   -0.70%\n",
      "GBP_JPY 05-16.csv \n",
      "               Date   Price    Open    High     Low Change %\n",
      "3125  Jan 07, 2005  195.99  196.83  197.30  195.37   -0.52%\n",
      "3126  Jan 06, 2005  197.01  195.99  197.40  195.78    0.54%\n",
      "3127  Jan 05, 2005  195.96  196.93  197.04  195.53   -0.42%\n",
      "3128  Jan 04, 2005  196.78  195.69  197.08  195.05    0.60%\n",
      "3129  Jan 03, 2005  195.61  197.04  197.18  195.31   -0.45%\n",
      "GBP_USD 05-16.csv \n",
      "               Date   Price    Open    High     Low Change %\n",
      "3125  Jan 07, 2005  1.8699  1.8755  1.8867  1.8648   -0.27%\n",
      "3126  Jan 06, 2005  1.8750  1.8828  1.8857  1.8695   -0.42%\n",
      "3127  Jan 05, 2005  1.8830  1.8838  1.8903  1.8727    0.04%\n",
      "3128  Jan 04, 2005  1.8822  1.9045  1.9085  1.8781   -1.16%\n",
      "3129  Jan 03, 2005  1.9043  1.9199  1.9205  1.8981   -0.75%\n",
      "SP500 05-16.csv \n",
      "             Date        Price         Open         High          Low  \\\n",
      "3016  2016/12/23  2263.790039  2260.250000  2263.790039  2258.840088   \n",
      "3017  2016/12/27  2268.879883  2266.229980  2273.820068  2266.149902   \n",
      "3018  2016/12/28  2249.919922  2270.229980  2271.310059  2249.110107   \n",
      "3019  2016/12/29  2249.260010  2249.500000  2254.510010  2244.560059   \n",
      "3020  2016/12/30  2238.830078  2251.610107  2253.580078  2233.620117   \n",
      "\n",
      "          Volume  \n",
      "3016  2020550000  \n",
      "3017  1987080000  \n",
      "3018  2392360000  \n",
      "3019  2336370000  \n",
      "3020  2670900000  \n",
      "^TNX.csv \n",
      "             Date   Open   High    Low  Close  Adj Close  Volume\n",
      "3016  2016-12-23  2.541  2.545  2.526  2.543      2.543     0.0\n",
      "3017  2016-12-27  2.552  2.576  2.550  2.563      2.563     0.0\n",
      "3018  2016-12-28  2.560  2.563  2.503  2.506      2.506     0.0\n",
      "3019  2016-12-29  2.486  2.497  2.460  2.477      2.477     0.0\n",
      "3020  2016-12-30  2.474  2.483  2.432  2.446      2.446     0.0\n",
      "^VIX.csv \n",
      "             Date   Open   High    Low  Close  Adj Close  Volume\n",
      "3016  2016-12-23  11.38  11.81  11.35  11.44      11.44       0\n",
      "3017  2016-12-27  12.26  12.33  11.84  11.99      11.99       0\n",
      "3018  2016-12-28  11.89  13.04  11.85  12.95      12.95       0\n",
      "3019  2016-12-29  13.15  13.71  12.95  13.37      13.37       0\n",
      "3020  2016-12-30  13.20  14.68  13.05  14.04      14.04       0\n"
     ]
    }
   ],
   "source": [
    "data = []\n",
    "for i, file in enumerate(os.listdir(datapath)):\n",
    "    data.append(pd.read_csv(os.path.join(datapath,file))) \n",
    "for i in range(len(data)):\n",
    "    print(os.listdir(datapath)[i], '\\n', data[i].tail())"
   ]
  },
  {
   "cell_type": "code",
   "execution_count": 7,
   "metadata": {},
   "outputs": [
    {
     "name": "stdout",
     "output_type": "stream",
     "text": [
      "37\n",
      "3130\n",
      "3130\n",
      "3130\n",
      "3130\n",
      "3130\n",
      "3021\n",
      "3021\n",
      "3021\n"
     ]
    }
   ],
   "source": [
    "#TNX: COBE 10 years interest rate\n",
    "#VIX: COBE volitility index\n",
    "for i in range(len(data)):\n",
    "    print(len(data[i]))"
   ]
  },
  {
   "cell_type": "code",
   "execution_count": 8,
   "metadata": {},
   "outputs": [
    {
     "name": "stdout",
     "output_type": "stream",
     "text": [
      "(3021, 4)\n",
      "(3021, 4)\n",
      "(3021, 4)\n"
     ]
    }
   ],
   "source": [
    "# take TNX, VIX and SP500 and prepocessing\n",
    "sp500 = data[-3]\n",
    "tnx = data[-2]\n",
    "vix = data[-1]\n",
    "\n",
    "#take only some columns\n",
    "sp500= sp500.values[:, 1:5]\n",
    "print (sp500.shape)\n",
    "tnx= tnx.values[:, 1:5]\n",
    "print (tnx.shape)\n",
    "vix= vix.values[:, 1:5]\n",
    "print (vix.shape)"
   ]
  },
  {
   "cell_type": "code",
   "execution_count": 9,
   "metadata": {},
   "outputs": [
    {
     "name": "stdout",
     "output_type": "stream",
     "text": [
      "[[1202.079956 1211.920044 1217.800049 1200.319946]\n",
      " [1188.050049 1202.079956 1205.839966 1185.390015]\n",
      " [1183.73999 1188.050049 1192.72998 1183.719971]\n",
      " ...\n",
      " [2249.919922 2270.22998 2271.310059 2249.110107]\n",
      " [2249.26001 2249.5 2254.51001 2244.560059]\n",
      " [2238.830078 2251.610107 2253.580078 2233.6201170000004]]\n"
     ]
    }
   ],
   "source": [
    "print(sp500)"
   ]
  },
  {
   "cell_type": "code",
   "execution_count": 10,
   "metadata": {},
   "outputs": [
    {
     "name": "stdout",
     "output_type": "stream",
     "text": [
      "(3, 3020, 4) (3, 3020)\n"
     ]
    }
   ],
   "source": [
    "# split sample X and target y\n",
    "X = np.zeros((3, 3020, 4))\n",
    "X[0,:,:] = sp500[:3020, :]\n",
    "X[1,:,:] = tnx[:3020, :]\n",
    "X[2,:,:] = vix[:3020, :]\n",
    "\n",
    "y = np.zeros((3,3020))\n",
    "y[0,:] = sp500[1:, 3]\n",
    "y[1,:] = tnx[1:, 3]\n",
    "y[2,:] = vix[1:, 3]\n",
    " \n",
    "print(X.shape, y.shape)"
   ]
  },
  {
   "cell_type": "code",
   "execution_count": 11,
   "metadata": {},
   "outputs": [],
   "source": [
    "# a = int(3020*0.8)\n",
    "# X = np.zeros((3, 3020, 4)) \n",
    "# y = np.zeros((3,3020))\n",
    "# for i, data in enumerate([sp500, tnx, vix]):\n",
    "#     train = data[:a]\n",
    "#     test = data[a:]\n",
    "#     train = (train- np.min(train, axis = 0))/(np.max(train,axis=0)- np.min(train, axis=0))\n",
    "#     test = (test- np.min(test,axis=0))/(np.max(test,axis=0)- np.min(test,axis=0))\n",
    "# #     print(train.shape, test.shape)\n",
    "#     data = np.concatenate((train,test), axis=0)\n",
    "# #     print(i, data.shape)\n",
    "#     X[i,:,:] = data[:3020, :]\n",
    "#     y[i,:] = data[1:, 3]\n",
    "    \n",
    "# print(X.shape, y.shape)"
   ]
  },
  {
   "cell_type": "code",
   "execution_count": 12,
   "metadata": {},
   "outputs": [
    {
     "name": "stdout",
     "output_type": "stream",
     "text": [
      "(3020, 3) (3020,)\n"
     ]
    }
   ],
   "source": [
    "temp1 = X[0, :, 0]\n",
    "temp2 = X[1, :, 3]\n",
    "temp3 = X[2, :, 3]\n",
    "X_temp = np.array([temp1, temp2, temp3]).T\n",
    "X = X_temp\n",
    "\n",
    "y = y[0,:]\n",
    "print(X.shape, y.shape)"
   ]
  },
  {
   "cell_type": "code",
   "execution_count": 13,
   "metadata": {},
   "outputs": [
    {
     "name": "stdout",
     "output_type": "stream",
     "text": [
      "[1202.079956 1188.050049 1183.73999  ... 2268.879883 2249.919922\n",
      " 2249.26001 ] [4.22  4.283 4.277 ... 2.563 2.506 2.477] [14.08 13.98 14.09 ... 11.99 12.95 13.37]\n",
      "[[1202.079956    4.22       14.08    ]\n",
      " [1188.050049    4.283      13.98    ]\n",
      " [1183.73999     4.277      14.09    ]\n",
      " ...\n",
      " [2268.879883    2.563      11.99    ]\n",
      " [2249.919922    2.506      12.95    ]\n",
      " [2249.26001     2.477      13.37    ]] [1185.390015 1183.719971 1183.27002  ... 2249.110107 2244.560059\n",
      " 2233.620117]\n"
     ]
    }
   ],
   "source": [
    "print(temp1, temp2, temp3)\n",
    "print(X, y)"
   ]
  },
  {
   "cell_type": "code",
   "execution_count": 14,
   "metadata": {},
   "outputs": [
    {
     "data": {
      "text/html": [
       "<div>\n",
       "<style scoped>\n",
       "    .dataframe tbody tr th:only-of-type {\n",
       "        vertical-align: middle;\n",
       "    }\n",
       "\n",
       "    .dataframe tbody tr th {\n",
       "        vertical-align: top;\n",
       "    }\n",
       "\n",
       "    .dataframe thead th {\n",
       "        text-align: right;\n",
       "    }\n",
       "</style>\n",
       "<table border=\"1\" class=\"dataframe\">\n",
       "  <thead>\n",
       "    <tr style=\"text-align: right;\">\n",
       "      <th></th>\n",
       "      <th>sp500</th>\n",
       "      <th>tnx</th>\n",
       "      <th>vix</th>\n",
       "      <th>y</th>\n",
       "    </tr>\n",
       "  </thead>\n",
       "  <tbody>\n",
       "    <tr>\n",
       "      <th>3015</th>\n",
       "      <td>2260.959961</td>\n",
       "      <td>2.553</td>\n",
       "      <td>11.43</td>\n",
       "      <td>2258.840088</td>\n",
       "    </tr>\n",
       "    <tr>\n",
       "      <th>3016</th>\n",
       "      <td>2263.790039</td>\n",
       "      <td>2.543</td>\n",
       "      <td>11.44</td>\n",
       "      <td>2266.149902</td>\n",
       "    </tr>\n",
       "    <tr>\n",
       "      <th>3017</th>\n",
       "      <td>2268.879883</td>\n",
       "      <td>2.563</td>\n",
       "      <td>11.99</td>\n",
       "      <td>2249.110107</td>\n",
       "    </tr>\n",
       "    <tr>\n",
       "      <th>3018</th>\n",
       "      <td>2249.919922</td>\n",
       "      <td>2.506</td>\n",
       "      <td>12.95</td>\n",
       "      <td>2244.560059</td>\n",
       "    </tr>\n",
       "    <tr>\n",
       "      <th>3019</th>\n",
       "      <td>2249.260010</td>\n",
       "      <td>2.477</td>\n",
       "      <td>13.37</td>\n",
       "      <td>2233.620117</td>\n",
       "    </tr>\n",
       "  </tbody>\n",
       "</table>\n",
       "</div>"
      ],
      "text/plain": [
       "            sp500    tnx    vix            y\n",
       "3015  2260.959961  2.553  11.43  2258.840088\n",
       "3016  2263.790039  2.543  11.44  2266.149902\n",
       "3017  2268.879883  2.563  11.99  2249.110107\n",
       "3018  2249.919922  2.506  12.95  2244.560059\n",
       "3019  2249.260010  2.477  13.37  2233.620117"
      ]
     },
     "execution_count": 14,
     "metadata": {},
     "output_type": "execute_result"
    }
   ],
   "source": [
    "test_dict = {'sp500': X[:,0], 'tnx':X[:,1], 'vix':X[:,2], 'y':y}\n",
    "test_dict_df = pd.DataFrame(data=test_dict)\n",
    "\n",
    "test_dict_df.tail()"
   ]
  },
  {
   "cell_type": "code",
   "execution_count": 15,
   "metadata": {},
   "outputs": [
    {
     "data": {
      "text/html": [
       "<div>\n",
       "<style scoped>\n",
       "    .dataframe tbody tr th:only-of-type {\n",
       "        vertical-align: middle;\n",
       "    }\n",
       "\n",
       "    .dataframe tbody tr th {\n",
       "        vertical-align: top;\n",
       "    }\n",
       "\n",
       "    .dataframe thead th {\n",
       "        text-align: right;\n",
       "    }\n",
       "</style>\n",
       "<table border=\"1\" class=\"dataframe\">\n",
       "  <thead>\n",
       "    <tr style=\"text-align: right;\">\n",
       "      <th></th>\n",
       "      <th>sp500</th>\n",
       "      <th>tnx</th>\n",
       "      <th>vix</th>\n",
       "      <th>y</th>\n",
       "    </tr>\n",
       "  </thead>\n",
       "  <tbody>\n",
       "    <tr>\n",
       "      <th>3015</th>\n",
       "      <td>2260.959961</td>\n",
       "      <td>2.553</td>\n",
       "      <td>11.43</td>\n",
       "      <td>2258.840088</td>\n",
       "    </tr>\n",
       "    <tr>\n",
       "      <th>3016</th>\n",
       "      <td>2263.790039</td>\n",
       "      <td>2.543</td>\n",
       "      <td>11.44</td>\n",
       "      <td>2266.149902</td>\n",
       "    </tr>\n",
       "    <tr>\n",
       "      <th>3017</th>\n",
       "      <td>2268.879883</td>\n",
       "      <td>2.563</td>\n",
       "      <td>11.99</td>\n",
       "      <td>2249.110107</td>\n",
       "    </tr>\n",
       "    <tr>\n",
       "      <th>3018</th>\n",
       "      <td>2249.919922</td>\n",
       "      <td>2.506</td>\n",
       "      <td>12.95</td>\n",
       "      <td>2244.560059</td>\n",
       "    </tr>\n",
       "    <tr>\n",
       "      <th>3019</th>\n",
       "      <td>2249.260010</td>\n",
       "      <td>2.477</td>\n",
       "      <td>13.37</td>\n",
       "      <td>2233.620117</td>\n",
       "    </tr>\n",
       "  </tbody>\n",
       "</table>\n",
       "</div>"
      ],
      "text/plain": [
       "            sp500    tnx    vix            y\n",
       "3015  2260.959961  2.553  11.43  2258.840088\n",
       "3016  2263.790039  2.543  11.44  2266.149902\n",
       "3017  2268.879883  2.563  11.99  2249.110107\n",
       "3018  2249.919922  2.506  12.95  2244.560059\n",
       "3019  2249.260010  2.477  13.37  2233.620117"
      ]
     },
     "execution_count": 15,
     "metadata": {},
     "output_type": "execute_result"
    }
   ],
   "source": [
    "test_dict_df= test_dict_df.dropna(axis=0)#drop rows which may contain missing values\n",
    "test_dict_df.tail()"
   ]
  },
  {
   "cell_type": "code",
   "execution_count": 16,
   "metadata": {
    "scrolled": true
   },
   "outputs": [
    {
     "name": "stdout",
     "output_type": "stream",
     "text": [
      "(3016, 3) (3016,)\n"
     ]
    }
   ],
   "source": [
    "X = test_dict_df.values[:,0:3]\n",
    "y = test_dict_df.values[:,3]\n",
    "print(X.shape, y.shape)"
   ]
  },
  {
   "cell_type": "code",
   "execution_count": 17,
   "metadata": {},
   "outputs": [
    {
     "name": "stdout",
     "output_type": "stream",
     "text": [
      "(3016, 3) (3016,)\n"
     ]
    }
   ],
   "source": [
    "y= (y- min(y))/(max(y)- min(y)) #??? normalsation\n",
    "X= (X- np.min(X,axis=0))/(np.max(X, axis=0)-np.min(X,axis=0))\n",
    "\n",
    "print(X.shape, y.shape)"
   ]
  },
  {
   "cell_type": "code",
   "execution_count": 18,
   "metadata": {},
   "outputs": [
    {
     "name": "stdout",
     "output_type": "stream",
     "text": [
      "[[0.32945915 0.73518805 0.05903903]\n",
      " [0.32066402 0.7514168  0.05762998]\n",
      " [0.31796211 0.7498712  0.05917993]\n",
      " ...\n",
      " [0.99821959 0.30834621 0.02958997]\n",
      " [0.98633389 0.29366306 0.04311681]\n",
      " [0.9859202  0.28619268 0.0490348 ]] [0.32425474 0.32321055 0.32292921 ... 0.98934587 0.98650095 0.97966075]\n"
     ]
    }
   ],
   "source": [
    "print(X,y)"
   ]
  },
  {
   "cell_type": "code",
   "execution_count": 19,
   "metadata": {},
   "outputs": [
    {
     "name": "stdout",
     "output_type": "stream",
     "text": [
      "(3014, 3, 3) (3014,)\n"
     ]
    }
   ],
   "source": [
    "time_steps= 3 #1 to 100 days ahead\n",
    "X_new= np.zeros((X.shape[0] - time_steps +1, time_steps, X.shape[1]))\n",
    "y_new= np.zeros((y.shape[0] -time_steps +1,))\n",
    "for ix in range(X_new.shape[0]):\n",
    "    for jx in range(time_steps):\n",
    "        X_new[ix, jx, :]= X[ix +jx, :]\n",
    "    y_new[ix]= y[ix + time_steps -1]\n",
    "print (X_new.shape, y_new.shape)"
   ]
  },
  {
   "cell_type": "code",
   "execution_count": 20,
   "metadata": {},
   "outputs": [
    {
     "name": "stdout",
     "output_type": "stream",
     "text": [
      "(2412, 3, 3) (2412,)\n",
      "(602, 3, 3) (602,)\n"
     ]
    }
   ],
   "source": [
    "# split train/test\n",
    "split = int(0.8*X.shape[0])\n",
    "X_train = X_new[:split]\n",
    "X_test = X_new[split:]\n",
    "\n",
    "y_train = y_new[:split]\n",
    "y_test = y_new[split:]\n",
    "\n",
    "print (X_train.shape, y_train.shape)\n",
    "print (X_test.shape, y_test.shape)"
   ]
  },
  {
   "cell_type": "code",
   "execution_count": 21,
   "metadata": {},
   "outputs": [],
   "source": [
    "# data normalisation after split the train/test\n",
    "# for i in range(3):\n",
    "#     y_train[:,i]= (y_train[:,i]- min(y_train[:,i]))/(max(y_train[:,i])- min(y_train[:,i]))\n",
    "#     X_train[:,i,:,:]= (X_train[:,i,:,:]- np.min(X_train[:,i,:,:],axis=0))/(np.max(X_train[:,i,:,:], axis=0)-np.min(X_train[:,i,:,:],axis=0))\n",
    "\n",
    "#     y_test[:,i]= (y_test[:,i]- min(y_test[:,i]))/(max(y_test[:,i])- min(y_test[:,i]))\n",
    "#     X_test[:,i,:,:]= (X_test[:,i,:,:]- np.min(X_test[:,i,:,:],axis=0))/(np.max(X_test[:,i,:,:], axis=0)-np.min(X_test[:,i,:,:],axis=0))"
   ]
  },
  {
   "cell_type": "code",
   "execution_count": 22,
   "metadata": {},
   "outputs": [
    {
     "name": "stdout",
     "output_type": "stream",
     "text": [
      "torch.Size([2412, 3, 3]) torch.Size([2412]) torch.Size([602, 3, 3])\n"
     ]
    }
   ],
   "source": [
    "#convert to torch\n",
    "trainData = torch.from_numpy(X_train)\n",
    "testData = torch.from_numpy(y_train)\n",
    "validateData = torch.from_numpy(X_test)\n",
    "print(trainData.shape, testData.shape, validateData.shape)\n",
    "# testData = testData.view(testData.shape[0],3,-1)"
   ]
  },
  {
   "cell_type": "code",
   "execution_count": 23,
   "metadata": {},
   "outputs": [
    {
     "name": "stdout",
     "output_type": "stream",
     "text": [
      "torch.Size([2412, 1, 3, 3]) torch.Size([2412, 1]) torch.Size([602, 1, 3, 3])\n"
     ]
    }
   ],
   "source": [
    "trainData = trainData.view(2412,-1,time_steps,3)\n",
    "testData = testData.view(2412,-1)\n",
    "\n",
    "validateData = validateData.view(validateData.shape[0],-1,time_steps,3)\n",
    "print(trainData.shape,testData.shape,validateData.shape)"
   ]
  },
  {
   "cell_type": "code",
   "execution_count": 24,
   "metadata": {},
   "outputs": [
    {
     "name": "stdout",
     "output_type": "stream",
     "text": [
      "torch.Size([1, 3, 3]) torch.Size([1])\n"
     ]
    }
   ],
   "source": [
    "train = TensorDataset(trainData, testData)\n",
    "# print(train[0])\n",
    "tr, te = train[0]\n",
    "print(tr.shape, te.shape)"
   ]
  },
  {
   "cell_type": "code",
   "execution_count": 25,
   "metadata": {},
   "outputs": [
    {
     "name": "stdout",
     "output_type": "stream",
     "text": [
      "<class 'torch.Tensor'>\n",
      "torch.Size([256, 1, 3, 3])\n",
      "torch.Size([256, 1])\n"
     ]
    }
   ],
   "source": [
    "#train loader\n",
    "trainloader = DataLoader(train, batch_size=256, shuffle=True)\n",
    "\n",
    "dataiter = iter(trainloader)\n",
    "images, labels = dataiter.next()\n",
    "print(type(images)) \n",
    "print(images.shape)\n",
    "print(labels.shape)"
   ]
  },
  {
   "cell_type": "code",
   "execution_count": 54,
   "metadata": {},
   "outputs": [
    {
     "name": "stdout",
     "output_type": "stream",
     "text": [
      "<class 'torch.Tensor'>\n",
      "torch.Size([1, 9])\n",
      "torch.Size([1])\n"
     ]
    }
   ],
   "source": [
    "#reload tensordata\n",
    "train = TensorDataset(trainData.view(2412, -1).float(), testData.view(-1).float())\n",
    "\n",
    "trainloader = DataLoader(train, batch_size=1, shuffle=True)\n",
    "\n",
    "dataiter = iter(trainloader)\n",
    "images, labels = dataiter.next()\n",
    "print(type(images)) \n",
    "print(images.shape)\n",
    "print(labels.shape)"
   ]
  },
  {
   "cell_type": "code",
   "execution_count": 27,
   "metadata": {},
   "outputs": [
    {
     "name": "stdout",
     "output_type": "stream",
     "text": [
      "torch.Size([2412, 9]) torch.Size([2412])\n",
      "<class 'torch.Tensor'>\n"
     ]
    }
   ],
   "source": [
    "print(trainData.view(2412, -1).shape, testData.view(-1).shape)\n",
    "print(type(trainData))"
   ]
  },
  {
   "cell_type": "code",
   "execution_count": 28,
   "metadata": {},
   "outputs": [],
   "source": [
    "# define baseline MLP model\n",
    "class BaselineModel(nn.Module):\n",
    "    def __init__(self, input_size, hidden_size, num_classes):\n",
    "        super(BaselineModel, self).__init__()\n",
    "        self.fc1 = nn.Linear(input_size, hidden_size) \n",
    "        self.fc2 = nn.Linear(hidden_size, num_classes)  \n",
    "    \n",
    "    def forward(self, x):\n",
    "        out = self.fc1(x)\n",
    "        out = F.relu(out)\n",
    "        out = self.fc2(out)\n",
    "#         if not self.training:\n",
    "#             out = F.softmax(out, dim=1)\n",
    "        return out\n",
    "    "
   ]
  },
  {
   "cell_type": "code",
   "execution_count": 55,
   "metadata": {},
   "outputs": [
    {
     "name": "stderr",
     "output_type": "stream",
     "text": [
      "E:\\anacoda\\lib\\site-packages\\torch\\nn\\modules\\loss.py:443: UserWarning: Using a target size (torch.Size([1])) that is different to the input size (torch.Size([1, 1])). This will likely lead to incorrect results due to broadcasting. Please ensure they have the same size.\n",
      "  return F.mse_loss(input, target, reduction=self.reduction)\n"
     ]
    },
    {
     "name": "stdout",
     "output_type": "stream",
     "text": [
      "Epoch 0, loss 37.82\n",
      "Epoch 1, loss 0.48\n",
      "Epoch 2, loss 0.34\n",
      "Epoch 3, loss 0.27\n",
      "Epoch 4, loss 0.26\n",
      "Epoch 5, loss 0.26\n",
      "Epoch 6, loss 0.25\n",
      "Epoch 7, loss 0.24\n",
      "Epoch 8, loss 0.23\n",
      "Epoch 9, loss 0.23\n",
      "**** Finished Training ****\n"
     ]
    }
   ],
   "source": [
    "# build the model \n",
    "model = BaselineModel(9, 9, 1)\n",
    "\n",
    "# define the loss function and the optimiser\n",
    "loss_function = nn.MSELoss()\n",
    "optimiser = optim.Adam(model.parameters())\n",
    "\n",
    "# the epoch loop\n",
    "for epoch in range(10):\n",
    "    running_loss = 0.0\n",
    "    for data in trainloader:\n",
    "        # get the inputs\n",
    "        inputs, labels = data\n",
    "        \n",
    "        # zero the parameter gradients\n",
    "        optimiser.zero_grad()\n",
    "        \n",
    "        # forward + loss + backward + optimise (update weights)\n",
    "        outputs = model(inputs)\n",
    "        loss = loss_function(outputs, labels)\n",
    "        loss.backward()\n",
    "        optimiser.step()\n",
    "\n",
    "        # keep track of the loss this epoch\n",
    "        running_loss += loss.item()\n",
    "    print(\"Epoch %d, loss %4.2f\" % (epoch, running_loss))\n",
    "print('**** Finished Training ****')"
   ]
  },
  {
   "cell_type": "code",
   "execution_count": 56,
   "metadata": {},
   "outputs": [
    {
     "data": {
      "image/png": "[encoded data removed]",
      "text/plain": [
       "<Figure size 432x288 with 1 Axes>"
      ]
     },
     "metadata": {
      "needs_background": "light"
     },
     "output_type": "display_data"
    }
   ],
   "source": [
    "y_pred= model(validateData.view(602,-1).float())\n",
    "y_pred.shape\n",
    "\n",
    "plt.plot(y_pred.cpu().detach().numpy(), 'r-')\n",
    "plt.plot(y_test, 'b-')\n",
    "plt.show()"
   ]
  },
  {
   "cell_type": "code",
   "execution_count": 61,
   "metadata": {
    "scrolled": false
   },
   "outputs": [
    {
     "data": {
      "application/vnd.jupyter.widget-view+json": {
       "model_id": "caa89be06ec44c17a9a615d2daaf19d5",
       "version_major": 2,
       "version_minor": 0
      },
      "text/plain": [
       "HBox(children=(IntProgress(value=0, description='0/2(t)', max=2412), HTML(value='')))"
      ]
     },
     "metadata": {},
     "output_type": "display_data"
    },
    {
     "name": "stderr",
     "output_type": "stream",
     "text": [
      "E:\\anacoda\\lib\\site-packages\\torch\\nn\\modules\\loss.py:443: UserWarning: Using a target size (torch.Size([1])) that is different to the input size (torch.Size([1, 1])). This will likely lead to incorrect results due to broadcasting. Please ensure they have the same size.\n",
      "  return F.mse_loss(input, target, reduction=self.reduction)\n"
     ]
    },
    {
     "name": "stdout",
     "output_type": "stream",
     "text": [
      "\n"
     ]
    },
    {
     "data": {
      "application/vnd.jupyter.widget-view+json": {
       "model_id": "700e9c488bbe4a0f86ad58dbac1749dd",
       "version_major": 2,
       "version_minor": 0
      },
      "text/plain": [
       "HBox(children=(IntProgress(value=0, description='1/2(t)', max=2412), HTML(value='')))"
      ]
     },
     "metadata": {},
     "output_type": "display_data"
    },
    {
     "name": "stdout",
     "output_type": "stream",
     "text": [
      "\n"
     ]
    },
    {
     "data": {
      "text/plain": [
       "[{'train_steps': 2412, 'validation_steps': None},\n",
       " {'train_steps': 2412, 'validation_steps': None}]"
      ]
     },
     "execution_count": 61,
     "metadata": {},
     "output_type": "execute_result"
    }
   ],
   "source": [
    "# build the model \n",
    "model = BaselineModel(9, 9, 1).to('cuda:0')\n",
    "# summary(model,(1, 9, 9))\n",
    "\n",
    "# define the loss function and the optimiser\n",
    "loss_function = nn.MSELoss()\n",
    "optimiser = optim.Adam(model.parameters())\n",
    "\n",
    "#training on gpu\n",
    "trial = Trial(model, optimiser, loss_function).to('cuda:0')\n",
    "trial.with_generators(trainloader)\n",
    "trial.run(epochs=2)"
   ]
  },
  {
   "cell_type": "code",
   "execution_count": 62,
   "metadata": {},
   "outputs": [
    {
     "data": {
      "image/png": "[encoded data removed]",
      "text/plain": [
       "<Figure size 432x288 with 1 Axes>"
      ]
     },
     "metadata": {
      "needs_background": "light"
     },
     "output_type": "display_data"
    }
   ],
   "source": [
    "y_pred= model(validateData.view(602,-1).float().to('cuda:0'))\n",
    "y_pred.shape\n",
    "\n",
    "plt.plot(y_pred.cpu().detach().numpy(), 'r-')\n",
    "plt.plot(y_test, 'b-')\n",
    "plt.show()"
   ]
  },
  {
   "cell_type": "code",
   "execution_count": 33,
   "metadata": {},
   "outputs": [
    {
     "name": "stdout",
     "output_type": "stream",
     "text": [
      "torch.Size([1, 3, 3]) torch.Size([1])\n"
     ]
    }
   ],
   "source": [
    "print(trainData[0].shape,testData[0].shape)"
   ]
  },
  {
   "cell_type": "code",
   "execution_count": 34,
   "metadata": {},
   "outputs": [
    {
     "data": {
      "text/plain": [
       "tensor([[-0.1574, -0.0824,  0.4535,  ..., -0.0418, -0.0188, -0.3080],\n",
       "        [-0.2582, -0.3554,  0.1467,  ..., -0.1900, -0.0995, -0.2473],\n",
       "        [-0.1392, -0.4540,  0.4291,  ..., -0.2254, -0.1588, -0.0534],\n",
       "        ...,\n",
       "        [-0.1130, -0.4653,  0.4472,  ..., -0.2602, -0.1678, -0.0200],\n",
       "        [-0.2620, -0.4136,  0.2860,  ..., -0.1450, -0.1238, -0.2442],\n",
       "        [-0.1480, -0.4005,  0.2917,  ..., -0.2961, -0.1389, -0.0883]],\n",
       "       grad_fn=<CopySlices>)"
      ]
     },
     "execution_count": 34,
     "metadata": {},
     "output_type": "execute_result"
    }
   ],
   "source": [
    "class gradient_generator():\n",
    "    \n",
    "    def __init__(self, model):\n",
    "        self.model = model.to('cpu')\n",
    "        self.gradients = None\n",
    "        # Put model in evaluation mode\n",
    "        self.model.eval()\n",
    "        # Hook the first layer to get the gradient\n",
    "        self.hook = self.hook_layers()\n",
    "    def hook_layers(self):    \n",
    "        def hook_function(module, grad_in, grad_out):\n",
    "#             print(\"hook called\")\n",
    "#             print(grad_out[0])\n",
    "            self.gradients = grad_out[0]\n",
    "        first_layer = list(self.model._modules.items())[0][1]\n",
    "        hook = first_layer.register_forward_hook(hook_function)\n",
    "        return hook\n",
    "    def generate_gradient(self, inputs):\n",
    "        self.model.zero_grad()\n",
    "        _ = model(inputs)\n",
    "        self.hook.remove()\n",
    "        return self.gradients\n",
    "    \n",
    "\n",
    "grad = torch.zeros((2412,9))\n",
    "i = 0\n",
    "for data in trainloader:\n",
    "    # get the inputs\n",
    "    inputs, labels = data\n",
    "    \n",
    "    GG = gradient_generator(model)\n",
    "    temp = GG.generate_gradient(inputs)\n",
    "    grad[i,:] = temp\n",
    "    i += 1\n",
    "\n",
    "grad"
   ]
  },
  {
   "cell_type": "code",
   "execution_count": 35,
   "metadata": {},
   "outputs": [
    {
     "data": {
      "text/plain": [
       "array([-0.16463761, -0.29277754,  0.37697732, -0.51863533,  0.6977678 ,\n",
       "        0.24593058, -0.16429356, -0.09562986, -0.18672213], dtype=float32)"
      ]
     },
     "execution_count": 35,
     "metadata": {},
     "output_type": "execute_result"
    }
   ],
   "source": [
    "np.mean(grad.data.numpy(), axis = 0)"
   ]
  },
  {
   "cell_type": "code",
   "execution_count": 36,
   "metadata": {},
   "outputs": [
    {
     "data": {
      "text/plain": [
       "<matplotlib.image.AxesImage at 0x136e2b77f28>"
      ]
     },
     "execution_count": 36,
     "metadata": {},
     "output_type": "execute_result"
    },
    {
     "data": {
      "image/png": "[encoded data removed]",
      "text/plain": [
       "<Figure size 432x288 with 1 Axes>"
      ]
     },
     "metadata": {
      "needs_background": "light"
     },
     "output_type": "display_data"
    }
   ],
   "source": [
    "a = trainData.view(2412,-1).float()\n",
    "image = a[500:520, :]\n",
    "grad_img = grad.data[500:520,:]\n",
    "\n",
    "plt.imshow(grad_img * image, cmap=plt.get_cmap('gray'))"
   ]
  },
  {
   "cell_type": "code",
   "execution_count": 37,
   "metadata": {},
   "outputs": [
    {
     "name": "stdout",
     "output_type": "stream",
     "text": [
      "torch.Size([602, 1, 3, 3])\n",
      "<class 'torch.Tensor'>\n",
      "torch.Size([1, 9])\n"
     ]
    }
   ],
   "source": [
    "print(validateData.shape)\n",
    "validateloader = DataLoader(validateData.view(602,-1).float(), batch_size=1, shuffle=True)\n",
    "\n",
    "dataiter = iter(validateloader)\n",
    "images = dataiter.next()\n",
    "print(type(images)) \n",
    "print(images.shape)"
   ]
  },
  {
   "cell_type": "code",
   "execution_count": 38,
   "metadata": {},
   "outputs": [
    {
     "data": {
      "text/plain": [
       "tensor([[-0.0041, -0.1021,  0.8426,  ..., -0.0040, -0.0516, -0.1610],\n",
       "        [-0.0178, -0.0786,  0.8720,  ...,  0.0421, -0.0424, -0.1992],\n",
       "        [-0.0022, -0.1127,  0.8973,  ...,  0.0366, -0.0529, -0.1726],\n",
       "        ...,\n",
       "        [ 0.0024, -0.0748,  0.9253,  ...,  0.0429, -0.0422, -0.1795],\n",
       "        [ 0.0085, -0.0972,  0.9246,  ...,  0.0244, -0.0510, -0.1500],\n",
       "        [-0.0414, -0.0679,  0.8822,  ...,  0.0743, -0.0310, -0.2288]],\n",
       "       grad_fn=<CopySlices>)"
      ]
     },
     "execution_count": 38,
     "metadata": {},
     "output_type": "execute_result"
    }
   ],
   "source": [
    "grad = torch.zeros((602,9))\n",
    "i = 0\n",
    "for data in validateloader:\n",
    "    # get the inputs\n",
    "    inputs = data\n",
    "    \n",
    "    GG = gradient_generator(model)\n",
    "    temp = GG.generate_gradient(inputs)\n",
    "    grad[i,:] = temp\n",
    "    i += 1\n",
    "\n",
    "grad"
   ]
  },
  {
   "cell_type": "code",
   "execution_count": 39,
   "metadata": {},
   "outputs": [
    {
     "data": {
      "text/plain": [
       "<matplotlib.image.AxesImage at 0x136e28851d0>"
      ]
     },
     "execution_count": 39,
     "metadata": {},
     "output_type": "execute_result"
    },
    {
     "data": {
      "image/png": "[encoded data removed]",
      "text/plain": [
       "<Figure size 432x288 with 1 Axes>"
      ]
     },
     "metadata": {
      "needs_background": "light"
     },
     "output_type": "display_data"
    }
   ],
   "source": [
    "image = validateData.view(602,-1).float()\n",
    "grad_img = grad.data\n",
    "\n",
    "plt.imshow(grad_img[500:520,:] * image[500:520,:], cmap=plt.get_cmap('gray'))"
   ]
  },
  {
   "cell_type": "code",
   "execution_count": 40,
   "metadata": {},
   "outputs": [
    {
     "name": "stdout",
     "output_type": "stream",
     "text": [
      "[-0.01525475 -0.08436696  0.8895661  -0.52527714  1.453874   -0.04992666\n",
      "  0.05217005 -0.0432175  -0.19696642]\n"
     ]
    }
   ],
   "source": [
    "data = grad_img\n",
    "data = data.numpy()\n",
    "data = np.mean(data, axis = 0)\n",
    "\n",
    "print(data)"
   ]
  },
  {
   "cell_type": "code",
   "execution_count": 41,
   "metadata": {},
   "outputs": [
    {
     "name": "stdout",
     "output_type": "stream",
     "text": [
      "(array([2, 4, 6], dtype=int64),)\n"
     ]
    }
   ],
   "source": [
    "print(np.where(data>0))"
   ]
  },
  {
   "cell_type": "code",
   "execution_count": null,
   "metadata": {},
   "outputs": [],
   "source": []
  }
 ],
 "metadata": {
  "kernelspec": {
   "display_name": "Python 3",
   "language": "python",
   "name": "python3"
  },
  "language_info": {
   "codemirror_mode": {
    "name": "ipython",
    "version": 3
   },
   "file_extension": ".py",
   "mimetype": "text/x-python",
   "name": "python",
   "nbconvert_exporter": "python",
   "pygments_lexer": "ipython3",
   "version": "3.7.3"
  }
 },
 "nbformat": 4,
 "nbformat_minor": 2
}
