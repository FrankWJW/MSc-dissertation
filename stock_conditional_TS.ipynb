{
 "cells": [
  {
   "cell_type": "code",
   "execution_count": 247,
   "metadata": {},
   "outputs": [
    {
     "name": "stdout",
     "output_type": "stream",
     "text": [
      "The autoreload extension is already loaded. To reload it, use:\n",
      "  %reload_ext autoreload\n"
     ]
    }
   ],
   "source": [
    "%load_ext autoreload\n",
    "%autoreload 2\n",
    "\n",
    "import numpy as np\n",
    "import pandas as pd\n",
    "import torch\n",
    "import torch.nn as nn\n",
    "import torch.nn.functional as F\n",
    "# from keras.layers import Dense, Dropout, Activation, LSTM, Convolution1D, MaxPooling1D, Flatten\n",
    "# from keras.models import Sequential\n",
    "import matplotlib.pyplot as plt\n",
    "\n",
    "%matplotlib inline\n",
    "from torchbearer import Trial\n",
    "import os"
   ]
  },
  {
   "cell_type": "code",
   "execution_count": 248,
   "metadata": {},
   "outputs": [],
   "source": [
    "import torch\n",
    "import torch.nn.functional as F\n",
    "import torchvision.transforms as transforms\n",
    "import torchbearer\n",
    "from torch import nn\n",
    "from torch import optim\n",
    "from torch.utils.data import DataLoader, TensorDataset, Dataset\n",
    "from torchvision.datasets import MNIST\n",
    "from torchbearer import Trial\n",
    "import torchvision.transforms as transforms"
   ]
  },
  {
   "cell_type": "code",
   "execution_count": 249,
   "metadata": {
    "scrolled": false
   },
   "outputs": [
    {
     "name": "stdout",
     "output_type": "stream",
     "text": [
      " 驱动器 D 中的卷没有标签。\n",
      " 卷的序列号是 14DF-F7F4\n",
      "\n",
      " D:\\git\\Stock-Market-Price-Prediction-master 的目录\n",
      "\n",
      "2019/07/21  18:38    <DIR>          .\n",
      "2019/07/21  18:38    <DIR>          ..\n",
      "2019/07/20  14:17    <DIR>          .ipynb_checkpoints\n",
      "2019/07/20  14:17           368,007 ^DJI.csv\n",
      "2019/07/20  14:17           104,540 ^GSPC.csv\n",
      "2019/07/20  14:17           167,205 ^GSPC_2011_06_01-2019_06_01.csv\n",
      "2019/07/20  14:17    <DIR>          __pycache__\n",
      "2019/07/20  14:17            41,117 1d_conv.weights\n",
      "2019/07/20  14:17           382,435 5_1_CNN-Copy1.ipynb\n",
      "2019/07/20  14:17           335,219 Archive.zip\n",
      "2019/07/20  14:17               658 CBOE yearly 04-18.csv\n",
      "2019/07/20  14:17    <DIR>          data\n",
      "2019/07/20  14:17           189,414 EUR_GBP 05-16.csv\n",
      "2019/07/20  14:17           189,007 EUR_JPY 05-16.csv\n",
      "2019/07/20  14:17           189,396 EUR_USD 05-16.csv\n",
      "2019/07/20  14:17           189,370 GBP_JPY 05-16.csv\n",
      "2019/07/20  14:17           189,425 GBP_USD 05-16.csv\n",
      "2019/07/20  14:17             8,500 misc_functions.py\n",
      "2019/07/20  14:17    <DIR>          MNIST\n",
      "2019/07/20  14:17             1,137 README.md\n",
      "2019/07/20  14:17           206,054 SP500 05-16.csv\n",
      "2019/07/21  18:38            64,318 stock_conditional_TS.ipynb\n",
      "2019/07/20  14:17           126,560 stock_conv1d.ipynb\n",
      "2019/07/20  14:17           136,934 stock_conv1d-Copy1.ipynb\n",
      "2019/07/20  14:17            70,938 stock_conv1d-out-of-sample.ipynb\n",
      "2019/07/21  18:31           211,812 stock_conv1d-pytorch.ipynb\n",
      "2019/07/20  14:17           162,338 stock_dilatedconv+lstm.ipynb\n",
      "2019/07/21  10:48             9,467 stock_lstm+conv1d.ipynb\n",
      "2019/07/20  14:17            58,239 stock_nn.ipynb\n",
      "2019/07/20  14:17            63,055 stock_rnn_lstm.ipynb\n",
      "2019/07/20  14:17             1,562 vanillabackprop.py\n",
      "2019/07/20  14:17           183,293 Volatility 05-16.csv\n",
      "              26 个文件      3,650,000 字节\n",
      "               6 个目录 204,099,723,264 可用字节\n"
     ]
    }
   ],
   "source": [
    "%ls"
   ]
  },
  {
   "cell_type": "code",
   "execution_count": 250,
   "metadata": {},
   "outputs": [
    {
     "data": {
      "text/plain": [
       "'D:\\\\git\\\\Stock-Market-Price-Prediction-master\\\\data'"
      ]
     },
     "execution_count": 250,
     "metadata": {},
     "output_type": "execute_result"
    }
   ],
   "source": [
    "datapath = os.path.join(os.getcwd(), 'data')\n",
    "datapath"
   ]
  },
  {
   "cell_type": "code",
   "execution_count": 251,
   "metadata": {},
   "outputs": [
    {
     "name": "stdout",
     "output_type": "stream",
     "text": [
      " 驱动器 D 中的卷没有标签。\n",
      " 卷的序列号是 14DF-F7F4\n",
      "\n",
      " D:\\git\\Stock-Market-Price-Prediction-master\\data 的目录\n",
      "\n",
      "2019/07/20  14:17    <DIR>          .\n",
      "2019/07/20  14:17    <DIR>          ..\n",
      "2019/07/20  14:17           178,424 ^TNX.csv\n",
      "2019/07/20  14:17           193,366 ^VIX.csv\n",
      "2019/07/20  14:17               658 CBOE yearly 04-18.csv\n",
      "2019/07/20  14:17           189,414 EUR_GBP 05-16.csv\n",
      "2019/07/20  14:17           189,007 EUR_JPY 05-16.csv\n",
      "2019/07/20  14:17           189,396 EUR_USD 05-16.csv\n",
      "2019/07/20  14:17           189,370 GBP_JPY 05-16.csv\n",
      "2019/07/20  14:17           189,425 GBP_USD 05-16.csv\n",
      "2019/07/20  14:17           206,054 SP500 05-16.csv\n",
      "               9 个文件      1,525,114 字节\n",
      "               2 个目录 204,099,723,264 可用字节\n"
     ]
    }
   ],
   "source": [
    "%ls data"
   ]
  },
  {
   "cell_type": "code",
   "execution_count": 252,
   "metadata": {
    "scrolled": true
   },
   "outputs": [
    {
     "name": "stdout",
     "output_type": "stream",
     "text": [
      "CBOE yearly 04-18.csv \n",
      "    Change Date     Rate (%)\n",
      "32   13-Dec-17  1.25 - 1.50\n",
      "33   21-Mar-18  1.50 - 1.75\n",
      "34   13-Jun-18  1.75 - 2.00\n",
      "35   26-Sep-18  2.00 - 2.25\n",
      "36   19-Dec-18  2.25 - 2.50\n",
      "EUR_GBP 05-16.csv \n",
      "               Date   Price    Open    High     Low Change %\n",
      "3125  Jan 07, 2005  0.6981  0.7022  0.7049  0.6971   -0.64%\n",
      "3126  Jan 06, 2005  0.7026  0.7041  0.7055  0.7016   -0.24%\n",
      "3127  Jan 05, 2005  0.7043  0.7049  0.7073  0.7021   -0.17%\n",
      "3128  Jan 04, 2005  0.7055  0.7069  0.7076  0.7044   -0.20%\n",
      "3129  Jan 03, 2005  0.7069  0.7058  0.7097  0.7038   -0.01%\n",
      "EUR_JPY 05-16.csv \n",
      "               Date   Price    Open    High     Low Change %\n",
      "3125  Jan 07, 2005  136.80  138.23  138.74  136.44   -1.16%\n",
      "3126  Jan 06, 2005  138.41  138.03  138.69  137.85    0.28%\n",
      "3127  Jan 05, 2005  138.03  138.85  139.02  137.68   -0.58%\n",
      "3128  Jan 04, 2005  138.83  138.34  139.05  137.77    0.38%\n",
      "3129  Jan 03, 2005  138.31  139.07  139.31  138.06   -0.40%\n",
      "EUR_USD 05-16.csv \n",
      "               Date   Price    Open    High     Low Change %\n",
      "3125  Jan 07, 2005  1.3054  1.3171  1.3251  1.3024   -0.89%\n",
      "3126  Jan 06, 2005  1.3171  1.3262  1.3286  1.3156   -0.69%\n",
      "3127  Jan 05, 2005  1.3262  1.3282  1.3305  1.3215   -0.08%\n",
      "3128  Jan 04, 2005  1.3272  1.3466  1.3496  1.3249   -1.42%\n",
      "3129  Jan 03, 2005  1.3463  1.3547  1.3582  1.3386   -0.70%\n",
      "GBP_JPY 05-16.csv \n",
      "               Date   Price    Open    High     Low Change %\n",
      "3125  Jan 07, 2005  195.99  196.83  197.30  195.37   -0.52%\n",
      "3126  Jan 06, 2005  197.01  195.99  197.40  195.78    0.54%\n",
      "3127  Jan 05, 2005  195.96  196.93  197.04  195.53   -0.42%\n",
      "3128  Jan 04, 2005  196.78  195.69  197.08  195.05    0.60%\n",
      "3129  Jan 03, 2005  195.61  197.04  197.18  195.31   -0.45%\n",
      "GBP_USD 05-16.csv \n",
      "               Date   Price    Open    High     Low Change %\n",
      "3125  Jan 07, 2005  1.8699  1.8755  1.8867  1.8648   -0.27%\n",
      "3126  Jan 06, 2005  1.8750  1.8828  1.8857  1.8695   -0.42%\n",
      "3127  Jan 05, 2005  1.8830  1.8838  1.8903  1.8727    0.04%\n",
      "3128  Jan 04, 2005  1.8822  1.9045  1.9085  1.8781   -1.16%\n",
      "3129  Jan 03, 2005  1.9043  1.9199  1.9205  1.8981   -0.75%\n",
      "SP500 05-16.csv \n",
      "             Date        Price         Open         High          Low  \\\n",
      "3016  2016/12/23  2263.790039  2260.250000  2263.790039  2258.840088   \n",
      "3017  2016/12/27  2268.879883  2266.229980  2273.820068  2266.149902   \n",
      "3018  2016/12/28  2249.919922  2270.229980  2271.310059  2249.110107   \n",
      "3019  2016/12/29  2249.260010  2249.500000  2254.510010  2244.560059   \n",
      "3020  2016/12/30  2238.830078  2251.610107  2253.580078  2233.620117   \n",
      "\n",
      "          Volume  \n",
      "3016  2020550000  \n",
      "3017  1987080000  \n",
      "3018  2392360000  \n",
      "3019  2336370000  \n",
      "3020  2670900000  \n",
      "^TNX.csv \n",
      "             Date   Open   High    Low  Close  Adj Close  Volume\n",
      "3016  2016-12-23  2.541  2.545  2.526  2.543      2.543     0.0\n",
      "3017  2016-12-27  2.552  2.576  2.550  2.563      2.563     0.0\n",
      "3018  2016-12-28  2.560  2.563  2.503  2.506      2.506     0.0\n",
      "3019  2016-12-29  2.486  2.497  2.460  2.477      2.477     0.0\n",
      "3020  2016-12-30  2.474  2.483  2.432  2.446      2.446     0.0\n",
      "^VIX.csv \n",
      "             Date   Open   High    Low  Close  Adj Close  Volume\n",
      "3016  2016-12-23  11.38  11.81  11.35  11.44      11.44       0\n",
      "3017  2016-12-27  12.26  12.33  11.84  11.99      11.99       0\n",
      "3018  2016-12-28  11.89  13.04  11.85  12.95      12.95       0\n",
      "3019  2016-12-29  13.15  13.71  12.95  13.37      13.37       0\n",
      "3020  2016-12-30  13.20  14.68  13.05  14.04      14.04       0\n"
     ]
    }
   ],
   "source": [
    "data = []\n",
    "for i, file in enumerate(os.listdir(datapath)):\n",
    "    data.append(pd.read_csv(os.path.join(datapath,file))) \n",
    "for i in range(len(data)):\n",
    "    print(os.listdir(datapath)[i], '\\n', data[i].tail())"
   ]
  },
  {
   "cell_type": "code",
   "execution_count": 253,
   "metadata": {},
   "outputs": [
    {
     "name": "stdout",
     "output_type": "stream",
     "text": [
      "37\n",
      "3130\n",
      "3130\n",
      "3130\n",
      "3130\n",
      "3130\n",
      "3021\n",
      "3021\n",
      "3021\n"
     ]
    }
   ],
   "source": [
    "#TNX: COBE 10 years interest rate\n",
    "#VIX: COBE volitility index\n",
    "for i in range(len(data)):\n",
    "    print(len(data[i]))"
   ]
  },
  {
   "cell_type": "code",
   "execution_count": 254,
   "metadata": {},
   "outputs": [
    {
     "name": "stdout",
     "output_type": "stream",
     "text": [
      "(3021, 4)\n",
      "(3021, 4)\n",
      "(3021, 4)\n"
     ]
    }
   ],
   "source": [
    "# take TNX, VIX and SP500 and prepocessing\n",
    "sp500 = data[-3]\n",
    "tnx = data[-2]\n",
    "vix = data[-1]\n",
    "\n",
    "#take only some columns\n",
    "sp500= sp500.values[:, 1:5]\n",
    "print (sp500.shape)\n",
    "tnx= tnx.values[:, 1:5]\n",
    "print (tnx.shape)\n",
    "vix= vix.values[:, 1:5]\n",
    "print (vix.shape)"
   ]
  },
  {
   "cell_type": "code",
   "execution_count": 255,
   "metadata": {},
   "outputs": [
    {
     "name": "stdout",
     "output_type": "stream",
     "text": [
      "[[1202.079956 1211.920044 1217.800049 1200.319946]\n",
      " [1188.050049 1202.079956 1205.839966 1185.390015]\n",
      " [1183.73999 1188.050049 1192.72998 1183.719971]\n",
      " ...\n",
      " [2249.919922 2270.22998 2271.310059 2249.110107]\n",
      " [2249.26001 2249.5 2254.51001 2244.560059]\n",
      " [2238.830078 2251.610107 2253.580078 2233.6201170000004]]\n"
     ]
    }
   ],
   "source": [
    "print(sp500)"
   ]
  },
  {
   "cell_type": "code",
   "execution_count": 256,
   "metadata": {},
   "outputs": [
    {
     "name": "stdout",
     "output_type": "stream",
     "text": [
      "(3, 3020, 4) (3, 3020)\n"
     ]
    }
   ],
   "source": [
    "# split sample X and target y\n",
    "X = np.zeros((3, 3020, 4))\n",
    "X[0,:,:] = sp500[:3020, :]\n",
    "X[1,:,:] = tnx[:3020, :]\n",
    "X[2,:,:] = vix[:3020, :]\n",
    "\n",
    "y = np.zeros((3,3020))\n",
    "y[0,:] = sp500[1:, 3]\n",
    "y[1,:] = tnx[1:, 3]\n",
    "y[2,:] = vix[1:, 3]\n",
    " \n",
    "print(X.shape, y.shape)"
   ]
  },
  {
   "cell_type": "code",
   "execution_count": 257,
   "metadata": {},
   "outputs": [],
   "source": [
    "# a = int(3020*0.8)\n",
    "# X = np.zeros((3, 3020, 4)) \n",
    "# y = np.zeros((3,3020))\n",
    "# for i, data in enumerate([sp500, tnx, vix]):\n",
    "#     train = data[:a]\n",
    "#     test = data[a:]\n",
    "#     train = (train- np.min(train, axis = 0))/(np.max(train,axis=0)- np.min(train, axis=0))\n",
    "#     test = (test- np.min(test,axis=0))/(np.max(test,axis=0)- np.min(test,axis=0))\n",
    "# #     print(train.shape, test.shape)\n",
    "#     data = np.concatenate((train,test), axis=0)\n",
    "# #     print(i, data.shape)\n",
    "#     X[i,:,:] = data[:3020, :]\n",
    "#     y[i,:] = data[1:, 3]\n",
    "    \n",
    "# print(X.shape, y.shape)"
   ]
  },
  {
   "cell_type": "code",
   "execution_count": 258,
   "metadata": {},
   "outputs": [
    {
     "name": "stdout",
     "output_type": "stream",
     "text": [
      "(3020, 3) (3020,)\n"
     ]
    }
   ],
   "source": [
    "temp1 = X[0, :, 0]\n",
    "temp2 = X[1, :, 3]\n",
    "temp3 = X[2, :, 3]\n",
    "X_temp = np.array([temp1, temp2, temp3]).T\n",
    "X = X_temp\n",
    "\n",
    "y = y[0,:]\n",
    "print(X.shape, y.shape)"
   ]
  },
  {
   "cell_type": "code",
   "execution_count": null,
   "metadata": {},
   "outputs": [],
   "source": []
  },
  {
   "cell_type": "code",
   "execution_count": 259,
   "metadata": {},
   "outputs": [
    {
     "name": "stdout",
     "output_type": "stream",
     "text": [
      "[1202.079956 1188.050049 1183.73999  ... 2268.879883 2249.919922\n",
      " 2249.26001 ] [4.22  4.283 4.277 ... 2.563 2.506 2.477] [14.08 13.98 14.09 ... 11.99 12.95 13.37]\n",
      "[[1202.079956    4.22       14.08    ]\n",
      " [1188.050049    4.283      13.98    ]\n",
      " [1183.73999     4.277      14.09    ]\n",
      " ...\n",
      " [2268.879883    2.563      11.99    ]\n",
      " [2249.919922    2.506      12.95    ]\n",
      " [2249.26001     2.477      13.37    ]] [1185.390015 1183.719971 1183.27002  ... 2249.110107 2244.560059\n",
      " 2233.620117]\n"
     ]
    }
   ],
   "source": [
    "print(temp1, temp2, temp3)\n",
    "print(X, y)"
   ]
  },
  {
   "cell_type": "code",
   "execution_count": 225,
   "metadata": {},
   "outputs": [
    {
     "name": "stdout",
     "output_type": "stream",
     "text": [
      "(3020, 3) (3020,)\n"
     ]
    }
   ],
   "source": [
    "y= (y- min(y))/(max(y)- min(y)) #??? normalsation\n",
    "X= (X- np.min(X,axis=0))/(np.max(X, axis=0)-np.min(X,axis=0))\n",
    "\n",
    "print(X.shape, y.shape)"
   ]
  },
  {
   "cell_type": "code",
   "execution_count": 226,
   "metadata": {},
   "outputs": [
    {
     "name": "stdout",
     "output_type": "stream",
     "text": [
      "(2921, 100, 3) (2921,)\n"
     ]
    }
   ],
   "source": [
    "time_steps= 100 #1 to 100 days ahead\n",
    "X_new= np.zeros((X.shape[0] - time_steps +1, 100, X.shape[1]))\n",
    "y_new= np.zeros((y.shape[0] -time_steps +1,))\n",
    "for ix in range(X_new.shape[0]):\n",
    "    for jx in range(time_steps):\n",
    "        X_new[ix, jx, :]= X[ix +jx, :]\n",
    "    y_new[ix]= y[ix + time_steps -1]\n",
    "print (X_new.shape, y_new.shape)"
   ]
  },
  {
   "cell_type": "code",
   "execution_count": 227,
   "metadata": {},
   "outputs": [
    {
     "name": "stdout",
     "output_type": "stream",
     "text": [
      "(2416, 100, 3) (2416,)\n",
      "(505, 100, 3) (505,)\n"
     ]
    }
   ],
   "source": [
    "# split train/test\n",
    "split = int(0.8*X.shape[0])\n",
    "X_train = X_new[:split]\n",
    "X_test = X_new[split:]\n",
    "\n",
    "y_train = y_new[:split]\n",
    "y_test = y_new[split:]\n",
    "\n",
    "print (X_train.shape, y_train.shape)\n",
    "print (X_test.shape, y_test.shape)"
   ]
  },
  {
   "cell_type": "code",
   "execution_count": 228,
   "metadata": {},
   "outputs": [],
   "source": [
    "# data normalisation after split the train/test\n",
    "# for i in range(3):\n",
    "#     y_train[:,i]= (y_train[:,i]- min(y_train[:,i]))/(max(y_train[:,i])- min(y_train[:,i]))\n",
    "#     X_train[:,i,:,:]= (X_train[:,i,:,:]- np.min(X_train[:,i,:,:],axis=0))/(np.max(X_train[:,i,:,:], axis=0)-np.min(X_train[:,i,:,:],axis=0))\n",
    "\n",
    "#     y_test[:,i]= (y_test[:,i]- min(y_test[:,i]))/(max(y_test[:,i])- min(y_test[:,i]))\n",
    "#     X_test[:,i,:,:]= (X_test[:,i,:,:]- np.min(X_test[:,i,:,:],axis=0))/(np.max(X_test[:,i,:,:], axis=0)-np.min(X_test[:,i,:,:],axis=0))"
   ]
  },
  {
   "cell_type": "code",
   "execution_count": 229,
   "metadata": {
    "scrolled": false
   },
   "outputs": [
    {
     "name": "stdout",
     "output_type": "stream",
     "text": [
      "----------------------------------------------------------------\n",
      "        Layer (type)               Output Shape         Param #\n",
      "================================================================\n",
      "            Conv2d-1            [-1, 64, 86, 1]           2,944\n",
      "            Conv2d-2            [-1, 32, 70, 1]          30,752\n",
      "            Linear-3                    [-1, 1]           2,177\n",
      "================================================================\n",
      "Total params: 35,873\n",
      "Trainable params: 35,873\n",
      "Non-trainable params: 0\n",
      "----------------------------------------------------------------\n",
      "Input size (MB): 0.00\n",
      "Forward/backward pass size (MB): 0.06\n",
      "Params size (MB): 0.14\n",
      "Estimated Total Size (MB): 0.20\n",
      "----------------------------------------------------------------\n",
      "Net(\n",
      "  (conv1): Conv2d(1, 64, kernel_size=(15, 3), stride=(1, 1))\n",
      "  (conv2): Conv2d(64, 32, kernel_size=(15, 1), stride=(1, 1))\n",
      "  (fc1): Linear(in_features=2176, out_features=1, bias=True)\n",
      ")\n"
     ]
    }
   ],
   "source": [
    "#Network model\n",
    "from torchsummary import summary\n",
    "    \n",
    "class Net(nn.Module):  \n",
    "    def __init__(self):\n",
    "        super(Net, self).__init__()\n",
    "        \n",
    "        self.conv1 = nn.Conv2d(1, 64, kernel_size = (15, 3), padding=0)\n",
    "        self.conv2 = nn.Conv2d(64, 32, kernel_size = (15, 1), padding=0)\n",
    "        self.fc1 = nn.Linear(2176 , 1)\n",
    "        \n",
    "        \n",
    "    def forward(self,x):\n",
    "        out = self.conv1(x)\n",
    "        out = F.max_pool2d(out, kernel_size = (3, 1), stride=(1, 1))\n",
    "        out = self.conv2(out)\n",
    "        out = F.max_pool2d(out, kernel_size = (3, 1), stride=(1, 1))\n",
    "        out = out.view(out.shape[0], -1)\n",
    "        out = self.fc1(out)\n",
    "#         out = F.sigmoid(out)\n",
    "        return out\n",
    "\n",
    "    \n",
    "device = torch.device(\"cuda\" if torch.cuda.is_available() else \"cpu\")\n",
    "model = Net().to(device)\n",
    "\n",
    "\n",
    "# summary(your_model, input_size=(channels, H, W))\n",
    "summary(model,(1, 100, 3))\n",
    "print(model)"
   ]
  },
  {
   "cell_type": "code",
   "execution_count": 230,
   "metadata": {},
   "outputs": [
    {
     "name": "stdout",
     "output_type": "stream",
     "text": [
      "torch.Size([2416, 100, 3]) torch.Size([2416]) torch.Size([505, 100, 3])\n"
     ]
    }
   ],
   "source": [
    "#convert to torch\n",
    "trainData = torch.from_numpy(X_train)\n",
    "testData = torch.from_numpy(y_train)\n",
    "validateData = torch.from_numpy(X_test)\n",
    "print(trainData.shape, testData.shape, validateData.shape)\n",
    "# testData = testData.view(testData.shape[0],3,-1)"
   ]
  },
  {
   "cell_type": "code",
   "execution_count": 231,
   "metadata": {},
   "outputs": [
    {
     "name": "stdout",
     "output_type": "stream",
     "text": [
      "torch.Size([2416, 1, 100, 3]) torch.Size([2416, 1]) torch.Size([505, 1, 100, 3])\n"
     ]
    }
   ],
   "source": [
    "trainData = trainData.view(2416,-1,100,3)\n",
    "testData = testData.view(2416,-1)\n",
    "\n",
    "validateData = validateData.view(validateData.shape[0],-1,100,3)\n",
    "print(trainData.shape,testData.shape,validateData.shape)"
   ]
  },
  {
   "cell_type": "code",
   "execution_count": 232,
   "metadata": {},
   "outputs": [
    {
     "name": "stdout",
     "output_type": "stream",
     "text": [
      "torch.Size([1, 100, 3]) torch.Size([1])\n"
     ]
    }
   ],
   "source": [
    "train = TensorDataset(trainData, testData)\n",
    "# print(train[0])\n",
    "tr, te = train[0]\n",
    "print(tr.shape, te.shape)"
   ]
  },
  {
   "cell_type": "code",
   "execution_count": 233,
   "metadata": {},
   "outputs": [
    {
     "name": "stdout",
     "output_type": "stream",
     "text": [
      "<class 'torch.Tensor'>\n",
      "torch.Size([256, 1, 100, 3])\n",
      "torch.Size([256, 1])\n"
     ]
    }
   ],
   "source": [
    "#train loader\n",
    "trainloader = DataLoader(train, batch_size=256, shuffle=True)\n",
    "\n",
    "dataiter = iter(trainloader)\n",
    "images, labels = dataiter.next()\n",
    "print(type(images)) \n",
    "print(images.shape)\n",
    "print(labels.shape)"
   ]
  },
  {
   "cell_type": "code",
   "execution_count": 240,
   "metadata": {},
   "outputs": [
    {
     "data": {
      "text/plain": [
       "tensor([[[[0.4743,    nan, 0.2152],\n",
       "          [0.4960,    nan, 0.1839],\n",
       "          [0.5016,    nan, 0.1644],\n",
       "          ...,\n",
       "          [0.4912,    nan, 0.1506],\n",
       "          [0.5065,    nan, 0.1209],\n",
       "          [0.5140,    nan, 0.1227]]],\n",
       "\n",
       "\n",
       "        [[[0.4424,    nan, 0.0108],\n",
       "          [0.4467,    nan, 0.0094],\n",
       "          [0.4393,    nan, 0.0128],\n",
       "          ...,\n",
       "          [0.4548,    nan, 0.0662],\n",
       "          [0.4604,    nan, 0.0476],\n",
       "          [0.4755,    nan, 0.0324]]],\n",
       "\n",
       "\n",
       "        [[[0.4046,    nan, 0.0874],\n",
       "          [0.4091,    nan, 0.0817],\n",
       "          [0.4111,    nan, 0.0854],\n",
       "          ...,\n",
       "          [0.4038,    nan, 0.0934],\n",
       "          [0.4157,    nan, 0.0843],\n",
       "          [0.4146,    nan, 0.0869]]],\n",
       "\n",
       "\n",
       "        ...,\n",
       "\n",
       "\n",
       "        [[[0.3880,    nan, 0.0355],\n",
       "          [0.3893,    nan, 0.0331],\n",
       "          [0.3923,    nan, 0.0247],\n",
       "          ...,\n",
       "          [0.4596,    nan, 0.0317],\n",
       "          [0.4616,    nan, 0.0297],\n",
       "          [0.4611,    nan, 0.0285]]],\n",
       "\n",
       "\n",
       "        [[[0.6117,    nan, 0.0707],\n",
       "          [0.6057,    nan, 0.0852],\n",
       "          [0.6146,    nan, 0.0686],\n",
       "          ...,\n",
       "          [0.7278,    nan, 0.0420],\n",
       "          [0.7282,    nan, 0.0423],\n",
       "          [0.7308,    nan, 0.0317]]],\n",
       "\n",
       "\n",
       "        [[[0.4225,    nan, 0.1230],\n",
       "          [0.4149,    nan, 0.1491],\n",
       "          [0.4146,    nan, 0.1332],\n",
       "          ...,\n",
       "          [0.4710,    nan, 0.0800],\n",
       "          [0.4714,    nan, 0.0854],\n",
       "          [0.4657,    nan, 0.0940]]]], dtype=torch.float64)"
      ]
     },
     "execution_count": 240,
     "metadata": {},
     "output_type": "execute_result"
    }
   ],
   "source": [
    "images"
   ]
  },
  {
   "cell_type": "code",
   "execution_count": 234,
   "metadata": {},
   "outputs": [],
   "source": [
    "from torch import optim\n",
    "# define the loss function and the optimiser\n",
    "loss_function = nn.MSELoss()\n",
    "optimiser = optim.Adam(model.parameters())\n"
   ]
  },
  {
   "cell_type": "code",
   "execution_count": 235,
   "metadata": {},
   "outputs": [
    {
     "name": "stdout",
     "output_type": "stream",
     "text": [
      "cpu\n"
     ]
    },
    {
     "data": {
      "application/vnd.jupyter.widget-view+json": {
       "model_id": "e01f1e96c1aa406da29b90400d6e2263",
       "version_major": 2,
       "version_minor": 0
      },
      "text/plain": [
       "HBox(children=(IntProgress(value=0, description='0/10(t)', max=10, style=ProgressStyle(description_width='init…"
      ]
     },
     "metadata": {},
     "output_type": "display_data"
    },
    {
     "data": {
      "application/vnd.jupyter.widget-view+json": {
       "model_id": "0da841f1dc4f45f89c2fa5dd1b971ac6",
       "version_major": 2,
       "version_minor": 0
      },
      "text/plain": [
       "HBox(children=(IntProgress(value=0, description='1/10(t)', max=10, style=ProgressStyle(description_width='init…"
      ]
     },
     "metadata": {},
     "output_type": "display_data"
    },
    {
     "data": {
      "application/vnd.jupyter.widget-view+json": {
       "model_id": "3c27bd772f4f4e25be90732d1ca4247b",
       "version_major": 2,
       "version_minor": 0
      },
      "text/plain": [
       "HBox(children=(IntProgress(value=0, description='2/10(t)', max=10, style=ProgressStyle(description_width='init…"
      ]
     },
     "metadata": {},
     "output_type": "display_data"
    },
    {
     "data": {
      "application/vnd.jupyter.widget-view+json": {
       "model_id": "0a2d5c1c2073459c9862d4dc6d8f5393",
       "version_major": 2,
       "version_minor": 0
      },
      "text/plain": [
       "HBox(children=(IntProgress(value=0, description='3/10(t)', max=10, style=ProgressStyle(description_width='init…"
      ]
     },
     "metadata": {},
     "output_type": "display_data"
    },
    {
     "data": {
      "application/vnd.jupyter.widget-view+json": {
       "model_id": "3d2f9976bdcf43c2a8fa14c43aa60069",
       "version_major": 2,
       "version_minor": 0
      },
      "text/plain": [
       "HBox(children=(IntProgress(value=0, description='4/10(t)', max=10, style=ProgressStyle(description_width='init…"
      ]
     },
     "metadata": {},
     "output_type": "display_data"
    },
    {
     "data": {
      "application/vnd.jupyter.widget-view+json": {
       "model_id": "3066cb573f6f46fdb2c7792cd161aa3f",
       "version_major": 2,
       "version_minor": 0
      },
      "text/plain": [
       "HBox(children=(IntProgress(value=0, description='5/10(t)', max=10, style=ProgressStyle(description_width='init…"
      ]
     },
     "metadata": {},
     "output_type": "display_data"
    },
    {
     "data": {
      "application/vnd.jupyter.widget-view+json": {
       "model_id": "d2b5bb97a0d74e95bfcb8c6d450b8bd1",
       "version_major": 2,
       "version_minor": 0
      },
      "text/plain": [
       "HBox(children=(IntProgress(value=0, description='6/10(t)', max=10, style=ProgressStyle(description_width='init…"
      ]
     },
     "metadata": {},
     "output_type": "display_data"
    },
    {
     "data": {
      "application/vnd.jupyter.widget-view+json": {
       "model_id": "d37dbfbc10ef4e2ca9c3fdf775ca13e3",
       "version_major": 2,
       "version_minor": 0
      },
      "text/plain": [
       "HBox(children=(IntProgress(value=0, description='7/10(t)', max=10, style=ProgressStyle(description_width='init…"
      ]
     },
     "metadata": {},
     "output_type": "display_data"
    },
    {
     "data": {
      "application/vnd.jupyter.widget-view+json": {
       "model_id": "a3ac7361387b4fb8a6e115486ab9f327",
       "version_major": 2,
       "version_minor": 0
      },
      "text/plain": [
       "HBox(children=(IntProgress(value=0, description='8/10(t)', max=10, style=ProgressStyle(description_width='init…"
      ]
     },
     "metadata": {},
     "output_type": "display_data"
    },
    {
     "data": {
      "application/vnd.jupyter.widget-view+json": {
       "model_id": "8fb7dee4024642bbb8bf42260502433d",
       "version_major": 2,
       "version_minor": 0
      },
      "text/plain": [
       "HBox(children=(IntProgress(value=0, description='9/10(t)', max=10, style=ProgressStyle(description_width='init…"
      ]
     },
     "metadata": {},
     "output_type": "display_data"
    },
    {
     "data": {
      "text/plain": [
       "[((10, None), {}),\n",
       " ((10, None), {}),\n",
       " ((10, None), {}),\n",
       " ((10, None), {}),\n",
       " ((10, None), {}),\n",
       " ((10, None), {}),\n",
       " ((10, None), {}),\n",
       " ((10, None), {}),\n",
       " ((10, None), {}),\n",
       " ((10, None), {})]"
      ]
     },
     "execution_count": 235,
     "metadata": {},
     "output_type": "execute_result"
    }
   ],
   "source": [
    "# pytorch method for training\n",
    "print(device)\n",
    "trial = Trial(model, optimiser, loss_function).to(device)\n",
    "trial.with_generators(trainloader)\n",
    "trial.run(epochs=10)"
   ]
  },
  {
   "cell_type": "code",
   "execution_count": 236,
   "metadata": {},
   "outputs": [
    {
     "data": {
      "text/plain": [
       "torch.Size([505, 1])"
      ]
     },
     "execution_count": 236,
     "metadata": {},
     "output_type": "execute_result"
    }
   ],
   "source": [
    "y_pred= model(validateData.float().to(device))\n",
    "y_pred.shape"
   ]
  },
  {
   "cell_type": "code",
   "execution_count": 237,
   "metadata": {},
   "outputs": [
    {
     "data": {
      "image/png": "[encoded data removed]",
      "text/plain": [
       "<Figure size 432x288 with 1 Axes>"
      ]
     },
     "metadata": {
      "needs_background": "light"
     },
     "output_type": "display_data"
    }
   ],
   "source": [
    "plt.plot(y_pred.cpu().detach().numpy(), 'r-')\n",
    "plt.plot(y_test, 'b-')\n",
    "plt.show()"
   ]
  },
  {
   "cell_type": "code",
   "execution_count": 238,
   "metadata": {
    "scrolled": true
   },
   "outputs": [
    {
     "data": {
      "text/plain": [
       "tensor([[nan],\n",
       "        [nan],\n",
       "        [nan],\n",
       "        [nan],\n",
       "        [nan],\n",
       "        [nan],\n",
       "        [nan],\n",
       "        [nan],\n",
       "        [nan],\n",
       "        [nan],\n",
       "        [nan],\n",
       "        [nan],\n",
       "        [nan],\n",
       "        [nan],\n",
       "        [nan],\n",
       "        [nan],\n",
       "        [nan],\n",
       "        [nan],\n",
       "        [nan],\n",
       "        [nan],\n",
       "        [nan],\n",
       "        [nan],\n",
       "        [nan],\n",
       "        [nan],\n",
       "        [nan],\n",
       "        [nan],\n",
       "        [nan],\n",
       "        [nan],\n",
       "        [nan],\n",
       "        [nan],\n",
       "        [nan],\n",
       "        [nan],\n",
       "        [nan],\n",
       "        [nan],\n",
       "        [nan],\n",
       "        [nan],\n",
       "        [nan],\n",
       "        [nan],\n",
       "        [nan],\n",
       "        [nan],\n",
       "        [nan],\n",
       "        [nan],\n",
       "        [nan],\n",
       "        [nan],\n",
       "        [nan],\n",
       "        [nan],\n",
       "        [nan],\n",
       "        [nan],\n",
       "        [nan],\n",
       "        [nan],\n",
       "        [nan],\n",
       "        [nan],\n",
       "        [nan],\n",
       "        [nan],\n",
       "        [nan],\n",
       "        [nan],\n",
       "        [nan],\n",
       "        [nan],\n",
       "        [nan],\n",
       "        [nan],\n",
       "        [nan],\n",
       "        [nan],\n",
       "        [nan],\n",
       "        [nan],\n",
       "        [nan],\n",
       "        [nan],\n",
       "        [nan],\n",
       "        [nan],\n",
       "        [nan],\n",
       "        [nan],\n",
       "        [nan],\n",
       "        [nan],\n",
       "        [nan],\n",
       "        [nan],\n",
       "        [nan],\n",
       "        [nan],\n",
       "        [nan],\n",
       "        [nan],\n",
       "        [nan],\n",
       "        [nan],\n",
       "        [nan],\n",
       "        [nan],\n",
       "        [nan],\n",
       "        [nan],\n",
       "        [nan],\n",
       "        [nan],\n",
       "        [nan],\n",
       "        [nan],\n",
       "        [nan],\n",
       "        [nan],\n",
       "        [nan],\n",
       "        [nan],\n",
       "        [nan],\n",
       "        [nan],\n",
       "        [nan],\n",
       "        [nan],\n",
       "        [nan],\n",
       "        [nan],\n",
       "        [nan],\n",
       "        [nan],\n",
       "        [nan],\n",
       "        [nan],\n",
       "        [nan],\n",
       "        [nan],\n",
       "        [nan],\n",
       "        [nan],\n",
       "        [nan],\n",
       "        [nan],\n",
       "        [nan],\n",
       "        [nan],\n",
       "        [nan],\n",
       "        [nan],\n",
       "        [nan],\n",
       "        [nan],\n",
       "        [nan],\n",
       "        [nan],\n",
       "        [nan],\n",
       "        [nan],\n",
       "        [nan],\n",
       "        [nan],\n",
       "        [nan],\n",
       "        [nan],\n",
       "        [nan],\n",
       "        [nan],\n",
       "        [nan],\n",
       "        [nan],\n",
       "        [nan],\n",
       "        [nan],\n",
       "        [nan],\n",
       "        [nan],\n",
       "        [nan],\n",
       "        [nan],\n",
       "        [nan],\n",
       "        [nan],\n",
       "        [nan],\n",
       "        [nan],\n",
       "        [nan],\n",
       "        [nan],\n",
       "        [nan],\n",
       "        [nan],\n",
       "        [nan],\n",
       "        [nan],\n",
       "        [nan],\n",
       "        [nan],\n",
       "        [nan],\n",
       "        [nan],\n",
       "        [nan],\n",
       "        [nan],\n",
       "        [nan],\n",
       "        [nan],\n",
       "        [nan],\n",
       "        [nan],\n",
       "        [nan],\n",
       "        [nan],\n",
       "        [nan],\n",
       "        [nan],\n",
       "        [nan],\n",
       "        [nan],\n",
       "        [nan],\n",
       "        [nan],\n",
       "        [nan],\n",
       "        [nan],\n",
       "        [nan],\n",
       "        [nan],\n",
       "        [nan],\n",
       "        [nan],\n",
       "        [nan],\n",
       "        [nan],\n",
       "        [nan],\n",
       "        [nan],\n",
       "        [nan],\n",
       "        [nan],\n",
       "        [nan],\n",
       "        [nan],\n",
       "        [nan],\n",
       "        [nan],\n",
       "        [nan],\n",
       "        [nan],\n",
       "        [nan],\n",
       "        [nan],\n",
       "        [nan],\n",
       "        [nan],\n",
       "        [nan],\n",
       "        [nan],\n",
       "        [nan],\n",
       "        [nan],\n",
       "        [nan],\n",
       "        [nan],\n",
       "        [nan],\n",
       "        [nan],\n",
       "        [nan],\n",
       "        [nan],\n",
       "        [nan],\n",
       "        [nan],\n",
       "        [nan],\n",
       "        [nan],\n",
       "        [nan],\n",
       "        [nan],\n",
       "        [nan],\n",
       "        [nan],\n",
       "        [nan],\n",
       "        [nan],\n",
       "        [nan],\n",
       "        [nan],\n",
       "        [nan],\n",
       "        [nan],\n",
       "        [nan],\n",
       "        [nan],\n",
       "        [nan],\n",
       "        [nan],\n",
       "        [nan],\n",
       "        [nan],\n",
       "        [nan],\n",
       "        [nan],\n",
       "        [nan],\n",
       "        [nan],\n",
       "        [nan],\n",
       "        [nan],\n",
       "        [nan],\n",
       "        [nan],\n",
       "        [nan],\n",
       "        [nan],\n",
       "        [nan],\n",
       "        [nan],\n",
       "        [nan],\n",
       "        [nan],\n",
       "        [nan],\n",
       "        [nan],\n",
       "        [nan],\n",
       "        [nan],\n",
       "        [nan],\n",
       "        [nan],\n",
       "        [nan],\n",
       "        [nan],\n",
       "        [nan],\n",
       "        [nan],\n",
       "        [nan],\n",
       "        [nan],\n",
       "        [nan],\n",
       "        [nan],\n",
       "        [nan],\n",
       "        [nan],\n",
       "        [nan],\n",
       "        [nan],\n",
       "        [nan],\n",
       "        [nan],\n",
       "        [nan],\n",
       "        [nan],\n",
       "        [nan],\n",
       "        [nan],\n",
       "        [nan],\n",
       "        [nan],\n",
       "        [nan],\n",
       "        [nan],\n",
       "        [nan],\n",
       "        [nan],\n",
       "        [nan],\n",
       "        [nan],\n",
       "        [nan],\n",
       "        [nan],\n",
       "        [nan],\n",
       "        [nan],\n",
       "        [nan],\n",
       "        [nan],\n",
       "        [nan],\n",
       "        [nan],\n",
       "        [nan],\n",
       "        [nan],\n",
       "        [nan],\n",
       "        [nan],\n",
       "        [nan],\n",
       "        [nan],\n",
       "        [nan],\n",
       "        [nan],\n",
       "        [nan],\n",
       "        [nan],\n",
       "        [nan],\n",
       "        [nan],\n",
       "        [nan],\n",
       "        [nan],\n",
       "        [nan],\n",
       "        [nan],\n",
       "        [nan],\n",
       "        [nan],\n",
       "        [nan],\n",
       "        [nan],\n",
       "        [nan],\n",
       "        [nan],\n",
       "        [nan],\n",
       "        [nan],\n",
       "        [nan],\n",
       "        [nan],\n",
       "        [nan],\n",
       "        [nan],\n",
       "        [nan],\n",
       "        [nan],\n",
       "        [nan],\n",
       "        [nan],\n",
       "        [nan],\n",
       "        [nan],\n",
       "        [nan],\n",
       "        [nan],\n",
       "        [nan],\n",
       "        [nan],\n",
       "        [nan],\n",
       "        [nan],\n",
       "        [nan],\n",
       "        [nan],\n",
       "        [nan],\n",
       "        [nan],\n",
       "        [nan],\n",
       "        [nan],\n",
       "        [nan],\n",
       "        [nan],\n",
       "        [nan],\n",
       "        [nan],\n",
       "        [nan],\n",
       "        [nan],\n",
       "        [nan],\n",
       "        [nan],\n",
       "        [nan],\n",
       "        [nan],\n",
       "        [nan],\n",
       "        [nan],\n",
       "        [nan],\n",
       "        [nan],\n",
       "        [nan],\n",
       "        [nan],\n",
       "        [nan],\n",
       "        [nan],\n",
       "        [nan],\n",
       "        [nan],\n",
       "        [nan],\n",
       "        [nan],\n",
       "        [nan],\n",
       "        [nan],\n",
       "        [nan],\n",
       "        [nan],\n",
       "        [nan],\n",
       "        [nan],\n",
       "        [nan],\n",
       "        [nan],\n",
       "        [nan],\n",
       "        [nan],\n",
       "        [nan],\n",
       "        [nan],\n",
       "        [nan],\n",
       "        [nan],\n",
       "        [nan],\n",
       "        [nan],\n",
       "        [nan],\n",
       "        [nan],\n",
       "        [nan],\n",
       "        [nan],\n",
       "        [nan],\n",
       "        [nan],\n",
       "        [nan],\n",
       "        [nan],\n",
       "        [nan],\n",
       "        [nan],\n",
       "        [nan],\n",
       "        [nan],\n",
       "        [nan],\n",
       "        [nan],\n",
       "        [nan],\n",
       "        [nan],\n",
       "        [nan],\n",
       "        [nan],\n",
       "        [nan],\n",
       "        [nan],\n",
       "        [nan],\n",
       "        [nan],\n",
       "        [nan],\n",
       "        [nan],\n",
       "        [nan],\n",
       "        [nan],\n",
       "        [nan],\n",
       "        [nan],\n",
       "        [nan],\n",
       "        [nan],\n",
       "        [nan],\n",
       "        [nan],\n",
       "        [nan],\n",
       "        [nan],\n",
       "        [nan],\n",
       "        [nan],\n",
       "        [nan],\n",
       "        [nan],\n",
       "        [nan],\n",
       "        [nan],\n",
       "        [nan],\n",
       "        [nan],\n",
       "        [nan],\n",
       "        [nan],\n",
       "        [nan],\n",
       "        [nan],\n",
       "        [nan],\n",
       "        [nan],\n",
       "        [nan],\n",
       "        [nan],\n",
       "        [nan],\n",
       "        [nan],\n",
       "        [nan],\n",
       "        [nan],\n",
       "        [nan],\n",
       "        [nan],\n",
       "        [nan],\n",
       "        [nan],\n",
       "        [nan],\n",
       "        [nan],\n",
       "        [nan],\n",
       "        [nan],\n",
       "        [nan],\n",
       "        [nan],\n",
       "        [nan],\n",
       "        [nan],\n",
       "        [nan],\n",
       "        [nan],\n",
       "        [nan],\n",
       "        [nan],\n",
       "        [nan],\n",
       "        [nan],\n",
       "        [nan],\n",
       "        [nan],\n",
       "        [nan],\n",
       "        [nan],\n",
       "        [nan],\n",
       "        [nan],\n",
       "        [nan],\n",
       "        [nan],\n",
       "        [nan],\n",
       "        [nan],\n",
       "        [nan],\n",
       "        [nan],\n",
       "        [nan],\n",
       "        [nan],\n",
       "        [nan],\n",
       "        [nan],\n",
       "        [nan],\n",
       "        [nan],\n",
       "        [nan],\n",
       "        [nan],\n",
       "        [nan],\n",
       "        [nan],\n",
       "        [nan],\n",
       "        [nan],\n",
       "        [nan],\n",
       "        [nan],\n",
       "        [nan],\n",
       "        [nan],\n",
       "        [nan],\n",
       "        [nan],\n",
       "        [nan],\n",
       "        [nan],\n",
       "        [nan],\n",
       "        [nan],\n",
       "        [nan],\n",
       "        [nan],\n",
       "        [nan],\n",
       "        [nan],\n",
       "        [nan],\n",
       "        [nan],\n",
       "        [nan],\n",
       "        [nan],\n",
       "        [nan],\n",
       "        [nan],\n",
       "        [nan],\n",
       "        [nan],\n",
       "        [nan],\n",
       "        [nan],\n",
       "        [nan],\n",
       "        [nan],\n",
       "        [nan],\n",
       "        [nan],\n",
       "        [nan],\n",
       "        [nan],\n",
       "        [nan],\n",
       "        [nan],\n",
       "        [nan],\n",
       "        [nan],\n",
       "        [nan],\n",
       "        [nan],\n",
       "        [nan],\n",
       "        [nan],\n",
       "        [nan],\n",
       "        [nan],\n",
       "        [nan],\n",
       "        [nan],\n",
       "        [nan],\n",
       "        [nan],\n",
       "        [nan],\n",
       "        [nan],\n",
       "        [nan],\n",
       "        [nan],\n",
       "        [nan],\n",
       "        [nan],\n",
       "        [nan],\n",
       "        [nan],\n",
       "        [nan],\n",
       "        [nan],\n",
       "        [nan],\n",
       "        [nan],\n",
       "        [nan],\n",
       "        [nan],\n",
       "        [nan]], grad_fn=<AddmmBackward>)"
      ]
     },
     "execution_count": 238,
     "metadata": {},
     "output_type": "execute_result"
    }
   ],
   "source": [
    "y_pred"
   ]
  }
 ],
 "metadata": {
  "kernelspec": {
   "display_name": "Python 3",
   "language": "python",
   "name": "python3"
  },
  "language_info": {
   "codemirror_mode": {
    "name": "ipython",
    "version": 3
   },
   "file_extension": ".py",
   "mimetype": "text/x-python",
   "name": "python",
   "nbconvert_exporter": "python",
   "pygments_lexer": "ipython3",
   "version": "3.7.3"
  }
 },
 "nbformat": 4,
 "nbformat_minor": 2
}
