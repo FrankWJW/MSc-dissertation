{
 "cells": [
  {
   "cell_type": "code",
   "execution_count": 19,
   "metadata": {},
   "outputs": [],
   "source": [
    "import numpy as np\n",
    "import pandas as pd\n",
    "from keras.layers import Dense, Dropout, Activation, LSTM, Convolution1D, MaxPooling1D\n",
    "from keras.models import Sequential\n",
    "import matplotlib.pyplot as plt\n",
    "%matplotlib inline"
   ]
  },
  {
   "cell_type": "code",
   "execution_count": 20,
   "metadata": {},
   "outputs": [],
   "source": [
    "## Data preparation"
   ]
  },
  {
   "cell_type": "code",
   "execution_count": 21,
   "metadata": {},
   "outputs": [
    {
     "data": {
      "text/html": [
       "<div>\n",
       "<style scoped>\n",
       "    .dataframe tbody tr th:only-of-type {\n",
       "        vertical-align: middle;\n",
       "    }\n",
       "\n",
       "    .dataframe tbody tr th {\n",
       "        vertical-align: top;\n",
       "    }\n",
       "\n",
       "    .dataframe thead th {\n",
       "        text-align: right;\n",
       "    }\n",
       "</style>\n",
       "<table border=\"1\" class=\"dataframe\">\n",
       "  <thead>\n",
       "    <tr style=\"text-align: right;\">\n",
       "      <th></th>\n",
       "      <th>Date</th>\n",
       "      <th>Open</th>\n",
       "      <th>High</th>\n",
       "      <th>Low</th>\n",
       "      <th>Close</th>\n",
       "      <th>Adj Close</th>\n",
       "      <th>Volume</th>\n",
       "    </tr>\n",
       "  </thead>\n",
       "  <tbody>\n",
       "    <tr>\n",
       "      <th>4279</th>\n",
       "      <td>2017-01-05</td>\n",
       "      <td>19924.560547</td>\n",
       "      <td>19948.599609</td>\n",
       "      <td>19811.119141</td>\n",
       "      <td>19899.289063</td>\n",
       "      <td>19899.289063</td>\n",
       "      <td>269920000</td>\n",
       "    </tr>\n",
       "    <tr>\n",
       "      <th>4280</th>\n",
       "      <td>2017-01-06</td>\n",
       "      <td>19906.960938</td>\n",
       "      <td>19999.630859</td>\n",
       "      <td>19834.080078</td>\n",
       "      <td>19963.800781</td>\n",
       "      <td>19963.800781</td>\n",
       "      <td>277700000</td>\n",
       "    </tr>\n",
       "    <tr>\n",
       "      <th>4281</th>\n",
       "      <td>2017-01-09</td>\n",
       "      <td>19931.410156</td>\n",
       "      <td>19943.779297</td>\n",
       "      <td>19887.380859</td>\n",
       "      <td>19887.380859</td>\n",
       "      <td>19887.380859</td>\n",
       "      <td>287060000</td>\n",
       "    </tr>\n",
       "    <tr>\n",
       "      <th>4282</th>\n",
       "      <td>2017-01-10</td>\n",
       "      <td>19876.349609</td>\n",
       "      <td>19957.119141</td>\n",
       "      <td>19836.029297</td>\n",
       "      <td>19855.529297</td>\n",
       "      <td>19855.529297</td>\n",
       "      <td>299410000</td>\n",
       "    </tr>\n",
       "    <tr>\n",
       "      <th>4283</th>\n",
       "      <td>2017-01-11</td>\n",
       "      <td>19887.380859</td>\n",
       "      <td>19973.419922</td>\n",
       "      <td>19833.160156</td>\n",
       "      <td>19954.279297</td>\n",
       "      <td>19954.279297</td>\n",
       "      <td>336150000</td>\n",
       "    </tr>\n",
       "  </tbody>\n",
       "</table>\n",
       "</div>"
      ],
      "text/plain": [
       "            Date          Open          High           Low         Close  \\\n",
       "4279  2017-01-05  19924.560547  19948.599609  19811.119141  19899.289063   \n",
       "4280  2017-01-06  19906.960938  19999.630859  19834.080078  19963.800781   \n",
       "4281  2017-01-09  19931.410156  19943.779297  19887.380859  19887.380859   \n",
       "4282  2017-01-10  19876.349609  19957.119141  19836.029297  19855.529297   \n",
       "4283  2017-01-11  19887.380859  19973.419922  19833.160156  19954.279297   \n",
       "\n",
       "         Adj Close     Volume  \n",
       "4279  19899.289063  269920000  \n",
       "4280  19963.800781  277700000  \n",
       "4281  19887.380859  287060000  \n",
       "4282  19855.529297  299410000  \n",
       "4283  19954.279297  336150000  "
      ]
     },
     "execution_count": 21,
     "metadata": {},
     "output_type": "execute_result"
    }
   ],
   "source": [
    "data= pd.read_csv('^DJI.csv')\n",
    "data.tail()"
   ]
  },
  {
   "cell_type": "code",
   "execution_count": 22,
   "metadata": {},
   "outputs": [
    {
     "data": {
      "text/html": [
       "<div>\n",
       "<style scoped>\n",
       "    .dataframe tbody tr th:only-of-type {\n",
       "        vertical-align: middle;\n",
       "    }\n",
       "\n",
       "    .dataframe tbody tr th {\n",
       "        vertical-align: top;\n",
       "    }\n",
       "\n",
       "    .dataframe thead th {\n",
       "        text-align: right;\n",
       "    }\n",
       "</style>\n",
       "<table border=\"1\" class=\"dataframe\">\n",
       "  <thead>\n",
       "    <tr style=\"text-align: right;\">\n",
       "      <th></th>\n",
       "      <th>Date</th>\n",
       "      <th>Open</th>\n",
       "      <th>High</th>\n",
       "      <th>Low</th>\n",
       "      <th>Close</th>\n",
       "      <th>Adj Close</th>\n",
       "      <th>Volume</th>\n",
       "    </tr>\n",
       "  </thead>\n",
       "  <tbody>\n",
       "    <tr>\n",
       "      <th>4279</th>\n",
       "      <td>2017-01-05</td>\n",
       "      <td>19924.560547</td>\n",
       "      <td>19948.599609</td>\n",
       "      <td>19811.119141</td>\n",
       "      <td>19899.289063</td>\n",
       "      <td>19899.289063</td>\n",
       "      <td>269920000</td>\n",
       "    </tr>\n",
       "    <tr>\n",
       "      <th>4280</th>\n",
       "      <td>2017-01-06</td>\n",
       "      <td>19906.960938</td>\n",
       "      <td>19999.630859</td>\n",
       "      <td>19834.080078</td>\n",
       "      <td>19963.800781</td>\n",
       "      <td>19963.800781</td>\n",
       "      <td>277700000</td>\n",
       "    </tr>\n",
       "    <tr>\n",
       "      <th>4281</th>\n",
       "      <td>2017-01-09</td>\n",
       "      <td>19931.410156</td>\n",
       "      <td>19943.779297</td>\n",
       "      <td>19887.380859</td>\n",
       "      <td>19887.380859</td>\n",
       "      <td>19887.380859</td>\n",
       "      <td>287060000</td>\n",
       "    </tr>\n",
       "    <tr>\n",
       "      <th>4282</th>\n",
       "      <td>2017-01-10</td>\n",
       "      <td>19876.349609</td>\n",
       "      <td>19957.119141</td>\n",
       "      <td>19836.029297</td>\n",
       "      <td>19855.529297</td>\n",
       "      <td>19855.529297</td>\n",
       "      <td>299410000</td>\n",
       "    </tr>\n",
       "    <tr>\n",
       "      <th>4283</th>\n",
       "      <td>2017-01-11</td>\n",
       "      <td>19887.380859</td>\n",
       "      <td>19973.419922</td>\n",
       "      <td>19833.160156</td>\n",
       "      <td>19954.279297</td>\n",
       "      <td>19954.279297</td>\n",
       "      <td>336150000</td>\n",
       "    </tr>\n",
       "  </tbody>\n",
       "</table>\n",
       "</div>"
      ],
      "text/plain": [
       "            Date          Open          High           Low         Close  \\\n",
       "4279  2017-01-05  19924.560547  19948.599609  19811.119141  19899.289063   \n",
       "4280  2017-01-06  19906.960938  19999.630859  19834.080078  19963.800781   \n",
       "4281  2017-01-09  19931.410156  19943.779297  19887.380859  19887.380859   \n",
       "4282  2017-01-10  19876.349609  19957.119141  19836.029297  19855.529297   \n",
       "4283  2017-01-11  19887.380859  19973.419922  19833.160156  19954.279297   \n",
       "\n",
       "         Adj Close     Volume  \n",
       "4279  19899.289063  269920000  \n",
       "4280  19963.800781  277700000  \n",
       "4281  19887.380859  287060000  \n",
       "4282  19855.529297  299410000  \n",
       "4283  19954.279297  336150000  "
      ]
     },
     "execution_count": 22,
     "metadata": {},
     "output_type": "execute_result"
    }
   ],
   "source": [
    "data= data.dropna(axis=0)\n",
    "data.tail()"
   ]
  },
  {
   "cell_type": "code",
   "execution_count": 23,
   "metadata": {},
   "outputs": [
    {
     "name": "stdout",
     "output_type": "stream",
     "text": [
      "(4284, 4)\n"
     ]
    }
   ],
   "source": [
    "data= data.values[:, 1:5]\n",
    "print (data.shape)"
   ]
  },
  {
   "cell_type": "code",
   "execution_count": 24,
   "metadata": {},
   "outputs": [
    {
     "name": "stdout",
     "output_type": "stream",
     "text": [
      "[[11501.849609 11522.009766 11305.69043 11357.509766]\n",
      " [11349.75 11350.05957 10986.450195 10997.929688]\n",
      " [10989.370117 11215.099609 10938.669922 11122.650391]\n",
      " [11113.370117 11313.450195 11098.450195 11253.259766]\n",
      " [11247.05957 11528.139648 11239.919922 11522.55957]\n",
      " [11532.480469 11638.280273 11532.480469 11572.200195]]\n"
     ]
    }
   ],
   "source": [
    "print (data[:6, :])"
   ]
  },
  {
   "cell_type": "code",
   "execution_count": 25,
   "metadata": {},
   "outputs": [
    {
     "name": "stdout",
     "output_type": "stream",
     "text": [
      "(4283,)\n",
      "(4283, 4)\n"
     ]
    }
   ],
   "source": [
    "y= data[1:, 3]\n",
    "print (y.shape)\n",
    "X= data[:4283,:]\n",
    "print (X.shape)"
   ]
  },
  {
   "cell_type": "code",
   "execution_count": 26,
   "metadata": {},
   "outputs": [],
   "source": [
    "# y= (y- min(y))/(max(y)- min(y))"
   ]
  },
  {
   "cell_type": "code",
   "execution_count": 27,
   "metadata": {},
   "outputs": [
    {
     "name": "stdout",
     "output_type": "stream",
     "text": [
      "[19918.880859 19933.810547 19945.039063 19833.679688 19819.779297\n",
      " 19762.599609 19881.759766 19942.160156 19899.289063 19963.800781\n",
      " 19887.380859 19855.529297 19954.279297]\n",
      "[10997.929688 11122.650391 11253.259766 11522.55957 11572.200195\n",
      " 11511.080078 11551.099609]\n"
     ]
    }
   ],
   "source": [
    "print (y[4270:])\n",
    "print (y[:7])"
   ]
  },
  {
   "cell_type": "code",
   "execution_count": 28,
   "metadata": {},
   "outputs": [
    {
     "name": "stdout",
     "output_type": "stream",
     "text": [
      "(4283, 4)\n",
      "[[11501.849609 11522.009766 11305.69043 11357.509766]\n",
      " [11349.75 11350.05957 10986.450195 10997.929688]\n",
      " [10989.370117 11215.099609 10938.669922 11122.650391]]\n"
     ]
    }
   ],
   "source": [
    "# X= (X- np.min(X,axis=0))/(np.max(X, axis=0)-np.min(X,axis=0))\n",
    "print (X.shape)\n",
    "print (X[:3, :])"
   ]
  },
  {
   "cell_type": "code",
   "execution_count": 29,
   "metadata": {},
   "outputs": [],
   "source": [
    "##LSTM input layer preparation"
   ]
  },
  {
   "cell_type": "code",
   "execution_count": 30,
   "metadata": {},
   "outputs": [
    {
     "name": "stdout",
     "output_type": "stream",
     "text": [
      "(4184, 100, 4) (4184,)\n"
     ]
    }
   ],
   "source": [
    "time_steps= 100\n",
    "X_new= np.zeros((X.shape[0] - time_steps +1, 100, X.shape[1]))\n",
    "y_new= np.zeros((y.shape[0] -time_steps +1,))\n",
    "for ix in range(X_new.shape[0]):\n",
    "    for jx in range(time_steps):\n",
    "        X_new[ix, jx, :]= X[ix +jx, :]\n",
    "    y_new[ix]= y[ix + time_steps -1]\n",
    "print (X_new.shape, y_new.shape)"
   ]
  },
  {
   "cell_type": "code",
   "execution_count": null,
   "metadata": {},
   "outputs": [],
   "source": []
  },
  {
   "cell_type": "code",
   "execution_count": 31,
   "metadata": {},
   "outputs": [],
   "source": [
    "## split into train and test sets"
   ]
  },
  {
   "cell_type": "code",
   "execution_count": 32,
   "metadata": {},
   "outputs": [
    {
     "name": "stdout",
     "output_type": "stream",
     "text": [
      "(3427, 100, 4) (3427,)\n",
      "(757, 100, 4) (757,)\n"
     ]
    }
   ],
   "source": [
    "split = int(0.8*data.shape[0])\n",
    "X_train = X_new[:split]\n",
    "X_test = X_new[split:]\n",
    "\n",
    "y_train = y_new[:split]\n",
    "y_test = y_new[split:]\n",
    "\n",
    "print (X_train.shape, y_train.shape)\n",
    "print (X_test.shape, y_test.shape)"
   ]
  },
  {
   "cell_type": "code",
   "execution_count": 33,
   "metadata": {},
   "outputs": [],
   "source": [
    "# data normalisation after split the train/test\n",
    "\n",
    "y_train= (y_train- min(y_train))/(max(y_train)- min(y_train))\n",
    "X_train= (X_train- np.min(X_train,axis=0))/(np.max(X_train, axis=0)-np.min(X_train,axis=0))\n",
    "\n",
    "y_test= (y_test- min(y_test))/(max(y_test)- min(y_test))\n",
    "X_test= (X_test- np.min(X_test,axis=0))/(np.max(X_test, axis=0)-np.min(X_test,axis=0))"
   ]
  },
  {
   "cell_type": "code",
   "execution_count": 34,
   "metadata": {},
   "outputs": [],
   "source": [
    "## Model fitting"
   ]
  },
  {
   "cell_type": "code",
   "execution_count": 35,
   "metadata": {},
   "outputs": [
    {
     "name": "stdout",
     "output_type": "stream",
     "text": [
      "_________________________________________________________________\n",
      "Layer (type)                 Output Shape              Param #   \n",
      "=================================================================\n",
      "lstm_3 (LSTM)                (None, 100, 100)          42000     \n",
      "_________________________________________________________________\n",
      "dropout_3 (Dropout)          (None, 100, 100)          0         \n",
      "_________________________________________________________________\n",
      "lstm_4 (LSTM)                (None, 50)                30200     \n",
      "_________________________________________________________________\n",
      "dropout_4 (Dropout)          (None, 50)                0         \n",
      "_________________________________________________________________\n",
      "dense_2 (Dense)              (None, 1)                 51        \n",
      "_________________________________________________________________\n",
      "activation_2 (Activation)    (None, 1)                 0         \n",
      "=================================================================\n",
      "Total params: 72,251\n",
      "Trainable params: 72,251\n",
      "Non-trainable params: 0\n",
      "_________________________________________________________________\n"
     ]
    },
    {
     "name": "stderr",
     "output_type": "stream",
     "text": [
      "/home/wang/anaconda3/lib/python3.7/site-packages/ipykernel_launcher.py:6: UserWarning: Update your `Dense` call to the Keras 2 API: `Dense(units=1)`\n",
      "  \n"
     ]
    }
   ],
   "source": [
    "model = Sequential()\n",
    "model.add(LSTM(100, input_shape= (100,4), return_sequences=True))\n",
    "model.add(Dropout(0.2))\n",
    "model.add(LSTM(50, return_sequences=False))\n",
    "model.add(Dropout(0.2))\n",
    "model.add(Dense(output_dim=1))\n",
    "model.add(Activation('linear'))\n",
    "\n",
    "model.summary()"
   ]
  },
  {
   "cell_type": "code",
   "execution_count": 36,
   "metadata": {},
   "outputs": [],
   "source": [
    "model.compile(loss='mse', optimizer='rmsprop', metrics=['accuracy'])"
   ]
  },
  {
   "cell_type": "code",
   "execution_count": 37,
   "metadata": {},
   "outputs": [
    {
     "name": "stderr",
     "output_type": "stream",
     "text": [
      "/home/wang/anaconda3/lib/python3.7/site-packages/ipykernel_launcher.py:1: UserWarning: The `nb_epoch` argument in `fit` has been renamed `epochs`.\n",
      "  \"\"\"Entry point for launching an IPython kernel.\n"
     ]
    },
    {
     "name": "stdout",
     "output_type": "stream",
     "text": [
      "Train on 3427 samples, validate on 757 samples\n",
      "Epoch 1/50\n",
      " - 3s - loss: 0.0331 - acc: 5.8360e-04 - val_loss: 0.0053 - val_acc: 0.0026\n",
      "Epoch 2/50\n",
      " - 2s - loss: 0.0066 - acc: 5.8360e-04 - val_loss: 0.0116 - val_acc: 0.0026\n",
      "Epoch 3/50\n",
      " - 2s - loss: 0.0077 - acc: 5.8360e-04 - val_loss: 0.0043 - val_acc: 0.0026\n",
      "Epoch 4/50\n",
      " - 2s - loss: 0.0058 - acc: 5.8360e-04 - val_loss: 0.0045 - val_acc: 0.0026\n",
      "Epoch 5/50\n",
      " - 2s - loss: 0.0057 - acc: 5.8360e-04 - val_loss: 0.0040 - val_acc: 0.0026\n",
      "Epoch 6/50\n",
      " - 2s - loss: 0.0049 - acc: 5.8360e-04 - val_loss: 0.0048 - val_acc: 0.0026\n",
      "Epoch 7/50\n",
      " - 2s - loss: 0.0049 - acc: 5.8360e-04 - val_loss: 0.0042 - val_acc: 0.0026\n",
      "Epoch 8/50\n",
      " - 2s - loss: 0.0045 - acc: 5.8360e-04 - val_loss: 0.0037 - val_acc: 0.0026\n",
      "Epoch 9/50\n",
      " - 2s - loss: 0.0047 - acc: 5.8360e-04 - val_loss: 0.0041 - val_acc: 0.0026\n",
      "Epoch 10/50\n",
      " - 2s - loss: 0.0039 - acc: 5.8360e-04 - val_loss: 0.0036 - val_acc: 0.0026\n",
      "Epoch 11/50\n",
      " - 2s - loss: 0.0038 - acc: 5.8360e-04 - val_loss: 0.0038 - val_acc: 0.0026\n",
      "Epoch 12/50\n",
      " - 2s - loss: 0.0037 - acc: 5.8360e-04 - val_loss: 0.0047 - val_acc: 0.0026\n",
      "Epoch 13/50\n",
      " - 2s - loss: 0.0037 - acc: 5.8360e-04 - val_loss: 0.0033 - val_acc: 0.0026\n",
      "Epoch 14/50\n",
      " - 2s - loss: 0.0036 - acc: 5.8360e-04 - val_loss: 0.0030 - val_acc: 0.0026\n",
      "Epoch 15/50\n",
      " - 2s - loss: 0.0038 - acc: 5.8360e-04 - val_loss: 0.0028 - val_acc: 0.0026\n",
      "Epoch 16/50\n",
      " - 2s - loss: 0.0034 - acc: 5.8360e-04 - val_loss: 0.0029 - val_acc: 0.0026\n",
      "Epoch 17/50\n",
      " - 2s - loss: 0.0034 - acc: 5.8360e-04 - val_loss: 0.0027 - val_acc: 0.0026\n",
      "Epoch 18/50\n",
      " - 2s - loss: 0.0035 - acc: 5.8360e-04 - val_loss: 0.0027 - val_acc: 0.0026\n",
      "Epoch 19/50\n",
      " - 2s - loss: 0.0032 - acc: 5.8360e-04 - val_loss: 0.0030 - val_acc: 0.0026\n",
      "Epoch 20/50\n",
      " - 2s - loss: 0.0031 - acc: 5.8360e-04 - val_loss: 0.0030 - val_acc: 0.0026\n",
      "Epoch 21/50\n",
      " - 2s - loss: 0.0030 - acc: 5.8360e-04 - val_loss: 0.0038 - val_acc: 0.0026\n",
      "Epoch 22/50\n",
      " - 2s - loss: 0.0030 - acc: 5.8360e-04 - val_loss: 0.0026 - val_acc: 0.0026\n",
      "Epoch 23/50\n",
      " - 2s - loss: 0.0030 - acc: 5.8360e-04 - val_loss: 0.0030 - val_acc: 0.0026\n",
      "Epoch 24/50\n",
      " - 2s - loss: 0.0028 - acc: 5.8360e-04 - val_loss: 0.0027 - val_acc: 0.0026\n",
      "Epoch 25/50\n",
      " - 2s - loss: 0.0025 - acc: 5.8360e-04 - val_loss: 0.0045 - val_acc: 0.0026\n",
      "Epoch 26/50\n",
      " - 2s - loss: 0.0030 - acc: 5.8360e-04 - val_loss: 0.0059 - val_acc: 0.0026\n",
      "Epoch 27/50\n",
      " - 2s - loss: 0.0025 - acc: 5.8360e-04 - val_loss: 0.0025 - val_acc: 0.0026\n",
      "Epoch 28/50\n",
      " - 2s - loss: 0.0031 - acc: 5.8360e-04 - val_loss: 0.0031 - val_acc: 0.0026\n",
      "Epoch 29/50\n",
      " - 2s - loss: 0.0027 - acc: 5.8360e-04 - val_loss: 0.0033 - val_acc: 0.0026\n",
      "Epoch 30/50\n",
      " - 2s - loss: 0.0027 - acc: 5.8360e-04 - val_loss: 0.0041 - val_acc: 0.0026\n",
      "Epoch 31/50\n",
      " - 2s - loss: 0.0028 - acc: 5.8360e-04 - val_loss: 0.0031 - val_acc: 0.0026\n",
      "Epoch 32/50\n",
      " - 2s - loss: 0.0025 - acc: 5.8360e-04 - val_loss: 0.0026 - val_acc: 0.0026\n",
      "Epoch 33/50\n",
      " - 2s - loss: 0.0027 - acc: 5.8360e-04 - val_loss: 0.0041 - val_acc: 0.0026\n",
      "Epoch 34/50\n",
      " - 2s - loss: 0.0024 - acc: 5.8360e-04 - val_loss: 0.0023 - val_acc: 0.0026\n",
      "Epoch 35/50\n",
      " - 2s - loss: 0.0025 - acc: 5.8360e-04 - val_loss: 0.0026 - val_acc: 0.0026\n",
      "Epoch 36/50\n",
      " - 2s - loss: 0.0025 - acc: 5.8360e-04 - val_loss: 0.0024 - val_acc: 0.0026\n",
      "Epoch 37/50\n",
      " - 2s - loss: 0.0023 - acc: 5.8360e-04 - val_loss: 0.0034 - val_acc: 0.0026\n",
      "Epoch 38/50\n",
      " - 2s - loss: 0.0023 - acc: 5.8360e-04 - val_loss: 0.0031 - val_acc: 0.0026\n",
      "Epoch 39/50\n",
      " - 2s - loss: 0.0023 - acc: 5.8360e-04 - val_loss: 0.0037 - val_acc: 0.0026\n",
      "Epoch 40/50\n",
      " - 2s - loss: 0.0022 - acc: 5.8360e-04 - val_loss: 0.0051 - val_acc: 0.0026\n",
      "Epoch 41/50\n",
      " - 2s - loss: 0.0021 - acc: 5.8360e-04 - val_loss: 0.0036 - val_acc: 0.0026\n",
      "Epoch 42/50\n",
      " - 2s - loss: 0.0025 - acc: 5.8360e-04 - val_loss: 0.0038 - val_acc: 0.0026\n",
      "Epoch 43/50\n",
      " - 2s - loss: 0.0026 - acc: 5.8360e-04 - val_loss: 0.0032 - val_acc: 0.0026\n",
      "Epoch 44/50\n",
      " - 2s - loss: 0.0019 - acc: 5.8360e-04 - val_loss: 0.0032 - val_acc: 0.0026\n",
      "Epoch 45/50\n",
      " - 2s - loss: 0.0022 - acc: 5.8360e-04 - val_loss: 0.0045 - val_acc: 0.0026\n",
      "Epoch 46/50\n",
      " - 2s - loss: 0.0021 - acc: 5.8360e-04 - val_loss: 0.0048 - val_acc: 0.0026\n",
      "Epoch 47/50\n",
      " - 2s - loss: 0.0020 - acc: 5.8360e-04 - val_loss: 0.0034 - val_acc: 0.0026\n",
      "Epoch 48/50\n",
      " - 2s - loss: 0.0023 - acc: 5.8360e-04 - val_loss: 0.0035 - val_acc: 0.0026\n",
      "Epoch 49/50\n",
      " - 2s - loss: 0.0021 - acc: 5.8360e-04 - val_loss: 0.0023 - val_acc: 0.0026\n",
      "Epoch 50/50\n",
      " - 2s - loss: 0.0020 - acc: 5.8360e-04 - val_loss: 0.0025 - val_acc: 0.0026\n"
     ]
    },
    {
     "data": {
      "text/plain": [
       "<keras.callbacks.History at 0x7fe7980d4198>"
      ]
     },
     "execution_count": 37,
     "metadata": {},
     "output_type": "execute_result"
    }
   ],
   "source": [
    "model.fit(X_train, y_train, batch_size=256, nb_epoch=50, validation_data = (X_test, y_test), verbose=2)"
   ]
  },
  {
   "cell_type": "code",
   "execution_count": 38,
   "metadata": {},
   "outputs": [
    {
     "name": "stdout",
     "output_type": "stream",
     "text": [
      "757/757 [==============================] - 0s 170us/step\n"
     ]
    }
   ],
   "source": [
    "score= model.evaluate(X_test, y_test, batch_size=256)"
   ]
  },
  {
   "cell_type": "code",
   "execution_count": 39,
   "metadata": {},
   "outputs": [
    {
     "name": "stdout",
     "output_type": "stream",
     "text": [
      "[0.002518558469348768, 0.0026420078688157204]\n"
     ]
    }
   ],
   "source": [
    "print (score)"
   ]
  },
  {
   "cell_type": "code",
   "execution_count": 40,
   "metadata": {},
   "outputs": [],
   "source": [
    "y_pred= model.predict(X_test)"
   ]
  },
  {
   "cell_type": "code",
   "execution_count": 41,
   "metadata": {},
   "outputs": [
    {
     "data": {
      "image/png": "[encoded data removed]",
      "text/plain": [
       "<Figure size 432x288 with 1 Axes>"
      ]
     },
     "metadata": {
      "needs_background": "light"
     },
     "output_type": "display_data"
    }
   ],
   "source": [
    "plt.plot(y_pred, 'r-')\n",
    "plt.plot(y_test, 'b-')\n",
    "plt.show()"
   ]
  },
  {
   "cell_type": "code",
   "execution_count": 42,
   "metadata": {},
   "outputs": [
    {
     "data": {
      "image/png": "[encoded data removed]",
      "text/plain": [
       "<Figure size 432x288 with 1 Axes>"
      ]
     },
     "metadata": {
      "needs_background": "light"
     },
     "output_type": "display_data"
    }
   ],
   "source": [
    "plt.plot (y_pred, y_test, 'bo')\n",
    "plt.xlabel('y_pred')\n",
    "plt.ylabel('y_test')\n",
    "plt.show()"
   ]
  },
  {
   "cell_type": "code",
   "execution_count": null,
   "metadata": {},
   "outputs": [],
   "source": []
  },
  {
   "cell_type": "code",
   "execution_count": null,
   "metadata": {},
   "outputs": [],
   "source": []
  }
 ],
 "metadata": {
  "kernelspec": {
   "display_name": "Python 3",
   "language": "python",
   "name": "python3"
  },
  "language_info": {
   "codemirror_mode": {
    "name": "ipython",
    "version": 3
   },
   "file_extension": ".py",
   "mimetype": "text/x-python",
   "name": "python",
   "nbconvert_exporter": "python",
   "pygments_lexer": "ipython3",
   "version": "3.7.2"
  }
 },
 "nbformat": 4,
 "nbformat_minor": 2
}
