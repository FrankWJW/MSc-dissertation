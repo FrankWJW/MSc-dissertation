{
 "cells": [
  {
   "cell_type": "code",
   "execution_count": 66,
   "metadata": {},
   "outputs": [],
   "source": [
    "import numpy as np\n",
    "import pandas as pd\n",
    "import torch\n",
    "import torch.nn as nn\n",
    "import torch.nn.functional as F\n",
    "from keras.layers import Dense, Dropout, Activation, LSTM, Convolution1D, MaxPooling1D, Flatten\n",
    "from keras.models import Sequential\n",
    "import matplotlib.pyplot as plt\n",
    "%matplotlib inline"
   ]
  },
  {
   "cell_type": "code",
   "execution_count": 67,
   "metadata": {},
   "outputs": [
    {
     "name": "stdout",
     "output_type": "stream",
     "text": [
      " \u001b[0m\u001b[01;31mArchive.zip\u001b[0m             'SP500 05-16.csv'\r\n",
      "'CBOE yearly 04-18.csv'   stock_conv1d-Copy1.ipynb\r\n",
      "'^DJI.csv'                stock_conv1d.ipynb\r\n",
      "'EUR_GBP 05-16.csv'       stock_conv1d-out-of-sample.ipynb\r\n",
      "'EUR_JPY 05-16.csv'       stock_dilatedconv+lstm.ipynb\r\n",
      "'EUR_USD 05-16.csv'       stock_lstm+conv1d.ipynb\r\n",
      "'GBP_JPY 05-16.csv'       stock_nn.ipynb\r\n",
      "'GBP_USD 05-16.csv'       stock_rnn_lstm.ipynb\r\n",
      "'^GSPC.csv'              'Volatility 05-16.csv'\r\n",
      " README.md\r\n"
     ]
    }
   ],
   "source": [
    "## Data preparation\n",
    "%ls"
   ]
  },
  {
   "cell_type": "code",
   "execution_count": 68,
   "metadata": {},
   "outputs": [
    {
     "data": {
      "text/html": [
       "<div>\n",
       "<style scoped>\n",
       "    .dataframe tbody tr th:only-of-type {\n",
       "        vertical-align: middle;\n",
       "    }\n",
       "\n",
       "    .dataframe tbody tr th {\n",
       "        vertical-align: top;\n",
       "    }\n",
       "\n",
       "    .dataframe thead th {\n",
       "        text-align: right;\n",
       "    }\n",
       "</style>\n",
       "<table border=\"1\" class=\"dataframe\">\n",
       "  <thead>\n",
       "    <tr style=\"text-align: right;\">\n",
       "      <th></th>\n",
       "      <th>Date</th>\n",
       "      <th>Open</th>\n",
       "      <th>High</th>\n",
       "      <th>Low</th>\n",
       "      <th>Close</th>\n",
       "      <th>Adj Close</th>\n",
       "      <th>Volume</th>\n",
       "    </tr>\n",
       "  </thead>\n",
       "  <tbody>\n",
       "    <tr>\n",
       "      <th>4279</th>\n",
       "      <td>2017-01-05</td>\n",
       "      <td>19924.560547</td>\n",
       "      <td>19948.599609</td>\n",
       "      <td>19811.119141</td>\n",
       "      <td>19899.289063</td>\n",
       "      <td>19899.289063</td>\n",
       "      <td>269920000</td>\n",
       "    </tr>\n",
       "    <tr>\n",
       "      <th>4280</th>\n",
       "      <td>2017-01-06</td>\n",
       "      <td>19906.960938</td>\n",
       "      <td>19999.630859</td>\n",
       "      <td>19834.080078</td>\n",
       "      <td>19963.800781</td>\n",
       "      <td>19963.800781</td>\n",
       "      <td>277700000</td>\n",
       "    </tr>\n",
       "    <tr>\n",
       "      <th>4281</th>\n",
       "      <td>2017-01-09</td>\n",
       "      <td>19931.410156</td>\n",
       "      <td>19943.779297</td>\n",
       "      <td>19887.380859</td>\n",
       "      <td>19887.380859</td>\n",
       "      <td>19887.380859</td>\n",
       "      <td>287060000</td>\n",
       "    </tr>\n",
       "    <tr>\n",
       "      <th>4282</th>\n",
       "      <td>2017-01-10</td>\n",
       "      <td>19876.349609</td>\n",
       "      <td>19957.119141</td>\n",
       "      <td>19836.029297</td>\n",
       "      <td>19855.529297</td>\n",
       "      <td>19855.529297</td>\n",
       "      <td>299410000</td>\n",
       "    </tr>\n",
       "    <tr>\n",
       "      <th>4283</th>\n",
       "      <td>2017-01-11</td>\n",
       "      <td>19887.380859</td>\n",
       "      <td>19973.419922</td>\n",
       "      <td>19833.160156</td>\n",
       "      <td>19954.279297</td>\n",
       "      <td>19954.279297</td>\n",
       "      <td>336150000</td>\n",
       "    </tr>\n",
       "  </tbody>\n",
       "</table>\n",
       "</div>"
      ],
      "text/plain": [
       "            Date          Open          High           Low         Close  \\\n",
       "4279  2017-01-05  19924.560547  19948.599609  19811.119141  19899.289063   \n",
       "4280  2017-01-06  19906.960938  19999.630859  19834.080078  19963.800781   \n",
       "4281  2017-01-09  19931.410156  19943.779297  19887.380859  19887.380859   \n",
       "4282  2017-01-10  19876.349609  19957.119141  19836.029297  19855.529297   \n",
       "4283  2017-01-11  19887.380859  19973.419922  19833.160156  19954.279297   \n",
       "\n",
       "         Adj Close     Volume  \n",
       "4279  19899.289063  269920000  \n",
       "4280  19963.800781  277700000  \n",
       "4281  19887.380859  287060000  \n",
       "4282  19855.529297  299410000  \n",
       "4283  19954.279297  336150000  "
      ]
     },
     "execution_count": 68,
     "metadata": {},
     "output_type": "execute_result"
    }
   ],
   "source": [
    "data= pd.read_csv('^DJI.csv')\n",
    "data.tail()"
   ]
  },
  {
   "cell_type": "code",
   "execution_count": 69,
   "metadata": {},
   "outputs": [
    {
     "data": {
      "text/html": [
       "<div>\n",
       "<style scoped>\n",
       "    .dataframe tbody tr th:only-of-type {\n",
       "        vertical-align: middle;\n",
       "    }\n",
       "\n",
       "    .dataframe tbody tr th {\n",
       "        vertical-align: top;\n",
       "    }\n",
       "\n",
       "    .dataframe thead th {\n",
       "        text-align: right;\n",
       "    }\n",
       "</style>\n",
       "<table border=\"1\" class=\"dataframe\">\n",
       "  <thead>\n",
       "    <tr style=\"text-align: right;\">\n",
       "      <th></th>\n",
       "      <th>Date</th>\n",
       "      <th>Open</th>\n",
       "      <th>High</th>\n",
       "      <th>Low</th>\n",
       "      <th>Close</th>\n",
       "      <th>Adj Close</th>\n",
       "      <th>Volume</th>\n",
       "    </tr>\n",
       "  </thead>\n",
       "  <tbody>\n",
       "    <tr>\n",
       "      <th>4279</th>\n",
       "      <td>2017-01-05</td>\n",
       "      <td>19924.560547</td>\n",
       "      <td>19948.599609</td>\n",
       "      <td>19811.119141</td>\n",
       "      <td>19899.289063</td>\n",
       "      <td>19899.289063</td>\n",
       "      <td>269920000</td>\n",
       "    </tr>\n",
       "    <tr>\n",
       "      <th>4280</th>\n",
       "      <td>2017-01-06</td>\n",
       "      <td>19906.960938</td>\n",
       "      <td>19999.630859</td>\n",
       "      <td>19834.080078</td>\n",
       "      <td>19963.800781</td>\n",
       "      <td>19963.800781</td>\n",
       "      <td>277700000</td>\n",
       "    </tr>\n",
       "    <tr>\n",
       "      <th>4281</th>\n",
       "      <td>2017-01-09</td>\n",
       "      <td>19931.410156</td>\n",
       "      <td>19943.779297</td>\n",
       "      <td>19887.380859</td>\n",
       "      <td>19887.380859</td>\n",
       "      <td>19887.380859</td>\n",
       "      <td>287060000</td>\n",
       "    </tr>\n",
       "    <tr>\n",
       "      <th>4282</th>\n",
       "      <td>2017-01-10</td>\n",
       "      <td>19876.349609</td>\n",
       "      <td>19957.119141</td>\n",
       "      <td>19836.029297</td>\n",
       "      <td>19855.529297</td>\n",
       "      <td>19855.529297</td>\n",
       "      <td>299410000</td>\n",
       "    </tr>\n",
       "    <tr>\n",
       "      <th>4283</th>\n",
       "      <td>2017-01-11</td>\n",
       "      <td>19887.380859</td>\n",
       "      <td>19973.419922</td>\n",
       "      <td>19833.160156</td>\n",
       "      <td>19954.279297</td>\n",
       "      <td>19954.279297</td>\n",
       "      <td>336150000</td>\n",
       "    </tr>\n",
       "  </tbody>\n",
       "</table>\n",
       "</div>"
      ],
      "text/plain": [
       "            Date          Open          High           Low         Close  \\\n",
       "4279  2017-01-05  19924.560547  19948.599609  19811.119141  19899.289063   \n",
       "4280  2017-01-06  19906.960938  19999.630859  19834.080078  19963.800781   \n",
       "4281  2017-01-09  19931.410156  19943.779297  19887.380859  19887.380859   \n",
       "4282  2017-01-10  19876.349609  19957.119141  19836.029297  19855.529297   \n",
       "4283  2017-01-11  19887.380859  19973.419922  19833.160156  19954.279297   \n",
       "\n",
       "         Adj Close     Volume  \n",
       "4279  19899.289063  269920000  \n",
       "4280  19963.800781  277700000  \n",
       "4281  19887.380859  287060000  \n",
       "4282  19855.529297  299410000  \n",
       "4283  19954.279297  336150000  "
      ]
     },
     "execution_count": 69,
     "metadata": {},
     "output_type": "execute_result"
    }
   ],
   "source": [
    "data= data.dropna(axis=0)#drop rows which may contain missing values\n",
    "data.tail()"
   ]
  },
  {
   "cell_type": "code",
   "execution_count": 70,
   "metadata": {},
   "outputs": [
    {
     "name": "stdout",
     "output_type": "stream",
     "text": [
      "(4284, 4)\n"
     ]
    }
   ],
   "source": [
    "data= data.values[:, 1:5]\n",
    "print (data.shape)"
   ]
  },
  {
   "cell_type": "code",
   "execution_count": 71,
   "metadata": {},
   "outputs": [
    {
     "name": "stdout",
     "output_type": "stream",
     "text": [
      "[[11501.849609 11522.009766 11305.69043 11357.509766]\n",
      " [11349.75 11350.05957 10986.450195 10997.929688]\n",
      " [10989.370117 11215.099609 10938.669922 11122.650391]\n",
      " [11113.370117 11313.450195 11098.450195 11253.259766]\n",
      " [11247.05957 11528.139648 11239.919922 11522.55957]\n",
      " [11532.480469 11638.280273 11532.480469 11572.200195]]\n"
     ]
    }
   ],
   "source": [
    "print (data[:6, :])"
   ]
  },
  {
   "cell_type": "code",
   "execution_count": 72,
   "metadata": {},
   "outputs": [
    {
     "name": "stdout",
     "output_type": "stream",
     "text": [
      "(4283,)\n",
      "(4283, 4)\n"
     ]
    }
   ],
   "source": [
    "y= data[1:, 3] #the close price\n",
    "print (y.shape)\n",
    "X= data[:4283,:]\n",
    "print (X.shape)"
   ]
  },
  {
   "cell_type": "code",
   "execution_count": 73,
   "metadata": {},
   "outputs": [
    {
     "name": "stdout",
     "output_type": "stream",
     "text": [
      "[19918.880859 19933.810547 19945.039063 19833.679688 19819.779297\n",
      " 19762.599609 19881.759766 19942.160156 19899.289063 19963.800781\n",
      " 19887.380859 19855.529297 19954.279297]\n",
      "[10997.929688 11122.650391 11253.259766 11522.55957 11572.200195\n",
      " 11511.080078 11551.099609]\n"
     ]
    }
   ],
   "source": [
    "# y= (y- min(y))/(max(y)- min(y)) #??? normalsation\n",
    "print (y[4270:])\n",
    "print (y[:7])"
   ]
  },
  {
   "cell_type": "code",
   "execution_count": 74,
   "metadata": {},
   "outputs": [
    {
     "name": "stdout",
     "output_type": "stream",
     "text": [
      "(4283, 4)\n",
      "[[11501.849609 11522.009766 11305.69043 11357.509766]\n",
      " [11349.75 11350.05957 10986.450195 10997.929688]\n",
      " [10989.370117 11215.099609 10938.669922 11122.650391]]\n"
     ]
    }
   ],
   "source": [
    "# X= (X- np.min(X,axis=0))/(np.max(X, axis=0)-np.min(X,axis=0))\n",
    "print (X.shape)\n",
    "print (X[:3, :])"
   ]
  },
  {
   "cell_type": "code",
   "execution_count": 75,
   "metadata": {},
   "outputs": [
    {
     "data": {
      "text/plain": [
       "'\\nRowling the window size = 100 days\\nThis example is in sample forcasting\\nwhat is different of in sample and out of sample forecasting: \\n\\nhttps://stats.stackexchange.com/questions/260899/what-is-difference-between-in-sample-and-out-of-sample-forecasts\\n'"
      ]
     },
     "execution_count": 75,
     "metadata": {},
     "output_type": "execute_result"
    }
   ],
   "source": [
    "## Sequence data preparation\n",
    "\"\"\"\n",
    "Rowling the window size = 100 days\n",
    "This example is in sample forcasting\n",
    "what is different of in sample and out of sample forecasting: \n",
    "\n",
    "https://stats.stackexchange.com/questions/260899/what-is-difference-between-in-sample-and-out-of-sample-forecasts\n",
    "\"\"\""
   ]
  },
  {
   "cell_type": "code",
   "execution_count": 76,
   "metadata": {},
   "outputs": [
    {
     "name": "stdout",
     "output_type": "stream",
     "text": [
      "(4184, 100, 4) (4184,)\n"
     ]
    }
   ],
   "source": [
    "time_steps= 100 #1 to 100 days ahead\n",
    "X_new= np.zeros((X.shape[0] - time_steps +1, 100, X.shape[1]))\n",
    "y_new= np.zeros((y.shape[0] -time_steps +1,))\n",
    "for ix in range(X_new.shape[0]):\n",
    "    for jx in range(time_steps):\n",
    "        X_new[ix, jx, :]= X[ix +jx, :]\n",
    "    y_new[ix]= y[ix + time_steps -1]\n",
    "print (X_new.shape, y_new.shape)"
   ]
  },
  {
   "cell_type": "code",
   "execution_count": 77,
   "metadata": {},
   "outputs": [],
   "source": [
    "## split into train and test sets"
   ]
  },
  {
   "cell_type": "code",
   "execution_count": 78,
   "metadata": {},
   "outputs": [
    {
     "name": "stdout",
     "output_type": "stream",
     "text": [
      "(3427, 100, 4) (3427,)\n",
      "(757, 100, 4) (757,)\n"
     ]
    }
   ],
   "source": [
    "split = int(0.8*data.shape[0])\n",
    "X_train = X_new[:split]\n",
    "X_test = X_new[split:]\n",
    "\n",
    "y_train = y_new[:split]\n",
    "y_test = y_new[split:]\n",
    "\n",
    "print (X_train.shape, y_train.shape)\n",
    "print (X_test.shape, y_test.shape)"
   ]
  },
  {
   "cell_type": "code",
   "execution_count": 79,
   "metadata": {},
   "outputs": [],
   "source": [
    "# data normalisation after split the train/test\n",
    "\n",
    "y_train= (y_train- min(y_train))/(max(y_train)- min(y_train))\n",
    "X_train= (X_train- np.min(X_train,axis=0))/(np.max(X_train, axis=0)-np.min(X_train,axis=0))\n",
    "\n",
    "y_test= (y_test- min(y_test))/(max(y_test)- min(y_test))\n",
    "X_test= (X_test- np.min(X_test,axis=0))/(np.max(X_test, axis=0)-np.min(X_test,axis=0))"
   ]
  },
  {
   "cell_type": "code",
   "execution_count": 80,
   "metadata": {},
   "outputs": [],
   "source": [
    "## Model fitting"
   ]
  },
  {
   "cell_type": "code",
   "execution_count": 81,
   "metadata": {},
   "outputs": [
    {
     "name": "stdout",
     "output_type": "stream",
     "text": [
      "_________________________________________________________________\n",
      "Layer (type)                 Output Shape              Param #   \n",
      "=================================================================\n",
      "conv1d_5 (Conv1D)            (None, 100, 64)           832       \n",
      "_________________________________________________________________\n",
      "max_pooling1d_5 (MaxPooling1 (None, 50, 64)            0         \n",
      "_________________________________________________________________\n",
      "conv1d_6 (Conv1D)            (None, 50, 32)            6176      \n",
      "_________________________________________________________________\n",
      "max_pooling1d_6 (MaxPooling1 (None, 25, 32)            0         \n",
      "_________________________________________________________________\n",
      "flatten_3 (Flatten)          (None, 800)               0         \n",
      "_________________________________________________________________\n",
      "dense_3 (Dense)              (None, 1)                 801       \n",
      "_________________________________________________________________\n",
      "activation_3 (Activation)    (None, 1)                 0         \n",
      "=================================================================\n",
      "Total params: 7,809\n",
      "Trainable params: 7,809\n",
      "Non-trainable params: 0\n",
      "_________________________________________________________________\n"
     ]
    },
    {
     "name": "stderr",
     "output_type": "stream",
     "text": [
      "/home/wang/anaconda3/lib/python3.7/site-packages/ipykernel_launcher.py:2: UserWarning: Update your `Conv1D` call to the Keras 2 API: `Conv1D(64, 3, input_shape=(100, 4), padding=\"same\")`\n",
      "  \n",
      "/home/wang/anaconda3/lib/python3.7/site-packages/ipykernel_launcher.py:3: UserWarning: Update your `MaxPooling1D` call to the Keras 2 API: `MaxPooling1D(pool_size=2)`\n",
      "  This is separate from the ipykernel package so we can avoid doing imports until\n",
      "/home/wang/anaconda3/lib/python3.7/site-packages/ipykernel_launcher.py:4: UserWarning: Update your `Conv1D` call to the Keras 2 API: `Conv1D(32, 3, padding=\"same\")`\n",
      "  after removing the cwd from sys.path.\n",
      "/home/wang/anaconda3/lib/python3.7/site-packages/ipykernel_launcher.py:5: UserWarning: Update your `MaxPooling1D` call to the Keras 2 API: `MaxPooling1D(pool_size=2)`\n",
      "  \"\"\"\n",
      "/home/wang/anaconda3/lib/python3.7/site-packages/ipykernel_launcher.py:7: UserWarning: Update your `Dense` call to the Keras 2 API: `Dense(units=1)`\n",
      "  import sys\n"
     ]
    }
   ],
   "source": [
    "model = Sequential()\n",
    "model.add(Convolution1D(64, 3, input_shape= (100,4), border_mode='same'))\n",
    "model.add(MaxPooling1D(pool_length=2))\n",
    "model.add(Convolution1D(32, 3, border_mode='same'))\n",
    "model.add(MaxPooling1D(pool_length=2))\n",
    "model.add(Flatten())\n",
    "model.add(Dense(output_dim=1))\n",
    "model.add(Activation('linear'))\n",
    "\n",
    "model.summary()\n",
    "\n",
    "# from torchsummary import summary\n",
    "\n",
    "# class model(nn.Module):\n",
    "#     def __init__(self, input_dim, embedding_dim, hidden_dim, output_dim):\n",
    "#         super().__init__()\n",
    "        \n",
    "#         self.conv1 = nn.Conv1d(64, 3, (100,4), padding=0)\n",
    "#         self.conv2 = nn.Conv1d(32,3,padding=0)\n",
    "#         self.fc1 = nn.Linear(16, 1)\n",
    "        \n",
    "        \n",
    "#     def forward(self,x):\n",
    "#         out = self.conv1(x)\n",
    "# #         out = F.relu(out)\n",
    "#         out = F.max_pool1d(out, 2)\n",
    "#         out = self.conv2(x)\n",
    "# #         out = F.relu(out)\n",
    "#         out = F.max_pool1d(out, 2)\n",
    "#         out = out.view(out.shape[0], -1)\n",
    "#         out = self.fc1(out)\n",
    "#         out = F.relu(out)\n",
    "#         return out\n",
    "# summary(model)"
   ]
  },
  {
   "cell_type": "code",
   "execution_count": 82,
   "metadata": {},
   "outputs": [],
   "source": [
    "model.compile(loss='mse', optimizer='adam', metrics=['accuracy'])"
   ]
  },
  {
   "cell_type": "code",
   "execution_count": 83,
   "metadata": {
    "scrolled": true
   },
   "outputs": [
    {
     "name": "stderr",
     "output_type": "stream",
     "text": [
      "/home/wang/anaconda3/lib/python3.7/site-packages/ipykernel_launcher.py:1: UserWarning: The `nb_epoch` argument in `fit` has been renamed `epochs`.\n",
      "  \"\"\"Entry point for launching an IPython kernel.\n"
     ]
    },
    {
     "name": "stdout",
     "output_type": "stream",
     "text": [
      "Epoch 1/50\n",
      " - 0s - loss: 0.0990 - acc: 2.9180e-04\n",
      "Epoch 2/50\n",
      " - 0s - loss: 0.0160 - acc: 5.8360e-04\n",
      "Epoch 3/50\n",
      " - 0s - loss: 0.0056 - acc: 5.8360e-04\n",
      "Epoch 4/50\n",
      " - 0s - loss: 0.0038 - acc: 5.8360e-04\n",
      "Epoch 5/50\n",
      " - 0s - loss: 0.0027 - acc: 5.8360e-04\n",
      "Epoch 6/50\n",
      " - 0s - loss: 0.0023 - acc: 5.8360e-04\n",
      "Epoch 7/50\n",
      " - 0s - loss: 0.0019 - acc: 5.8360e-04\n",
      "Epoch 8/50\n",
      " - 0s - loss: 0.0017 - acc: 5.8360e-04\n",
      "Epoch 9/50\n",
      " - 0s - loss: 0.0015 - acc: 5.8360e-04\n",
      "Epoch 10/50\n",
      " - 0s - loss: 0.0014 - acc: 5.8360e-04\n",
      "Epoch 11/50\n",
      " - 0s - loss: 0.0013 - acc: 5.8360e-04\n",
      "Epoch 12/50\n",
      " - 0s - loss: 0.0012 - acc: 5.8360e-04\n",
      "Epoch 13/50\n",
      " - 0s - loss: 0.0011 - acc: 5.8360e-04\n",
      "Epoch 14/50\n",
      " - 0s - loss: 0.0010 - acc: 5.8360e-04\n",
      "Epoch 15/50\n",
      " - 0s - loss: 9.8329e-04 - acc: 5.8360e-04\n",
      "Epoch 16/50\n",
      " - 0s - loss: 9.3737e-04 - acc: 5.8360e-04\n",
      "Epoch 17/50\n",
      " - 0s - loss: 8.8256e-04 - acc: 5.8360e-04\n",
      "Epoch 18/50\n",
      " - 0s - loss: 8.3064e-04 - acc: 5.8360e-04\n",
      "Epoch 19/50\n",
      " - 0s - loss: 8.0295e-04 - acc: 5.8360e-04\n",
      "Epoch 20/50\n",
      " - 0s - loss: 7.6034e-04 - acc: 5.8360e-04\n",
      "Epoch 21/50\n",
      " - 0s - loss: 7.4265e-04 - acc: 5.8360e-04\n",
      "Epoch 22/50\n",
      " - 0s - loss: 7.1783e-04 - acc: 5.8360e-04\n",
      "Epoch 23/50\n",
      " - 0s - loss: 6.6984e-04 - acc: 5.8360e-04\n",
      "Epoch 24/50\n",
      " - 0s - loss: 6.3980e-04 - acc: 5.8360e-04\n",
      "Epoch 25/50\n",
      " - 0s - loss: 6.2107e-04 - acc: 5.8360e-04\n",
      "Epoch 26/50\n",
      " - 0s - loss: 6.0828e-04 - acc: 5.8360e-04\n",
      "Epoch 27/50\n",
      " - 0s - loss: 5.9553e-04 - acc: 5.8360e-04\n",
      "Epoch 28/50\n",
      " - 0s - loss: 5.7050e-04 - acc: 5.8360e-04\n",
      "Epoch 29/50\n",
      " - 0s - loss: 5.7684e-04 - acc: 5.8360e-04\n",
      "Epoch 30/50\n",
      " - 0s - loss: 5.3730e-04 - acc: 5.8360e-04\n",
      "Epoch 31/50\n",
      " - 0s - loss: 5.2364e-04 - acc: 5.8360e-04\n",
      "Epoch 32/50\n",
      " - 0s - loss: 5.1330e-04 - acc: 5.8360e-04\n",
      "Epoch 33/50\n",
      " - 0s - loss: 5.0238e-04 - acc: 5.8360e-04\n",
      "Epoch 34/50\n",
      " - 0s - loss: 4.9101e-04 - acc: 5.8360e-04\n",
      "Epoch 35/50\n",
      " - 0s - loss: 4.8290e-04 - acc: 5.8360e-04\n",
      "Epoch 36/50\n",
      " - 0s - loss: 4.7997e-04 - acc: 5.8360e-04\n",
      "Epoch 37/50\n",
      " - 0s - loss: 4.7286e-04 - acc: 5.8360e-04\n",
      "Epoch 38/50\n",
      " - 0s - loss: 4.7838e-04 - acc: 5.8360e-04\n",
      "Epoch 39/50\n",
      " - 0s - loss: 4.6771e-04 - acc: 5.8360e-04\n",
      "Epoch 40/50\n",
      " - 0s - loss: 4.5531e-04 - acc: 5.8360e-04\n",
      "Epoch 41/50\n",
      " - 0s - loss: 4.5446e-04 - acc: 5.8360e-04\n",
      "Epoch 42/50\n",
      " - 0s - loss: 4.4253e-04 - acc: 5.8360e-04\n",
      "Epoch 43/50\n",
      " - 0s - loss: 4.4746e-04 - acc: 5.8360e-04\n",
      "Epoch 44/50\n",
      " - 0s - loss: 4.2828e-04 - acc: 5.8360e-04\n",
      "Epoch 45/50\n",
      " - 0s - loss: 4.3861e-04 - acc: 5.8360e-04\n",
      "Epoch 46/50\n",
      " - 0s - loss: 4.1958e-04 - acc: 5.8360e-04\n",
      "Epoch 47/50\n",
      " - 0s - loss: 4.1878e-04 - acc: 5.8360e-04\n",
      "Epoch 48/50\n",
      " - 0s - loss: 4.2152e-04 - acc: 5.8360e-04\n",
      "Epoch 49/50\n",
      " - 0s - loss: 4.0524e-04 - acc: 5.8360e-04\n",
      "Epoch 50/50\n",
      " - 0s - loss: 4.2062e-04 - acc: 5.8360e-04\n"
     ]
    },
    {
     "data": {
      "text/plain": [
       "<keras.callbacks.History at 0x7fc31e634390>"
      ]
     },
     "execution_count": 83,
     "metadata": {},
     "output_type": "execute_result"
    }
   ],
   "source": [
    "model.fit(X_train, y_train, batch_size=256, nb_epoch=50,  verbose=2)"
   ]
  },
  {
   "cell_type": "code",
   "execution_count": 84,
   "metadata": {},
   "outputs": [
    {
     "name": "stdout",
     "output_type": "stream",
     "text": [
      "757/757 [==============================] - 0s 68us/step\n"
     ]
    }
   ],
   "source": [
    "score= model.evaluate(X_test, y_test, batch_size=256)"
   ]
  },
  {
   "cell_type": "code",
   "execution_count": 85,
   "metadata": {},
   "outputs": [
    {
     "name": "stdout",
     "output_type": "stream",
     "text": [
      "[0.0027701540129158346, 0.0026420078688157204]\n"
     ]
    }
   ],
   "source": [
    "print (score)"
   ]
  },
  {
   "cell_type": "code",
   "execution_count": 86,
   "metadata": {},
   "outputs": [
    {
     "data": {
      "text/plain": [
       "(757, 1)"
      ]
     },
     "execution_count": 86,
     "metadata": {},
     "output_type": "execute_result"
    }
   ],
   "source": [
    "y_pred= model.predict(X_test)\n",
    "y_pred.shape"
   ]
  },
  {
   "cell_type": "code",
   "execution_count": 87,
   "metadata": {},
   "outputs": [
    {
     "data": {
      "image/png": "[encoded data removed]",
      "text/plain": [
       "<Figure size 432x288 with 1 Axes>"
      ]
     },
     "metadata": {
      "needs_background": "light"
     },
     "output_type": "display_data"
    }
   ],
   "source": [
    "plt.plot(range(len(y_pred)), y_pred, 'r-')\n",
    "plt.plot(range(len(y_test)), y_test, 'b-')\n",
    "plt.show()"
   ]
  },
  {
   "cell_type": "code",
   "execution_count": 88,
   "metadata": {},
   "outputs": [
    {
     "data": {
      "image/png": "[encoded data removed]",
      "text/plain": [
       "<Figure size 432x288 with 1 Axes>"
      ]
     },
     "metadata": {
      "needs_background": "light"
     },
     "output_type": "display_data"
    }
   ],
   "source": [
    "plt.plot (y_pred, y_test, 'bo')\n",
    "plt.xlabel('y_pred')\n",
    "plt.ylabel('y_test')\n",
    "plt.show()"
   ]
  },
  {
   "cell_type": "code",
   "execution_count": 89,
   "metadata": {
    "scrolled": true
   },
   "outputs": [
    {
     "name": "stdout",
     "output_type": "stream",
     "text": [
      " \u001b[0m\u001b[01;31mArchive.zip\u001b[0m             'SP500 05-16.csv'\r\n",
      "'CBOE yearly 04-18.csv'   stock_conv1d-Copy1.ipynb\r\n",
      "'^DJI.csv'                stock_conv1d.ipynb\r\n",
      "'EUR_GBP 05-16.csv'       stock_conv1d-out-of-sample.ipynb\r\n",
      "'EUR_JPY 05-16.csv'       stock_dilatedconv+lstm.ipynb\r\n",
      "'EUR_USD 05-16.csv'       stock_lstm+conv1d.ipynb\r\n",
      "'GBP_JPY 05-16.csv'       stock_nn.ipynb\r\n",
      "'GBP_USD 05-16.csv'       stock_rnn_lstm.ipynb\r\n",
      "'^GSPC.csv'              'Volatility 05-16.csv'\r\n",
      " README.md\r\n"
     ]
    }
   ],
   "source": [
    "%ls"
   ]
  },
  {
   "cell_type": "code",
   "execution_count": 90,
   "metadata": {
    "scrolled": true
   },
   "outputs": [
    {
     "data": {
      "text/html": [
       "<div>\n",
       "<style scoped>\n",
       "    .dataframe tbody tr th:only-of-type {\n",
       "        vertical-align: middle;\n",
       "    }\n",
       "\n",
       "    .dataframe tbody tr th {\n",
       "        vertical-align: top;\n",
       "    }\n",
       "\n",
       "    .dataframe thead th {\n",
       "        text-align: right;\n",
       "    }\n",
       "</style>\n",
       "<table border=\"1\" class=\"dataframe\">\n",
       "  <thead>\n",
       "    <tr style=\"text-align: right;\">\n",
       "      <th></th>\n",
       "      <th>Date</th>\n",
       "      <th>Open</th>\n",
       "      <th>High</th>\n",
       "      <th>Low</th>\n",
       "      <th>Close</th>\n",
       "      <th>Adj Close</th>\n",
       "      <th>Volume</th>\n",
       "    </tr>\n",
       "  </thead>\n",
       "  <tbody>\n",
       "    <tr>\n",
       "      <th>1254</th>\n",
       "      <td>2019-06-19</td>\n",
       "      <td>2920.550049</td>\n",
       "      <td>2931.739990</td>\n",
       "      <td>2911.429932</td>\n",
       "      <td>2926.459961</td>\n",
       "      <td>2926.459961</td>\n",
       "      <td>3287890000</td>\n",
       "    </tr>\n",
       "    <tr>\n",
       "      <th>1255</th>\n",
       "      <td>2019-06-20</td>\n",
       "      <td>2949.600098</td>\n",
       "      <td>2958.060059</td>\n",
       "      <td>2931.500000</td>\n",
       "      <td>2954.179932</td>\n",
       "      <td>2954.179932</td>\n",
       "      <td>3905940000</td>\n",
       "    </tr>\n",
       "    <tr>\n",
       "      <th>1256</th>\n",
       "      <td>2019-06-21</td>\n",
       "      <td>2952.709961</td>\n",
       "      <td>2964.149902</td>\n",
       "      <td>2946.870117</td>\n",
       "      <td>2950.459961</td>\n",
       "      <td>2950.459961</td>\n",
       "      <td>5000120000</td>\n",
       "    </tr>\n",
       "    <tr>\n",
       "      <th>1257</th>\n",
       "      <td>2019-06-24</td>\n",
       "      <td>2951.419922</td>\n",
       "      <td>2954.919922</td>\n",
       "      <td>2944.050049</td>\n",
       "      <td>2945.350098</td>\n",
       "      <td>2945.350098</td>\n",
       "      <td>3136250000</td>\n",
       "    </tr>\n",
       "    <tr>\n",
       "      <th>1258</th>\n",
       "      <td>2019-06-25</td>\n",
       "      <td>2945.780029</td>\n",
       "      <td>2946.520020</td>\n",
       "      <td>2916.010010</td>\n",
       "      <td>2917.379883</td>\n",
       "      <td>2917.379883</td>\n",
       "      <td>2020032887</td>\n",
       "    </tr>\n",
       "  </tbody>\n",
       "</table>\n",
       "</div>"
      ],
      "text/plain": [
       "            Date         Open         High          Low        Close  \\\n",
       "1254  2019-06-19  2920.550049  2931.739990  2911.429932  2926.459961   \n",
       "1255  2019-06-20  2949.600098  2958.060059  2931.500000  2954.179932   \n",
       "1256  2019-06-21  2952.709961  2964.149902  2946.870117  2950.459961   \n",
       "1257  2019-06-24  2951.419922  2954.919922  2944.050049  2945.350098   \n",
       "1258  2019-06-25  2945.780029  2946.520020  2916.010010  2917.379883   \n",
       "\n",
       "        Adj Close      Volume  \n",
       "1254  2926.459961  3287890000  \n",
       "1255  2954.179932  3905940000  \n",
       "1256  2950.459961  5000120000  \n",
       "1257  2945.350098  3136250000  \n",
       "1258  2917.379883  2020032887  "
      ]
     },
     "execution_count": 90,
     "metadata": {},
     "output_type": "execute_result"
    }
   ],
   "source": [
    "data= pd.read_csv('^GSPC.csv')\n",
    "data.tail()"
   ]
  },
  {
   "cell_type": "code",
   "execution_count": 91,
   "metadata": {},
   "outputs": [
    {
     "name": "stdout",
     "output_type": "stream",
     "text": [
      "(1259, 4)\n"
     ]
    }
   ],
   "source": [
    "data= data.values[:, 1:5]\n",
    "print (data.shape)"
   ]
  },
  {
   "cell_type": "code",
   "execution_count": 92,
   "metadata": {},
   "outputs": [
    {
     "name": "stdout",
     "output_type": "stream",
     "text": [
      "(1258,)\n",
      "(1258, 4)\n"
     ]
    }
   ],
   "source": [
    "y= data[1:, 3] #the close price\n",
    "print (y.shape)\n",
    "X= data[:1258,:]\n",
    "print (X.shape)"
   ]
  },
  {
   "cell_type": "code",
   "execution_count": 93,
   "metadata": {},
   "outputs": [
    {
     "name": "stdout",
     "output_type": "stream",
     "text": [
      "(1258, 4) (1258,)\n"
     ]
    }
   ],
   "source": [
    "# data normalisation after split the train/test\n",
    "\n",
    "y= (y- min(y))/(max(y)- min(y))\n",
    "X= (X- np.min(X,axis=0))/(np.max(X, axis=0)-np.min(X,axis=0))\n",
    "print (X.shape, y.shape)"
   ]
  },
  {
   "cell_type": "code",
   "execution_count": 94,
   "metadata": {},
   "outputs": [
    {
     "name": "stdout",
     "output_type": "stream",
     "text": [
      "(1159, 100, 4) (1159,)\n"
     ]
    }
   ],
   "source": [
    "time_steps= 100 #1 to 100 days ahead\n",
    "X_new= np.zeros((X.shape[0] - time_steps +1, 100, X.shape[1]))\n",
    "y_new= np.zeros((y.shape[0] -time_steps +1,))\n",
    "for ix in range(X_new.shape[0]):\n",
    "    for jx in range(time_steps):\n",
    "        X_new[ix, jx, :]= X[ix +jx, :]\n",
    "    y_new[ix]= y[ix + time_steps -1]\n",
    "print (X_new.shape, y_new.shape)"
   ]
  },
  {
   "cell_type": "code",
   "execution_count": 95,
   "metadata": {},
   "outputs": [
    {
     "data": {
      "text/plain": [
       "(1159, 1)"
      ]
     },
     "execution_count": 95,
     "metadata": {},
     "output_type": "execute_result"
    }
   ],
   "source": [
    "y_pred= model.predict(X_new)\n",
    "y_pred.shape"
   ]
  },
  {
   "cell_type": "code",
   "execution_count": 96,
   "metadata": {},
   "outputs": [
    {
     "data": {
      "image/png": "[encoded data removed]",
      "text/plain": [
       "<Figure size 432x288 with 1 Axes>"
      ]
     },
     "metadata": {
      "needs_background": "light"
     },
     "output_type": "display_data"
    }
   ],
   "source": [
    "plt.plot(range(len(y_pred)), y_pred, 'r-')\n",
    "plt.plot(range(len(y_new)), y_new, 'b-')\n",
    "plt.show()"
   ]
  },
  {
   "cell_type": "code",
   "execution_count": 100,
   "metadata": {},
   "outputs": [
    {
     "data": {
      "image/png": "[encoded data removed]",
      "text/plain": [
       "<Figure size 432x288 with 1 Axes>"
      ]
     },
     "metadata": {
      "needs_background": "light"
     },
     "output_type": "display_data"
    }
   ],
   "source": [
    "plt.plot(y_pred[400:600], 'r-')\n",
    "plt.plot(y_new[400:600], 'b-')\n",
    "plt.show()"
   ]
  },
  {
   "cell_type": "code",
   "execution_count": 101,
   "metadata": {},
   "outputs": [
    {
     "data": {
      "image/png": "[encoded data removed]",
      "text/plain": [
       "<Figure size 432x288 with 1 Axes>"
      ]
     },
     "metadata": {
      "needs_background": "light"
     },
     "output_type": "display_data"
    }
   ],
   "source": [
    "plt.plot(y_pred[400:450], 'r-')\n",
    "plt.plot(y_new[400:450], 'b-')\n",
    "plt.show()"
   ]
  }
 ],
 "metadata": {
  "kernelspec": {
   "display_name": "Python 3",
   "language": "python",
   "name": "python3"
  },
  "language_info": {
   "codemirror_mode": {
    "name": "ipython",
    "version": 3
   },
   "file_extension": ".py",
   "mimetype": "text/x-python",
   "name": "python",
   "nbconvert_exporter": "python",
   "pygments_lexer": "ipython3",
   "version": "3.7.3"
  }
 },
 "nbformat": 4,
 "nbformat_minor": 2
}
