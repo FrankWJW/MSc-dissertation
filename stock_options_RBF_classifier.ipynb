{
 "cells": [
  {
   "cell_type": "code",
   "execution_count": 108,
   "metadata": {
    "scrolled": true
   },
   "outputs": [
    {
     "name": "stdout",
     "output_type": "stream",
     "text": [
      "The autoreload extension is already loaded. To reload it, use:\n",
      "  %reload_ext autoreload\n"
     ]
    }
   ],
   "source": [
    "%load_ext autoreload\n",
    "%autoreload 2\n",
    "\n",
    "import numpy as np\n",
    "import pandas as pd\n",
    "import torch\n",
    "import torch.nn as nn\n",
    "import torch.nn.functional as F\n",
    "# from keras.layers import Dense, Dropout, Activation, LSTM, Convolution1D, MaxPooling1D, Flatten\n",
    "# from keras.models import Sequential\n",
    "import matplotlib.pyplot as plt\n",
    "\n",
    "%matplotlib inline\n",
    "from torchbearer import Trial\n",
    "import os"
   ]
  },
  {
   "cell_type": "code",
   "execution_count": 109,
   "metadata": {
    "scrolled": true
   },
   "outputs": [],
   "source": [
    "import torch\n",
    "import torch.nn.functional as F\n",
    "import torchvision.transforms as transforms\n",
    "import torchbearer\n",
    "from torch import nn\n",
    "from torch import optim\n",
    "from torch.utils.data import DataLoader, TensorDataset, Dataset\n",
    "from torchvision.datasets import MNIST\n",
    "from torchbearer import Trial\n",
    "import torchvision.transforms as transforms"
   ]
  },
  {
   "cell_type": "code",
   "execution_count": 110,
   "metadata": {
    "scrolled": true
   },
   "outputs": [
    {
     "name": "stdout",
     "output_type": "stream",
     "text": [
      " 驱动器 D 中的卷是 Data\n",
      " 卷的序列号是 F66F-4A2F\n",
      "\n",
      " D:\\projects\\Stock-Market-Price-Prediction-master 的目录\n",
      "\n",
      "2019/08/09  12:18    <DIR>          .\n",
      "2019/08/09  12:18    <DIR>          ..\n",
      "2019/08/09  10:50    <DIR>          .git\n",
      "2019/08/09  11:40    <DIR>          .ipynb_checkpoints\n",
      "2019/06/22  15:43           363,722 ^DJI.csv\n",
      "2019/06/26  00:18           103,280 ^GSPC.csv\n",
      "2019/07/11  16:40           165,190 ^GSPC_2011_06_01-2019_06_01.csv\n",
      "2019/08/09  12:17    <DIR>          __pycache__\n",
      "2019/07/20  13:26            41,117 1d_conv.weights\n",
      "2019/07/20  08:46           381,476 5_1_CNN-Copy1.ipynb\n",
      "2019/06/24  16:48           335,219 Archive.zip\n",
      "2019/08/01  03:32               658 CBOE yearly 04-18.csv\n",
      "2019/07/22  04:20    <DIR>          data\n",
      "2019/08/01  03:32           189,414 EUR_GBP 05-16.csv\n",
      "2019/08/01  03:32           189,007 EUR_JPY 05-16.csv\n",
      "2019/08/01  03:32           189,396 EUR_USD 05-16.csv\n",
      "2019/08/01  03:32           189,370 GBP_JPY 05-16.csv\n",
      "2019/08/01  03:32           189,425 GBP_USD 05-16.csv\n",
      "2019/07/11  13:19             8,261 misc_functions.py\n",
      "2019/08/07  20:33               885 MLP_visualise_activation.ipynb\n",
      "2019/07/09  21:51    <DIR>          MNIST\n",
      "2019/08/07  20:33             1,129 README.md\n",
      "2019/08/07  20:33             6,118 simple MLP.ipynb\n",
      "2019/07/20  08:49           206,054 SP500 05-16.csv\n",
      "2019/08/09  10:13           112,152 stock_conditional_TS.ipynb\n",
      "2019/08/09  12:18            67,367 stock_conditional_TS_1dconv_classifier.ipynb\n",
      "2019/08/09  12:17            94,631 stock_conditional_TS_MLP_classifier.ipynb\n",
      "2019/06/26  14:00           125,642 stock_conv1d.ipynb\n",
      "2019/06/26  13:44           135,759 stock_conv1d-Copy1.ipynb\n",
      "2019/06/23  14:22            70,029 stock_conv1d-out-of-sample.ipynb\n",
      "2019/08/09  10:13           215,264 stock_conv1d-pytorch.ipynb\n",
      "2019/08/09  10:13           162,338 stock_dilatedconv+lstm.ipynb\n",
      "2019/08/09  10:13             9,467 stock_lstm+conv1d.ipynb\n",
      "2019/06/22  18:20            57,626 stock_nn.ipynb\n",
      "2019/06/25  13:35            62,261 stock_rnn_lstm.ipynb\n",
      "2019/08/08  16:58             5,256 train_test_split.ipynb\n",
      "2019/08/09  12:17             3,583 train_test_split.py\n",
      "2019/07/11  11:37             1,521 vanillabackprop.py\n",
      "2019/06/14  11:42           183,293 Volatility 05-16.csv\n",
      "              32 个文件      3,865,910 字节\n",
      "               7 个目录 32,500,563,968 可用字节\n"
     ]
    }
   ],
   "source": [
    "%ls"
   ]
  },
  {
   "cell_type": "code",
   "execution_count": 111,
   "metadata": {
    "scrolled": true
   },
   "outputs": [
    {
     "data": {
      "text/plain": [
       "'D:\\\\projects\\\\Stock-Market-Price-Prediction-master\\\\data'"
      ]
     },
     "execution_count": 111,
     "metadata": {},
     "output_type": "execute_result"
    }
   ],
   "source": [
    "datapath = os.path.join(os.getcwd(), 'data')\n",
    "datapath"
   ]
  },
  {
   "cell_type": "code",
   "execution_count": 112,
   "metadata": {
    "scrolled": true
   },
   "outputs": [
    {
     "name": "stdout",
     "output_type": "stream",
     "text": [
      " 驱动器 D 中的卷是 Data\n",
      " 卷的序列号是 F66F-4A2F\n",
      "\n",
      " D:\\projects\\Stock-Market-Price-Prediction-master\\data 的目录\n",
      "\n",
      "2019/07/22  04:20    <DIR>          .\n",
      "2019/07/22  04:20    <DIR>          ..\n",
      "2019/07/22  04:20           178,424 ^TNX.csv\n",
      "2019/07/14  16:21           190,344 ^VIX.csv\n",
      "2019/06/14  11:01               658 CBOE yearly 04-18.csv\n",
      "2019/06/14  11:51           189,414 EUR_GBP 05-16.csv\n",
      "2019/06/14  11:47           189,007 EUR_JPY 05-16.csv\n",
      "2019/06/14  11:44           189,396 EUR_USD 05-16.csv\n",
      "2019/06/14  11:49           189,370 GBP_JPY 05-16.csv\n",
      "2019/06/14  11:54           189,425 GBP_USD 05-16.csv\n",
      "2019/06/14  11:31           206,054 SP500 05-16.csv\n",
      "               9 个文件      1,522,092 字节\n",
      "               2 个目录 32,500,563,968 可用字节\n"
     ]
    }
   ],
   "source": [
    "%ls data"
   ]
  },
  {
   "cell_type": "markdown",
   "metadata": {},
   "source": [
    "# get the data"
   ]
  },
  {
   "cell_type": "code",
   "execution_count": 113,
   "metadata": {
    "scrolled": false
   },
   "outputs": [
    {
     "name": "stdout",
     "output_type": "stream",
     "text": [
      "CBOE yearly 04-18.csv \n",
      "    Change Date     Rate (%)\n",
      "32   13-Dec-17  1.25 - 1.50\n",
      "33   21-Mar-18  1.50 - 1.75\n",
      "34   13-Jun-18  1.75 - 2.00\n",
      "35   26-Sep-18  2.00 - 2.25\n",
      "36   19-Dec-18  2.25 - 2.50\n",
      "EUR_GBP 05-16.csv \n",
      "               Date   Price    Open    High     Low Change %\n",
      "3125  Jan 07, 2005  0.6981  0.7022  0.7049  0.6971   -0.64%\n",
      "3126  Jan 06, 2005  0.7026  0.7041  0.7055  0.7016   -0.24%\n",
      "3127  Jan 05, 2005  0.7043  0.7049  0.7073  0.7021   -0.17%\n",
      "3128  Jan 04, 2005  0.7055  0.7069  0.7076  0.7044   -0.20%\n",
      "3129  Jan 03, 2005  0.7069  0.7058  0.7097  0.7038   -0.01%\n",
      "EUR_JPY 05-16.csv \n",
      "               Date   Price    Open    High     Low Change %\n",
      "3125  Jan 07, 2005  136.80  138.23  138.74  136.44   -1.16%\n",
      "3126  Jan 06, 2005  138.41  138.03  138.69  137.85    0.28%\n",
      "3127  Jan 05, 2005  138.03  138.85  139.02  137.68   -0.58%\n",
      "3128  Jan 04, 2005  138.83  138.34  139.05  137.77    0.38%\n",
      "3129  Jan 03, 2005  138.31  139.07  139.31  138.06   -0.40%\n",
      "EUR_USD 05-16.csv \n",
      "               Date   Price    Open    High     Low Change %\n",
      "3125  Jan 07, 2005  1.3054  1.3171  1.3251  1.3024   -0.89%\n",
      "3126  Jan 06, 2005  1.3171  1.3262  1.3286  1.3156   -0.69%\n",
      "3127  Jan 05, 2005  1.3262  1.3282  1.3305  1.3215   -0.08%\n",
      "3128  Jan 04, 2005  1.3272  1.3466  1.3496  1.3249   -1.42%\n",
      "3129  Jan 03, 2005  1.3463  1.3547  1.3582  1.3386   -0.70%\n",
      "GBP_JPY 05-16.csv \n",
      "               Date   Price    Open    High     Low Change %\n",
      "3125  Jan 07, 2005  195.99  196.83  197.30  195.37   -0.52%\n",
      "3126  Jan 06, 2005  197.01  195.99  197.40  195.78    0.54%\n",
      "3127  Jan 05, 2005  195.96  196.93  197.04  195.53   -0.42%\n",
      "3128  Jan 04, 2005  196.78  195.69  197.08  195.05    0.60%\n",
      "3129  Jan 03, 2005  195.61  197.04  197.18  195.31   -0.45%\n",
      "GBP_USD 05-16.csv \n",
      "               Date   Price    Open    High     Low Change %\n",
      "3125  Jan 07, 2005  1.8699  1.8755  1.8867  1.8648   -0.27%\n",
      "3126  Jan 06, 2005  1.8750  1.8828  1.8857  1.8695   -0.42%\n",
      "3127  Jan 05, 2005  1.8830  1.8838  1.8903  1.8727    0.04%\n",
      "3128  Jan 04, 2005  1.8822  1.9045  1.9085  1.8781   -1.16%\n",
      "3129  Jan 03, 2005  1.9043  1.9199  1.9205  1.8981   -0.75%\n",
      "SP500 05-16.csv \n",
      "             Date        Price         Open         High          Low  \\\n",
      "3016  2016/12/23  2263.790039  2260.250000  2263.790039  2258.840088   \n",
      "3017  2016/12/27  2268.879883  2266.229980  2273.820068  2266.149902   \n",
      "3018  2016/12/28  2249.919922  2270.229980  2271.310059  2249.110107   \n",
      "3019  2016/12/29  2249.260010  2249.500000  2254.510010  2244.560059   \n",
      "3020  2016/12/30  2238.830078  2251.610107  2253.580078  2233.620117   \n",
      "\n",
      "          Volume  \n",
      "3016  2020550000  \n",
      "3017  1987080000  \n",
      "3018  2392360000  \n",
      "3019  2336370000  \n",
      "3020  2670900000  \n",
      "^TNX.csv \n",
      "             Date   Open   High    Low  Close  Adj Close  Volume\n",
      "3016  2016-12-23  2.541  2.545  2.526  2.543      2.543     0.0\n",
      "3017  2016-12-27  2.552  2.576  2.550  2.563      2.563     0.0\n",
      "3018  2016-12-28  2.560  2.563  2.503  2.506      2.506     0.0\n",
      "3019  2016-12-29  2.486  2.497  2.460  2.477      2.477     0.0\n",
      "3020  2016-12-30  2.474  2.483  2.432  2.446      2.446     0.0\n",
      "^VIX.csv \n",
      "             Date   Open   High    Low  Close  Adj Close  Volume\n",
      "3016  2016-12-23  11.38  11.81  11.35  11.44      11.44       0\n",
      "3017  2016-12-27  12.26  12.33  11.84  11.99      11.99       0\n",
      "3018  2016-12-28  11.89  13.04  11.85  12.95      12.95       0\n",
      "3019  2016-12-29  13.15  13.71  12.95  13.37      13.37       0\n",
      "3020  2016-12-30  13.20  14.68  13.05  14.04      14.04       0\n"
     ]
    }
   ],
   "source": [
    "data = []\n",
    "for i, file in enumerate(os.listdir(datapath)):\n",
    "    data.append(pd.read_csv(os.path.join(datapath,file))) \n",
    "for i in range(len(data)):\n",
    "    print(os.listdir(datapath)[i], '\\n', data[i].tail())"
   ]
  },
  {
   "cell_type": "code",
   "execution_count": 114,
   "metadata": {
    "scrolled": true
   },
   "outputs": [
    {
     "name": "stdout",
     "output_type": "stream",
     "text": [
      "37\n",
      "3130\n",
      "3130\n",
      "3130\n",
      "3130\n",
      "3130\n",
      "3021\n",
      "3021\n",
      "3021\n"
     ]
    }
   ],
   "source": [
    "#TNX: COBE 10 years interest rate\n",
    "#VIX: COBE volitility index\n",
    "for i in range(len(data)):\n",
    "    print(len(data[i]))"
   ]
  },
  {
   "cell_type": "code",
   "execution_count": 115,
   "metadata": {
    "scrolled": true
   },
   "outputs": [
    {
     "name": "stdout",
     "output_type": "stream",
     "text": [
      "(3021, 4)\n",
      "(3021, 4)\n",
      "(3021, 4)\n"
     ]
    }
   ],
   "source": [
    "# take TNX, VIX and SP500 and prepocessing\n",
    "sp500 = data[-3]\n",
    "tnx = data[-2]\n",
    "vix = data[-1]\n",
    "\n",
    "#take only some columns\n",
    "sp500= sp500.values[:, 1:5]\n",
    "print (sp500.shape)\n",
    "tnx= tnx.values[:, 1:5]\n",
    "print (tnx.shape)\n",
    "vix= vix.values[:, 1:5]\n",
    "print (vix.shape)"
   ]
  },
  {
   "cell_type": "code",
   "execution_count": 116,
   "metadata": {
    "scrolled": true
   },
   "outputs": [
    {
     "name": "stdout",
     "output_type": "stream",
     "text": [
      "(3, 3020, 4) (3, 3020)\n"
     ]
    }
   ],
   "source": [
    "# split sample X and target y\n",
    "X = np.zeros((3, 3020, 4))\n",
    "X[0,:,:] = sp500[:3020, :]\n",
    "X[1,:,:] = tnx[:3020, :]\n",
    "X[2,:,:] = vix[:3020, :]\n",
    "\n",
    "y = np.zeros((3,3020))\n",
    "y[0,:] = sp500[1:, 0] #price\n",
    "y[1,:] = tnx[1:, 3]\n",
    "y[2,:] = vix[1:, 3]\n",
    "\n",
    "print(X.shape, y.shape)"
   ]
  },
  {
   "cell_type": "code",
   "execution_count": 117,
   "metadata": {
    "scrolled": true
   },
   "outputs": [
    {
     "name": "stdout",
     "output_type": "stream",
     "text": [
      "[[1202.079956 1211.920044 1217.800049 1200.319946]\n",
      " [1188.050049 1202.079956 1205.839966 1185.390015]\n",
      " [1183.73999 1188.050049 1192.72998 1183.719971]\n",
      " ...\n",
      " [2268.8798829999996 2266.22998 2273.820068 2266.149902]\n",
      " [2249.919922 2270.22998 2271.310059 2249.110107]\n",
      " [2249.26001 2249.5 2254.51001 2244.560059]] [1188.050049 1183.73999 1187.890015 ... 2249.919922 2249.26001 2238.830078]\n"
     ]
    }
   ],
   "source": [
    "print(sp500[:3020, :], sp500[1:, 0])"
   ]
  },
  {
   "cell_type": "code",
   "execution_count": 118,
   "metadata": {
    "scrolled": true
   },
   "outputs": [
    {
     "name": "stdout",
     "output_type": "stream",
     "text": [
      "(3020, 3) (3020,)\n"
     ]
    }
   ],
   "source": [
    "temp1 = X[0, :, 0]\n",
    "temp2 = X[1, :, 3]\n",
    "temp3 = X[2, :, 3]\n",
    "X_temp = np.array([temp1, temp2, temp3]).T\n",
    "X = X_temp\n",
    "\n",
    "y = y[0,:]\n",
    "print(X.shape, y.shape)"
   ]
  },
  {
   "cell_type": "code",
   "execution_count": 119,
   "metadata": {
    "scrolled": true
   },
   "outputs": [
    {
     "name": "stdout",
     "output_type": "stream",
     "text": [
      "[1202.079956 1188.050049 1183.73999  ... 2268.879883 2249.919922\n",
      " 2249.26001 ] [4.22  4.283 4.277 ... 2.563 2.506 2.477] [14.08 13.98 14.09 ... 11.99 12.95 13.37]\n",
      "[[1202.079956    4.22       14.08    ]\n",
      " [1188.050049    4.283      13.98    ]\n",
      " [1183.73999     4.277      14.09    ]\n",
      " ...\n",
      " [2268.879883    2.563      11.99    ]\n",
      " [2249.919922    2.506      12.95    ]\n",
      " [2249.26001     2.477      13.37    ]] [1188.050049 1183.73999  1187.890015 ... 2249.919922 2249.26001\n",
      " 2238.830078]\n"
     ]
    }
   ],
   "source": [
    "print(temp1, temp2, temp3)\n",
    "print(X, y)"
   ]
  },
  {
   "cell_type": "code",
   "execution_count": 120,
   "metadata": {
    "scrolled": true
   },
   "outputs": [
    {
     "data": {
      "text/html": [
       "<div>\n",
       "<style scoped>\n",
       "    .dataframe tbody tr th:only-of-type {\n",
       "        vertical-align: middle;\n",
       "    }\n",
       "\n",
       "    .dataframe tbody tr th {\n",
       "        vertical-align: top;\n",
       "    }\n",
       "\n",
       "    .dataframe thead th {\n",
       "        text-align: right;\n",
       "    }\n",
       "</style>\n",
       "<table border=\"1\" class=\"dataframe\">\n",
       "  <thead>\n",
       "    <tr style=\"text-align: right;\">\n",
       "      <th></th>\n",
       "      <th>sp500</th>\n",
       "      <th>tnx</th>\n",
       "      <th>vix</th>\n",
       "      <th>y</th>\n",
       "    </tr>\n",
       "  </thead>\n",
       "  <tbody>\n",
       "    <tr>\n",
       "      <th>3015</th>\n",
       "      <td>2260.959961</td>\n",
       "      <td>2.553</td>\n",
       "      <td>11.43</td>\n",
       "      <td>2263.790039</td>\n",
       "    </tr>\n",
       "    <tr>\n",
       "      <th>3016</th>\n",
       "      <td>2263.790039</td>\n",
       "      <td>2.543</td>\n",
       "      <td>11.44</td>\n",
       "      <td>2268.879883</td>\n",
       "    </tr>\n",
       "    <tr>\n",
       "      <th>3017</th>\n",
       "      <td>2268.879883</td>\n",
       "      <td>2.563</td>\n",
       "      <td>11.99</td>\n",
       "      <td>2249.919922</td>\n",
       "    </tr>\n",
       "    <tr>\n",
       "      <th>3018</th>\n",
       "      <td>2249.919922</td>\n",
       "      <td>2.506</td>\n",
       "      <td>12.95</td>\n",
       "      <td>2249.260010</td>\n",
       "    </tr>\n",
       "    <tr>\n",
       "      <th>3019</th>\n",
       "      <td>2249.260010</td>\n",
       "      <td>2.477</td>\n",
       "      <td>13.37</td>\n",
       "      <td>2238.830078</td>\n",
       "    </tr>\n",
       "  </tbody>\n",
       "</table>\n",
       "</div>"
      ],
      "text/plain": [
       "            sp500    tnx    vix            y\n",
       "3015  2260.959961  2.553  11.43  2263.790039\n",
       "3016  2263.790039  2.543  11.44  2268.879883\n",
       "3017  2268.879883  2.563  11.99  2249.919922\n",
       "3018  2249.919922  2.506  12.95  2249.260010\n",
       "3019  2249.260010  2.477  13.37  2238.830078"
      ]
     },
     "execution_count": 120,
     "metadata": {},
     "output_type": "execute_result"
    }
   ],
   "source": [
    "test_dict = {'sp500': X[:,0], 'tnx':X[:,1], 'vix':X[:,2], 'y':y}\n",
    "test_dict_df = pd.DataFrame(data=test_dict)\n",
    "\n",
    "test_dict_df.tail()"
   ]
  },
  {
   "cell_type": "code",
   "execution_count": 121,
   "metadata": {
    "scrolled": true
   },
   "outputs": [
    {
     "data": {
      "text/html": [
       "<div>\n",
       "<style scoped>\n",
       "    .dataframe tbody tr th:only-of-type {\n",
       "        vertical-align: middle;\n",
       "    }\n",
       "\n",
       "    .dataframe tbody tr th {\n",
       "        vertical-align: top;\n",
       "    }\n",
       "\n",
       "    .dataframe thead th {\n",
       "        text-align: right;\n",
       "    }\n",
       "</style>\n",
       "<table border=\"1\" class=\"dataframe\">\n",
       "  <thead>\n",
       "    <tr style=\"text-align: right;\">\n",
       "      <th></th>\n",
       "      <th>sp500</th>\n",
       "      <th>tnx</th>\n",
       "      <th>vix</th>\n",
       "      <th>y</th>\n",
       "    </tr>\n",
       "  </thead>\n",
       "  <tbody>\n",
       "    <tr>\n",
       "      <th>3015</th>\n",
       "      <td>2260.959961</td>\n",
       "      <td>2.553</td>\n",
       "      <td>11.43</td>\n",
       "      <td>2263.790039</td>\n",
       "    </tr>\n",
       "    <tr>\n",
       "      <th>3016</th>\n",
       "      <td>2263.790039</td>\n",
       "      <td>2.543</td>\n",
       "      <td>11.44</td>\n",
       "      <td>2268.879883</td>\n",
       "    </tr>\n",
       "    <tr>\n",
       "      <th>3017</th>\n",
       "      <td>2268.879883</td>\n",
       "      <td>2.563</td>\n",
       "      <td>11.99</td>\n",
       "      <td>2249.919922</td>\n",
       "    </tr>\n",
       "    <tr>\n",
       "      <th>3018</th>\n",
       "      <td>2249.919922</td>\n",
       "      <td>2.506</td>\n",
       "      <td>12.95</td>\n",
       "      <td>2249.260010</td>\n",
       "    </tr>\n",
       "    <tr>\n",
       "      <th>3019</th>\n",
       "      <td>2249.260010</td>\n",
       "      <td>2.477</td>\n",
       "      <td>13.37</td>\n",
       "      <td>2238.830078</td>\n",
       "    </tr>\n",
       "  </tbody>\n",
       "</table>\n",
       "</div>"
      ],
      "text/plain": [
       "            sp500    tnx    vix            y\n",
       "3015  2260.959961  2.553  11.43  2263.790039\n",
       "3016  2263.790039  2.543  11.44  2268.879883\n",
       "3017  2268.879883  2.563  11.99  2249.919922\n",
       "3018  2249.919922  2.506  12.95  2249.260010\n",
       "3019  2249.260010  2.477  13.37  2238.830078"
      ]
     },
     "execution_count": 121,
     "metadata": {},
     "output_type": "execute_result"
    }
   ],
   "source": [
    "test_dict_df= test_dict_df.dropna(axis=0)#drop rows which may contain missing values\n",
    "test_dict_df.tail()"
   ]
  },
  {
   "cell_type": "markdown",
   "metadata": {},
   "source": [
    "# building the binary target"
   ]
  },
  {
   "cell_type": "code",
   "execution_count": 122,
   "metadata": {
    "scrolled": true
   },
   "outputs": [],
   "source": [
    "# -1 --> tomorrow goes down \n",
    "# 0 --> tomorrow goes up"
   ]
  },
  {
   "cell_type": "code",
   "execution_count": 123,
   "metadata": {
    "scrolled": true
   },
   "outputs": [
    {
     "data": {
      "text/html": [
       "<div>\n",
       "<style scoped>\n",
       "    .dataframe tbody tr th:only-of-type {\n",
       "        vertical-align: middle;\n",
       "    }\n",
       "\n",
       "    .dataframe tbody tr th {\n",
       "        vertical-align: top;\n",
       "    }\n",
       "\n",
       "    .dataframe thead th {\n",
       "        text-align: right;\n",
       "    }\n",
       "</style>\n",
       "<table border=\"1\" class=\"dataframe\">\n",
       "  <thead>\n",
       "    <tr style=\"text-align: right;\">\n",
       "      <th></th>\n",
       "      <th>sp500</th>\n",
       "      <th>tnx</th>\n",
       "      <th>vix</th>\n",
       "      <th>y</th>\n",
       "      <th>forecasting</th>\n",
       "    </tr>\n",
       "  </thead>\n",
       "  <tbody>\n",
       "    <tr>\n",
       "      <th>3015</th>\n",
       "      <td>2260.959961</td>\n",
       "      <td>2.553</td>\n",
       "      <td>11.43</td>\n",
       "      <td>2263.790039</td>\n",
       "      <td>0</td>\n",
       "    </tr>\n",
       "    <tr>\n",
       "      <th>3016</th>\n",
       "      <td>2263.790039</td>\n",
       "      <td>2.543</td>\n",
       "      <td>11.44</td>\n",
       "      <td>2268.879883</td>\n",
       "      <td>0</td>\n",
       "    </tr>\n",
       "    <tr>\n",
       "      <th>3017</th>\n",
       "      <td>2268.879883</td>\n",
       "      <td>2.563</td>\n",
       "      <td>11.99</td>\n",
       "      <td>2249.919922</td>\n",
       "      <td>0</td>\n",
       "    </tr>\n",
       "    <tr>\n",
       "      <th>3018</th>\n",
       "      <td>2249.919922</td>\n",
       "      <td>2.506</td>\n",
       "      <td>12.95</td>\n",
       "      <td>2249.260010</td>\n",
       "      <td>0</td>\n",
       "    </tr>\n",
       "    <tr>\n",
       "      <th>3019</th>\n",
       "      <td>2249.260010</td>\n",
       "      <td>2.477</td>\n",
       "      <td>13.37</td>\n",
       "      <td>2238.830078</td>\n",
       "      <td>0</td>\n",
       "    </tr>\n",
       "  </tbody>\n",
       "</table>\n",
       "</div>"
      ],
      "text/plain": [
       "            sp500    tnx    vix            y  forecasting\n",
       "3015  2260.959961  2.553  11.43  2263.790039            0\n",
       "3016  2263.790039  2.543  11.44  2268.879883            0\n",
       "3017  2268.879883  2.563  11.99  2249.919922            0\n",
       "3018  2249.919922  2.506  12.95  2249.260010            0\n",
       "3019  2249.260010  2.477  13.37  2238.830078            0"
      ]
     },
     "execution_count": 123,
     "metadata": {},
     "output_type": "execute_result"
    }
   ],
   "source": [
    "# initialising\n",
    "test_dict_df['forecasting'] = 0\n",
    "test_dict_df.tail()\n"
   ]
  },
  {
   "cell_type": "code",
   "execution_count": 124,
   "metadata": {
    "scrolled": false
   },
   "outputs": [
    {
     "data": {
      "text/html": [
       "<div>\n",
       "<style scoped>\n",
       "    .dataframe tbody tr th:only-of-type {\n",
       "        vertical-align: middle;\n",
       "    }\n",
       "\n",
       "    .dataframe tbody tr th {\n",
       "        vertical-align: top;\n",
       "    }\n",
       "\n",
       "    .dataframe thead th {\n",
       "        text-align: right;\n",
       "    }\n",
       "</style>\n",
       "<table border=\"1\" class=\"dataframe\">\n",
       "  <thead>\n",
       "    <tr style=\"text-align: right;\">\n",
       "      <th></th>\n",
       "      <th>sp500</th>\n",
       "      <th>tnx</th>\n",
       "      <th>vix</th>\n",
       "      <th>y</th>\n",
       "      <th>forecasting</th>\n",
       "    </tr>\n",
       "  </thead>\n",
       "  <tbody>\n",
       "    <tr>\n",
       "      <th>3015</th>\n",
       "      <td>2260.959961</td>\n",
       "      <td>2.553</td>\n",
       "      <td>11.43</td>\n",
       "      <td>2263.790039</td>\n",
       "      <td>1</td>\n",
       "    </tr>\n",
       "    <tr>\n",
       "      <th>3016</th>\n",
       "      <td>2263.790039</td>\n",
       "      <td>2.543</td>\n",
       "      <td>11.44</td>\n",
       "      <td>2268.879883</td>\n",
       "      <td>1</td>\n",
       "    </tr>\n",
       "    <tr>\n",
       "      <th>3017</th>\n",
       "      <td>2268.879883</td>\n",
       "      <td>2.563</td>\n",
       "      <td>11.99</td>\n",
       "      <td>2249.919922</td>\n",
       "      <td>0</td>\n",
       "    </tr>\n",
       "    <tr>\n",
       "      <th>3018</th>\n",
       "      <td>2249.919922</td>\n",
       "      <td>2.506</td>\n",
       "      <td>12.95</td>\n",
       "      <td>2249.260010</td>\n",
       "      <td>0</td>\n",
       "    </tr>\n",
       "    <tr>\n",
       "      <th>3019</th>\n",
       "      <td>2249.260010</td>\n",
       "      <td>2.477</td>\n",
       "      <td>13.37</td>\n",
       "      <td>2238.830078</td>\n",
       "      <td>0</td>\n",
       "    </tr>\n",
       "  </tbody>\n",
       "</table>\n",
       "</div>"
      ],
      "text/plain": [
       "            sp500    tnx    vix            y  forecasting\n",
       "3015  2260.959961  2.553  11.43  2263.790039            1\n",
       "3016  2263.790039  2.543  11.44  2268.879883            1\n",
       "3017  2268.879883  2.563  11.99  2249.919922            0\n",
       "3018  2249.919922  2.506  12.95  2249.260010            0\n",
       "3019  2249.260010  2.477  13.37  2238.830078            0"
      ]
     },
     "execution_count": 124,
     "metadata": {},
     "output_type": "execute_result"
    }
   ],
   "source": [
    "df = test_dict_df\n",
    "# if y > sp500: predict as go up\n",
    "# else predict as go down\n",
    "\n",
    "for i in df.index:\n",
    "    if df['y'][i] > df['sp500'][i]:  # go up?\n",
    "        df.at[i, 'forecasting'] = 1\n",
    "    else:\n",
    "        df.at[i, 'forecasting'] = 0\n",
    "        \n",
    "\n",
    "df.tail()"
   ]
  },
  {
   "cell_type": "markdown",
   "metadata": {},
   "source": [
    "Now instead of set the next day's value as target,\n",
    "we will set the forecasting as target"
   ]
  },
  {
   "cell_type": "code",
   "execution_count": 125,
   "metadata": {
    "scrolled": false
   },
   "outputs": [
    {
     "name": "stdout",
     "output_type": "stream",
     "text": [
      "(3016, 3) (3016,)\n"
     ]
    }
   ],
   "source": [
    "X = df.values[:,0:3]\n",
    "y = df.values[:,4] # set the forecasting column as target\n",
    "print(X.shape, y.shape)"
   ]
  },
  {
   "cell_type": "markdown",
   "metadata": {},
   "source": [
    "## adding noise condition"
   ]
  },
  {
   "cell_type": "code",
   "execution_count": 126,
   "metadata": {},
   "outputs": [
    {
     "data": {
      "text/html": [
       "<div>\n",
       "<style scoped>\n",
       "    .dataframe tbody tr th:only-of-type {\n",
       "        vertical-align: middle;\n",
       "    }\n",
       "\n",
       "    .dataframe tbody tr th {\n",
       "        vertical-align: top;\n",
       "    }\n",
       "\n",
       "    .dataframe thead th {\n",
       "        text-align: right;\n",
       "    }\n",
       "</style>\n",
       "<table border=\"1\" class=\"dataframe\">\n",
       "  <thead>\n",
       "    <tr style=\"text-align: right;\">\n",
       "      <th></th>\n",
       "      <th>sp500</th>\n",
       "      <th>tnx</th>\n",
       "      <th>vix</th>\n",
       "      <th>noise_nor</th>\n",
       "      <th>forecasting</th>\n",
       "      <th>y</th>\n",
       "    </tr>\n",
       "  </thead>\n",
       "  <tbody>\n",
       "    <tr>\n",
       "      <th>0</th>\n",
       "      <td>1202.079956</td>\n",
       "      <td>4.220</td>\n",
       "      <td>14.08</td>\n",
       "      <td>-0.132258</td>\n",
       "      <td>0</td>\n",
       "      <td>1188.050049</td>\n",
       "    </tr>\n",
       "    <tr>\n",
       "      <th>1</th>\n",
       "      <td>1188.050049</td>\n",
       "      <td>4.283</td>\n",
       "      <td>13.98</td>\n",
       "      <td>-0.032679</td>\n",
       "      <td>0</td>\n",
       "      <td>1183.739990</td>\n",
       "    </tr>\n",
       "    <tr>\n",
       "      <th>2</th>\n",
       "      <td>1183.739990</td>\n",
       "      <td>4.277</td>\n",
       "      <td>14.09</td>\n",
       "      <td>-0.191709</td>\n",
       "      <td>1</td>\n",
       "      <td>1187.890015</td>\n",
       "    </tr>\n",
       "    <tr>\n",
       "      <th>3</th>\n",
       "      <td>1187.890015</td>\n",
       "      <td>4.272</td>\n",
       "      <td>13.58</td>\n",
       "      <td>-0.062434</td>\n",
       "      <td>0</td>\n",
       "      <td>1186.189941</td>\n",
       "    </tr>\n",
       "    <tr>\n",
       "      <th>4</th>\n",
       "      <td>1186.189941</td>\n",
       "      <td>4.285</td>\n",
       "      <td>13.49</td>\n",
       "      <td>0.053770</td>\n",
       "      <td>1</td>\n",
       "      <td>1190.250000</td>\n",
       "    </tr>\n",
       "  </tbody>\n",
       "</table>\n",
       "</div>"
      ],
      "text/plain": [
       "         sp500    tnx    vix  noise_nor  forecasting            y\n",
       "0  1202.079956  4.220  14.08  -0.132258            0  1188.050049\n",
       "1  1188.050049  4.283  13.98  -0.032679            0  1183.739990\n",
       "2  1183.739990  4.277  14.09  -0.191709            1  1187.890015\n",
       "3  1187.890015  4.272  13.58  -0.062434            0  1186.189941\n",
       "4  1186.189941  4.285  13.49   0.053770            1  1190.250000"
      ]
     },
     "execution_count": 126,
     "metadata": {},
     "output_type": "execute_result"
    }
   ],
   "source": [
    "mu, sigma = 0, 0.1 # mean and standard deviation\n",
    "s = np.random.normal(mu, sigma, len(df))\n",
    "df['noise_nor'] = s\n",
    "columnsTitles=[\"sp500\",\"tnx\",'vix','noise_nor','forecasting','y']\n",
    "df=df.reindex(columns=columnsTitles)\n",
    "df.head()"
   ]
  },
  {
   "cell_type": "code",
   "execution_count": 127,
   "metadata": {},
   "outputs": [
    {
     "name": "stdout",
     "output_type": "stream",
     "text": [
      "(3016, 4) (3016,)\n"
     ]
    }
   ],
   "source": [
    "X = df.values[:,0:4]\n",
    "y = df.values[:,4] # set the forecasting column as target\n",
    "print(X.shape, y.shape)"
   ]
  },
  {
   "cell_type": "code",
   "execution_count": 128,
   "metadata": {},
   "outputs": [
    {
     "name": "stdout",
     "output_type": "stream",
     "text": [
      "[[ 1.20207996e+03  4.22000000e+00  1.40800000e+01 -1.32257547e-01]\n",
      " [ 1.18805005e+03  4.28300000e+00  1.39800000e+01 -3.26789763e-02]\n",
      " [ 1.18373999e+03  4.27700000e+00  1.40900000e+01 -1.91709450e-01]\n",
      " ...\n",
      " [ 2.26887988e+03  2.56300000e+00  1.19900000e+01  8.25370148e-02]\n",
      " [ 2.24991992e+03  2.50600000e+00  1.29500000e+01 -2.17637130e-02]\n",
      " [ 2.24926001e+03  2.47700000e+00  1.33700000e+01 -3.27570748e-02]] [0. 0. 1. ... 0. 0. 0.]\n"
     ]
    }
   ],
   "source": [
    "print(X,y)"
   ]
  },
  {
   "cell_type": "markdown",
   "metadata": {},
   "source": [
    "# testing train_test_split.py"
   ]
  },
  {
   "cell_type": "code",
   "execution_count": 129,
   "metadata": {},
   "outputs": [],
   "source": [
    "from train_test_split import utility_fun"
   ]
  },
  {
   "cell_type": "code",
   "execution_count": 130,
   "metadata": {},
   "outputs": [
    {
     "name": "stdout",
     "output_type": "stream",
     "text": [
      "torch.Size([2412, 1, 100, 4]) torch.Size([2412, 1]) torch.Size([505, 1, 100, 4])\n"
     ]
    }
   ],
   "source": [
    "temp = utility_fun([X, y], len_of_trainset = 2412, time_interval = 100)\n",
    "\n",
    "temp.norm()\n",
    "temp.sepera_time_step()\n",
    "temp.test_train_split()\n",
    "trainloader, validateData = temp.build_dataloader()"
   ]
  },
  {
   "cell_type": "markdown",
   "metadata": {},
   "source": [
    "# Normalisation over train and test set"
   ]
  },
  {
   "cell_type": "markdown",
   "metadata": {},
   "source": [
    "no need normalising the target"
   ]
  },
  {
   "cell_type": "code",
   "execution_count": 131,
   "metadata": {
    "scrolled": true
   },
   "outputs": [
    {
     "name": "stdout",
     "output_type": "stream",
     "text": [
      "(3016, 4) (3016,)\n"
     ]
    }
   ],
   "source": [
    "split_point = int(len(y) * 0.8)\n",
    "y1 = y[:split_point]\n",
    "y2 = y[split_point:]\n",
    "\n",
    "X1 = X[:split_point,:]\n",
    "X2 = X[split_point:,:]\n",
    "\n",
    "# y1= (y1- min(y1))/(max(y1)- min(y1)) #??? normalsation\n",
    "X1= (X1- np.min(X1,axis=0))/(np.max(X1, axis=0)-np.min(X1,axis=0))\n",
    "\n",
    "# y2= (y2- min(y2))/(max(y2)- min(y2)) #??? normalsation\n",
    "X2= (X2- np.min(X2,axis=0))/(np.max(X2, axis=0)-np.min(X2,axis=0))\n",
    "\n",
    "\n",
    "X = np.concatenate((X1,X2) , axis = 0)\n",
    "y = np.concatenate((y1,y2) , axis = 0)\n",
    "\n",
    "print(X.shape, y.shape)"
   ]
  },
  {
   "cell_type": "code",
   "execution_count": 132,
   "metadata": {
    "scrolled": false
   },
   "outputs": [
    {
     "name": "stdout",
     "output_type": "stream",
     "text": [
      "[[0.4007396  0.73257024 0.05903903 0.29275499]\n",
      " [0.39004159 0.74895942 0.05762998 0.43879128]\n",
      " [0.3867551  0.74739854 0.05917993 0.2055662 ]\n",
      " ...\n",
      " [0.99358375 0.94774347 0.02443162 0.65533714]\n",
      " [0.95074994 0.90261283 0.05700712 0.47010139]\n",
      " [0.94925908 0.87965162 0.0712589  0.45057742]] \n",
      " [0. 0. 1. ... 0. 0. 0.]\n"
     ]
    }
   ],
   "source": [
    "print(X,'\\n', y)"
   ]
  },
  {
   "cell_type": "markdown",
   "metadata": {},
   "source": [
    "# seperating time step"
   ]
  },
  {
   "cell_type": "code",
   "execution_count": 133,
   "metadata": {
    "scrolled": true
   },
   "outputs": [
    {
     "name": "stdout",
     "output_type": "stream",
     "text": [
      "(2917, 100, 4) (2917,)\n"
     ]
    }
   ],
   "source": [
    "time_steps= 100 #1 to 100 days ahead\n",
    "X_new= np.zeros((X.shape[0] - time_steps +1, time_steps, X.shape[1]))\n",
    "y_new= np.zeros((y.shape[0] -time_steps +1,))\n",
    "for ix in range(X_new.shape[0]):\n",
    "    for jx in range(time_steps):\n",
    "        X_new[ix, jx, :]= X[ix +jx, :]\n",
    "    y_new[ix]= y[ix + time_steps -1]\n",
    "print (X_new.shape, y_new.shape)"
   ]
  },
  {
   "cell_type": "code",
   "execution_count": 134,
   "metadata": {
    "scrolled": true
   },
   "outputs": [
    {
     "data": {
      "text/plain": [
       "array([1., 1., 0., ..., 0., 0., 0.])"
      ]
     },
     "execution_count": 134,
     "metadata": {},
     "output_type": "execute_result"
    }
   ],
   "source": [
    "y_new"
   ]
  },
  {
   "cell_type": "markdown",
   "metadata": {},
   "source": [
    "# seperating train and test set"
   ]
  },
  {
   "cell_type": "code",
   "execution_count": 135,
   "metadata": {
    "scrolled": true
   },
   "outputs": [
    {
     "name": "stdout",
     "output_type": "stream",
     "text": [
      "(2412, 100, 4) (2412,)\n",
      "(505, 100, 4) (505,)\n"
     ]
    }
   ],
   "source": [
    "split = split_point\n",
    "X_train = X_new[:split]\n",
    "X_test = X_new[split:]\n",
    "\n",
    "y_train = y_new[:split]\n",
    "y_test = y_new[split:]\n",
    "\n",
    "print (X_train.shape, y_train.shape)\n",
    "print (X_test.shape, y_test.shape)"
   ]
  },
  {
   "cell_type": "code",
   "execution_count": 136,
   "metadata": {},
   "outputs": [
    {
     "data": {
      "text/plain": [
       "2412"
      ]
     },
     "execution_count": 136,
     "metadata": {},
     "output_type": "execute_result"
    }
   ],
   "source": [
    "lens = X_train.shape[0]\n",
    "lens"
   ]
  },
  {
   "cell_type": "code",
   "execution_count": 137,
   "metadata": {
    "scrolled": true
   },
   "outputs": [
    {
     "name": "stdout",
     "output_type": "stream",
     "text": [
      "torch.Size([2412, 100, 4]) torch.Size([2412]) torch.Size([505, 100, 4])\n"
     ]
    }
   ],
   "source": [
    "#convert to torch\n",
    "trainData = torch.from_numpy(X_train)\n",
    "testData = torch.from_numpy(y_train)\n",
    "validateData = torch.from_numpy(X_test)\n",
    "print(trainData.shape, testData.shape, validateData.shape)\n",
    "# testData = testData.view(testData.shape[0],3,-1)"
   ]
  },
  {
   "cell_type": "code",
   "execution_count": 138,
   "metadata": {
    "scrolled": true
   },
   "outputs": [
    {
     "name": "stdout",
     "output_type": "stream",
     "text": [
      "torch.Size([2412, 1, 100, 4]) torch.Size([2412, 1]) torch.Size([505, 1, 100, 4])\n"
     ]
    }
   ],
   "source": [
    "trainData = trainData.view(lens,-1,time_steps,4)\n",
    "testData = testData.view(lens,-1)\n",
    "\n",
    "validateData = validateData.view(validateData.shape[0],-1,time_steps,4)\n",
    "print(trainData.shape,testData.shape,validateData.shape)"
   ]
  },
  {
   "cell_type": "markdown",
   "metadata": {},
   "source": [
    "# data loader"
   ]
  },
  {
   "cell_type": "code",
   "execution_count": 139,
   "metadata": {
    "scrolled": true
   },
   "outputs": [
    {
     "name": "stdout",
     "output_type": "stream",
     "text": [
      "<class 'torch.Tensor'>\n",
      "torch.Size([64, 400])\n",
      "torch.Size([64])\n"
     ]
    }
   ],
   "source": [
    "#reload tensordata\n",
    "train = TensorDataset(trainData.view(lens, -1).float(), testData.view(-1).float())\n",
    "\n",
    "trainloader = DataLoader(train, batch_size=64, shuffle=True)\n",
    "\n",
    "dataiter = iter(trainloader)\n",
    "images, labels = dataiter.next()\n",
    "print(type(images)) \n",
    "print(images.shape)\n",
    "print(labels.shape)"
   ]
  },
  {
   "cell_type": "code",
   "execution_count": 140,
   "metadata": {
    "scrolled": true
   },
   "outputs": [
    {
     "name": "stdout",
     "output_type": "stream",
     "text": [
      "torch.Size([2412, 400]) torch.Size([2412])\n",
      "<class 'torch.Tensor'>\n"
     ]
    }
   ],
   "source": [
    "print(trainData.view(lens, -1).shape, testData.view(-1).shape)\n",
    "print(type(trainData))"
   ]
  },
  {
   "cell_type": "markdown",
   "metadata": {},
   "source": [
    "# create model and training"
   ]
  },
  {
   "cell_type": "code",
   "execution_count": 141,
   "metadata": {
    "scrolled": true
   },
   "outputs": [],
   "source": [
    "# define baseline MLP model\n",
    "class BaselineModel(nn.Module):\n",
    "    def __init__(self, input_size, hidden_size, num_classes):\n",
    "        super(BaselineModel, self).__init__()\n",
    "        self.fc1 = nn.Linear(input_size, hidden_size) \n",
    "        self.fc2 = nn.Linear(hidden_size, num_classes)  \n",
    "    \n",
    "    def forward(self, x):\n",
    "        out = self.fc1(x)\n",
    "        out = F.relu(out)        \n",
    "        out = self.fc2(out)\n",
    "        out = F.sigmoid(out)\n",
    "        out = out.squeeze()\n",
    "        return out\n",
    "    "
   ]
  },
  {
   "cell_type": "code",
   "execution_count": 142,
   "metadata": {
    "scrolled": true
   },
   "outputs": [
    {
     "data": {
      "application/vnd.jupyter.widget-view+json": {
       "model_id": "66fd5c717ad94ad89310c2783f3c5bad",
       "version_major": 2,
       "version_minor": 0
      },
      "text/plain": [
       "HBox(children=(IntProgress(value=0, description='0/10(t)', max=38, style=ProgressStyle(description_width='init…"
      ]
     },
     "metadata": {},
     "output_type": "display_data"
    },
    {
     "name": "stderr",
     "output_type": "stream",
     "text": [
      "D:\\anaconda\\lib\\site-packages\\torch\\nn\\functional.py:1386: UserWarning: nn.functional.sigmoid is deprecated. Use torch.sigmoid instead.\n",
      "  warnings.warn(\"nn.functional.sigmoid is deprecated. Use torch.sigmoid instead.\")\n"
     ]
    },
    {
     "name": "stdout",
     "output_type": "stream",
     "text": [
      "\n"
     ]
    },
    {
     "data": {
      "application/vnd.jupyter.widget-view+json": {
       "model_id": "bc986c5971834cd29a6730bffa879786",
       "version_major": 2,
       "version_minor": 0
      },
      "text/plain": [
       "HBox(children=(IntProgress(value=0, description='1/10(t)', max=38, style=ProgressStyle(description_width='init…"
      ]
     },
     "metadata": {},
     "output_type": "display_data"
    },
    {
     "name": "stdout",
     "output_type": "stream",
     "text": [
      "\n"
     ]
    },
    {
     "data": {
      "application/vnd.jupyter.widget-view+json": {
       "model_id": "c083257aa8754448badc5a9aaf48a20f",
       "version_major": 2,
       "version_minor": 0
      },
      "text/plain": [
       "HBox(children=(IntProgress(value=0, description='2/10(t)', max=38, style=ProgressStyle(description_width='init…"
      ]
     },
     "metadata": {},
     "output_type": "display_data"
    },
    {
     "name": "stdout",
     "output_type": "stream",
     "text": [
      "\n"
     ]
    },
    {
     "data": {
      "application/vnd.jupyter.widget-view+json": {
       "model_id": "df35e1185cbe486783b176a69cd02253",
       "version_major": 2,
       "version_minor": 0
      },
      "text/plain": [
       "HBox(children=(IntProgress(value=0, description='3/10(t)', max=38, style=ProgressStyle(description_width='init…"
      ]
     },
     "metadata": {},
     "output_type": "display_data"
    },
    {
     "name": "stdout",
     "output_type": "stream",
     "text": [
      "\n"
     ]
    },
    {
     "data": {
      "application/vnd.jupyter.widget-view+json": {
       "model_id": "90b5cd07bb1f4b14b9dd3e0a6132f834",
       "version_major": 2,
       "version_minor": 0
      },
      "text/plain": [
       "HBox(children=(IntProgress(value=0, description='4/10(t)', max=38, style=ProgressStyle(description_width='init…"
      ]
     },
     "metadata": {},
     "output_type": "display_data"
    },
    {
     "name": "stdout",
     "output_type": "stream",
     "text": [
      "\n"
     ]
    },
    {
     "data": {
      "application/vnd.jupyter.widget-view+json": {
       "model_id": "a3bbcbc66221427db0621a9bd42308cb",
       "version_major": 2,
       "version_minor": 0
      },
      "text/plain": [
       "HBox(children=(IntProgress(value=0, description='5/10(t)', max=38, style=ProgressStyle(description_width='init…"
      ]
     },
     "metadata": {},
     "output_type": "display_data"
    },
    {
     "name": "stdout",
     "output_type": "stream",
     "text": [
      "\n"
     ]
    },
    {
     "data": {
      "application/vnd.jupyter.widget-view+json": {
       "model_id": "e6e6790fd0ee4ab4b5df40fdaa179ae6",
       "version_major": 2,
       "version_minor": 0
      },
      "text/plain": [
       "HBox(children=(IntProgress(value=0, description='6/10(t)', max=38, style=ProgressStyle(description_width='init…"
      ]
     },
     "metadata": {},
     "output_type": "display_data"
    },
    {
     "name": "stdout",
     "output_type": "stream",
     "text": [
      "\n"
     ]
    },
    {
     "data": {
      "application/vnd.jupyter.widget-view+json": {
       "model_id": "9f178b46b15c446b9fd14d48fc738a00",
       "version_major": 2,
       "version_minor": 0
      },
      "text/plain": [
       "HBox(children=(IntProgress(value=0, description='7/10(t)', max=38, style=ProgressStyle(description_width='init…"
      ]
     },
     "metadata": {},
     "output_type": "display_data"
    },
    {
     "name": "stdout",
     "output_type": "stream",
     "text": [
      "\n"
     ]
    },
    {
     "data": {
      "application/vnd.jupyter.widget-view+json": {
       "model_id": "4490e81d985f4a048d3dd56edd7c13cb",
       "version_major": 2,
       "version_minor": 0
      },
      "text/plain": [
       "HBox(children=(IntProgress(value=0, description='8/10(t)', max=38, style=ProgressStyle(description_width='init…"
      ]
     },
     "metadata": {},
     "output_type": "display_data"
    },
    {
     "name": "stdout",
     "output_type": "stream",
     "text": [
      "\n"
     ]
    },
    {
     "data": {
      "application/vnd.jupyter.widget-view+json": {
       "model_id": "647c5c5c798947f9aa520d376f1ee08d",
       "version_major": 2,
       "version_minor": 0
      },
      "text/plain": [
       "HBox(children=(IntProgress(value=0, description='9/10(t)', max=38, style=ProgressStyle(description_width='init…"
      ]
     },
     "metadata": {},
     "output_type": "display_data"
    },
    {
     "name": "stdout",
     "output_type": "stream",
     "text": [
      "\n"
     ]
    },
    {
     "data": {
      "text/plain": [
       "[{'running_loss': 0.6957083344459534,\n",
       "  'running_binary_acc': 0.5302419066429138,\n",
       "  'loss': 0.6967066526412964,\n",
       "  'binary_acc': 0.5190712809562683,\n",
       "  'train_steps': 38,\n",
       "  'validation_steps': None},\n",
       " {'running_loss': 0.691868782043457,\n",
       "  'running_binary_acc': 0.5377840995788574,\n",
       "  'loss': 0.6924020648002625,\n",
       "  'binary_acc': 0.5360696315765381,\n",
       "  'train_steps': 38,\n",
       "  'validation_steps': None},\n",
       " {'running_loss': 0.6898929476737976,\n",
       "  'running_binary_acc': 0.5517045259475708,\n",
       "  'loss': 0.6891279220581055,\n",
       "  'binary_acc': 0.5476782917976379,\n",
       "  'train_steps': 38,\n",
       "  'validation_steps': None},\n",
       " {'running_loss': 0.6892765760421753,\n",
       "  'running_binary_acc': 0.5482954382896423,\n",
       "  'loss': 0.6888054609298706,\n",
       "  'binary_acc': 0.548922061920166,\n",
       "  'train_steps': 38,\n",
       "  'validation_steps': None},\n",
       " {'running_loss': 0.68915855884552,\n",
       "  'running_binary_acc': 0.5483806729316711,\n",
       "  'loss': 0.6899457573890686,\n",
       "  'binary_acc': 0.5480928421020508,\n",
       "  'train_steps': 38,\n",
       "  'validation_steps': None},\n",
       " {'running_loss': 0.6891882419586182,\n",
       "  'running_binary_acc': 0.5592897534370422,\n",
       "  'loss': 0.6879996657371521,\n",
       "  'binary_acc': 0.5551409721374512,\n",
       "  'train_steps': 38,\n",
       "  'validation_steps': None},\n",
       " {'running_loss': 0.6859754920005798,\n",
       "  'running_binary_acc': 0.5600568056106567,\n",
       "  'loss': 0.6871352791786194,\n",
       "  'binary_acc': 0.5534825921058655,\n",
       "  'train_steps': 38,\n",
       "  'validation_steps': None},\n",
       " {'running_loss': 0.6849156618118286,\n",
       "  'running_binary_acc': 0.557840883731842,\n",
       "  'loss': 0.687580406665802,\n",
       "  'binary_acc': 0.5526533722877502,\n",
       "  'train_steps': 38,\n",
       "  'validation_steps': None},\n",
       " {'running_loss': 0.6870907545089722,\n",
       "  'running_binary_acc': 0.5565624833106995,\n",
       "  'loss': 0.6873002648353577,\n",
       "  'binary_acc': 0.5526533722877502,\n",
       "  'train_steps': 38,\n",
       "  'validation_steps': None},\n",
       " {'running_loss': 0.6865493059158325,\n",
       "  'running_binary_acc': 0.5531249642372131,\n",
       "  'loss': 0.687067985534668,\n",
       "  'binary_acc': 0.5543117523193359,\n",
       "  'train_steps': 38,\n",
       "  'validation_steps': None}]"
      ]
     },
     "execution_count": 142,
     "metadata": {},
     "output_type": "execute_result"
    }
   ],
   "source": [
    "device = \"cuda:0\" if torch.cuda.is_available() else \"cpu\"\n",
    "\n",
    "model = BaselineModel(400, 500, 1)\n",
    "\n",
    "# define the loss function and the optimiser\n",
    "# loss_function = nn.MSELoss()\n",
    "\n",
    "#classification problem  we use bce loss\n",
    "loss_function = nn.BCELoss()\n",
    "optimiser = optim.Adam(model.parameters())\n",
    "\n",
    "trial = Trial(model, optimiser, loss_function, metrics=['loss', 'accuracy']).to(device)\n",
    "trial.with_generators(trainloader)\n",
    "trial.run(epochs=10)"
   ]
  },
  {
   "cell_type": "markdown",
   "metadata": {},
   "source": [
    "## slide window forecasting"
   ]
  },
  {
   "cell_type": "code",
   "execution_count": null,
   "metadata": {
    "scrolled": true
   },
   "outputs": [
    {
     "name": "stdout",
     "output_type": "stream",
     "text": [
      "the 2412th day, pred: 0 ---- true: 1.0 ====== correct: 0 ---- miscorrect: 1\n",
      "the 2413th day, pred: 0 ---- true: 1.0 ====== correct: 0 ---- miscorrect: 2\n",
      "the 2414th day, pred: 0 ---- true: 0.0 ====== correct: 1 ---- miscorrect: 2\n",
      "the 2415th day, pred: 0 ---- true: 1.0 ====== correct: 1 ---- miscorrect: 3\n",
      "the 2416th day, pred: 1 ---- true: 1.0 ====== correct: 2 ---- miscorrect: 3\n",
      "the 2417th day, pred: 1 ---- true: 0.0 ====== correct: 2 ---- miscorrect: 4\n",
      "the 2418th day, pred: 0 ---- true: 1.0 ====== correct: 2 ---- miscorrect: 5\n",
      "the 2419th day, pred: 0 ---- true: 1.0 ====== correct: 2 ---- miscorrect: 6\n",
      "the 2420th day, pred: 1 ---- true: 1.0 ====== correct: 3 ---- miscorrect: 6\n",
      "the 2421th day, pred: 1 ---- true: 1.0 ====== correct: 4 ---- miscorrect: 6\n",
      "the 2422th day, pred: 0 ---- true: 0.0 ====== correct: 5 ---- miscorrect: 6\n",
      "the 2423th day, pred: 0 ---- true: 1.0 ====== correct: 5 ---- miscorrect: 7\n",
      "the 2424th day, pred: 1 ---- true: 1.0 ====== correct: 6 ---- miscorrect: 7\n",
      "the 2425th day, pred: 0 ---- true: 1.0 ====== correct: 6 ---- miscorrect: 8\n",
      "the 2426th day, pred: 0 ---- true: 0.0 ====== correct: 7 ---- miscorrect: 8\n",
      "the 2427th day, pred: 0 ---- true: 1.0 ====== correct: 7 ---- miscorrect: 9\n",
      "the 2428th day, pred: 0 ---- true: 0.0 ====== correct: 8 ---- miscorrect: 9\n",
      "the 2429th day, pred: 0 ---- true: 0.0 ====== correct: 9 ---- miscorrect: 9\n",
      "the 2430th day, pred: 0 ---- true: 0.0 ====== correct: 10 ---- miscorrect: 9\n",
      "the 2431th day, pred: 1 ---- true: 1.0 ====== correct: 11 ---- miscorrect: 9\n",
      "the 2432th day, pred: 1 ---- true: 0.0 ====== correct: 11 ---- miscorrect: 10\n",
      "the 2433th day, pred: 0 ---- true: 0.0 ====== correct: 12 ---- miscorrect: 10\n",
      "the 2434th day, pred: 1 ---- true: 1.0 ====== correct: 13 ---- miscorrect: 10\n",
      "the 2435th day, pred: 1 ---- true: 1.0 ====== correct: 14 ---- miscorrect: 10\n",
      "the 2436th day, pred: 1 ---- true: 0.0 ====== correct: 14 ---- miscorrect: 11\n",
      "the 2437th day, pred: 1 ---- true: 0.0 ====== correct: 14 ---- miscorrect: 12\n",
      "the 2438th day, pred: 0 ---- true: 1.0 ====== correct: 14 ---- miscorrect: 13\n",
      "the 2439th day, pred: 0 ---- true: 1.0 ====== correct: 14 ---- miscorrect: 14\n",
      "the 2440th day, pred: 1 ---- true: 1.0 ====== correct: 15 ---- miscorrect: 14\n",
      "the 2441th day, pred: 1 ---- true: 0.0 ====== correct: 15 ---- miscorrect: 15\n",
      "the 2442th day, pred: 0 ---- true: 0.0 ====== correct: 16 ---- miscorrect: 15\n",
      "the 2443th day, pred: 0 ---- true: 0.0 ====== correct: 17 ---- miscorrect: 15\n",
      "the 2444th day, pred: 0 ---- true: 1.0 ====== correct: 17 ---- miscorrect: 16\n",
      "the 2445th day, pred: 0 ---- true: 0.0 ====== correct: 18 ---- miscorrect: 16\n",
      "the 2446th day, pred: 1 ---- true: 1.0 ====== correct: 19 ---- miscorrect: 16\n",
      "the 2447th day, pred: 0 ---- true: 0.0 ====== correct: 20 ---- miscorrect: 16\n",
      "the 2448th day, pred: 0 ---- true: 0.0 ====== correct: 21 ---- miscorrect: 16\n",
      "the 2449th day, pred: 0 ---- true: 0.0 ====== correct: 22 ---- miscorrect: 16\n",
      "the 2450th day, pred: 0 ---- true: 1.0 ====== correct: 22 ---- miscorrect: 17\n",
      "the 2451th day, pred: 1 ---- true: 1.0 ====== correct: 23 ---- miscorrect: 17\n",
      "the 2452th day, pred: 0 ---- true: 0.0 ====== correct: 24 ---- miscorrect: 17\n",
      "the 2453th day, pred: 1 ---- true: 0.0 ====== correct: 24 ---- miscorrect: 18\n",
      "the 2454th day, pred: 1 ---- true: 1.0 ====== correct: 25 ---- miscorrect: 18\n",
      "the 2455th day, pred: 1 ---- true: 0.0 ====== correct: 25 ---- miscorrect: 19\n",
      "the 2456th day, pred: 1 ---- true: 0.0 ====== correct: 25 ---- miscorrect: 20\n",
      "the 2457th day, pred: 1 ---- true: 0.0 ====== correct: 25 ---- miscorrect: 21\n",
      "the 2458th day, pred: 1 ---- true: 1.0 ====== correct: 26 ---- miscorrect: 21\n",
      "the 2459th day, pred: 0 ---- true: 0.0 ====== correct: 27 ---- miscorrect: 21\n",
      "the 2460th day, pred: 1 ---- true: 1.0 ====== correct: 28 ---- miscorrect: 21\n",
      "the 2461th day, pred: 0 ---- true: 1.0 ====== correct: 28 ---- miscorrect: 22\n",
      "the 2462th day, pred: 0 ---- true: 1.0 ====== correct: 28 ---- miscorrect: 23\n",
      "the 2463th day, pred: 1 ---- true: 1.0 ====== correct: 29 ---- miscorrect: 23\n",
      "the 2464th day, pred: 0 ---- true: 0.0 ====== correct: 30 ---- miscorrect: 23\n",
      "the 2465th day, pred: 0 ---- true: 1.0 ====== correct: 30 ---- miscorrect: 24\n",
      "the 2466th day, pred: 0 ---- true: 1.0 ====== correct: 30 ---- miscorrect: 25\n",
      "the 2467th day, pred: 0 ---- true: 0.0 ====== correct: 31 ---- miscorrect: 25\n",
      "the 2468th day, pred: 0 ---- true: 1.0 ====== correct: 31 ---- miscorrect: 26\n",
      "the 2469th day, pred: 1 ---- true: 0.0 ====== correct: 31 ---- miscorrect: 27\n",
      "the 2470th day, pred: 1 ---- true: 1.0 ====== correct: 32 ---- miscorrect: 27\n",
      "the 2471th day, pred: 0 ---- true: 1.0 ====== correct: 32 ---- miscorrect: 28\n",
      "the 2472th day, pred: 1 ---- true: 0.0 ====== correct: 32 ---- miscorrect: 29\n",
      "the 2473th day, pred: 0 ---- true: 0.0 ====== correct: 33 ---- miscorrect: 29\n",
      "the 2474th day, pred: 1 ---- true: 1.0 ====== correct: 34 ---- miscorrect: 29\n",
      "the 2475th day, pred: 0 ---- true: 1.0 ====== correct: 34 ---- miscorrect: 30\n",
      "the 2476th day, pred: 1 ---- true: 1.0 ====== correct: 35 ---- miscorrect: 30\n",
      "the 2477th day, pred: 0 ---- true: 1.0 ====== correct: 35 ---- miscorrect: 31\n",
      "the 2478th day, pred: 0 ---- true: 1.0 ====== correct: 35 ---- miscorrect: 32\n",
      "the 2479th day, pred: 0 ---- true: 0.0 ====== correct: 36 ---- miscorrect: 32\n",
      "the 2480th day, pred: 1 ---- true: 1.0 ====== correct: 37 ---- miscorrect: 32\n",
      "the 2481th day, pred: 1 ---- true: 1.0 ====== correct: 38 ---- miscorrect: 32\n",
      "the 2482th day, pred: 0 ---- true: 1.0 ====== correct: 38 ---- miscorrect: 33\n",
      "the 2483th day, pred: 0 ---- true: 1.0 ====== correct: 38 ---- miscorrect: 34\n",
      "the 2484th day, pred: 0 ---- true: 0.0 ====== correct: 39 ---- miscorrect: 34\n",
      "the 2485th day, pred: 1 ---- true: 1.0 ====== correct: 40 ---- miscorrect: 34\n",
      "the 2486th day, pred: 1 ---- true: 1.0 ====== correct: 41 ---- miscorrect: 34\n",
      "the 2487th day, pred: 0 ---- true: 1.0 ====== correct: 41 ---- miscorrect: 35\n",
      "the 2488th day, pred: 0 ---- true: 0.0 ====== correct: 42 ---- miscorrect: 35\n",
      "the 2489th day, pred: 0 ---- true: 1.0 ====== correct: 42 ---- miscorrect: 36\n",
      "the 2490th day, pred: 0 ---- true: 0.0 ====== correct: 43 ---- miscorrect: 36\n",
      "the 2491th day, pred: 1 ---- true: 0.0 ====== correct: 43 ---- miscorrect: 37\n",
      "the 2492th day, pred: 0 ---- true: 1.0 ====== correct: 43 ---- miscorrect: 38\n",
      "the 2493th day, pred: 1 ---- true: 1.0 ====== correct: 44 ---- miscorrect: 38\n",
      "the 2494th day, pred: 0 ---- true: 0.0 ====== correct: 45 ---- miscorrect: 38\n",
      "the 2495th day, pred: 1 ---- true: 1.0 ====== correct: 46 ---- miscorrect: 38\n",
      "the 2496th day, pred: 1 ---- true: 0.0 ====== correct: 46 ---- miscorrect: 39\n",
      "the 2497th day, pred: 1 ---- true: 0.0 ====== correct: 46 ---- miscorrect: 40\n",
      "the 2498th day, pred: 0 ---- true: 0.0 ====== correct: 47 ---- miscorrect: 40\n",
      "the 2499th day, pred: 1 ---- true: 1.0 ====== correct: 48 ---- miscorrect: 40\n",
      "the 2500th day, pred: 1 ---- true: 0.0 ====== correct: 48 ---- miscorrect: 41\n",
      "the 2501th day, pred: 0 ---- true: 0.0 ====== correct: 49 ---- miscorrect: 41\n",
      "the 2502th day, pred: 0 ---- true: 0.0 ====== correct: 50 ---- miscorrect: 41\n",
      "the 2503th day, pred: 1 ---- true: 1.0 ====== correct: 51 ---- miscorrect: 41\n",
      "the 2504th day, pred: 1 ---- true: 1.0 ====== correct: 52 ---- miscorrect: 41\n",
      "the 2505th day, pred: 1 ---- true: 1.0 ====== correct: 53 ---- miscorrect: 41\n",
      "the 2506th day, pred: 0 ---- true: 1.0 ====== correct: 53 ---- miscorrect: 42\n",
      "the 2507th day, pred: 1 ---- true: 1.0 ====== correct: 54 ---- miscorrect: 42\n",
      "the 2508th day, pred: 1 ---- true: 0.0 ====== correct: 54 ---- miscorrect: 43\n",
      "the 2509th day, pred: 1 ---- true: 1.0 ====== correct: 55 ---- miscorrect: 43\n",
      "the 2510th day, pred: 0 ---- true: 1.0 ====== correct: 55 ---- miscorrect: 44\n",
      "the 2511th day, pred: 0 ---- true: 0.0 ====== correct: 56 ---- miscorrect: 44\n",
      "the 2512th day, pred: 0 ---- true: 0.0 ====== correct: 57 ---- miscorrect: 44\n",
      "the 2513th day, pred: 0 ---- true: 0.0 ====== correct: 58 ---- miscorrect: 44\n",
      "the 2514th day, pred: 1 ---- true: 0.0 ====== correct: 58 ---- miscorrect: 45\n",
      "the 2515th day, pred: 0 ---- true: 0.0 ====== correct: 59 ---- miscorrect: 45\n",
      "the 2516th day, pred: 0 ---- true: 1.0 ====== correct: 59 ---- miscorrect: 46\n",
      "the 2517th day, pred: 0 ---- true: 1.0 ====== correct: 59 ---- miscorrect: 47\n",
      "the 2518th day, pred: 1 ---- true: 0.0 ====== correct: 59 ---- miscorrect: 48\n",
      "the 2519th day, pred: 1 ---- true: 0.0 ====== correct: 59 ---- miscorrect: 49\n",
      "the 2520th day, pred: 1 ---- true: 0.0 ====== correct: 59 ---- miscorrect: 50\n",
      "the 2521th day, pred: 0 ---- true: 0.0 ====== correct: 60 ---- miscorrect: 50\n",
      "the 2522th day, pred: 1 ---- true: 0.0 ====== correct: 60 ---- miscorrect: 51\n",
      "the 2523th day, pred: 1 ---- true: 1.0 ====== correct: 61 ---- miscorrect: 51\n",
      "the 2524th day, pred: 1 ---- true: 1.0 ====== correct: 62 ---- miscorrect: 51\n",
      "the 2525th day, pred: 0 ---- true: 1.0 ====== correct: 62 ---- miscorrect: 52\n",
      "the 2526th day, pred: 1 ---- true: 1.0 ====== correct: 63 ---- miscorrect: 52\n",
      "the 2527th day, pred: 0 ---- true: 0.0 ====== correct: 64 ---- miscorrect: 52\n",
      "the 2528th day, pred: 1 ---- true: 1.0 ====== correct: 65 ---- miscorrect: 52\n",
      "the 2529th day, pred: 0 ---- true: 0.0 ====== correct: 66 ---- miscorrect: 52\n",
      "the 2530th day, pred: 1 ---- true: 0.0 ====== correct: 66 ---- miscorrect: 53\n",
      "the 2531th day, pred: 1 ---- true: 1.0 ====== correct: 67 ---- miscorrect: 53\n",
      "the 2532th day, pred: 1 ---- true: 0.0 ====== correct: 67 ---- miscorrect: 54\n",
      "the 2533th day, pred: 1 ---- true: 1.0 ====== correct: 68 ---- miscorrect: 54\n",
      "the 2534th day, pred: 1 ---- true: 1.0 ====== correct: 69 ---- miscorrect: 54\n",
      "the 2535th day, pred: 0 ---- true: 0.0 ====== correct: 70 ---- miscorrect: 54\n",
      "the 2536th day, pred: 0 ---- true: 1.0 ====== correct: 70 ---- miscorrect: 55\n",
      "the 2537th day, pred: 0 ---- true: 0.0 ====== correct: 71 ---- miscorrect: 55\n",
      "the 2538th day, pred: 1 ---- true: 0.0 ====== correct: 71 ---- miscorrect: 56\n",
      "the 2539th day, pred: 1 ---- true: 1.0 ====== correct: 72 ---- miscorrect: 56\n",
      "the 2540th day, pred: 0 ---- true: 0.0 ====== correct: 73 ---- miscorrect: 56\n",
      "the 2541th day, pred: 1 ---- true: 1.0 ====== correct: 74 ---- miscorrect: 56\n",
      "the 2542th day, pred: 1 ---- true: 1.0 ====== correct: 75 ---- miscorrect: 56\n",
      "the 2543th day, pred: 0 ---- true: 1.0 ====== correct: 75 ---- miscorrect: 57\n",
      "the 2544th day, pred: 1 ---- true: 0.0 ====== correct: 75 ---- miscorrect: 58\n",
      "the 2545th day, pred: 0 ---- true: 0.0 ====== correct: 76 ---- miscorrect: 58\n",
      "the 2546th day, pred: 0 ---- true: 1.0 ====== correct: 76 ---- miscorrect: 59\n",
      "the 2547th day, pred: 1 ---- true: 0.0 ====== correct: 76 ---- miscorrect: 60\n",
      "the 2548th day, pred: 1 ---- true: 1.0 ====== correct: 77 ---- miscorrect: 60\n",
      "the 2549th day, pred: 1 ---- true: 0.0 ====== correct: 77 ---- miscorrect: 61\n",
      "the 2550th day, pred: 0 ---- true: 0.0 ====== correct: 78 ---- miscorrect: 61\n",
      "the 2551th day, pred: 0 ---- true: 0.0 ====== correct: 79 ---- miscorrect: 61\n",
      "the 2552th day, pred: 1 ---- true: 1.0 ====== correct: 80 ---- miscorrect: 61\n",
      "the 2553th day, pred: 1 ---- true: 0.0 ====== correct: 80 ---- miscorrect: 62\n",
      "the 2554th day, pred: 1 ---- true: 0.0 ====== correct: 80 ---- miscorrect: 63\n",
      "the 2555th day, pred: 0 ---- true: 1.0 ====== correct: 80 ---- miscorrect: 64\n",
      "the 2556th day, pred: 0 ---- true: 0.0 ====== correct: 81 ---- miscorrect: 64\n",
      "the 2557th day, pred: 1 ---- true: 1.0 ====== correct: 82 ---- miscorrect: 64\n",
      "the 2558th day, pred: 1 ---- true: 0.0 ====== correct: 82 ---- miscorrect: 65\n",
      "the 2559th day, pred: 1 ---- true: 0.0 ====== correct: 82 ---- miscorrect: 66\n",
      "the 2560th day, pred: 1 ---- true: 1.0 ====== correct: 83 ---- miscorrect: 66\n",
      "the 2561th day, pred: 1 ---- true: 0.0 ====== correct: 83 ---- miscorrect: 67\n",
      "the 2562th day, pred: 1 ---- true: 1.0 ====== correct: 84 ---- miscorrect: 67\n",
      "the 2563th day, pred: 0 ---- true: 0.0 ====== correct: 85 ---- miscorrect: 67\n",
      "the 2564th day, pred: 1 ---- true: 1.0 ====== correct: 86 ---- miscorrect: 67\n",
      "the 2565th day, pred: 1 ---- true: 0.0 ====== correct: 86 ---- miscorrect: 68\n",
      "the 2566th day, pred: 1 ---- true: 1.0 ====== correct: 87 ---- miscorrect: 68\n",
      "the 2567th day, pred: 0 ---- true: 0.0 ====== correct: 88 ---- miscorrect: 68\n",
      "the 2568th day, pred: 1 ---- true: 0.0 ====== correct: 88 ---- miscorrect: 69\n",
      "the 2569th day, pred: 0 ---- true: 0.0 ====== correct: 89 ---- miscorrect: 69\n",
      "the 2570th day, pred: 1 ---- true: 0.0 ====== correct: 89 ---- miscorrect: 70\n",
      "the 2571th day, pred: 0 ---- true: 1.0 ====== correct: 89 ---- miscorrect: 71\n",
      "the 2572th day, pred: 1 ---- true: 1.0 ====== correct: 90 ---- miscorrect: 71\n",
      "the 2573th day, pred: 1 ---- true: 0.0 ====== correct: 90 ---- miscorrect: 72\n",
      "the 2574th day, pred: 1 ---- true: 0.0 ====== correct: 90 ---- miscorrect: 73\n",
      "the 2575th day, pred: 1 ---- true: 1.0 ====== correct: 91 ---- miscorrect: 73\n",
      "the 2576th day, pred: 0 ---- true: 1.0 ====== correct: 91 ---- miscorrect: 74\n",
      "the 2577th day, pred: 0 ---- true: 0.0 ====== correct: 92 ---- miscorrect: 74\n",
      "the 2578th day, pred: 0 ---- true: 1.0 ====== correct: 92 ---- miscorrect: 75\n",
      "the 2579th day, pred: 0 ---- true: 1.0 ====== correct: 92 ---- miscorrect: 76\n",
      "the 2580th day, pred: 1 ---- true: 1.0 ====== correct: 93 ---- miscorrect: 76\n",
      "the 2581th day, pred: 0 ---- true: 0.0 ====== correct: 94 ---- miscorrect: 76\n",
      "the 2582th day, pred: 0 ---- true: 1.0 ====== correct: 94 ---- miscorrect: 77\n",
      "the 2583th day, pred: 0 ---- true: 1.0 ====== correct: 94 ---- miscorrect: 78\n",
      "the 2584th day, pred: 1 ---- true: 0.0 ====== correct: 94 ---- miscorrect: 79\n",
      "the 2585th day, pred: 1 ---- true: 0.0 ====== correct: 94 ---- miscorrect: 80\n",
      "the 2586th day, pred: 0 ---- true: 1.0 ====== correct: 94 ---- miscorrect: 81\n",
      "the 2587th day, pred: 0 ---- true: 0.0 ====== correct: 95 ---- miscorrect: 81\n",
      "the 2588th day, pred: 1 ---- true: 1.0 ====== correct: 96 ---- miscorrect: 81\n",
      "the 2589th day, pred: 1 ---- true: 1.0 ====== correct: 97 ---- miscorrect: 81\n",
      "the 2590th day, pred: 1 ---- true: 1.0 ====== correct: 98 ---- miscorrect: 81\n",
      "the 2591th day, pred: 0 ---- true: 0.0 ====== correct: 99 ---- miscorrect: 81\n",
      "the 2592th day, pred: 0 ---- true: 1.0 ====== correct: 99 ---- miscorrect: 82\n",
      "the 2593th day, pred: 1 ---- true: 0.0 ====== correct: 99 ---- miscorrect: 83\n",
      "the 2594th day, pred: 0 ---- true: 0.0 ====== correct: 100 ---- miscorrect: 83\n",
      "the 2595th day, pred: 0 ---- true: 1.0 ====== correct: 100 ---- miscorrect: 84\n",
      "the 2596th day, pred: 0 ---- true: 1.0 ====== correct: 100 ---- miscorrect: 85\n",
      "the 2597th day, pred: 1 ---- true: 0.0 ====== correct: 100 ---- miscorrect: 86\n",
      "the 2598th day, pred: 1 ---- true: 0.0 ====== correct: 100 ---- miscorrect: 87\n",
      "the 2599th day, pred: 0 ---- true: 1.0 ====== correct: 100 ---- miscorrect: 88\n",
      "the 2600th day, pred: 0 ---- true: 1.0 ====== correct: 100 ---- miscorrect: 89\n",
      "the 2601th day, pred: 0 ---- true: 0.0 ====== correct: 101 ---- miscorrect: 89\n",
      "the 2602th day, pred: 1 ---- true: 0.0 ====== correct: 101 ---- miscorrect: 90\n",
      "the 2603th day, pred: 0 ---- true: 0.0 ====== correct: 102 ---- miscorrect: 90\n",
      "the 2604th day, pred: 1 ---- true: 1.0 ====== correct: 103 ---- miscorrect: 90\n",
      "the 2605th day, pred: 0 ---- true: 1.0 ====== correct: 103 ---- miscorrect: 91\n",
      "the 2606th day, pred: 0 ---- true: 1.0 ====== correct: 103 ---- miscorrect: 92\n",
      "the 2607th day, pred: 0 ---- true: 0.0 ====== correct: 104 ---- miscorrect: 92\n",
      "the 2608th day, pred: 1 ---- true: 0.0 ====== correct: 104 ---- miscorrect: 93\n",
      "the 2609th day, pred: 0 ---- true: 1.0 ====== correct: 104 ---- miscorrect: 94\n",
      "the 2610th day, pred: 1 ---- true: 0.0 ====== correct: 104 ---- miscorrect: 95\n",
      "the 2611th day, pred: 1 ---- true: 0.0 ====== correct: 104 ---- miscorrect: 96\n",
      "the 2612th day, pred: 1 ---- true: 1.0 ====== correct: 105 ---- miscorrect: 96\n",
      "the 2613th day, pred: 1 ---- true: 0.0 ====== correct: 105 ---- miscorrect: 97\n",
      "the 2614th day, pred: 1 ---- true: 0.0 ====== correct: 105 ---- miscorrect: 98\n",
      "the 2615th day, pred: 0 ---- true: 1.0 ====== correct: 105 ---- miscorrect: 99\n",
      "the 2616th day, pred: 0 ---- true: 0.0 ====== correct: 106 ---- miscorrect: 99\n",
      "the 2617th day, pred: 1 ---- true: 1.0 ====== correct: 107 ---- miscorrect: 99\n",
      "the 2618th day, pred: 1 ---- true: 0.0 ====== correct: 107 ---- miscorrect: 100\n",
      "the 2619th day, pred: 1 ---- true: 0.0 ====== correct: 107 ---- miscorrect: 101\n",
      "the 2620th day, pred: 1 ---- true: 0.0 ====== correct: 107 ---- miscorrect: 102\n"
     ]
    },
    {
     "name": "stdout",
     "output_type": "stream",
     "text": [
      "the 2621th day, pred: 1 ---- true: 1.0 ====== correct: 108 ---- miscorrect: 102\n",
      "the 2622th day, pred: 0 ---- true: 1.0 ====== correct: 108 ---- miscorrect: 103\n",
      "the 2623th day, pred: 1 ---- true: 1.0 ====== correct: 109 ---- miscorrect: 103\n",
      "the 2624th day, pred: 1 ---- true: 0.0 ====== correct: 109 ---- miscorrect: 104\n",
      "the 2625th day, pred: 0 ---- true: 0.0 ====== correct: 110 ---- miscorrect: 104\n",
      "the 2626th day, pred: 0 ---- true: 1.0 ====== correct: 110 ---- miscorrect: 105\n",
      "the 2627th day, pred: 0 ---- true: 1.0 ====== correct: 110 ---- miscorrect: 106\n",
      "the 2628th day, pred: 0 ---- true: 1.0 ====== correct: 110 ---- miscorrect: 107\n",
      "the 2629th day, pred: 1 ---- true: 0.0 ====== correct: 110 ---- miscorrect: 108\n",
      "the 2630th day, pred: 0 ---- true: 1.0 ====== correct: 110 ---- miscorrect: 109\n",
      "the 2631th day, pred: 0 ---- true: 1.0 ====== correct: 110 ---- miscorrect: 110\n",
      "the 2632th day, pred: 1 ---- true: 0.0 ====== correct: 110 ---- miscorrect: 111\n",
      "the 2633th day, pred: 0 ---- true: 0.0 ====== correct: 111 ---- miscorrect: 111\n",
      "the 2634th day, pred: 1 ---- true: 0.0 ====== correct: 111 ---- miscorrect: 112\n",
      "the 2635th day, pred: 0 ---- true: 0.0 ====== correct: 112 ---- miscorrect: 112\n",
      "the 2636th day, pred: 1 ---- true: 1.0 ====== correct: 113 ---- miscorrect: 112\n",
      "the 2637th day, pred: 0 ---- true: 1.0 ====== correct: 113 ---- miscorrect: 113\n",
      "the 2638th day, pred: 0 ---- true: 0.0 ====== correct: 114 ---- miscorrect: 113\n",
      "the 2639th day, pred: 0 ---- true: 0.0 ====== correct: 115 ---- miscorrect: 113\n",
      "the 2640th day, pred: 1 ---- true: 1.0 ====== correct: 116 ---- miscorrect: 113\n",
      "the 2641th day, pred: 1 ---- true: 0.0 ====== correct: 116 ---- miscorrect: 114\n",
      "the 2642th day, pred: 1 ---- true: 1.0 ====== correct: 117 ---- miscorrect: 114\n",
      "the 2643th day, pred: 0 ---- true: 1.0 ====== correct: 117 ---- miscorrect: 115\n",
      "the 2644th day, pred: 0 ---- true: 1.0 ====== correct: 117 ---- miscorrect: 116\n",
      "the 2645th day, pred: 1 ---- true: 1.0 ====== correct: 118 ---- miscorrect: 116\n",
      "the 2646th day, pred: 0 ---- true: 0.0 ====== correct: 119 ---- miscorrect: 116\n",
      "the 2647th day, pred: 0 ---- true: 1.0 ====== correct: 119 ---- miscorrect: 117\n",
      "the 2648th day, pred: 1 ---- true: 1.0 ====== correct: 120 ---- miscorrect: 117\n",
      "the 2649th day, pred: 0 ---- true: 1.0 ====== correct: 120 ---- miscorrect: 118\n",
      "the 2650th day, pred: 0 ---- true: 0.0 ====== correct: 121 ---- miscorrect: 118\n",
      "the 2651th day, pred: 0 ---- true: 0.0 ====== correct: 122 ---- miscorrect: 118\n",
      "the 2652th day, pred: 0 ---- true: 0.0 ====== correct: 123 ---- miscorrect: 118\n",
      "the 2653th day, pred: 1 ---- true: 0.0 ====== correct: 123 ---- miscorrect: 119\n",
      "the 2654th day, pred: 1 ---- true: 0.0 ====== correct: 123 ---- miscorrect: 120\n",
      "the 2655th day, pred: 0 ---- true: 1.0 ====== correct: 123 ---- miscorrect: 121\n",
      "the 2656th day, pred: 0 ---- true: 1.0 ====== correct: 123 ---- miscorrect: 122\n",
      "the 2657th day, pred: 0 ---- true: 1.0 ====== correct: 123 ---- miscorrect: 123\n",
      "the 2658th day, pred: 1 ---- true: 0.0 ====== correct: 123 ---- miscorrect: 124\n",
      "the 2659th day, pred: 1 ---- true: 0.0 ====== correct: 123 ---- miscorrect: 125\n",
      "the 2660th day, pred: 0 ---- true: 0.0 ====== correct: 124 ---- miscorrect: 125\n",
      "the 2661th day, pred: 1 ---- true: 1.0 ====== correct: 125 ---- miscorrect: 125\n",
      "the 2662th day, pred: 0 ---- true: 0.0 ====== correct: 126 ---- miscorrect: 125\n",
      "the 2663th day, pred: 1 ---- true: 0.0 ====== correct: 126 ---- miscorrect: 126\n",
      "the 2664th day, pred: 1 ---- true: 1.0 ====== correct: 127 ---- miscorrect: 126\n",
      "the 2665th day, pred: 0 ---- true: 0.0 ====== correct: 128 ---- miscorrect: 126\n",
      "the 2666th day, pred: 0 ---- true: 1.0 ====== correct: 128 ---- miscorrect: 127\n",
      "the 2667th day, pred: 0 ---- true: 0.0 ====== correct: 129 ---- miscorrect: 127\n",
      "the 2668th day, pred: 1 ---- true: 1.0 ====== correct: 130 ---- miscorrect: 127\n",
      "the 2669th day, pred: 0 ---- true: 1.0 ====== correct: 130 ---- miscorrect: 128\n",
      "the 2670th day, pred: 1 ---- true: 0.0 ====== correct: 130 ---- miscorrect: 129\n",
      "the 2671th day, pred: 0 ---- true: 0.0 ====== correct: 131 ---- miscorrect: 129\n",
      "the 2672th day, pred: 0 ---- true: 0.0 ====== correct: 132 ---- miscorrect: 129\n",
      "the 2673th day, pred: 1 ---- true: 0.0 ====== correct: 132 ---- miscorrect: 130\n",
      "the 2674th day, pred: 0 ---- true: 0.0 ====== correct: 133 ---- miscorrect: 130\n",
      "the 2675th day, pred: 1 ---- true: 0.0 ====== correct: 133 ---- miscorrect: 131\n",
      "the 2676th day, pred: 1 ---- true: 1.0 ====== correct: 134 ---- miscorrect: 131\n",
      "the 2677th day, pred: 0 ---- true: 1.0 ====== correct: 134 ---- miscorrect: 132\n",
      "the 2678th day, pred: 0 ---- true: 1.0 ====== correct: 134 ---- miscorrect: 133\n",
      "the 2679th day, pred: 0 ---- true: 0.0 ====== correct: 135 ---- miscorrect: 133\n",
      "the 2680th day, pred: 0 ---- true: 0.0 ====== correct: 136 ---- miscorrect: 133\n",
      "the 2681th day, pred: 1 ---- true: 1.0 ====== correct: 137 ---- miscorrect: 133\n",
      "the 2682th day, pred: 1 ---- true: 1.0 ====== correct: 138 ---- miscorrect: 133\n",
      "the 2683th day, pred: 1 ---- true: 0.0 ====== correct: 138 ---- miscorrect: 134\n",
      "the 2684th day, pred: 1 ---- true: 1.0 ====== correct: 139 ---- miscorrect: 134\n",
      "the 2685th day, pred: 1 ---- true: 0.0 ====== correct: 139 ---- miscorrect: 135\n",
      "the 2686th day, pred: 1 ---- true: 1.0 ====== correct: 140 ---- miscorrect: 135\n",
      "the 2687th day, pred: 1 ---- true: 1.0 ====== correct: 141 ---- miscorrect: 135\n",
      "the 2688th day, pred: 0 ---- true: 0.0 ====== correct: 142 ---- miscorrect: 135\n",
      "the 2689th day, pred: 1 ---- true: 1.0 ====== correct: 143 ---- miscorrect: 135\n",
      "the 2690th day, pred: 1 ---- true: 1.0 ====== correct: 144 ---- miscorrect: 135\n",
      "the 2691th day, pred: 1 ---- true: 0.0 ====== correct: 144 ---- miscorrect: 136\n",
      "the 2692th day, pred: 1 ---- true: 0.0 ====== correct: 144 ---- miscorrect: 137\n",
      "the 2693th day, pred: 0 ---- true: 1.0 ====== correct: 144 ---- miscorrect: 138\n",
      "the 2694th day, pred: 1 ---- true: 0.0 ====== correct: 144 ---- miscorrect: 139\n",
      "the 2695th day, pred: 0 ---- true: 0.0 ====== correct: 145 ---- miscorrect: 139\n",
      "the 2696th day, pred: 0 ---- true: 0.0 ====== correct: 146 ---- miscorrect: 139\n",
      "the 2697th day, pred: 1 ---- true: 0.0 ====== correct: 146 ---- miscorrect: 140\n",
      "the 2698th day, pred: 1 ---- true: 0.0 ====== correct: 146 ---- miscorrect: 141\n",
      "the 2699th day, pred: 0 ---- true: 1.0 ====== correct: 146 ---- miscorrect: 142\n",
      "the 2700th day, pred: 0 ---- true: 1.0 ====== correct: 146 ---- miscorrect: 143\n",
      "the 2701th day, pred: 0 ---- true: 1.0 ====== correct: 146 ---- miscorrect: 144\n",
      "the 2702th day, pred: 1 ---- true: 1.0 ====== correct: 147 ---- miscorrect: 144\n",
      "the 2703th day, pred: 1 ---- true: 1.0 ====== correct: 148 ---- miscorrect: 144\n",
      "the 2704th day, pred: 1 ---- true: 0.0 ====== correct: 148 ---- miscorrect: 145\n",
      "the 2705th day, pred: 0 ---- true: 1.0 ====== correct: 148 ---- miscorrect: 146\n",
      "the 2706th day, pred: 0 ---- true: 1.0 ====== correct: 148 ---- miscorrect: 147\n",
      "the 2707th day, pred: 1 ---- true: 1.0 ====== correct: 149 ---- miscorrect: 147\n",
      "the 2708th day, pred: 0 ---- true: 1.0 ====== correct: 149 ---- miscorrect: 148\n",
      "the 2709th day, pred: 0 ---- true: 0.0 ====== correct: 150 ---- miscorrect: 148\n",
      "the 2710th day, pred: 0 ---- true: 0.0 ====== correct: 151 ---- miscorrect: 148\n",
      "the 2711th day, pred: 1 ---- true: 1.0 ====== correct: 152 ---- miscorrect: 148\n",
      "the 2712th day, pred: 0 ---- true: 1.0 ====== correct: 152 ---- miscorrect: 149\n",
      "the 2713th day, pred: 0 ---- true: 1.0 ====== correct: 152 ---- miscorrect: 150\n",
      "the 2714th day, pred: 0 ---- true: 0.0 ====== correct: 153 ---- miscorrect: 150\n",
      "the 2715th day, pred: 1 ---- true: 0.0 ====== correct: 153 ---- miscorrect: 151\n",
      "the 2716th day, pred: 1 ---- true: 1.0 ====== correct: 154 ---- miscorrect: 151\n",
      "the 2717th day, pred: 1 ---- true: 1.0 ====== correct: 155 ---- miscorrect: 151\n",
      "the 2718th day, pred: 1 ---- true: 0.0 ====== correct: 155 ---- miscorrect: 152\n",
      "the 2719th day, pred: 1 ---- true: 0.0 ====== correct: 155 ---- miscorrect: 153\n",
      "the 2720th day, pred: 0 ---- true: 1.0 ====== correct: 155 ---- miscorrect: 154\n",
      "the 2721th day, pred: 0 ---- true: 0.0 ====== correct: 156 ---- miscorrect: 154\n",
      "the 2722th day, pred: 1 ---- true: 0.0 ====== correct: 156 ---- miscorrect: 155\n",
      "the 2723th day, pred: 0 ---- true: 1.0 ====== correct: 156 ---- miscorrect: 156\n",
      "the 2724th day, pred: 0 ---- true: 1.0 ====== correct: 156 ---- miscorrect: 157\n",
      "the 2725th day, pred: 0 ---- true: 0.0 ====== correct: 157 ---- miscorrect: 157\n",
      "the 2726th day, pred: 1 ---- true: 0.0 ====== correct: 157 ---- miscorrect: 158\n",
      "the 2727th day, pred: 1 ---- true: 0.0 ====== correct: 157 ---- miscorrect: 159\n",
      "the 2728th day, pred: 0 ---- true: 0.0 ====== correct: 158 ---- miscorrect: 159\n",
      "the 2729th day, pred: 1 ---- true: 1.0 ====== correct: 159 ---- miscorrect: 159\n",
      "the 2730th day, pred: 1 ---- true: 0.0 ====== correct: 159 ---- miscorrect: 160\n",
      "the 2731th day, pred: 0 ---- true: 0.0 ====== correct: 160 ---- miscorrect: 160\n",
      "the 2732th day, pred: 0 ---- true: 0.0 ====== correct: 161 ---- miscorrect: 160\n",
      "the 2733th day, pred: 0 ---- true: 1.0 ====== correct: 161 ---- miscorrect: 161\n",
      "the 2734th day, pred: 1 ---- true: 0.0 ====== correct: 161 ---- miscorrect: 162\n",
      "the 2735th day, pred: 0 ---- true: 1.0 ====== correct: 161 ---- miscorrect: 163\n",
      "the 2736th day, pred: 0 ---- true: 0.0 ====== correct: 162 ---- miscorrect: 163\n",
      "the 2737th day, pred: 1 ---- true: 1.0 ====== correct: 163 ---- miscorrect: 163\n",
      "the 2738th day, pred: 0 ---- true: 0.0 ====== correct: 164 ---- miscorrect: 163\n",
      "the 2739th day, pred: 0 ---- true: 1.0 ====== correct: 164 ---- miscorrect: 164\n",
      "the 2740th day, pred: 1 ---- true: 0.0 ====== correct: 164 ---- miscorrect: 165\n",
      "the 2741th day, pred: 1 ---- true: 1.0 ====== correct: 165 ---- miscorrect: 165\n",
      "the 2742th day, pred: 1 ---- true: 0.0 ====== correct: 165 ---- miscorrect: 166\n",
      "the 2743th day, pred: 0 ---- true: 1.0 ====== correct: 165 ---- miscorrect: 167\n",
      "the 2744th day, pred: 0 ---- true: 0.0 ====== correct: 166 ---- miscorrect: 167\n",
      "the 2745th day, pred: 1 ---- true: 0.0 ====== correct: 166 ---- miscorrect: 168\n",
      "the 2746th day, pred: 0 ---- true: 1.0 ====== correct: 166 ---- miscorrect: 169\n",
      "the 2747th day, pred: 0 ---- true: 0.0 ====== correct: 167 ---- miscorrect: 169\n",
      "the 2748th day, pred: 1 ---- true: 0.0 ====== correct: 167 ---- miscorrect: 170\n",
      "the 2749th day, pred: 1 ---- true: 0.0 ====== correct: 167 ---- miscorrect: 171\n",
      "the 2750th day, pred: 0 ---- true: 1.0 ====== correct: 167 ---- miscorrect: 172\n",
      "the 2751th day, pred: 1 ---- true: 0.0 ====== correct: 167 ---- miscorrect: 173\n",
      "the 2752th day, pred: 0 ---- true: 1.0 ====== correct: 167 ---- miscorrect: 174\n",
      "the 2753th day, pred: 1 ---- true: 1.0 ====== correct: 168 ---- miscorrect: 174\n",
      "the 2754th day, pred: 1 ---- true: 1.0 ====== correct: 169 ---- miscorrect: 174\n",
      "the 2755th day, pred: 1 ---- true: 0.0 ====== correct: 169 ---- miscorrect: 175\n",
      "the 2756th day, pred: 0 ---- true: 0.0 ====== correct: 170 ---- miscorrect: 175\n",
      "the 2757th day, pred: 0 ---- true: 1.0 ====== correct: 170 ---- miscorrect: 176\n",
      "the 2758th day, pred: 0 ---- true: 1.0 ====== correct: 170 ---- miscorrect: 177\n",
      "the 2759th day, pred: 1 ---- true: 1.0 ====== correct: 171 ---- miscorrect: 177\n",
      "the 2760th day, pred: 0 ---- true: 0.0 ====== correct: 172 ---- miscorrect: 177\n",
      "the 2761th day, pred: 0 ---- true: 0.0 ====== correct: 173 ---- miscorrect: 177\n",
      "the 2762th day, pred: 1 ---- true: 1.0 ====== correct: 174 ---- miscorrect: 177\n",
      "the 2763th day, pred: 0 ---- true: 0.0 ====== correct: 175 ---- miscorrect: 177\n",
      "the 2764th day, pred: 1 ---- true: 0.0 ====== correct: 175 ---- miscorrect: 178\n",
      "the 2765th day, pred: 1 ---- true: 0.0 ====== correct: 175 ---- miscorrect: 179\n",
      "the 2766th day, pred: 0 ---- true: 1.0 ====== correct: 175 ---- miscorrect: 180\n",
      "the 2767th day, pred: 0 ---- true: 0.0 ====== correct: 176 ---- miscorrect: 180\n",
      "the 2768th day, pred: 0 ---- true: 0.0 ====== correct: 177 ---- miscorrect: 180\n",
      "the 2769th day, pred: 0 ---- true: 0.0 ====== correct: 178 ---- miscorrect: 180\n",
      "the 2770th day, pred: 1 ---- true: 1.0 ====== correct: 179 ---- miscorrect: 180\n",
      "the 2771th day, pred: 1 ---- true: 1.0 ====== correct: 180 ---- miscorrect: 180\n",
      "the 2772th day, pred: 1 ---- true: 0.0 ====== correct: 180 ---- miscorrect: 181\n",
      "the 2773th day, pred: 1 ---- true: 1.0 ====== correct: 181 ---- miscorrect: 181\n",
      "the 2774th day, pred: 0 ---- true: 0.0 ====== correct: 182 ---- miscorrect: 181\n",
      "the 2775th day, pred: 1 ---- true: 1.0 ====== correct: 183 ---- miscorrect: 181\n",
      "the 2776th day, pred: 0 ---- true: 0.0 ====== correct: 184 ---- miscorrect: 181\n",
      "the 2777th day, pred: 1 ---- true: 1.0 ====== correct: 185 ---- miscorrect: 181\n",
      "the 2778th day, pred: 0 ---- true: 1.0 ====== correct: 185 ---- miscorrect: 182\n",
      "the 2779th day, pred: 1 ---- true: 0.0 ====== correct: 185 ---- miscorrect: 183\n",
      "the 2780th day, pred: 1 ---- true: 1.0 ====== correct: 186 ---- miscorrect: 183\n",
      "the 2781th day, pred: 0 ---- true: 0.0 ====== correct: 187 ---- miscorrect: 183\n",
      "the 2782th day, pred: 1 ---- true: 1.0 ====== correct: 188 ---- miscorrect: 183\n",
      "the 2783th day, pred: 1 ---- true: 1.0 ====== correct: 189 ---- miscorrect: 183\n",
      "the 2784th day, pred: 0 ---- true: 0.0 ====== correct: 190 ---- miscorrect: 183\n",
      "the 2785th day, pred: 0 ---- true: 0.0 ====== correct: 191 ---- miscorrect: 183\n",
      "the 2786th day, pred: 0 ---- true: 1.0 ====== correct: 191 ---- miscorrect: 184\n"
     ]
    }
   ],
   "source": [
    "from train_test_split import utility_fun\n",
    "\n",
    "#classification problem  we use bce loss\n",
    "loss_function = nn.BCELoss()\n",
    "optimiser = optim.SGD(model.parameters(),lr = 0.01)\n",
    "device = \"cuda:0\" if torch.cuda.is_available() else \"cpu\"\n",
    "cor = 0\n",
    "mis = 0\n",
    "for i in range(2412, 3012):\n",
    "    temp = utility_fun([X, y], len_of_trainset = i, time_interval = 100)\n",
    "\n",
    "    temp.norm()\n",
    "    temp.sepera_time_step()\n",
    "    temp.test_train_split()\n",
    "    trainloader, validateData = temp.build_dataloader()\n",
    "\n",
    "    model = BaselineModel(400, 500, 1)\n",
    "     \n",
    "    trial = Trial(model, optimiser, loss_function, metrics=['loss', 'accuracy'], verbose = False).to(device)\n",
    "    trial.with_generators(trainloader)\n",
    "    trial.run(epochs=1)\n",
    "    \n",
    "    y_pred= model(validateData.view(validateData.shape[0],-1)[0].to(device).float())\n",
    "    if y_pred.data > 0.5:\n",
    "        a = 1\n",
    "    else:\n",
    "        a = 0\n",
    "    if a == y[i]:\n",
    "        cor += 1\n",
    "    else:\n",
    "        mis += 1\n",
    "        \n",
    "    print(\"the {}th day, pred: {} ---- true: {} ====== correct: {} ---- miscorrect: {}\".format(i, a, y[i],cor,mis))\n",
    "    \n",
    "#     print(y_pred.value())"
   ]
  },
  {
   "cell_type": "code",
   "execution_count": 34,
   "metadata": {
    "scrolled": true
   },
   "outputs": [
    {
     "name": "stderr",
     "output_type": "stream",
     "text": [
      "E:\\anacoda\\lib\\site-packages\\torch\\nn\\functional.py:1386: UserWarning: nn.functional.sigmoid is deprecated. Use torch.sigmoid instead.\n",
      "  warnings.warn(\"nn.functional.sigmoid is deprecated. Use torch.sigmoid instead.\")\n",
      "E:\\anacoda\\lib\\site-packages\\torch\\nn\\modules\\loss.py:512: UserWarning: Using a target size (torch.Size([1])) that is different to the input size (torch.Size([])) is deprecated. Please ensure they have the same size.\n",
      "  return F.binary_cross_entropy(input, target, weight=self.weight, reduction=self.reduction)\n"
     ]
    },
    {
     "name": "stdout",
     "output_type": "stream",
     "text": [
      "the 2412th day, pred: 0 ---- true: 1.0 ====== correct: 0 ---- miscorrect: 1\n",
      "the 2413th day, pred: 0 ---- true: 1.0 ====== correct: 0 ---- miscorrect: 2\n",
      "the 2414th day, pred: 0 ---- true: 0.0 ====== correct: 1 ---- miscorrect: 2\n",
      "the 2415th day, pred: 1 ---- true: 1.0 ====== correct: 2 ---- miscorrect: 2\n",
      "the 2416th day, pred: 0 ---- true: 1.0 ====== correct: 2 ---- miscorrect: 3\n",
      "the 2417th day, pred: 1 ---- true: 0.0 ====== correct: 2 ---- miscorrect: 4\n",
      "the 2418th day, pred: 0 ---- true: 1.0 ====== correct: 2 ---- miscorrect: 5\n",
      "the 2419th day, pred: 0 ---- true: 1.0 ====== correct: 2 ---- miscorrect: 6\n",
      "the 2420th day, pred: 0 ---- true: 1.0 ====== correct: 2 ---- miscorrect: 7\n",
      "the 2421th day, pred: 1 ---- true: 1.0 ====== correct: 3 ---- miscorrect: 7\n",
      "the 2422th day, pred: 1 ---- true: 0.0 ====== correct: 3 ---- miscorrect: 8\n",
      "the 2423th day, pred: 0 ---- true: 1.0 ====== correct: 3 ---- miscorrect: 9\n",
      "the 2424th day, pred: 1 ---- true: 1.0 ====== correct: 4 ---- miscorrect: 9\n",
      "the 2425th day, pred: 1 ---- true: 1.0 ====== correct: 5 ---- miscorrect: 9\n",
      "the 2426th day, pred: 1 ---- true: 0.0 ====== correct: 5 ---- miscorrect: 10\n",
      "the 2427th day, pred: 0 ---- true: 1.0 ====== correct: 5 ---- miscorrect: 11\n",
      "the 2428th day, pred: 0 ---- true: 0.0 ====== correct: 6 ---- miscorrect: 11\n",
      "the 2429th day, pred: 1 ---- true: 0.0 ====== correct: 6 ---- miscorrect: 12\n",
      "the 2430th day, pred: 1 ---- true: 0.0 ====== correct: 6 ---- miscorrect: 13\n",
      "the 2431th day, pred: 1 ---- true: 1.0 ====== correct: 7 ---- miscorrect: 13\n",
      "the 2432th day, pred: 0 ---- true: 0.0 ====== correct: 8 ---- miscorrect: 13\n",
      "the 2433th day, pred: 1 ---- true: 0.0 ====== correct: 8 ---- miscorrect: 14\n",
      "the 2434th day, pred: 0 ---- true: 1.0 ====== correct: 8 ---- miscorrect: 15\n",
      "the 2435th day, pred: 0 ---- true: 1.0 ====== correct: 8 ---- miscorrect: 16\n",
      "the 2436th day, pred: 1 ---- true: 0.0 ====== correct: 8 ---- miscorrect: 17\n",
      "the 2437th day, pred: 1 ---- true: 0.0 ====== correct: 8 ---- miscorrect: 18\n",
      "the 2438th day, pred: 1 ---- true: 1.0 ====== correct: 9 ---- miscorrect: 18\n",
      "the 2439th day, pred: 1 ---- true: 1.0 ====== correct: 10 ---- miscorrect: 18\n",
      "the 2440th day, pred: 1 ---- true: 1.0 ====== correct: 11 ---- miscorrect: 18\n",
      "the 2441th day, pred: 0 ---- true: 0.0 ====== correct: 12 ---- miscorrect: 18\n",
      "the 2442th day, pred: 1 ---- true: 0.0 ====== correct: 12 ---- miscorrect: 19\n",
      "the 2443th day, pred: 0 ---- true: 0.0 ====== correct: 13 ---- miscorrect: 19\n",
      "the 2444th day, pred: 0 ---- true: 1.0 ====== correct: 13 ---- miscorrect: 20\n",
      "the 2445th day, pred: 0 ---- true: 0.0 ====== correct: 14 ---- miscorrect: 20\n",
      "the 2446th day, pred: 0 ---- true: 1.0 ====== correct: 14 ---- miscorrect: 21\n",
      "the 2447th day, pred: 1 ---- true: 0.0 ====== correct: 14 ---- miscorrect: 22\n",
      "the 2448th day, pred: 1 ---- true: 0.0 ====== correct: 14 ---- miscorrect: 23\n",
      "the 2449th day, pred: 0 ---- true: 0.0 ====== correct: 15 ---- miscorrect: 23\n",
      "the 2450th day, pred: 1 ---- true: 1.0 ====== correct: 16 ---- miscorrect: 23\n",
      "the 2451th day, pred: 1 ---- true: 1.0 ====== correct: 17 ---- miscorrect: 23\n",
      "the 2452th day, pred: 0 ---- true: 0.0 ====== correct: 18 ---- miscorrect: 23\n",
      "the 2453th day, pred: 1 ---- true: 0.0 ====== correct: 18 ---- miscorrect: 24\n",
      "the 2454th day, pred: 0 ---- true: 1.0 ====== correct: 18 ---- miscorrect: 25\n",
      "the 2455th day, pred: 1 ---- true: 0.0 ====== correct: 18 ---- miscorrect: 26\n",
      "the 2456th day, pred: 1 ---- true: 0.0 ====== correct: 18 ---- miscorrect: 27\n",
      "the 2457th day, pred: 0 ---- true: 0.0 ====== correct: 19 ---- miscorrect: 27\n",
      "the 2458th day, pred: 1 ---- true: 1.0 ====== correct: 20 ---- miscorrect: 27\n",
      "the 2459th day, pred: 1 ---- true: 0.0 ====== correct: 20 ---- miscorrect: 28\n",
      "the 2460th day, pred: 0 ---- true: 1.0 ====== correct: 20 ---- miscorrect: 29\n",
      "the 2461th day, pred: 1 ---- true: 1.0 ====== correct: 21 ---- miscorrect: 29\n",
      "the 2462th day, pred: 1 ---- true: 1.0 ====== correct: 22 ---- miscorrect: 29\n",
      "the 2463th day, pred: 0 ---- true: 1.0 ====== correct: 22 ---- miscorrect: 30\n",
      "the 2464th day, pred: 0 ---- true: 0.0 ====== correct: 23 ---- miscorrect: 30\n",
      "the 2465th day, pred: 1 ---- true: 1.0 ====== correct: 24 ---- miscorrect: 30\n",
      "the 2466th day, pred: 0 ---- true: 1.0 ====== correct: 24 ---- miscorrect: 31\n",
      "the 2467th day, pred: 1 ---- true: 0.0 ====== correct: 24 ---- miscorrect: 32\n",
      "the 2468th day, pred: 0 ---- true: 1.0 ====== correct: 24 ---- miscorrect: 33\n",
      "the 2469th day, pred: 1 ---- true: 0.0 ====== correct: 24 ---- miscorrect: 34\n",
      "the 2470th day, pred: 0 ---- true: 1.0 ====== correct: 24 ---- miscorrect: 35\n",
      "the 2471th day, pred: 0 ---- true: 1.0 ====== correct: 24 ---- miscorrect: 36\n",
      "the 2472th day, pred: 0 ---- true: 0.0 ====== correct: 25 ---- miscorrect: 36\n",
      "the 2473th day, pred: 0 ---- true: 0.0 ====== correct: 26 ---- miscorrect: 36\n",
      "the 2474th day, pred: 1 ---- true: 1.0 ====== correct: 27 ---- miscorrect: 36\n",
      "the 2475th day, pred: 1 ---- true: 1.0 ====== correct: 28 ---- miscorrect: 36\n",
      "the 2476th day, pred: 1 ---- true: 1.0 ====== correct: 29 ---- miscorrect: 36\n",
      "the 2477th day, pred: 1 ---- true: 1.0 ====== correct: 30 ---- miscorrect: 36\n",
      "the 2478th day, pred: 0 ---- true: 1.0 ====== correct: 30 ---- miscorrect: 37\n",
      "the 2479th day, pred: 0 ---- true: 0.0 ====== correct: 31 ---- miscorrect: 37\n",
      "the 2480th day, pred: 0 ---- true: 1.0 ====== correct: 31 ---- miscorrect: 38\n",
      "the 2481th day, pred: 1 ---- true: 1.0 ====== correct: 32 ---- miscorrect: 38\n",
      "the 2482th day, pred: 1 ---- true: 1.0 ====== correct: 33 ---- miscorrect: 38\n",
      "the 2483th day, pred: 0 ---- true: 1.0 ====== correct: 33 ---- miscorrect: 39\n",
      "the 2484th day, pred: 1 ---- true: 0.0 ====== correct: 33 ---- miscorrect: 40\n",
      "the 2485th day, pred: 1 ---- true: 1.0 ====== correct: 34 ---- miscorrect: 40\n",
      "the 2486th day, pred: 1 ---- true: 1.0 ====== correct: 35 ---- miscorrect: 40\n",
      "the 2487th day, pred: 1 ---- true: 1.0 ====== correct: 36 ---- miscorrect: 40\n",
      "the 2488th day, pred: 1 ---- true: 0.0 ====== correct: 36 ---- miscorrect: 41\n",
      "the 2489th day, pred: 0 ---- true: 1.0 ====== correct: 36 ---- miscorrect: 42\n",
      "the 2490th day, pred: 1 ---- true: 0.0 ====== correct: 36 ---- miscorrect: 43\n",
      "the 2491th day, pred: 1 ---- true: 0.0 ====== correct: 36 ---- miscorrect: 44\n",
      "the 2492th day, pred: 0 ---- true: 1.0 ====== correct: 36 ---- miscorrect: 45\n",
      "the 2493th day, pred: 1 ---- true: 1.0 ====== correct: 37 ---- miscorrect: 45\n",
      "the 2494th day, pred: 1 ---- true: 0.0 ====== correct: 37 ---- miscorrect: 46\n",
      "the 2495th day, pred: 1 ---- true: 1.0 ====== correct: 38 ---- miscorrect: 46\n",
      "the 2496th day, pred: 1 ---- true: 0.0 ====== correct: 38 ---- miscorrect: 47\n",
      "the 2497th day, pred: 0 ---- true: 0.0 ====== correct: 39 ---- miscorrect: 47\n",
      "the 2498th day, pred: 1 ---- true: 0.0 ====== correct: 39 ---- miscorrect: 48\n",
      "the 2499th day, pred: 0 ---- true: 1.0 ====== correct: 39 ---- miscorrect: 49\n",
      "the 2500th day, pred: 1 ---- true: 0.0 ====== correct: 39 ---- miscorrect: 50\n",
      "the 2501th day, pred: 0 ---- true: 0.0 ====== correct: 40 ---- miscorrect: 50\n",
      "the 2502th day, pred: 1 ---- true: 0.0 ====== correct: 40 ---- miscorrect: 51\n",
      "the 2503th day, pred: 1 ---- true: 1.0 ====== correct: 41 ---- miscorrect: 51\n",
      "the 2504th day, pred: 0 ---- true: 1.0 ====== correct: 41 ---- miscorrect: 52\n",
      "the 2505th day, pred: 0 ---- true: 1.0 ====== correct: 41 ---- miscorrect: 53\n",
      "the 2506th day, pred: 0 ---- true: 1.0 ====== correct: 41 ---- miscorrect: 54\n",
      "the 2507th day, pred: 0 ---- true: 1.0 ====== correct: 41 ---- miscorrect: 55\n",
      "the 2508th day, pred: 0 ---- true: 0.0 ====== correct: 42 ---- miscorrect: 55\n",
      "the 2509th day, pred: 1 ---- true: 1.0 ====== correct: 43 ---- miscorrect: 55\n",
      "the 2510th day, pred: 1 ---- true: 1.0 ====== correct: 44 ---- miscorrect: 55\n",
      "the 2511th day, pred: 0 ---- true: 0.0 ====== correct: 45 ---- miscorrect: 55\n",
      "the 2512th day, pred: 1 ---- true: 0.0 ====== correct: 45 ---- miscorrect: 56\n",
      "the 2513th day, pred: 0 ---- true: 0.0 ====== correct: 46 ---- miscorrect: 56\n",
      "the 2514th day, pred: 0 ---- true: 0.0 ====== correct: 47 ---- miscorrect: 56\n",
      "the 2515th day, pred: 1 ---- true: 0.0 ====== correct: 47 ---- miscorrect: 57\n",
      "the 2516th day, pred: 1 ---- true: 1.0 ====== correct: 48 ---- miscorrect: 57\n",
      "the 2517th day, pred: 1 ---- true: 1.0 ====== correct: 49 ---- miscorrect: 57\n",
      "the 2518th day, pred: 1 ---- true: 0.0 ====== correct: 49 ---- miscorrect: 58\n",
      "the 2519th day, pred: 1 ---- true: 0.0 ====== correct: 49 ---- miscorrect: 59\n",
      "the 2520th day, pred: 0 ---- true: 0.0 ====== correct: 50 ---- miscorrect: 59\n",
      "the 2521th day, pred: 0 ---- true: 0.0 ====== correct: 51 ---- miscorrect: 59\n",
      "the 2522th day, pred: 0 ---- true: 0.0 ====== correct: 52 ---- miscorrect: 59\n",
      "the 2523th day, pred: 0 ---- true: 1.0 ====== correct: 52 ---- miscorrect: 60\n",
      "the 2524th day, pred: 0 ---- true: 1.0 ====== correct: 52 ---- miscorrect: 61\n",
      "the 2525th day, pred: 0 ---- true: 1.0 ====== correct: 52 ---- miscorrect: 62\n",
      "the 2526th day, pred: 0 ---- true: 1.0 ====== correct: 52 ---- miscorrect: 63\n",
      "the 2527th day, pred: 1 ---- true: 0.0 ====== correct: 52 ---- miscorrect: 64\n",
      "the 2528th day, pred: 0 ---- true: 1.0 ====== correct: 52 ---- miscorrect: 65\n",
      "the 2529th day, pred: 0 ---- true: 0.0 ====== correct: 53 ---- miscorrect: 65\n",
      "the 2530th day, pred: 1 ---- true: 0.0 ====== correct: 53 ---- miscorrect: 66\n",
      "the 2531th day, pred: 1 ---- true: 1.0 ====== correct: 54 ---- miscorrect: 66\n",
      "the 2532th day, pred: 0 ---- true: 0.0 ====== correct: 55 ---- miscorrect: 66\n",
      "the 2533th day, pred: 0 ---- true: 1.0 ====== correct: 55 ---- miscorrect: 67\n",
      "the 2534th day, pred: 1 ---- true: 1.0 ====== correct: 56 ---- miscorrect: 67\n",
      "the 2535th day, pred: 1 ---- true: 0.0 ====== correct: 56 ---- miscorrect: 68\n",
      "the 2536th day, pred: 1 ---- true: 1.0 ====== correct: 57 ---- miscorrect: 68\n",
      "the 2537th day, pred: 1 ---- true: 0.0 ====== correct: 57 ---- miscorrect: 69\n",
      "the 2538th day, pred: 1 ---- true: 0.0 ====== correct: 57 ---- miscorrect: 70\n",
      "the 2539th day, pred: 0 ---- true: 1.0 ====== correct: 57 ---- miscorrect: 71\n",
      "the 2540th day, pred: 1 ---- true: 0.0 ====== correct: 57 ---- miscorrect: 72\n",
      "the 2541th day, pred: 1 ---- true: 1.0 ====== correct: 58 ---- miscorrect: 72\n",
      "the 2542th day, pred: 1 ---- true: 1.0 ====== correct: 59 ---- miscorrect: 72\n",
      "the 2543th day, pred: 1 ---- true: 1.0 ====== correct: 60 ---- miscorrect: 72\n",
      "the 2544th day, pred: 0 ---- true: 0.0 ====== correct: 61 ---- miscorrect: 72\n",
      "the 2545th day, pred: 1 ---- true: 0.0 ====== correct: 61 ---- miscorrect: 73\n",
      "the 2546th day, pred: 1 ---- true: 1.0 ====== correct: 62 ---- miscorrect: 73\n",
      "the 2547th day, pred: 0 ---- true: 0.0 ====== correct: 63 ---- miscorrect: 73\n",
      "the 2548th day, pred: 0 ---- true: 1.0 ====== correct: 63 ---- miscorrect: 74\n",
      "the 2549th day, pred: 0 ---- true: 0.0 ====== correct: 64 ---- miscorrect: 74\n",
      "the 2550th day, pred: 0 ---- true: 0.0 ====== correct: 65 ---- miscorrect: 74\n",
      "the 2551th day, pred: 0 ---- true: 0.0 ====== correct: 66 ---- miscorrect: 74\n",
      "the 2552th day, pred: 0 ---- true: 1.0 ====== correct: 66 ---- miscorrect: 75\n",
      "the 2553th day, pred: 0 ---- true: 0.0 ====== correct: 67 ---- miscorrect: 75\n",
      "the 2554th day, pred: 0 ---- true: 0.0 ====== correct: 68 ---- miscorrect: 75\n",
      "the 2555th day, pred: 0 ---- true: 1.0 ====== correct: 68 ---- miscorrect: 76\n",
      "the 2556th day, pred: 0 ---- true: 0.0 ====== correct: 69 ---- miscorrect: 76\n",
      "the 2557th day, pred: 0 ---- true: 1.0 ====== correct: 69 ---- miscorrect: 77\n",
      "the 2558th day, pred: 1 ---- true: 0.0 ====== correct: 69 ---- miscorrect: 78\n",
      "the 2559th day, pred: 1 ---- true: 0.0 ====== correct: 69 ---- miscorrect: 79\n",
      "the 2560th day, pred: 1 ---- true: 1.0 ====== correct: 70 ---- miscorrect: 79\n",
      "the 2561th day, pred: 0 ---- true: 0.0 ====== correct: 71 ---- miscorrect: 79\n",
      "the 2562th day, pred: 0 ---- true: 1.0 ====== correct: 71 ---- miscorrect: 80\n",
      "the 2563th day, pred: 1 ---- true: 0.0 ====== correct: 71 ---- miscorrect: 81\n",
      "the 2564th day, pred: 1 ---- true: 1.0 ====== correct: 72 ---- miscorrect: 81\n",
      "the 2565th day, pred: 1 ---- true: 0.0 ====== correct: 72 ---- miscorrect: 82\n",
      "the 2566th day, pred: 1 ---- true: 1.0 ====== correct: 73 ---- miscorrect: 82\n",
      "the 2567th day, pred: 1 ---- true: 0.0 ====== correct: 73 ---- miscorrect: 83\n",
      "the 2568th day, pred: 0 ---- true: 0.0 ====== correct: 74 ---- miscorrect: 83\n",
      "the 2569th day, pred: 0 ---- true: 0.0 ====== correct: 75 ---- miscorrect: 83\n",
      "the 2570th day, pred: 0 ---- true: 0.0 ====== correct: 76 ---- miscorrect: 83\n",
      "the 2571th day, pred: 1 ---- true: 1.0 ====== correct: 77 ---- miscorrect: 83\n",
      "the 2572th day, pred: 1 ---- true: 1.0 ====== correct: 78 ---- miscorrect: 83\n",
      "the 2573th day, pred: 0 ---- true: 0.0 ====== correct: 79 ---- miscorrect: 83\n",
      "the 2574th day, pred: 0 ---- true: 0.0 ====== correct: 80 ---- miscorrect: 83\n",
      "the 2575th day, pred: 0 ---- true: 1.0 ====== correct: 80 ---- miscorrect: 84\n",
      "the 2576th day, pred: 0 ---- true: 1.0 ====== correct: 80 ---- miscorrect: 85\n",
      "the 2577th day, pred: 0 ---- true: 0.0 ====== correct: 81 ---- miscorrect: 85\n",
      "the 2578th day, pred: 0 ---- true: 1.0 ====== correct: 81 ---- miscorrect: 86\n",
      "the 2579th day, pred: 1 ---- true: 1.0 ====== correct: 82 ---- miscorrect: 86\n",
      "the 2580th day, pred: 1 ---- true: 1.0 ====== correct: 83 ---- miscorrect: 86\n",
      "the 2581th day, pred: 1 ---- true: 0.0 ====== correct: 83 ---- miscorrect: 87\n",
      "the 2582th day, pred: 1 ---- true: 1.0 ====== correct: 84 ---- miscorrect: 87\n",
      "the 2583th day, pred: 1 ---- true: 1.0 ====== correct: 85 ---- miscorrect: 87\n",
      "the 2584th day, pred: 0 ---- true: 0.0 ====== correct: 86 ---- miscorrect: 87\n",
      "the 2585th day, pred: 1 ---- true: 0.0 ====== correct: 86 ---- miscorrect: 88\n",
      "the 2586th day, pred: 0 ---- true: 1.0 ====== correct: 86 ---- miscorrect: 89\n",
      "the 2587th day, pred: 1 ---- true: 0.0 ====== correct: 86 ---- miscorrect: 90\n",
      "the 2588th day, pred: 1 ---- true: 1.0 ====== correct: 87 ---- miscorrect: 90\n",
      "the 2589th day, pred: 0 ---- true: 1.0 ====== correct: 87 ---- miscorrect: 91\n",
      "the 2590th day, pred: 1 ---- true: 1.0 ====== correct: 88 ---- miscorrect: 91\n",
      "the 2591th day, pred: 0 ---- true: 0.0 ====== correct: 89 ---- miscorrect: 91\n",
      "the 2592th day, pred: 0 ---- true: 1.0 ====== correct: 89 ---- miscorrect: 92\n",
      "the 2593th day, pred: 1 ---- true: 0.0 ====== correct: 89 ---- miscorrect: 93\n",
      "the 2594th day, pred: 0 ---- true: 0.0 ====== correct: 90 ---- miscorrect: 93\n",
      "the 2595th day, pred: 0 ---- true: 1.0 ====== correct: 90 ---- miscorrect: 94\n",
      "the 2596th day, pred: 0 ---- true: 1.0 ====== correct: 90 ---- miscorrect: 95\n",
      "the 2597th day, pred: 0 ---- true: 0.0 ====== correct: 91 ---- miscorrect: 95\n",
      "the 2598th day, pred: 1 ---- true: 0.0 ====== correct: 91 ---- miscorrect: 96\n",
      "the 2599th day, pred: 0 ---- true: 1.0 ====== correct: 91 ---- miscorrect: 97\n",
      "the 2600th day, pred: 1 ---- true: 1.0 ====== correct: 92 ---- miscorrect: 97\n",
      "the 2601th day, pred: 0 ---- true: 0.0 ====== correct: 93 ---- miscorrect: 97\n",
      "the 2602th day, pred: 0 ---- true: 0.0 ====== correct: 94 ---- miscorrect: 97\n",
      "the 2603th day, pred: 1 ---- true: 0.0 ====== correct: 94 ---- miscorrect: 98\n",
      "the 2604th day, pred: 1 ---- true: 1.0 ====== correct: 95 ---- miscorrect: 98\n",
      "the 2605th day, pred: 0 ---- true: 1.0 ====== correct: 95 ---- miscorrect: 99\n",
      "the 2606th day, pred: 0 ---- true: 1.0 ====== correct: 95 ---- miscorrect: 100\n",
      "the 2607th day, pred: 0 ---- true: 0.0 ====== correct: 96 ---- miscorrect: 100\n",
      "the 2608th day, pred: 0 ---- true: 0.0 ====== correct: 97 ---- miscorrect: 100\n",
      "the 2609th day, pred: 0 ---- true: 1.0 ====== correct: 97 ---- miscorrect: 101\n",
      "the 2610th day, pred: 0 ---- true: 0.0 ====== correct: 98 ---- miscorrect: 101\n",
      "the 2611th day, pred: 1 ---- true: 0.0 ====== correct: 98 ---- miscorrect: 102\n",
      "the 2612th day, pred: 0 ---- true: 1.0 ====== correct: 98 ---- miscorrect: 103\n",
      "the 2613th day, pred: 0 ---- true: 0.0 ====== correct: 99 ---- miscorrect: 103\n",
      "the 2614th day, pred: 1 ---- true: 0.0 ====== correct: 99 ---- miscorrect: 104\n",
      "the 2615th day, pred: 1 ---- true: 1.0 ====== correct: 100 ---- miscorrect: 104\n",
      "the 2616th day, pred: 0 ---- true: 0.0 ====== correct: 101 ---- miscorrect: 104\n",
      "the 2617th day, pred: 0 ---- true: 1.0 ====== correct: 101 ---- miscorrect: 105\n",
      "the 2618th day, pred: 0 ---- true: 0.0 ====== correct: 102 ---- miscorrect: 105\n",
      "the 2619th day, pred: 1 ---- true: 0.0 ====== correct: 102 ---- miscorrect: 106\n",
      "the 2620th day, pred: 1 ---- true: 0.0 ====== correct: 102 ---- miscorrect: 107\n"
     ]
    },
    {
     "name": "stdout",
     "output_type": "stream",
     "text": [
      "the 2621th day, pred: 0 ---- true: 1.0 ====== correct: 102 ---- miscorrect: 108\n",
      "the 2622th day, pred: 1 ---- true: 1.0 ====== correct: 103 ---- miscorrect: 108\n",
      "the 2623th day, pred: 0 ---- true: 1.0 ====== correct: 103 ---- miscorrect: 109\n",
      "the 2624th day, pred: 0 ---- true: 0.0 ====== correct: 104 ---- miscorrect: 109\n",
      "the 2625th day, pred: 1 ---- true: 0.0 ====== correct: 104 ---- miscorrect: 110\n",
      "the 2626th day, pred: 1 ---- true: 1.0 ====== correct: 105 ---- miscorrect: 110\n",
      "the 2627th day, pred: 1 ---- true: 1.0 ====== correct: 106 ---- miscorrect: 110\n",
      "the 2628th day, pred: 1 ---- true: 1.0 ====== correct: 107 ---- miscorrect: 110\n",
      "the 2629th day, pred: 1 ---- true: 0.0 ====== correct: 107 ---- miscorrect: 111\n",
      "the 2630th day, pred: 0 ---- true: 1.0 ====== correct: 107 ---- miscorrect: 112\n",
      "the 2631th day, pred: 0 ---- true: 1.0 ====== correct: 107 ---- miscorrect: 113\n",
      "the 2632th day, pred: 0 ---- true: 0.0 ====== correct: 108 ---- miscorrect: 113\n",
      "the 2633th day, pred: 0 ---- true: 0.0 ====== correct: 109 ---- miscorrect: 113\n",
      "the 2634th day, pred: 1 ---- true: 0.0 ====== correct: 109 ---- miscorrect: 114\n",
      "the 2635th day, pred: 0 ---- true: 0.0 ====== correct: 110 ---- miscorrect: 114\n",
      "the 2636th day, pred: 0 ---- true: 1.0 ====== correct: 110 ---- miscorrect: 115\n",
      "the 2637th day, pred: 1 ---- true: 1.0 ====== correct: 111 ---- miscorrect: 115\n",
      "the 2638th day, pred: 0 ---- true: 0.0 ====== correct: 112 ---- miscorrect: 115\n",
      "the 2639th day, pred: 0 ---- true: 0.0 ====== correct: 113 ---- miscorrect: 115\n",
      "the 2640th day, pred: 0 ---- true: 1.0 ====== correct: 113 ---- miscorrect: 116\n",
      "the 2641th day, pred: 1 ---- true: 0.0 ====== correct: 113 ---- miscorrect: 117\n",
      "the 2642th day, pred: 1 ---- true: 1.0 ====== correct: 114 ---- miscorrect: 117\n",
      "the 2643th day, pred: 0 ---- true: 1.0 ====== correct: 114 ---- miscorrect: 118\n",
      "the 2644th day, pred: 0 ---- true: 1.0 ====== correct: 114 ---- miscorrect: 119\n",
      "the 2645th day, pred: 0 ---- true: 1.0 ====== correct: 114 ---- miscorrect: 120\n",
      "the 2646th day, pred: 0 ---- true: 0.0 ====== correct: 115 ---- miscorrect: 120\n",
      "the 2647th day, pred: 1 ---- true: 1.0 ====== correct: 116 ---- miscorrect: 120\n",
      "the 2648th day, pred: 0 ---- true: 1.0 ====== correct: 116 ---- miscorrect: 121\n",
      "the 2649th day, pred: 1 ---- true: 1.0 ====== correct: 117 ---- miscorrect: 121\n",
      "the 2650th day, pred: 1 ---- true: 0.0 ====== correct: 117 ---- miscorrect: 122\n",
      "the 2651th day, pred: 1 ---- true: 0.0 ====== correct: 117 ---- miscorrect: 123\n",
      "the 2652th day, pred: 1 ---- true: 0.0 ====== correct: 117 ---- miscorrect: 124\n",
      "the 2653th day, pred: 0 ---- true: 0.0 ====== correct: 118 ---- miscorrect: 124\n",
      "the 2654th day, pred: 1 ---- true: 0.0 ====== correct: 118 ---- miscorrect: 125\n",
      "the 2655th day, pred: 0 ---- true: 1.0 ====== correct: 118 ---- miscorrect: 126\n",
      "the 2656th day, pred: 1 ---- true: 1.0 ====== correct: 119 ---- miscorrect: 126\n",
      "the 2657th day, pred: 1 ---- true: 1.0 ====== correct: 120 ---- miscorrect: 126\n",
      "the 2658th day, pred: 0 ---- true: 0.0 ====== correct: 121 ---- miscorrect: 126\n",
      "the 2659th day, pred: 1 ---- true: 0.0 ====== correct: 121 ---- miscorrect: 127\n",
      "the 2660th day, pred: 0 ---- true: 0.0 ====== correct: 122 ---- miscorrect: 127\n",
      "the 2661th day, pred: 1 ---- true: 1.0 ====== correct: 123 ---- miscorrect: 127\n",
      "the 2662th day, pred: 1 ---- true: 0.0 ====== correct: 123 ---- miscorrect: 128\n",
      "the 2663th day, pred: 0 ---- true: 0.0 ====== correct: 124 ---- miscorrect: 128\n",
      "the 2664th day, pred: 1 ---- true: 1.0 ====== correct: 125 ---- miscorrect: 128\n",
      "the 2665th day, pred: 1 ---- true: 0.0 ====== correct: 125 ---- miscorrect: 129\n",
      "the 2666th day, pred: 0 ---- true: 1.0 ====== correct: 125 ---- miscorrect: 130\n",
      "the 2667th day, pred: 0 ---- true: 0.0 ====== correct: 126 ---- miscorrect: 130\n",
      "the 2668th day, pred: 1 ---- true: 1.0 ====== correct: 127 ---- miscorrect: 130\n",
      "the 2669th day, pred: 1 ---- true: 1.0 ====== correct: 128 ---- miscorrect: 130\n",
      "the 2670th day, pred: 1 ---- true: 0.0 ====== correct: 128 ---- miscorrect: 131\n",
      "the 2671th day, pred: 0 ---- true: 0.0 ====== correct: 129 ---- miscorrect: 131\n",
      "the 2672th day, pred: 1 ---- true: 0.0 ====== correct: 129 ---- miscorrect: 132\n",
      "the 2673th day, pred: 1 ---- true: 0.0 ====== correct: 129 ---- miscorrect: 133\n",
      "the 2674th day, pred: 0 ---- true: 0.0 ====== correct: 130 ---- miscorrect: 133\n",
      "the 2675th day, pred: 0 ---- true: 0.0 ====== correct: 131 ---- miscorrect: 133\n",
      "the 2676th day, pred: 0 ---- true: 1.0 ====== correct: 131 ---- miscorrect: 134\n",
      "the 2677th day, pred: 1 ---- true: 1.0 ====== correct: 132 ---- miscorrect: 134\n",
      "the 2678th day, pred: 1 ---- true: 1.0 ====== correct: 133 ---- miscorrect: 134\n",
      "the 2679th day, pred: 1 ---- true: 0.0 ====== correct: 133 ---- miscorrect: 135\n",
      "the 2680th day, pred: 0 ---- true: 0.0 ====== correct: 134 ---- miscorrect: 135\n",
      "the 2681th day, pred: 0 ---- true: 1.0 ====== correct: 134 ---- miscorrect: 136\n",
      "the 2682th day, pred: 0 ---- true: 1.0 ====== correct: 134 ---- miscorrect: 137\n",
      "the 2683th day, pred: 1 ---- true: 0.0 ====== correct: 134 ---- miscorrect: 138\n",
      "the 2684th day, pred: 0 ---- true: 1.0 ====== correct: 134 ---- miscorrect: 139\n",
      "the 2685th day, pred: 0 ---- true: 0.0 ====== correct: 135 ---- miscorrect: 139\n",
      "the 2686th day, pred: 1 ---- true: 1.0 ====== correct: 136 ---- miscorrect: 139\n",
      "the 2687th day, pred: 1 ---- true: 1.0 ====== correct: 137 ---- miscorrect: 139\n",
      "the 2688th day, pred: 1 ---- true: 0.0 ====== correct: 137 ---- miscorrect: 140\n",
      "the 2689th day, pred: 1 ---- true: 1.0 ====== correct: 138 ---- miscorrect: 140\n",
      "the 2690th day, pred: 1 ---- true: 1.0 ====== correct: 139 ---- miscorrect: 140\n",
      "the 2691th day, pred: 0 ---- true: 0.0 ====== correct: 140 ---- miscorrect: 140\n",
      "the 2692th day, pred: 0 ---- true: 0.0 ====== correct: 141 ---- miscorrect: 140\n",
      "the 2693th day, pred: 0 ---- true: 1.0 ====== correct: 141 ---- miscorrect: 141\n",
      "the 2694th day, pred: 1 ---- true: 0.0 ====== correct: 141 ---- miscorrect: 142\n",
      "the 2695th day, pred: 1 ---- true: 0.0 ====== correct: 141 ---- miscorrect: 143\n",
      "the 2696th day, pred: 0 ---- true: 0.0 ====== correct: 142 ---- miscorrect: 143\n",
      "the 2697th day, pred: 1 ---- true: 0.0 ====== correct: 142 ---- miscorrect: 144\n",
      "the 2698th day, pred: 1 ---- true: 0.0 ====== correct: 142 ---- miscorrect: 145\n",
      "the 2699th day, pred: 1 ---- true: 1.0 ====== correct: 143 ---- miscorrect: 145\n",
      "the 2700th day, pred: 1 ---- true: 1.0 ====== correct: 144 ---- miscorrect: 145\n",
      "the 2701th day, pred: 0 ---- true: 1.0 ====== correct: 144 ---- miscorrect: 146\n",
      "the 2702th day, pred: 1 ---- true: 1.0 ====== correct: 145 ---- miscorrect: 146\n",
      "the 2703th day, pred: 1 ---- true: 1.0 ====== correct: 146 ---- miscorrect: 146\n",
      "the 2704th day, pred: 1 ---- true: 0.0 ====== correct: 146 ---- miscorrect: 147\n",
      "the 2705th day, pred: 1 ---- true: 1.0 ====== correct: 147 ---- miscorrect: 147\n",
      "the 2706th day, pred: 1 ---- true: 1.0 ====== correct: 148 ---- miscorrect: 147\n",
      "the 2707th day, pred: 0 ---- true: 1.0 ====== correct: 148 ---- miscorrect: 148\n",
      "the 2708th day, pred: 0 ---- true: 1.0 ====== correct: 148 ---- miscorrect: 149\n",
      "the 2709th day, pred: 1 ---- true: 0.0 ====== correct: 148 ---- miscorrect: 150\n",
      "the 2710th day, pred: 1 ---- true: 0.0 ====== correct: 148 ---- miscorrect: 151\n",
      "the 2711th day, pred: 1 ---- true: 1.0 ====== correct: 149 ---- miscorrect: 151\n",
      "the 2712th day, pred: 0 ---- true: 1.0 ====== correct: 149 ---- miscorrect: 152\n",
      "the 2713th day, pred: 0 ---- true: 1.0 ====== correct: 149 ---- miscorrect: 153\n",
      "the 2714th day, pred: 1 ---- true: 0.0 ====== correct: 149 ---- miscorrect: 154\n",
      "the 2715th day, pred: 0 ---- true: 0.0 ====== correct: 150 ---- miscorrect: 154\n",
      "the 2716th day, pred: 1 ---- true: 1.0 ====== correct: 151 ---- miscorrect: 154\n",
      "the 2717th day, pred: 0 ---- true: 1.0 ====== correct: 151 ---- miscorrect: 155\n",
      "the 2718th day, pred: 0 ---- true: 0.0 ====== correct: 152 ---- miscorrect: 155\n",
      "the 2719th day, pred: 1 ---- true: 0.0 ====== correct: 152 ---- miscorrect: 156\n",
      "the 2720th day, pred: 0 ---- true: 1.0 ====== correct: 152 ---- miscorrect: 157\n",
      "the 2721th day, pred: 1 ---- true: 0.0 ====== correct: 152 ---- miscorrect: 158\n",
      "the 2722th day, pred: 0 ---- true: 0.0 ====== correct: 153 ---- miscorrect: 158\n",
      "the 2723th day, pred: 0 ---- true: 1.0 ====== correct: 153 ---- miscorrect: 159\n",
      "the 2724th day, pred: 0 ---- true: 1.0 ====== correct: 153 ---- miscorrect: 160\n",
      "the 2725th day, pred: 1 ---- true: 0.0 ====== correct: 153 ---- miscorrect: 161\n",
      "the 2726th day, pred: 0 ---- true: 0.0 ====== correct: 154 ---- miscorrect: 161\n",
      "the 2727th day, pred: 1 ---- true: 0.0 ====== correct: 154 ---- miscorrect: 162\n",
      "the 2728th day, pred: 1 ---- true: 0.0 ====== correct: 154 ---- miscorrect: 163\n",
      "the 2729th day, pred: 1 ---- true: 1.0 ====== correct: 155 ---- miscorrect: 163\n",
      "the 2730th day, pred: 0 ---- true: 0.0 ====== correct: 156 ---- miscorrect: 163\n",
      "the 2731th day, pred: 1 ---- true: 0.0 ====== correct: 156 ---- miscorrect: 164\n",
      "the 2732th day, pred: 0 ---- true: 0.0 ====== correct: 157 ---- miscorrect: 164\n",
      "the 2733th day, pred: 1 ---- true: 1.0 ====== correct: 158 ---- miscorrect: 164\n",
      "the 2734th day, pred: 1 ---- true: 0.0 ====== correct: 158 ---- miscorrect: 165\n",
      "the 2735th day, pred: 0 ---- true: 1.0 ====== correct: 158 ---- miscorrect: 166\n",
      "the 2736th day, pred: 0 ---- true: 0.0 ====== correct: 159 ---- miscorrect: 166\n",
      "the 2737th day, pred: 1 ---- true: 1.0 ====== correct: 160 ---- miscorrect: 166\n",
      "the 2738th day, pred: 1 ---- true: 0.0 ====== correct: 160 ---- miscorrect: 167\n",
      "the 2739th day, pred: 0 ---- true: 1.0 ====== correct: 160 ---- miscorrect: 168\n",
      "the 2740th day, pred: 0 ---- true: 0.0 ====== correct: 161 ---- miscorrect: 168\n",
      "the 2741th day, pred: 0 ---- true: 1.0 ====== correct: 161 ---- miscorrect: 169\n",
      "the 2742th day, pred: 1 ---- true: 0.0 ====== correct: 161 ---- miscorrect: 170\n",
      "the 2743th day, pred: 0 ---- true: 1.0 ====== correct: 161 ---- miscorrect: 171\n",
      "the 2744th day, pred: 0 ---- true: 0.0 ====== correct: 162 ---- miscorrect: 171\n",
      "the 2745th day, pred: 0 ---- true: 0.0 ====== correct: 163 ---- miscorrect: 171\n",
      "the 2746th day, pred: 0 ---- true: 1.0 ====== correct: 163 ---- miscorrect: 172\n",
      "the 2747th day, pred: 0 ---- true: 0.0 ====== correct: 164 ---- miscorrect: 172\n",
      "the 2748th day, pred: 0 ---- true: 0.0 ====== correct: 165 ---- miscorrect: 172\n",
      "the 2749th day, pred: 0 ---- true: 0.0 ====== correct: 166 ---- miscorrect: 172\n",
      "the 2750th day, pred: 1 ---- true: 1.0 ====== correct: 167 ---- miscorrect: 172\n",
      "the 2751th day, pred: 0 ---- true: 0.0 ====== correct: 168 ---- miscorrect: 172\n",
      "the 2752th day, pred: 1 ---- true: 1.0 ====== correct: 169 ---- miscorrect: 172\n",
      "the 2753th day, pred: 0 ---- true: 1.0 ====== correct: 169 ---- miscorrect: 173\n",
      "the 2754th day, pred: 1 ---- true: 1.0 ====== correct: 170 ---- miscorrect: 173\n",
      "the 2755th day, pred: 1 ---- true: 0.0 ====== correct: 170 ---- miscorrect: 174\n",
      "the 2756th day, pred: 1 ---- true: 0.0 ====== correct: 170 ---- miscorrect: 175\n",
      "the 2757th day, pred: 0 ---- true: 1.0 ====== correct: 170 ---- miscorrect: 176\n",
      "the 2758th day, pred: 1 ---- true: 1.0 ====== correct: 171 ---- miscorrect: 176\n",
      "the 2759th day, pred: 1 ---- true: 1.0 ====== correct: 172 ---- miscorrect: 176\n",
      "the 2760th day, pred: 1 ---- true: 0.0 ====== correct: 172 ---- miscorrect: 177\n",
      "the 2761th day, pred: 0 ---- true: 0.0 ====== correct: 173 ---- miscorrect: 177\n",
      "the 2762th day, pred: 1 ---- true: 1.0 ====== correct: 174 ---- miscorrect: 177\n",
      "the 2763th day, pred: 0 ---- true: 0.0 ====== correct: 175 ---- miscorrect: 177\n",
      "the 2764th day, pred: 1 ---- true: 0.0 ====== correct: 175 ---- miscorrect: 178\n",
      "the 2765th day, pred: 1 ---- true: 0.0 ====== correct: 175 ---- miscorrect: 179\n",
      "the 2766th day, pred: 1 ---- true: 1.0 ====== correct: 176 ---- miscorrect: 179\n",
      "the 2767th day, pred: 0 ---- true: 0.0 ====== correct: 177 ---- miscorrect: 179\n",
      "the 2768th day, pred: 1 ---- true: 0.0 ====== correct: 177 ---- miscorrect: 180\n",
      "the 2769th day, pred: 0 ---- true: 0.0 ====== correct: 178 ---- miscorrect: 180\n",
      "the 2770th day, pred: 0 ---- true: 1.0 ====== correct: 178 ---- miscorrect: 181\n",
      "the 2771th day, pred: 0 ---- true: 1.0 ====== correct: 178 ---- miscorrect: 182\n",
      "the 2772th day, pred: 0 ---- true: 0.0 ====== correct: 179 ---- miscorrect: 182\n",
      "the 2773th day, pred: 0 ---- true: 1.0 ====== correct: 179 ---- miscorrect: 183\n",
      "the 2774th day, pred: 1 ---- true: 0.0 ====== correct: 179 ---- miscorrect: 184\n",
      "the 2775th day, pred: 1 ---- true: 1.0 ====== correct: 180 ---- miscorrect: 184\n",
      "the 2776th day, pred: 1 ---- true: 0.0 ====== correct: 180 ---- miscorrect: 185\n",
      "the 2777th day, pred: 1 ---- true: 1.0 ====== correct: 181 ---- miscorrect: 185\n",
      "the 2778th day, pred: 1 ---- true: 1.0 ====== correct: 182 ---- miscorrect: 185\n",
      "the 2779th day, pred: 0 ---- true: 0.0 ====== correct: 183 ---- miscorrect: 185\n",
      "the 2780th day, pred: 0 ---- true: 1.0 ====== correct: 183 ---- miscorrect: 186\n",
      "the 2781th day, pred: 0 ---- true: 0.0 ====== correct: 184 ---- miscorrect: 186\n",
      "the 2782th day, pred: 0 ---- true: 1.0 ====== correct: 184 ---- miscorrect: 187\n",
      "the 2783th day, pred: 1 ---- true: 1.0 ====== correct: 185 ---- miscorrect: 187\n",
      "the 2784th day, pred: 0 ---- true: 0.0 ====== correct: 186 ---- miscorrect: 187\n",
      "the 2785th day, pred: 0 ---- true: 0.0 ====== correct: 187 ---- miscorrect: 187\n",
      "the 2786th day, pred: 1 ---- true: 1.0 ====== correct: 188 ---- miscorrect: 187\n",
      "the 2787th day, pred: 0 ---- true: 1.0 ====== correct: 188 ---- miscorrect: 188\n",
      "the 2788th day, pred: 1 ---- true: 0.0 ====== correct: 188 ---- miscorrect: 189\n",
      "the 2789th day, pred: 1 ---- true: 0.0 ====== correct: 188 ---- miscorrect: 190\n",
      "the 2790th day, pred: 1 ---- true: 0.0 ====== correct: 188 ---- miscorrect: 191\n",
      "the 2791th day, pred: 1 ---- true: 0.0 ====== correct: 188 ---- miscorrect: 192\n",
      "the 2792th day, pred: 1 ---- true: 0.0 ====== correct: 188 ---- miscorrect: 193\n",
      "the 2793th day, pred: 1 ---- true: 1.0 ====== correct: 189 ---- miscorrect: 193\n",
      "the 2794th day, pred: 0 ---- true: 1.0 ====== correct: 189 ---- miscorrect: 194\n",
      "the 2795th day, pred: 0 ---- true: 1.0 ====== correct: 189 ---- miscorrect: 195\n",
      "the 2796th day, pred: 0 ---- true: 0.0 ====== correct: 190 ---- miscorrect: 195\n",
      "the 2797th day, pred: 0 ---- true: 0.0 ====== correct: 191 ---- miscorrect: 195\n",
      "the 2798th day, pred: 0 ---- true: 1.0 ====== correct: 191 ---- miscorrect: 196\n",
      "the 2799th day, pred: 0 ---- true: 0.0 ====== correct: 192 ---- miscorrect: 196\n",
      "the 2800th day, pred: 0 ---- true: 1.0 ====== correct: 192 ---- miscorrect: 197\n",
      "the 2801th day, pred: 0 ---- true: 1.0 ====== correct: 192 ---- miscorrect: 198\n",
      "the 2802th day, pred: 0 ---- true: 0.0 ====== correct: 193 ---- miscorrect: 198\n",
      "the 2803th day, pred: 1 ---- true: 0.0 ====== correct: 193 ---- miscorrect: 199\n",
      "the 2804th day, pred: 1 ---- true: 1.0 ====== correct: 194 ---- miscorrect: 199\n",
      "the 2805th day, pred: 0 ---- true: 1.0 ====== correct: 194 ---- miscorrect: 200\n",
      "the 2806th day, pred: 0 ---- true: 1.0 ====== correct: 194 ---- miscorrect: 201\n",
      "the 2807th day, pred: 0 ---- true: 1.0 ====== correct: 194 ---- miscorrect: 202\n",
      "the 2808th day, pred: 1 ---- true: 1.0 ====== correct: 195 ---- miscorrect: 202\n",
      "the 2809th day, pred: 1 ---- true: 0.0 ====== correct: 195 ---- miscorrect: 203\n",
      "the 2810th day, pred: 1 ---- true: 1.0 ====== correct: 196 ---- miscorrect: 203\n",
      "the 2811th day, pred: 1 ---- true: 1.0 ====== correct: 197 ---- miscorrect: 203\n",
      "the 2812th day, pred: 1 ---- true: 1.0 ====== correct: 198 ---- miscorrect: 203\n",
      "the 2813th day, pred: 0 ---- true: 0.0 ====== correct: 199 ---- miscorrect: 203\n",
      "the 2814th day, pred: 1 ---- true: 0.0 ====== correct: 199 ---- miscorrect: 204\n",
      "the 2815th day, pred: 0 ---- true: 1.0 ====== correct: 199 ---- miscorrect: 205\n",
      "the 2816th day, pred: 0 ---- true: 1.0 ====== correct: 199 ---- miscorrect: 206\n",
      "the 2817th day, pred: 0 ---- true: 1.0 ====== correct: 199 ---- miscorrect: 207\n",
      "the 2818th day, pred: 1 ---- true: 1.0 ====== correct: 200 ---- miscorrect: 207\n",
      "the 2819th day, pred: 1 ---- true: 0.0 ====== correct: 200 ---- miscorrect: 208\n",
      "the 2820th day, pred: 0 ---- true: 0.0 ====== correct: 201 ---- miscorrect: 208\n",
      "the 2821th day, pred: 0 ---- true: 0.0 ====== correct: 202 ---- miscorrect: 208\n",
      "the 2822th day, pred: 1 ---- true: 1.0 ====== correct: 203 ---- miscorrect: 208\n",
      "the 2823th day, pred: 1 ---- true: 1.0 ====== correct: 204 ---- miscorrect: 208\n",
      "the 2824th day, pred: 0 ---- true: 1.0 ====== correct: 204 ---- miscorrect: 209\n"
     ]
    },
    {
     "name": "stdout",
     "output_type": "stream",
     "text": [
      "the 2825th day, pred: 1 ---- true: 0.0 ====== correct: 204 ---- miscorrect: 210\n",
      "the 2826th day, pred: 0 ---- true: 1.0 ====== correct: 204 ---- miscorrect: 211\n",
      "the 2827th day, pred: 1 ---- true: 0.0 ====== correct: 204 ---- miscorrect: 212\n",
      "the 2828th day, pred: 0 ---- true: 0.0 ====== correct: 205 ---- miscorrect: 212\n",
      "the 2829th day, pred: 0 ---- true: 1.0 ====== correct: 205 ---- miscorrect: 213\n",
      "the 2830th day, pred: 0 ---- true: 0.0 ====== correct: 206 ---- miscorrect: 213\n",
      "the 2831th day, pred: 1 ---- true: 1.0 ====== correct: 207 ---- miscorrect: 213\n",
      "the 2832th day, pred: 0 ---- true: 0.0 ====== correct: 208 ---- miscorrect: 213\n",
      "the 2833th day, pred: 0 ---- true: 1.0 ====== correct: 208 ---- miscorrect: 214\n",
      "the 2834th day, pred: 0 ---- true: 1.0 ====== correct: 208 ---- miscorrect: 215\n",
      "the 2835th day, pred: 1 ---- true: 1.0 ====== correct: 209 ---- miscorrect: 215\n",
      "the 2836th day, pred: 0 ---- true: 0.0 ====== correct: 210 ---- miscorrect: 215\n",
      "the 2837th day, pred: 0 ---- true: 1.0 ====== correct: 210 ---- miscorrect: 216\n",
      "the 2838th day, pred: 1 ---- true: 1.0 ====== correct: 211 ---- miscorrect: 216\n",
      "the 2839th day, pred: 1 ---- true: 1.0 ====== correct: 212 ---- miscorrect: 216\n",
      "the 2840th day, pred: 1 ---- true: 0.0 ====== correct: 212 ---- miscorrect: 217\n",
      "the 2841th day, pred: 1 ---- true: 1.0 ====== correct: 213 ---- miscorrect: 217\n",
      "the 2842th day, pred: 0 ---- true: 0.0 ====== correct: 214 ---- miscorrect: 217\n",
      "the 2843th day, pred: 0 ---- true: 1.0 ====== correct: 214 ---- miscorrect: 218\n",
      "the 2844th day, pred: 1 ---- true: 1.0 ====== correct: 215 ---- miscorrect: 218\n",
      "the 2845th day, pred: 1 ---- true: 0.0 ====== correct: 215 ---- miscorrect: 219\n",
      "the 2846th day, pred: 0 ---- true: 0.0 ====== correct: 216 ---- miscorrect: 219\n",
      "the 2847th day, pred: 0 ---- true: 1.0 ====== correct: 216 ---- miscorrect: 220\n",
      "the 2848th day, pred: 1 ---- true: 0.0 ====== correct: 216 ---- miscorrect: 221\n",
      "the 2849th day, pred: 1 ---- true: 0.0 ====== correct: 216 ---- miscorrect: 222\n",
      "the 2850th day, pred: 0 ---- true: 0.0 ====== correct: 217 ---- miscorrect: 222\n",
      "the 2851th day, pred: 1 ---- true: 1.0 ====== correct: 218 ---- miscorrect: 222\n",
      "the 2852th day, pred: 0 ---- true: 1.0 ====== correct: 218 ---- miscorrect: 223\n",
      "the 2853th day, pred: 0 ---- true: 1.0 ====== correct: 218 ---- miscorrect: 224\n",
      "the 2854th day, pred: 1 ---- true: 0.0 ====== correct: 218 ---- miscorrect: 225\n",
      "the 2855th day, pred: 0 ---- true: 0.0 ====== correct: 219 ---- miscorrect: 225\n",
      "the 2856th day, pred: 0 ---- true: 0.0 ====== correct: 220 ---- miscorrect: 225\n",
      "the 2857th day, pred: 1 ---- true: 1.0 ====== correct: 221 ---- miscorrect: 225\n",
      "the 2858th day, pred: 1 ---- true: 0.0 ====== correct: 221 ---- miscorrect: 226\n",
      "the 2859th day, pred: 1 ---- true: 1.0 ====== correct: 222 ---- miscorrect: 226\n",
      "the 2860th day, pred: 1 ---- true: 0.0 ====== correct: 222 ---- miscorrect: 227\n",
      "the 2861th day, pred: 1 ---- true: 1.0 ====== correct: 223 ---- miscorrect: 227\n",
      "the 2862th day, pred: 0 ---- true: 0.0 ====== correct: 224 ---- miscorrect: 227\n",
      "the 2863th day, pred: 1 ---- true: 1.0 ====== correct: 225 ---- miscorrect: 227\n",
      "the 2864th day, pred: 0 ---- true: 1.0 ====== correct: 225 ---- miscorrect: 228\n",
      "the 2865th day, pred: 1 ---- true: 0.0 ====== correct: 225 ---- miscorrect: 229\n",
      "the 2866th day, pred: 1 ---- true: 1.0 ====== correct: 226 ---- miscorrect: 229\n",
      "the 2867th day, pred: 0 ---- true: 0.0 ====== correct: 227 ---- miscorrect: 229\n",
      "the 2868th day, pred: 0 ---- true: 1.0 ====== correct: 227 ---- miscorrect: 230\n",
      "the 2869th day, pred: 0 ---- true: 1.0 ====== correct: 227 ---- miscorrect: 231\n",
      "the 2870th day, pred: 1 ---- true: 0.0 ====== correct: 227 ---- miscorrect: 232\n",
      "the 2871th day, pred: 1 ---- true: 1.0 ====== correct: 228 ---- miscorrect: 232\n",
      "the 2872th day, pred: 1 ---- true: 1.0 ====== correct: 229 ---- miscorrect: 232\n",
      "the 2873th day, pred: 0 ---- true: 1.0 ====== correct: 229 ---- miscorrect: 233\n",
      "the 2874th day, pred: 0 ---- true: 0.0 ====== correct: 230 ---- miscorrect: 233\n",
      "the 2875th day, pred: 1 ---- true: 0.0 ====== correct: 230 ---- miscorrect: 234\n",
      "the 2876th day, pred: 0 ---- true: 0.0 ====== correct: 231 ---- miscorrect: 234\n",
      "the 2877th day, pred: 0 ---- true: 0.0 ====== correct: 232 ---- miscorrect: 234\n",
      "the 2878th day, pred: 0 ---- true: 0.0 ====== correct: 233 ---- miscorrect: 234\n",
      "the 2879th day, pred: 0 ---- true: 1.0 ====== correct: 233 ---- miscorrect: 235\n",
      "the 2880th day, pred: 1 ---- true: 0.0 ====== correct: 233 ---- miscorrect: 236\n",
      "the 2881th day, pred: 0 ---- true: 1.0 ====== correct: 233 ---- miscorrect: 237\n",
      "the 2882th day, pred: 0 ---- true: 1.0 ====== correct: 233 ---- miscorrect: 238\n",
      "the 2883th day, pred: 1 ---- true: 0.0 ====== correct: 233 ---- miscorrect: 239\n",
      "the 2884th day, pred: 0 ---- true: 1.0 ====== correct: 233 ---- miscorrect: 240\n",
      "the 2885th day, pred: 1 ---- true: 0.0 ====== correct: 233 ---- miscorrect: 241\n",
      "the 2886th day, pred: 1 ---- true: 0.0 ====== correct: 233 ---- miscorrect: 242\n",
      "the 2887th day, pred: 1 ---- true: 1.0 ====== correct: 234 ---- miscorrect: 242\n",
      "the 2888th day, pred: 1 ---- true: 1.0 ====== correct: 235 ---- miscorrect: 242\n",
      "the 2889th day, pred: 1 ---- true: 1.0 ====== correct: 236 ---- miscorrect: 242\n",
      "the 2890th day, pred: 1 ---- true: 1.0 ====== correct: 237 ---- miscorrect: 242\n",
      "the 2891th day, pred: 0 ---- true: 0.0 ====== correct: 238 ---- miscorrect: 242\n",
      "the 2892th day, pred: 0 ---- true: 1.0 ====== correct: 238 ---- miscorrect: 243\n",
      "the 2893th day, pred: 0 ---- true: 0.0 ====== correct: 239 ---- miscorrect: 243\n",
      "the 2894th day, pred: 1 ---- true: 1.0 ====== correct: 240 ---- miscorrect: 243\n",
      "the 2895th day, pred: 0 ---- true: 1.0 ====== correct: 240 ---- miscorrect: 244\n",
      "the 2896th day, pred: 0 ---- true: 1.0 ====== correct: 240 ---- miscorrect: 245\n",
      "the 2897th day, pred: 0 ---- true: 1.0 ====== correct: 240 ---- miscorrect: 246\n",
      "the 2898th day, pred: 1 ---- true: 1.0 ====== correct: 241 ---- miscorrect: 246\n",
      "the 2899th day, pred: 1 ---- true: 0.0 ====== correct: 241 ---- miscorrect: 247\n",
      "the 2900th day, pred: 1 ---- true: 1.0 ====== correct: 242 ---- miscorrect: 247\n",
      "the 2901th day, pred: 0 ---- true: 0.0 ====== correct: 243 ---- miscorrect: 247\n",
      "the 2902th day, pred: 0 ---- true: 1.0 ====== correct: 243 ---- miscorrect: 248\n",
      "the 2903th day, pred: 1 ---- true: 0.0 ====== correct: 243 ---- miscorrect: 249\n",
      "the 2904th day, pred: 0 ---- true: 1.0 ====== correct: 243 ---- miscorrect: 250\n",
      "the 2905th day, pred: 0 ---- true: 0.0 ====== correct: 244 ---- miscorrect: 250\n",
      "the 2906th day, pred: 0 ---- true: 1.0 ====== correct: 244 ---- miscorrect: 251\n",
      "the 2907th day, pred: 0 ---- true: 0.0 ====== correct: 245 ---- miscorrect: 251\n",
      "the 2908th day, pred: 0 ---- true: 1.0 ====== correct: 245 ---- miscorrect: 252\n",
      "the 2909th day, pred: 1 ---- true: 1.0 ====== correct: 246 ---- miscorrect: 252\n",
      "the 2910th day, pred: 1 ---- true: 0.0 ====== correct: 246 ---- miscorrect: 253\n",
      "the 2911th day, pred: 1 ---- true: 0.0 ====== correct: 246 ---- miscorrect: 254\n",
      "the 2912th day, pred: 1 ---- true: 1.0 ====== correct: 247 ---- miscorrect: 254\n",
      "the 2913th day, pred: 0 ---- true: 1.0 ====== correct: 247 ---- miscorrect: 255\n",
      "the 2914th day, pred: 0 ---- true: 1.0 ====== correct: 247 ---- miscorrect: 256\n",
      "the 2915th day, pred: 0 ---- true: 0.0 ====== correct: 248 ---- miscorrect: 256\n",
      "the 2916th day, pred: 1 ---- true: 1.0 ====== correct: 249 ---- miscorrect: 256\n"
     ]
    },
    {
     "ename": "RuntimeError",
     "evalue": "cannot reshape tensor of 0 elements into shape [0, -1, 100, 3] because the unspecified dimension size -1 can be any value and is ambiguous",
     "output_type": "error",
     "traceback": [
      "\u001b[1;31m---------------------------------------------------------------------------\u001b[0m",
      "\u001b[1;31mRuntimeError\u001b[0m                              Traceback (most recent call last)",
      "\u001b[1;32m<ipython-input-34-961fc9352ee2>\u001b[0m in \u001b[0;36m<module>\u001b[1;34m()\u001b[0m\n\u001b[0;32m     13\u001b[0m     \u001b[0mtemp\u001b[0m\u001b[1;33m.\u001b[0m\u001b[0msepera_time_step\u001b[0m\u001b[1;33m(\u001b[0m\u001b[1;33m)\u001b[0m\u001b[1;33m\u001b[0m\u001b[1;33m\u001b[0m\u001b[0m\n\u001b[0;32m     14\u001b[0m     \u001b[0mtemp\u001b[0m\u001b[1;33m.\u001b[0m\u001b[0mtest_train_split\u001b[0m\u001b[1;33m(\u001b[0m\u001b[1;33m)\u001b[0m\u001b[1;33m\u001b[0m\u001b[1;33m\u001b[0m\u001b[0m\n\u001b[1;32m---> 15\u001b[1;33m     \u001b[0mtrainloader\u001b[0m\u001b[1;33m,\u001b[0m \u001b[0mvalidateData\u001b[0m \u001b[1;33m=\u001b[0m \u001b[0mtemp\u001b[0m\u001b[1;33m.\u001b[0m\u001b[0mbuild_dataloader\u001b[0m\u001b[1;33m(\u001b[0m\u001b[1;33m)\u001b[0m\u001b[1;33m\u001b[0m\u001b[1;33m\u001b[0m\u001b[0m\n\u001b[0m\u001b[0;32m     16\u001b[0m \u001b[1;33m\u001b[0m\u001b[0m\n\u001b[0;32m     17\u001b[0m     \u001b[0mmodel\u001b[0m \u001b[1;33m=\u001b[0m \u001b[0mBaselineModel\u001b[0m\u001b[1;33m(\u001b[0m\u001b[1;36m300\u001b[0m\u001b[1;33m,\u001b[0m \u001b[1;36m500\u001b[0m\u001b[1;33m,\u001b[0m \u001b[1;36m1\u001b[0m\u001b[1;33m)\u001b[0m\u001b[1;33m\u001b[0m\u001b[1;33m\u001b[0m\u001b[0m\n",
      "\u001b[1;32mE:\\git\\MSc-dissertation\\train_test_split.py\u001b[0m in \u001b[0;36mbuild_dataloader\u001b[1;34m(self)\u001b[0m\n\u001b[0;32m    115\u001b[0m         \u001b[0mtrainData\u001b[0m \u001b[1;33m=\u001b[0m \u001b[0mtrainData\u001b[0m\u001b[1;33m.\u001b[0m\u001b[0mview\u001b[0m\u001b[1;33m(\u001b[0m\u001b[0mlens\u001b[0m\u001b[1;33m,\u001b[0m\u001b[1;33m-\u001b[0m\u001b[1;36m1\u001b[0m\u001b[1;33m,\u001b[0m\u001b[0mtime_steps\u001b[0m\u001b[1;33m,\u001b[0m\u001b[1;36m3\u001b[0m\u001b[1;33m)\u001b[0m\u001b[1;33m\u001b[0m\u001b[1;33m\u001b[0m\u001b[0m\n\u001b[0;32m    116\u001b[0m         \u001b[0mtestData\u001b[0m \u001b[1;33m=\u001b[0m \u001b[0mtestData\u001b[0m\u001b[1;33m.\u001b[0m\u001b[0mview\u001b[0m\u001b[1;33m(\u001b[0m\u001b[0mlens\u001b[0m\u001b[1;33m,\u001b[0m\u001b[1;33m-\u001b[0m\u001b[1;36m1\u001b[0m\u001b[1;33m)\u001b[0m\u001b[1;33m\u001b[0m\u001b[1;33m\u001b[0m\u001b[0m\n\u001b[1;32m--> 117\u001b[1;33m         \u001b[0mvalidateData\u001b[0m \u001b[1;33m=\u001b[0m \u001b[0mvalidateData\u001b[0m\u001b[1;33m.\u001b[0m\u001b[0mview\u001b[0m\u001b[1;33m(\u001b[0m\u001b[0mvalidateData\u001b[0m\u001b[1;33m.\u001b[0m\u001b[0mshape\u001b[0m\u001b[1;33m[\u001b[0m\u001b[1;36m0\u001b[0m\u001b[1;33m]\u001b[0m\u001b[1;33m,\u001b[0m\u001b[1;33m-\u001b[0m\u001b[1;36m1\u001b[0m\u001b[1;33m,\u001b[0m\u001b[0mtime_steps\u001b[0m\u001b[1;33m,\u001b[0m\u001b[1;36m3\u001b[0m\u001b[1;33m)\u001b[0m\u001b[1;33m\u001b[0m\u001b[1;33m\u001b[0m\u001b[0m\n\u001b[0m\u001b[0;32m    118\u001b[0m         \u001b[1;31m# print(trainData.shape,testData.shape,validateData.shape)\u001b[0m\u001b[1;33m\u001b[0m\u001b[1;33m\u001b[0m\u001b[1;33m\u001b[0m\u001b[0m\n\u001b[0;32m    119\u001b[0m \u001b[1;33m\u001b[0m\u001b[0m\n",
      "\u001b[1;31mRuntimeError\u001b[0m: cannot reshape tensor of 0 elements into shape [0, -1, 100, 3] because the unspecified dimension size -1 can be any value and is ambiguous"
     ]
    }
   ],
   "source": [
    "from train_test_split import utility_fun\n",
    "\n",
    "#classification problem  we use bce loss\n",
    "loss_function = nn.BCELoss()\n",
    "optimiser = optim.SGD(model.parameters(),lr = 0.01)\n",
    "device = \"cuda:0\" if torch.cuda.is_available() else \"cpu\"\n",
    "cor = 0\n",
    "mis = 0\n",
    "for i in range(2412, 3012):\n",
    "    temp = utility_fun([X, y], len_of_trainset = i, time_interval = 100)\n",
    "\n",
    "    temp.norm()\n",
    "    temp.sepera_time_step()\n",
    "    temp.test_train_split()\n",
    "    trainloader, validateData = temp.build_dataloader()\n",
    "\n",
    "    model = BaselineModel(300, 500, 1)\n",
    "     \n",
    "    trial = Trial(model, optimiser, loss_function, metrics=['loss', 'accuracy'], verbose = False).to(device)\n",
    "    trial.with_generators(trainloader)\n",
    "    trial.run(epochs=1)\n",
    "    \n",
    "    y_pred= model(validateData.view(validateData.shape[0],-1)[0].to(device).float())\n",
    "    if y_pred.data > 0.5:\n",
    "        a = 1\n",
    "    else:\n",
    "        a = 0\n",
    "    if a == y[i]:\n",
    "        cor += 1\n",
    "    else:\n",
    "        mis += 1\n",
    "        \n",
    "    print(\"the {}th day, pred: {} ---- true: {} ====== correct: {} ---- miscorrect: {}\".format(i, a, y[i],cor,mis))\n",
    "    \n",
    "#     print(y_pred.value())\n",
    "    \n",
    "    "
   ]
  },
  {
   "cell_type": "markdown",
   "metadata": {},
   "source": [
    "## Adding noise condition"
   ]
  },
  {
   "cell_type": "code",
   "execution_count": 1,
   "metadata": {},
   "outputs": [
    {
     "ename": "NameError",
     "evalue": "name 'X' is not defined",
     "output_type": "error",
     "traceback": [
      "\u001b[1;31m---------------------------------------------------------------------------\u001b[0m",
      "\u001b[1;31mNameError\u001b[0m                                 Traceback (most recent call last)",
      "\u001b[1;32m<ipython-input-1-b5fec669aca1>\u001b[0m in \u001b[0;36m<module>\u001b[1;34m\u001b[0m\n\u001b[1;32m----> 1\u001b[1;33m \u001b[0mX\u001b[0m\u001b[1;33m\u001b[0m\u001b[1;33m\u001b[0m\u001b[0m\n\u001b[0m",
      "\u001b[1;31mNameError\u001b[0m: name 'X' is not defined"
     ]
    }
   ],
   "source": []
  },
  {
   "cell_type": "markdown",
   "metadata": {},
   "source": [
    "# generate gradient -- need change here"
   ]
  },
  {
   "cell_type": "code",
   "execution_count": null,
   "metadata": {
    "scrolled": true
   },
   "outputs": [],
   "source": [
    "class gradient_generator():\n",
    "    \n",
    "    def __init__(self, model):\n",
    "        self.model = model.to('cpu')\n",
    "        self.gradients = None\n",
    "        # Put model in evaluation mode\n",
    "        self.model.eval()\n",
    "        # Hook the first layer to get the gradient\n",
    "        self.hook = self.hook_layers()\n",
    "    def hook_layers(self):    \n",
    "        def hook_function(module, grad_in, grad_out):\n",
    "#             print(\"hook called\")\n",
    "#             print(grad_out[0])\n",
    "            self.gradients = grad_out[0]\n",
    "        first_layer = list(self.model._modules.items())[0][1]\n",
    "        hook = first_layer.register_forward_hook(hook_function)\n",
    "        return hook\n",
    "    def generate_gradient(self, inputs):\n",
    "        self.model.zero_grad()\n",
    "        _ = model(inputs)\n",
    "        self.hook.remove()\n",
    "        return self.gradients\n",
    "    \n",
    "\n",
    "grad = torch.zeros((2412,9))\n",
    "i = 0\n",
    "for data in trainloader:\n",
    "    # get the inputs\n",
    "    inputs, labels = data\n",
    "    \n",
    "    GG = gradient_generator(model)\n",
    "    temp = GG.generate_gradient(inputs)\n",
    "    grad[i,:] = temp\n",
    "    i += 1\n",
    "\n",
    "grad"
   ]
  },
  {
   "cell_type": "code",
   "execution_count": null,
   "metadata": {
    "scrolled": true
   },
   "outputs": [],
   "source": []
  }
 ],
 "metadata": {
  "kernelspec": {
   "display_name": "Python 3",
   "language": "python",
   "name": "python3"
  },
  "language_info": {
   "codemirror_mode": {
    "name": "ipython",
    "version": 3
   },
   "file_extension": ".py",
   "mimetype": "text/x-python",
   "name": "python",
   "nbconvert_exporter": "python",
   "pygments_lexer": "ipython3",
   "version": "3.7.3"
  }
 },
 "nbformat": 4,
 "nbformat_minor": 2
}
