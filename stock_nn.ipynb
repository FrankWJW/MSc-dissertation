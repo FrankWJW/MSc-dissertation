{
 "cells": [
  {
   "cell_type": "code",
   "execution_count": 6,
   "metadata": {},
   "outputs": [],
   "source": [
    "import numpy as np\n",
    "import pandas as pd\n",
    "from sklearn.neural_network import MLPRegressor as mlp\n",
    "from keras.layers import Dense, Dropout, Activation\n",
    "from keras.models import Sequential\n",
    "import matplotlib.pyplot as plt\n",
    "%matplotlib inline"
   ]
  },
  {
   "cell_type": "code",
   "execution_count": 7,
   "metadata": {},
   "outputs": [],
   "source": [
    "## Data preparation"
   ]
  },
  {
   "cell_type": "code",
   "execution_count": 8,
   "metadata": {},
   "outputs": [
    {
     "data": {
      "text/html": [
       "<div>\n",
       "<style scoped>\n",
       "    .dataframe tbody tr th:only-of-type {\n",
       "        vertical-align: middle;\n",
       "    }\n",
       "\n",
       "    .dataframe tbody tr th {\n",
       "        vertical-align: top;\n",
       "    }\n",
       "\n",
       "    .dataframe thead th {\n",
       "        text-align: right;\n",
       "    }\n",
       "</style>\n",
       "<table border=\"1\" class=\"dataframe\">\n",
       "  <thead>\n",
       "    <tr style=\"text-align: right;\">\n",
       "      <th></th>\n",
       "      <th>Date</th>\n",
       "      <th>Open</th>\n",
       "      <th>High</th>\n",
       "      <th>Low</th>\n",
       "      <th>Close</th>\n",
       "      <th>Adj Close</th>\n",
       "      <th>Volume</th>\n",
       "    </tr>\n",
       "  </thead>\n",
       "  <tbody>\n",
       "    <tr>\n",
       "      <th>4279</th>\n",
       "      <td>2017-01-05</td>\n",
       "      <td>19924.560547</td>\n",
       "      <td>19948.599609</td>\n",
       "      <td>19811.119141</td>\n",
       "      <td>19899.289063</td>\n",
       "      <td>19899.289063</td>\n",
       "      <td>269920000</td>\n",
       "    </tr>\n",
       "    <tr>\n",
       "      <th>4280</th>\n",
       "      <td>2017-01-06</td>\n",
       "      <td>19906.960938</td>\n",
       "      <td>19999.630859</td>\n",
       "      <td>19834.080078</td>\n",
       "      <td>19963.800781</td>\n",
       "      <td>19963.800781</td>\n",
       "      <td>277700000</td>\n",
       "    </tr>\n",
       "    <tr>\n",
       "      <th>4281</th>\n",
       "      <td>2017-01-09</td>\n",
       "      <td>19931.410156</td>\n",
       "      <td>19943.779297</td>\n",
       "      <td>19887.380859</td>\n",
       "      <td>19887.380859</td>\n",
       "      <td>19887.380859</td>\n",
       "      <td>287060000</td>\n",
       "    </tr>\n",
       "    <tr>\n",
       "      <th>4282</th>\n",
       "      <td>2017-01-10</td>\n",
       "      <td>19876.349609</td>\n",
       "      <td>19957.119141</td>\n",
       "      <td>19836.029297</td>\n",
       "      <td>19855.529297</td>\n",
       "      <td>19855.529297</td>\n",
       "      <td>299410000</td>\n",
       "    </tr>\n",
       "    <tr>\n",
       "      <th>4283</th>\n",
       "      <td>2017-01-11</td>\n",
       "      <td>19887.380859</td>\n",
       "      <td>19973.419922</td>\n",
       "      <td>19833.160156</td>\n",
       "      <td>19954.279297</td>\n",
       "      <td>19954.279297</td>\n",
       "      <td>336150000</td>\n",
       "    </tr>\n",
       "  </tbody>\n",
       "</table>\n",
       "</div>"
      ],
      "text/plain": [
       "            Date          Open          High           Low         Close  \\\n",
       "4279  2017-01-05  19924.560547  19948.599609  19811.119141  19899.289063   \n",
       "4280  2017-01-06  19906.960938  19999.630859  19834.080078  19963.800781   \n",
       "4281  2017-01-09  19931.410156  19943.779297  19887.380859  19887.380859   \n",
       "4282  2017-01-10  19876.349609  19957.119141  19836.029297  19855.529297   \n",
       "4283  2017-01-11  19887.380859  19973.419922  19833.160156  19954.279297   \n",
       "\n",
       "         Adj Close     Volume  \n",
       "4279  19899.289063  269920000  \n",
       "4280  19963.800781  277700000  \n",
       "4281  19887.380859  287060000  \n",
       "4282  19855.529297  299410000  \n",
       "4283  19954.279297  336150000  "
      ]
     },
     "execution_count": 8,
     "metadata": {},
     "output_type": "execute_result"
    }
   ],
   "source": [
    "data= pd.read_csv('^DJI.csv')\n",
    "data.tail()"
   ]
  },
  {
   "cell_type": "code",
   "execution_count": 9,
   "metadata": {},
   "outputs": [
    {
     "data": {
      "text/html": [
       "<div>\n",
       "<style scoped>\n",
       "    .dataframe tbody tr th:only-of-type {\n",
       "        vertical-align: middle;\n",
       "    }\n",
       "\n",
       "    .dataframe tbody tr th {\n",
       "        vertical-align: top;\n",
       "    }\n",
       "\n",
       "    .dataframe thead th {\n",
       "        text-align: right;\n",
       "    }\n",
       "</style>\n",
       "<table border=\"1\" class=\"dataframe\">\n",
       "  <thead>\n",
       "    <tr style=\"text-align: right;\">\n",
       "      <th></th>\n",
       "      <th>Date</th>\n",
       "      <th>Open</th>\n",
       "      <th>High</th>\n",
       "      <th>Low</th>\n",
       "      <th>Close</th>\n",
       "      <th>Adj Close</th>\n",
       "      <th>Volume</th>\n",
       "    </tr>\n",
       "  </thead>\n",
       "  <tbody>\n",
       "    <tr>\n",
       "      <th>4279</th>\n",
       "      <td>2017-01-05</td>\n",
       "      <td>19924.560547</td>\n",
       "      <td>19948.599609</td>\n",
       "      <td>19811.119141</td>\n",
       "      <td>19899.289063</td>\n",
       "      <td>19899.289063</td>\n",
       "      <td>269920000</td>\n",
       "    </tr>\n",
       "    <tr>\n",
       "      <th>4280</th>\n",
       "      <td>2017-01-06</td>\n",
       "      <td>19906.960938</td>\n",
       "      <td>19999.630859</td>\n",
       "      <td>19834.080078</td>\n",
       "      <td>19963.800781</td>\n",
       "      <td>19963.800781</td>\n",
       "      <td>277700000</td>\n",
       "    </tr>\n",
       "    <tr>\n",
       "      <th>4281</th>\n",
       "      <td>2017-01-09</td>\n",
       "      <td>19931.410156</td>\n",
       "      <td>19943.779297</td>\n",
       "      <td>19887.380859</td>\n",
       "      <td>19887.380859</td>\n",
       "      <td>19887.380859</td>\n",
       "      <td>287060000</td>\n",
       "    </tr>\n",
       "    <tr>\n",
       "      <th>4282</th>\n",
       "      <td>2017-01-10</td>\n",
       "      <td>19876.349609</td>\n",
       "      <td>19957.119141</td>\n",
       "      <td>19836.029297</td>\n",
       "      <td>19855.529297</td>\n",
       "      <td>19855.529297</td>\n",
       "      <td>299410000</td>\n",
       "    </tr>\n",
       "    <tr>\n",
       "      <th>4283</th>\n",
       "      <td>2017-01-11</td>\n",
       "      <td>19887.380859</td>\n",
       "      <td>19973.419922</td>\n",
       "      <td>19833.160156</td>\n",
       "      <td>19954.279297</td>\n",
       "      <td>19954.279297</td>\n",
       "      <td>336150000</td>\n",
       "    </tr>\n",
       "  </tbody>\n",
       "</table>\n",
       "</div>"
      ],
      "text/plain": [
       "            Date          Open          High           Low         Close  \\\n",
       "4279  2017-01-05  19924.560547  19948.599609  19811.119141  19899.289063   \n",
       "4280  2017-01-06  19906.960938  19999.630859  19834.080078  19963.800781   \n",
       "4281  2017-01-09  19931.410156  19943.779297  19887.380859  19887.380859   \n",
       "4282  2017-01-10  19876.349609  19957.119141  19836.029297  19855.529297   \n",
       "4283  2017-01-11  19887.380859  19973.419922  19833.160156  19954.279297   \n",
       "\n",
       "         Adj Close     Volume  \n",
       "4279  19899.289063  269920000  \n",
       "4280  19963.800781  277700000  \n",
       "4281  19887.380859  287060000  \n",
       "4282  19855.529297  299410000  \n",
       "4283  19954.279297  336150000  "
      ]
     },
     "execution_count": 9,
     "metadata": {},
     "output_type": "execute_result"
    }
   ],
   "source": [
    "data= data.dropna(axis=0)\n",
    "data.tail()"
   ]
  },
  {
   "cell_type": "code",
   "execution_count": 10,
   "metadata": {},
   "outputs": [
    {
     "name": "stdout",
     "output_type": "stream",
     "text": [
      "(4284, 4)\n"
     ]
    }
   ],
   "source": [
    "data= data.values[:, 1:5]\n",
    "print (data.shape)"
   ]
  },
  {
   "cell_type": "code",
   "execution_count": 11,
   "metadata": {},
   "outputs": [
    {
     "name": "stdout",
     "output_type": "stream",
     "text": [
      "[[11501.849609 11522.009766 11305.69043 11357.509766]\n",
      " [11349.75 11350.05957 10986.450195 10997.929688]\n",
      " [10989.370117 11215.099609 10938.669922 11122.650391]\n",
      " [11113.370117 11313.450195 11098.450195 11253.259766]\n",
      " [11247.05957 11528.139648 11239.919922 11522.55957]\n",
      " [11532.480469 11638.280273 11532.480469 11572.200195]]\n"
     ]
    }
   ],
   "source": [
    "print (data[:6, :])"
   ]
  },
  {
   "cell_type": "code",
   "execution_count": 12,
   "metadata": {},
   "outputs": [
    {
     "name": "stdout",
     "output_type": "stream",
     "text": [
      "(4283,)\n",
      "(4283, 4)\n"
     ]
    }
   ],
   "source": [
    "y= data[1:, 3]\n",
    "print (y.shape)\n",
    "X= data[:4283,:]\n",
    "print (X.shape)"
   ]
  },
  {
   "cell_type": "code",
   "execution_count": 13,
   "metadata": {},
   "outputs": [],
   "source": [
    "y= (y- min(y))/(max(y)- min(y))"
   ]
  },
  {
   "cell_type": "code",
   "execution_count": 14,
   "metadata": {},
   "outputs": [
    {
     "name": "stdout",
     "output_type": "stream",
     "text": [
      "[0.9958489671060151 0.9969608353545725 0.9977970638423223\n",
      " 0.9895037255460575 0.9884685127944293 0.9842101331451283\n",
      " 0.9930844240922265 0.9975826611512648 0.9943898946924046\n",
      " 0.9991943173236132 0.9935030473634489 0.9911309455181354\n",
      " 0.9984852177269742]\n",
      "[0.3314732377562158 0.34076164281889654 0.3504885987356185\n",
      " 0.3705443360966607 0.37424125426240135 0.36968941651198045\n",
      " 0.3726698167615406]\n"
     ]
    }
   ],
   "source": [
    "print (y[4270:])\n",
    "print (y[:7])"
   ]
  },
  {
   "cell_type": "code",
   "execution_count": 15,
   "metadata": {},
   "outputs": [
    {
     "name": "stdout",
     "output_type": "stream",
     "text": [
      "(4283, 4)\n",
      "[0.35825247597887355 0.3314732377562158 0.34076164281889654\n",
      " 0.3504885987356185 0.3705443360966607 0.37424125426240135\n",
      " 0.36968941651198045]\n"
     ]
    }
   ],
   "source": [
    "X= (X- np.min(X,axis=0))/(np.max(X, axis=0)-np.min(X,axis=0))\n",
    "print (X.shape)\n",
    "print (X[:7, 3])"
   ]
  },
  {
   "cell_type": "code",
   "execution_count": 16,
   "metadata": {},
   "outputs": [
    {
     "name": "stdout",
     "output_type": "stream",
     "text": [
      "(3427, 4) (3427,)\n",
      "(856, 4) (856,)\n"
     ]
    }
   ],
   "source": [
    "split = int(0.8*data.shape[0])\n",
    "X_train = X[:split]\n",
    "X_test = X[split:]\n",
    "\n",
    "y_train = y[:split]\n",
    "y_test = y[split:]\n",
    "\n",
    "print ( X_train.shape, y_train.shape)\n",
    "print (X_test.shape, y_test.shape)"
   ]
  },
  {
   "cell_type": "code",
   "execution_count": 17,
   "metadata": {},
   "outputs": [],
   "source": [
    "## Model fitting and score calculation"
   ]
  },
  {
   "cell_type": "code",
   "execution_count": 18,
   "metadata": {},
   "outputs": [],
   "source": [
    "model= mlp(hidden_layer_sizes=(100, 50), activation='relu', solver='adam', verbose=True)"
   ]
  },
  {
   "cell_type": "code",
   "execution_count": 19,
   "metadata": {},
   "outputs": [
    {
     "name": "stdout",
     "output_type": "stream",
     "text": [
      "Iteration 1, loss = 0.02174838\n",
      "Iteration 2, loss = 0.00410060\n",
      "Iteration 3, loss = 0.00070638\n",
      "Iteration 4, loss = 0.00016844\n",
      "Iteration 5, loss = 0.00009154\n",
      "Iteration 6, loss = 0.00007372\n",
      "Iteration 7, loss = 0.00006827\n",
      "Iteration 8, loss = 0.00006603\n",
      "Iteration 9, loss = 0.00006400\n",
      "Iteration 10, loss = 0.00006348\n",
      "Iteration 11, loss = 0.00006225\n",
      "Iteration 12, loss = 0.00006165\n",
      "Iteration 13, loss = 0.00006092\n",
      "Iteration 14, loss = 0.00006046\n",
      "Iteration 15, loss = 0.00006031\n",
      "Training loss did not improve more than tol=0.000100 for 10 consecutive epochs. Stopping.\n"
     ]
    },
    {
     "data": {
      "text/plain": [
       "MLPRegressor(activation='relu', alpha=0.0001, batch_size='auto', beta_1=0.9,\n",
       "       beta_2=0.999, early_stopping=False, epsilon=1e-08,\n",
       "       hidden_layer_sizes=(100, 50), learning_rate='constant',\n",
       "       learning_rate_init=0.001, max_iter=200, momentum=0.9,\n",
       "       n_iter_no_change=10, nesterovs_momentum=True, power_t=0.5,\n",
       "       random_state=None, shuffle=True, solver='adam', tol=0.0001,\n",
       "       validation_fraction=0.1, verbose=True, warm_start=False)"
      ]
     },
     "execution_count": 19,
     "metadata": {},
     "output_type": "execute_result"
    }
   ],
   "source": [
    "model.fit(X_train, y_train)"
   ]
  },
  {
   "cell_type": "code",
   "execution_count": 20,
   "metadata": {},
   "outputs": [],
   "source": [
    "y_pred= model.predict(X_test)"
   ]
  },
  {
   "cell_type": "code",
   "execution_count": 21,
   "metadata": {},
   "outputs": [
    {
     "name": "stdout",
     "output_type": "stream",
     "text": [
      "0.0016504965131930573\n"
     ]
    }
   ],
   "source": [
    "rmse= (((y_pred - y_test)**2).sum())/y_pred.size\n",
    "print (rmse)"
   ]
  },
  {
   "cell_type": "code",
   "execution_count": 22,
   "metadata": {},
   "outputs": [],
   "source": [
    "## To show how well the trend of y_test has been tracked by y_pred"
   ]
  },
  {
   "cell_type": "code",
   "execution_count": 23,
   "metadata": {},
   "outputs": [
    {
     "data": {
      "image/png": "[encoded data removed]",
      "text/plain": [
       "<Figure size 432x288 with 1 Axes>"
      ]
     },
     "metadata": {
      "needs_background": "light"
     },
     "output_type": "display_data"
    }
   ],
   "source": [
    "plt.plot(y_pred, 'r-')\n",
    "plt.plot(y_test, 'b-')\n",
    "plt.show()"
   ]
  },
  {
   "cell_type": "code",
   "execution_count": 24,
   "metadata": {},
   "outputs": [],
   "source": [
    "## To show how similar y_pred and y_test are"
   ]
  },
  {
   "cell_type": "code",
   "execution_count": 25,
   "metadata": {},
   "outputs": [
    {
     "data": {
      "image/png": "[encoded data removed]",
      "text/plain": [
       "<Figure size 432x288 with 1 Axes>"
      ]
     },
     "metadata": {
      "needs_background": "light"
     },
     "output_type": "display_data"
    }
   ],
   "source": [
    "plt.plot(y_test, y_pred, 'bo')\n",
    "plt.xlabel('y_test')\n",
    "plt.ylabel('y_pred')\n",
    "plt.show()"
   ]
  },
  {
   "cell_type": "code",
   "execution_count": 26,
   "metadata": {},
   "outputs": [
    {
     "data": {
      "text/plain": [
       "0.7213821381625294"
      ]
     },
     "execution_count": 26,
     "metadata": {},
     "output_type": "execute_result"
    }
   ],
   "source": [
    "model.score(X_test, y_test)"
   ]
  },
  {
   "cell_type": "code",
   "execution_count": 27,
   "metadata": {},
   "outputs": [],
   "source": [
    "#The score fluctuates between 75 to 85 based on the number of layers and random initialisation"
   ]
  }
 ],
 "metadata": {
  "kernelspec": {
   "display_name": "Python 3",
   "language": "python",
   "name": "python3"
  },
  "language_info": {
   "codemirror_mode": {
    "name": "ipython",
    "version": 3
   },
   "file_extension": ".py",
   "mimetype": "text/x-python",
   "name": "python",
   "nbconvert_exporter": "python",
   "pygments_lexer": "ipython3",
   "version": "3.7.2"
  }
 },
 "nbformat": 4,
 "nbformat_minor": 2
}
