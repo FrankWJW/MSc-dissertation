{
 "cells": [
  {
   "cell_type": "code",
   "execution_count": 2,
   "metadata": {},
   "outputs": [],
   "source": [
    "%load_ext autoreload\n",
    "%autoreload 2\n",
    "\n",
    "import numpy as np\n",
    "import pandas as pd\n",
    "import torch\n",
    "import torch.nn as nn\n",
    "import torch.nn.functional as F\n",
    "# from keras.layers import Dense, Dropout, Activation, LSTM, Convolution1D, MaxPooling1D, Flatten\n",
    "# from keras.models import Sequential\n",
    "import matplotlib.pyplot as plt\n",
    "\n",
    "%matplotlib inline\n",
    "from torchbearer import Trial\n",
    "import os"
   ]
  },
  {
   "cell_type": "code",
   "execution_count": 3,
   "metadata": {},
   "outputs": [],
   "source": [
    "import torch\n",
    "import torch.nn.functional as F\n",
    "import torchvision.transforms as transforms\n",
    "import torchbearer\n",
    "from torch import nn\n",
    "from torch import optim\n",
    "from torch.utils.data import DataLoader, TensorDataset, Dataset\n",
    "from torchvision.datasets import MNIST\n",
    "from torchbearer import Trial\n",
    "import torchvision.transforms as transforms"
   ]
  },
  {
   "cell_type": "code",
   "execution_count": 4,
   "metadata": {
    "scrolled": false
   },
   "outputs": [
    {
     "name": "stdout",
     "output_type": "stream",
     "text": [
      " 驱动器 D 中的卷是 Data\n",
      " 卷的序列号是 F66F-4A2F\n",
      "\n",
      " D:\\projects\\Stock-Market-Price-Prediction-master 的目录\n",
      "\n",
      "2019/07/27  10:56    <DIR>          .\n",
      "2019/07/27  10:56    <DIR>          ..\n",
      "2019/07/27  10:55    <DIR>          .git\n",
      "2019/07/27  10:54    <DIR>          .ipynb_checkpoints\n",
      "2019/06/22  22:43           363,722 ^DJI.csv\n",
      "2019/06/26  07:18           103,280 ^GSPC.csv\n",
      "2019/07/11  23:40           165,190 ^GSPC_2011_06_01-2019_06_01.csv\n",
      "2019/07/11  20:20    <DIR>          __pycache__\n",
      "2019/07/20  20:26            41,117 1d_conv.weights\n",
      "2019/07/20  15:46           381,476 5_1_CNN-Copy1.ipynb\n",
      "2019/06/24  23:48           335,219 Archive.zip\n",
      "2019/07/20  15:49               658 CBOE yearly 04-18.csv\n",
      "2019/07/22  11:20    <DIR>          data\n",
      "2019/07/20  15:49           189,414 EUR_GBP 05-16.csv\n",
      "2019/07/20  15:49           189,007 EUR_JPY 05-16.csv\n",
      "2019/07/20  15:49           189,396 EUR_USD 05-16.csv\n",
      "2019/07/20  15:49           189,370 GBP_JPY 05-16.csv\n",
      "2019/07/20  15:49           189,425 GBP_USD 05-16.csv\n",
      "2019/07/11  20:19             8,261 misc_functions.py\n",
      "2019/07/10  04:51    <DIR>          MNIST\n",
      "2019/07/20  15:49             1,137 README.md\n",
      "2019/07/24  17:54             5,974 simple MLP.ipynb\n",
      "2019/07/20  15:49           206,054 SP500 05-16.csv\n",
      "2019/07/27  10:56            91,485 stock_conditional_TS.ipynb\n",
      "2019/06/26  21:00           125,642 stock_conv1d.ipynb\n",
      "2019/06/26  20:44           135,759 stock_conv1d-Copy1.ipynb\n",
      "2019/06/23  21:22            70,029 stock_conv1d-out-of-sample.ipynb\n",
      "2019/07/27  10:54           215,264 stock_conv1d-pytorch.ipynb\n",
      "2019/06/26  20:49           161,120 stock_dilatedconv+lstm.ipynb\n",
      "2019/07/20  20:40             9,118 stock_lstm+conv1d.ipynb\n",
      "2019/06/23  01:20            57,626 stock_nn.ipynb\n",
      "2019/06/25  20:35            62,261 stock_rnn_lstm.ipynb\n",
      "2019/07/11  18:37             1,521 vanillabackprop.py\n",
      "2019/06/14  18:42           183,293 Volatility 05-16.csv\n",
      "              27 个文件      3,671,818 字节\n",
      "               7 个目录 33,332,539,392 可用字节\n"
     ]
    }
   ],
   "source": [
    "%ls"
   ]
  },
  {
   "cell_type": "code",
   "execution_count": 5,
   "metadata": {},
   "outputs": [
    {
     "data": {
      "text/plain": [
       "'D:\\\\projects\\\\Stock-Market-Price-Prediction-master\\\\data'"
      ]
     },
     "execution_count": 5,
     "metadata": {},
     "output_type": "execute_result"
    }
   ],
   "source": [
    "datapath = os.path.join(os.getcwd(), 'data')\n",
    "datapath"
   ]
  },
  {
   "cell_type": "code",
   "execution_count": 6,
   "metadata": {},
   "outputs": [
    {
     "name": "stdout",
     "output_type": "stream",
     "text": [
      " 驱动器 D 中的卷是 Data\n",
      " 卷的序列号是 F66F-4A2F\n",
      "\n",
      " D:\\projects\\Stock-Market-Price-Prediction-master\\data 的目录\n",
      "\n",
      "2019/07/22  11:20    <DIR>          .\n",
      "2019/07/22  11:20    <DIR>          ..\n",
      "2019/07/22  11:20           178,424 ^TNX.csv\n",
      "2019/07/14  23:21           190,344 ^VIX.csv\n",
      "2019/06/14  18:01               658 CBOE yearly 04-18.csv\n",
      "2019/06/14  18:51           189,414 EUR_GBP 05-16.csv\n",
      "2019/06/14  18:47           189,007 EUR_JPY 05-16.csv\n",
      "2019/06/14  18:44           189,396 EUR_USD 05-16.csv\n",
      "2019/06/14  18:49           189,370 GBP_JPY 05-16.csv\n",
      "2019/06/14  18:54           189,425 GBP_USD 05-16.csv\n",
      "2019/06/14  18:31           206,054 SP500 05-16.csv\n",
      "               9 个文件      1,522,092 字节\n",
      "               2 个目录 33,332,539,392 可用字节\n"
     ]
    }
   ],
   "source": [
    "%ls data"
   ]
  },
  {
   "cell_type": "code",
   "execution_count": 7,
   "metadata": {
    "scrolled": true
   },
   "outputs": [
    {
     "name": "stdout",
     "output_type": "stream",
     "text": [
      "CBOE yearly 04-18.csv \n",
      "    Change Date     Rate (%)\n",
      "32   13-Dec-17  1.25 - 1.50\n",
      "33   21-Mar-18  1.50 - 1.75\n",
      "34   13-Jun-18  1.75 - 2.00\n",
      "35   26-Sep-18  2.00 - 2.25\n",
      "36   19-Dec-18  2.25 - 2.50\n",
      "EUR_GBP 05-16.csv \n",
      "               Date   Price    Open    High     Low Change %\n",
      "3125  Jan 07, 2005  0.6981  0.7022  0.7049  0.6971   -0.64%\n",
      "3126  Jan 06, 2005  0.7026  0.7041  0.7055  0.7016   -0.24%\n",
      "3127  Jan 05, 2005  0.7043  0.7049  0.7073  0.7021   -0.17%\n",
      "3128  Jan 04, 2005  0.7055  0.7069  0.7076  0.7044   -0.20%\n",
      "3129  Jan 03, 2005  0.7069  0.7058  0.7097  0.7038   -0.01%\n",
      "EUR_JPY 05-16.csv \n",
      "               Date   Price    Open    High     Low Change %\n",
      "3125  Jan 07, 2005  136.80  138.23  138.74  136.44   -1.16%\n",
      "3126  Jan 06, 2005  138.41  138.03  138.69  137.85    0.28%\n",
      "3127  Jan 05, 2005  138.03  138.85  139.02  137.68   -0.58%\n",
      "3128  Jan 04, 2005  138.83  138.34  139.05  137.77    0.38%\n",
      "3129  Jan 03, 2005  138.31  139.07  139.31  138.06   -0.40%\n",
      "EUR_USD 05-16.csv \n",
      "               Date   Price    Open    High     Low Change %\n",
      "3125  Jan 07, 2005  1.3054  1.3171  1.3251  1.3024   -0.89%\n",
      "3126  Jan 06, 2005  1.3171  1.3262  1.3286  1.3156   -0.69%\n",
      "3127  Jan 05, 2005  1.3262  1.3282  1.3305  1.3215   -0.08%\n",
      "3128  Jan 04, 2005  1.3272  1.3466  1.3496  1.3249   -1.42%\n",
      "3129  Jan 03, 2005  1.3463  1.3547  1.3582  1.3386   -0.70%\n",
      "GBP_JPY 05-16.csv \n",
      "               Date   Price    Open    High     Low Change %\n",
      "3125  Jan 07, 2005  195.99  196.83  197.30  195.37   -0.52%\n",
      "3126  Jan 06, 2005  197.01  195.99  197.40  195.78    0.54%\n",
      "3127  Jan 05, 2005  195.96  196.93  197.04  195.53   -0.42%\n",
      "3128  Jan 04, 2005  196.78  195.69  197.08  195.05    0.60%\n",
      "3129  Jan 03, 2005  195.61  197.04  197.18  195.31   -0.45%\n",
      "GBP_USD 05-16.csv \n",
      "               Date   Price    Open    High     Low Change %\n",
      "3125  Jan 07, 2005  1.8699  1.8755  1.8867  1.8648   -0.27%\n",
      "3126  Jan 06, 2005  1.8750  1.8828  1.8857  1.8695   -0.42%\n",
      "3127  Jan 05, 2005  1.8830  1.8838  1.8903  1.8727    0.04%\n",
      "3128  Jan 04, 2005  1.8822  1.9045  1.9085  1.8781   -1.16%\n",
      "3129  Jan 03, 2005  1.9043  1.9199  1.9205  1.8981   -0.75%\n",
      "SP500 05-16.csv \n",
      "             Date        Price         Open         High          Low  \\\n",
      "3016  2016/12/23  2263.790039  2260.250000  2263.790039  2258.840088   \n",
      "3017  2016/12/27  2268.879883  2266.229980  2273.820068  2266.149902   \n",
      "3018  2016/12/28  2249.919922  2270.229980  2271.310059  2249.110107   \n",
      "3019  2016/12/29  2249.260010  2249.500000  2254.510010  2244.560059   \n",
      "3020  2016/12/30  2238.830078  2251.610107  2253.580078  2233.620117   \n",
      "\n",
      "          Volume  \n",
      "3016  2020550000  \n",
      "3017  1987080000  \n",
      "3018  2392360000  \n",
      "3019  2336370000  \n",
      "3020  2670900000  \n",
      "^TNX.csv \n",
      "             Date   Open   High    Low  Close  Adj Close  Volume\n",
      "3016  2016-12-23  2.541  2.545  2.526  2.543      2.543     0.0\n",
      "3017  2016-12-27  2.552  2.576  2.550  2.563      2.563     0.0\n",
      "3018  2016-12-28  2.560  2.563  2.503  2.506      2.506     0.0\n",
      "3019  2016-12-29  2.486  2.497  2.460  2.477      2.477     0.0\n",
      "3020  2016-12-30  2.474  2.483  2.432  2.446      2.446     0.0\n",
      "^VIX.csv \n",
      "             Date   Open   High    Low  Close  Adj Close  Volume\n",
      "3016  2016-12-23  11.38  11.81  11.35  11.44      11.44       0\n",
      "3017  2016-12-27  12.26  12.33  11.84  11.99      11.99       0\n",
      "3018  2016-12-28  11.89  13.04  11.85  12.95      12.95       0\n",
      "3019  2016-12-29  13.15  13.71  12.95  13.37      13.37       0\n",
      "3020  2016-12-30  13.20  14.68  13.05  14.04      14.04       0\n"
     ]
    }
   ],
   "source": [
    "data = []\n",
    "for i, file in enumerate(os.listdir(datapath)):\n",
    "    data.append(pd.read_csv(os.path.join(datapath,file))) \n",
    "for i in range(len(data)):\n",
    "    print(os.listdir(datapath)[i], '\\n', data[i].tail())"
   ]
  },
  {
   "cell_type": "code",
   "execution_count": 8,
   "metadata": {},
   "outputs": [
    {
     "name": "stdout",
     "output_type": "stream",
     "text": [
      "37\n",
      "3130\n",
      "3130\n",
      "3130\n",
      "3130\n",
      "3130\n",
      "3021\n",
      "3021\n",
      "3021\n"
     ]
    }
   ],
   "source": [
    "#TNX: COBE 10 years interest rate\n",
    "#VIX: COBE volitility index\n",
    "for i in range(len(data)):\n",
    "    print(len(data[i]))"
   ]
  },
  {
   "cell_type": "code",
   "execution_count": 9,
   "metadata": {},
   "outputs": [
    {
     "name": "stdout",
     "output_type": "stream",
     "text": [
      "(3021, 4)\n",
      "(3021, 4)\n",
      "(3021, 4)\n"
     ]
    }
   ],
   "source": [
    "# take TNX, VIX and SP500 and prepocessing\n",
    "sp500 = data[-3]\n",
    "tnx = data[-2]\n",
    "vix = data[-1]\n",
    "\n",
    "#take only some columns\n",
    "sp500= sp500.values[:, 1:5]\n",
    "print (sp500.shape)\n",
    "tnx= tnx.values[:, 1:5]\n",
    "print (tnx.shape)\n",
    "vix= vix.values[:, 1:5]\n",
    "print (vix.shape)"
   ]
  },
  {
   "cell_type": "code",
   "execution_count": 10,
   "metadata": {},
   "outputs": [
    {
     "name": "stdout",
     "output_type": "stream",
     "text": [
      "[[1202.079956 1211.920044 1217.800049 1200.319946]\n",
      " [1188.050049 1202.079956 1205.839966 1185.390015]\n",
      " [1183.73999 1188.050049 1192.72998 1183.719971]\n",
      " ...\n",
      " [2249.919922 2270.22998 2271.310059 2249.110107]\n",
      " [2249.26001 2249.5 2254.51001 2244.560059]\n",
      " [2238.830078 2251.610107 2253.580078 2233.6201170000004]]\n"
     ]
    }
   ],
   "source": [
    "print(sp500)"
   ]
  },
  {
   "cell_type": "code",
   "execution_count": 11,
   "metadata": {},
   "outputs": [
    {
     "name": "stdout",
     "output_type": "stream",
     "text": [
      "(3, 3020, 4) (3, 3020)\n"
     ]
    }
   ],
   "source": [
    "# split sample X and target y\n",
    "X = np.zeros((3, 3020, 4))\n",
    "X[0,:,:] = sp500[:3020, :]\n",
    "X[1,:,:] = tnx[:3020, :]\n",
    "X[2,:,:] = vix[:3020, :]\n",
    "\n",
    "y = np.zeros((3,3020))\n",
    "y[0,:] = sp500[1:, 3]\n",
    "y[1,:] = tnx[1:, 3]\n",
    "y[2,:] = vix[1:, 3]\n",
    " \n",
    "print(X.shape, y.shape)"
   ]
  },
  {
   "cell_type": "code",
   "execution_count": 12,
   "metadata": {},
   "outputs": [],
   "source": [
    "# a = int(3020*0.8)\n",
    "# X = np.zeros((3, 3020, 4)) \n",
    "# y = np.zeros((3,3020))\n",
    "# for i, data in enumerate([sp500, tnx, vix]):\n",
    "#     train = data[:a]\n",
    "#     test = data[a:]\n",
    "#     train = (train- np.min(train, axis = 0))/(np.max(train,axis=0)- np.min(train, axis=0))\n",
    "#     test = (test- np.min(test,axis=0))/(np.max(test,axis=0)- np.min(test,axis=0))\n",
    "# #     print(train.shape, test.shape)\n",
    "#     data = np.concatenate((train,test), axis=0)\n",
    "# #     print(i, data.shape)\n",
    "#     X[i,:,:] = data[:3020, :]\n",
    "#     y[i,:] = data[1:, 3]\n",
    "    \n",
    "# print(X.shape, y.shape)"
   ]
  },
  {
   "cell_type": "code",
   "execution_count": 13,
   "metadata": {},
   "outputs": [
    {
     "name": "stdout",
     "output_type": "stream",
     "text": [
      "(3020, 3) (3020,)\n"
     ]
    }
   ],
   "source": [
    "temp1 = X[0, :, 0]\n",
    "temp2 = X[1, :, 3]\n",
    "temp3 = X[2, :, 3]\n",
    "X_temp = np.array([temp1, temp2, temp3]).T\n",
    "X = X_temp\n",
    "\n",
    "y = y[0,:]\n",
    "print(X.shape, y.shape)"
   ]
  },
  {
   "cell_type": "code",
   "execution_count": 14,
   "metadata": {},
   "outputs": [
    {
     "name": "stdout",
     "output_type": "stream",
     "text": [
      "[1202.079956 1188.050049 1183.73999  ... 2268.879883 2249.919922\n",
      " 2249.26001 ] [4.22  4.283 4.277 ... 2.563 2.506 2.477] [14.08 13.98 14.09 ... 11.99 12.95 13.37]\n",
      "[[1202.079956    4.22       14.08    ]\n",
      " [1188.050049    4.283      13.98    ]\n",
      " [1183.73999     4.277      14.09    ]\n",
      " ...\n",
      " [2268.879883    2.563      11.99    ]\n",
      " [2249.919922    2.506      12.95    ]\n",
      " [2249.26001     2.477      13.37    ]] [1185.390015 1183.719971 1183.27002  ... 2249.110107 2244.560059\n",
      " 2233.620117]\n"
     ]
    }
   ],
   "source": [
    "print(temp1, temp2, temp3)\n",
    "print(X, y)"
   ]
  },
  {
   "cell_type": "code",
   "execution_count": 15,
   "metadata": {},
   "outputs": [
    {
     "data": {
      "text/html": [
       "<div>\n",
       "<style scoped>\n",
       "    .dataframe tbody tr th:only-of-type {\n",
       "        vertical-align: middle;\n",
       "    }\n",
       "\n",
       "    .dataframe tbody tr th {\n",
       "        vertical-align: top;\n",
       "    }\n",
       "\n",
       "    .dataframe thead th {\n",
       "        text-align: right;\n",
       "    }\n",
       "</style>\n",
       "<table border=\"1\" class=\"dataframe\">\n",
       "  <thead>\n",
       "    <tr style=\"text-align: right;\">\n",
       "      <th></th>\n",
       "      <th>sp500</th>\n",
       "      <th>tnx</th>\n",
       "      <th>vix</th>\n",
       "      <th>y</th>\n",
       "    </tr>\n",
       "  </thead>\n",
       "  <tbody>\n",
       "    <tr>\n",
       "      <th>3015</th>\n",
       "      <td>2260.959961</td>\n",
       "      <td>2.553</td>\n",
       "      <td>11.43</td>\n",
       "      <td>2258.840088</td>\n",
       "    </tr>\n",
       "    <tr>\n",
       "      <th>3016</th>\n",
       "      <td>2263.790039</td>\n",
       "      <td>2.543</td>\n",
       "      <td>11.44</td>\n",
       "      <td>2266.149902</td>\n",
       "    </tr>\n",
       "    <tr>\n",
       "      <th>3017</th>\n",
       "      <td>2268.879883</td>\n",
       "      <td>2.563</td>\n",
       "      <td>11.99</td>\n",
       "      <td>2249.110107</td>\n",
       "    </tr>\n",
       "    <tr>\n",
       "      <th>3018</th>\n",
       "      <td>2249.919922</td>\n",
       "      <td>2.506</td>\n",
       "      <td>12.95</td>\n",
       "      <td>2244.560059</td>\n",
       "    </tr>\n",
       "    <tr>\n",
       "      <th>3019</th>\n",
       "      <td>2249.260010</td>\n",
       "      <td>2.477</td>\n",
       "      <td>13.37</td>\n",
       "      <td>2233.620117</td>\n",
       "    </tr>\n",
       "  </tbody>\n",
       "</table>\n",
       "</div>"
      ],
      "text/plain": [
       "            sp500    tnx    vix            y\n",
       "3015  2260.959961  2.553  11.43  2258.840088\n",
       "3016  2263.790039  2.543  11.44  2266.149902\n",
       "3017  2268.879883  2.563  11.99  2249.110107\n",
       "3018  2249.919922  2.506  12.95  2244.560059\n",
       "3019  2249.260010  2.477  13.37  2233.620117"
      ]
     },
     "execution_count": 15,
     "metadata": {},
     "output_type": "execute_result"
    }
   ],
   "source": [
    "test_dict = {'sp500': X[:,0], 'tnx':X[:,1], 'vix':X[:,2], 'y':y}\n",
    "test_dict_df = pd.DataFrame(data=test_dict)\n",
    "\n",
    "test_dict_df.tail()"
   ]
  },
  {
   "cell_type": "code",
   "execution_count": 16,
   "metadata": {},
   "outputs": [
    {
     "data": {
      "text/html": [
       "<div>\n",
       "<style scoped>\n",
       "    .dataframe tbody tr th:only-of-type {\n",
       "        vertical-align: middle;\n",
       "    }\n",
       "\n",
       "    .dataframe tbody tr th {\n",
       "        vertical-align: top;\n",
       "    }\n",
       "\n",
       "    .dataframe thead th {\n",
       "        text-align: right;\n",
       "    }\n",
       "</style>\n",
       "<table border=\"1\" class=\"dataframe\">\n",
       "  <thead>\n",
       "    <tr style=\"text-align: right;\">\n",
       "      <th></th>\n",
       "      <th>sp500</th>\n",
       "      <th>tnx</th>\n",
       "      <th>vix</th>\n",
       "      <th>y</th>\n",
       "    </tr>\n",
       "  </thead>\n",
       "  <tbody>\n",
       "    <tr>\n",
       "      <th>3015</th>\n",
       "      <td>2260.959961</td>\n",
       "      <td>2.553</td>\n",
       "      <td>11.43</td>\n",
       "      <td>2258.840088</td>\n",
       "    </tr>\n",
       "    <tr>\n",
       "      <th>3016</th>\n",
       "      <td>2263.790039</td>\n",
       "      <td>2.543</td>\n",
       "      <td>11.44</td>\n",
       "      <td>2266.149902</td>\n",
       "    </tr>\n",
       "    <tr>\n",
       "      <th>3017</th>\n",
       "      <td>2268.879883</td>\n",
       "      <td>2.563</td>\n",
       "      <td>11.99</td>\n",
       "      <td>2249.110107</td>\n",
       "    </tr>\n",
       "    <tr>\n",
       "      <th>3018</th>\n",
       "      <td>2249.919922</td>\n",
       "      <td>2.506</td>\n",
       "      <td>12.95</td>\n",
       "      <td>2244.560059</td>\n",
       "    </tr>\n",
       "    <tr>\n",
       "      <th>3019</th>\n",
       "      <td>2249.260010</td>\n",
       "      <td>2.477</td>\n",
       "      <td>13.37</td>\n",
       "      <td>2233.620117</td>\n",
       "    </tr>\n",
       "  </tbody>\n",
       "</table>\n",
       "</div>"
      ],
      "text/plain": [
       "            sp500    tnx    vix            y\n",
       "3015  2260.959961  2.553  11.43  2258.840088\n",
       "3016  2263.790039  2.543  11.44  2266.149902\n",
       "3017  2268.879883  2.563  11.99  2249.110107\n",
       "3018  2249.919922  2.506  12.95  2244.560059\n",
       "3019  2249.260010  2.477  13.37  2233.620117"
      ]
     },
     "execution_count": 16,
     "metadata": {},
     "output_type": "execute_result"
    }
   ],
   "source": [
    "test_dict_df= test_dict_df.dropna(axis=0)#drop rows which may contain missing values\n",
    "test_dict_df.tail()"
   ]
  },
  {
   "cell_type": "code",
   "execution_count": 17,
   "metadata": {
    "scrolled": true
   },
   "outputs": [
    {
     "name": "stdout",
     "output_type": "stream",
     "text": [
      "(3016, 3) (3016,)\n"
     ]
    }
   ],
   "source": [
    "X = test_dict_df.values[:,0:3]\n",
    "y = test_dict_df.values[:,3]\n",
    "print(X.shape, y.shape)"
   ]
  },
  {
   "cell_type": "code",
   "execution_count": 18,
   "metadata": {},
   "outputs": [
    {
     "name": "stdout",
     "output_type": "stream",
     "text": [
      "(3016, 3) (3016,)\n"
     ]
    }
   ],
   "source": [
    "y= (y- min(y))/(max(y)- min(y)) #??? normalsation\n",
    "X= (X- np.min(X,axis=0))/(np.max(X, axis=0)-np.min(X,axis=0))\n",
    "\n",
    "print(X.shape, y.shape)"
   ]
  },
  {
   "cell_type": "code",
   "execution_count": 19,
   "metadata": {},
   "outputs": [
    {
     "name": "stdout",
     "output_type": "stream",
     "text": [
      "[[0.32945915 0.73518805 0.05903903]\n",
      " [0.32066402 0.7514168  0.05762998]\n",
      " [0.31796211 0.7498712  0.05917993]\n",
      " ...\n",
      " [0.99821959 0.30834621 0.02958997]\n",
      " [0.98633389 0.29366306 0.04311681]\n",
      " [0.9859202  0.28619268 0.0490348 ]] [0.32425474 0.32321055 0.32292921 ... 0.98934587 0.98650095 0.97966075]\n"
     ]
    }
   ],
   "source": [
    "print(X,y)"
   ]
  },
  {
   "cell_type": "code",
   "execution_count": 20,
   "metadata": {},
   "outputs": [
    {
     "name": "stdout",
     "output_type": "stream",
     "text": [
      "(2917, 100, 3) (2917,)\n"
     ]
    }
   ],
   "source": [
    "time_steps= 100 #1 to 100 days ahead\n",
    "X_new= np.zeros((X.shape[0] - time_steps +1, 100, X.shape[1]))\n",
    "y_new= np.zeros((y.shape[0] -time_steps +1,))\n",
    "for ix in range(X_new.shape[0]):\n",
    "    for jx in range(time_steps):\n",
    "        X_new[ix, jx, :]= X[ix +jx, :]\n",
    "    y_new[ix]= y[ix + time_steps -1]\n",
    "print (X_new.shape, y_new.shape)"
   ]
  },
  {
   "cell_type": "code",
   "execution_count": 21,
   "metadata": {},
   "outputs": [
    {
     "name": "stdout",
     "output_type": "stream",
     "text": [
      "(2412, 100, 3) (2412,)\n",
      "(505, 100, 3) (505,)\n"
     ]
    }
   ],
   "source": [
    "# split train/test\n",
    "split = int(0.8*X.shape[0])\n",
    "X_train = X_new[:split]\n",
    "X_test = X_new[split:]\n",
    "\n",
    "y_train = y_new[:split]\n",
    "y_test = y_new[split:]\n",
    "\n",
    "print (X_train.shape, y_train.shape)\n",
    "print (X_test.shape, y_test.shape)"
   ]
  },
  {
   "cell_type": "code",
   "execution_count": 22,
   "metadata": {},
   "outputs": [],
   "source": [
    "# data normalisation after split the train/test\n",
    "# for i in range(3):\n",
    "#     y_train[:,i]= (y_train[:,i]- min(y_train[:,i]))/(max(y_train[:,i])- min(y_train[:,i]))\n",
    "#     X_train[:,i,:,:]= (X_train[:,i,:,:]- np.min(X_train[:,i,:,:],axis=0))/(np.max(X_train[:,i,:,:], axis=0)-np.min(X_train[:,i,:,:],axis=0))\n",
    "\n",
    "#     y_test[:,i]= (y_test[:,i]- min(y_test[:,i]))/(max(y_test[:,i])- min(y_test[:,i]))\n",
    "#     X_test[:,i,:,:]= (X_test[:,i,:,:]- np.min(X_test[:,i,:,:],axis=0))/(np.max(X_test[:,i,:,:], axis=0)-np.min(X_test[:,i,:,:],axis=0))"
   ]
  },
  {
   "cell_type": "code",
   "execution_count": 23,
   "metadata": {
    "scrolled": false
   },
   "outputs": [
    {
     "name": "stdout",
     "output_type": "stream",
     "text": [
      "----------------------------------------------------------------\n",
      "        Layer (type)               Output Shape         Param #\n",
      "================================================================\n",
      "            Conv2d-1            [-1, 64, 86, 1]           2,944\n",
      "            Conv2d-2            [-1, 32, 70, 1]          30,752\n",
      "            Linear-3                    [-1, 1]           2,177\n",
      "================================================================\n",
      "Total params: 35,873\n",
      "Trainable params: 35,873\n",
      "Non-trainable params: 0\n",
      "----------------------------------------------------------------\n",
      "Input size (MB): 0.00\n",
      "Forward/backward pass size (MB): 0.06\n",
      "Params size (MB): 0.14\n",
      "Estimated Total Size (MB): 0.20\n",
      "----------------------------------------------------------------\n",
      "Net(\n",
      "  (conv1): Conv2d(1, 64, kernel_size=(15, 3), stride=(1, 1))\n",
      "  (conv2): Conv2d(64, 32, kernel_size=(15, 1), stride=(1, 1))\n",
      "  (fc1): Linear(in_features=2176, out_features=1, bias=True)\n",
      ")\n"
     ]
    }
   ],
   "source": [
    "#Network model\n",
    "from torchsummary import summary\n",
    "    \n",
    "class Net(nn.Module):  \n",
    "    def __init__(self):\n",
    "        super(Net, self).__init__()\n",
    "        \n",
    "        self.conv1 = nn.Conv2d(1, 64, kernel_size = (15, 3 ), padding=0)\n",
    "        self.conv2 = nn.Conv2d(64, 32, kernel_size = (15, 1), padding=0)\n",
    "        self.fc1 = nn.Linear(2176 , 1)\n",
    "        \n",
    "        \n",
    "    def forward(self,x):\n",
    "        out = self.conv1(x)\n",
    "        out = F.max_pool2d(out, kernel_size = (3, 1), stride=(1, 1))\n",
    "        out = self.conv2(out)\n",
    "        out = F.max_pool2d(out, kernel_size = (3, 1), stride=(1, 1))\n",
    "        out = out.view(out.shape[0], -1)\n",
    "        out = self.fc1(out)\n",
    "#         out = F.sigmoid(out)\n",
    "        return out\n",
    "\n",
    "    \n",
    "device = torch.device(\"cuda\" if torch.cuda.is_available() else \"cpu\")\n",
    "model = Net().to(device)\n",
    "\n",
    "\n",
    "# summary(your_model, input_size=(channels, H, W))\n",
    "summary(model,(1, 100, 3))\n",
    "print(model)"
   ]
  },
  {
   "cell_type": "code",
   "execution_count": 24,
   "metadata": {},
   "outputs": [
    {
     "name": "stdout",
     "output_type": "stream",
     "text": [
      "torch.Size([2412, 100, 3]) torch.Size([2412]) torch.Size([505, 100, 3])\n"
     ]
    }
   ],
   "source": [
    "#convert to torch\n",
    "trainData = torch.from_numpy(X_train)\n",
    "testData = torch.from_numpy(y_train)\n",
    "validateData = torch.from_numpy(X_test)\n",
    "print(trainData.shape, testData.shape, validateData.shape)\n",
    "# testData = testData.view(testData.shape[0],3,-1)"
   ]
  },
  {
   "cell_type": "code",
   "execution_count": 25,
   "metadata": {},
   "outputs": [
    {
     "name": "stdout",
     "output_type": "stream",
     "text": [
      "torch.Size([2412, 1, 100, 3]) torch.Size([2412, 1]) torch.Size([505, 1, 100, 3])\n"
     ]
    }
   ],
   "source": [
    "trainData = trainData.view(2412,-1,100,3)\n",
    "testData = testData.view(2412,-1)\n",
    "\n",
    "validateData = validateData.view(validateData.shape[0],-1,100,3)\n",
    "print(trainData.shape,testData.shape,validateData.shape)"
   ]
  },
  {
   "cell_type": "code",
   "execution_count": 26,
   "metadata": {},
   "outputs": [
    {
     "name": "stdout",
     "output_type": "stream",
     "text": [
      "torch.Size([1, 100, 3]) torch.Size([1])\n"
     ]
    }
   ],
   "source": [
    "train = TensorDataset(trainData, testData)\n",
    "# print(train[0])\n",
    "tr, te = train[0]\n",
    "print(tr.shape, te.shape)"
   ]
  },
  {
   "cell_type": "code",
   "execution_count": 27,
   "metadata": {},
   "outputs": [
    {
     "name": "stdout",
     "output_type": "stream",
     "text": [
      "<class 'torch.Tensor'>\n",
      "torch.Size([256, 1, 100, 3])\n",
      "torch.Size([256, 1])\n"
     ]
    }
   ],
   "source": [
    "#train loader\n",
    "trainloader = DataLoader(train, batch_size=256, shuffle=True)\n",
    "\n",
    "dataiter = iter(trainloader)\n",
    "images, labels = dataiter.next()\n",
    "print(type(images)) \n",
    "print(images.shape)\n",
    "print(labels.shape)"
   ]
  },
  {
   "cell_type": "code",
   "execution_count": 28,
   "metadata": {},
   "outputs": [],
   "source": [
    "from torch import optim\n",
    "# define the loss function and the optimiser\n",
    "loss_function = nn.MSELoss()\n",
    "optimiser = optim.Adam(model.parameters())\n"
   ]
  },
  {
   "cell_type": "code",
   "execution_count": 29,
   "metadata": {
    "scrolled": true
   },
   "outputs": [
    {
     "name": "stdout",
     "output_type": "stream",
     "text": [
      "cuda\n"
     ]
    },
    {
     "data": {
      "application/vnd.jupyter.widget-view+json": {
       "model_id": "97187b9ec72d4fcfab305a1d81ca5aac",
       "version_major": 2,
       "version_minor": 0
      },
      "text/plain": [
       "HBox(children=(IntProgress(value=0, description='0/50(t)', max=10, style=ProgressStyle(description_width='init…"
      ]
     },
     "metadata": {},
     "output_type": "display_data"
    },
    {
     "name": "stdout",
     "output_type": "stream",
     "text": [
      "\n"
     ]
    },
    {
     "data": {
      "application/vnd.jupyter.widget-view+json": {
       "model_id": "f8bcc69f083949ecbdd281ba44d972ac",
       "version_major": 2,
       "version_minor": 0
      },
      "text/plain": [
       "HBox(children=(IntProgress(value=0, description='1/50(t)', max=10, style=ProgressStyle(description_width='init…"
      ]
     },
     "metadata": {},
     "output_type": "display_data"
    },
    {
     "name": "stdout",
     "output_type": "stream",
     "text": [
      "\n"
     ]
    },
    {
     "data": {
      "application/vnd.jupyter.widget-view+json": {
       "model_id": "d636e8643b724991bd9de6904828e5a9",
       "version_major": 2,
       "version_minor": 0
      },
      "text/plain": [
       "HBox(children=(IntProgress(value=0, description='2/50(t)', max=10, style=ProgressStyle(description_width='init…"
      ]
     },
     "metadata": {},
     "output_type": "display_data"
    },
    {
     "name": "stdout",
     "output_type": "stream",
     "text": [
      "\n"
     ]
    },
    {
     "data": {
      "application/vnd.jupyter.widget-view+json": {
       "model_id": "e9916029bf1b4e0697d64b2a652be97c",
       "version_major": 2,
       "version_minor": 0
      },
      "text/plain": [
       "HBox(children=(IntProgress(value=0, description='3/50(t)', max=10, style=ProgressStyle(description_width='init…"
      ]
     },
     "metadata": {},
     "output_type": "display_data"
    },
    {
     "name": "stdout",
     "output_type": "stream",
     "text": [
      "\n"
     ]
    },
    {
     "data": {
      "application/vnd.jupyter.widget-view+json": {
       "model_id": "044e44883a84488fba04c046c28e6ec7",
       "version_major": 2,
       "version_minor": 0
      },
      "text/plain": [
       "HBox(children=(IntProgress(value=0, description='4/50(t)', max=10, style=ProgressStyle(description_width='init…"
      ]
     },
     "metadata": {},
     "output_type": "display_data"
    },
    {
     "name": "stdout",
     "output_type": "stream",
     "text": [
      "\n"
     ]
    },
    {
     "data": {
      "application/vnd.jupyter.widget-view+json": {
       "model_id": "c60a26830c1247d08be96afd7cef4aa4",
       "version_major": 2,
       "version_minor": 0
      },
      "text/plain": [
       "HBox(children=(IntProgress(value=0, description='5/50(t)', max=10, style=ProgressStyle(description_width='init…"
      ]
     },
     "metadata": {},
     "output_type": "display_data"
    },
    {
     "name": "stdout",
     "output_type": "stream",
     "text": [
      "\n"
     ]
    },
    {
     "data": {
      "application/vnd.jupyter.widget-view+json": {
       "model_id": "5b6a81cdb4714919b064bd7ad75f6fbd",
       "version_major": 2,
       "version_minor": 0
      },
      "text/plain": [
       "HBox(children=(IntProgress(value=0, description='6/50(t)', max=10, style=ProgressStyle(description_width='init…"
      ]
     },
     "metadata": {},
     "output_type": "display_data"
    },
    {
     "name": "stdout",
     "output_type": "stream",
     "text": [
      "\n"
     ]
    },
    {
     "data": {
      "application/vnd.jupyter.widget-view+json": {
       "model_id": "8a7da7fcd91248d585e78c751e34921e",
       "version_major": 2,
       "version_minor": 0
      },
      "text/plain": [
       "HBox(children=(IntProgress(value=0, description='7/50(t)', max=10, style=ProgressStyle(description_width='init…"
      ]
     },
     "metadata": {},
     "output_type": "display_data"
    },
    {
     "name": "stdout",
     "output_type": "stream",
     "text": [
      "\n"
     ]
    },
    {
     "data": {
      "application/vnd.jupyter.widget-view+json": {
       "model_id": "ec010221fb044066ae481225cdb6878c",
       "version_major": 2,
       "version_minor": 0
      },
      "text/plain": [
       "HBox(children=(IntProgress(value=0, description='8/50(t)', max=10, style=ProgressStyle(description_width='init…"
      ]
     },
     "metadata": {},
     "output_type": "display_data"
    },
    {
     "name": "stdout",
     "output_type": "stream",
     "text": [
      "\n"
     ]
    },
    {
     "data": {
      "application/vnd.jupyter.widget-view+json": {
       "model_id": "a54918f22e914c72a46fdce3bfc42d5b",
       "version_major": 2,
       "version_minor": 0
      },
      "text/plain": [
       "HBox(children=(IntProgress(value=0, description='9/50(t)', max=10, style=ProgressStyle(description_width='init…"
      ]
     },
     "metadata": {},
     "output_type": "display_data"
    },
    {
     "name": "stdout",
     "output_type": "stream",
     "text": [
      "\n"
     ]
    },
    {
     "data": {
      "application/vnd.jupyter.widget-view+json": {
       "model_id": "3ba9b747ad624b26b62da27891da43b4",
       "version_major": 2,
       "version_minor": 0
      },
      "text/plain": [
       "HBox(children=(IntProgress(value=0, description='10/50(t)', max=10, style=ProgressStyle(description_width='ini…"
      ]
     },
     "metadata": {},
     "output_type": "display_data"
    },
    {
     "name": "stdout",
     "output_type": "stream",
     "text": [
      "\n"
     ]
    },
    {
     "data": {
      "application/vnd.jupyter.widget-view+json": {
       "model_id": "9fb9da1006ac4b4f97e5178cb6908405",
       "version_major": 2,
       "version_minor": 0
      },
      "text/plain": [
       "HBox(children=(IntProgress(value=0, description='11/50(t)', max=10, style=ProgressStyle(description_width='ini…"
      ]
     },
     "metadata": {},
     "output_type": "display_data"
    },
    {
     "name": "stdout",
     "output_type": "stream",
     "text": [
      "\n"
     ]
    },
    {
     "data": {
      "application/vnd.jupyter.widget-view+json": {
       "model_id": "b4c20a3c68b84d8db5e713ae1e26b0ef",
       "version_major": 2,
       "version_minor": 0
      },
      "text/plain": [
       "HBox(children=(IntProgress(value=0, description='12/50(t)', max=10, style=ProgressStyle(description_width='ini…"
      ]
     },
     "metadata": {},
     "output_type": "display_data"
    },
    {
     "name": "stdout",
     "output_type": "stream",
     "text": [
      "\n"
     ]
    },
    {
     "data": {
      "application/vnd.jupyter.widget-view+json": {
       "model_id": "912fee08a1fb4759a5a53cdeb82d9aed",
       "version_major": 2,
       "version_minor": 0
      },
      "text/plain": [
       "HBox(children=(IntProgress(value=0, description='13/50(t)', max=10, style=ProgressStyle(description_width='ini…"
      ]
     },
     "metadata": {},
     "output_type": "display_data"
    },
    {
     "name": "stdout",
     "output_type": "stream",
     "text": [
      "\n"
     ]
    },
    {
     "data": {
      "application/vnd.jupyter.widget-view+json": {
       "model_id": "63649325df734cd98486859ca7f86afd",
       "version_major": 2,
       "version_minor": 0
      },
      "text/plain": [
       "HBox(children=(IntProgress(value=0, description='14/50(t)', max=10, style=ProgressStyle(description_width='ini…"
      ]
     },
     "metadata": {},
     "output_type": "display_data"
    },
    {
     "name": "stdout",
     "output_type": "stream",
     "text": [
      "\n"
     ]
    },
    {
     "data": {
      "application/vnd.jupyter.widget-view+json": {
       "model_id": "e916193e17474d5ca01c02fd0ff4f714",
       "version_major": 2,
       "version_minor": 0
      },
      "text/plain": [
       "HBox(children=(IntProgress(value=0, description='15/50(t)', max=10, style=ProgressStyle(description_width='ini…"
      ]
     },
     "metadata": {},
     "output_type": "display_data"
    },
    {
     "name": "stdout",
     "output_type": "stream",
     "text": [
      "\n"
     ]
    },
    {
     "data": {
      "application/vnd.jupyter.widget-view+json": {
       "model_id": "c7d520e9d59f46d39597d187d1fe24f8",
       "version_major": 2,
       "version_minor": 0
      },
      "text/plain": [
       "HBox(children=(IntProgress(value=0, description='16/50(t)', max=10, style=ProgressStyle(description_width='ini…"
      ]
     },
     "metadata": {},
     "output_type": "display_data"
    },
    {
     "name": "stdout",
     "output_type": "stream",
     "text": [
      "\n"
     ]
    },
    {
     "data": {
      "application/vnd.jupyter.widget-view+json": {
       "model_id": "c417252b368149ef85619703b7fd6bc2",
       "version_major": 2,
       "version_minor": 0
      },
      "text/plain": [
       "HBox(children=(IntProgress(value=0, description='17/50(t)', max=10, style=ProgressStyle(description_width='ini…"
      ]
     },
     "metadata": {},
     "output_type": "display_data"
    },
    {
     "name": "stdout",
     "output_type": "stream",
     "text": [
      "\n"
     ]
    },
    {
     "data": {
      "application/vnd.jupyter.widget-view+json": {
       "model_id": "74ba34e1e3894dd68dbbebf1526869ef",
       "version_major": 2,
       "version_minor": 0
      },
      "text/plain": [
       "HBox(children=(IntProgress(value=0, description='18/50(t)', max=10, style=ProgressStyle(description_width='ini…"
      ]
     },
     "metadata": {},
     "output_type": "display_data"
    },
    {
     "name": "stdout",
     "output_type": "stream",
     "text": [
      "\n"
     ]
    },
    {
     "data": {
      "application/vnd.jupyter.widget-view+json": {
       "model_id": "053c95e1177f4a2eb5b408c66125af05",
       "version_major": 2,
       "version_minor": 0
      },
      "text/plain": [
       "HBox(children=(IntProgress(value=0, description='19/50(t)', max=10, style=ProgressStyle(description_width='ini…"
      ]
     },
     "metadata": {},
     "output_type": "display_data"
    },
    {
     "name": "stdout",
     "output_type": "stream",
     "text": [
      "\n"
     ]
    },
    {
     "data": {
      "application/vnd.jupyter.widget-view+json": {
       "model_id": "15063e5eec03474abc34a07f43a1b2af",
       "version_major": 2,
       "version_minor": 0
      },
      "text/plain": [
       "HBox(children=(IntProgress(value=0, description='20/50(t)', max=10, style=ProgressStyle(description_width='ini…"
      ]
     },
     "metadata": {},
     "output_type": "display_data"
    },
    {
     "name": "stdout",
     "output_type": "stream",
     "text": [
      "\n"
     ]
    },
    {
     "data": {
      "application/vnd.jupyter.widget-view+json": {
       "model_id": "02994066ecb548a29f5badc3de0b07c1",
       "version_major": 2,
       "version_minor": 0
      },
      "text/plain": [
       "HBox(children=(IntProgress(value=0, description='21/50(t)', max=10, style=ProgressStyle(description_width='ini…"
      ]
     },
     "metadata": {},
     "output_type": "display_data"
    },
    {
     "name": "stdout",
     "output_type": "stream",
     "text": [
      "\n"
     ]
    },
    {
     "data": {
      "application/vnd.jupyter.widget-view+json": {
       "model_id": "e3236198f1214dc4a28a21d711279cc1",
       "version_major": 2,
       "version_minor": 0
      },
      "text/plain": [
       "HBox(children=(IntProgress(value=0, description='22/50(t)', max=10, style=ProgressStyle(description_width='ini…"
      ]
     },
     "metadata": {},
     "output_type": "display_data"
    },
    {
     "name": "stdout",
     "output_type": "stream",
     "text": [
      "\n"
     ]
    },
    {
     "data": {
      "application/vnd.jupyter.widget-view+json": {
       "model_id": "f66dd3237749477480925ff2dbdd79ab",
       "version_major": 2,
       "version_minor": 0
      },
      "text/plain": [
       "HBox(children=(IntProgress(value=0, description='23/50(t)', max=10, style=ProgressStyle(description_width='ini…"
      ]
     },
     "metadata": {},
     "output_type": "display_data"
    },
    {
     "name": "stdout",
     "output_type": "stream",
     "text": [
      "\n"
     ]
    },
    {
     "data": {
      "application/vnd.jupyter.widget-view+json": {
       "model_id": "5d4931b857f24cd3ad37e72f486e8337",
       "version_major": 2,
       "version_minor": 0
      },
      "text/plain": [
       "HBox(children=(IntProgress(value=0, description='24/50(t)', max=10, style=ProgressStyle(description_width='ini…"
      ]
     },
     "metadata": {},
     "output_type": "display_data"
    },
    {
     "name": "stdout",
     "output_type": "stream",
     "text": [
      "\n"
     ]
    },
    {
     "data": {
      "application/vnd.jupyter.widget-view+json": {
       "model_id": "65f59e733b1b4d58a27d4ae2705f8aee",
       "version_major": 2,
       "version_minor": 0
      },
      "text/plain": [
       "HBox(children=(IntProgress(value=0, description='25/50(t)', max=10, style=ProgressStyle(description_width='ini…"
      ]
     },
     "metadata": {},
     "output_type": "display_data"
    },
    {
     "name": "stdout",
     "output_type": "stream",
     "text": [
      "\n"
     ]
    },
    {
     "data": {
      "application/vnd.jupyter.widget-view+json": {
       "model_id": "3bbfa0b29f574333a95dff5d5fbf9fbb",
       "version_major": 2,
       "version_minor": 0
      },
      "text/plain": [
       "HBox(children=(IntProgress(value=0, description='26/50(t)', max=10, style=ProgressStyle(description_width='ini…"
      ]
     },
     "metadata": {},
     "output_type": "display_data"
    },
    {
     "name": "stdout",
     "output_type": "stream",
     "text": [
      "\n"
     ]
    },
    {
     "data": {
      "application/vnd.jupyter.widget-view+json": {
       "model_id": "c9edb414b05345cb96eda7c087e465f9",
       "version_major": 2,
       "version_minor": 0
      },
      "text/plain": [
       "HBox(children=(IntProgress(value=0, description='27/50(t)', max=10, style=ProgressStyle(description_width='ini…"
      ]
     },
     "metadata": {},
     "output_type": "display_data"
    },
    {
     "name": "stdout",
     "output_type": "stream",
     "text": [
      "\n"
     ]
    },
    {
     "data": {
      "application/vnd.jupyter.widget-view+json": {
       "model_id": "78f58d3db9c6436da3f19ae62d6f0476",
       "version_major": 2,
       "version_minor": 0
      },
      "text/plain": [
       "HBox(children=(IntProgress(value=0, description='28/50(t)', max=10, style=ProgressStyle(description_width='ini…"
      ]
     },
     "metadata": {},
     "output_type": "display_data"
    },
    {
     "name": "stdout",
     "output_type": "stream",
     "text": [
      "\n"
     ]
    },
    {
     "data": {
      "application/vnd.jupyter.widget-view+json": {
       "model_id": "853bfb66a25f44f9bae37051f1e56f53",
       "version_major": 2,
       "version_minor": 0
      },
      "text/plain": [
       "HBox(children=(IntProgress(value=0, description='29/50(t)', max=10, style=ProgressStyle(description_width='ini…"
      ]
     },
     "metadata": {},
     "output_type": "display_data"
    },
    {
     "name": "stdout",
     "output_type": "stream",
     "text": [
      "\n"
     ]
    },
    {
     "data": {
      "application/vnd.jupyter.widget-view+json": {
       "model_id": "e14329479af146c2b59bfe4383f52eb2",
       "version_major": 2,
       "version_minor": 0
      },
      "text/plain": [
       "HBox(children=(IntProgress(value=0, description='30/50(t)', max=10, style=ProgressStyle(description_width='ini…"
      ]
     },
     "metadata": {},
     "output_type": "display_data"
    },
    {
     "name": "stdout",
     "output_type": "stream",
     "text": [
      "\n"
     ]
    },
    {
     "data": {
      "application/vnd.jupyter.widget-view+json": {
       "model_id": "66dd118fdb81448e80965ab0d5b3b8ed",
       "version_major": 2,
       "version_minor": 0
      },
      "text/plain": [
       "HBox(children=(IntProgress(value=0, description='31/50(t)', max=10, style=ProgressStyle(description_width='ini…"
      ]
     },
     "metadata": {},
     "output_type": "display_data"
    },
    {
     "name": "stdout",
     "output_type": "stream",
     "text": [
      "\n"
     ]
    },
    {
     "data": {
      "application/vnd.jupyter.widget-view+json": {
       "model_id": "8fe3d0fa0f5b4c4a8b8ff550e0bbca2e",
       "version_major": 2,
       "version_minor": 0
      },
      "text/plain": [
       "HBox(children=(IntProgress(value=0, description='32/50(t)', max=10, style=ProgressStyle(description_width='ini…"
      ]
     },
     "metadata": {},
     "output_type": "display_data"
    },
    {
     "name": "stdout",
     "output_type": "stream",
     "text": [
      "\n"
     ]
    },
    {
     "data": {
      "application/vnd.jupyter.widget-view+json": {
       "model_id": "e8c2b7132d2d4907acddd8ccea77fde0",
       "version_major": 2,
       "version_minor": 0
      },
      "text/plain": [
       "HBox(children=(IntProgress(value=0, description='33/50(t)', max=10, style=ProgressStyle(description_width='ini…"
      ]
     },
     "metadata": {},
     "output_type": "display_data"
    },
    {
     "name": "stdout",
     "output_type": "stream",
     "text": [
      "\n"
     ]
    },
    {
     "data": {
      "application/vnd.jupyter.widget-view+json": {
       "model_id": "ff75a185e04f453f8efaeea9e2ccb665",
       "version_major": 2,
       "version_minor": 0
      },
      "text/plain": [
       "HBox(children=(IntProgress(value=0, description='34/50(t)', max=10, style=ProgressStyle(description_width='ini…"
      ]
     },
     "metadata": {},
     "output_type": "display_data"
    },
    {
     "name": "stdout",
     "output_type": "stream",
     "text": [
      "\n"
     ]
    },
    {
     "data": {
      "application/vnd.jupyter.widget-view+json": {
       "model_id": "66e83f91d6b642b09dfc3e6a65ebbb74",
       "version_major": 2,
       "version_minor": 0
      },
      "text/plain": [
       "HBox(children=(IntProgress(value=0, description='35/50(t)', max=10, style=ProgressStyle(description_width='ini…"
      ]
     },
     "metadata": {},
     "output_type": "display_data"
    },
    {
     "name": "stdout",
     "output_type": "stream",
     "text": [
      "\n"
     ]
    },
    {
     "data": {
      "application/vnd.jupyter.widget-view+json": {
       "model_id": "5ea878744920451aa47bdc07a3664410",
       "version_major": 2,
       "version_minor": 0
      },
      "text/plain": [
       "HBox(children=(IntProgress(value=0, description='36/50(t)', max=10, style=ProgressStyle(description_width='ini…"
      ]
     },
     "metadata": {},
     "output_type": "display_data"
    },
    {
     "name": "stdout",
     "output_type": "stream",
     "text": [
      "\n"
     ]
    },
    {
     "data": {
      "application/vnd.jupyter.widget-view+json": {
       "model_id": "52843ebffc224dc180abfbde2c549ca4",
       "version_major": 2,
       "version_minor": 0
      },
      "text/plain": [
       "HBox(children=(IntProgress(value=0, description='37/50(t)', max=10, style=ProgressStyle(description_width='ini…"
      ]
     },
     "metadata": {},
     "output_type": "display_data"
    },
    {
     "name": "stdout",
     "output_type": "stream",
     "text": [
      "\n"
     ]
    },
    {
     "data": {
      "application/vnd.jupyter.widget-view+json": {
       "model_id": "9565c5690735455c93337ec96da4fa01",
       "version_major": 2,
       "version_minor": 0
      },
      "text/plain": [
       "HBox(children=(IntProgress(value=0, description='38/50(t)', max=10, style=ProgressStyle(description_width='ini…"
      ]
     },
     "metadata": {},
     "output_type": "display_data"
    },
    {
     "name": "stdout",
     "output_type": "stream",
     "text": [
      "\n"
     ]
    },
    {
     "data": {
      "application/vnd.jupyter.widget-view+json": {
       "model_id": "84b77b54c94440feba73bb42871a2352",
       "version_major": 2,
       "version_minor": 0
      },
      "text/plain": [
       "HBox(children=(IntProgress(value=0, description='39/50(t)', max=10, style=ProgressStyle(description_width='ini…"
      ]
     },
     "metadata": {},
     "output_type": "display_data"
    },
    {
     "name": "stdout",
     "output_type": "stream",
     "text": [
      "\n"
     ]
    },
    {
     "data": {
      "application/vnd.jupyter.widget-view+json": {
       "model_id": "a9630f90bd1d4208b486853e2b495cab",
       "version_major": 2,
       "version_minor": 0
      },
      "text/plain": [
       "HBox(children=(IntProgress(value=0, description='40/50(t)', max=10, style=ProgressStyle(description_width='ini…"
      ]
     },
     "metadata": {},
     "output_type": "display_data"
    },
    {
     "name": "stdout",
     "output_type": "stream",
     "text": [
      "\n"
     ]
    },
    {
     "data": {
      "application/vnd.jupyter.widget-view+json": {
       "model_id": "96b5590ba286478aac62adb6bdd00dea",
       "version_major": 2,
       "version_minor": 0
      },
      "text/plain": [
       "HBox(children=(IntProgress(value=0, description='41/50(t)', max=10, style=ProgressStyle(description_width='ini…"
      ]
     },
     "metadata": {},
     "output_type": "display_data"
    },
    {
     "name": "stdout",
     "output_type": "stream",
     "text": [
      "\n"
     ]
    },
    {
     "data": {
      "application/vnd.jupyter.widget-view+json": {
       "model_id": "3786bad008e647b29761f91f4aa7d06e",
       "version_major": 2,
       "version_minor": 0
      },
      "text/plain": [
       "HBox(children=(IntProgress(value=0, description='42/50(t)', max=10, style=ProgressStyle(description_width='ini…"
      ]
     },
     "metadata": {},
     "output_type": "display_data"
    },
    {
     "name": "stdout",
     "output_type": "stream",
     "text": [
      "\n"
     ]
    },
    {
     "data": {
      "application/vnd.jupyter.widget-view+json": {
       "model_id": "6823c1b63ee64f26a40e6312e79bb7cb",
       "version_major": 2,
       "version_minor": 0
      },
      "text/plain": [
       "HBox(children=(IntProgress(value=0, description='43/50(t)', max=10, style=ProgressStyle(description_width='ini…"
      ]
     },
     "metadata": {},
     "output_type": "display_data"
    },
    {
     "name": "stdout",
     "output_type": "stream",
     "text": [
      "\n"
     ]
    },
    {
     "data": {
      "application/vnd.jupyter.widget-view+json": {
       "model_id": "95ad99878a0942b2aae40a8bb62fbbc4",
       "version_major": 2,
       "version_minor": 0
      },
      "text/plain": [
       "HBox(children=(IntProgress(value=0, description='44/50(t)', max=10, style=ProgressStyle(description_width='ini…"
      ]
     },
     "metadata": {},
     "output_type": "display_data"
    },
    {
     "name": "stdout",
     "output_type": "stream",
     "text": [
      "\n"
     ]
    },
    {
     "data": {
      "application/vnd.jupyter.widget-view+json": {
       "model_id": "caabcac667b240d5ba47daa338d1cb05",
       "version_major": 2,
       "version_minor": 0
      },
      "text/plain": [
       "HBox(children=(IntProgress(value=0, description='45/50(t)', max=10, style=ProgressStyle(description_width='ini…"
      ]
     },
     "metadata": {},
     "output_type": "display_data"
    },
    {
     "name": "stdout",
     "output_type": "stream",
     "text": [
      "\n"
     ]
    },
    {
     "data": {
      "application/vnd.jupyter.widget-view+json": {
       "model_id": "a4fb1c7ffd674bf5b4b1745e462c86b2",
       "version_major": 2,
       "version_minor": 0
      },
      "text/plain": [
       "HBox(children=(IntProgress(value=0, description='46/50(t)', max=10, style=ProgressStyle(description_width='ini…"
      ]
     },
     "metadata": {},
     "output_type": "display_data"
    },
    {
     "name": "stdout",
     "output_type": "stream",
     "text": [
      "\n"
     ]
    },
    {
     "data": {
      "application/vnd.jupyter.widget-view+json": {
       "model_id": "74b99ddb5de24cecbf9b94fb30532a59",
       "version_major": 2,
       "version_minor": 0
      },
      "text/plain": [
       "HBox(children=(IntProgress(value=0, description='47/50(t)', max=10, style=ProgressStyle(description_width='ini…"
      ]
     },
     "metadata": {},
     "output_type": "display_data"
    },
    {
     "name": "stdout",
     "output_type": "stream",
     "text": [
      "\n"
     ]
    },
    {
     "data": {
      "application/vnd.jupyter.widget-view+json": {
       "model_id": "84185d8734e04464ac0d930faa007a01",
       "version_major": 2,
       "version_minor": 0
      },
      "text/plain": [
       "HBox(children=(IntProgress(value=0, description='48/50(t)', max=10, style=ProgressStyle(description_width='ini…"
      ]
     },
     "metadata": {},
     "output_type": "display_data"
    },
    {
     "name": "stdout",
     "output_type": "stream",
     "text": [
      "\n"
     ]
    },
    {
     "data": {
      "application/vnd.jupyter.widget-view+json": {
       "model_id": "147e50ad773d4e09aa8dca903c05f59a",
       "version_major": 2,
       "version_minor": 0
      },
      "text/plain": [
       "HBox(children=(IntProgress(value=0, description='49/50(t)', max=10, style=ProgressStyle(description_width='ini…"
      ]
     },
     "metadata": {},
     "output_type": "display_data"
    },
    {
     "name": "stdout",
     "output_type": "stream",
     "text": [
      "\n"
     ]
    },
    {
     "data": {
      "text/plain": [
       "[{'train_steps': 10, 'validation_steps': None},\n",
       " {'train_steps': 10, 'validation_steps': None},\n",
       " {'train_steps': 10, 'validation_steps': None},\n",
       " {'train_steps': 10, 'validation_steps': None},\n",
       " {'train_steps': 10, 'validation_steps': None},\n",
       " {'train_steps': 10, 'validation_steps': None},\n",
       " {'train_steps': 10, 'validation_steps': None},\n",
       " {'train_steps': 10, 'validation_steps': None},\n",
       " {'train_steps': 10, 'validation_steps': None},\n",
       " {'train_steps': 10, 'validation_steps': None},\n",
       " {'train_steps': 10, 'validation_steps': None},\n",
       " {'train_steps': 10, 'validation_steps': None},\n",
       " {'train_steps': 10, 'validation_steps': None},\n",
       " {'train_steps': 10, 'validation_steps': None},\n",
       " {'train_steps': 10, 'validation_steps': None},\n",
       " {'train_steps': 10, 'validation_steps': None},\n",
       " {'train_steps': 10, 'validation_steps': None},\n",
       " {'train_steps': 10, 'validation_steps': None},\n",
       " {'train_steps': 10, 'validation_steps': None},\n",
       " {'train_steps': 10, 'validation_steps': None},\n",
       " {'train_steps': 10, 'validation_steps': None},\n",
       " {'train_steps': 10, 'validation_steps': None},\n",
       " {'train_steps': 10, 'validation_steps': None},\n",
       " {'train_steps': 10, 'validation_steps': None},\n",
       " {'train_steps': 10, 'validation_steps': None},\n",
       " {'train_steps': 10, 'validation_steps': None},\n",
       " {'train_steps': 10, 'validation_steps': None},\n",
       " {'train_steps': 10, 'validation_steps': None},\n",
       " {'train_steps': 10, 'validation_steps': None},\n",
       " {'train_steps': 10, 'validation_steps': None},\n",
       " {'train_steps': 10, 'validation_steps': None},\n",
       " {'train_steps': 10, 'validation_steps': None},\n",
       " {'train_steps': 10, 'validation_steps': None},\n",
       " {'train_steps': 10, 'validation_steps': None},\n",
       " {'train_steps': 10, 'validation_steps': None},\n",
       " {'train_steps': 10, 'validation_steps': None},\n",
       " {'train_steps': 10, 'validation_steps': None},\n",
       " {'train_steps': 10, 'validation_steps': None},\n",
       " {'train_steps': 10, 'validation_steps': None},\n",
       " {'train_steps': 10, 'validation_steps': None},\n",
       " {'train_steps': 10, 'validation_steps': None},\n",
       " {'train_steps': 10, 'validation_steps': None},\n",
       " {'train_steps': 10, 'validation_steps': None},\n",
       " {'train_steps': 10, 'validation_steps': None},\n",
       " {'train_steps': 10, 'validation_steps': None},\n",
       " {'train_steps': 10, 'validation_steps': None},\n",
       " {'train_steps': 10, 'validation_steps': None},\n",
       " {'train_steps': 10, 'validation_steps': None},\n",
       " {'train_steps': 10, 'validation_steps': None},\n",
       " {'train_steps': 10, 'validation_steps': None}]"
      ]
     },
     "execution_count": 29,
     "metadata": {},
     "output_type": "execute_result"
    }
   ],
   "source": [
    "# pytorch method for training\n",
    "print(device)\n",
    "trial = Trial(model, optimiser, loss_function).to(device)\n",
    "trial.with_generators(trainloader)\n",
    "trial.run(epochs=50)"
   ]
  },
  {
   "cell_type": "code",
   "execution_count": 30,
   "metadata": {},
   "outputs": [
    {
     "data": {
      "text/plain": [
       "torch.Size([505, 1])"
      ]
     },
     "execution_count": 30,
     "metadata": {},
     "output_type": "execute_result"
    }
   ],
   "source": [
    "y_pred= model(validateData.float().to(device))\n",
    "y_pred.shape"
   ]
  },
  {
   "cell_type": "code",
   "execution_count": 31,
   "metadata": {},
   "outputs": [
    {
     "data": {
      "image/png": "[encoded data removed]",
      "text/plain": [
       "<Figure size 432x288 with 1 Axes>"
      ]
     },
     "metadata": {
      "needs_background": "light"
     },
     "output_type": "display_data"
    }
   ],
   "source": [
    "plt.plot(y_pred.cpu().detach().numpy(), 'r-')\n",
    "plt.plot(y_test, 'b-')\n",
    "plt.show()"
   ]
  },
  {
   "cell_type": "code",
   "execution_count": 32,
   "metadata": {},
   "outputs": [
    {
     "name": "stdout",
     "output_type": "stream",
     "text": [
      "torch.Size([1, 1, 100, 3]) torch.Size([1, 1])\n"
     ]
    }
   ],
   "source": [
    "#import gradient generator\n",
    "\n",
    "from vanillabackprop import VanillaBackprop\n",
    "\n",
    "\n",
    "image = trainData[0].view(-1,1,100,3).float().to(device)\n",
    "target = testData[0].view(-1,1).float().to(device)\n",
    "\n",
    "print(image.shape, target.shape)\n",
    "# Vanilla backprop\n",
    "VBP = VanillaBackprop(model,target)\n",
    "# Generate gradients\n",
    "vanilla_grads = VBP.generate_gradients(image)\n"
   ]
  },
  {
   "cell_type": "code",
   "execution_count": 33,
   "metadata": {},
   "outputs": [
    {
     "data": {
      "text/plain": [
       "(501, 15, 3)"
      ]
     },
     "execution_count": 33,
     "metadata": {},
     "output_type": "execute_result"
    }
   ],
   "source": [
    "vanilla_grads_ = np.empty([1,15,3])\n",
    "for i in range(1500,2000):\n",
    "    image = trainData[i].view(-1,1,100,3).float().to(device)\n",
    "    target = testData[i].view(-1,1).float().to(device)\n",
    "    \n",
    "    VBP = VanillaBackprop(model,target)\n",
    "    temp = VBP.generate_gradients(image)\n",
    "    vanilla_grads_ = np.concatenate((vanilla_grads_,temp),axis = 0)\n",
    "    \n",
    "vanilla_grads_.shape"
   ]
  },
  {
   "cell_type": "code",
   "execution_count": 34,
   "metadata": {},
   "outputs": [
    {
     "data": {
      "text/plain": [
       "(500, 15, 3)"
      ]
     },
     "execution_count": 34,
     "metadata": {},
     "output_type": "execute_result"
    }
   ],
   "source": [
    "# 500 days data from training set\n",
    "vanilla_grads = np.delete(vanilla_grads_,0, axis = 0)\n",
    "vanilla_grads.shape"
   ]
  },
  {
   "cell_type": "code",
   "execution_count": 35,
   "metadata": {},
   "outputs": [
    {
     "data": {
      "text/plain": [
       "(500, 45)"
      ]
     },
     "execution_count": 35,
     "metadata": {},
     "output_type": "execute_result"
    }
   ],
   "source": [
    "# flatten out the tensor\n",
    "flatten_grad = vanilla_grads.reshape((500,15*3))\n",
    "flatten_grad.shape"
   ]
  },
  {
   "cell_type": "code",
   "execution_count": 36,
   "metadata": {},
   "outputs": [
    {
     "name": "stdout",
     "output_type": "stream",
     "text": [
      "grad image saved at:\n"
     ]
    }
   ],
   "source": [
    "# and convert to gray scale image \n",
    "from misc_functions import get_example_params, convert_to_grayscale, save_gradient_images\n",
    "import matplotlib.pyplot as plt\n",
    "from PIL import Image\n",
    "\n",
    "a = convert_to_grayscale(vanilla_grads)\n",
    "# plt.imshow(a, cmap=plt.get_cmap('gray'))\n",
    "# save_gradient_images(a,'stock_gradient')\n",
    "# print(\"grad image saved at:\")"
   ]
  },
  {
   "cell_type": "code",
   "execution_count": 37,
   "metadata": {},
   "outputs": [
    {
     "data": {
      "text/plain": [
       "array([[[0.98641139, 0.13279505, 0.01281668],\n",
       "        [0.98917134, 0.13299144, 0.00689765],\n",
       "        [0.99265281, 0.1315892 , 0.00341013],\n",
       "        [0.98246754, 0.1150118 , 0.03631385],\n",
       "        [0.98189125, 0.11346699, 0.03938903],\n",
       "        [0.98914527, 0.11749264, 0.02317392],\n",
       "        [0.99765369, 0.12283001, 0.        ],\n",
       "        [0.99143094, 0.11316037, 0.02253328],\n",
       "        [0.99645851, 0.11251097, 0.01284956],\n",
       "        [0.99180836, 0.10539416, 0.02720232],\n",
       "        [0.99481625, 0.10414564, 0.01341268],\n",
       "        [1.        , 0.10867144, 0.00608228],\n",
       "        [0.99748882, 0.10127528, 0.01526363],\n",
       "        [0.9996904 , 0.09590164, 0.01536946],\n",
       "        [0.99460902, 0.08696352, 0.03180572]]])"
      ]
     },
     "execution_count": 37,
     "metadata": {},
     "output_type": "execute_result"
    }
   ],
   "source": [
    "a"
   ]
  },
  {
   "cell_type": "code",
   "execution_count": 67,
   "metadata": {},
   "outputs": [
    {
     "name": "stdout",
     "output_type": "stream",
     "text": [
      "<class 'torch.Tensor'>\n",
      "torch.Size([1, 300])\n",
      "torch.Size([1])\n"
     ]
    }
   ],
   "source": [
    "#reload tensordata\n",
    "train = TensorDataset(trainData.view(2412, -1).float(), testData.view(-1).float())\n",
    "\n",
    "trainloader = DataLoader(train, batch_size=1, shuffle=True)\n",
    "\n",
    "dataiter = iter(trainloader)\n",
    "images, labels = dataiter.next()\n",
    "print(type(images)) \n",
    "print(images.shape)\n",
    "print(labels.shape)"
   ]
  },
  {
   "cell_type": "code",
   "execution_count": 64,
   "metadata": {},
   "outputs": [
    {
     "name": "stdout",
     "output_type": "stream",
     "text": [
      "torch.Size([2412, 300]) torch.Size([2412])\n",
      "<class 'torch.Tensor'>\n"
     ]
    }
   ],
   "source": [
    "print(trainData.view(2412, -1).shape, testData.view(-1).shape)\n",
    "print(type(trainData))"
   ]
  },
  {
   "cell_type": "code",
   "execution_count": 65,
   "metadata": {},
   "outputs": [],
   "source": [
    "# define baseline model\n",
    "class BaselineModel(nn.Module):\n",
    "    def __init__(self, input_size, hidden_size, num_classes):\n",
    "        super(BaselineModel, self).__init__()\n",
    "        self.fc1 = nn.Linear(input_size, hidden_size) \n",
    "        self.fc2 = nn.Linear(hidden_size, num_classes)  \n",
    "    \n",
    "    def forward(self, x):\n",
    "        out = self.fc1(x)\n",
    "        out = F.relu(out)\n",
    "        out = self.fc2(out)\n",
    "        if not self.training:\n",
    "            out = F.softmax(out, dim=1)\n",
    "        return out"
   ]
  },
  {
   "cell_type": "code",
   "execution_count": 68,
   "metadata": {},
   "outputs": [
    {
     "name": "stderr",
     "output_type": "stream",
     "text": [
      "D:\\anaconda\\lib\\site-packages\\torch\\nn\\modules\\loss.py:443: UserWarning: Using a target size (torch.Size([1])) that is different to the input size (torch.Size([1, 1])). This will likely lead to incorrect results due to broadcasting. Please ensure they have the same size.\n",
      "  return F.mse_loss(input, target, reduction=self.reduction)\n"
     ]
    },
    {
     "name": "stdout",
     "output_type": "stream",
     "text": [
      "Epoch 0, loss 6.27\n",
      "Epoch 1, loss 1.96\n",
      "Epoch 2, loss 1.52\n",
      "Epoch 3, loss 1.29\n",
      "Epoch 4, loss 1.19\n",
      "Epoch 5, loss 0.98\n",
      "Epoch 6, loss 0.93\n",
      "Epoch 7, loss 0.81\n",
      "Epoch 8, loss 0.78\n",
      "Epoch 9, loss 0.70\n",
      "**** Finished Training ****\n"
     ]
    }
   ],
   "source": [
    "# build the model \n",
    "model = BaselineModel(300, 300, 1)\n",
    "\n",
    "# define the loss function and the optimiser\n",
    "loss_function = nn.MSELoss()\n",
    "optimiser = optim.Adam(model.parameters())\n",
    "\n",
    "# the epoch loop\n",
    "for epoch in range(10):\n",
    "    running_loss = 0.0\n",
    "    for data in trainloader:\n",
    "        # get the inputs\n",
    "        inputs, labels = data\n",
    "        \n",
    "        # zero the parameter gradients\n",
    "        optimiser.zero_grad()\n",
    "        \n",
    "        # forward + loss + backward + optimise (update weights)\n",
    "        outputs = model(inputs)\n",
    "        loss = loss_function(outputs, labels)\n",
    "        loss.backward()\n",
    "        optimiser.step()\n",
    "\n",
    "        # keep track of the loss this epoch\n",
    "        running_loss += loss.item()\n",
    "    print(\"Epoch %d, loss %4.2f\" % (epoch, running_loss))\n",
    "print('**** Finished Training ****')"
   ]
  },
  {
   "cell_type": "code",
   "execution_count": 72,
   "metadata": {},
   "outputs": [
    {
     "data": {
      "image/png": "[encoded data removed]",
      "text/plain": [
       "<Figure size 432x288 with 1 Axes>"
      ]
     },
     "metadata": {
      "needs_background": "light"
     },
     "output_type": "display_data"
    }
   ],
   "source": [
    "y_pred= model(validateData.view(505,-1).float())\n",
    "y_pred.shape\n",
    "\n",
    "plt.plot(y_pred.cpu().detach().numpy(), 'r-')\n",
    "plt.plot(y_test, 'b-')\n",
    "plt.show()"
   ]
  },
  {
   "cell_type": "code",
   "execution_count": 73,
   "metadata": {},
   "outputs": [
    {
     "data": {
      "application/vnd.jupyter.widget-view+json": {
       "model_id": "6f250dcc2ec5413d9457ff9ec49fa124",
       "version_major": 2,
       "version_minor": 0
      },
      "text/plain": [
       "HBox(children=(IntProgress(value=0, description='0/10(t)', max=2412, style=ProgressStyle(description_width='in…"
      ]
     },
     "metadata": {},
     "output_type": "display_data"
    },
    {
     "name": "stdout",
     "output_type": "stream",
     "text": [
      "\n"
     ]
    },
    {
     "data": {
      "application/vnd.jupyter.widget-view+json": {
       "model_id": "b633f24d1dfa4fabbc1a38adf156629e",
       "version_major": 2,
       "version_minor": 0
      },
      "text/plain": [
       "HBox(children=(IntProgress(value=0, description='1/10(t)', max=2412, style=ProgressStyle(description_width='in…"
      ]
     },
     "metadata": {},
     "output_type": "display_data"
    },
    {
     "name": "stdout",
     "output_type": "stream",
     "text": [
      "\n"
     ]
    },
    {
     "data": {
      "application/vnd.jupyter.widget-view+json": {
       "model_id": "c91a3a1669e34493b61d0964ec9d141b",
       "version_major": 2,
       "version_minor": 0
      },
      "text/plain": [
       "HBox(children=(IntProgress(value=0, description='2/10(t)', max=2412, style=ProgressStyle(description_width='in…"
      ]
     },
     "metadata": {},
     "output_type": "display_data"
    },
    {
     "name": "stdout",
     "output_type": "stream",
     "text": [
      "\n"
     ]
    },
    {
     "data": {
      "application/vnd.jupyter.widget-view+json": {
       "model_id": "a489305d8f51408b9ce9904d4eb2e205",
       "version_major": 2,
       "version_minor": 0
      },
      "text/plain": [
       "HBox(children=(IntProgress(value=0, description='3/10(t)', max=2412, style=ProgressStyle(description_width='in…"
      ]
     },
     "metadata": {},
     "output_type": "display_data"
    },
    {
     "name": "stdout",
     "output_type": "stream",
     "text": [
      "\n"
     ]
    },
    {
     "data": {
      "application/vnd.jupyter.widget-view+json": {
       "model_id": "e70d02622df24262bc63c1341d46ab0f",
       "version_major": 2,
       "version_minor": 0
      },
      "text/plain": [
       "HBox(children=(IntProgress(value=0, description='4/10(t)', max=2412, style=ProgressStyle(description_width='in…"
      ]
     },
     "metadata": {},
     "output_type": "display_data"
    },
    {
     "name": "stdout",
     "output_type": "stream",
     "text": [
      "\n"
     ]
    },
    {
     "data": {
      "application/vnd.jupyter.widget-view+json": {
       "model_id": "6c4e3e768e9344fb94e7f2f048192053",
       "version_major": 2,
       "version_minor": 0
      },
      "text/plain": [
       "HBox(children=(IntProgress(value=0, description='5/10(t)', max=2412, style=ProgressStyle(description_width='in…"
      ]
     },
     "metadata": {},
     "output_type": "display_data"
    },
    {
     "name": "stdout",
     "output_type": "stream",
     "text": [
      "\n"
     ]
    },
    {
     "data": {
      "application/vnd.jupyter.widget-view+json": {
       "model_id": "c6b39e4bfc5b40cdb06bd9f8ed0f8e9b",
       "version_major": 2,
       "version_minor": 0
      },
      "text/plain": [
       "HBox(children=(IntProgress(value=0, description='6/10(t)', max=2412, style=ProgressStyle(description_width='in…"
      ]
     },
     "metadata": {},
     "output_type": "display_data"
    },
    {
     "name": "stdout",
     "output_type": "stream",
     "text": [
      "\n"
     ]
    },
    {
     "data": {
      "application/vnd.jupyter.widget-view+json": {
       "model_id": "e9ae33f7cee0460f9c05f3b6d834ff3c",
       "version_major": 2,
       "version_minor": 0
      },
      "text/plain": [
       "HBox(children=(IntProgress(value=0, description='7/10(t)', max=2412, style=ProgressStyle(description_width='in…"
      ]
     },
     "metadata": {},
     "output_type": "display_data"
    },
    {
     "name": "stdout",
     "output_type": "stream",
     "text": [
      "\n"
     ]
    },
    {
     "data": {
      "application/vnd.jupyter.widget-view+json": {
       "model_id": "ce32f03debb94e3e8445b798f9e528f0",
       "version_major": 2,
       "version_minor": 0
      },
      "text/plain": [
       "HBox(children=(IntProgress(value=0, description='8/10(t)', max=2412, style=ProgressStyle(description_width='in…"
      ]
     },
     "metadata": {},
     "output_type": "display_data"
    },
    {
     "name": "stdout",
     "output_type": "stream",
     "text": [
      "\n"
     ]
    },
    {
     "data": {
      "application/vnd.jupyter.widget-view+json": {
       "model_id": "2fda2c62cb2647068bff50262d0b5f70",
       "version_major": 2,
       "version_minor": 0
      },
      "text/plain": [
       "HBox(children=(IntProgress(value=0, description='9/10(t)', max=2412, style=ProgressStyle(description_width='in…"
      ]
     },
     "metadata": {},
     "output_type": "display_data"
    },
    {
     "name": "stdout",
     "output_type": "stream",
     "text": [
      "\n"
     ]
    },
    {
     "data": {
      "text/plain": [
       "[{'train_steps': 2412, 'validation_steps': None},\n",
       " {'train_steps': 2412, 'validation_steps': None},\n",
       " {'train_steps': 2412, 'validation_steps': None},\n",
       " {'train_steps': 2412, 'validation_steps': None},\n",
       " {'train_steps': 2412, 'validation_steps': None},\n",
       " {'train_steps': 2412, 'validation_steps': None},\n",
       " {'train_steps': 2412, 'validation_steps': None},\n",
       " {'train_steps': 2412, 'validation_steps': None},\n",
       " {'train_steps': 2412, 'validation_steps': None},\n",
       " {'train_steps': 2412, 'validation_steps': None}]"
      ]
     },
     "execution_count": 73,
     "metadata": {},
     "output_type": "execute_result"
    }
   ],
   "source": [
    "# build the model \n",
    "model = BaselineModel(300, 300, 1)\n",
    "\n",
    "# define the loss function and the optimiser\n",
    "loss_function = nn.MSELoss()\n",
    "optimiser = optim.Adam(model.parameters())\n",
    "\n",
    "#training on gpu\n",
    "trial = Trial(model, optimiser, loss_function).to(device)\n",
    "trial.with_generators(trainloader)\n",
    "trial.run(epochs=10)"
   ]
  },
  {
   "cell_type": "code",
   "execution_count": 75,
   "metadata": {},
   "outputs": [
    {
     "data": {
      "image/png": "[encoded data removed]",
      "text/plain": [
       "<Figure size 432x288 with 1 Axes>"
      ]
     },
     "metadata": {
      "needs_background": "light"
     },
     "output_type": "display_data"
    }
   ],
   "source": [
    "y_pred= model(validateData.view(505,-1).float().to(device))\n",
    "y_pred.shape\n",
    "\n",
    "plt.plot(y_pred.cpu().detach().numpy(), 'r-')\n",
    "plt.plot(y_test, 'b-')\n",
    "plt.show()"
   ]
  },
  {
   "cell_type": "code",
   "execution_count": null,
   "metadata": {},
   "outputs": [],
   "source": []
  }
 ],
 "metadata": {
  "kernelspec": {
   "display_name": "Python 3",
   "language": "python",
   "name": "python3"
  },
  "language_info": {
   "codemirror_mode": {
    "name": "ipython",
    "version": 3
   },
   "file_extension": ".py",
   "mimetype": "text/x-python",
   "name": "python",
   "nbconvert_exporter": "python",
   "pygments_lexer": "ipython3",
   "version": "3.7.3"
  }
 },
 "nbformat": 4,
 "nbformat_minor": 2
}
