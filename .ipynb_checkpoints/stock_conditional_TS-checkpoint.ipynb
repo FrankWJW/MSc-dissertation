{
 "cells": [
  {
   "cell_type": "code",
   "execution_count": 160,
   "metadata": {},
   "outputs": [
    {
     "name": "stdout",
     "output_type": "stream",
     "text": [
      "The autoreload extension is already loaded. To reload it, use:\n",
      "  %reload_ext autoreload\n"
     ]
    }
   ],
   "source": [
    "%load_ext autoreload\n",
    "%autoreload 2\n",
    "\n",
    "import numpy as np\n",
    "import pandas as pd\n",
    "import torch\n",
    "import torch.nn as nn\n",
    "import torch.nn.functional as F\n",
    "# from keras.layers import Dense, Dropout, Activation, LSTM, Convolution1D, MaxPooling1D, Flatten\n",
    "# from keras.models import Sequential\n",
    "import matplotlib.pyplot as plt\n",
    "\n",
    "%matplotlib inline\n",
    "from torchbearer import Trial\n",
    "import os"
   ]
  },
  {
   "cell_type": "code",
   "execution_count": 161,
   "metadata": {},
   "outputs": [],
   "source": [
    "import torch\n",
    "import torch.nn.functional as F\n",
    "import torchvision.transforms as transforms\n",
    "import torchbearer\n",
    "from torch import nn\n",
    "from torch import optim\n",
    "from torch.utils.data import DataLoader, TensorDataset, Dataset\n",
    "from torchvision.datasets import MNIST\n",
    "from torchbearer import Trial\n",
    "import torchvision.transforms as transforms"
   ]
  },
  {
   "cell_type": "code",
   "execution_count": 162,
   "metadata": {
    "scrolled": false
   },
   "outputs": [
    {
     "name": "stdout",
     "output_type": "stream",
     "text": [
      " 驱动器 D 中的卷是 Data\n",
      " 卷的序列号是 F66F-4A2F\n",
      "\n",
      " D:\\projects\\Stock-Market-Price-Prediction-master 的目录\n",
      "\n",
      "2019/07/22  07:33    <DIR>          .\n",
      "2019/07/22  07:33    <DIR>          ..\n",
      "2019/07/21  23:04    <DIR>          .git\n",
      "2019/07/21  23:04    <DIR>          .ipynb_checkpoints\n",
      "2019/06/22  22:43           363,722 ^DJI.csv\n",
      "2019/06/26  07:18           103,280 ^GSPC.csv\n",
      "2019/07/11  23:40           165,190 ^GSPC_2011_06_01-2019_06_01.csv\n",
      "2019/07/11  20:20    <DIR>          __pycache__\n",
      "2019/07/20  20:26            41,117 1d_conv.weights\n",
      "2019/07/20  15:46           381,476 5_1_CNN-Copy1.ipynb\n",
      "2019/06/24  23:48           335,219 Archive.zip\n",
      "2019/07/20  15:49               658 CBOE yearly 04-18.csv\n",
      "2019/07/14  23:21    <DIR>          data\n",
      "2019/07/20  15:49           189,414 EUR_GBP 05-16.csv\n",
      "2019/07/20  15:49           189,007 EUR_JPY 05-16.csv\n",
      "2019/07/20  15:49           189,396 EUR_USD 05-16.csv\n",
      "2019/07/20  15:49           189,370 GBP_JPY 05-16.csv\n",
      "2019/07/20  15:49           189,425 GBP_USD 05-16.csv\n",
      "2019/07/11  20:19             8,261 misc_functions.py\n",
      "2019/07/10  04:51    <DIR>          MNIST\n",
      "2019/07/20  15:49             1,137 README.md\n",
      "2019/07/20  15:49           206,054 SP500 05-16.csv\n",
      "2019/07/22  07:33           146,430 stock_conditional_TS.ipynb\n",
      "2019/06/26  21:00           125,642 stock_conv1d.ipynb\n",
      "2019/06/26  20:44           135,759 stock_conv1d-Copy1.ipynb\n",
      "2019/06/23  21:22            70,029 stock_conv1d-out-of-sample.ipynb\n",
      "2019/07/22  07:17           211,812 stock_conv1d-pytorch.ipynb\n",
      "2019/06/26  20:49           161,120 stock_dilatedconv+lstm.ipynb\n",
      "2019/07/20  20:40             9,118 stock_lstm+conv1d.ipynb\n",
      "2019/06/23  01:20            57,626 stock_nn.ipynb\n",
      "2019/06/25  20:35            62,261 stock_rnn_lstm.ipynb\n",
      "2019/07/11  18:37             1,521 vanillabackprop.py\n",
      "2019/06/14  18:42           183,293 Volatility 05-16.csv\n",
      "              26 个文件      3,717,337 字节\n",
      "               7 个目录 33,902,039,040 可用字节\n"
     ]
    }
   ],
   "source": [
    "%ls"
   ]
  },
  {
   "cell_type": "code",
   "execution_count": 163,
   "metadata": {},
   "outputs": [
    {
     "data": {
      "text/plain": [
       "'D:\\\\projects\\\\Stock-Market-Price-Prediction-master\\\\data'"
      ]
     },
     "execution_count": 163,
     "metadata": {},
     "output_type": "execute_result"
    }
   ],
   "source": [
    "datapath = os.path.join(os.getcwd(), 'data')\n",
    "datapath"
   ]
  },
  {
   "cell_type": "code",
   "execution_count": 164,
   "metadata": {},
   "outputs": [
    {
     "name": "stdout",
     "output_type": "stream",
     "text": [
      " 驱动器 D 中的卷是 Data\n",
      " 卷的序列号是 F66F-4A2F\n",
      "\n",
      " D:\\projects\\Stock-Market-Price-Prediction-master\\data 的目录\n",
      "\n",
      "2019/07/14  23:21    <DIR>          .\n",
      "2019/07/14  23:21    <DIR>          ..\n",
      "2019/07/14  22:55           175,402 ^TNX.csv\n",
      "2019/07/14  23:21           190,344 ^VIX.csv\n",
      "2019/06/14  18:01               658 CBOE yearly 04-18.csv\n",
      "2019/06/14  18:51           189,414 EUR_GBP 05-16.csv\n",
      "2019/06/14  18:47           189,007 EUR_JPY 05-16.csv\n",
      "2019/06/14  18:44           189,396 EUR_USD 05-16.csv\n",
      "2019/06/14  18:49           189,370 GBP_JPY 05-16.csv\n",
      "2019/06/14  18:54           189,425 GBP_USD 05-16.csv\n",
      "2019/06/14  18:31           206,054 SP500 05-16.csv\n",
      "               9 个文件      1,519,070 字节\n",
      "               2 个目录 33,902,039,040 可用字节\n"
     ]
    }
   ],
   "source": [
    "%ls data"
   ]
  },
  {
   "cell_type": "code",
   "execution_count": 165,
   "metadata": {
    "scrolled": true
   },
   "outputs": [
    {
     "name": "stdout",
     "output_type": "stream",
     "text": [
      "CBOE yearly 04-18.csv \n",
      "    Change Date     Rate (%)\n",
      "32   13-Dec-17  1.25 - 1.50\n",
      "33   21-Mar-18  1.50 - 1.75\n",
      "34   13-Jun-18  1.75 - 2.00\n",
      "35   26-Sep-18  2.00 - 2.25\n",
      "36   19-Dec-18  2.25 - 2.50\n",
      "EUR_GBP 05-16.csv \n",
      "               Date   Price    Open    High     Low Change %\n",
      "3125  Jan 07, 2005  0.6981  0.7022  0.7049  0.6971   -0.64%\n",
      "3126  Jan 06, 2005  0.7026  0.7041  0.7055  0.7016   -0.24%\n",
      "3127  Jan 05, 2005  0.7043  0.7049  0.7073  0.7021   -0.17%\n",
      "3128  Jan 04, 2005  0.7055  0.7069  0.7076  0.7044   -0.20%\n",
      "3129  Jan 03, 2005  0.7069  0.7058  0.7097  0.7038   -0.01%\n",
      "EUR_JPY 05-16.csv \n",
      "               Date   Price    Open    High     Low Change %\n",
      "3125  Jan 07, 2005  136.80  138.23  138.74  136.44   -1.16%\n",
      "3126  Jan 06, 2005  138.41  138.03  138.69  137.85    0.28%\n",
      "3127  Jan 05, 2005  138.03  138.85  139.02  137.68   -0.58%\n",
      "3128  Jan 04, 2005  138.83  138.34  139.05  137.77    0.38%\n",
      "3129  Jan 03, 2005  138.31  139.07  139.31  138.06   -0.40%\n",
      "EUR_USD 05-16.csv \n",
      "               Date   Price    Open    High     Low Change %\n",
      "3125  Jan 07, 2005  1.3054  1.3171  1.3251  1.3024   -0.89%\n",
      "3126  Jan 06, 2005  1.3171  1.3262  1.3286  1.3156   -0.69%\n",
      "3127  Jan 05, 2005  1.3262  1.3282  1.3305  1.3215   -0.08%\n",
      "3128  Jan 04, 2005  1.3272  1.3466  1.3496  1.3249   -1.42%\n",
      "3129  Jan 03, 2005  1.3463  1.3547  1.3582  1.3386   -0.70%\n",
      "GBP_JPY 05-16.csv \n",
      "               Date   Price    Open    High     Low Change %\n",
      "3125  Jan 07, 2005  195.99  196.83  197.30  195.37   -0.52%\n",
      "3126  Jan 06, 2005  197.01  195.99  197.40  195.78    0.54%\n",
      "3127  Jan 05, 2005  195.96  196.93  197.04  195.53   -0.42%\n",
      "3128  Jan 04, 2005  196.78  195.69  197.08  195.05    0.60%\n",
      "3129  Jan 03, 2005  195.61  197.04  197.18  195.31   -0.45%\n",
      "GBP_USD 05-16.csv \n",
      "               Date   Price    Open    High     Low Change %\n",
      "3125  Jan 07, 2005  1.8699  1.8755  1.8867  1.8648   -0.27%\n",
      "3126  Jan 06, 2005  1.8750  1.8828  1.8857  1.8695   -0.42%\n",
      "3127  Jan 05, 2005  1.8830  1.8838  1.8903  1.8727    0.04%\n",
      "3128  Jan 04, 2005  1.8822  1.9045  1.9085  1.8781   -1.16%\n",
      "3129  Jan 03, 2005  1.9043  1.9199  1.9205  1.8981   -0.75%\n",
      "SP500 05-16.csv \n",
      "             Date        Price         Open         High          Low  \\\n",
      "3016  2016/12/23  2263.790039  2260.250000  2263.790039  2258.840088   \n",
      "3017  2016/12/27  2268.879883  2266.229980  2273.820068  2266.149902   \n",
      "3018  2016/12/28  2249.919922  2270.229980  2271.310059  2249.110107   \n",
      "3019  2016/12/29  2249.260010  2249.500000  2254.510010  2244.560059   \n",
      "3020  2016/12/30  2238.830078  2251.610107  2253.580078  2233.620117   \n",
      "\n",
      "          Volume  \n",
      "3016  2020550000  \n",
      "3017  1987080000  \n",
      "3018  2392360000  \n",
      "3019  2336370000  \n",
      "3020  2670900000  \n",
      "^TNX.csv \n",
      "             Date   Open   High    Low  Close  Adj Close  Volume\n",
      "3016  2016-12-23  2.541  2.545  2.526  2.543      2.543     0.0\n",
      "3017  2016-12-27  2.552  2.576  2.550  2.563      2.563     0.0\n",
      "3018  2016-12-28  2.560  2.563  2.503  2.506      2.506     0.0\n",
      "3019  2016-12-29  2.486  2.497  2.460  2.477      2.477     0.0\n",
      "3020  2016-12-30  2.474  2.483  2.432  2.446      2.446     0.0\n",
      "^VIX.csv \n",
      "             Date   Open   High    Low  Close  Adj Close  Volume\n",
      "3016  2016-12-23  11.38  11.81  11.35  11.44      11.44       0\n",
      "3017  2016-12-27  12.26  12.33  11.84  11.99      11.99       0\n",
      "3018  2016-12-28  11.89  13.04  11.85  12.95      12.95       0\n",
      "3019  2016-12-29  13.15  13.71  12.95  13.37      13.37       0\n",
      "3020  2016-12-30  13.20  14.68  13.05  14.04      14.04       0\n"
     ]
    }
   ],
   "source": [
    "data = []\n",
    "for i, file in enumerate(os.listdir(datapath)):\n",
    "    data.append(pd.read_csv(os.path.join(datapath,file))) \n",
    "for i in range(len(data)):\n",
    "    print(os.listdir(datapath)[i], '\\n', data[i].tail())"
   ]
  },
  {
   "cell_type": "code",
   "execution_count": 166,
   "metadata": {},
   "outputs": [
    {
     "name": "stdout",
     "output_type": "stream",
     "text": [
      "37\n",
      "3130\n",
      "3130\n",
      "3130\n",
      "3130\n",
      "3130\n",
      "3021\n",
      "3021\n",
      "3021\n"
     ]
    }
   ],
   "source": [
    "#TNX: COBE 10 years interest rate\n",
    "#VIX: COBE volitility index\n",
    "for i in range(len(data)):\n",
    "    print(len(data[i]))"
   ]
  },
  {
   "cell_type": "code",
   "execution_count": 167,
   "metadata": {},
   "outputs": [
    {
     "name": "stdout",
     "output_type": "stream",
     "text": [
      "(3021, 4)\n",
      "(3021, 4)\n",
      "(3021, 4)\n"
     ]
    }
   ],
   "source": [
    "# take TNX, VIX and SP500 and prepocessing\n",
    "sp500 = data[-3]\n",
    "tnx = data[-2]\n",
    "vix = data[-1]\n",
    "\n",
    "#take only some columns\n",
    "sp500= sp500.values[:, 1:5]\n",
    "print (sp500.shape)\n",
    "tnx= tnx.values[:, 1:5]\n",
    "print (tnx.shape)\n",
    "vix= vix.values[:, 1:5]\n",
    "print (vix.shape)"
   ]
  },
  {
   "cell_type": "code",
   "execution_count": 168,
   "metadata": {},
   "outputs": [
    {
     "name": "stdout",
     "output_type": "stream",
     "text": [
      "[[1202.079956 1211.920044 1217.800049 1200.319946]\n",
      " [1188.050049 1202.079956 1205.839966 1185.390015]\n",
      " [1183.73999 1188.050049 1192.72998 1183.719971]\n",
      " ...\n",
      " [2249.919922 2270.22998 2271.310059 2249.110107]\n",
      " [2249.26001 2249.5 2254.51001 2244.560059]\n",
      " [2238.830078 2251.610107 2253.580078 2233.6201170000004]]\n"
     ]
    }
   ],
   "source": [
    "print(sp500)"
   ]
  },
  {
   "cell_type": "code",
   "execution_count": 169,
   "metadata": {},
   "outputs": [
    {
     "name": "stdout",
     "output_type": "stream",
     "text": [
      "(3, 3020, 4) (3, 3020)\n"
     ]
    }
   ],
   "source": [
    "# split sample X and target y\n",
    "X = np.zeros((3, 3020, 4))\n",
    "X[0,:,:] = sp500[:3020, :]\n",
    "X[1,:,:] = tnx[:3020, :]\n",
    "X[2,:,:] = vix[:3020, :]\n",
    "\n",
    "y = np.zeros((3,3020))\n",
    "y[0,:] = sp500[1:, 3]\n",
    "y[1,:] = tnx[1:, 3]\n",
    "y[2,:] = vix[1:, 3]\n",
    " \n",
    "print(X.shape, y.shape)"
   ]
  },
  {
   "cell_type": "code",
   "execution_count": 170,
   "metadata": {},
   "outputs": [],
   "source": [
    "# a = int(3020*0.8)\n",
    "# X = np.zeros((3, 3020, 4)) \n",
    "# y = np.zeros((3,3020))\n",
    "# for i, data in enumerate([sp500, tnx, vix]):\n",
    "#     train = data[:a]\n",
    "#     test = data[a:]\n",
    "#     train = (train- np.min(train, axis = 0))/(np.max(train,axis=0)- np.min(train, axis=0))\n",
    "#     test = (test- np.min(test,axis=0))/(np.max(test,axis=0)- np.min(test,axis=0))\n",
    "# #     print(train.shape, test.shape)\n",
    "#     data = np.concatenate((train,test), axis=0)\n",
    "# #     print(i, data.shape)\n",
    "#     X[i,:,:] = data[:3020, :]\n",
    "#     y[i,:] = data[1:, 3]\n",
    "    \n",
    "# print(X.shape, y.shape)"
   ]
  },
  {
   "cell_type": "code",
   "execution_count": 171,
   "metadata": {},
   "outputs": [
    {
     "name": "stdout",
     "output_type": "stream",
     "text": [
      "(3020, 3) (3020,)\n"
     ]
    }
   ],
   "source": [
    "temp1 = X[0, :, 0]\n",
    "temp2 = X[1, :, 3]\n",
    "temp3 = X[2, :, 3]\n",
    "X_temp = np.array([temp1, temp2, temp3]).T\n",
    "X = X_temp\n",
    "\n",
    "y = y[0,:]\n",
    "print(X.shape, y.shape)"
   ]
  },
  {
   "cell_type": "code",
   "execution_count": 172,
   "metadata": {},
   "outputs": [
    {
     "name": "stdout",
     "output_type": "stream",
     "text": [
      "[1202.079956 1188.050049 1183.73999  ... 2268.879883 2249.919922\n",
      " 2249.26001 ] [4.22  4.283 4.277 ... 2.563 2.506 2.477] [14.08 13.98 14.09 ... 11.99 12.95 13.37]\n",
      "[[1202.079956    4.22       14.08    ]\n",
      " [1188.050049    4.283      13.98    ]\n",
      " [1183.73999     4.277      14.09    ]\n",
      " ...\n",
      " [2268.879883    2.563      11.99    ]\n",
      " [2249.919922    2.506      12.95    ]\n",
      " [2249.26001     2.477      13.37    ]] [1185.390015 1183.719971 1183.27002  ... 2249.110107 2244.560059\n",
      " 2233.620117]\n"
     ]
    }
   ],
   "source": [
    "print(temp1, temp2, temp3)\n",
    "print(X, y)"
   ]
  },
  {
   "cell_type": "code",
   "execution_count": 173,
   "metadata": {},
   "outputs": [
    {
     "data": {
      "text/html": [
       "<div>\n",
       "<style scoped>\n",
       "    .dataframe tbody tr th:only-of-type {\n",
       "        vertical-align: middle;\n",
       "    }\n",
       "\n",
       "    .dataframe tbody tr th {\n",
       "        vertical-align: top;\n",
       "    }\n",
       "\n",
       "    .dataframe thead th {\n",
       "        text-align: right;\n",
       "    }\n",
       "</style>\n",
       "<table border=\"1\" class=\"dataframe\">\n",
       "  <thead>\n",
       "    <tr style=\"text-align: right;\">\n",
       "      <th></th>\n",
       "      <th>sp500</th>\n",
       "      <th>tnx</th>\n",
       "      <th>vix</th>\n",
       "      <th>y</th>\n",
       "    </tr>\n",
       "  </thead>\n",
       "  <tbody>\n",
       "    <tr>\n",
       "      <th>3015</th>\n",
       "      <td>2260.959961</td>\n",
       "      <td>2.553</td>\n",
       "      <td>11.43</td>\n",
       "      <td>2258.840088</td>\n",
       "    </tr>\n",
       "    <tr>\n",
       "      <th>3016</th>\n",
       "      <td>2263.790039</td>\n",
       "      <td>2.543</td>\n",
       "      <td>11.44</td>\n",
       "      <td>2266.149902</td>\n",
       "    </tr>\n",
       "    <tr>\n",
       "      <th>3017</th>\n",
       "      <td>2268.879883</td>\n",
       "      <td>2.563</td>\n",
       "      <td>11.99</td>\n",
       "      <td>2249.110107</td>\n",
       "    </tr>\n",
       "    <tr>\n",
       "      <th>3018</th>\n",
       "      <td>2249.919922</td>\n",
       "      <td>2.506</td>\n",
       "      <td>12.95</td>\n",
       "      <td>2244.560059</td>\n",
       "    </tr>\n",
       "    <tr>\n",
       "      <th>3019</th>\n",
       "      <td>2249.260010</td>\n",
       "      <td>2.477</td>\n",
       "      <td>13.37</td>\n",
       "      <td>2233.620117</td>\n",
       "    </tr>\n",
       "  </tbody>\n",
       "</table>\n",
       "</div>"
      ],
      "text/plain": [
       "            sp500    tnx    vix            y\n",
       "3015  2260.959961  2.553  11.43  2258.840088\n",
       "3016  2263.790039  2.543  11.44  2266.149902\n",
       "3017  2268.879883  2.563  11.99  2249.110107\n",
       "3018  2249.919922  2.506  12.95  2244.560059\n",
       "3019  2249.260010  2.477  13.37  2233.620117"
      ]
     },
     "execution_count": 173,
     "metadata": {},
     "output_type": "execute_result"
    }
   ],
   "source": [
    "test_dict = {'sp500': X[:,0], 'tnx':X[:,1], 'vix':X[:,2], 'y':y}\n",
    "test_dict_df = pd.DataFrame(data=test_dict)\n",
    "\n",
    "test_dict_df.tail()"
   ]
  },
  {
   "cell_type": "code",
   "execution_count": 174,
   "metadata": {},
   "outputs": [
    {
     "data": {
      "text/html": [
       "<div>\n",
       "<style scoped>\n",
       "    .dataframe tbody tr th:only-of-type {\n",
       "        vertical-align: middle;\n",
       "    }\n",
       "\n",
       "    .dataframe tbody tr th {\n",
       "        vertical-align: top;\n",
       "    }\n",
       "\n",
       "    .dataframe thead th {\n",
       "        text-align: right;\n",
       "    }\n",
       "</style>\n",
       "<table border=\"1\" class=\"dataframe\">\n",
       "  <thead>\n",
       "    <tr style=\"text-align: right;\">\n",
       "      <th></th>\n",
       "      <th>sp500</th>\n",
       "      <th>tnx</th>\n",
       "      <th>vix</th>\n",
       "      <th>y</th>\n",
       "    </tr>\n",
       "  </thead>\n",
       "  <tbody>\n",
       "    <tr>\n",
       "      <th>3015</th>\n",
       "      <td>2260.959961</td>\n",
       "      <td>2.553</td>\n",
       "      <td>11.43</td>\n",
       "      <td>2258.840088</td>\n",
       "    </tr>\n",
       "    <tr>\n",
       "      <th>3016</th>\n",
       "      <td>2263.790039</td>\n",
       "      <td>2.543</td>\n",
       "      <td>11.44</td>\n",
       "      <td>2266.149902</td>\n",
       "    </tr>\n",
       "    <tr>\n",
       "      <th>3017</th>\n",
       "      <td>2268.879883</td>\n",
       "      <td>2.563</td>\n",
       "      <td>11.99</td>\n",
       "      <td>2249.110107</td>\n",
       "    </tr>\n",
       "    <tr>\n",
       "      <th>3018</th>\n",
       "      <td>2249.919922</td>\n",
       "      <td>2.506</td>\n",
       "      <td>12.95</td>\n",
       "      <td>2244.560059</td>\n",
       "    </tr>\n",
       "    <tr>\n",
       "      <th>3019</th>\n",
       "      <td>2249.260010</td>\n",
       "      <td>2.477</td>\n",
       "      <td>13.37</td>\n",
       "      <td>2233.620117</td>\n",
       "    </tr>\n",
       "  </tbody>\n",
       "</table>\n",
       "</div>"
      ],
      "text/plain": [
       "            sp500    tnx    vix            y\n",
       "3015  2260.959961  2.553  11.43  2258.840088\n",
       "3016  2263.790039  2.543  11.44  2266.149902\n",
       "3017  2268.879883  2.563  11.99  2249.110107\n",
       "3018  2249.919922  2.506  12.95  2244.560059\n",
       "3019  2249.260010  2.477  13.37  2233.620117"
      ]
     },
     "execution_count": 174,
     "metadata": {},
     "output_type": "execute_result"
    }
   ],
   "source": [
    "test_dict_df= test_dict_df.dropna(axis=0)#drop rows which may contain missing values\n",
    "test_dict_df.tail()"
   ]
  },
  {
   "cell_type": "code",
   "execution_count": 175,
   "metadata": {
    "scrolled": true
   },
   "outputs": [
    {
     "name": "stdout",
     "output_type": "stream",
     "text": [
      "(3016, 3) (3016,)\n"
     ]
    }
   ],
   "source": [
    "X = test_dict_df.values[:,0:3]\n",
    "y = test_dict_df.values[:,3]\n",
    "print(X.shape, y.shape)"
   ]
  },
  {
   "cell_type": "code",
   "execution_count": 176,
   "metadata": {},
   "outputs": [
    {
     "name": "stdout",
     "output_type": "stream",
     "text": [
      "(3016, 3) (3016,)\n"
     ]
    }
   ],
   "source": [
    "y= (y- min(y))/(max(y)- min(y)) #??? normalsation\n",
    "X= (X- np.min(X,axis=0))/(np.max(X, axis=0)-np.min(X,axis=0))\n",
    "\n",
    "print(X.shape, y.shape)"
   ]
  },
  {
   "cell_type": "code",
   "execution_count": 177,
   "metadata": {},
   "outputs": [
    {
     "name": "stdout",
     "output_type": "stream",
     "text": [
      "[[0.32945915 0.73518805 0.05903903]\n",
      " [0.32066402 0.7514168  0.05762998]\n",
      " [0.31796211 0.7498712  0.05917993]\n",
      " ...\n",
      " [0.99821959 0.30834621 0.02958997]\n",
      " [0.98633389 0.29366306 0.04311681]\n",
      " [0.9859202  0.28619268 0.0490348 ]] [0.32425474 0.32321055 0.32292921 ... 0.98934587 0.98650095 0.97966075]\n"
     ]
    }
   ],
   "source": [
    "print(X,y)"
   ]
  },
  {
   "cell_type": "code",
   "execution_count": 178,
   "metadata": {},
   "outputs": [
    {
     "name": "stdout",
     "output_type": "stream",
     "text": [
      "(2917, 100, 3) (2917,)\n"
     ]
    }
   ],
   "source": [
    "time_steps= 100 #1 to 100 days ahead\n",
    "X_new= np.zeros((X.shape[0] - time_steps +1, 100, X.shape[1]))\n",
    "y_new= np.zeros((y.shape[0] -time_steps +1,))\n",
    "for ix in range(X_new.shape[0]):\n",
    "    for jx in range(time_steps):\n",
    "        X_new[ix, jx, :]= X[ix +jx, :]\n",
    "    y_new[ix]= y[ix + time_steps -1]\n",
    "print (X_new.shape, y_new.shape)"
   ]
  },
  {
   "cell_type": "code",
   "execution_count": 179,
   "metadata": {},
   "outputs": [
    {
     "name": "stdout",
     "output_type": "stream",
     "text": [
      "(2412, 100, 3) (2412,)\n",
      "(505, 100, 3) (505,)\n"
     ]
    }
   ],
   "source": [
    "# split train/test\n",
    "split = int(0.8*X.shape[0])\n",
    "X_train = X_new[:split]\n",
    "X_test = X_new[split:]\n",
    "\n",
    "y_train = y_new[:split]\n",
    "y_test = y_new[split:]\n",
    "\n",
    "print (X_train.shape, y_train.shape)\n",
    "print (X_test.shape, y_test.shape)"
   ]
  },
  {
   "cell_type": "code",
   "execution_count": 180,
   "metadata": {},
   "outputs": [],
   "source": [
    "# data normalisation after split the train/test\n",
    "# for i in range(3):\n",
    "#     y_train[:,i]= (y_train[:,i]- min(y_train[:,i]))/(max(y_train[:,i])- min(y_train[:,i]))\n",
    "#     X_train[:,i,:,:]= (X_train[:,i,:,:]- np.min(X_train[:,i,:,:],axis=0))/(np.max(X_train[:,i,:,:], axis=0)-np.min(X_train[:,i,:,:],axis=0))\n",
    "\n",
    "#     y_test[:,i]= (y_test[:,i]- min(y_test[:,i]))/(max(y_test[:,i])- min(y_test[:,i]))\n",
    "#     X_test[:,i,:,:]= (X_test[:,i,:,:]- np.min(X_test[:,i,:,:],axis=0))/(np.max(X_test[:,i,:,:], axis=0)-np.min(X_test[:,i,:,:],axis=0))"
   ]
  },
  {
   "cell_type": "code",
   "execution_count": 181,
   "metadata": {
    "scrolled": false
   },
   "outputs": [
    {
     "name": "stdout",
     "output_type": "stream",
     "text": [
      "----------------------------------------------------------------\n",
      "        Layer (type)               Output Shape         Param #\n",
      "================================================================\n",
      "            Conv2d-1            [-1, 64, 86, 1]           2,944\n",
      "            Conv2d-2            [-1, 32, 70, 1]          30,752\n",
      "            Linear-3                    [-1, 1]           2,177\n",
      "================================================================\n",
      "Total params: 35,873\n",
      "Trainable params: 35,873\n",
      "Non-trainable params: 0\n",
      "----------------------------------------------------------------\n",
      "Input size (MB): 0.00\n",
      "Forward/backward pass size (MB): 0.06\n",
      "Params size (MB): 0.14\n",
      "Estimated Total Size (MB): 0.20\n",
      "----------------------------------------------------------------\n",
      "Net(\n",
      "  (conv1): Conv2d(1, 64, kernel_size=(15, 3), stride=(1, 1))\n",
      "  (conv2): Conv2d(64, 32, kernel_size=(15, 1), stride=(1, 1))\n",
      "  (fc1): Linear(in_features=2176, out_features=1, bias=True)\n",
      ")\n"
     ]
    }
   ],
   "source": [
    "#Network model\n",
    "from torchsummary import summary\n",
    "    \n",
    "class Net(nn.Module):  \n",
    "    def __init__(self):\n",
    "        super(Net, self).__init__()\n",
    "        \n",
    "        self.conv1 = nn.Conv2d(1, 64, kernel_size = (15, 3), padding=0)\n",
    "        self.conv2 = nn.Conv2d(64, 32, kernel_size = (15, 1), padding=0)\n",
    "        self.fc1 = nn.Linear(2176 , 1)\n",
    "        \n",
    "        \n",
    "    def forward(self,x):\n",
    "        out = self.conv1(x)\n",
    "        out = F.max_pool2d(out, kernel_size = (3, 1), stride=(1, 1))\n",
    "        out = self.conv2(out)\n",
    "        out = F.max_pool2d(out, kernel_size = (3, 1), stride=(1, 1))\n",
    "        out = out.view(out.shape[0], -1)\n",
    "        out = self.fc1(out)\n",
    "#         out = F.sigmoid(out)\n",
    "        return out\n",
    "\n",
    "    \n",
    "device = torch.device(\"cuda\" if torch.cuda.is_available() else \"cpu\")\n",
    "model = Net().to(device)\n",
    "\n",
    "\n",
    "# summary(your_model, input_size=(channels, H, W))\n",
    "summary(model,(1, 100, 3))\n",
    "print(model)"
   ]
  },
  {
   "cell_type": "code",
   "execution_count": 182,
   "metadata": {},
   "outputs": [
    {
     "name": "stdout",
     "output_type": "stream",
     "text": [
      "torch.Size([2412, 100, 3]) torch.Size([2412]) torch.Size([505, 100, 3])\n"
     ]
    }
   ],
   "source": [
    "#convert to torch\n",
    "trainData = torch.from_numpy(X_train)\n",
    "testData = torch.from_numpy(y_train)\n",
    "validateData = torch.from_numpy(X_test)\n",
    "print(trainData.shape, testData.shape, validateData.shape)\n",
    "# testData = testData.view(testData.shape[0],3,-1)"
   ]
  },
  {
   "cell_type": "code",
   "execution_count": 183,
   "metadata": {},
   "outputs": [
    {
     "name": "stdout",
     "output_type": "stream",
     "text": [
      "torch.Size([2412, 1, 100, 3]) torch.Size([2412, 1]) torch.Size([505, 1, 100, 3])\n"
     ]
    }
   ],
   "source": [
    "trainData = trainData.view(2412,-1,100,3)\n",
    "testData = testData.view(2412,-1)\n",
    "\n",
    "validateData = validateData.view(validateData.shape[0],-1,100,3)\n",
    "print(trainData.shape,testData.shape,validateData.shape)"
   ]
  },
  {
   "cell_type": "code",
   "execution_count": 184,
   "metadata": {},
   "outputs": [
    {
     "name": "stdout",
     "output_type": "stream",
     "text": [
      "torch.Size([1, 100, 3]) torch.Size([1])\n"
     ]
    }
   ],
   "source": [
    "train = TensorDataset(trainData, testData)\n",
    "# print(train[0])\n",
    "tr, te = train[0]\n",
    "print(tr.shape, te.shape)"
   ]
  },
  {
   "cell_type": "code",
   "execution_count": 185,
   "metadata": {},
   "outputs": [
    {
     "name": "stdout",
     "output_type": "stream",
     "text": [
      "<class 'torch.Tensor'>\n",
      "torch.Size([256, 1, 100, 3])\n",
      "torch.Size([256, 1])\n"
     ]
    }
   ],
   "source": [
    "#train loader\n",
    "trainloader = DataLoader(train, batch_size=256, shuffle=True)\n",
    "\n",
    "dataiter = iter(trainloader)\n",
    "images, labels = dataiter.next()\n",
    "print(type(images)) \n",
    "print(images.shape)\n",
    "print(labels.shape)"
   ]
  },
  {
   "cell_type": "code",
   "execution_count": 187,
   "metadata": {},
   "outputs": [],
   "source": [
    "from torch import optim\n",
    "# define the loss function and the optimiser\n",
    "loss_function = nn.MSELoss()\n",
    "optimiser = optim.Adam(model.parameters())\n"
   ]
  },
  {
   "cell_type": "code",
   "execution_count": 188,
   "metadata": {},
   "outputs": [
    {
     "name": "stdout",
     "output_type": "stream",
     "text": [
      "cuda\n"
     ]
    },
    {
     "data": {
      "application/vnd.jupyter.widget-view+json": {
       "model_id": "5cb60434eb3e4923baf544be8894856d",
       "version_major": 2,
       "version_minor": 0
      },
      "text/plain": [
       "HBox(children=(IntProgress(value=0, description='0/10(t)', max=10, style=ProgressStyle(description_width='init…"
      ]
     },
     "metadata": {},
     "output_type": "display_data"
    },
    {
     "name": "stdout",
     "output_type": "stream",
     "text": [
      "\n"
     ]
    },
    {
     "data": {
      "application/vnd.jupyter.widget-view+json": {
       "model_id": "066333889c2c4a2699ae31a841b1c729",
       "version_major": 2,
       "version_minor": 0
      },
      "text/plain": [
       "HBox(children=(IntProgress(value=0, description='1/10(t)', max=10, style=ProgressStyle(description_width='init…"
      ]
     },
     "metadata": {},
     "output_type": "display_data"
    },
    {
     "name": "stdout",
     "output_type": "stream",
     "text": [
      "\n"
     ]
    },
    {
     "data": {
      "application/vnd.jupyter.widget-view+json": {
       "model_id": "bcba2c560fde44b9a78e1309b80d3d51",
       "version_major": 2,
       "version_minor": 0
      },
      "text/plain": [
       "HBox(children=(IntProgress(value=0, description='2/10(t)', max=10, style=ProgressStyle(description_width='init…"
      ]
     },
     "metadata": {},
     "output_type": "display_data"
    },
    {
     "name": "stdout",
     "output_type": "stream",
     "text": [
      "\n"
     ]
    },
    {
     "data": {
      "application/vnd.jupyter.widget-view+json": {
       "model_id": "4c96ed63ce404326b40be002ce894aff",
       "version_major": 2,
       "version_minor": 0
      },
      "text/plain": [
       "HBox(children=(IntProgress(value=0, description='3/10(t)', max=10, style=ProgressStyle(description_width='init…"
      ]
     },
     "metadata": {},
     "output_type": "display_data"
    },
    {
     "name": "stdout",
     "output_type": "stream",
     "text": [
      "\n"
     ]
    },
    {
     "data": {
      "application/vnd.jupyter.widget-view+json": {
       "model_id": "3085e87b46754762879669d4738d0c42",
       "version_major": 2,
       "version_minor": 0
      },
      "text/plain": [
       "HBox(children=(IntProgress(value=0, description='4/10(t)', max=10, style=ProgressStyle(description_width='init…"
      ]
     },
     "metadata": {},
     "output_type": "display_data"
    },
    {
     "name": "stdout",
     "output_type": "stream",
     "text": [
      "\n"
     ]
    },
    {
     "data": {
      "application/vnd.jupyter.widget-view+json": {
       "model_id": "1b8570358cab4fd7b77892c3690fc955",
       "version_major": 2,
       "version_minor": 0
      },
      "text/plain": [
       "HBox(children=(IntProgress(value=0, description='5/10(t)', max=10, style=ProgressStyle(description_width='init…"
      ]
     },
     "metadata": {},
     "output_type": "display_data"
    },
    {
     "name": "stdout",
     "output_type": "stream",
     "text": [
      "\n"
     ]
    },
    {
     "data": {
      "application/vnd.jupyter.widget-view+json": {
       "model_id": "dacefcd0c729473d8d57b166af4f59e3",
       "version_major": 2,
       "version_minor": 0
      },
      "text/plain": [
       "HBox(children=(IntProgress(value=0, description='6/10(t)', max=10, style=ProgressStyle(description_width='init…"
      ]
     },
     "metadata": {},
     "output_type": "display_data"
    },
    {
     "name": "stdout",
     "output_type": "stream",
     "text": [
      "\n"
     ]
    },
    {
     "data": {
      "application/vnd.jupyter.widget-view+json": {
       "model_id": "ba5d6a78fccc4d29b8868d8fb09727c0",
       "version_major": 2,
       "version_minor": 0
      },
      "text/plain": [
       "HBox(children=(IntProgress(value=0, description='7/10(t)', max=10, style=ProgressStyle(description_width='init…"
      ]
     },
     "metadata": {},
     "output_type": "display_data"
    },
    {
     "name": "stdout",
     "output_type": "stream",
     "text": [
      "\n"
     ]
    },
    {
     "data": {
      "application/vnd.jupyter.widget-view+json": {
       "model_id": "751cd4e11682456fae04bdbe73c550e7",
       "version_major": 2,
       "version_minor": 0
      },
      "text/plain": [
       "HBox(children=(IntProgress(value=0, description='8/10(t)', max=10, style=ProgressStyle(description_width='init…"
      ]
     },
     "metadata": {},
     "output_type": "display_data"
    },
    {
     "name": "stdout",
     "output_type": "stream",
     "text": [
      "\n"
     ]
    },
    {
     "data": {
      "application/vnd.jupyter.widget-view+json": {
       "model_id": "d67ef6231765499db31d09872bb99f0d",
       "version_major": 2,
       "version_minor": 0
      },
      "text/plain": [
       "HBox(children=(IntProgress(value=0, description='9/10(t)', max=10, style=ProgressStyle(description_width='init…"
      ]
     },
     "metadata": {},
     "output_type": "display_data"
    },
    {
     "name": "stdout",
     "output_type": "stream",
     "text": [
      "\n"
     ]
    },
    {
     "data": {
      "text/plain": [
       "[{'train_steps': 10, 'validation_steps': None},\n",
       " {'train_steps': 10, 'validation_steps': None},\n",
       " {'train_steps': 10, 'validation_steps': None},\n",
       " {'train_steps': 10, 'validation_steps': None},\n",
       " {'train_steps': 10, 'validation_steps': None},\n",
       " {'train_steps': 10, 'validation_steps': None},\n",
       " {'train_steps': 10, 'validation_steps': None},\n",
       " {'train_steps': 10, 'validation_steps': None},\n",
       " {'train_steps': 10, 'validation_steps': None},\n",
       " {'train_steps': 10, 'validation_steps': None}]"
      ]
     },
     "execution_count": 188,
     "metadata": {},
     "output_type": "execute_result"
    }
   ],
   "source": [
    "# pytorch method for training\n",
    "print(device)\n",
    "trial = Trial(model, optimiser, loss_function).to(device)\n",
    "trial.with_generators(trainloader)\n",
    "trial.run(epochs=10)"
   ]
  },
  {
   "cell_type": "code",
   "execution_count": 189,
   "metadata": {},
   "outputs": [
    {
     "data": {
      "text/plain": [
       "torch.Size([505, 1])"
      ]
     },
     "execution_count": 189,
     "metadata": {},
     "output_type": "execute_result"
    }
   ],
   "source": [
    "y_pred= model(validateData.float().to(device))\n",
    "y_pred.shape"
   ]
  },
  {
   "cell_type": "code",
   "execution_count": 190,
   "metadata": {},
   "outputs": [
    {
     "data": {
      "image/png": "[encoded data removed]",
      "text/plain": [
       "<Figure size 432x288 with 1 Axes>"
      ]
     },
     "metadata": {
      "needs_background": "light"
     },
     "output_type": "display_data"
    }
   ],
   "source": [
    "plt.plot(y_pred.cpu().detach().numpy(), 'r-')\n",
    "plt.plot(y_test, 'b-')\n",
    "plt.show()"
   ]
  },
  {
   "cell_type": "code",
   "execution_count": 191,
   "metadata": {
    "scrolled": true
   },
   "outputs": [
    {
     "data": {
      "text/plain": [
       "tensor([[0.8333],\n",
       "        [0.8335],\n",
       "        [0.8320],\n",
       "        [0.8321],\n",
       "        [0.8300],\n",
       "        [0.8286],\n",
       "        [0.8268],\n",
       "        [0.8251],\n",
       "        [0.8263],\n",
       "        [0.8269],\n",
       "        [0.8268],\n",
       "        [0.8254],\n",
       "        [0.8268],\n",
       "        [0.8248],\n",
       "        [0.8250],\n",
       "        [0.8231],\n",
       "        [0.8234],\n",
       "        [0.8262],\n",
       "        [0.8302],\n",
       "        [0.8319],\n",
       "        [0.8350],\n",
       "        [0.8369],\n",
       "        [0.8376],\n",
       "        [0.8388],\n",
       "        [0.8390],\n",
       "        [0.8401],\n",
       "        [0.8401],\n",
       "        [0.8383],\n",
       "        [0.8389],\n",
       "        [0.8406],\n",
       "        [0.8406],\n",
       "        [0.8417],\n",
       "        [0.8425],\n",
       "        [0.8446],\n",
       "        [0.8491],\n",
       "        [0.8527],\n",
       "        [0.8543],\n",
       "        [0.8550],\n",
       "        [0.8565],\n",
       "        [0.8608],\n",
       "        [0.8636],\n",
       "        [0.8686],\n",
       "        [0.8703],\n",
       "        [0.8688],\n",
       "        [0.8673],\n",
       "        [0.8683],\n",
       "        [0.8712],\n",
       "        [0.8694],\n",
       "        [0.8720],\n",
       "        [0.8743],\n",
       "        [0.8774],\n",
       "        [0.8773],\n",
       "        [0.8766],\n",
       "        [0.8756],\n",
       "        [0.8725],\n",
       "        [0.8730],\n",
       "        [0.8719],\n",
       "        [0.8741],\n",
       "        [0.8747],\n",
       "        [0.8769],\n",
       "        [0.8763],\n",
       "        [0.8785],\n",
       "        [0.8797],\n",
       "        [0.8797],\n",
       "        [0.8816],\n",
       "        [0.8796],\n",
       "        [0.8800],\n",
       "        [0.8796],\n",
       "        [0.8803],\n",
       "        [0.8816],\n",
       "        [0.8789],\n",
       "        [0.8791],\n",
       "        [0.8793],\n",
       "        [0.8816],\n",
       "        [0.8843],\n",
       "        [0.8860],\n",
       "        [0.8881],\n",
       "        [0.8891],\n",
       "        [0.8905],\n",
       "        [0.8928],\n",
       "        [0.8966],\n",
       "        [0.8982],\n",
       "        [0.8994],\n",
       "        [0.8998],\n",
       "        [0.8995],\n",
       "        [0.8983],\n",
       "        [0.8997],\n",
       "        [0.9010],\n",
       "        [0.9005],\n",
       "        [0.9015],\n",
       "        [0.9016],\n",
       "        [0.9015],\n",
       "        [0.9005],\n",
       "        [0.9004],\n",
       "        [0.8979],\n",
       "        [0.8982],\n",
       "        [0.8984],\n",
       "        [0.8979],\n",
       "        [0.8988],\n",
       "        [0.8993],\n",
       "        [0.9010],\n",
       "        [0.8995],\n",
       "        [0.8992],\n",
       "        [0.8988],\n",
       "        [0.8994],\n",
       "        [0.8995],\n",
       "        [0.9010],\n",
       "        [0.8997],\n",
       "        [0.9000],\n",
       "        [0.8983],\n",
       "        [0.8973],\n",
       "        [0.8955],\n",
       "        [0.8935],\n",
       "        [0.8943],\n",
       "        [0.8948],\n",
       "        [0.8945],\n",
       "        [0.8947],\n",
       "        [0.8939],\n",
       "        [0.8940],\n",
       "        [0.8955],\n",
       "        [0.8953],\n",
       "        [0.8976],\n",
       "        [0.8970],\n",
       "        [0.8977],\n",
       "        [0.8996],\n",
       "        [0.9007],\n",
       "        [0.9014],\n",
       "        [0.9013],\n",
       "        [0.9006],\n",
       "        [0.9013],\n",
       "        [0.9001],\n",
       "        [0.8973],\n",
       "        [0.8968],\n",
       "        [0.8957],\n",
       "        [0.8972],\n",
       "        [0.8982],\n",
       "        [0.8976],\n",
       "        [0.8950],\n",
       "        [0.8930],\n",
       "        [0.8926],\n",
       "        [0.8917],\n",
       "        [0.8887],\n",
       "        [0.8900],\n",
       "        [0.8913],\n",
       "        [0.8943],\n",
       "        [0.8963],\n",
       "        [0.8965],\n",
       "        [0.8965],\n",
       "        [0.8957],\n",
       "        [0.8989],\n",
       "        [0.9010],\n",
       "        [0.9016],\n",
       "        [0.9008],\n",
       "        [0.8996],\n",
       "        [0.9006],\n",
       "        [0.9014],\n",
       "        [0.9033],\n",
       "        [0.9028],\n",
       "        [0.9021],\n",
       "        [0.9016],\n",
       "        [0.9056],\n",
       "        [0.9098],\n",
       "        [0.9113],\n",
       "        [0.9121],\n",
       "        [0.9110],\n",
       "        [0.9081],\n",
       "        [0.9052],\n",
       "        [0.9003],\n",
       "        [0.8956],\n",
       "        [0.8903],\n",
       "        [0.8838],\n",
       "        [0.8757],\n",
       "        [0.8718],\n",
       "        [0.8638],\n",
       "        [0.8572],\n",
       "        [0.8488],\n",
       "        [0.8422],\n",
       "        [0.8371],\n",
       "        [0.8294],\n",
       "        [0.8228],\n",
       "        [0.8170],\n",
       "        [0.8136],\n",
       "        [0.8094],\n",
       "        [0.8046],\n",
       "        [0.8008],\n",
       "        [0.7959],\n",
       "        [0.7965],\n",
       "        [0.7955],\n",
       "        [0.7960],\n",
       "        [0.7964],\n",
       "        [0.7976],\n",
       "        [0.7983],\n",
       "        [0.8011],\n",
       "        [0.8081],\n",
       "        [0.8123],\n",
       "        [0.8104],\n",
       "        [0.8114],\n",
       "        [0.8092],\n",
       "        [0.8157],\n",
       "        [0.8203],\n",
       "        [0.8280],\n",
       "        [0.8367],\n",
       "        [0.8376],\n",
       "        [0.8363],\n",
       "        [0.8384],\n",
       "        [0.8393],\n",
       "        [0.8407],\n",
       "        [0.8390],\n",
       "        [0.8411],\n",
       "        [0.8442],\n",
       "        [0.8478],\n",
       "        [0.8519],\n",
       "        [0.8577],\n",
       "        [0.8587],\n",
       "        [0.8617],\n",
       "        [0.8727],\n",
       "        [0.8738],\n",
       "        [0.8785],\n",
       "        [0.8782],\n",
       "        [0.8785],\n",
       "        [0.8805],\n",
       "        [0.8791],\n",
       "        [0.8774],\n",
       "        [0.8728],\n",
       "        [0.8705],\n",
       "        [0.8716],\n",
       "        [0.8687],\n",
       "        [0.8640],\n",
       "        [0.8614],\n",
       "        [0.8570],\n",
       "        [0.8470],\n",
       "        [0.8435],\n",
       "        [0.8400],\n",
       "        [0.8428],\n",
       "        [0.8444],\n",
       "        [0.8454],\n",
       "        [0.8468],\n",
       "        [0.8449],\n",
       "        [0.8458],\n",
       "        [0.8449],\n",
       "        [0.8444],\n",
       "        [0.8473],\n",
       "        [0.8552],\n",
       "        [0.8531],\n",
       "        [0.8519],\n",
       "        [0.8509],\n",
       "        [0.8501],\n",
       "        [0.8474],\n",
       "        [0.8479],\n",
       "        [0.8490],\n",
       "        [0.8489],\n",
       "        [0.8515],\n",
       "        [0.8519],\n",
       "        [0.8527],\n",
       "        [0.8513],\n",
       "        [0.8506],\n",
       "        [0.8507],\n",
       "        [0.8527],\n",
       "        [0.8549],\n",
       "        [0.8561],\n",
       "        [0.8576],\n",
       "        [0.8555],\n",
       "        [0.8554],\n",
       "        [0.8535],\n",
       "        [0.8528],\n",
       "        [0.8505],\n",
       "        [0.8483],\n",
       "        [0.8462],\n",
       "        [0.8422],\n",
       "        [0.8410],\n",
       "        [0.8406],\n",
       "        [0.8414],\n",
       "        [0.8368],\n",
       "        [0.8339],\n",
       "        [0.8304],\n",
       "        [0.8269],\n",
       "        [0.8259],\n",
       "        [0.8201],\n",
       "        [0.8173],\n",
       "        [0.8138],\n",
       "        [0.8080],\n",
       "        [0.8070],\n",
       "        [0.8042],\n",
       "        [0.8009],\n",
       "        [0.8012],\n",
       "        [0.7986],\n",
       "        [0.7974],\n",
       "        [0.7960],\n",
       "        [0.7953],\n",
       "        [0.7979],\n",
       "        [0.8007],\n",
       "        [0.8052],\n",
       "        [0.8072],\n",
       "        [0.8074],\n",
       "        [0.8105],\n",
       "        [0.8101],\n",
       "        [0.8070],\n",
       "        [0.8055],\n",
       "        [0.8035],\n",
       "        [0.8043],\n",
       "        [0.8061],\n",
       "        [0.8061],\n",
       "        [0.8089],\n",
       "        [0.8069],\n",
       "        [0.8042],\n",
       "        [0.8068],\n",
       "        [0.8124],\n",
       "        [0.8125],\n",
       "        [0.8158],\n",
       "        [0.8179],\n",
       "        [0.8222],\n",
       "        [0.8244],\n",
       "        [0.8253],\n",
       "        [0.8256],\n",
       "        [0.8277],\n",
       "        [0.8303],\n",
       "        [0.8335],\n",
       "        [0.8367],\n",
       "        [0.8392],\n",
       "        [0.8383],\n",
       "        [0.8371],\n",
       "        [0.8335],\n",
       "        [0.8336],\n",
       "        [0.8324],\n",
       "        [0.8330],\n",
       "        [0.8327],\n",
       "        [0.8331],\n",
       "        [0.8338],\n",
       "        [0.8344],\n",
       "        [0.8372],\n",
       "        [0.8387],\n",
       "        [0.8418],\n",
       "        [0.8430],\n",
       "        [0.8440],\n",
       "        [0.8436],\n",
       "        [0.8464],\n",
       "        [0.8469],\n",
       "        [0.8489],\n",
       "        [0.8500],\n",
       "        [0.8512],\n",
       "        [0.8529],\n",
       "        [0.8520],\n",
       "        [0.8515],\n",
       "        [0.8536],\n",
       "        [0.8545],\n",
       "        [0.8538],\n",
       "        [0.8565],\n",
       "        [0.8576],\n",
       "        [0.8579],\n",
       "        [0.8584],\n",
       "        [0.8599],\n",
       "        [0.8617],\n",
       "        [0.8624],\n",
       "        [0.8625],\n",
       "        [0.8609],\n",
       "        [0.8603],\n",
       "        [0.8605],\n",
       "        [0.8613],\n",
       "        [0.8613],\n",
       "        [0.8631],\n",
       "        [0.8640],\n",
       "        [0.8659],\n",
       "        [0.8660],\n",
       "        [0.8660],\n",
       "        [0.8686],\n",
       "        [0.8708],\n",
       "        [0.8740],\n",
       "        [0.8766],\n",
       "        [0.8790],\n",
       "        [0.8803],\n",
       "        [0.8825],\n",
       "        [0.8822],\n",
       "        [0.8818],\n",
       "        [0.8801],\n",
       "        [0.8782],\n",
       "        [0.8787],\n",
       "        [0.8770],\n",
       "        [0.8765],\n",
       "        [0.8771],\n",
       "        [0.8736],\n",
       "        [0.8723],\n",
       "        [0.8699],\n",
       "        [0.8658],\n",
       "        [0.8633],\n",
       "        [0.8615],\n",
       "        [0.8631],\n",
       "        [0.8661],\n",
       "        [0.8675],\n",
       "        [0.8680],\n",
       "        [0.8690],\n",
       "        [0.8688],\n",
       "        [0.8714],\n",
       "        [0.8738],\n",
       "        [0.8787],\n",
       "        [0.8816],\n",
       "        [0.8844],\n",
       "        [0.8868],\n",
       "        [0.8899],\n",
       "        [0.8922],\n",
       "        [0.8942],\n",
       "        [0.8987],\n",
       "        [0.9035],\n",
       "        [0.9062],\n",
       "        [0.9099],\n",
       "        [0.9153],\n",
       "        [0.9179],\n",
       "        [0.9211],\n",
       "        [0.9224],\n",
       "        [0.9241],\n",
       "        [0.9246],\n",
       "        [0.9242],\n",
       "        [0.9268],\n",
       "        [0.9275],\n",
       "        [0.9274],\n",
       "        [0.9291],\n",
       "        [0.9281],\n",
       "        [0.9262],\n",
       "        [0.9248],\n",
       "        [0.9247],\n",
       "        [0.9264],\n",
       "        [0.9276],\n",
       "        [0.9284],\n",
       "        [0.9317],\n",
       "        [0.9323],\n",
       "        [0.9319],\n",
       "        [0.9325],\n",
       "        [0.9339],\n",
       "        [0.9353],\n",
       "        [0.9355],\n",
       "        [0.9367],\n",
       "        [0.9373],\n",
       "        [0.9356],\n",
       "        [0.9344],\n",
       "        [0.9354],\n",
       "        [0.9323],\n",
       "        [0.9316],\n",
       "        [0.9318],\n",
       "        [0.9311],\n",
       "        [0.9300],\n",
       "        [0.9292],\n",
       "        [0.9281],\n",
       "        [0.9243],\n",
       "        [0.9238],\n",
       "        [0.9230],\n",
       "        [0.9269],\n",
       "        [0.9291],\n",
       "        [0.9308],\n",
       "        [0.9313],\n",
       "        [0.9319],\n",
       "        [0.9328],\n",
       "        [0.9376],\n",
       "        [0.9397],\n",
       "        [0.9395],\n",
       "        [0.9377],\n",
       "        [0.9402],\n",
       "        [0.9416],\n",
       "        [0.9427],\n",
       "        [0.9418],\n",
       "        [0.9403],\n",
       "        [0.9421],\n",
       "        [0.9425],\n",
       "        [0.9418],\n",
       "        [0.9409],\n",
       "        [0.9406],\n",
       "        [0.9406],\n",
       "        [0.9415],\n",
       "        [0.9416],\n",
       "        [0.9405],\n",
       "        [0.9393],\n",
       "        [0.9386],\n",
       "        [0.9390],\n",
       "        [0.9360],\n",
       "        [0.9321],\n",
       "        [0.9287],\n",
       "        [0.9253],\n",
       "        [0.9224],\n",
       "        [0.9205],\n",
       "        [0.9203],\n",
       "        [0.9191],\n",
       "        [0.9174],\n",
       "        [0.9179],\n",
       "        [0.9189],\n",
       "        [0.9200],\n",
       "        [0.9217],\n",
       "        [0.9219],\n",
       "        [0.9223],\n",
       "        [0.9246],\n",
       "        [0.9268],\n",
       "        [0.9284],\n",
       "        [0.9295],\n",
       "        [0.9308],\n",
       "        [0.9334],\n",
       "        [0.9362],\n",
       "        [0.9379],\n",
       "        [0.9390],\n",
       "        [0.9422],\n",
       "        [0.9436],\n",
       "        [0.9467],\n",
       "        [0.9482],\n",
       "        [0.9495],\n",
       "        [0.9523],\n",
       "        [0.9559],\n",
       "        [0.9574],\n",
       "        [0.9588],\n",
       "        [0.9593]], device='cuda:0', grad_fn=<AddmmBackward>)"
      ]
     },
     "execution_count": 191,
     "metadata": {},
     "output_type": "execute_result"
    }
   ],
   "source": [
    "y_pred"
   ]
  }
 ],
 "metadata": {
  "kernelspec": {
   "display_name": "Python 3",
   "language": "python",
   "name": "python3"
  },
  "language_info": {
   "codemirror_mode": {
    "name": "ipython",
    "version": 3
   },
   "file_extension": ".py",
   "mimetype": "text/x-python",
   "name": "python",
   "nbconvert_exporter": "python",
   "pygments_lexer": "ipython3",
   "version": "3.7.3"
  }
 },
 "nbformat": 4,
 "nbformat_minor": 2
}
