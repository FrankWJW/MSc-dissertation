{
 "cells": [
  {
   "cell_type": "code",
   "execution_count": 1,
   "metadata": {},
   "outputs": [],
   "source": [
    "%load_ext autoreload\n",
    "%autoreload 2\n",
    "\n",
    "import numpy as np\n",
    "import pandas as pd\n",
    "import torch\n",
    "import torch.nn as nn\n",
    "import torch.nn.functional as F\n",
    "# from keras.layers import Dense, Dropout, Activation, LSTM, Convolution1D, MaxPooling1D, Flatten\n",
    "# from keras.models import Sequential\n",
    "import matplotlib.pyplot as plt\n",
    "\n",
    "%matplotlib inline\n",
    "from torchbearer import Trial\n",
    "import os\n"
   ]
  },
  {
   "cell_type": "code",
   "execution_count": 2,
   "metadata": {},
   "outputs": [],
   "source": [
    "import torch\n",
    "import torch.nn.functional as F\n",
    "import torchvision.transforms as transforms\n",
    "import torchbearer\n",
    "from torch import nn\n",
    "from torch import optim\n",
    "from torch.utils.data import DataLoader, TensorDataset, Dataset\n",
    "from torchvision.datasets import MNIST\n",
    "from torchbearer import Trial\n",
    "import torchvision.transforms as transforms"
   ]
  },
  {
   "cell_type": "code",
   "execution_count": 3,
   "metadata": {},
   "outputs": [
    {
     "name": "stdout",
     "output_type": "stream",
     "text": [
      " 驱动器 D 中的卷是 Data\n",
      " 卷的序列号是 F66F-4A2F\n",
      "\n",
      " D:\\projects\\Stock-Market-Price-Prediction-master 的目录\n",
      "\n",
      "2019/07/16  09:23    <DIR>          .\n",
      "2019/07/16  09:23    <DIR>          ..\n",
      "2019/07/11  23:44    <DIR>          .ipynb_checkpoints\n",
      "2019/06/22  22:43           363,722 ^DJI.csv\n",
      "2019/06/26  07:18           103,280 ^GSPC.csv\n",
      "2019/07/11  23:40           165,190 ^GSPC_2011_06_01-2019_06_01.csv\n",
      "2019/07/11  20:20    <DIR>          __pycache__\n",
      "2019/07/06  04:11           381,476 5_1_CNN-Copy1.ipynb\n",
      "2019/06/24  23:48           335,219 Archive.zip\n",
      "2019/07/14  23:21    <DIR>          data\n",
      "2019/07/11  20:19             8,261 misc_functions.py\n",
      "2019/07/10  04:51    <DIR>          MNIST\n",
      "2018/01/07  17:01             1,031 README.md\n",
      "2019/07/16  09:23            12,957 stock_conditional_TS.ipynb\n",
      "2019/06/26  21:00           125,642 stock_conv1d.ipynb\n",
      "2019/06/26  20:44           135,759 stock_conv1d-Copy1.ipynb\n",
      "2019/06/23  21:22            70,029 stock_conv1d-out-of-sample.ipynb\n",
      "2019/07/16  09:19           211,812 stock_conv1d-pytorch.ipynb\n",
      "2019/06/26  20:49           161,120 stock_dilatedconv+lstm.ipynb\n",
      "2019/06/26  20:46           118,194 stock_lstm+conv1d.ipynb\n",
      "2019/06/23  01:20            57,626 stock_nn.ipynb\n",
      "2019/06/25  20:35            62,261 stock_rnn_lstm.ipynb\n",
      "2019/07/11  18:37             1,521 vanillabackprop.py\n",
      "2019/06/14  18:42           183,293 Volatility 05-16.csv\n",
      "              18 个文件      2,498,393 字节\n",
      "               6 个目录 24,953,167,872 可用字节\n"
     ]
    }
   ],
   "source": [
    "%ls"
   ]
  },
  {
   "cell_type": "code",
   "execution_count": 4,
   "metadata": {},
   "outputs": [
    {
     "data": {
      "text/plain": [
       "'D:\\\\projects\\\\Stock-Market-Price-Prediction-master\\\\data'"
      ]
     },
     "execution_count": 4,
     "metadata": {},
     "output_type": "execute_result"
    }
   ],
   "source": [
    "datapath = os.path.join(os.getcwd(), 'data')\n",
    "datapath"
   ]
  },
  {
   "cell_type": "code",
   "execution_count": 5,
   "metadata": {},
   "outputs": [
    {
     "name": "stdout",
     "output_type": "stream",
     "text": [
      " 驱动器 D 中的卷是 Data\n",
      " 卷的序列号是 F66F-4A2F\n",
      "\n",
      " D:\\projects\\Stock-Market-Price-Prediction-master\\data 的目录\n",
      "\n",
      "2019/07/14  23:21    <DIR>          .\n",
      "2019/07/14  23:21    <DIR>          ..\n",
      "2019/07/14  22:55           175,402 ^TNX.csv\n",
      "2019/07/14  23:21           190,344 ^VIX.csv\n",
      "2019/06/14  18:01               658 CBOE yearly 04-18.csv\n",
      "2019/06/14  18:51           189,414 EUR_GBP 05-16.csv\n",
      "2019/06/14  18:47           189,007 EUR_JPY 05-16.csv\n",
      "2019/06/14  18:44           189,396 EUR_USD 05-16.csv\n",
      "2019/06/14  18:49           189,370 GBP_JPY 05-16.csv\n",
      "2019/06/14  18:54           189,425 GBP_USD 05-16.csv\n",
      "2019/06/14  18:31           206,054 SP500 05-16.csv\n",
      "               9 个文件      1,519,070 字节\n",
      "               2 个目录 24,953,167,872 可用字节\n"
     ]
    }
   ],
   "source": [
    "%ls data"
   ]
  },
  {
   "cell_type": "code",
   "execution_count": 6,
   "metadata": {},
   "outputs": [
    {
     "name": "stdout",
     "output_type": "stream",
     "text": [
      "CBOE yearly 04-18.csv \n",
      "    Change Date     Rate (%)\n",
      "32   13-Dec-17  1.25 - 1.50\n",
      "33   21-Mar-18  1.50 - 1.75\n",
      "34   13-Jun-18  1.75 - 2.00\n",
      "35   26-Sep-18  2.00 - 2.25\n",
      "36   19-Dec-18  2.25 - 2.50\n",
      "EUR_GBP 05-16.csv \n",
      "               Date   Price    Open    High     Low Change %\n",
      "3125  Jan 07, 2005  0.6981  0.7022  0.7049  0.6971   -0.64%\n",
      "3126  Jan 06, 2005  0.7026  0.7041  0.7055  0.7016   -0.24%\n",
      "3127  Jan 05, 2005  0.7043  0.7049  0.7073  0.7021   -0.17%\n",
      "3128  Jan 04, 2005  0.7055  0.7069  0.7076  0.7044   -0.20%\n",
      "3129  Jan 03, 2005  0.7069  0.7058  0.7097  0.7038   -0.01%\n",
      "EUR_JPY 05-16.csv \n",
      "               Date   Price    Open    High     Low Change %\n",
      "3125  Jan 07, 2005  136.80  138.23  138.74  136.44   -1.16%\n",
      "3126  Jan 06, 2005  138.41  138.03  138.69  137.85    0.28%\n",
      "3127  Jan 05, 2005  138.03  138.85  139.02  137.68   -0.58%\n",
      "3128  Jan 04, 2005  138.83  138.34  139.05  137.77    0.38%\n",
      "3129  Jan 03, 2005  138.31  139.07  139.31  138.06   -0.40%\n",
      "EUR_USD 05-16.csv \n",
      "               Date   Price    Open    High     Low Change %\n",
      "3125  Jan 07, 2005  1.3054  1.3171  1.3251  1.3024   -0.89%\n",
      "3126  Jan 06, 2005  1.3171  1.3262  1.3286  1.3156   -0.69%\n",
      "3127  Jan 05, 2005  1.3262  1.3282  1.3305  1.3215   -0.08%\n",
      "3128  Jan 04, 2005  1.3272  1.3466  1.3496  1.3249   -1.42%\n",
      "3129  Jan 03, 2005  1.3463  1.3547  1.3582  1.3386   -0.70%\n",
      "GBP_JPY 05-16.csv \n",
      "               Date   Price    Open    High     Low Change %\n",
      "3125  Jan 07, 2005  195.99  196.83  197.30  195.37   -0.52%\n",
      "3126  Jan 06, 2005  197.01  195.99  197.40  195.78    0.54%\n",
      "3127  Jan 05, 2005  195.96  196.93  197.04  195.53   -0.42%\n",
      "3128  Jan 04, 2005  196.78  195.69  197.08  195.05    0.60%\n",
      "3129  Jan 03, 2005  195.61  197.04  197.18  195.31   -0.45%\n",
      "GBP_USD 05-16.csv \n",
      "               Date   Price    Open    High     Low Change %\n",
      "3125  Jan 07, 2005  1.8699  1.8755  1.8867  1.8648   -0.27%\n",
      "3126  Jan 06, 2005  1.8750  1.8828  1.8857  1.8695   -0.42%\n",
      "3127  Jan 05, 2005  1.8830  1.8838  1.8903  1.8727    0.04%\n",
      "3128  Jan 04, 2005  1.8822  1.9045  1.9085  1.8781   -1.16%\n",
      "3129  Jan 03, 2005  1.9043  1.9199  1.9205  1.8981   -0.75%\n",
      "SP500 05-16.csv \n",
      "             Date        Price         Open         High          Low  \\\n",
      "3016  2016/12/23  2263.790039  2260.250000  2263.790039  2258.840088   \n",
      "3017  2016/12/27  2268.879883  2266.229980  2273.820068  2266.149902   \n",
      "3018  2016/12/28  2249.919922  2270.229980  2271.310059  2249.110107   \n",
      "3019  2016/12/29  2249.260010  2249.500000  2254.510010  2244.560059   \n",
      "3020  2016/12/30  2238.830078  2251.610107  2253.580078  2233.620117   \n",
      "\n",
      "          Volume  \n",
      "3016  2020550000  \n",
      "3017  1987080000  \n",
      "3018  2392360000  \n",
      "3019  2336370000  \n",
      "3020  2670900000  \n",
      "^TNX.csv \n",
      "             Date   Open   High    Low  Close  Adj Close  Volume\n",
      "3016  2016-12-23  2.541  2.545  2.526  2.543      2.543     0.0\n",
      "3017  2016-12-27  2.552  2.576  2.550  2.563      2.563     0.0\n",
      "3018  2016-12-28  2.560  2.563  2.503  2.506      2.506     0.0\n",
      "3019  2016-12-29  2.486  2.497  2.460  2.477      2.477     0.0\n",
      "3020  2016-12-30  2.474  2.483  2.432  2.446      2.446     0.0\n",
      "^VIX.csv \n",
      "             Date   Open   High    Low  Close  Adj Close  Volume\n",
      "3016  2016-12-23  11.38  11.81  11.35  11.44      11.44       0\n",
      "3017  2016-12-27  12.26  12.33  11.84  11.99      11.99       0\n",
      "3018  2016-12-28  11.89  13.04  11.85  12.95      12.95       0\n",
      "3019  2016-12-29  13.15  13.71  12.95  13.37      13.37       0\n",
      "3020  2016-12-30  13.20  14.68  13.05  14.04      14.04       0\n"
     ]
    }
   ],
   "source": [
    "data = []\n",
    "for i, file in enumerate(os.listdir(datapath)):\n",
    "    data.append(pd.read_csv(os.path.join(datapath,file))) \n",
    "for i in range(len(data)):\n",
    "    print(os.listdir(datapath)[i], '\\n', data[i].tail())"
   ]
  },
  {
   "cell_type": "code",
   "execution_count": 7,
   "metadata": {},
   "outputs": [
    {
     "name": "stdout",
     "output_type": "stream",
     "text": [
      "37\n",
      "3130\n",
      "3130\n",
      "3130\n",
      "3130\n",
      "3130\n",
      "3021\n",
      "3021\n",
      "3021\n"
     ]
    }
   ],
   "source": [
    "#TNX: COBE 10 years interest rate\n",
    "#VIX: COBE volitility index\n",
    "for i in range(len(data)):\n",
    "    print(len(data[i]))"
   ]
  },
  {
   "cell_type": "code",
   "execution_count": 8,
   "metadata": {},
   "outputs": [
    {
     "name": "stdout",
     "output_type": "stream",
     "text": [
      "(3021, 4)\n",
      "(3021, 4)\n",
      "(3021, 4)\n"
     ]
    }
   ],
   "source": [
    "# take TNX, VIX and SP500 and prepocessing\n",
    "sp500 = data[-3]\n",
    "tnx = data[-2]\n",
    "vix = data[-1]\n",
    "\n",
    "#take only some columns\n",
    "sp500= sp500.values[:, 1:5]\n",
    "print (sp500.shape)\n",
    "tnx= tnx.values[:, 1:5]\n",
    "print (tnx.shape)\n",
    "vix= vix.values[:, 1:5]\n",
    "print (vix.shape)"
   ]
  },
  {
   "cell_type": "code",
   "execution_count": 9,
   "metadata": {},
   "outputs": [
    {
     "name": "stdout",
     "output_type": "stream",
     "text": [
      "[[1202.079956 1211.920044 1217.800049 1200.319946]\n",
      " [1188.050049 1202.079956 1205.839966 1185.390015]\n",
      " [1183.73999 1188.050049 1192.72998 1183.719971]\n",
      " ...\n",
      " [2249.919922 2270.22998 2271.310059 2249.110107]\n",
      " [2249.26001 2249.5 2254.51001 2244.560059]\n",
      " [2238.830078 2251.610107 2253.580078 2233.6201170000004]]\n"
     ]
    }
   ],
   "source": [
    "print(sp500)"
   ]
  },
  {
   "cell_type": "code",
   "execution_count": 10,
   "metadata": {},
   "outputs": [
    {
     "name": "stdout",
     "output_type": "stream",
     "text": [
      "(3, 3020, 4) (3, 3020)\n"
     ]
    }
   ],
   "source": [
    "#split sample X and target y\n",
    "X = np.zeros((3, 3020, 4))\n",
    "X[0,:,:] = sp500[:3020, :]\n",
    "X[1,:,:] = tnx[:3020, :]\n",
    "X[2,:,:] = vix[:3020, :]\n",
    "\n",
    "y = np.zeros((3,3020))\n",
    "y[0,:] = sp500[1:, 3]\n",
    "y[1,:] = tnx[1:, 3]\n",
    "y[2,:] = vix[1:, 3]\n",
    "\n",
    "print(X.shape, y.shape)"
   ]
  },
  {
   "cell_type": "code",
   "execution_count": 23,
   "metadata": {},
   "outputs": [
    {
     "name": "stdout",
     "output_type": "stream",
     "text": [
      "(2921, 3, 100, 4) (2921, 3)\n"
     ]
    }
   ],
   "source": [
    "#making the forecasting window\n",
    "time_steps= 100 #1 to 100 days ahead\n",
    "X_new= np.zeros(( X.shape[1] - time_steps +1, X.shape[0], 100, X.shape[2]))\n",
    "y_new= np.zeros((y.shape[1] -time_steps +1, y.shape[0]))\n",
    "for i in range(3):\n",
    "    for ix in range(X_new.shape[1]):\n",
    "        for jx in range(time_steps):\n",
    "            X_new[ix, i, jx, :]= X[i, ix +jx, :]\n",
    "        y_new[ix, i]= y[i, ix + time_steps -1]\n",
    "print (X_new.shape, y_new.shape)"
   ]
  },
  {
   "cell_type": "code",
   "execution_count": 26,
   "metadata": {},
   "outputs": [
    {
     "name": "stdout",
     "output_type": "stream",
     "text": [
      "(2416, 3, 100, 4) (2416, 3)\n",
      "(505, 3, 100, 4) (505, 3)\n"
     ]
    }
   ],
   "source": [
    "# split train/test\n",
    "split = int(0.8*X.shape[1])\n",
    "X_train = X_new[:split]\n",
    "X_test = X_new[split:]\n",
    "\n",
    "y_train = y_new[:split]\n",
    "y_test = y_new[split:]\n",
    "\n",
    "print (X_train.shape, y_train.shape)\n",
    "print (X_test.shape, y_test.shape)"
   ]
  },
  {
   "cell_type": "code",
   "execution_count": 27,
   "metadata": {},
   "outputs": [
    {
     "name": "stdout",
     "output_type": "stream",
     "text": [
      "----------------------------------------------------------------\n",
      "        Layer (type)               Output Shape         Param #\n",
      "================================================================\n",
      "            Conv2d-1            [-1, 64, 86, 1]          11,584\n",
      "            Conv2d-2            [-1, 32, 69, 1]          30,752\n",
      "            Linear-3                    [-1, 1]           2,113\n",
      "================================================================\n",
      "Total params: 44,449\n",
      "Trainable params: 44,449\n",
      "Non-trainable params: 0\n",
      "----------------------------------------------------------------\n",
      "Input size (MB): 0.00\n",
      "Forward/backward pass size (MB): 0.06\n",
      "Params size (MB): 0.17\n",
      "Estimated Total Size (MB): 0.23\n",
      "----------------------------------------------------------------\n",
      "Net(\n",
      "  (conv1): Conv2d(3, 64, kernel_size=(15, 4), stride=(1, 1))\n",
      "  (conv2): Conv2d(64, 32, kernel_size=(15, 1), stride=(1, 1))\n",
      "  (fc1): Linear(in_features=2112, out_features=1, bias=True)\n",
      ")\n"
     ]
    }
   ],
   "source": [
    "#Network model\n",
    "from torchsummary import summary\n",
    "    \n",
    "class Net(nn.Module):  \n",
    "    def __init__(self):\n",
    "        super(Net, self).__init__()\n",
    "        \n",
    "        self.conv1 = nn.Conv2d(3, 64, kernel_size = (15, 4), padding=0)\n",
    "        self.conv2 = nn.Conv2d(64, 32, kernel_size = (15, 1), padding=0)\n",
    "        self.fc1 = nn.Linear(2112 , 1)\n",
    "        \n",
    "        \n",
    "    def forward(self,x):\n",
    "        out = self.conv1(x)\n",
    "        out = F.max_pool2d(out, kernel_size = (4, 1), stride=(1, 1))\n",
    "        out = self.conv2(out)\n",
    "        out = F.max_pool2d(out, kernel_size = (4, 1), stride=(1, 1))\n",
    "        out = out.view(out.shape[0], -1)\n",
    "        out = self.fc1(out)\n",
    "        out = F.sigmoid(out)\n",
    "        return out\n",
    "\n",
    "    \n",
    "device = torch.device(\"cuda\" if torch.cuda.is_available() else \"cpu\")\n",
    "model = Net().to(device)\n",
    "\n",
    "\n",
    "# summary(your_model, input_size=(channels, H, W))\n",
    "summary(model,(3, 100, 4))\n",
    "print(model)"
   ]
  },
  {
   "cell_type": "code",
   "execution_count": 28,
   "metadata": {},
   "outputs": [],
   "source": [
    "#convert to torch\n",
    "trainData = torch.from_numpy(X_train)\n",
    "testData = torch.from_numpy(y_train)\n",
    "validateData = torch.from_numpy(X_test)"
   ]
  },
  {
   "cell_type": "code",
   "execution_count": 29,
   "metadata": {},
   "outputs": [
    {
     "name": "stdout",
     "output_type": "stream",
     "text": [
      "torch.Size([3, 100, 4]) torch.Size([3])\n"
     ]
    }
   ],
   "source": [
    "train = TensorDataset(trainData, testData)\n",
    "# print(train[0])\n",
    "tr, te = train[0]\n",
    "print(tr.shape, te.shape)"
   ]
  },
  {
   "cell_type": "code",
   "execution_count": 30,
   "metadata": {},
   "outputs": [
    {
     "name": "stdout",
     "output_type": "stream",
     "text": [
      "<class 'torch.Tensor'>\n",
      "torch.Size([256, 3, 100, 4])\n",
      "torch.Size([256, 3])\n"
     ]
    }
   ],
   "source": [
    "#train loader\n",
    "trainloader = DataLoader(train, batch_size=256, shuffle=True)\n",
    "\n",
    "dataiter = iter(trainloader)\n",
    "images, labels = dataiter.next()\n",
    "print(type(images))\n",
    "print(images.shape)\n",
    "print(labels.shape)"
   ]
  },
  {
   "cell_type": "code",
   "execution_count": 32,
   "metadata": {},
   "outputs": [],
   "source": [
    "from torch import optim\n",
    "# define the loss function and the optimiser\n",
    "loss_function = nn.MSELoss()\n",
    "optimiser = optim.Adam(model.parameters())\n"
   ]
  },
  {
   "cell_type": "code",
   "execution_count": 33,
   "metadata": {},
   "outputs": [
    {
     "name": "stdout",
     "output_type": "stream",
     "text": [
      "cuda\n"
     ]
    },
    {
     "data": {
      "application/vnd.jupyter.widget-view+json": {
       "model_id": "2c6c13abfac34b0082ad438ed9831ddf",
       "version_major": 2,
       "version_minor": 0
      },
      "text/plain": [
       "HBox(children=(IntProgress(value=0, description='0/100(t)', max=10, style=ProgressStyle(description_width='ini…"
      ]
     },
     "metadata": {},
     "output_type": "display_data"
    },
    {
     "name": "stderr",
     "output_type": "stream",
     "text": [
      "D:\\anaconda\\lib\\site-packages\\torch\\nn\\modules\\loss.py:443: UserWarning: Using a target size (torch.Size([256, 3])) that is different to the input size (torch.Size([256, 1])). This will likely lead to incorrect results due to broadcasting. Please ensure they have the same size.\n",
      "  return F.mse_loss(input, target, reduction=self.reduction)\n",
      "D:\\anaconda\\lib\\site-packages\\torch\\nn\\modules\\loss.py:443: UserWarning: Using a target size (torch.Size([112, 3])) that is different to the input size (torch.Size([112, 1])). This will likely lead to incorrect results due to broadcasting. Please ensure they have the same size.\n",
      "  return F.mse_loss(input, target, reduction=self.reduction)\n"
     ]
    },
    {
     "name": "stdout",
     "output_type": "stream",
     "text": [
      "\n"
     ]
    },
    {
     "data": {
      "application/vnd.jupyter.widget-view+json": {
       "model_id": "8761cdf35a684acc9869f6d7e1e94d8f",
       "version_major": 2,
       "version_minor": 0
      },
      "text/plain": [
       "HBox(children=(IntProgress(value=0, description='1/100(t)', max=10, style=ProgressStyle(description_width='ini…"
      ]
     },
     "metadata": {},
     "output_type": "display_data"
    },
    {
     "name": "stdout",
     "output_type": "stream",
     "text": [
      "\n"
     ]
    },
    {
     "data": {
      "application/vnd.jupyter.widget-view+json": {
       "model_id": "6e7224652df24e06be8095dfe99668a8",
       "version_major": 2,
       "version_minor": 0
      },
      "text/plain": [
       "HBox(children=(IntProgress(value=0, description='2/100(t)', max=10, style=ProgressStyle(description_width='ini…"
      ]
     },
     "metadata": {},
     "output_type": "display_data"
    },
    {
     "name": "stdout",
     "output_type": "stream",
     "text": [
      "\n"
     ]
    },
    {
     "data": {
      "application/vnd.jupyter.widget-view+json": {
       "model_id": "1c3d11de03504fdd8df949f8e2a3f765",
       "version_major": 2,
       "version_minor": 0
      },
      "text/plain": [
       "HBox(children=(IntProgress(value=0, description='3/100(t)', max=10, style=ProgressStyle(description_width='ini…"
      ]
     },
     "metadata": {},
     "output_type": "display_data"
    },
    {
     "name": "stdout",
     "output_type": "stream",
     "text": [
      "\n"
     ]
    },
    {
     "data": {
      "application/vnd.jupyter.widget-view+json": {
       "model_id": "7396a5ac0f764a00862c9ebda1888afc",
       "version_major": 2,
       "version_minor": 0
      },
      "text/plain": [
       "HBox(children=(IntProgress(value=0, description='4/100(t)', max=10, style=ProgressStyle(description_width='ini…"
      ]
     },
     "metadata": {},
     "output_type": "display_data"
    },
    {
     "name": "stdout",
     "output_type": "stream",
     "text": [
      "\n"
     ]
    },
    {
     "data": {
      "application/vnd.jupyter.widget-view+json": {
       "model_id": "d51d24e4ddc547ae993bbe773a27d1d0",
       "version_major": 2,
       "version_minor": 0
      },
      "text/plain": [
       "HBox(children=(IntProgress(value=0, description='5/100(t)', max=10, style=ProgressStyle(description_width='ini…"
      ]
     },
     "metadata": {},
     "output_type": "display_data"
    },
    {
     "name": "stdout",
     "output_type": "stream",
     "text": [
      "\n"
     ]
    },
    {
     "data": {
      "application/vnd.jupyter.widget-view+json": {
       "model_id": "c80b8d5074c244658f2a355394d2d9d0",
       "version_major": 2,
       "version_minor": 0
      },
      "text/plain": [
       "HBox(children=(IntProgress(value=0, description='6/100(t)', max=10, style=ProgressStyle(description_width='ini…"
      ]
     },
     "metadata": {},
     "output_type": "display_data"
    },
    {
     "name": "stdout",
     "output_type": "stream",
     "text": [
      "\n"
     ]
    },
    {
     "data": {
      "application/vnd.jupyter.widget-view+json": {
       "model_id": "6c601762bc6542c4b87fff8236f4737b",
       "version_major": 2,
       "version_minor": 0
      },
      "text/plain": [
       "HBox(children=(IntProgress(value=0, description='7/100(t)', max=10, style=ProgressStyle(description_width='ini…"
      ]
     },
     "metadata": {},
     "output_type": "display_data"
    },
    {
     "name": "stdout",
     "output_type": "stream",
     "text": [
      "\n"
     ]
    },
    {
     "data": {
      "application/vnd.jupyter.widget-view+json": {
       "model_id": "5f118cb0978f41b0a7b243a7addc5110",
       "version_major": 2,
       "version_minor": 0
      },
      "text/plain": [
       "HBox(children=(IntProgress(value=0, description='8/100(t)', max=10, style=ProgressStyle(description_width='ini…"
      ]
     },
     "metadata": {},
     "output_type": "display_data"
    },
    {
     "name": "stdout",
     "output_type": "stream",
     "text": [
      "\n"
     ]
    },
    {
     "data": {
      "application/vnd.jupyter.widget-view+json": {
       "model_id": "5f32eda35ec04cb2aa3b14839319b74f",
       "version_major": 2,
       "version_minor": 0
      },
      "text/plain": [
       "HBox(children=(IntProgress(value=0, description='9/100(t)', max=10, style=ProgressStyle(description_width='ini…"
      ]
     },
     "metadata": {},
     "output_type": "display_data"
    },
    {
     "name": "stdout",
     "output_type": "stream",
     "text": [
      "\n"
     ]
    },
    {
     "data": {
      "application/vnd.jupyter.widget-view+json": {
       "model_id": "b703af2270db4988ad621a0af89117e6",
       "version_major": 2,
       "version_minor": 0
      },
      "text/plain": [
       "HBox(children=(IntProgress(value=0, description='10/100(t)', max=10, style=ProgressStyle(description_width='in…"
      ]
     },
     "metadata": {},
     "output_type": "display_data"
    },
    {
     "name": "stdout",
     "output_type": "stream",
     "text": [
      "\n"
     ]
    },
    {
     "data": {
      "application/vnd.jupyter.widget-view+json": {
       "model_id": "82cd41904f43468e8fa2a1ff523f8d89",
       "version_major": 2,
       "version_minor": 0
      },
      "text/plain": [
       "HBox(children=(IntProgress(value=0, description='11/100(t)', max=10, style=ProgressStyle(description_width='in…"
      ]
     },
     "metadata": {},
     "output_type": "display_data"
    },
    {
     "name": "stdout",
     "output_type": "stream",
     "text": [
      "\n"
     ]
    },
    {
     "data": {
      "application/vnd.jupyter.widget-view+json": {
       "model_id": "951024a0702041de8b588669373c6e77",
       "version_major": 2,
       "version_minor": 0
      },
      "text/plain": [
       "HBox(children=(IntProgress(value=0, description='12/100(t)', max=10, style=ProgressStyle(description_width='in…"
      ]
     },
     "metadata": {},
     "output_type": "display_data"
    },
    {
     "name": "stdout",
     "output_type": "stream",
     "text": [
      "\n"
     ]
    },
    {
     "data": {
      "application/vnd.jupyter.widget-view+json": {
       "model_id": "b18656532cb14da8adf9039fe963a502",
       "version_major": 2,
       "version_minor": 0
      },
      "text/plain": [
       "HBox(children=(IntProgress(value=0, description='13/100(t)', max=10, style=ProgressStyle(description_width='in…"
      ]
     },
     "metadata": {},
     "output_type": "display_data"
    },
    {
     "name": "stdout",
     "output_type": "stream",
     "text": [
      "\n"
     ]
    },
    {
     "data": {
      "application/vnd.jupyter.widget-view+json": {
       "model_id": "5fed03e2b279460880390a2ebdffe70a",
       "version_major": 2,
       "version_minor": 0
      },
      "text/plain": [
       "HBox(children=(IntProgress(value=0, description='14/100(t)', max=10, style=ProgressStyle(description_width='in…"
      ]
     },
     "metadata": {},
     "output_type": "display_data"
    },
    {
     "name": "stdout",
     "output_type": "stream",
     "text": [
      "\n"
     ]
    },
    {
     "data": {
      "application/vnd.jupyter.widget-view+json": {
       "model_id": "f4ae30ef605845bca20b491b9808a819",
       "version_major": 2,
       "version_minor": 0
      },
      "text/plain": [
       "HBox(children=(IntProgress(value=0, description='15/100(t)', max=10, style=ProgressStyle(description_width='in…"
      ]
     },
     "metadata": {},
     "output_type": "display_data"
    },
    {
     "name": "stdout",
     "output_type": "stream",
     "text": [
      "\n"
     ]
    },
    {
     "data": {
      "application/vnd.jupyter.widget-view+json": {
       "model_id": "7a33117081c541f0acffffd760ba38d3",
       "version_major": 2,
       "version_minor": 0
      },
      "text/plain": [
       "HBox(children=(IntProgress(value=0, description='16/100(t)', max=10, style=ProgressStyle(description_width='in…"
      ]
     },
     "metadata": {},
     "output_type": "display_data"
    },
    {
     "name": "stdout",
     "output_type": "stream",
     "text": [
      "\n"
     ]
    },
    {
     "data": {
      "application/vnd.jupyter.widget-view+json": {
       "model_id": "1897237762fb4359abe481c6121f1006",
       "version_major": 2,
       "version_minor": 0
      },
      "text/plain": [
       "HBox(children=(IntProgress(value=0, description='17/100(t)', max=10, style=ProgressStyle(description_width='in…"
      ]
     },
     "metadata": {},
     "output_type": "display_data"
    },
    {
     "name": "stdout",
     "output_type": "stream",
     "text": [
      "\n"
     ]
    },
    {
     "data": {
      "application/vnd.jupyter.widget-view+json": {
       "model_id": "371391e02db449328ecc6e1dc54ad7ec",
       "version_major": 2,
       "version_minor": 0
      },
      "text/plain": [
       "HBox(children=(IntProgress(value=0, description='18/100(t)', max=10, style=ProgressStyle(description_width='in…"
      ]
     },
     "metadata": {},
     "output_type": "display_data"
    },
    {
     "name": "stdout",
     "output_type": "stream",
     "text": [
      "\n"
     ]
    },
    {
     "data": {
      "application/vnd.jupyter.widget-view+json": {
       "model_id": "56fe4790b19d4e89a6418ab87333eb43",
       "version_major": 2,
       "version_minor": 0
      },
      "text/plain": [
       "HBox(children=(IntProgress(value=0, description='19/100(t)', max=10, style=ProgressStyle(description_width='in…"
      ]
     },
     "metadata": {},
     "output_type": "display_data"
    },
    {
     "name": "stdout",
     "output_type": "stream",
     "text": [
      "\n"
     ]
    },
    {
     "data": {
      "application/vnd.jupyter.widget-view+json": {
       "model_id": "11322b5b04104b90910c94e2529be19f",
       "version_major": 2,
       "version_minor": 0
      },
      "text/plain": [
       "HBox(children=(IntProgress(value=0, description='20/100(t)', max=10, style=ProgressStyle(description_width='in…"
      ]
     },
     "metadata": {},
     "output_type": "display_data"
    },
    {
     "name": "stdout",
     "output_type": "stream",
     "text": [
      "\n"
     ]
    },
    {
     "data": {
      "application/vnd.jupyter.widget-view+json": {
       "model_id": "41e37b47215642728a77bde1e8c0b8ad",
       "version_major": 2,
       "version_minor": 0
      },
      "text/plain": [
       "HBox(children=(IntProgress(value=0, description='21/100(t)', max=10, style=ProgressStyle(description_width='in…"
      ]
     },
     "metadata": {},
     "output_type": "display_data"
    },
    {
     "name": "stdout",
     "output_type": "stream",
     "text": [
      "\n"
     ]
    },
    {
     "data": {
      "application/vnd.jupyter.widget-view+json": {
       "model_id": "577826a32c254ed993c48f4432f3c180",
       "version_major": 2,
       "version_minor": 0
      },
      "text/plain": [
       "HBox(children=(IntProgress(value=0, description='22/100(t)', max=10, style=ProgressStyle(description_width='in…"
      ]
     },
     "metadata": {},
     "output_type": "display_data"
    },
    {
     "name": "stdout",
     "output_type": "stream",
     "text": [
      "\n"
     ]
    },
    {
     "data": {
      "application/vnd.jupyter.widget-view+json": {
       "model_id": "fa2cbd8e8ed8418c9b91fafde4d42e13",
       "version_major": 2,
       "version_minor": 0
      },
      "text/plain": [
       "HBox(children=(IntProgress(value=0, description='23/100(t)', max=10, style=ProgressStyle(description_width='in…"
      ]
     },
     "metadata": {},
     "output_type": "display_data"
    },
    {
     "name": "stdout",
     "output_type": "stream",
     "text": [
      "\n"
     ]
    },
    {
     "data": {
      "application/vnd.jupyter.widget-view+json": {
       "model_id": "b55eb03622c5421f9e76f12beb8aef7d",
       "version_major": 2,
       "version_minor": 0
      },
      "text/plain": [
       "HBox(children=(IntProgress(value=0, description='24/100(t)', max=10, style=ProgressStyle(description_width='in…"
      ]
     },
     "metadata": {},
     "output_type": "display_data"
    },
    {
     "name": "stdout",
     "output_type": "stream",
     "text": [
      "\n"
     ]
    },
    {
     "data": {
      "application/vnd.jupyter.widget-view+json": {
       "model_id": "1af42414ab67409d89941af9907c56e9",
       "version_major": 2,
       "version_minor": 0
      },
      "text/plain": [
       "HBox(children=(IntProgress(value=0, description='25/100(t)', max=10, style=ProgressStyle(description_width='in…"
      ]
     },
     "metadata": {},
     "output_type": "display_data"
    },
    {
     "name": "stdout",
     "output_type": "stream",
     "text": [
      "\n"
     ]
    },
    {
     "data": {
      "application/vnd.jupyter.widget-view+json": {
       "model_id": "366ab385fbcb4cfbafc475b61829482c",
       "version_major": 2,
       "version_minor": 0
      },
      "text/plain": [
       "HBox(children=(IntProgress(value=0, description='26/100(t)', max=10, style=ProgressStyle(description_width='in…"
      ]
     },
     "metadata": {},
     "output_type": "display_data"
    },
    {
     "name": "stdout",
     "output_type": "stream",
     "text": [
      "\n"
     ]
    },
    {
     "data": {
      "application/vnd.jupyter.widget-view+json": {
       "model_id": "b9950b67d0fa47a99f9546f2fc9752b4",
       "version_major": 2,
       "version_minor": 0
      },
      "text/plain": [
       "HBox(children=(IntProgress(value=0, description='27/100(t)', max=10, style=ProgressStyle(description_width='in…"
      ]
     },
     "metadata": {},
     "output_type": "display_data"
    },
    {
     "name": "stdout",
     "output_type": "stream",
     "text": [
      "\n"
     ]
    },
    {
     "data": {
      "application/vnd.jupyter.widget-view+json": {
       "model_id": "1030e824e1a94d29959a27cf369e59e4",
       "version_major": 2,
       "version_minor": 0
      },
      "text/plain": [
       "HBox(children=(IntProgress(value=0, description='28/100(t)', max=10, style=ProgressStyle(description_width='in…"
      ]
     },
     "metadata": {},
     "output_type": "display_data"
    },
    {
     "name": "stdout",
     "output_type": "stream",
     "text": [
      "\n"
     ]
    },
    {
     "data": {
      "application/vnd.jupyter.widget-view+json": {
       "model_id": "1f0253f4c36249859df45f3e260c7dce",
       "version_major": 2,
       "version_minor": 0
      },
      "text/plain": [
       "HBox(children=(IntProgress(value=0, description='29/100(t)', max=10, style=ProgressStyle(description_width='in…"
      ]
     },
     "metadata": {},
     "output_type": "display_data"
    },
    {
     "name": "stdout",
     "output_type": "stream",
     "text": [
      "\n"
     ]
    },
    {
     "data": {
      "application/vnd.jupyter.widget-view+json": {
       "model_id": "bdd403873225433cb83182c09cac5e55",
       "version_major": 2,
       "version_minor": 0
      },
      "text/plain": [
       "HBox(children=(IntProgress(value=0, description='30/100(t)', max=10, style=ProgressStyle(description_width='in…"
      ]
     },
     "metadata": {},
     "output_type": "display_data"
    },
    {
     "name": "stdout",
     "output_type": "stream",
     "text": [
      "\n"
     ]
    },
    {
     "data": {
      "application/vnd.jupyter.widget-view+json": {
       "model_id": "14a147280d9c4d28bdf2ad279b20aaa9",
       "version_major": 2,
       "version_minor": 0
      },
      "text/plain": [
       "HBox(children=(IntProgress(value=0, description='31/100(t)', max=10, style=ProgressStyle(description_width='in…"
      ]
     },
     "metadata": {},
     "output_type": "display_data"
    },
    {
     "name": "stdout",
     "output_type": "stream",
     "text": [
      "\n"
     ]
    },
    {
     "data": {
      "application/vnd.jupyter.widget-view+json": {
       "model_id": "ff8d424aaaf641968a6fa170efd83147",
       "version_major": 2,
       "version_minor": 0
      },
      "text/plain": [
       "HBox(children=(IntProgress(value=0, description='32/100(t)', max=10, style=ProgressStyle(description_width='in…"
      ]
     },
     "metadata": {},
     "output_type": "display_data"
    },
    {
     "name": "stdout",
     "output_type": "stream",
     "text": [
      "\n"
     ]
    },
    {
     "data": {
      "application/vnd.jupyter.widget-view+json": {
       "model_id": "cf1a0c81dc7d461d9dd33900677e5ccc",
       "version_major": 2,
       "version_minor": 0
      },
      "text/plain": [
       "HBox(children=(IntProgress(value=0, description='33/100(t)', max=10, style=ProgressStyle(description_width='in…"
      ]
     },
     "metadata": {},
     "output_type": "display_data"
    },
    {
     "name": "stdout",
     "output_type": "stream",
     "text": [
      "\n"
     ]
    },
    {
     "data": {
      "application/vnd.jupyter.widget-view+json": {
       "model_id": "8a74c2ee28d146f5a8d9c0e8d0d41ad7",
       "version_major": 2,
       "version_minor": 0
      },
      "text/plain": [
       "HBox(children=(IntProgress(value=0, description='34/100(t)', max=10, style=ProgressStyle(description_width='in…"
      ]
     },
     "metadata": {},
     "output_type": "display_data"
    },
    {
     "name": "stdout",
     "output_type": "stream",
     "text": [
      "\n"
     ]
    },
    {
     "data": {
      "application/vnd.jupyter.widget-view+json": {
       "model_id": "e212e82f5e8d465386eecd5b7cfd54eb",
       "version_major": 2,
       "version_minor": 0
      },
      "text/plain": [
       "HBox(children=(IntProgress(value=0, description='35/100(t)', max=10, style=ProgressStyle(description_width='in…"
      ]
     },
     "metadata": {},
     "output_type": "display_data"
    },
    {
     "name": "stdout",
     "output_type": "stream",
     "text": [
      "\n"
     ]
    },
    {
     "data": {
      "application/vnd.jupyter.widget-view+json": {
       "model_id": "287fb4354b6545ca8e6991e6e408f581",
       "version_major": 2,
       "version_minor": 0
      },
      "text/plain": [
       "HBox(children=(IntProgress(value=0, description='36/100(t)', max=10, style=ProgressStyle(description_width='in…"
      ]
     },
     "metadata": {},
     "output_type": "display_data"
    },
    {
     "name": "stdout",
     "output_type": "stream",
     "text": [
      "\n"
     ]
    },
    {
     "data": {
      "application/vnd.jupyter.widget-view+json": {
       "model_id": "a37eb14c573e4655b58165ca51eb4d96",
       "version_major": 2,
       "version_minor": 0
      },
      "text/plain": [
       "HBox(children=(IntProgress(value=0, description='37/100(t)', max=10, style=ProgressStyle(description_width='in…"
      ]
     },
     "metadata": {},
     "output_type": "display_data"
    },
    {
     "name": "stdout",
     "output_type": "stream",
     "text": [
      "\n"
     ]
    },
    {
     "data": {
      "application/vnd.jupyter.widget-view+json": {
       "model_id": "34c9a011a8594117a3ab3ea9ea114371",
       "version_major": 2,
       "version_minor": 0
      },
      "text/plain": [
       "HBox(children=(IntProgress(value=0, description='38/100(t)', max=10, style=ProgressStyle(description_width='in…"
      ]
     },
     "metadata": {},
     "output_type": "display_data"
    },
    {
     "name": "stdout",
     "output_type": "stream",
     "text": [
      "\n"
     ]
    },
    {
     "data": {
      "application/vnd.jupyter.widget-view+json": {
       "model_id": "79c26c54b37e48dda73034c9bbf5f930",
       "version_major": 2,
       "version_minor": 0
      },
      "text/plain": [
       "HBox(children=(IntProgress(value=0, description='39/100(t)', max=10, style=ProgressStyle(description_width='in…"
      ]
     },
     "metadata": {},
     "output_type": "display_data"
    },
    {
     "name": "stdout",
     "output_type": "stream",
     "text": [
      "\n"
     ]
    },
    {
     "data": {
      "application/vnd.jupyter.widget-view+json": {
       "model_id": "313eee9096d34a7a9e541e39bcf9736e",
       "version_major": 2,
       "version_minor": 0
      },
      "text/plain": [
       "HBox(children=(IntProgress(value=0, description='40/100(t)', max=10, style=ProgressStyle(description_width='in…"
      ]
     },
     "metadata": {},
     "output_type": "display_data"
    },
    {
     "name": "stdout",
     "output_type": "stream",
     "text": [
      "\n"
     ]
    },
    {
     "data": {
      "application/vnd.jupyter.widget-view+json": {
       "model_id": "7501b5067df14b348e9a32e3983f3c09",
       "version_major": 2,
       "version_minor": 0
      },
      "text/plain": [
       "HBox(children=(IntProgress(value=0, description='41/100(t)', max=10, style=ProgressStyle(description_width='in…"
      ]
     },
     "metadata": {},
     "output_type": "display_data"
    },
    {
     "name": "stdout",
     "output_type": "stream",
     "text": [
      "\n"
     ]
    },
    {
     "data": {
      "application/vnd.jupyter.widget-view+json": {
       "model_id": "e8e1c36c422d4b5481c72e29a71611e5",
       "version_major": 2,
       "version_minor": 0
      },
      "text/plain": [
       "HBox(children=(IntProgress(value=0, description='42/100(t)', max=10, style=ProgressStyle(description_width='in…"
      ]
     },
     "metadata": {},
     "output_type": "display_data"
    },
    {
     "name": "stdout",
     "output_type": "stream",
     "text": [
      "\n"
     ]
    },
    {
     "data": {
      "application/vnd.jupyter.widget-view+json": {
       "model_id": "00ea2f4996754e0a93a0ecce7f29b684",
       "version_major": 2,
       "version_minor": 0
      },
      "text/plain": [
       "HBox(children=(IntProgress(value=0, description='43/100(t)', max=10, style=ProgressStyle(description_width='in…"
      ]
     },
     "metadata": {},
     "output_type": "display_data"
    },
    {
     "name": "stdout",
     "output_type": "stream",
     "text": [
      "\n"
     ]
    },
    {
     "data": {
      "application/vnd.jupyter.widget-view+json": {
       "model_id": "187e64127e084a5a9408011a3660db57",
       "version_major": 2,
       "version_minor": 0
      },
      "text/plain": [
       "HBox(children=(IntProgress(value=0, description='44/100(t)', max=10, style=ProgressStyle(description_width='in…"
      ]
     },
     "metadata": {},
     "output_type": "display_data"
    },
    {
     "name": "stdout",
     "output_type": "stream",
     "text": [
      "\n"
     ]
    },
    {
     "data": {
      "application/vnd.jupyter.widget-view+json": {
       "model_id": "3d31a51460df4b20b1c7fab087a07552",
       "version_major": 2,
       "version_minor": 0
      },
      "text/plain": [
       "HBox(children=(IntProgress(value=0, description='45/100(t)', max=10, style=ProgressStyle(description_width='in…"
      ]
     },
     "metadata": {},
     "output_type": "display_data"
    },
    {
     "name": "stdout",
     "output_type": "stream",
     "text": [
      "\n"
     ]
    },
    {
     "data": {
      "application/vnd.jupyter.widget-view+json": {
       "model_id": "64e7d1b6b7ce48edafb94b1d25abb877",
       "version_major": 2,
       "version_minor": 0
      },
      "text/plain": [
       "HBox(children=(IntProgress(value=0, description='46/100(t)', max=10, style=ProgressStyle(description_width='in…"
      ]
     },
     "metadata": {},
     "output_type": "display_data"
    },
    {
     "name": "stdout",
     "output_type": "stream",
     "text": [
      "\n"
     ]
    },
    {
     "data": {
      "application/vnd.jupyter.widget-view+json": {
       "model_id": "fe681d395e034e85b0f4872f603bdc56",
       "version_major": 2,
       "version_minor": 0
      },
      "text/plain": [
       "HBox(children=(IntProgress(value=0, description='47/100(t)', max=10, style=ProgressStyle(description_width='in…"
      ]
     },
     "metadata": {},
     "output_type": "display_data"
    },
    {
     "name": "stdout",
     "output_type": "stream",
     "text": [
      "\n"
     ]
    },
    {
     "data": {
      "application/vnd.jupyter.widget-view+json": {
       "model_id": "7143985a2e794cc48cc5be42918e7236",
       "version_major": 2,
       "version_minor": 0
      },
      "text/plain": [
       "HBox(children=(IntProgress(value=0, description='48/100(t)', max=10, style=ProgressStyle(description_width='in…"
      ]
     },
     "metadata": {},
     "output_type": "display_data"
    },
    {
     "name": "stdout",
     "output_type": "stream",
     "text": [
      "\n"
     ]
    },
    {
     "data": {
      "application/vnd.jupyter.widget-view+json": {
       "model_id": "538f4dc8405b4990a48215104d2bef23",
       "version_major": 2,
       "version_minor": 0
      },
      "text/plain": [
       "HBox(children=(IntProgress(value=0, description='49/100(t)', max=10, style=ProgressStyle(description_width='in…"
      ]
     },
     "metadata": {},
     "output_type": "display_data"
    },
    {
     "name": "stdout",
     "output_type": "stream",
     "text": [
      "\n"
     ]
    },
    {
     "data": {
      "application/vnd.jupyter.widget-view+json": {
       "model_id": "dce424d61e8343d58a219f1284652aad",
       "version_major": 2,
       "version_minor": 0
      },
      "text/plain": [
       "HBox(children=(IntProgress(value=0, description='50/100(t)', max=10, style=ProgressStyle(description_width='in…"
      ]
     },
     "metadata": {},
     "output_type": "display_data"
    },
    {
     "name": "stdout",
     "output_type": "stream",
     "text": [
      "\n"
     ]
    },
    {
     "data": {
      "application/vnd.jupyter.widget-view+json": {
       "model_id": "a1e986e6ac054f7684f4950d243d57e4",
       "version_major": 2,
       "version_minor": 0
      },
      "text/plain": [
       "HBox(children=(IntProgress(value=0, description='51/100(t)', max=10, style=ProgressStyle(description_width='in…"
      ]
     },
     "metadata": {},
     "output_type": "display_data"
    },
    {
     "name": "stdout",
     "output_type": "stream",
     "text": [
      "\n"
     ]
    },
    {
     "data": {
      "application/vnd.jupyter.widget-view+json": {
       "model_id": "80cbd90c07904a859cacb8acd7726eed",
       "version_major": 2,
       "version_minor": 0
      },
      "text/plain": [
       "HBox(children=(IntProgress(value=0, description='52/100(t)', max=10, style=ProgressStyle(description_width='in…"
      ]
     },
     "metadata": {},
     "output_type": "display_data"
    },
    {
     "name": "stdout",
     "output_type": "stream",
     "text": [
      "\n"
     ]
    },
    {
     "data": {
      "application/vnd.jupyter.widget-view+json": {
       "model_id": "0f722972994a4bfa96abe91cd9672579",
       "version_major": 2,
       "version_minor": 0
      },
      "text/plain": [
       "HBox(children=(IntProgress(value=0, description='53/100(t)', max=10, style=ProgressStyle(description_width='in…"
      ]
     },
     "metadata": {},
     "output_type": "display_data"
    },
    {
     "name": "stdout",
     "output_type": "stream",
     "text": [
      "\n"
     ]
    },
    {
     "data": {
      "application/vnd.jupyter.widget-view+json": {
       "model_id": "68bab76ab839473ca45c463bbeba1688",
       "version_major": 2,
       "version_minor": 0
      },
      "text/plain": [
       "HBox(children=(IntProgress(value=0, description='54/100(t)', max=10, style=ProgressStyle(description_width='in…"
      ]
     },
     "metadata": {},
     "output_type": "display_data"
    },
    {
     "name": "stdout",
     "output_type": "stream",
     "text": [
      "\n"
     ]
    },
    {
     "data": {
      "application/vnd.jupyter.widget-view+json": {
       "model_id": "96eb0372561d4bb1ba8da2e03958d830",
       "version_major": 2,
       "version_minor": 0
      },
      "text/plain": [
       "HBox(children=(IntProgress(value=0, description='55/100(t)', max=10, style=ProgressStyle(description_width='in…"
      ]
     },
     "metadata": {},
     "output_type": "display_data"
    },
    {
     "name": "stdout",
     "output_type": "stream",
     "text": [
      "\n"
     ]
    },
    {
     "data": {
      "application/vnd.jupyter.widget-view+json": {
       "model_id": "10359022f7e24e83a2d754c2b92866f7",
       "version_major": 2,
       "version_minor": 0
      },
      "text/plain": [
       "HBox(children=(IntProgress(value=0, description='56/100(t)', max=10, style=ProgressStyle(description_width='in…"
      ]
     },
     "metadata": {},
     "output_type": "display_data"
    },
    {
     "name": "stdout",
     "output_type": "stream",
     "text": [
      "\n"
     ]
    },
    {
     "data": {
      "application/vnd.jupyter.widget-view+json": {
       "model_id": "4e327cdf33914398a7f2db78c75d8071",
       "version_major": 2,
       "version_minor": 0
      },
      "text/plain": [
       "HBox(children=(IntProgress(value=0, description='57/100(t)', max=10, style=ProgressStyle(description_width='in…"
      ]
     },
     "metadata": {},
     "output_type": "display_data"
    },
    {
     "name": "stdout",
     "output_type": "stream",
     "text": [
      "\n"
     ]
    },
    {
     "data": {
      "application/vnd.jupyter.widget-view+json": {
       "model_id": "b5b2ffc2240241b98f2ca5e5ce54fbba",
       "version_major": 2,
       "version_minor": 0
      },
      "text/plain": [
       "HBox(children=(IntProgress(value=0, description='58/100(t)', max=10, style=ProgressStyle(description_width='in…"
      ]
     },
     "metadata": {},
     "output_type": "display_data"
    },
    {
     "name": "stdout",
     "output_type": "stream",
     "text": [
      "\n"
     ]
    },
    {
     "data": {
      "application/vnd.jupyter.widget-view+json": {
       "model_id": "5c707fcbff16408089d237359f4fe8f9",
       "version_major": 2,
       "version_minor": 0
      },
      "text/plain": [
       "HBox(children=(IntProgress(value=0, description='59/100(t)', max=10, style=ProgressStyle(description_width='in…"
      ]
     },
     "metadata": {},
     "output_type": "display_data"
    },
    {
     "name": "stdout",
     "output_type": "stream",
     "text": [
      "\n"
     ]
    },
    {
     "data": {
      "application/vnd.jupyter.widget-view+json": {
       "model_id": "58a80b23076c42e4a19901827f9bacf7",
       "version_major": 2,
       "version_minor": 0
      },
      "text/plain": [
       "HBox(children=(IntProgress(value=0, description='60/100(t)', max=10, style=ProgressStyle(description_width='in…"
      ]
     },
     "metadata": {},
     "output_type": "display_data"
    },
    {
     "name": "stdout",
     "output_type": "stream",
     "text": [
      "\n"
     ]
    },
    {
     "data": {
      "application/vnd.jupyter.widget-view+json": {
       "model_id": "d9c34d73719541269c1a70631d2e6d6a",
       "version_major": 2,
       "version_minor": 0
      },
      "text/plain": [
       "HBox(children=(IntProgress(value=0, description='61/100(t)', max=10, style=ProgressStyle(description_width='in…"
      ]
     },
     "metadata": {},
     "output_type": "display_data"
    },
    {
     "name": "stdout",
     "output_type": "stream",
     "text": [
      "\n"
     ]
    },
    {
     "data": {
      "application/vnd.jupyter.widget-view+json": {
       "model_id": "9b15b1b521e54db0bd4016f45f450629",
       "version_major": 2,
       "version_minor": 0
      },
      "text/plain": [
       "HBox(children=(IntProgress(value=0, description='62/100(t)', max=10, style=ProgressStyle(description_width='in…"
      ]
     },
     "metadata": {},
     "output_type": "display_data"
    },
    {
     "name": "stdout",
     "output_type": "stream",
     "text": [
      "\n"
     ]
    },
    {
     "data": {
      "application/vnd.jupyter.widget-view+json": {
       "model_id": "019c03dcd0eb49e68928ffc19f02bf5b",
       "version_major": 2,
       "version_minor": 0
      },
      "text/plain": [
       "HBox(children=(IntProgress(value=0, description='63/100(t)', max=10, style=ProgressStyle(description_width='in…"
      ]
     },
     "metadata": {},
     "output_type": "display_data"
    },
    {
     "name": "stdout",
     "output_type": "stream",
     "text": [
      "\n"
     ]
    },
    {
     "data": {
      "application/vnd.jupyter.widget-view+json": {
       "model_id": "25e46858ea0b488585557ca0e206eab5",
       "version_major": 2,
       "version_minor": 0
      },
      "text/plain": [
       "HBox(children=(IntProgress(value=0, description='64/100(t)', max=10, style=ProgressStyle(description_width='in…"
      ]
     },
     "metadata": {},
     "output_type": "display_data"
    },
    {
     "name": "stdout",
     "output_type": "stream",
     "text": [
      "\n"
     ]
    },
    {
     "data": {
      "application/vnd.jupyter.widget-view+json": {
       "model_id": "49d9cc77aa444a55b33d2f85a9a45068",
       "version_major": 2,
       "version_minor": 0
      },
      "text/plain": [
       "HBox(children=(IntProgress(value=0, description='65/100(t)', max=10, style=ProgressStyle(description_width='in…"
      ]
     },
     "metadata": {},
     "output_type": "display_data"
    },
    {
     "name": "stdout",
     "output_type": "stream",
     "text": [
      "\n"
     ]
    },
    {
     "data": {
      "application/vnd.jupyter.widget-view+json": {
       "model_id": "5ba071c71e404b679a55fd96f663066e",
       "version_major": 2,
       "version_minor": 0
      },
      "text/plain": [
       "HBox(children=(IntProgress(value=0, description='66/100(t)', max=10, style=ProgressStyle(description_width='in…"
      ]
     },
     "metadata": {},
     "output_type": "display_data"
    },
    {
     "name": "stdout",
     "output_type": "stream",
     "text": [
      "\n"
     ]
    },
    {
     "data": {
      "application/vnd.jupyter.widget-view+json": {
       "model_id": "f3882d74a2b4472885e39a6311d01180",
       "version_major": 2,
       "version_minor": 0
      },
      "text/plain": [
       "HBox(children=(IntProgress(value=0, description='67/100(t)', max=10, style=ProgressStyle(description_width='in…"
      ]
     },
     "metadata": {},
     "output_type": "display_data"
    },
    {
     "name": "stdout",
     "output_type": "stream",
     "text": [
      "\n"
     ]
    },
    {
     "data": {
      "application/vnd.jupyter.widget-view+json": {
       "model_id": "b1d34f01f6d74467adff8344a22a4560",
       "version_major": 2,
       "version_minor": 0
      },
      "text/plain": [
       "HBox(children=(IntProgress(value=0, description='68/100(t)', max=10, style=ProgressStyle(description_width='in…"
      ]
     },
     "metadata": {},
     "output_type": "display_data"
    },
    {
     "name": "stdout",
     "output_type": "stream",
     "text": [
      "\n"
     ]
    },
    {
     "data": {
      "application/vnd.jupyter.widget-view+json": {
       "model_id": "f139ddf2843542229d5b58a496ce67e4",
       "version_major": 2,
       "version_minor": 0
      },
      "text/plain": [
       "HBox(children=(IntProgress(value=0, description='69/100(t)', max=10, style=ProgressStyle(description_width='in…"
      ]
     },
     "metadata": {},
     "output_type": "display_data"
    },
    {
     "name": "stdout",
     "output_type": "stream",
     "text": [
      "\n"
     ]
    },
    {
     "data": {
      "application/vnd.jupyter.widget-view+json": {
       "model_id": "51309e94316b4153a3b1510d853aaf3a",
       "version_major": 2,
       "version_minor": 0
      },
      "text/plain": [
       "HBox(children=(IntProgress(value=0, description='70/100(t)', max=10, style=ProgressStyle(description_width='in…"
      ]
     },
     "metadata": {},
     "output_type": "display_data"
    },
    {
     "name": "stdout",
     "output_type": "stream",
     "text": [
      "\n"
     ]
    },
    {
     "data": {
      "application/vnd.jupyter.widget-view+json": {
       "model_id": "3c441742555f428a8d3bdd9e903b3d99",
       "version_major": 2,
       "version_minor": 0
      },
      "text/plain": [
       "HBox(children=(IntProgress(value=0, description='71/100(t)', max=10, style=ProgressStyle(description_width='in…"
      ]
     },
     "metadata": {},
     "output_type": "display_data"
    },
    {
     "name": "stdout",
     "output_type": "stream",
     "text": [
      "\n"
     ]
    },
    {
     "data": {
      "application/vnd.jupyter.widget-view+json": {
       "model_id": "21af4d4b18c24407a3dd16f64f31d0a2",
       "version_major": 2,
       "version_minor": 0
      },
      "text/plain": [
       "HBox(children=(IntProgress(value=0, description='72/100(t)', max=10, style=ProgressStyle(description_width='in…"
      ]
     },
     "metadata": {},
     "output_type": "display_data"
    },
    {
     "name": "stdout",
     "output_type": "stream",
     "text": [
      "\n"
     ]
    },
    {
     "data": {
      "application/vnd.jupyter.widget-view+json": {
       "model_id": "4e53ea004cf642d6b0506fcb801e38b9",
       "version_major": 2,
       "version_minor": 0
      },
      "text/plain": [
       "HBox(children=(IntProgress(value=0, description='73/100(t)', max=10, style=ProgressStyle(description_width='in…"
      ]
     },
     "metadata": {},
     "output_type": "display_data"
    },
    {
     "name": "stdout",
     "output_type": "stream",
     "text": [
      "\n"
     ]
    },
    {
     "data": {
      "application/vnd.jupyter.widget-view+json": {
       "model_id": "b4ed4b84aaa7457e8f70d05a3143c3c5",
       "version_major": 2,
       "version_minor": 0
      },
      "text/plain": [
       "HBox(children=(IntProgress(value=0, description='74/100(t)', max=10, style=ProgressStyle(description_width='in…"
      ]
     },
     "metadata": {},
     "output_type": "display_data"
    },
    {
     "name": "stdout",
     "output_type": "stream",
     "text": [
      "\n"
     ]
    },
    {
     "data": {
      "application/vnd.jupyter.widget-view+json": {
       "model_id": "9ba218cc8d6f481581784ef86c5f0f7f",
       "version_major": 2,
       "version_minor": 0
      },
      "text/plain": [
       "HBox(children=(IntProgress(value=0, description='75/100(t)', max=10, style=ProgressStyle(description_width='in…"
      ]
     },
     "metadata": {},
     "output_type": "display_data"
    },
    {
     "name": "stdout",
     "output_type": "stream",
     "text": [
      "\n"
     ]
    },
    {
     "data": {
      "application/vnd.jupyter.widget-view+json": {
       "model_id": "7bc435ad464d4c489c01b94a4cd02dfa",
       "version_major": 2,
       "version_minor": 0
      },
      "text/plain": [
       "HBox(children=(IntProgress(value=0, description='76/100(t)', max=10, style=ProgressStyle(description_width='in…"
      ]
     },
     "metadata": {},
     "output_type": "display_data"
    },
    {
     "name": "stdout",
     "output_type": "stream",
     "text": [
      "\n"
     ]
    },
    {
     "data": {
      "application/vnd.jupyter.widget-view+json": {
       "model_id": "212647ec356e414e9bcb7defbfb13ae8",
       "version_major": 2,
       "version_minor": 0
      },
      "text/plain": [
       "HBox(children=(IntProgress(value=0, description='77/100(t)', max=10, style=ProgressStyle(description_width='in…"
      ]
     },
     "metadata": {},
     "output_type": "display_data"
    },
    {
     "name": "stdout",
     "output_type": "stream",
     "text": [
      "\n"
     ]
    },
    {
     "data": {
      "application/vnd.jupyter.widget-view+json": {
       "model_id": "9c1b5863b9054b3c884dbfff5a5c057e",
       "version_major": 2,
       "version_minor": 0
      },
      "text/plain": [
       "HBox(children=(IntProgress(value=0, description='78/100(t)', max=10, style=ProgressStyle(description_width='in…"
      ]
     },
     "metadata": {},
     "output_type": "display_data"
    },
    {
     "name": "stdout",
     "output_type": "stream",
     "text": [
      "\n"
     ]
    },
    {
     "data": {
      "application/vnd.jupyter.widget-view+json": {
       "model_id": "6b636b2eec084e069030103d7468a78e",
       "version_major": 2,
       "version_minor": 0
      },
      "text/plain": [
       "HBox(children=(IntProgress(value=0, description='79/100(t)', max=10, style=ProgressStyle(description_width='in…"
      ]
     },
     "metadata": {},
     "output_type": "display_data"
    },
    {
     "name": "stdout",
     "output_type": "stream",
     "text": [
      "\n"
     ]
    },
    {
     "data": {
      "application/vnd.jupyter.widget-view+json": {
       "model_id": "b25a75fd656b4335844822c35a477ced",
       "version_major": 2,
       "version_minor": 0
      },
      "text/plain": [
       "HBox(children=(IntProgress(value=0, description='80/100(t)', max=10, style=ProgressStyle(description_width='in…"
      ]
     },
     "metadata": {},
     "output_type": "display_data"
    },
    {
     "name": "stdout",
     "output_type": "stream",
     "text": [
      "\n"
     ]
    },
    {
     "data": {
      "application/vnd.jupyter.widget-view+json": {
       "model_id": "d75a36b57f01417db3bb8648edd2188d",
       "version_major": 2,
       "version_minor": 0
      },
      "text/plain": [
       "HBox(children=(IntProgress(value=0, description='81/100(t)', max=10, style=ProgressStyle(description_width='in…"
      ]
     },
     "metadata": {},
     "output_type": "display_data"
    },
    {
     "name": "stdout",
     "output_type": "stream",
     "text": [
      "\n"
     ]
    },
    {
     "data": {
      "application/vnd.jupyter.widget-view+json": {
       "model_id": "dc9f5d37b794493180aae2020c861f6a",
       "version_major": 2,
       "version_minor": 0
      },
      "text/plain": [
       "HBox(children=(IntProgress(value=0, description='82/100(t)', max=10, style=ProgressStyle(description_width='in…"
      ]
     },
     "metadata": {},
     "output_type": "display_data"
    },
    {
     "name": "stdout",
     "output_type": "stream",
     "text": [
      "\n"
     ]
    },
    {
     "data": {
      "application/vnd.jupyter.widget-view+json": {
       "model_id": "1bb8959ebc8144a09d2ca6347df2c6fd",
       "version_major": 2,
       "version_minor": 0
      },
      "text/plain": [
       "HBox(children=(IntProgress(value=0, description='83/100(t)', max=10, style=ProgressStyle(description_width='in…"
      ]
     },
     "metadata": {},
     "output_type": "display_data"
    },
    {
     "name": "stdout",
     "output_type": "stream",
     "text": [
      "\n"
     ]
    },
    {
     "data": {
      "application/vnd.jupyter.widget-view+json": {
       "model_id": "df086f3dc0f84cb99cfff52be4ff83d9",
       "version_major": 2,
       "version_minor": 0
      },
      "text/plain": [
       "HBox(children=(IntProgress(value=0, description='84/100(t)', max=10, style=ProgressStyle(description_width='in…"
      ]
     },
     "metadata": {},
     "output_type": "display_data"
    },
    {
     "name": "stdout",
     "output_type": "stream",
     "text": [
      "\n"
     ]
    },
    {
     "data": {
      "application/vnd.jupyter.widget-view+json": {
       "model_id": "4855490059f14d88a352fccab015c2bf",
       "version_major": 2,
       "version_minor": 0
      },
      "text/plain": [
       "HBox(children=(IntProgress(value=0, description='85/100(t)', max=10, style=ProgressStyle(description_width='in…"
      ]
     },
     "metadata": {},
     "output_type": "display_data"
    },
    {
     "name": "stdout",
     "output_type": "stream",
     "text": [
      "\n"
     ]
    },
    {
     "data": {
      "application/vnd.jupyter.widget-view+json": {
       "model_id": "d36fd0839eb346faa393092589daba4a",
       "version_major": 2,
       "version_minor": 0
      },
      "text/plain": [
       "HBox(children=(IntProgress(value=0, description='86/100(t)', max=10, style=ProgressStyle(description_width='in…"
      ]
     },
     "metadata": {},
     "output_type": "display_data"
    },
    {
     "name": "stdout",
     "output_type": "stream",
     "text": [
      "\n"
     ]
    },
    {
     "data": {
      "application/vnd.jupyter.widget-view+json": {
       "model_id": "870c2d5271da4f3e93440b500d2f9f81",
       "version_major": 2,
       "version_minor": 0
      },
      "text/plain": [
       "HBox(children=(IntProgress(value=0, description='87/100(t)', max=10, style=ProgressStyle(description_width='in…"
      ]
     },
     "metadata": {},
     "output_type": "display_data"
    },
    {
     "name": "stdout",
     "output_type": "stream",
     "text": [
      "\n"
     ]
    },
    {
     "data": {
      "application/vnd.jupyter.widget-view+json": {
       "model_id": "ea3aac5872014d41b6e3be6bca18a8a6",
       "version_major": 2,
       "version_minor": 0
      },
      "text/plain": [
       "HBox(children=(IntProgress(value=0, description='88/100(t)', max=10, style=ProgressStyle(description_width='in…"
      ]
     },
     "metadata": {},
     "output_type": "display_data"
    },
    {
     "name": "stdout",
     "output_type": "stream",
     "text": [
      "\n"
     ]
    },
    {
     "data": {
      "application/vnd.jupyter.widget-view+json": {
       "model_id": "2a070bc18f3a439d8443e23922b87ce6",
       "version_major": 2,
       "version_minor": 0
      },
      "text/plain": [
       "HBox(children=(IntProgress(value=0, description='89/100(t)', max=10, style=ProgressStyle(description_width='in…"
      ]
     },
     "metadata": {},
     "output_type": "display_data"
    },
    {
     "name": "stdout",
     "output_type": "stream",
     "text": [
      "\n"
     ]
    },
    {
     "data": {
      "application/vnd.jupyter.widget-view+json": {
       "model_id": "d1a2ded4ba7e473ca464e0e4476b8f9e",
       "version_major": 2,
       "version_minor": 0
      },
      "text/plain": [
       "HBox(children=(IntProgress(value=0, description='90/100(t)', max=10, style=ProgressStyle(description_width='in…"
      ]
     },
     "metadata": {},
     "output_type": "display_data"
    },
    {
     "name": "stdout",
     "output_type": "stream",
     "text": [
      "\n"
     ]
    },
    {
     "data": {
      "application/vnd.jupyter.widget-view+json": {
       "model_id": "bc6ec9d82de744eb86bf6beab48954ca",
       "version_major": 2,
       "version_minor": 0
      },
      "text/plain": [
       "HBox(children=(IntProgress(value=0, description='91/100(t)', max=10, style=ProgressStyle(description_width='in…"
      ]
     },
     "metadata": {},
     "output_type": "display_data"
    },
    {
     "name": "stdout",
     "output_type": "stream",
     "text": [
      "\n"
     ]
    },
    {
     "data": {
      "application/vnd.jupyter.widget-view+json": {
       "model_id": "4b79ced463a04daabbc9e701202ac375",
       "version_major": 2,
       "version_minor": 0
      },
      "text/plain": [
       "HBox(children=(IntProgress(value=0, description='92/100(t)', max=10, style=ProgressStyle(description_width='in…"
      ]
     },
     "metadata": {},
     "output_type": "display_data"
    },
    {
     "name": "stdout",
     "output_type": "stream",
     "text": [
      "\n"
     ]
    },
    {
     "data": {
      "application/vnd.jupyter.widget-view+json": {
       "model_id": "e906be910a1e4b77b1c273ff4bde94bf",
       "version_major": 2,
       "version_minor": 0
      },
      "text/plain": [
       "HBox(children=(IntProgress(value=0, description='93/100(t)', max=10, style=ProgressStyle(description_width='in…"
      ]
     },
     "metadata": {},
     "output_type": "display_data"
    },
    {
     "name": "stdout",
     "output_type": "stream",
     "text": [
      "\n"
     ]
    },
    {
     "data": {
      "application/vnd.jupyter.widget-view+json": {
       "model_id": "ceb2ca5420684add8227e5535eb69d19",
       "version_major": 2,
       "version_minor": 0
      },
      "text/plain": [
       "HBox(children=(IntProgress(value=0, description='94/100(t)', max=10, style=ProgressStyle(description_width='in…"
      ]
     },
     "metadata": {},
     "output_type": "display_data"
    },
    {
     "name": "stdout",
     "output_type": "stream",
     "text": [
      "\n"
     ]
    },
    {
     "data": {
      "application/vnd.jupyter.widget-view+json": {
       "model_id": "ac01b66611424b81848a2848e29745e6",
       "version_major": 2,
       "version_minor": 0
      },
      "text/plain": [
       "HBox(children=(IntProgress(value=0, description='95/100(t)', max=10, style=ProgressStyle(description_width='in…"
      ]
     },
     "metadata": {},
     "output_type": "display_data"
    },
    {
     "name": "stdout",
     "output_type": "stream",
     "text": [
      "\n"
     ]
    },
    {
     "data": {
      "application/vnd.jupyter.widget-view+json": {
       "model_id": "4a8afb1b54594da0a16544bc66d36ad5",
       "version_major": 2,
       "version_minor": 0
      },
      "text/plain": [
       "HBox(children=(IntProgress(value=0, description='96/100(t)', max=10, style=ProgressStyle(description_width='in…"
      ]
     },
     "metadata": {},
     "output_type": "display_data"
    },
    {
     "name": "stdout",
     "output_type": "stream",
     "text": [
      "\n"
     ]
    },
    {
     "data": {
      "application/vnd.jupyter.widget-view+json": {
       "model_id": "b28b06c408e247a68b474b9fd3374bc5",
       "version_major": 2,
       "version_minor": 0
      },
      "text/plain": [
       "HBox(children=(IntProgress(value=0, description='97/100(t)', max=10, style=ProgressStyle(description_width='in…"
      ]
     },
     "metadata": {},
     "output_type": "display_data"
    },
    {
     "name": "stdout",
     "output_type": "stream",
     "text": [
      "\n"
     ]
    },
    {
     "data": {
      "application/vnd.jupyter.widget-view+json": {
       "model_id": "184ffa3746704eacb18b66cc2bf0ee53",
       "version_major": 2,
       "version_minor": 0
      },
      "text/plain": [
       "HBox(children=(IntProgress(value=0, description='98/100(t)', max=10, style=ProgressStyle(description_width='in…"
      ]
     },
     "metadata": {},
     "output_type": "display_data"
    },
    {
     "name": "stdout",
     "output_type": "stream",
     "text": [
      "\n"
     ]
    },
    {
     "data": {
      "application/vnd.jupyter.widget-view+json": {
       "model_id": "e6ab880e021d4cc49b04ad5b5ba27b12",
       "version_major": 2,
       "version_minor": 0
      },
      "text/plain": [
       "HBox(children=(IntProgress(value=0, description='99/100(t)', max=10, style=ProgressStyle(description_width='in…"
      ]
     },
     "metadata": {},
     "output_type": "display_data"
    },
    {
     "name": "stdout",
     "output_type": "stream",
     "text": [
      "\n"
     ]
    },
    {
     "data": {
      "text/plain": [
       "[{'train_steps': 10, 'validation_steps': None},\n",
       " {'train_steps': 10, 'validation_steps': None},\n",
       " {'train_steps': 10, 'validation_steps': None},\n",
       " {'train_steps': 10, 'validation_steps': None},\n",
       " {'train_steps': 10, 'validation_steps': None},\n",
       " {'train_steps': 10, 'validation_steps': None},\n",
       " {'train_steps': 10, 'validation_steps': None},\n",
       " {'train_steps': 10, 'validation_steps': None},\n",
       " {'train_steps': 10, 'validation_steps': None},\n",
       " {'train_steps': 10, 'validation_steps': None},\n",
       " {'train_steps': 10, 'validation_steps': None},\n",
       " {'train_steps': 10, 'validation_steps': None},\n",
       " {'train_steps': 10, 'validation_steps': None},\n",
       " {'train_steps': 10, 'validation_steps': None},\n",
       " {'train_steps': 10, 'validation_steps': None},\n",
       " {'train_steps': 10, 'validation_steps': None},\n",
       " {'train_steps': 10, 'validation_steps': None},\n",
       " {'train_steps': 10, 'validation_steps': None},\n",
       " {'train_steps': 10, 'validation_steps': None},\n",
       " {'train_steps': 10, 'validation_steps': None},\n",
       " {'train_steps': 10, 'validation_steps': None},\n",
       " {'train_steps': 10, 'validation_steps': None},\n",
       " {'train_steps': 10, 'validation_steps': None},\n",
       " {'train_steps': 10, 'validation_steps': None},\n",
       " {'train_steps': 10, 'validation_steps': None},\n",
       " {'train_steps': 10, 'validation_steps': None},\n",
       " {'train_steps': 10, 'validation_steps': None},\n",
       " {'train_steps': 10, 'validation_steps': None},\n",
       " {'train_steps': 10, 'validation_steps': None},\n",
       " {'train_steps': 10, 'validation_steps': None},\n",
       " {'train_steps': 10, 'validation_steps': None},\n",
       " {'train_steps': 10, 'validation_steps': None},\n",
       " {'train_steps': 10, 'validation_steps': None},\n",
       " {'train_steps': 10, 'validation_steps': None},\n",
       " {'train_steps': 10, 'validation_steps': None},\n",
       " {'train_steps': 10, 'validation_steps': None},\n",
       " {'train_steps': 10, 'validation_steps': None},\n",
       " {'train_steps': 10, 'validation_steps': None},\n",
       " {'train_steps': 10, 'validation_steps': None},\n",
       " {'train_steps': 10, 'validation_steps': None},\n",
       " {'train_steps': 10, 'validation_steps': None},\n",
       " {'train_steps': 10, 'validation_steps': None},\n",
       " {'train_steps': 10, 'validation_steps': None},\n",
       " {'train_steps': 10, 'validation_steps': None},\n",
       " {'train_steps': 10, 'validation_steps': None},\n",
       " {'train_steps': 10, 'validation_steps': None},\n",
       " {'train_steps': 10, 'validation_steps': None},\n",
       " {'train_steps': 10, 'validation_steps': None},\n",
       " {'train_steps': 10, 'validation_steps': None},\n",
       " {'train_steps': 10, 'validation_steps': None},\n",
       " {'train_steps': 10, 'validation_steps': None},\n",
       " {'train_steps': 10, 'validation_steps': None},\n",
       " {'train_steps': 10, 'validation_steps': None},\n",
       " {'train_steps': 10, 'validation_steps': None},\n",
       " {'train_steps': 10, 'validation_steps': None},\n",
       " {'train_steps': 10, 'validation_steps': None},\n",
       " {'train_steps': 10, 'validation_steps': None},\n",
       " {'train_steps': 10, 'validation_steps': None},\n",
       " {'train_steps': 10, 'validation_steps': None},\n",
       " {'train_steps': 10, 'validation_steps': None},\n",
       " {'train_steps': 10, 'validation_steps': None},\n",
       " {'train_steps': 10, 'validation_steps': None},\n",
       " {'train_steps': 10, 'validation_steps': None},\n",
       " {'train_steps': 10, 'validation_steps': None},\n",
       " {'train_steps': 10, 'validation_steps': None},\n",
       " {'train_steps': 10, 'validation_steps': None},\n",
       " {'train_steps': 10, 'validation_steps': None},\n",
       " {'train_steps': 10, 'validation_steps': None},\n",
       " {'train_steps': 10, 'validation_steps': None},\n",
       " {'train_steps': 10, 'validation_steps': None},\n",
       " {'train_steps': 10, 'validation_steps': None},\n",
       " {'train_steps': 10, 'validation_steps': None},\n",
       " {'train_steps': 10, 'validation_steps': None},\n",
       " {'train_steps': 10, 'validation_steps': None},\n",
       " {'train_steps': 10, 'validation_steps': None},\n",
       " {'train_steps': 10, 'validation_steps': None},\n",
       " {'train_steps': 10, 'validation_steps': None},\n",
       " {'train_steps': 10, 'validation_steps': None},\n",
       " {'train_steps': 10, 'validation_steps': None},\n",
       " {'train_steps': 10, 'validation_steps': None},\n",
       " {'train_steps': 10, 'validation_steps': None},\n",
       " {'train_steps': 10, 'validation_steps': None},\n",
       " {'train_steps': 10, 'validation_steps': None},\n",
       " {'train_steps': 10, 'validation_steps': None},\n",
       " {'train_steps': 10, 'validation_steps': None},\n",
       " {'train_steps': 10, 'validation_steps': None},\n",
       " {'train_steps': 10, 'validation_steps': None},\n",
       " {'train_steps': 10, 'validation_steps': None},\n",
       " {'train_steps': 10, 'validation_steps': None},\n",
       " {'train_steps': 10, 'validation_steps': None},\n",
       " {'train_steps': 10, 'validation_steps': None},\n",
       " {'train_steps': 10, 'validation_steps': None},\n",
       " {'train_steps': 10, 'validation_steps': None},\n",
       " {'train_steps': 10, 'validation_steps': None},\n",
       " {'train_steps': 10, 'validation_steps': None},\n",
       " {'train_steps': 10, 'validation_steps': None},\n",
       " {'train_steps': 10, 'validation_steps': None},\n",
       " {'train_steps': 10, 'validation_steps': None},\n",
       " {'train_steps': 10, 'validation_steps': None},\n",
       " {'train_steps': 10, 'validation_steps': None}]"
      ]
     },
     "execution_count": 33,
     "metadata": {},
     "output_type": "execute_result"
    }
   ],
   "source": [
    "# pytorch method for training\n",
    "print(device)\n",
    "trial = Trial(model, optimiser, loss_function).to(device)\n",
    "trial.with_generators(trainloader)\n",
    "trial.run(epochs=100)"
   ]
  },
  {
   "cell_type": "code",
   "execution_count": 35,
   "metadata": {},
   "outputs": [
    {
     "data": {
      "text/plain": [
       "torch.Size([505, 1])"
      ]
     },
     "execution_count": 35,
     "metadata": {},
     "output_type": "execute_result"
    }
   ],
   "source": [
    "y_pred= model(validateData.float().to(device))\n",
    "y_pred.shape"
   ]
  },
  {
   "cell_type": "code",
   "execution_count": 36,
   "metadata": {},
   "outputs": [
    {
     "data": {
      "image/png": "[encoded data removed]",
      "text/plain": [
       "<Figure size 432x288 with 1 Axes>"
      ]
     },
     "metadata": {
      "needs_background": "light"
     },
     "output_type": "display_data"
    }
   ],
   "source": [
    "plt.plot(y_pred.cpu().detach().numpy(), 'r-')\n",
    "plt.plot(y_test, 'b-')\n",
    "plt.show()"
   ]
  }
 ],
 "metadata": {
  "kernelspec": {
   "display_name": "Python 3",
   "language": "python",
   "name": "python3"
  },
  "language_info": {
   "codemirror_mode": {
    "name": "ipython",
    "version": 3
   },
   "file_extension": ".py",
   "mimetype": "text/x-python",
   "name": "python",
   "nbconvert_exporter": "python",
   "pygments_lexer": "ipython3",
   "version": "3.7.3"
  }
 },
 "nbformat": 4,
 "nbformat_minor": 2
}
