{
 "cells": [
  {
   "cell_type": "code",
   "execution_count": 14,
   "metadata": {},
   "outputs": [],
   "source": [
    "import numpy as np\n",
    "import pandas as pd\n",
    "import torch\n",
    "import torch.nn as nn\n",
    "import torch.nn.functional as F\n",
    "from keras.layers import Dense, Dropout, Activation, LSTM, Convolution1D, MaxPooling1D, Flatten\n",
    "from keras.models import Sequential\n",
    "import matplotlib.pyplot as plt\n",
    "%matplotlib inline"
   ]
  },
  {
   "cell_type": "code",
   "execution_count": 15,
   "metadata": {},
   "outputs": [
    {
     "name": "stdout",
     "output_type": "stream",
     "text": [
      "'^DJI.csv'            stock_dilatedconv+lstm.ipynb   stock_rnn_lstm.ipynb\r\n",
      " README.md            stock_lstm+conv1d.ipynb\r\n",
      " stock_conv1d.ipynb   stock_nn.ipynb\r\n"
     ]
    }
   ],
   "source": [
    "## Data preparation\n",
    "%ls"
   ]
  },
  {
   "cell_type": "code",
   "execution_count": 16,
   "metadata": {},
   "outputs": [
    {
     "data": {
      "text/html": [
       "<div>\n",
       "<style scoped>\n",
       "    .dataframe tbody tr th:only-of-type {\n",
       "        vertical-align: middle;\n",
       "    }\n",
       "\n",
       "    .dataframe tbody tr th {\n",
       "        vertical-align: top;\n",
       "    }\n",
       "\n",
       "    .dataframe thead th {\n",
       "        text-align: right;\n",
       "    }\n",
       "</style>\n",
       "<table border=\"1\" class=\"dataframe\">\n",
       "  <thead>\n",
       "    <tr style=\"text-align: right;\">\n",
       "      <th></th>\n",
       "      <th>Date</th>\n",
       "      <th>Open</th>\n",
       "      <th>High</th>\n",
       "      <th>Low</th>\n",
       "      <th>Close</th>\n",
       "      <th>Adj Close</th>\n",
       "      <th>Volume</th>\n",
       "    </tr>\n",
       "  </thead>\n",
       "  <tbody>\n",
       "    <tr>\n",
       "      <th>4279</th>\n",
       "      <td>2017-01-05</td>\n",
       "      <td>19924.560547</td>\n",
       "      <td>19948.599609</td>\n",
       "      <td>19811.119141</td>\n",
       "      <td>19899.289063</td>\n",
       "      <td>19899.289063</td>\n",
       "      <td>269920000</td>\n",
       "    </tr>\n",
       "    <tr>\n",
       "      <th>4280</th>\n",
       "      <td>2017-01-06</td>\n",
       "      <td>19906.960938</td>\n",
       "      <td>19999.630859</td>\n",
       "      <td>19834.080078</td>\n",
       "      <td>19963.800781</td>\n",
       "      <td>19963.800781</td>\n",
       "      <td>277700000</td>\n",
       "    </tr>\n",
       "    <tr>\n",
       "      <th>4281</th>\n",
       "      <td>2017-01-09</td>\n",
       "      <td>19931.410156</td>\n",
       "      <td>19943.779297</td>\n",
       "      <td>19887.380859</td>\n",
       "      <td>19887.380859</td>\n",
       "      <td>19887.380859</td>\n",
       "      <td>287060000</td>\n",
       "    </tr>\n",
       "    <tr>\n",
       "      <th>4282</th>\n",
       "      <td>2017-01-10</td>\n",
       "      <td>19876.349609</td>\n",
       "      <td>19957.119141</td>\n",
       "      <td>19836.029297</td>\n",
       "      <td>19855.529297</td>\n",
       "      <td>19855.529297</td>\n",
       "      <td>299410000</td>\n",
       "    </tr>\n",
       "    <tr>\n",
       "      <th>4283</th>\n",
       "      <td>2017-01-11</td>\n",
       "      <td>19887.380859</td>\n",
       "      <td>19973.419922</td>\n",
       "      <td>19833.160156</td>\n",
       "      <td>19954.279297</td>\n",
       "      <td>19954.279297</td>\n",
       "      <td>336150000</td>\n",
       "    </tr>\n",
       "  </tbody>\n",
       "</table>\n",
       "</div>"
      ],
      "text/plain": [
       "            Date          Open          High           Low         Close  \\\n",
       "4279  2017-01-05  19924.560547  19948.599609  19811.119141  19899.289063   \n",
       "4280  2017-01-06  19906.960938  19999.630859  19834.080078  19963.800781   \n",
       "4281  2017-01-09  19931.410156  19943.779297  19887.380859  19887.380859   \n",
       "4282  2017-01-10  19876.349609  19957.119141  19836.029297  19855.529297   \n",
       "4283  2017-01-11  19887.380859  19973.419922  19833.160156  19954.279297   \n",
       "\n",
       "         Adj Close     Volume  \n",
       "4279  19899.289063  269920000  \n",
       "4280  19963.800781  277700000  \n",
       "4281  19887.380859  287060000  \n",
       "4282  19855.529297  299410000  \n",
       "4283  19954.279297  336150000  "
      ]
     },
     "execution_count": 16,
     "metadata": {},
     "output_type": "execute_result"
    }
   ],
   "source": [
    "data= pd.read_csv('^DJI.csv')\n",
    "data.tail()"
   ]
  },
  {
   "cell_type": "code",
   "execution_count": 17,
   "metadata": {},
   "outputs": [
    {
     "data": {
      "text/html": [
       "<div>\n",
       "<style scoped>\n",
       "    .dataframe tbody tr th:only-of-type {\n",
       "        vertical-align: middle;\n",
       "    }\n",
       "\n",
       "    .dataframe tbody tr th {\n",
       "        vertical-align: top;\n",
       "    }\n",
       "\n",
       "    .dataframe thead th {\n",
       "        text-align: right;\n",
       "    }\n",
       "</style>\n",
       "<table border=\"1\" class=\"dataframe\">\n",
       "  <thead>\n",
       "    <tr style=\"text-align: right;\">\n",
       "      <th></th>\n",
       "      <th>Date</th>\n",
       "      <th>Open</th>\n",
       "      <th>High</th>\n",
       "      <th>Low</th>\n",
       "      <th>Close</th>\n",
       "      <th>Adj Close</th>\n",
       "      <th>Volume</th>\n",
       "    </tr>\n",
       "  </thead>\n",
       "  <tbody>\n",
       "    <tr>\n",
       "      <th>4279</th>\n",
       "      <td>2017-01-05</td>\n",
       "      <td>19924.560547</td>\n",
       "      <td>19948.599609</td>\n",
       "      <td>19811.119141</td>\n",
       "      <td>19899.289063</td>\n",
       "      <td>19899.289063</td>\n",
       "      <td>269920000</td>\n",
       "    </tr>\n",
       "    <tr>\n",
       "      <th>4280</th>\n",
       "      <td>2017-01-06</td>\n",
       "      <td>19906.960938</td>\n",
       "      <td>19999.630859</td>\n",
       "      <td>19834.080078</td>\n",
       "      <td>19963.800781</td>\n",
       "      <td>19963.800781</td>\n",
       "      <td>277700000</td>\n",
       "    </tr>\n",
       "    <tr>\n",
       "      <th>4281</th>\n",
       "      <td>2017-01-09</td>\n",
       "      <td>19931.410156</td>\n",
       "      <td>19943.779297</td>\n",
       "      <td>19887.380859</td>\n",
       "      <td>19887.380859</td>\n",
       "      <td>19887.380859</td>\n",
       "      <td>287060000</td>\n",
       "    </tr>\n",
       "    <tr>\n",
       "      <th>4282</th>\n",
       "      <td>2017-01-10</td>\n",
       "      <td>19876.349609</td>\n",
       "      <td>19957.119141</td>\n",
       "      <td>19836.029297</td>\n",
       "      <td>19855.529297</td>\n",
       "      <td>19855.529297</td>\n",
       "      <td>299410000</td>\n",
       "    </tr>\n",
       "    <tr>\n",
       "      <th>4283</th>\n",
       "      <td>2017-01-11</td>\n",
       "      <td>19887.380859</td>\n",
       "      <td>19973.419922</td>\n",
       "      <td>19833.160156</td>\n",
       "      <td>19954.279297</td>\n",
       "      <td>19954.279297</td>\n",
       "      <td>336150000</td>\n",
       "    </tr>\n",
       "  </tbody>\n",
       "</table>\n",
       "</div>"
      ],
      "text/plain": [
       "            Date          Open          High           Low         Close  \\\n",
       "4279  2017-01-05  19924.560547  19948.599609  19811.119141  19899.289063   \n",
       "4280  2017-01-06  19906.960938  19999.630859  19834.080078  19963.800781   \n",
       "4281  2017-01-09  19931.410156  19943.779297  19887.380859  19887.380859   \n",
       "4282  2017-01-10  19876.349609  19957.119141  19836.029297  19855.529297   \n",
       "4283  2017-01-11  19887.380859  19973.419922  19833.160156  19954.279297   \n",
       "\n",
       "         Adj Close     Volume  \n",
       "4279  19899.289063  269920000  \n",
       "4280  19963.800781  277700000  \n",
       "4281  19887.380859  287060000  \n",
       "4282  19855.529297  299410000  \n",
       "4283  19954.279297  336150000  "
      ]
     },
     "execution_count": 17,
     "metadata": {},
     "output_type": "execute_result"
    }
   ],
   "source": [
    "data= data.dropna(axis=0)#drop rows which may contain missing values\n",
    "data.tail()"
   ]
  },
  {
   "cell_type": "code",
   "execution_count": 18,
   "metadata": {},
   "outputs": [
    {
     "name": "stdout",
     "output_type": "stream",
     "text": [
      "(4284, 4)\n"
     ]
    }
   ],
   "source": [
    "data= data.values[:, 1:5]\n",
    "print (data.shape)"
   ]
  },
  {
   "cell_type": "code",
   "execution_count": 19,
   "metadata": {},
   "outputs": [
    {
     "name": "stdout",
     "output_type": "stream",
     "text": [
      "[[11501.849609 11522.009766 11305.69043 11357.509766]\n",
      " [11349.75 11350.05957 10986.450195 10997.929688]\n",
      " [10989.370117 11215.099609 10938.669922 11122.650391]\n",
      " [11113.370117 11313.450195 11098.450195 11253.259766]\n",
      " [11247.05957 11528.139648 11239.919922 11522.55957]\n",
      " [11532.480469 11638.280273 11532.480469 11572.200195]]\n"
     ]
    }
   ],
   "source": [
    "print (data[:6, :])"
   ]
  },
  {
   "cell_type": "code",
   "execution_count": 20,
   "metadata": {},
   "outputs": [
    {
     "name": "stdout",
     "output_type": "stream",
     "text": [
      "(4283,)\n",
      "(4283, 4)\n"
     ]
    }
   ],
   "source": [
    "y= data[1:, 3] #the close price\n",
    "print (y.shape)\n",
    "X= data[:4283,:]\n",
    "print (X.shape)"
   ]
  },
  {
   "cell_type": "code",
   "execution_count": 21,
   "metadata": {},
   "outputs": [
    {
     "name": "stdout",
     "output_type": "stream",
     "text": [
      "[0.9958489671060151 0.9969608353545725 0.9977970638423223\n",
      " 0.9895037255460575 0.9884685127944293 0.9842101331451283\n",
      " 0.9930844240922265 0.9975826611512648 0.9943898946924046\n",
      " 0.9991943173236132 0.9935030473634489 0.9911309455181354\n",
      " 0.9984852177269742]\n",
      "[0.3314732377562158 0.34076164281889654 0.3504885987356185\n",
      " 0.3705443360966607 0.37424125426240135 0.36968941651198045\n",
      " 0.3726698167615406]\n"
     ]
    }
   ],
   "source": [
    "y= (y- min(y))/(max(y)- min(y)) #??? \n",
    "print (y[4270:])\n",
    "print (y[:7])"
   ]
  },
  {
   "cell_type": "code",
   "execution_count": 22,
   "metadata": {},
   "outputs": [
    {
     "name": "stdout",
     "output_type": "stream",
     "text": [
      "(4283, 4)\n",
      "[[0.36915916133693344 0.36210626788689226 0.3589471777635444\n",
      "  0.35825247597887355]\n",
      " [0.35782701622684665 0.34916797410603573 0.335250623396864\n",
      "  0.3314732377562158]\n",
      " [0.33097699895354726 0.3390129893215408 0.33170399075890933\n",
      "  0.34076164281889654]]\n"
     ]
    }
   ],
   "source": [
    "X= (X- np.min(X,axis=0))/(np.max(X, axis=0)-np.min(X,axis=0))\n",
    "print (X.shape)\n",
    "print (X[:3, :])"
   ]
  },
  {
   "cell_type": "code",
   "execution_count": 23,
   "metadata": {},
   "outputs": [
    {
     "data": {
      "text/plain": [
       "'\\nRowling the window size = 100 days\\nThis example is in sample forcasting\\nwhat is different of in sample and out of sample forecasting: \\n\\nhttps://stats.stackexchange.com/questions/260899/what-is-difference-between-in-sample-and-out-of-sample-forecasts\\n'"
      ]
     },
     "execution_count": 23,
     "metadata": {},
     "output_type": "execute_result"
    }
   ],
   "source": [
    "## Sequence data preparation\n",
    "\"\"\"\n",
    "Rowling the window size = 100 days\n",
    "This example is in sample forcasting\n",
    "what is different of in sample and out of sample forecasting: \n",
    "\n",
    "https://stats.stackexchange.com/questions/260899/what-is-difference-between-in-sample-and-out-of-sample-forecasts\n",
    "\"\"\""
   ]
  },
  {
   "cell_type": "code",
   "execution_count": 24,
   "metadata": {},
   "outputs": [
    {
     "name": "stdout",
     "output_type": "stream",
     "text": [
      "(4184, 100, 4) (4184,)\n"
     ]
    }
   ],
   "source": [
    "time_steps= 100 #1 to 100 days ahead\n",
    "X_new= np.zeros((X.shape[0] - time_steps +1, 100, X.shape[1]))\n",
    "y_new= np.zeros((y.shape[0] -time_steps +1,))\n",
    "for ix in range(X_new.shape[0]):\n",
    "    for jx in range(time_steps):\n",
    "        X_new[ix, jx, :]= X[ix +jx, :]\n",
    "    y_new[ix]= y[ix + time_steps -1]\n",
    "print (X_new.shape, y_new.shape)"
   ]
  },
  {
   "cell_type": "code",
   "execution_count": 25,
   "metadata": {},
   "outputs": [],
   "source": [
    "## split into train and test sets"
   ]
  },
  {
   "cell_type": "code",
   "execution_count": 26,
   "metadata": {},
   "outputs": [
    {
     "name": "stdout",
     "output_type": "stream",
     "text": [
      "(3427, 100, 4) (3427,)\n",
      "(757, 100, 4) (757,)\n"
     ]
    }
   ],
   "source": [
    "split = int(0.8*data.shape[0])\n",
    "X_train = X_new[:split]\n",
    "X_test = X_new[split:]\n",
    "\n",
    "y_train = y_new[:split]\n",
    "y_test = y_new[split:]\n",
    "\n",
    "print (X_train.shape, y_train.shape)\n",
    "print (X_test.shape, y_test.shape)"
   ]
  },
  {
   "cell_type": "code",
   "execution_count": 27,
   "metadata": {},
   "outputs": [],
   "source": [
    "## Model fitting"
   ]
  },
  {
   "cell_type": "code",
   "execution_count": 28,
   "metadata": {},
   "outputs": [
    {
     "name": "stdout",
     "output_type": "stream",
     "text": [
      "WARNING:tensorflow:From /home/wang/anaconda3/lib/python3.7/site-packages/tensorflow/python/framework/op_def_library.py:263: colocate_with (from tensorflow.python.framework.ops) is deprecated and will be removed in a future version.\n",
      "Instructions for updating:\n",
      "Colocations handled automatically by placer.\n",
      "_________________________________________________________________\n",
      "Layer (type)                 Output Shape              Param #   \n",
      "=================================================================\n",
      "conv1d_1 (Conv1D)            (None, 100, 64)           832       \n",
      "_________________________________________________________________\n",
      "max_pooling1d_1 (MaxPooling1 (None, 50, 64)            0         \n",
      "_________________________________________________________________\n",
      "conv1d_2 (Conv1D)            (None, 50, 32)            6176      \n",
      "_________________________________________________________________\n",
      "max_pooling1d_2 (MaxPooling1 (None, 25, 32)            0         \n",
      "_________________________________________________________________\n",
      "flatten_1 (Flatten)          (None, 800)               0         \n",
      "_________________________________________________________________\n",
      "dense_1 (Dense)              (None, 1)                 801       \n",
      "_________________________________________________________________\n",
      "activation_1 (Activation)    (None, 1)                 0         \n",
      "=================================================================\n",
      "Total params: 7,809\n",
      "Trainable params: 7,809\n",
      "Non-trainable params: 0\n",
      "_________________________________________________________________\n"
     ]
    },
    {
     "name": "stderr",
     "output_type": "stream",
     "text": [
      "/home/wang/anaconda3/lib/python3.7/site-packages/ipykernel_launcher.py:2: UserWarning: Update your `Conv1D` call to the Keras 2 API: `Conv1D(64, 3, input_shape=(100, 4), padding=\"same\")`\n",
      "  \n",
      "/home/wang/anaconda3/lib/python3.7/site-packages/ipykernel_launcher.py:3: UserWarning: Update your `MaxPooling1D` call to the Keras 2 API: `MaxPooling1D(pool_size=2)`\n",
      "  This is separate from the ipykernel package so we can avoid doing imports until\n",
      "/home/wang/anaconda3/lib/python3.7/site-packages/ipykernel_launcher.py:4: UserWarning: Update your `Conv1D` call to the Keras 2 API: `Conv1D(32, 3, padding=\"same\")`\n",
      "  after removing the cwd from sys.path.\n",
      "/home/wang/anaconda3/lib/python3.7/site-packages/ipykernel_launcher.py:5: UserWarning: Update your `MaxPooling1D` call to the Keras 2 API: `MaxPooling1D(pool_size=2)`\n",
      "  \"\"\"\n",
      "/home/wang/anaconda3/lib/python3.7/site-packages/ipykernel_launcher.py:7: UserWarning: Update your `Dense` call to the Keras 2 API: `Dense(units=1)`\n",
      "  import sys\n"
     ]
    }
   ],
   "source": [
    "model = Sequential()\n",
    "model.add(Convolution1D(64, 3, input_shape= (100,4), border_mode='same'))\n",
    "model.add(MaxPooling1D(pool_length=2))\n",
    "model.add(Convolution1D(32, 3, border_mode='same'))\n",
    "model.add(MaxPooling1D(pool_length=2))\n",
    "model.add(Flatten())\n",
    "model.add(Dense(output_dim=1))\n",
    "model.add(Activation('linear'))\n",
    "\n",
    "model.summary()\n",
    "\n",
    "# from torchsummary import summary\n",
    "\n",
    "# class model(nn.Module):\n",
    "#     def __init__(self, input_dim, embedding_dim, hidden_dim, output_dim):\n",
    "#         super().__init__()\n",
    "        \n",
    "#         self.conv1 = nn.Conv1d(64, 3, (100,4), padding=0)\n",
    "#         self.conv2 = nn.Conv1d(32,3,padding=0)\n",
    "#         self.fc1 = nn.Linear(16, 1)\n",
    "        \n",
    "        \n",
    "#     def forward(self,x):\n",
    "#         out = self.conv1(x)\n",
    "# #         out = F.relu(out)\n",
    "#         out = F.max_pool1d(out, 2)\n",
    "#         out = self.conv2(x)\n",
    "# #         out = F.relu(out)\n",
    "#         out = F.max_pool1d(out, 2)\n",
    "#         out = out.view(out.shape[0], -1)\n",
    "#         out = self.fc1(out)\n",
    "#         out = F.relu(out)\n",
    "#         return out\n",
    "# summary(model)"
   ]
  },
  {
   "cell_type": "code",
   "execution_count": 29,
   "metadata": {},
   "outputs": [],
   "source": [
    "model.compile(loss='mse', optimizer='adam', metrics=['accuracy'])"
   ]
  },
  {
   "cell_type": "code",
   "execution_count": 30,
   "metadata": {},
   "outputs": [
    {
     "name": "stdout",
     "output_type": "stream",
     "text": [
      "WARNING:tensorflow:From /home/wang/anaconda3/lib/python3.7/site-packages/tensorflow/python/ops/math_ops.py:3066: to_int32 (from tensorflow.python.ops.math_ops) is deprecated and will be removed in a future version.\n",
      "Instructions for updating:\n",
      "Use tf.cast instead.\n"
     ]
    },
    {
     "name": "stderr",
     "output_type": "stream",
     "text": [
      "/home/wang/anaconda3/lib/python3.7/site-packages/ipykernel_launcher.py:1: UserWarning: The `nb_epoch` argument in `fit` has been renamed `epochs`.\n",
      "  \"\"\"Entry point for launching an IPython kernel.\n"
     ]
    },
    {
     "name": "stdout",
     "output_type": "stream",
     "text": [
      "Train on 3427 samples, validate on 757 samples\n",
      "Epoch 1/50\n",
      " - 2s - loss: 0.0393 - acc: 2.9180e-04 - val_loss: 0.0353 - val_acc: 0.0013\n",
      "Epoch 2/50\n",
      " - 0s - loss: 0.0042 - acc: 2.9180e-04 - val_loss: 0.0201 - val_acc: 0.0013\n",
      "Epoch 3/50\n",
      " - 0s - loss: 0.0022 - acc: 2.9180e-04 - val_loss: 0.0019 - val_acc: 0.0013\n",
      "Epoch 4/50\n",
      " - 0s - loss: 0.0013 - acc: 2.9180e-04 - val_loss: 0.0021 - val_acc: 0.0013\n",
      "Epoch 5/50\n",
      " - 0s - loss: 0.0010 - acc: 2.9180e-04 - val_loss: 0.0016 - val_acc: 0.0013\n",
      "Epoch 6/50\n",
      " - 0s - loss: 9.0300e-04 - acc: 2.9180e-04 - val_loss: 0.0015 - val_acc: 0.0013\n",
      "Epoch 7/50\n",
      " - 0s - loss: 8.1602e-04 - acc: 2.9180e-04 - val_loss: 0.0014 - val_acc: 0.0013\n",
      "Epoch 8/50\n",
      " - 0s - loss: 7.3669e-04 - acc: 2.9180e-04 - val_loss: 0.0012 - val_acc: 0.0013\n",
      "Epoch 9/50\n",
      " - 0s - loss: 6.7482e-04 - acc: 2.9180e-04 - val_loss: 0.0011 - val_acc: 0.0013\n",
      "Epoch 10/50\n",
      " - 0s - loss: 6.1304e-04 - acc: 2.9180e-04 - val_loss: 0.0010 - val_acc: 0.0013\n",
      "Epoch 11/50\n",
      " - 0s - loss: 5.6399e-04 - acc: 2.9180e-04 - val_loss: 0.0011 - val_acc: 0.0013\n",
      "Epoch 12/50\n",
      " - 0s - loss: 5.2440e-04 - acc: 2.9180e-04 - val_loss: 0.0011 - val_acc: 0.0013\n",
      "Epoch 13/50\n",
      " - 0s - loss: 4.8833e-04 - acc: 2.9180e-04 - val_loss: 7.3324e-04 - val_acc: 0.0013\n",
      "Epoch 14/50\n",
      " - 0s - loss: 4.5879e-04 - acc: 2.9180e-04 - val_loss: 7.6346e-04 - val_acc: 0.0013\n",
      "Epoch 15/50\n",
      " - 0s - loss: 4.3386e-04 - acc: 2.9180e-04 - val_loss: 6.7316e-04 - val_acc: 0.0013\n",
      "Epoch 16/50\n",
      " - 0s - loss: 4.1296e-04 - acc: 2.9180e-04 - val_loss: 6.6579e-04 - val_acc: 0.0013\n",
      "Epoch 17/50\n",
      " - 0s - loss: 3.9723e-04 - acc: 2.9180e-04 - val_loss: 5.9020e-04 - val_acc: 0.0013\n",
      "Epoch 18/50\n",
      " - 0s - loss: 3.8494e-04 - acc: 2.9180e-04 - val_loss: 6.0015e-04 - val_acc: 0.0013\n",
      "Epoch 19/50\n",
      " - 0s - loss: 3.7489e-04 - acc: 2.9180e-04 - val_loss: 6.4868e-04 - val_acc: 0.0013\n",
      "Epoch 20/50\n",
      " - 0s - loss: 3.7626e-04 - acc: 2.9180e-04 - val_loss: 5.7432e-04 - val_acc: 0.0013\n",
      "Epoch 21/50\n",
      " - 0s - loss: 3.5692e-04 - acc: 2.9180e-04 - val_loss: 5.7792e-04 - val_acc: 0.0013\n",
      "Epoch 22/50\n",
      " - 0s - loss: 3.4335e-04 - acc: 2.9180e-04 - val_loss: 5.1286e-04 - val_acc: 0.0013\n",
      "Epoch 23/50\n",
      " - 0s - loss: 3.3301e-04 - acc: 2.9180e-04 - val_loss: 4.9058e-04 - val_acc: 0.0013\n",
      "Epoch 24/50\n",
      " - 0s - loss: 3.2622e-04 - acc: 2.9180e-04 - val_loss: 4.7910e-04 - val_acc: 0.0013\n",
      "Epoch 25/50\n",
      " - 0s - loss: 3.1916e-04 - acc: 2.9180e-04 - val_loss: 5.2603e-04 - val_acc: 0.0013\n",
      "Epoch 26/50\n",
      " - 0s - loss: 3.1909e-04 - acc: 2.9180e-04 - val_loss: 4.6298e-04 - val_acc: 0.0013\n",
      "Epoch 27/50\n",
      " - 0s - loss: 3.1231e-04 - acc: 2.9180e-04 - val_loss: 4.6189e-04 - val_acc: 0.0013\n",
      "Epoch 28/50\n",
      " - 0s - loss: 3.0962e-04 - acc: 2.9180e-04 - val_loss: 4.3987e-04 - val_acc: 0.0013\n",
      "Epoch 29/50\n",
      " - 0s - loss: 2.9570e-04 - acc: 2.9180e-04 - val_loss: 4.3009e-04 - val_acc: 0.0013\n",
      "Epoch 30/50\n",
      " - 0s - loss: 2.9183e-04 - acc: 2.9180e-04 - val_loss: 4.4279e-04 - val_acc: 0.0013\n",
      "Epoch 31/50\n",
      " - 0s - loss: 2.8234e-04 - acc: 2.9180e-04 - val_loss: 4.9045e-04 - val_acc: 0.0013\n",
      "Epoch 32/50\n",
      " - 0s - loss: 2.7668e-04 - acc: 2.9180e-04 - val_loss: 4.0575e-04 - val_acc: 0.0013\n",
      "Epoch 33/50\n",
      " - 0s - loss: 2.7083e-04 - acc: 2.9180e-04 - val_loss: 4.2722e-04 - val_acc: 0.0013\n",
      "Epoch 34/50\n",
      " - 0s - loss: 2.6761e-04 - acc: 2.9180e-04 - val_loss: 4.2103e-04 - val_acc: 0.0013\n",
      "Epoch 35/50\n",
      " - 0s - loss: 2.6236e-04 - acc: 2.9180e-04 - val_loss: 3.9807e-04 - val_acc: 0.0013\n",
      "Epoch 36/50\n",
      " - 0s - loss: 2.5616e-04 - acc: 2.9180e-04 - val_loss: 3.8150e-04 - val_acc: 0.0013\n",
      "Epoch 37/50\n",
      " - 0s - loss: 2.5697e-04 - acc: 2.9180e-04 - val_loss: 3.7431e-04 - val_acc: 0.0013\n",
      "Epoch 38/50\n",
      " - 0s - loss: 2.5152e-04 - acc: 2.9180e-04 - val_loss: 3.7124e-04 - val_acc: 0.0013\n",
      "Epoch 39/50\n",
      " - 0s - loss: 2.4263e-04 - acc: 2.9180e-04 - val_loss: 3.6135e-04 - val_acc: 0.0013\n",
      "Epoch 40/50\n",
      " - 0s - loss: 2.3854e-04 - acc: 2.9180e-04 - val_loss: 3.6080e-04 - val_acc: 0.0013\n",
      "Epoch 41/50\n",
      " - 0s - loss: 2.3779e-04 - acc: 2.9180e-04 - val_loss: 3.9773e-04 - val_acc: 0.0013\n",
      "Epoch 42/50\n",
      " - 0s - loss: 2.3508e-04 - acc: 2.9180e-04 - val_loss: 3.6615e-04 - val_acc: 0.0013\n",
      "Epoch 43/50\n",
      " - 0s - loss: 2.2833e-04 - acc: 2.9180e-04 - val_loss: 3.4322e-04 - val_acc: 0.0013\n",
      "Epoch 44/50\n",
      " - 0s - loss: 2.2519e-04 - acc: 2.9180e-04 - val_loss: 3.4631e-04 - val_acc: 0.0013\n",
      "Epoch 45/50\n",
      " - 0s - loss: 2.2195e-04 - acc: 2.9180e-04 - val_loss: 3.3346e-04 - val_acc: 0.0013\n",
      "Epoch 46/50\n",
      " - 0s - loss: 2.2301e-04 - acc: 2.9180e-04 - val_loss: 3.3164e-04 - val_acc: 0.0013\n",
      "Epoch 47/50\n",
      " - 0s - loss: 2.1562e-04 - acc: 2.9180e-04 - val_loss: 3.6728e-04 - val_acc: 0.0013\n",
      "Epoch 48/50\n",
      " - 0s - loss: 2.2016e-04 - acc: 2.9180e-04 - val_loss: 7.3985e-04 - val_acc: 0.0013\n",
      "Epoch 49/50\n",
      " - 0s - loss: 2.2057e-04 - acc: 2.9180e-04 - val_loss: 3.1755e-04 - val_acc: 0.0013\n",
      "Epoch 50/50\n",
      " - 0s - loss: 2.1215e-04 - acc: 2.9180e-04 - val_loss: 3.2927e-04 - val_acc: 0.0013\n"
     ]
    },
    {
     "data": {
      "text/plain": [
       "<keras.callbacks.History at 0x7feae9afc0f0>"
      ]
     },
     "execution_count": 30,
     "metadata": {},
     "output_type": "execute_result"
    }
   ],
   "source": [
    "model.fit(X_train, y_train, batch_size=256, nb_epoch=50, validation_data = (X_test, y_test), verbose=2)"
   ]
  },
  {
   "cell_type": "code",
   "execution_count": 31,
   "metadata": {},
   "outputs": [
    {
     "name": "stdout",
     "output_type": "stream",
     "text": [
      "757/757 [==============================] - 0s 9us/step\n"
     ]
    }
   ],
   "source": [
    "score= model.evaluate(X_test, y_test, batch_size=256)"
   ]
  },
  {
   "cell_type": "code",
   "execution_count": 32,
   "metadata": {},
   "outputs": [
    {
     "name": "stdout",
     "output_type": "stream",
     "text": [
      "[0.00032926815507125815, 0.0013210039058038313]\n"
     ]
    }
   ],
   "source": [
    "print (score)"
   ]
  },
  {
   "cell_type": "code",
   "execution_count": 36,
   "metadata": {},
   "outputs": [
    {
     "data": {
      "text/plain": [
       "(757, 1)"
      ]
     },
     "execution_count": 36,
     "metadata": {},
     "output_type": "execute_result"
    }
   ],
   "source": [
    "y_pred= model.predict(X_test)\n",
    "y_pred.shape"
   ]
  },
  {
   "cell_type": "code",
   "execution_count": 38,
   "metadata": {},
   "outputs": [
    {
     "data": {
      "image/png": "[encoded data removed]",
      "text/plain": [
       "<Figure size 432x288 with 1 Axes>"
      ]
     },
     "metadata": {
      "needs_background": "light"
     },
     "output_type": "display_data"
    }
   ],
   "source": [
    "plt.plot(range(len(y_pred)), y_pred, 'r-')\n",
    "plt.plot(range(len(y_test)), y_test, 'b-')\n",
    "plt.show()"
   ]
  },
  {
   "cell_type": "code",
   "execution_count": 35,
   "metadata": {},
   "outputs": [
    {
     "data": {
      "image/png": "[encoded data removed]",
      "text/plain": [
       "<Figure size 432x288 with 1 Axes>"
      ]
     },
     "metadata": {
      "needs_background": "light"
     },
     "output_type": "display_data"
    }
   ],
   "source": [
    "plt.plot (y_pred, y_test, 'bo')\n",
    "plt.xlabel('y_pred')\n",
    "plt.ylabel('y_test')\n",
    "plt.show()"
   ]
  },
  {
   "cell_type": "code",
   "execution_count": null,
   "metadata": {},
   "outputs": [],
   "source": []
  }
 ],
 "metadata": {
  "kernelspec": {
   "display_name": "Python 3",
   "language": "python",
   "name": "python3"
  },
  "language_info": {
   "codemirror_mode": {
    "name": "ipython",
    "version": 3
   },
   "file_extension": ".py",
   "mimetype": "text/x-python",
   "name": "python",
   "nbconvert_exporter": "python",
   "pygments_lexer": "ipython3",
   "version": "3.7.3"
  }
 },
 "nbformat": 4,
 "nbformat_minor": 2
}
