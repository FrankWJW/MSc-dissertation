{
 "cells": [
  {
   "cell_type": "code",
   "execution_count": 1,
   "metadata": {},
<<<<<<< HEAD
   "outputs": [
    {
     "name": "stderr",
     "output_type": "stream",
     "text": [
      "Using TensorFlow backend.\n"
     ]
    }
   ],
   "source": [
=======
   "outputs": [],
   "source": [
    "%load_ext autoreload\n",
    "%autoreload 2\n",
    "\n",
>>>>>>> edafa0f35beaec0d7c7567d6246a9c7807478200
    "import numpy as np\n",
    "import pandas as pd\n",
    "import torch\n",
    "import torch.nn as nn\n",
    "import torch.nn.functional as F\n",
<<<<<<< HEAD
    "from keras.layers import Dense, Dropout, Activation, LSTM, Convolution1D, MaxPooling1D, Flatten\n",
    "from keras.models import Sequential\n",
    "import matplotlib.pyplot as plt\n",
=======
    "# from keras.layers import Dense, Dropout, Activation, LSTM, Convolution1D, MaxPooling1D, Flatten\n",
    "# from keras.models import Sequential\n",
    "import matplotlib.pyplot as plt\n",
    "\n",
>>>>>>> edafa0f35beaec0d7c7567d6246a9c7807478200
    "%matplotlib inline\n",
    "\n",
    "try: \n",
    "    import torchbearer\n",
    "except:\n",
    "    !pip install torchbearer\n",
    "    import torchbearer\n",
    "    \n",
    "from torchbearer import Trial"
   ]
  },
  {
   "cell_type": "code",
   "execution_count": 2,
   "metadata": {},
   "outputs": [],
   "source": [
    "import torch\n",
    "import torch.nn.functional as F\n",
    "import torchvision.transforms as transforms\n",
    "import torchbearer\n",
    "from torch import nn\n",
    "from torch import optim\n",
    "from torch.utils.data import DataLoader, TensorDataset, Dataset\n",
    "from torchvision.datasets import MNIST\n",
    "from torchbearer import Trial\n",
<<<<<<< HEAD
    "import torchvision.transforms as transforms"
=======
    "import torchvision.transforms as transforms\n"
   ]
  },
  {
   "cell_type": "code",
   "execution_count": 277,
   "metadata": {},
   "outputs": [
    {
     "data": {
      "text/plain": [
       "device(type='cuda')"
      ]
     },
     "execution_count": 277,
     "metadata": {},
     "output_type": "execute_result"
    }
   ],
   "source": [
    "device = torch.device(\"cuda\" if torch.cuda.is_available() else \"cpu\")\n",
    "device"
>>>>>>> edafa0f35beaec0d7c7567d6246a9c7807478200
   ]
  },
  {
   "cell_type": "code",
<<<<<<< HEAD
   "execution_count": 3,
=======
   "execution_count": 278,
>>>>>>> edafa0f35beaec0d7c7567d6246a9c7807478200
   "metadata": {},
   "outputs": [
    {
     "name": "stdout",
     "output_type": "stream",
     "text": [
<<<<<<< HEAD
      " 驱动器 D 中的卷没有标签。\n",
      " 卷的序列号是 14DF-F7F4\n",
      "\n",
      " D:\\git\\Stock-Market-Price-Prediction-master 的目录\n",
      "\n",
      "2019/07/08  16:27    <DIR>          .\n",
      "2019/07/08  16:27    <DIR>          ..\n",
      "2019/07/03  15:28    <DIR>          .ipynb_checkpoints\n",
      "2019/06/22  15:43           363,722 ^DJI.csv\n",
      "2019/06/26  00:18           103,280 ^GSPC.csv\n",
=======
      " 驱动器 D 中的卷是 Data\n",
      " 卷的序列号是 F66F-4A2F\n",
      "\n",
      " D:\\projects\\Stock-Market-Price-Prediction-master 的目录\n",
      "\n",
      "2019/07/11  13:50    <DIR>          .\n",
      "2019/07/11  13:50    <DIR>          ..\n",
      "2019/07/09  21:51    <DIR>          .ipynb_checkpoints\n",
      "2019/06/22  15:43           363,722 ^DJI.csv\n",
      "2019/06/26  00:18           103,280 ^GSPC.csv\n",
      "2019/07/11  13:20    <DIR>          __pycache__\n",
>>>>>>> edafa0f35beaec0d7c7567d6246a9c7807478200
      "2019/07/05  21:11           381,476 5_1_CNN-Copy1.ipynb\n",
      "2019/06/24  16:48           335,219 Archive.zip\n",
      "2019/06/14  11:01               658 CBOE yearly 04-18.csv\n",
      "2019/06/14  11:51           189,414 EUR_GBP 05-16.csv\n",
      "2019/06/14  11:47           189,007 EUR_JPY 05-16.csv\n",
      "2019/06/14  11:44           189,396 EUR_USD 05-16.csv\n",
      "2019/06/14  11:49           189,370 GBP_JPY 05-16.csv\n",
      "2019/06/14  11:54           189,425 GBP_USD 05-16.csv\n",
<<<<<<< HEAD
      "2019/07/03  14:29    <DIR>          MNIST\n",
=======
      "2019/07/11  13:19             8,261 misc_functions.py\n",
      "2019/07/09  21:51    <DIR>          MNIST\n",
>>>>>>> edafa0f35beaec0d7c7567d6246a9c7807478200
      "2018/01/07  10:01             1,031 README.md\n",
      "2019/06/14  11:31           206,054 SP500 05-16.csv\n",
      "2019/06/26  14:00           125,642 stock_conv1d.ipynb\n",
      "2019/06/26  13:44           135,759 stock_conv1d-Copy1.ipynb\n",
      "2019/06/23  14:22            70,029 stock_conv1d-out-of-sample.ipynb\n",
<<<<<<< HEAD
      "2019/07/08  16:27           128,157 stock_conv1d-pytorch.ipynb\n",
      "2019/06/26  14:11           161,120 stock_dilatedconv+lstm.ipynb\n",
      "2019/06/26  13:46           118,194 stock_lstm+conv1d.ipynb\n",
      "2019/06/22  18:20            57,626 stock_nn.ipynb\n",
      "2019/06/25  13:35            62,261 stock_rnn_lstm.ipynb\n",
      "2019/06/14  11:42           183,293 Volatility 05-16.csv\n",
      "              21 个文件      3,380,133 字节\n",
      "               4 个目录 193,443,672,064 可用字节\n"
=======
      "2019/07/11  13:50           132,949 stock_conv1d-pytorch.ipynb\n",
      "2019/06/26  13:49           161,120 stock_dilatedconv+lstm.ipynb\n",
      "2019/06/26  13:46           118,194 stock_lstm+conv1d.ipynb\n",
      "2019/06/22  18:20            57,626 stock_nn.ipynb\n",
      "2019/06/25  13:35            62,261 stock_rnn_lstm.ipynb\n",
      "2019/07/11  11:37             1,521 vanillabackprop.py\n",
      "2019/06/14  11:42           183,293 Volatility 05-16.csv\n",
      "              23 个文件      3,394,707 字节\n",
      "               5 个目录 25,382,129,664 可用字节\n"
>>>>>>> edafa0f35beaec0d7c7567d6246a9c7807478200
     ]
    }
   ],
   "source": [
    "## Data preparation\n",
    "%ls"
   ]
  },
  {
   "cell_type": "code",
<<<<<<< HEAD
   "execution_count": 4,
=======
   "execution_count": 279,
>>>>>>> edafa0f35beaec0d7c7567d6246a9c7807478200
   "metadata": {},
   "outputs": [
    {
     "data": {
      "text/html": [
       "<div>\n",
       "<style scoped>\n",
       "    .dataframe tbody tr th:only-of-type {\n",
       "        vertical-align: middle;\n",
       "    }\n",
       "\n",
       "    .dataframe tbody tr th {\n",
       "        vertical-align: top;\n",
       "    }\n",
       "\n",
       "    .dataframe thead th {\n",
       "        text-align: right;\n",
       "    }\n",
       "</style>\n",
       "<table border=\"1\" class=\"dataframe\">\n",
       "  <thead>\n",
       "    <tr style=\"text-align: right;\">\n",
       "      <th></th>\n",
       "      <th>Date</th>\n",
       "      <th>Open</th>\n",
       "      <th>High</th>\n",
       "      <th>Low</th>\n",
       "      <th>Close</th>\n",
       "      <th>Adj Close</th>\n",
       "      <th>Volume</th>\n",
       "    </tr>\n",
       "  </thead>\n",
       "  <tbody>\n",
       "    <tr>\n",
       "      <th>4279</th>\n",
       "      <td>2017-01-05</td>\n",
       "      <td>19924.560547</td>\n",
       "      <td>19948.599609</td>\n",
       "      <td>19811.119141</td>\n",
       "      <td>19899.289063</td>\n",
       "      <td>19899.289063</td>\n",
       "      <td>269920000</td>\n",
       "    </tr>\n",
       "    <tr>\n",
       "      <th>4280</th>\n",
       "      <td>2017-01-06</td>\n",
       "      <td>19906.960938</td>\n",
       "      <td>19999.630859</td>\n",
       "      <td>19834.080078</td>\n",
       "      <td>19963.800781</td>\n",
       "      <td>19963.800781</td>\n",
       "      <td>277700000</td>\n",
       "    </tr>\n",
       "    <tr>\n",
       "      <th>4281</th>\n",
       "      <td>2017-01-09</td>\n",
       "      <td>19931.410156</td>\n",
       "      <td>19943.779297</td>\n",
       "      <td>19887.380859</td>\n",
       "      <td>19887.380859</td>\n",
       "      <td>19887.380859</td>\n",
       "      <td>287060000</td>\n",
       "    </tr>\n",
       "    <tr>\n",
       "      <th>4282</th>\n",
       "      <td>2017-01-10</td>\n",
       "      <td>19876.349609</td>\n",
       "      <td>19957.119141</td>\n",
       "      <td>19836.029297</td>\n",
       "      <td>19855.529297</td>\n",
       "      <td>19855.529297</td>\n",
       "      <td>299410000</td>\n",
       "    </tr>\n",
       "    <tr>\n",
       "      <th>4283</th>\n",
       "      <td>2017-01-11</td>\n",
       "      <td>19887.380859</td>\n",
       "      <td>19973.419922</td>\n",
       "      <td>19833.160156</td>\n",
       "      <td>19954.279297</td>\n",
       "      <td>19954.279297</td>\n",
       "      <td>336150000</td>\n",
       "    </tr>\n",
       "  </tbody>\n",
       "</table>\n",
       "</div>"
      ],
      "text/plain": [
       "            Date          Open          High           Low         Close  \\\n",
       "4279  2017-01-05  19924.560547  19948.599609  19811.119141  19899.289063   \n",
       "4280  2017-01-06  19906.960938  19999.630859  19834.080078  19963.800781   \n",
       "4281  2017-01-09  19931.410156  19943.779297  19887.380859  19887.380859   \n",
       "4282  2017-01-10  19876.349609  19957.119141  19836.029297  19855.529297   \n",
       "4283  2017-01-11  19887.380859  19973.419922  19833.160156  19954.279297   \n",
       "\n",
       "         Adj Close     Volume  \n",
       "4279  19899.289063  269920000  \n",
       "4280  19963.800781  277700000  \n",
       "4281  19887.380859  287060000  \n",
       "4282  19855.529297  299410000  \n",
       "4283  19954.279297  336150000  "
      ]
     },
<<<<<<< HEAD
     "execution_count": 4,
=======
     "execution_count": 279,
>>>>>>> edafa0f35beaec0d7c7567d6246a9c7807478200
     "metadata": {},
     "output_type": "execute_result"
    }
   ],
   "source": [
    "data= pd.read_csv('^DJI.csv')\n",
    "data.tail()"
   ]
  },
  {
   "cell_type": "code",
<<<<<<< HEAD
   "execution_count": 5,
=======
   "execution_count": 280,
>>>>>>> edafa0f35beaec0d7c7567d6246a9c7807478200
   "metadata": {},
   "outputs": [
    {
     "data": {
      "text/html": [
       "<div>\n",
       "<style scoped>\n",
       "    .dataframe tbody tr th:only-of-type {\n",
       "        vertical-align: middle;\n",
       "    }\n",
       "\n",
       "    .dataframe tbody tr th {\n",
       "        vertical-align: top;\n",
       "    }\n",
       "\n",
       "    .dataframe thead th {\n",
       "        text-align: right;\n",
       "    }\n",
       "</style>\n",
       "<table border=\"1\" class=\"dataframe\">\n",
       "  <thead>\n",
       "    <tr style=\"text-align: right;\">\n",
       "      <th></th>\n",
       "      <th>Date</th>\n",
       "      <th>Open</th>\n",
       "      <th>High</th>\n",
       "      <th>Low</th>\n",
       "      <th>Close</th>\n",
       "      <th>Adj Close</th>\n",
       "      <th>Volume</th>\n",
       "    </tr>\n",
       "  </thead>\n",
       "  <tbody>\n",
       "    <tr>\n",
       "      <th>4279</th>\n",
       "      <td>2017-01-05</td>\n",
       "      <td>19924.560547</td>\n",
       "      <td>19948.599609</td>\n",
       "      <td>19811.119141</td>\n",
       "      <td>19899.289063</td>\n",
       "      <td>19899.289063</td>\n",
       "      <td>269920000</td>\n",
       "    </tr>\n",
       "    <tr>\n",
       "      <th>4280</th>\n",
       "      <td>2017-01-06</td>\n",
       "      <td>19906.960938</td>\n",
       "      <td>19999.630859</td>\n",
       "      <td>19834.080078</td>\n",
       "      <td>19963.800781</td>\n",
       "      <td>19963.800781</td>\n",
       "      <td>277700000</td>\n",
       "    </tr>\n",
       "    <tr>\n",
       "      <th>4281</th>\n",
       "      <td>2017-01-09</td>\n",
       "      <td>19931.410156</td>\n",
       "      <td>19943.779297</td>\n",
       "      <td>19887.380859</td>\n",
       "      <td>19887.380859</td>\n",
       "      <td>19887.380859</td>\n",
       "      <td>287060000</td>\n",
       "    </tr>\n",
       "    <tr>\n",
       "      <th>4282</th>\n",
       "      <td>2017-01-10</td>\n",
       "      <td>19876.349609</td>\n",
       "      <td>19957.119141</td>\n",
       "      <td>19836.029297</td>\n",
       "      <td>19855.529297</td>\n",
       "      <td>19855.529297</td>\n",
       "      <td>299410000</td>\n",
       "    </tr>\n",
       "    <tr>\n",
       "      <th>4283</th>\n",
       "      <td>2017-01-11</td>\n",
       "      <td>19887.380859</td>\n",
       "      <td>19973.419922</td>\n",
       "      <td>19833.160156</td>\n",
       "      <td>19954.279297</td>\n",
       "      <td>19954.279297</td>\n",
       "      <td>336150000</td>\n",
       "    </tr>\n",
       "  </tbody>\n",
       "</table>\n",
       "</div>"
      ],
      "text/plain": [
       "            Date          Open          High           Low         Close  \\\n",
       "4279  2017-01-05  19924.560547  19948.599609  19811.119141  19899.289063   \n",
       "4280  2017-01-06  19906.960938  19999.630859  19834.080078  19963.800781   \n",
       "4281  2017-01-09  19931.410156  19943.779297  19887.380859  19887.380859   \n",
       "4282  2017-01-10  19876.349609  19957.119141  19836.029297  19855.529297   \n",
       "4283  2017-01-11  19887.380859  19973.419922  19833.160156  19954.279297   \n",
       "\n",
       "         Adj Close     Volume  \n",
       "4279  19899.289063  269920000  \n",
       "4280  19963.800781  277700000  \n",
       "4281  19887.380859  287060000  \n",
       "4282  19855.529297  299410000  \n",
       "4283  19954.279297  336150000  "
      ]
     },
<<<<<<< HEAD
     "execution_count": 5,
=======
     "execution_count": 280,
>>>>>>> edafa0f35beaec0d7c7567d6246a9c7807478200
     "metadata": {},
     "output_type": "execute_result"
    }
   ],
   "source": [
    "data= data.dropna(axis=0)#drop rows which may contain missing values\n",
    "data.tail()"
   ]
  },
  {
   "cell_type": "code",
<<<<<<< HEAD
   "execution_count": 6,
=======
   "execution_count": 281,
>>>>>>> edafa0f35beaec0d7c7567d6246a9c7807478200
   "metadata": {},
   "outputs": [
    {
     "name": "stdout",
     "output_type": "stream",
     "text": [
      "(4284, 4)\n"
     ]
    }
   ],
   "source": [
    "data= data.values[:, 1:5]\n",
    "print (data.shape)"
   ]
  },
  {
   "cell_type": "code",
<<<<<<< HEAD
   "execution_count": 7,
=======
   "execution_count": 282,
>>>>>>> edafa0f35beaec0d7c7567d6246a9c7807478200
   "metadata": {},
   "outputs": [
    {
     "name": "stdout",
     "output_type": "stream",
     "text": [
      "[[11501.849609 11522.009766 11305.69043 11357.509766]\n",
      " [11349.75 11350.05957 10986.450195 10997.929688]\n",
      " [10989.370117 11215.099609 10938.669922 11122.650391]\n",
      " [11113.370117 11313.450195 11098.450195 11253.259766]\n",
      " [11247.05957 11528.139648 11239.919922 11522.55957]\n",
      " [11532.480469 11638.280273 11532.480469 11572.200195]]\n"
     ]
    }
   ],
   "source": [
    "print (data[:6, :])"
   ]
  },
  {
   "cell_type": "code",
<<<<<<< HEAD
   "execution_count": 8,
=======
   "execution_count": 283,
>>>>>>> edafa0f35beaec0d7c7567d6246a9c7807478200
   "metadata": {},
   "outputs": [
    {
     "name": "stdout",
     "output_type": "stream",
     "text": [
      "(4283,)\n",
      "(4283, 4)\n"
     ]
    }
   ],
   "source": [
    "y= data[1:, 3] #the close price\n",
    "print (y.shape)\n",
    "X= data[:4283,:]\n",
    "print (X.shape)"
   ]
  },
  {
   "cell_type": "code",
<<<<<<< HEAD
   "execution_count": 9,
=======
   "execution_count": 284,
>>>>>>> edafa0f35beaec0d7c7567d6246a9c7807478200
   "metadata": {},
   "outputs": [
    {
     "name": "stdout",
     "output_type": "stream",
     "text": [
      "[0.9958489671060151 0.9969608353545725 0.9977970638423223\n",
      " 0.9895037255460575 0.9884685127944293 0.9842101331451283\n",
      " 0.9930844240922265 0.9975826611512648 0.9943898946924046\n",
      " 0.9991943173236132 0.9935030473634489 0.9911309455181354\n",
      " 0.9984852177269742]\n",
      "[0.3314732377562158 0.34076164281889654 0.3504885987356185\n",
      " 0.3705443360966607 0.37424125426240135 0.36968941651198045\n",
      " 0.3726698167615406]\n"
     ]
    }
   ],
   "source": [
    "y= (y- min(y))/(max(y)- min(y)) #??? normalsation\n",
    "print (y[4270:])\n",
    "print (y[:7])"
   ]
  },
  {
   "cell_type": "code",
<<<<<<< HEAD
   "execution_count": 10,
=======
   "execution_count": 285,
>>>>>>> edafa0f35beaec0d7c7567d6246a9c7807478200
   "metadata": {},
   "outputs": [
    {
     "name": "stdout",
     "output_type": "stream",
     "text": [
      "(4283, 4)\n",
      "[[0.36915916133693344 0.36210626788689226 0.3589471777635444\n",
      "  0.35825247597887355]\n",
      " [0.35782701622684665 0.34916797410603573 0.335250623396864\n",
      "  0.3314732377562158]\n",
      " [0.33097699895354726 0.3390129893215408 0.33170399075890933\n",
      "  0.34076164281889654]]\n"
     ]
    }
   ],
   "source": [
    "X= (X- np.min(X,axis=0))/(np.max(X, axis=0)-np.min(X,axis=0))\n",
    "print (X.shape)\n",
    "print (X[:3, :])"
   ]
  },
  {
   "cell_type": "code",
<<<<<<< HEAD
   "execution_count": 11,
=======
   "execution_count": 286,
>>>>>>> edafa0f35beaec0d7c7567d6246a9c7807478200
   "metadata": {},
   "outputs": [
    {
     "data": {
      "text/plain": [
       "'\\nRowling the window size = 100 days\\nThis example is in sample forcasting\\nwhat is different of in sample and out of sample forecasting: \\n\\nhttps://stats.stackexchange.com/questions/260899/what-is-difference-between-in-sample-and-out-of-sample-forecasts\\n'"
      ]
     },
<<<<<<< HEAD
     "execution_count": 11,
=======
     "execution_count": 286,
>>>>>>> edafa0f35beaec0d7c7567d6246a9c7807478200
     "metadata": {},
     "output_type": "execute_result"
    }
   ],
   "source": [
    "## Sequence data preparation\n",
    "\"\"\"\n",
    "Rowling the window size = 100 days\n",
    "This example is in sample forcasting\n",
    "what is different of in sample and out of sample forecasting: \n",
    "\n",
    "https://stats.stackexchange.com/questions/260899/what-is-difference-between-in-sample-and-out-of-sample-forecasts\n",
    "\"\"\""
   ]
  },
  {
   "cell_type": "code",
<<<<<<< HEAD
   "execution_count": 12,
=======
   "execution_count": 287,
>>>>>>> edafa0f35beaec0d7c7567d6246a9c7807478200
   "metadata": {},
   "outputs": [
    {
     "name": "stdout",
     "output_type": "stream",
     "text": [
      "(4184, 100, 4) (4184,)\n"
     ]
    }
   ],
   "source": [
    "time_steps= 100 #1 to 100 days ahead\n",
    "X_new= np.zeros((X.shape[0] - time_steps +1, 100, X.shape[1]))\n",
    "y_new= np.zeros((y.shape[0] -time_steps +1,))\n",
    "for ix in range(X_new.shape[0]):\n",
    "    for jx in range(time_steps):\n",
    "        X_new[ix, jx, :]= X[ix +jx, :]\n",
    "    y_new[ix]= y[ix + time_steps -1]\n",
    "print (X_new.shape, y_new.shape)"
   ]
  },
  {
   "cell_type": "code",
<<<<<<< HEAD
   "execution_count": 13,
=======
   "execution_count": 288,
>>>>>>> edafa0f35beaec0d7c7567d6246a9c7807478200
   "metadata": {},
   "outputs": [],
   "source": [
    "## split into train and test sets"
   ]
  },
  {
   "cell_type": "code",
<<<<<<< HEAD
   "execution_count": 14,
=======
   "execution_count": 289,
>>>>>>> edafa0f35beaec0d7c7567d6246a9c7807478200
   "metadata": {},
   "outputs": [
    {
     "name": "stdout",
     "output_type": "stream",
     "text": [
      "(3427, 100, 4) (3427,)\n",
      "(757, 100, 4) (757,)\n"
     ]
    }
   ],
   "source": [
    "split = int(0.8*data.shape[0])\n",
<<<<<<< HEAD
    "X_train = X_new[:split]\n",
=======
    "X_train c= X_new[:split]\n",
>>>>>>> edafa0f35beaec0d7c7567d6246a9c7807478200
    "X_test = X_new[split:]\n",
    "\n",
    "y_train = y_new[:split]\n",
    "y_test = y_new[split:]\n",
    "\n",
    "print (X_train.shape, y_train.shape)\n",
    "print (X_test.shape, y_test.shape)"
   ]
  },
  {
   "cell_type": "code",
<<<<<<< HEAD
   "execution_count": 15,
   "metadata": {},
   "outputs": [],
   "source": [
    "## Model fitting"
   ]
  },
  {
   "cell_type": "code",
   "execution_count": null,
   "metadata": {},
   "outputs": [],
   "source": [
    "model = Sequential()\n",
    "model.add(Convolution1D(64, 3, input_shape= (100,4), border_mode='same'))\n",
    "model.add(MaxPooling1D(pool_length=2))\n",
    "model.add(Convolution1D(32, 3, border_mode='same'))\n",
    "model.add(MaxPooling1D(pool_length=2))\n",
    "model.add(Flatten())\n",
    "model.add(Dense(output_dim=1))\n",
    "model.add(Activation('linear'))\n",
    "\n",
    "model.summary()"
=======
   "execution_count": null,
   "metadata": {},
   "outputs": [],
   "source": []
  },
  {
   "cell_type": "code",
   "execution_count": 290,
   "metadata": {},
   "outputs": [],
   "source": [
    "## Model fitting"
>>>>>>> edafa0f35beaec0d7c7567d6246a9c7807478200
   ]
  },
  {
   "cell_type": "code",
<<<<<<< HEAD
   "execution_count": 16,
=======
   "execution_count": 291,
>>>>>>> edafa0f35beaec0d7c7567d6246a9c7807478200
   "metadata": {},
   "outputs": [
    {
     "name": "stdout",
     "output_type": "stream",
     "text": [
      "----------------------------------------------------------------\n",
      "        Layer (type)               Output Shape         Param #\n",
      "================================================================\n",
<<<<<<< HEAD
      "            Conv2d-1            [-1, 64, 98, 1]             832\n",
      "            Conv2d-2            [-1, 32, 95, 1]           6,176\n",
      "            Linear-3                    [-1, 1]           3,009\n",
      "================================================================\n",
      "Total params: 10,017\n",
      "Trainable params: 10,017\n",
      "Non-trainable params: 0\n",
      "----------------------------------------------------------------\n",
      "Input size (MB): 0.00\n",
      "Forward/backward pass size (MB): 0.07\n",
      "Params size (MB): 0.04\n",
      "Estimated Total Size (MB): 0.11\n",
      "----------------------------------------------------------------\n",
      "Net(\n",
      "  (conv1): Conv2d(1, 64, kernel_size=(3, 4), stride=(1, 1))\n",
      "  (conv2): Conv2d(64, 32, kernel_size=(3, 1), stride=(1, 1))\n",
      "  (fc1): Linear(in_features=3008, out_features=1, bias=True)\n",
=======
      "            Conv2d-1            [-1, 64, 86, 1]           3,904\n",
      "            Conv2d-2            [-1, 32, 69, 1]          30,752\n",
      "            Linear-3                    [-1, 1]           2,113\n",
      "================================================================\n",
      "Total params: 36,769\n",
      "Trainable params: 36,769\n",
      "Non-trainable params: 0\n",
      "----------------------------------------------------------------\n",
      "Input size (MB): 0.00\n",
      "Forward/backward pass size (MB): 0.06\n",
      "Params size (MB): 0.14\n",
      "Estimated Total Size (MB): 0.20\n",
      "----------------------------------------------------------------\n",
      "Net(\n",
      "  (conv1): Conv2d(1, 64, kernel_size=(15, 4), stride=(1, 1))\n",
      "  (conv2): Conv2d(64, 32, kernel_size=(15, 1), stride=(1, 1))\n",
      "  (fc1): Linear(in_features=2112, out_features=1, bias=True)\n",
>>>>>>> edafa0f35beaec0d7c7567d6246a9c7807478200
      ")\n"
     ]
    }
   ],
   "source": [
<<<<<<< HEAD
=======
    "# model = Sequential()\n",
    "# model.add(Convolution1D(64, 3, input_shape= (100,4), border_mode='same'))\n",
    "# model.add(MaxPooling1D(pool_length=2))\n",
    "# model.add(Convolution1D(32, 3, border_mode='same'))\n",
    "# model.add(MaxPooling1D(pool_length=2))\n",
    "# model.add(Flatten())\n",
    "# model.add(Dense(output_dim=1))\n",
    "# model.add(Activation('linear'))\n",
    "\n",
    "# model.summary()\n",
    "\n",
>>>>>>> edafa0f35beaec0d7c7567d6246a9c7807478200
    "from torchsummary import summary\n",
    "    \n",
    "class Net(nn.Module):  \n",
    "    def __init__(self):\n",
    "        super(Net, self).__init__()\n",
    "        \n",
<<<<<<< HEAD
    "        self.conv1 = nn.Conv2d(1, 64, kernel_size = (3, 4), padding=0)\n",
    "        self.conv2 = nn.Conv2d(64, 32, kernel_size = (3, 1), padding=0)\n",
    "        self.fc1 = nn.Linear(3008 , 1)\n",
=======
    "        self.conv1 = nn.Conv2d(1, 64, kernel_size = (15, 4), padding=0)\n",
    "        self.conv2 = nn.Conv2d(64, 32, kernel_size = (15, 1), padding=0)\n",
    "        self.fc1 = nn.Linear(2112 , 1)\n",
>>>>>>> edafa0f35beaec0d7c7567d6246a9c7807478200
    "        \n",
    "        \n",
    "    def forward(self,x):\n",
    "        out = self.conv1(x)\n",
    "#         out = F.relu(out)\n",
<<<<<<< HEAD
    "        out = F.max_pool2d(out, kernel_size = (2, 1), stride=(1, 1))\n",
    "        out = self.conv2(out)\n",
    "#         out = F.relu(out)\n",
    "        out = F.max_pool2d(out, kernel_size = (2, 1), stride=(1, 1))\n",
    "        out = out.view(out.shape[0], -1)\n",
    "        out = self.fc1(out)\n",
    "#         out = F.relu(out)\n",
=======
    "#         out = F.sigmoid(out)\n",
    "        out = F.max_pool2d(out, kernel_size = (4, 1), stride=(1, 1))\n",
    "        out = self.conv2(out)\n",
    "#         out = F.sigmoid(out)\n",
    "#         out = F.relu(out)\n",
    "        out = F.max_pool2d(out, kernel_size = (4, 1), stride=(1, 1))\n",
    "        out = out.view(out.shape[0], -1)\n",
    "        out = self.fc1(out)\n",
    "#         out = F.relu(out)\n",
    "        out = F.sigmoid(out)\n",
    "#         out = F.tanh(out)\n",
>>>>>>> edafa0f35beaec0d7c7567d6246a9c7807478200
    "        return out\n",
    "\n",
    "    \n",
    "device = torch.device(\"cuda\" if torch.cuda.is_available() else \"cpu\")\n",
    "model = Net().to(device)\n",
    "\n",
    "\n",
    "# summary(your_model, input_size=(channels, H, W))\n",
    "summary(model,(1, 100, 4))\n",
    "print(model)"
   ]
  },
  {
   "cell_type": "code",
<<<<<<< HEAD
   "execution_count": 17,
=======
   "execution_count": 292,
>>>>>>> edafa0f35beaec0d7c7567d6246a9c7807478200
   "metadata": {},
   "outputs": [],
   "source": [
    "# model.compile(loss='mse', optimizer='adam', metrics=['accuracy'])"
   ]
  },
  {
   "cell_type": "code",
<<<<<<< HEAD
   "execution_count": 18,
=======
   "execution_count": 293,
>>>>>>> edafa0f35beaec0d7c7567d6246a9c7807478200
   "metadata": {},
   "outputs": [
    {
     "name": "stdout",
     "output_type": "stream",
     "text": [
      "(3427, 100, 4)\n",
      "(3427,)\n"
     ]
    }
   ],
   "source": [
    "print(X_train.shape)\n",
    "print(y_train.shape)\n",
    "# X_train = np.expand_dims(X_train, axis=0)\n",
<<<<<<< HEAD
    "# y_train = np.expand_dims(y_train, axis=0)\n",
=======
    "# y_train = np .expand_dims(y_train, axis=0)\n",
>>>>>>> edafa0f35beaec0d7c7567d6246a9c7807478200
    "# print(X_train.shape, y_train.shape)"
   ]
  },
  {
   "cell_type": "code",
<<<<<<< HEAD
   "execution_count": 19,
=======
   "execution_count": 294,
>>>>>>> edafa0f35beaec0d7c7567d6246a9c7807478200
   "metadata": {},
   "outputs": [],
   "source": [
    "trainData = torch.from_numpy(X_train)\n",
    "testData = torch.from_numpy(y_train)\n",
    "validateData = torch.from_numpy(X_test)\n",
    "# # create data loaders\n",
    "# trainloader = DataLoader(trainData, batch_size=128, shuffle=True)\n",
    "# testloader = DataLoader(testData, batch_size=128, shuffle=True)"
   ]
  },
  {
   "cell_type": "code",
<<<<<<< HEAD
   "execution_count": 20,
=======
   "execution_count": 295,
>>>>>>> edafa0f35beaec0d7c7567d6246a9c7807478200
   "metadata": {},
   "outputs": [
    {
     "name": "stdout",
     "output_type": "stream",
     "text": [
      "torch.Size([3427, 1, 100, 4]) torch.Size([3427, 1]) torch.Size([757, 1, 100, 4])\n"
     ]
    }
   ],
   "source": [
    "trainData = trainData.view(3427,-1,100,4)\n",
    "testData = testData.view(3427,-1)\n",
    "\n",
    "validateData = validateData.view(validateData.shape[0],-1,100,4)\n",
    "print(trainData.shape,testData.shape,validateData.shape)"
   ]
  },
  {
   "cell_type": "code",
<<<<<<< HEAD
   "execution_count": 21,
=======
   "execution_count": 296,
>>>>>>> edafa0f35beaec0d7c7567d6246a9c7807478200
   "metadata": {},
   "outputs": [
    {
     "name": "stdout",
     "output_type": "stream",
     "text": [
      "torch.Size([1, 100, 4]) torch.Size([1])\n"
     ]
    }
   ],
   "source": [
    "train = TensorDataset(trainData, testData)\n",
    "# print(train[0])\n",
    "tr, te = train[0]\n",
    "print(tr.shape, te.shape)"
   ]
  },
  {
   "cell_type": "code",
<<<<<<< HEAD
   "execution_count": 22,
=======
   "execution_count": 297,
>>>>>>> edafa0f35beaec0d7c7567d6246a9c7807478200
   "metadata": {},
   "outputs": [],
   "source": [
    "trainloader = DataLoader(train, batch_size=256, shuffle=True)"
   ]
  },
  {
   "cell_type": "code",
<<<<<<< HEAD
   "execution_count": 23,
   "metadata": {
    "scrolled": false
=======
   "execution_count": 298,
   "metadata": {
    "scrolled": true
>>>>>>> edafa0f35beaec0d7c7567d6246a9c7807478200
   },
   "outputs": [
    {
     "name": "stdout",
     "output_type": "stream",
     "text": [
      "<class 'torch.Tensor'>\n",
      "torch.Size([256, 1, 100, 4])\n",
      "torch.Size([256, 1])\n"
     ]
    }
   ],
   "source": [
    "dataiter = iter(trainloader)\n",
    "images, labels = dataiter.next()\n",
    "print(type(images))\n",
    "print(images.shape)\n",
    "print(labels.shape)"
   ]
  },
  {
   "cell_type": "code",
<<<<<<< HEAD
   "execution_count": 24,
=======
   "execution_count": 299,
>>>>>>> edafa0f35beaec0d7c7567d6246a9c7807478200
   "metadata": {},
   "outputs": [],
   "source": [
    "from torch import optim\n",
    "# define the loss function and the optimiser\n",
    "loss_function = nn.MSELoss()\n",
    "optimiser = optim.Adam(model.parameters())"
   ]
  },
  {
   "cell_type": "code",
<<<<<<< HEAD
   "execution_count": 25,
=======
   "execution_count": 340,
>>>>>>> edafa0f35beaec0d7c7567d6246a9c7807478200
   "metadata": {},
   "outputs": [],
   "source": [
    "# # flatten 28*28 images to a 784 vector for each image\n",
    "# transform = transforms.Compose([\n",
    "#     transforms.ToTensor(),  # convert to tensor\n",
    "#     transforms.Lambda(lambda x: x.view(-1))  # flatten into vector\n",
    "# ])\n",
    "\n",
    "# trainset = MNIST(\".\", train=True, download=True, transform=transform)\n",
    "# a,_ = trainset[0]\n",
    "# a.shape"
   ]
  },
  {
   "cell_type": "code",
<<<<<<< HEAD
   "execution_count": 26,
=======
   "execution_count": 341,
>>>>>>> edafa0f35beaec0d7c7567d6246a9c7807478200
   "metadata": {
    "scrolled": true
   },
   "outputs": [
    {
<<<<<<< HEAD
     "data": {
      "application/vnd.jupyter.widget-view+json": {
       "model_id": "693a1ab64bbf4f5386209809860a52ee",
=======
     "name": "stdout",
     "output_type": "stream",
     "text": [
      "cuda\n"
     ]
    },
    {
     "data": {
      "application/vnd.jupyter.widget-view+json": {
       "model_id": "765dce8eac0f4072aca004750b4c01fc",
>>>>>>> edafa0f35beaec0d7c7567d6246a9c7807478200
       "version_major": 2,
       "version_minor": 0
      },
      "text/plain": [
<<<<<<< HEAD
       "HBox(children=(IntProgress(value=0, description='0/10(t)', max=14, style=ProgressStyle(description_width='init…"
=======
       "HBox(children=(IntProgress(value=0, description='0/100(t)', max=14, style=ProgressStyle(description_width='ini…"
>>>>>>> edafa0f35beaec0d7c7567d6246a9c7807478200
      ]
     },
     "metadata": {},
     "output_type": "display_data"
    },
    {
     "name": "stdout",
     "output_type": "stream",
     "text": [
      "\n"
     ]
    },
    {
     "data": {
      "application/vnd.jupyter.widget-view+json": {
<<<<<<< HEAD
       "model_id": "d767065235174c5084e92366187fe484",
=======
       "model_id": "8b3bd7c9c2bf46f1b29f11d657477ba6",
>>>>>>> edafa0f35beaec0d7c7567d6246a9c7807478200
       "version_major": 2,
       "version_minor": 0
      },
      "text/plain": [
<<<<<<< HEAD
       "HBox(children=(IntProgress(value=0, description='1/10(t)', max=14, style=ProgressStyle(description_width='init…"
=======
       "HBox(children=(IntProgress(value=0, description='1/100(t)', max=14, style=ProgressStyle(description_width='ini…"
>>>>>>> edafa0f35beaec0d7c7567d6246a9c7807478200
      ]
     },
     "metadata": {},
     "output_type": "display_data"
    },
    {
     "name": "stdout",
     "output_type": "stream",
     "text": [
      "\n"
     ]
    },
    {
     "data": {
      "application/vnd.jupyter.widget-view+json": {
<<<<<<< HEAD
       "model_id": "afbe38379b4541618a98b95feb34bca1",
=======
       "model_id": "d441206106db4347a668d48f5ffa50d9",
>>>>>>> edafa0f35beaec0d7c7567d6246a9c7807478200
       "version_major": 2,
       "version_minor": 0
      },
      "text/plain": [
<<<<<<< HEAD
       "HBox(children=(IntProgress(value=0, description='2/10(t)', max=14, style=ProgressStyle(description_width='init…"
=======
       "HBox(children=(IntProgress(value=0, description='2/100(t)', max=14, style=ProgressStyle(description_width='ini…"
>>>>>>> edafa0f35beaec0d7c7567d6246a9c7807478200
      ]
     },
     "metadata": {},
     "output_type": "display_data"
    },
    {
     "name": "stdout",
     "output_type": "stream",
     "text": [
      "\n"
     ]
    },
    {
     "data": {
      "application/vnd.jupyter.widget-view+json": {
<<<<<<< HEAD
       "model_id": "b838ed3de37241bbac24fdd9b810a52b",
=======
       "model_id": "27124e7caec24f378388e4aa1f9aacb8",
>>>>>>> edafa0f35beaec0d7c7567d6246a9c7807478200
       "version_major": 2,
       "version_minor": 0
      },
      "text/plain": [
<<<<<<< HEAD
       "HBox(children=(IntProgress(value=0, description='3/10(t)', max=14, style=ProgressStyle(description_width='init…"
=======
       "HBox(children=(IntProgress(value=0, description='3/100(t)', max=14, style=ProgressStyle(description_width='ini…"
>>>>>>> edafa0f35beaec0d7c7567d6246a9c7807478200
      ]
     },
     "metadata": {},
     "output_type": "display_data"
    },
    {
     "name": "stdout",
     "output_type": "stream",
     "text": [
      "\n"
     ]
    },
    {
     "data": {
      "application/vnd.jupyter.widget-view+json": {
<<<<<<< HEAD
       "model_id": "fe5cb8dfadbe40e4b574c73609b2a261",
=======
       "model_id": "1854e458363e4147a31c5747da871dce",
>>>>>>> edafa0f35beaec0d7c7567d6246a9c7807478200
       "version_major": 2,
       "version_minor": 0
      },
      "text/plain": [
<<<<<<< HEAD
       "HBox(children=(IntProgress(value=0, description='4/10(t)', max=14, style=ProgressStyle(description_width='init…"
=======
       "HBox(children=(IntProgress(value=0, description='4/100(t)', max=14, style=ProgressStyle(description_width='ini…"
>>>>>>> edafa0f35beaec0d7c7567d6246a9c7807478200
      ]
     },
     "metadata": {},
     "output_type": "display_data"
    },
    {
     "name": "stdout",
     "output_type": "stream",
     "text": [
      "\n"
     ]
    },
    {
     "data": {
      "application/vnd.jupyter.widget-view+json": {
<<<<<<< HEAD
       "model_id": "d1db8906bc21479f9fae442ea9b76609",
=======
       "model_id": "11dbc76d5db7445091d1255200af7134",
>>>>>>> edafa0f35beaec0d7c7567d6246a9c7807478200
       "version_major": 2,
       "version_minor": 0
      },
      "text/plain": [
<<<<<<< HEAD
       "HBox(children=(IntProgress(value=0, description='5/10(t)', max=14, style=ProgressStyle(description_width='init…"
=======
       "HBox(children=(IntProgress(value=0, description='5/100(t)', max=14, style=ProgressStyle(description_width='ini…"
>>>>>>> edafa0f35beaec0d7c7567d6246a9c7807478200
      ]
     },
     "metadata": {},
     "output_type": "display_data"
    },
    {
     "name": "stdout",
     "output_type": "stream",
     "text": [
      "\n"
     ]
    },
    {
     "data": {
      "application/vnd.jupyter.widget-view+json": {
<<<<<<< HEAD
       "model_id": "a793efa8d3084dfcad5a420a473eb6fe",
=======
       "model_id": "7938e31119994d92878ffd32bd20260c",
>>>>>>> edafa0f35beaec0d7c7567d6246a9c7807478200
       "version_major": 2,
       "version_minor": 0
      },
      "text/plain": [
<<<<<<< HEAD
       "HBox(children=(IntProgress(value=0, description='6/10(t)', max=14, style=ProgressStyle(description_width='init…"
=======
       "HBox(children=(IntProgress(value=0, description='6/100(t)', max=14, style=ProgressStyle(description_width='ini…"
>>>>>>> edafa0f35beaec0d7c7567d6246a9c7807478200
      ]
     },
     "metadata": {},
     "output_type": "display_data"
    },
    {
     "name": "stdout",
     "output_type": "stream",
     "text": [
      "\n"
     ]
    },
    {
     "data": {
      "application/vnd.jupyter.widget-view+json": {
<<<<<<< HEAD
       "model_id": "c789d3159bf2462ca13da2cc8a8f78e0",
=======
       "model_id": "3d0eb3b028fb4e47af17c0589df38d07",
>>>>>>> edafa0f35beaec0d7c7567d6246a9c7807478200
       "version_major": 2,
       "version_minor": 0
      },
      "text/plain": [
<<<<<<< HEAD
       "HBox(children=(IntProgress(value=0, description='7/10(t)', max=14, style=ProgressStyle(description_width='init…"
=======
       "HBox(children=(IntProgress(value=0, description='7/100(t)', max=14, style=ProgressStyle(description_width='ini…"
>>>>>>> edafa0f35beaec0d7c7567d6246a9c7807478200
      ]
     },
     "metadata": {},
     "output_type": "display_data"
    },
    {
     "name": "stdout",
     "output_type": "stream",
     "text": [
      "\n"
     ]
    },
    {
     "data": {
      "application/vnd.jupyter.widget-view+json": {
<<<<<<< HEAD
       "model_id": "d85156cff6a047ddba78188686a7db76",
=======
       "model_id": "9c389e860e0a4ea0a99a7537bc938b89",
>>>>>>> edafa0f35beaec0d7c7567d6246a9c7807478200
       "version_major": 2,
       "version_minor": 0
      },
      "text/plain": [
<<<<<<< HEAD
       "HBox(children=(IntProgress(value=0, description='8/10(t)', max=14, style=ProgressStyle(description_width='init…"
=======
       "HBox(children=(IntProgress(value=0, description='8/100(t)', max=14, style=ProgressStyle(description_width='ini…"
>>>>>>> edafa0f35beaec0d7c7567d6246a9c7807478200
      ]
     },
     "metadata": {},
     "output_type": "display_data"
    },
    {
     "name": "stdout",
     "output_type": "stream",
     "text": [
      "\n"
     ]
    },
    {
     "data": {
      "application/vnd.jupyter.widget-view+json": {
<<<<<<< HEAD
       "model_id": "a7888e52849c4f5b98490bf9e40b7344",
=======
       "model_id": "9b81764b2df84b158fa7a87a2fcf80b7",
>>>>>>> edafa0f35beaec0d7c7567d6246a9c7807478200
       "version_major": 2,
       "version_minor": 0
      },
      "text/plain": [
<<<<<<< HEAD
       "HBox(children=(IntProgress(value=0, description='9/10(t)', max=14, style=ProgressStyle(description_width='init…"
=======
       "HBox(children=(IntProgress(value=0, description='9/100(t)', max=14, style=ProgressStyle(description_width='ini…"
>>>>>>> edafa0f35beaec0d7c7567d6246a9c7807478200
      ]
     },
     "metadata": {},
     "output_type": "display_data"
    },
    {
     "name": "stdout",
     "output_type": "stream",
     "text": [
      "\n"
     ]
    },
    {
     "data": {
<<<<<<< HEAD
      "text/plain": [
       "[((14, None), {}),\n",
       " ((14, None), {}),\n",
       " ((14, None), {}),\n",
       " ((14, None), {}),\n",
       " ((14, None), {}),\n",
       " ((14, None), {}),\n",
       " ((14, None), {}),\n",
       " ((14, None), {}),\n",
       " ((14, None), {}),\n",
       " ((14, None), {})]"
      ]
     },
     "execution_count": 26,
     "metadata": {},
     "output_type": "execute_result"
    }
   ],
   "source": [
    "# model.fit(X_train, y_train, batch_size=256, nb_epoch=50,  verbose=2)\n",
    "\n",
    "# pytorch method for training\n",
    "trial = Trial(model, optimiser, loss_function).to(device)\n",
    "trial.with_generators(trainloader)\n",
    "trial.run(epochs=10)\n",
    "# results = trial.evaluate(data_key=torchbearer.TEST_DATA)\n",
    "# print(results)"
   ]
  },
  {
   "cell_type": "code",
   "execution_count": 27,
   "metadata": {},
   "outputs": [],
   "source": [
    "#save the trained model weights\n",
    "torch.save(model.state_dict(), \"./1d_conv.weights\")"
   ]
  },
  {
   "cell_type": "code",
   "execution_count": 28,
   "metadata": {},
   "outputs": [
    {
     "data": {
      "text/plain": [
       "torch.Size([757, 1, 100, 4])"
      ]
     },
     "execution_count": 28,
     "metadata": {},
     "output_type": "execute_result"
    }
   ],
   "source": [
    "# print (score)\n",
    "validateData.float().shape"
   ]
  },
  {
   "cell_type": "code",
   "execution_count": 29,
   "metadata": {},
   "outputs": [],
   "source": [
    "# validateData.float()[0].view(1,1,100,4).shape"
   ]
  },
  {
   "cell_type": "code",
   "execution_count": 30,
   "metadata": {},
   "outputs": [
    {
     "data": {
      "text/plain": [
       "torch.Size([757, 1])"
      ]
     },
     "execution_count": 30,
     "metadata": {},
     "output_type": "execute_result"
    }
   ],
   "source": [
    "y_pred= model(validateData.float().to(device))\n",
    "y_pred.shape"
   ]
  },
  {
   "cell_type": "code",
   "execution_count": 31,
   "metadata": {},
   "outputs": [
    {
     "data": {
      "image/png": "iVBORw0KGgoAAAANSUhEUgAAAXoAAAD4CAYAAADiry33AAAABHNCSVQICAgIfAhkiAAAAAlwSFlzAAALEgAACxIB0t1+/AAAADh0RVh0U29mdHdhcmUAbWF0cGxvdGxpYiB2ZXJzaW9uMy4xLjAsIGh0dHA6Ly9tYXRwbG90bGliLm9yZy+17YcXAAAgAElEQVR4nO2deXhU5fXHv4eErISwyBqQRRBBRMS44I4LouK+FNuqdSlSRa0/W7dWrXWr2lq1UhGFap8quNQdBIGCKIIQdghbWBMgEAiQhex5f3+c+8597507ySSZSWaG83mePPfOXea+k5n7vec973nPIaUUBEEQhNilVUs3QBAEQQgvIvSCIAgxjgi9IAhCjCNCLwiCEOOI0AuCIMQ48S3dAC+OOeYY1bt375ZuhiAIQtSwbNmy/UqpTl77IlLoe/fujaysrJZuhiAIQtRARDsC7RPXjSAIQowjQi8IghDjiNALgiDEOCL0giAIMY4IvSAIQoxTr9AT0RQi2kdEawPsJyJ6nYhyiGg1EQ0z9o0ioo3WvkdD2XBBEAQhOIKx6N8FMKqO/ZcB6G/9jQXwJgAQURyACdb+QQBuJqJBTWmsIAiC0HDqFXql1AIAhXUccjWAfytmMYB2RNQNwOkAcpRSW5VSlQCmWccKgiActdTUAG+/DVRUNN81Q+GjzwCQa7zOs7YF2u4JEY0loiwiyiooKAhBswRBECKPzz8Hxo4FHn4YyM8HamuBE08EiID77gvPNUMh9OSxTdWx3ROl1CSlVKZSKrNTJ89ZvIIgCFFPSQkvX38d6N8fuPVWIDubt339dXiuGYoUCHkAehqvewDYDSAhwHZBEISjjsJCYNw4oFcve1tJCfD++/brrl3Dc+1QWPRfArjVir45E8BhpdQeAEsB9CeiPkSUAGCMdawgCMJRxz//CXz8MfDXvwKJicBVV/kf06ZNeK4dTHjlVACLAAwgojwiupOIxhHROOuQGQC2AsgB8DaAewBAKVUNYDyAWQDWA/hIKbUuDJ9BEAQh4qmpsdcHDQKuvdZ+ra38LVvCc+16XTdKqZvr2a8A3Btg3wzwg0AQBEGwGDoU6NzZfv3QQ8D99wN33BGe60VkmmJBEIRY48gRe/2JJ4Dqavt1jx5AZSUQHyZFFqEXBEFoBvbts9f79HHu69QJaN06fNeWXDeCIAjNwIoVvHz3XXubjiTv0CG81xahFwRBCDNlZcDq1cCTTwK33WZv/+Mfedm9e3ivL0IvCIIQZvbvB5RiX7zJffexr75du/BeX4ReEAQhzBw8yMv27Z3biYC4uPBfX4ReEAQhzBw6xEu30DvIzQV2hyd5gAi9IAhCmAlk0Tt44glg8GCgvDzk1xehFwRBCDP1Cv3OncAHHwC/+AWQlBTy64vQC4IghJlCq6KH56DrkSN24pv77w/L9WXClCAIQpjZtg1o2zaA0P/ud8CqVcC0aZy3OAyIRS8IghBmNm9mDSd3lY6aGuCTT4AbbgB+9rOwXV+EXhAEIcxs3w707euxY/FioKCAhT6MiNALgiCEmdJSIC3NY8eXX3KSm1Gjwnp9EXpBEIQwU14eIJjmm2+A884D0tPDen0RekEQhDDjKfSlpcC6dcBZZ4X9+iL0giAIYcZT6FevBmprgVNPDfv1RegFQRDCSHU1//kJ/bJlvBShFwRBiG4qKnjpKfSdOgEZGWFvgwi9IAhCGNGpazyF/tRTPYLrQ09QQk9Eo4hoIxHlENGjHvvbE9FnRLSaiJYQ0WBj33YiWkNEK4koK5SNFwRBiHTKyniZnOzamJ3dLG4bIIgUCEQUB2ACgEsA5AFYSkRfKqWyjcMeB7BSKXUtEZ1gHX+RsX+EUmp/CNstCIIQFXha9KtW8azYZhL6YCz60wHkKKW2KqUqAUwDcLXrmEEA5gKAUmoDgN5E1CWkLRUEQYhCPIV+5UpeDhvWLG0IRugzAOQar/OsbSarAFwHAER0OoBeAHTRLAXgWyJaRkRjA12EiMYSURYRZRUUFATbfkEQhIjGU+g3bWJfzrHHNksbghF6r5EC5Xr9FwDtiWglgPsArABQbe07Wyk1DMBlAO4lovO8LqKUmqSUylRKZXbSpdEFQRCiHE+h37KFk980w0AsEFya4jwAPY3XPQA46l0ppYoA3A4AREQAtll/UErttpb7iOgzsCtoQZNbLgiCEAXs2cNLR4rijRuBE05otjYEY9EvBdCfiPoQUQKAMQC+NA8gonbWPgC4C8ACpVQREaUSUZp1TCqAkQDWhq75giAIkc2PP7I1P2SItWH/fhb6M85otjbUa9ErpaqJaDyAWQDiAExRSq0jonHW/okABgL4NxHVAMgGcKd1ehcAn7GRj3gAHyilZob+YwiCIEQes2cDr74KnHYakKBN4R9+4OV5nl7ssBBUhSml1AwAM1zbJhrriwD4lUZRSm0FcHIT2ygIghB1HDwIPP00r/fqZez4/nsgMRHIzGy2tkgpQUEQhBBz4ABwzDH269dfN3Zu2AAMGsRi30xICgRBEIQQs2mTvX7NNUC3bsbO7duB3r2btT0i9IIgCCFm82Z7/cEHjR1KATt2uHw54UeEXhAEIcRooZ840TXmWljIBUdE6AVBEKKbzZuB444D7r7btWP7dl6K60YQBCG62bQJOP54jx07dvBSLHpBEIToZutWtuj9EKEXBEGIfg4f5j9PLd++HUhLA9q3b9Y2idALgiCEEG20eyam1BE3zZTMTCNCLwiCECI2bgRWrOD1gBZ9M7ttAJkZKwiCEBKUciak9LPoa2t5lPbCC5u1XYBY9IIgCCFh717n6y7uGns7dnCt2EGDmq1NGhF6QRCEEJCV5Xzdyq2u2VaZbRF6QRCE6OTf/+blvfcCc+Z4HNCCQi8+ekEQhCaiFDBvHvCrXwFvvBHgoHXrgO7dXaWmmgex6AVBEJrInj1cOKrOFPPZ2S1izQMi9IIgCE2mtJSXAY11pUToBUEQopkjR3iZkhLggNxcfhqI0AuCIEQn2qIPKPQtOBALiNALgiA0mXotej1dNpKFnohGEdFGIsohokc99rcnos+IaDURLSGiwcGeKwiCEO3UK/RffMEjtR07NlubTOoVeiKKAzABwGUABgG4mYjcj6XHAaxUSg0BcCuA1xpwriAIQlRTp9Dn5QE//QRcd12ztskkGIv+dAA5SqmtSqlKANMAXO06ZhCAuQCglNoAoDcRdQnyXEEQhLBRWsrJIt9/P3zX0EKfmuqxc+pUXl5/ffgaUA/BCH0GgFzjdZ61zWQVgOsAgIhOB9ALQI8gz4V13lgiyiKirIKCguBaLwiCAI5e3LLFe1+bNrz85S+B3bvDc/2AFr1SwHvvAcOHByg51TwEI/ReiZOV6/VfALQnopUA7gOwAkB1kOfyRqUmKaUylVKZnTp1CqJZgiAIzJtvAv36AbNm1X2co1B3CAko9Lm5PCN2zJjwXDhIgkmBkAegp/G6BwDHc1EpVQTgdgAgIgKwzfpLqe9cQRCEpvLuu7wcNQqoqgLiLWWrqnIet2ULcOhQ6LMQaKFPSnLtWLWKl6edFtoLNpBgLPqlAPoTUR8iSgAwBsCX5gFE1M7aBwB3AVhgiX+95wqCIDSFqio7ehGw3TNTpwIJCf7H6yp+tbXAz38OfPVV09tw5AiQnOyRsVIL/eDBfuc0J/UKvVKqGsB4ALMArAfwkVJqHRGNI6Jx1mEDAawjog3gCJsH6jo39B9DEISjlVdeAaqr7de6lN8339jbpk4F8vPt1+vWAWvX8varrmJXelMoLQ0QcbNqFVcJT0tr2gWaSFDZK5VSMwDMcG2baKwvAtA/2HMFQRBCxUsvASNGAOeeC/z5z0BODq+b7pm4OC4E8vbbwK9/7W9g794NZHiGiQTHkSN1CP3JJzf+jUOEzIwVBCFqqa4GCgt5kPWJJ4DevYGxY9laLykBOnXigdprr+XjA3lQ1jXRz+Ap9KWl/NQRoRcEQWg8hw7xskMHHoD99FP2yz/9NFBczBNRx42zB2dPPdX7fcrKmtaOI0c8YujXrGGfkAi9IAhC4zl4kJcdOvDylFOAu+7iAda8PH/XeOvWztfJybysrGxaOzwtej0QK0IvCILQeAoLeamFHgB+8QugogJYvNieLGViiv+JJ/JSC31tLTBhQsMt/IBC37Yt0KtXw94sDIjQC4IQtRw4wEtT6E85hVMeAB7BLrW1mP3iclx5eTWeumYVJu+4GIAt9B9/DIwfDzz7bMPa4Sn08+cDp59uN6YFkZqxgiBELd99xxE1xx1nb2vd2g6XdIivFTh/xocf4st+/YCcHOxBVwC20O/dy8vdu7k8YLduwbXDT+jz84H164E772zU5wo1YtELRxXl5U2PmRYih0WLgDPP5OgaL3S0DQBgzhzgww/ZZ56TAwBIACv8k0/y76K8nA99912u4w2wXl91Vd3uHL84+rVreTl0aIM/UzgQoReOGnJzefDtnXdauiVCqNi/H+ja1X9727a8vOkmY+MLL/DBixcDn3wCfPABEm7hHDT79gHZ6xSKi53vM348x91/9RWf5kVVFfcEHNa/jtfUgwAtjAi9EHGsXs1uzblzQ/u+f/87L8eOBbZtC+17Cy3D/v3AMcf4b9+4Edi61diwfj37eX7zG05Ic/31wM03I+HaK3yH1P7+EbgT506YACxcyOt+eWwsdu5kr1CfPsbG7GweOOjSpVGfK9SI0AsRxw8/8PLDD0P3noWFwKRJ/tcQopfaWv5evYS+a1dDeAsKgDPO4O7cz37mOK71FSN962rmTBzKCZwiXScuc7N9Oy8dQr9uHZcNjICBWECEXogwKirY+AIC31iN4ccf2Y86dy5PqFmzJnTvLbQMhw8DNTXeQg+Ane5vvQVceCHPnlqwABgwwHFIqwQ7HqWsXXccXrU94PVKSuy33bTJ3q5j+X1VAmtquFt60kkN+0BhRIReiCjuvRd44w1eb+psRRPte+3encOad+4M3XsLLYOOkAlYvuLTT3la7Nq1QOfOgafFWows+xzr9gd2tZSUsKvojjv4efHpp7xdR+z4MmWuW8c/uOHDg/8wYUbCK4WIYuZMez1UFv2NN9pBEG3acGy1ts6E6CXXql137LGuHbW1nJZy3Di2qm+/HRg2rN73K6pIQhHcb2ZTUgJccgmwciW/vv563lZRwa8TE60D9QGZmcF/mDAjQi9EDEpx9IPGHQHRWD75xF5PS2Oxnz6dB+xcPXkhitC9Mj+hf/NNDpcBuFBsE10oCQlstZeU2BqueeMNO0umz6LPzuZg/n79mnTdUCKuGyFi+M9/nBWBFi4Edu2yX1dXs1+2KaSm2g+Qs8/2PuZ//wMuvrjp+U+E8LJzJ4916nh3HzoR/Y03Nlnkk5LslDW/+51zX+/enDxN57n3WfTZ2Vwf1p1YpwURoRcihltvrXvbE0+w9ZSX53/ckiVOt8+sWezjNydHJSdzFkMt4Hr6vMn33wMXXcSDtl6FpH/5S+BLqZEWERQVcQ/Noaf793MY5V13AR991KT3P+ss/g2ccIJz+8038+/jrbf4N7Z8OW93WPSDBjXp2qFGhF6IGIYM4eWuXTwTEXAOyH7+OS/nzfM/9/LLgcsuYysvK4trh/72t84ego500z5VL8zi0W4//qFD7Am4+mpg6dLgPpPAE9Sefjr076vL9zmYOZO/uHHjPM+pjztGbMNpWAIAeOmK73xlB3WAAMBJ0y680C5UosMrExPBP9ht20ToBSEQSUnApZdyV/z113mbHkP79ltgwwZe19EWmtJS2zrPzbXrME+ZAvz+9/ZxenDXFPq2bTmRlRdFRc7X5gQcEfrg+fWvgT/9KfTvW1bmkUhs9WpW3EamBp70YTqmtb8H4/Amznj/fl+XcNxlO3DGEP4B6eIlWuj15LvWrcFxl7W1IvRCbPPGG+wWbehA6ssvs/slPZ1f9+rFk160m+X55+1jzQFbwJmK9pVX7PXqavuBAdgPAFPoi4vZJbRnjx2ZY+4zueMOe72mpv7PJNi5YwAe/F60KHTv7WnRr17NaQfig48zMdsY16kD+m6ZjTdfr0Z89moOkTzrLMQd1xuLN3ZA1e4CX9bh9HS+fnExizwR2G0DiNALsUtuLnDffSyYDZnVevAg8PDDvO7zc4JvIu26MS0306J3h2Dq2GY3//iHPUb3xBPOfV061aB7d/9xO7dFb/rs3fsEb1avttdPOIH93o2lutr5fQe06LUPMEgSE20DAwDQvj1w993AmDHATz/ZT6eKCsS//SaP1r/9Nuj4/ugel+97DwAs9K1aAf09S2i3GEEJPRGNIqKNRJRDRI967E8noq+IaBURrSOi241924loDRGtJKKsUDZeiCy++speb8jM0+++s9dN90hiIkfiVFY6b2jTotcRDybnnMNRMyadOtkzF8ePB774wt7XJedHz3aZFr2uTfqHP/DDKFShn7FOViPveKV43OU//7G33Xijs1yfn0VfUMBdswYKPcDul82bjQ0JCRyLv3w5v2dZGXDllcBTT/Fo/dixQHExuh/ZYh1ujfpnZ3NYpU/5I4N6hZ6I4gBMAHAZgEEAbiYid7/kXgDZSqmTAVwA4G9EZNhmGKGUGqqUipwZBELI2byZBfm00xpWbHnZMnvdzACoffLPPAP897/29qIi4JFHOMDCS+jj4oAePZzb3F38K0crzD6FuxEl+bZqp6fz/ayvo9m1i901vXtzpIcIfXDs2NG48woKuAd2yy32Nj0Yr/HLAa+ti0YIffv2AcLeTzmFfYhJSZy7+LzzWMSHDAGmTUP3M/iHlnhoL3djIzDiBgjOoj8dQI5SaqtSqhLANABXu45RANKIiAC0AVAIoDqkLRUiin37gL597RhjgFN8H3ccD6a6/eh1sWEDT1yyesR+TJnifP3jj8BLL3FUzZ49vM2MpVbK30XrEPraWtDdY3HxipeR2WEr9sB+uhw+zJ8L4Og87YvXWQ07dxahbwj79nFvSkdRAcHVA9iyJfDxNTXA5Mn8kHd8r9pP1AihD4oOHbj7WV7OP/wLLkCGJfRxtVXA/feztROlQp8BINd4nWdtM3kDwEAAuwGsAfCAUqrW2qcAfEtEy4hobKCLENFYIsoioqwCd65QIeL44gvu7v7tb/a2ffvYIk9Pb9jEpn372GgaMQK+cDaTton2aJnpRy8psbvbc+bY2x9/3P89HILw9dcc83frrWg7tA/yE5w1PXUbFi2yc9eXlvJSp1BoCaEvKmIXUrRQUsJGcLdu/HvRA+p6gH3CBDs00c2KFfa6+3/91lscJr9zp8ui37SJv7yAyW9Cz/Cz4wAAeejJP+SamqgVeq88m+5n8qUAVgLoDmAogDeIyEr9j7OVUsPArp97ieg8eKCUmqSUylRKZXZqxi9KaDi1teyiBIyMfWBxT0+3hb6ggI+rLznZvn1sKQeCttmOe7OOQ00Nu4h69HCm/b70Un8r0FE79KWXOKxn8mS0bUvIr+zgONYsCqQH/7TQp6by59MZC5sLpfi6rVsDr73WvNduLDq0VRva2r9eUsL/v/Hj+bvywvTNuye2mb1IxxjAtm2uXMHhZ9Qoj42nnNKsbQiGYIQ+D0BP43UPsOVucjuATxWTA2AbgBMAQCm121ruA/AZ2BUkRDFmvg8zzPDQIZ65mp7O1ucTT7Ar5v33vd/n88+BV1+tX+jXw7aQzOIP2dksCMOG+fvg3ULv89kvXcq5FR56CIiP96wLcf759rq2OUyh79Wr+QuXFBba67/9rf/+tWvZx7x/f/O1qT70wLoWQx0Ge8wxdo/P3Xk/cIB/O7t22T0rt9CbvZrevY0dLSD0Zmgvxo8HHnggai36pQD6E1Efa4B1DAD3JPCdAC4CACLqAmAAgK1ElEpEadb2VAAjAbiilYVoQ08WInKGOh4+bAu9UrY1bMYpm1x7LfDggyxiOjFUfZiCroXkllsCV//RdNBG++TJbBZbuRW87sn0dDsUU7sZ9CzZNm14HCI3t+4ZtqHGzPnjxfPPs1/7008jpyZuSQn3jnTIqxkx4zVIe/AgPwQGD+YHgE494BZ605XjS1hXW8t+oGYWegCYPdtKi/GPf7DlEoHUK/RKqWoA4wHMArAewEdKqXVENI6I9DzjZwCcRURrAMwF8IhSaj+ALgB+IKJVAJYAmK6Umul/FSFaKCmxLfSzzrJTxVZUsKBr1w1gW/7BCKKr8A8A4HcDp/ttS2rlzDTWuTNwww3+hXzc8dVE4CfUW2+xyFuN9BJ6IntipRZ606Lv25fFtDlz2ptCb0bu1dRwmgf9+e++2zlJrCUpLmbd1Q9nU+i98ghdfjkvc3PZ3WcKvZnKwoyG8rnk8vP5h+Yw8ZuHiy+2I7UilaCmjymlZgCY4do20VjfDbbW3edtBdC4uchCxPHJJxzLrBk6FPj3v9mY0l3xdu3sLreOdtNiOX06uxZuu83/vf2SDNbU4MX9d+KvsOMnt6E3Ju2dDcCejHL88c7TdG2JZ54BUhKrcUncPJS17w5MXQ38/Oe885FHfMd76sJXXyHxbL5z9UPKFHrt7tm/v/nmxegw0ssu4zk8mnPP9Z9t+s477EFoaXTSMY050O7VQ3GH5Ope3oEDdtZhwLbozfTTPl9aC1j00YDMjBWC5s9/dr4eMoRvurw8243SqRMwerTzOC2Wo0cDv/qVvb1VXb++OXPQqsCZ1ObYdsVIWrLAsc0sI5ebC8yfz+vt2gEvlj2Ai18aiSsfG8ym7nHHca5yQ53d8fYAgLfe8lnNFRX8ICspYas5Odm+ZnP5w8vL7XDDY4/l/7l2z3ilFGjJWbt//KOd3bOoiHMJaczc/zoDqelmctfp0Bb+gQPOeRTFxZxi+vrrjYM9C7cKGhF6IWh27QLuucd+rS20oiJgxgwW7ksuYX/5ccfZxwXK626KgB/Tp/v5X1o99giSdm50bDMDtHr0ANosX8CB96WlwL/+Ze8sLuapu66shqZv/6GHgPdHTwWmT0dir64AgHWvz0GblBo8+yw3h8gW+uaKAv71r4HnnuP1jAx2Y3ilWNa0pNA/9xxn91SK/+Xmd2w+lL2E/uBBPv7YY1nYL76YH9gHDjh7AyUlHjlutEXfAq6baECEXgiK8nIeNO3enYt3b95s32xlZey6SUuzb0hTQN2DsfrmDjhLvKKCzcJzznFuv+kmJMMZq9ml7RFb9Y4c4Zk5d97Jo6ZlZTzr6dVXOQ5v4EDPy919N0fuvPAC8PP3ON4v/gD3Jv6962KUVXCstBk1AnBG3M6dnekUwsHcufZ6HDcF115rj4+YCd8AW+gvvRT461/D2zYT7d4C+DuvrnaFtQL44ANemha65tAhfkjs2AFcdx1v69gR2L3uIHJy7OOKiwMIfdeuHjsEQIReCBI9eJaRwYNk/fo5hb6y0pmQzBTxQ4ec76UFwRQGHwcPcr98xw7gN7/xbb7nHgC9eyPp/rsdh/f/+73s4D90CFi8mJ84epps//4s/A88UGdh6IkTOQ1D69bg8JznnwfOOMPvOD2YmJrKD7JvvmGr3syYGQ70TF3A/h//8IMt4u6p+7XWVMVvv7Vj2adPtyd/hYsZxiieLgLj7rX97GdAfLxtxh8+bE+OOnjQf8Jcp/RKfDqPN3bvzud5Cv2SJf4VQgQfIvRCUOhslObgoyn0VVXOSj+m0Lvz0Rw8yFZ9aSnHWJvT3TFhAqvuI48A11zj26xznnS5aLDjvTrUWoms5sxh9SNi5Vi5kkctG5Nc6rHH+KHhQgs9EdC+vfKFXLrz44caU9TGjwd69uRnmR77uO464MUX636P0aPZBRRObrrJXtcWuduib9UK6Jji7OINGwbs3VOLoiL/MNv+ZJvyqpw/cEWFS+hnzuSJBGYDBAci9EK9lJbaaQVMQ9cn9C+/gcpFWQEtep2PRvPaazxJSingggucFiu++443vPCC4xx9rTPPtLf9/MJ8XFT4CZuNH33EJnZmJvtTTj7ZO59CE0hNtS3RdsqeGrt9uwpr7LqZmjcpiYOH9u9n90ivXuzO0WmeNZGSL99vHCY7G7Ul3JXLgF0Tctez/4JS/g+GgYfs0ebSEvufnJJs/MNffZUd+3feGbJ2xxoi9EKdHDxoR6a8+qozWVhyEt9sZXMXojI7BwmwR13rsug3beIMsIBTuKEUp4W96CK/wHg9Ltu5M7djxQrg/bldkdw+ic3cjz9mK9ydnziEpBbaKZ/aFdsiVVFBjpmroeSHHziJG2D751NT2VVWXOyRj90iUNqJQJPXQoFXWxxCrxTw+ONIUty4Z2AXBjjwwSwAzlh7FBfj1O22M/9P8c/51pNnWrOw8vN5xtIttzh9h4IDEXqhTt5+2/ax3367c1/ydA5kLrvkKlS1SkTrYjsUJKmVPUtq716FwkJbCBIS7Pc0a7Ri714e8R1su2d0D8IUgAcecOajwf/9n73u2BEaLriAH2ipW9bwbLEFC9C+NNdxzK75m1FSEvpZqeeey8uRI+2MoPr/uH9/4LHHQEnl6orWaQw1NTzGsWMH9zwcIY9wWehffAF88QWeH/kdxv26BleeYLtl9hzi0XuH0M+ciXNq5gMAxpy5HX2O2JPqk7ev5zCwjz7iQYlf/CK0HyzGEKEXAjJ1qj23aMkS/2548ts8BXNZvzGoPCYDCYbQJ+bZjnelCN98Y1uZZWVsWSYmugx3bboa9T6//ZbHB8w0xH507MjZ0xITXV2E0NC7NzeyTW0Rp+ucNg3t4thB3yaVRz4X/30R0tKAf/4z5JcHwMKt0zhoMdy/P7BFb7rLdKQLEPqQ0E8+4TFzHbWqy+xpfL+Z0lIObzr2WPzy6zF4c1Ic2q353ndcfjyn00qtNfIbfPopUjq1wfYtNZj8bU/EX3m5b1cyynim84cf8oSOABFVAiNCLwRE53uZM8eut+rjwAEkb+IcB/98k1DZoQsSKks4zK26GolbuHZm32QO18nLrfVZu+Xl/OeXn2bqVPbNnH22b1PbtkGOsb31Fvsyjj22gZ8yMP36ccSedl2lDu7NsaVffon2x7KpOuhEvoVmL+bXH30Usss7MNP5mhZ9IKH/6EO7a2Eau6HOuqln6X5vafZI1/x4n9D/8AN3SV55xSteQQEAACAASURBVOf/M92AewZeCABI/doa9d+9m9NJX301evWNQ0paHOLvsbOcJ7eq5K7Ejz96588QHIjQC56UlnK43E03scvcj4ULkQTb4VvVtiP76OfNAz7/HIlHWFE692C/6b5FdqphLfSOgJiyMr6xb7qpQYWdHZhhPyFg7VoWWO0eie/cgRu+axfaDWb1P+EEoEN6NVbUcA6H2lqOYw+FC0cpe/awWYPXtOgDuW5e/qtXdvHQ59HXYxM6VLZvX2DSJHu/z3Xz8cf8/Vx2mef75A8cAQBI3bicP/hdd7FfyBhldowPdW8PzJrF3RwjDFfwRoRe8GTRIvbnuv3yPt57D60T7J9PeVwqWrcmNv8nT0ZSGgt8ep8OSKYyrJ1rxyB6WvSrV/PGCy8Mw6dpHImJ/KfT4iae2B948klg4kS0P88eRzj3gnhsAQez5+crpKeHJolhaSk/OF580Zk6WVvxtbWBLfpAhHrWrHsQunt3ZxrhlBRwJNXkyTwJI0CDv1/Iv6U2G7I44uqbb7hugBHP6xD6U61sdDfcEPLoqlhEhF7wROeuMQt9+Dh4kHPPGukEiosJCd06sPtl5kwk9mOLN7VNK6S1Ufi2lN0xp52mvIVeF46tY2JTS6Gjhs46pxXw9NPA3XejXXu+daqrnQ/DnBy2pJ95punXNRPFmZha2VChD7VFb7qCunXj3sYddwDvvccGORHsabBvveV3/ssv81InOUutPsQV2C+/3JlvAy6hv3YUPzzMEmdCQEToBU+2buXoGM9B0OXLeTl6NP7+d14tKgISju/tOyT5eB5cS0kB0jqzf+EULMeA7sW+wViH0C9fzrkFepo1biKDP/6RhVtPAgJsga2p8f4fmWl1G4uOTNJpnzVmZEpyMti0N9M7emB+T6Hk4EE7NYSeIZyYyJmgfUnrFi3inprbgQ/gd7/j+Wma1F9ex92hTz/1y3qnw0sBcFjtHXe4Kn8IgRChFzzZuZM117y5fGjre9gwn1gXFwMJ7VLZChs5Eu0z2ZVRUwO0acNW7iWYjaTCPSgv59mNDqHPymJr3p1YPgLo3p3F3vxfaOuyutqZrEvjFufGYKZGNjGt+HPOquXokwkTMDqZk+Kc388/B3C3bqyb4fDR33QTj7OOGeNxQFUVu+Xq6KmZGUS7//svHD/rMaPZtOgb2pM52hGhFzzJz2dx8CQri7MEduzoux+Li62x0AkTgFmz0OEY/mmZ09XTUmqRtG8nygtLUb5oOZLiLWduYSGLgRFtE+lo0Q8k9OZs1saiUxy4o5NM4T/33Tt9IaUfZ5+IXTuqcfefM/zeKz09PEXNDx7k8dCAZZ6zs3l2Vx11VPXA9R131P2cd7huJHdZgxChFzzJz+fQQk9WrOAEJbBFqLraOTFR+5UrKuybt82ADCRvXIGDFamYf3gYkvZZ9eS+/97OhxAlXHIJT2Z64QVv70FRUdPTIuhZrG6hT6m0s8SlfPsZr/zmN0jq3RXdj433LKvYti0LfShdN9oFV+dYqHbzWb8XL/TXblV3DIgIfeMRoRf8mD+fw8W9CmejpISzkFkzUE1RMYVe34imiybt8nMdIZmJ+62UmPPm8QmnR0/d+LQ0YMECnqfjZYXW1JB3ds4GoC16txcj9Xu7GmcKjnBMozFTy1Po77sNKYd2haSnodEDsb56vG5KSzl+vm3bOktxnXgiP+fNyCIvROgbjwi94McIDmn2rr60Zg3fldbsVVOEvLJXlpfb/tQ2J/VB8sP3+45JOpzPPo5587gAbWMyTUYYr7+m8Ne2XIorUBqCYAlk0Sf9MMe33vqSETxxyMDr35i2fD6SSwpQvveQ/85GooXe06Lfvp1/QFOm8AO8znJiwWF+LhH6hhHUf5+IRhHRRiLKIaJHPfanE9FXRLSKiNYR0e3BnitELp5d6VWreGkJfSCLfvhwri87aZIt9EoBbXrYsYJJqoyrPq1ebT9dopSFC4EnngDuu5+QcSZHDhVN/KCes+omkEXfasUy3zp9O4v9SAaeFv2MaUhuVYGyLbt5jCUEM7p0DL2n0E+ebIcNeY7SNhxzAFaEvmHUK/REFAdgAoDLAAwCcDMRDXIddi+AbKXUyQAuAPA3IkoI8lwhwmjXDrjvvgChlatW8QFWqgFThEyBSUzkdAADB9o36JEjTn92G5TayXSuvjq0H6KZOessu6Zu6jhOnl/6l38EqK4SHJ4WfWWlfxVtF15Cn3bJcCR3TEFZ3gHOZ6ELuzaBOl03S5dyDprNm0OWPtgUdxH6hhGMRX86gByl1FalVCWAaQDcd6UCkEZEBKANgEIA1UGeK0QYJSX+IX0+Vq3iG9hyTJui4iUwgD2vasQIl9B3b8tpD084IcDMrOgkMZWdyRXVrTgbXCPxtOjXras3SN/re4iPB5KOy0B5smV+f/55o9ul0YnT/MZylOIQ3FNP9S9/1QRE6BtPMEKfAcDMyZpnbTN5A8BAALsBrAHwgFKqNshzhTCiFKcLMcu81UVlJUfQeM5Dqa1lN4uRXdIUlUA335lncjv69HG+b0J/K9XhjTdGZPx8Y9EurAok8WBkI/EMr1y71vNYk0CpgpK7d0BZ38EcLrR1q/dBDWDbNh6X8ev55eZyIp4Qz3I2x4BCnNYo5glG6L3uQLeD71IAKwF0BzAUwBtE1DbIc/kiRGOJKIuIsgpCnUv1KOZ//+Np5g89FNzxujyep0W/ZQu7IgyhNycGBbLoTcz85K0GD+LewW23Bde4KEFb4JW9+rPzvpFo143Dos/L8zzW6/qOyl3gB3FZGXgmXG6u33kNZft29uD5TaoLUzqLGLIFmp1ghD4PgDkvvQfYcje5HcCniskBsA3ACUGeCwBQSk1SSmUqpTI7BZx9ITSUbdt4GezYm3Ype1r0roFYwDlRJhihNx8gcZ068Hsed1xwjYsStNBW9Doe2LixUe+xdSunfDHfDwCn73Unv3HRqxd3JKZMcW5PTrYeHj178gNDVxFvBJWVnKvspJM8di5bxupv/E6EliUYoV8KoD8R9SGiBABjALhHcnYCuAgAiKgLgAEAtgZ5rhBGdFWijRuBN9+s//g6LfrFi1l1jLu7oSFv5vEhiLiLSHxC374rZ+tqRAHXW2+1H84OS3b3bqB7dxw6ZAe1eHH22f6FYpKSLIu+b1/28+/c2eB2aSZP5kl1rrxjzLJlwKBB4kiPIOq91ZRS1QDGA5gFYD2Aj5RS64hoHBHp9IXPADiLiNYAmAvgEaXU/kDnhuODCN5ooQcC3JQu6rToFy7kiI0A8e7BWPTmMZ55dGIA7aOvbNeZBXXv3rpP8CAnJ8AOKz49Pb3+fDr6a9L+bJ/rRpdqXLOmwe3SrF/PHQtXZCenqZ4501EOUmh5gqrwoJSaAWCGa9tEY303AP/UdAHOFZoPU+iDQVv0fkJ/5Ahbah7Ofi0gwQh9376clnzXruCOj0Z8Fn1by6+1c2c9tRCdlJUFeDZUVLA4mzVy60A/cPS4SEICu27y2g1GD4DV+sorg26XSWlpAGPgOauAdxTNcj4aiNHOc/SzbRvw1FONm9cycSJH9ekot4YQKGMiVqxg63T4cL9ztGUZrHCvXw/89reOdPYxhU/o06xsZw0Y+DxyBHj3XV5/4glg+nRj55o1/B341XX0RrvGtNBrF9Dkj9uySu/2HC4LitLSAO698nLO8hZM91FoNkToI5TRo3kCzquvAnPn1n/89Ok8prlnD1dWO+MM7uVv2sTrmvqEP6BFv3o1Lz2yEGpfcLAu2bQ0zo8eq6lmfa6bVCtmvQG+8HvusTXy3HO5/oaPpUt5mZkZ1Hvp7/D663n54IO8jIsDpyY1K4g3EE+hV4qzVd50k3OadAh57z3+ExpGI4tzCuFGa4PupR8+7D+4ZjJ6NC9ND4GOxDvjDLuIc2Zm3b2EgBb96tXslPVIgKPbFauDqw3FZ9G3Sma1bYDQL1hgr/t9B1lZbC0HWQC9c2eej5ZhzVzp0IH99UeOgH8ooRb6Xbs4Peag8E1+ry/DpeCN3JoRxNy5HM0A2Ja15h//CHzeLv86EwDsh4Q7cWBdUXV1WvTGjFgT7boJda7zaMUn9JXEuZ6DHChRyvm9ewp9ZmaDAsrdce6+AdmMjEbF0h84ABx/PIdv+rVPT+aKoVnOsYIIfQRx8cXAXXcBGzb479N1S73QD4ennnJa9FlZvHSHMy9aFPi9PC362lr2Dw8Z4nnOm29yqprzzgv8vkcTcXHcu6msBJvR7graAcjJAcy5go7v4NAhFtImDnKmpFgW/YABbO43MG/xzJmcvqaqykPo58/nabkRWPf3aEeEPgLRtZQ1PXqwJeVFVRULPMDd2l27uI6HyfDhXLJTs3AhpznwoqSEhcoRQbljB5vrAYS+f39OnSJh0zaJiVYKgwYI/fbtzteOMYwPP+QHrkfd1Ybgs+gHDeIuhJdVUQdmMXCH0CsFfPYZcM45zunPQkQgQh+BmLPm4+K4l71/v/exZsoS7T7v1ct5THy8c/zukUdYRBYvdh5XXQ08/zzP73F4BzxmxAp14xP6jh0DP6VduJ8HDiF95x2OTfeIemoIPoteV3zSgzdBYj6MHMbAxo088n/zzU1qnxAeROgjBDMh4Tff2OtJSey2mT3bO5+VnmE/erQd6NCzp60tet6KO+GhV6RkwJmWq1ez8ovvNWgSEhruunE/DxxCv2cPh1U2ccTbZ9H36cORN3X58TzYvNled3hoVq7kpRniJUQMIvTNzMaN7MoE2IL+5BMOPf7qK/9j77+fiy9pnfj6a/9j9AxKd8hZhw68TydPrNxTv1VZ50Bsv3515C4W3LRubbnHOnbkkKlAvjID9/PAl4WytpZnUHnWdmwYPoueiL/THTsadL4p9HffbexYs4YbPHBgk9sohB4R+mbk0CFOvT5iBIv7lCmcoff3v7fD1E1ee42NOF1f2cvi3rqVox69ij8cd5wdEXPVlr97N8qItdRRM+5kWFizJkD2KiEQ8fFWL0p/MaZzOwCFhQFmmxYW8oMiYLX24PFZ9IA9RTlIKis5gemtt3rMtdq4kac9hyl+XmgaIvTNyP/+Z6/v2QP87W+8vn0738tm7hIzuKJfP+D4XuXY/L+dfgmytm71T0fr4MgR4KGHMHLpc6h98WX//Chz7PqjWugdY2kVFXx3hzE2OhbxWfRa6INw3xw4wIfff78rVF7nQwiB0PssesAW+iCnX69Zw2I/ejR7fRxs2sRxl0JEIkLfjJhW0LJlfG8AHFJ34AD38v/yFw6x/PZb48StWzE87xPMX5qK6gtH8qQUiy1b6hD6wkK2xF95BTj/fND99/nf0++841v1FPrNm/nhIkLfIOLjDdcNEJTQFxby4a+95vKo6NjaELhukpLsPPfIyOAXQfQ2ANsN6OeGr61lP6EIfcQiQt+MmEKvA1ni4znw4YMP2Jp75BHg7bcN6373buCyyzC8dRYK0RF7Fmzy+VZqarg3EDCd+4svssn/zTc8MJCU5D9Zas4cX1/eU+jXr+el+F4bhE/otUUfROSNtuj9CKFF7xskBuwps0G6b+bO5d6l38TcXbv4NyRCH7GI0DcjXkJvCq+e4OSjvJyT3WzdipTfcQKUihOG8giu9X6VlQEs+vx8Tihz223AqFG+zW6LvrbwoG/GlR6MdQh9djYP3A0YEOSnFADDR98Ii94PbdGHWuj17LoghX7v3gBGhe6auqdgCxGDCH0zsnu3He6ohb5PH3v/xRdbK6WlLM7JyVwHcORIJA1ha6n84tEcaL9vn28WpWeP/s032aTUZYos3BZ9ZeeevkxnOkbaMSCYnc2NlNlQDcLno9dfThCZIgNa9Pn5rND1JaAPgqZY9BUVAUoRaKEXiz5iEaFvRvbs4a6vznPVpg3Hx0+cyBOivvjCOnDqVGDWLF4fPBh46SVfCuCKodYo7U8/+Vz1fsnOtmwBXn+dc427rKwzz3QeWjFoqC/k58MPeWLVMccYB6xfL/75RuBz3bRpw9nFtmyp8/jKSv4NBHTddO0akqKpiYmNt+jrFPqUlAbl3BeaFxH6ZmT3bo5W0C6SG25gY/nuu7nLnpICdry/9hr3kauqONThxBN9N1h5rxN4uuyPP3oLfVUVcO21PLHmhRf82vD113ZuHACoOGU4dy+Ki7F3Lw+0+fSkuprD5sQ/32B8rhuAn+4BS0YxH37IS/eDGABb9CFw2wAuiz4xkZ/qQQp9ZWUAod+8mQ0KSV8ascg300w8/jj7YE2j5y9/8TjwmWd4CuzPfmbMmLGLelS0SubsYV9+6Rs8dQj9G2/ww2HKFE9LPCUFOOss+3VF5tlATQ1qFi7GoUMuH/G2bXx3i0XfYHyuG4Af2oZFv2wZMMNVc0274UeM8HizEE2WAmyh943VNCCWvqIiQJj8pk3in49wROhDTE0N8K9/OSIgsX27bVwPHGjX7nDcu2+9xab000+zWf3444739Vn05QAuvRTIzsbX/60A4Bo8nTKFK1ZcdVXANpoegPJ+PGhw6KeNUMrlOsjOthstNAif6wZgiz431xfdlJkJXHGF83gd8uhZpSvEFr1SxnSMBgq9n0VfVcWRXeKfj2hE6EPM228Dd9wBTJhgb3v9dV7edBN7VRYudD4I8L//2XX1rriCQx5d6Qa0AJSXAxg+HJVojWmf8V3ns+gPHuTewKWX1unPNSMnKlLaA92748BKLo7hsOhF6BuNn9AD3EMy0CmhARbRuDhHJ47Jz+d89kEWG6kPX/Urc0A2iIHip57iMQQ/od+2jZ8aIvQRTVBCT0SjiGgjEeUQ0aMe+39PRCutv7VEVENEHax924lojbXPHUAYc+gQSX2Tz5vHUY4XX8x+2FatOIAlLQ3si+/ThwdN27VjP+4XX3jOg/cVs6gAcOqp2NLKvrF8ATG65uAFF9TZxvh4e+C3ogLA8cfjwBbOr+Cw6Nev55SYdZW2Ejxp3drw0esnq2tA1nTbl5cHsObfeINNcF0PsIlooa+osDZkZPCDxKf8/ijFZS0BD6GXiJuooN5SgkQUB2ACgEsA5AFYSkRfKqWy9TFKqZcBvGwdfyWAB5VSZuDwCKVUgES7sYW21HXoo+6i+93EM2ZwhWy9c+rUOmY+uSz61FRs7H0pYKUo9hnv33zDD4wgMgg63u+441C0ih3+jgi+9es5OY/QYLRFf8stQJ8uJ+HPgN+ArDmHylPoleKR86uvDlmvytOiBzgkzJ3f2sKXGwceQq+znInQRzTBWPSnA8hRSm1VSlUCmAbg6jqOvxnA1FA0LhrRAq8H17QvtFMn46B9+4CxY3kS0vffsxPfmNTkhcOiB7CjG4dnrF5hXUApLv9zySUe/X9/2lt1qwsLAfTti10HuVvg8Bjl5gK9e9f7XoI/Wuj/8x/gmb+loCK9s51T2sKXigABhH7DBv4hXXllyNoVUOgD+OmVYhtE4yf0Cxbwe3jO9BIihWCEPgOAWVwyz9rmBxGlABgFwKyRpAB8S0TLiGhsoIsQ0VgiyiKirAKznlqUocuD6lnrnTvzUicwA8AzW3ftAiZN4oo8QURUOCxwALvbDUICKjCY1vGGNWt86RKCQT94CgqAku7H405wWgWf0FdV8YfJ8PyqhXpwuG4A7B82Epg9G1WV9tRk01IuL/cQUZ3jvYnlA038hL6eWPo5czj3ksasP4uqKk7KdHVddp8QCQQj9F6jeoHS3V0JYKHLbXO2UmoYgMsA3EtEnpVFlVKTlFKZSqnMTg7zt+UpLmarJlBhjsmT7dh0LfSHD/ONnJfH/k1tQQNgx33PnhwdEyRaBHJy2Mr6fndfdEU+aLFVOEJXK7n00qDezxT64s62y8gn9Hv28IVkEkyjcAzGAig4dRSwdSuKNtnFf+u16Fev5jcKYfoJ/TsK1qJ3VzZzFK1fuZJTYZ5/fsjaJ4SHYIQ+D0BP43UPAIGG6cfA5bZRSu22lvsAfAZ2BUUVEycCP/85j4t5cddd/Ld8uX1jHD5sl/nTQRcAWDznz+eA6QbMdNQ36IQJ3JZFK5KxnzpxxZI9e1joTz45aGFOTeVB3IIC4Ejn3o7tAHjqLmDXJxQahJ/Qd+V8/qXLbfdNvUK/ZQsP1ocwx7ufRd+xI/+4Agi9ew6UQ+jXWb1JXZZQiFiCEfqlAPoTUR8iSgCL+Zfug4goHcD5AL4wtqUSUZpeBzASgEdBvMhmwQJeeuWl0hY8YJdWu/xyHpTVVaMc41TZ2fw0qCcyxo3ZZZ42jZfvXfUpMH06i/t339Xr53dzzDHclNIEu7vhE/o1a3ipk/MIDSI+3ohsAVCQxpnnjqyzQyzdrhs/oc/NDVlYpcZP6In499MYoc/L46UYAxFPvUKvlKoGMB7ALADrAXyklFpHROOIaJxx6LUAvlVKGdHB6ALgByJaBWAJgOlKqZmha37zoGu1Hj5sbyssZPf6H//oPHbAAGDoUN7/2GMcLOEweHShjwYKvZt+/YAbJo0ERo7kgYB+/YA772zQe6Sl8Y1rxnP7xnFXrmR/U8+enucKddO6tfP/erAyFUhLQ+kO2xfy8MP2DNWAQh/i/78W+tNPBz76yNpYx6Qpd61hR+Tvrl1sLXjGhQqRRP3hGQCUUjMAzHBtm+h6/S6Ad13btgI4uUktbCArVvBSzz5tKtXVfL8BTqFfsoQnPi1c6Dy+Z09n2HmfPoaHJj+fZ08NHdrkaJa0NLDA6+RnjSA1lcXIFCQoxQ1euZLbGYJEWkcj8fFO10xxCaF9aR7uyJrn21ZWxj3CLl3Y+neEtlZVsUsuxEJvRlU9+ihP4kNGhkeObMZXjQocDfzss8bOvDwZrI8SYm5m7LBh/KddzMFSUuJdGyIvzw6RNGezunNUvfQSL4mcXXYfu3Zxjpq9e4F//KNRAqprgACutAeNJDWVb2SH0O/axU+31atZ6IVG4Y5w3boVOFTbFq9scUaoaPdNWZkr6mb3bs4pHWLXjWmE+NYzMnAwrxRXXaUcxb+rq+102gD3Xh3htytXyqzpKCGmhP6xx+z1s89u2Llnn+1Kz2uh3ZAAz/Z++21ed4VE++Y6tWrlHITz5RR59lnuGnz7Lft8GoE5d6l160a9hQO3RX8i1nKXaPNmNkdF6BuN+/vxq+xloRPTlZa63CK6Gxlii94Uep+xkJGBVRUD8NVXhIsusve/8oozAMERKp+Xx3/Dh4e0fUJ4iCmhN/PLmAJdHxUVvpTsfmnD9QBsnz5sxY8dywa5OwJH39itWrHvdfRofl27M5cv8PnnvNFMHdkEGvL5ApGSwgKjB9hmJl7DeXeWL+cNIvSNxm3Rm24cE91LLClpfqE3LXplRVHn5nJ+PcDZa3WEBwNc/xIIkFdZiDRiSujdUWhBVG8DAPzqV/a6nqPifg+zEtTs2bw054nom6Z3b75h77uPX9es38SZzPLzedlEpk/nZRAlSOtFW/T6vdqcOZh7HJMncySGdMsbjVvoHe4xA23RN5fQmy4/U+grYd88Or+eOYzkN1a7ZAnfcGIMRAUxJfTaNz5mDC+XLAnuPB2uCDgt+q+/5qwCgFPotfX+r3/Z2847D/j3v4G//pVfJyVyOEUblHCMe9euIZnKrg2oUAn9kSM8UfeUU4D0K8/j8M9584D/+7/Q+IeOUtz/us8/9z6uuJhdfeXlLqHfuZPzFoViMMbADJecNs0yzLt3dwi9RvdCbrnFo5LkunUcYhbCGH8hfMSU0OsfpvaONNS9kZTEP/yDB9kCu/JKO+OkaVjt3ctuj3bt+PUNN/DY6i23WFWiAJzTZiWewp8w6fc5HN4wc2ZIbtr27Tk0bmoIsglpi37fPivA5r7xwO2384DFb37T9AscxdSVbig1scrnKiwqsq19P4u+GUJbv/kGnkJfXc1GQEoKGzB+rF8vPb4oIqjwymhBD4LqgdHiIgXvDA42Ojzy5pv5Rz1lCvDpp85j2re3RR0A8vfUIj29FYjYsnbo944dABFavfUm/pTwHvDongCFQBsHke0ebSopKfxwPHDAstgSEvgfIDSZuoT+i2veRc+evwbAeqm9NH4WfZiE/tFH7epm8fEAkpJQmdwOMCZwlZbaQu9HeTlHJtxyS1jaJ4SemLLoNX15EiKKnn0NuPFGo26aPzoAZuBArvzjdWi3bs4Y573bjiA9jcNpOnQwuuk//MChMb16cXjOFVeEVORDjZ7IVVYW4IYWGk1dQt+zOBvp6WxA/O1vwEmcHcEWeqU4HlP/kEOMWUpYt7OyrTPkrLi4DqHftInbKBZ91BCTQt91/TykUimKDtawA1rnInBhhrylpgYWu/79ndEKJaoN0itd2Z6U4pmp5eXAkCGcsOy115r4ScLL5Zfb634+WKFJ1DW8cey+LBBxaiIT3wTTwkL26YRJ6E10OyvTnGmGS0rqEHpdeUxqFUQNMSn06dddiLbqMIovvIb9KjqzowszkiAlJbDQn3SSa9YigLaHjRlZGzeyebxpE8d4rlrFCXIiPH2AWbpOhD601GXRJ23jmW+OZHcwdFPPUmqGgts+oW/j7HnWKfTLl7ObTyz6qCF2fPRFRViO8/ETzgA9+STaTu2Cok5xbFnPm+d5yvbt9nqrVn5lWrFhAz8MMjOBvfOyAQzy7et6cD2wO4PDEG+9leMy27bl9ShCZ1kUoQ8tgYT+ioFbgPUHgAMHkJJiW9HDhgGD9M/r889ZYUeMaLZ2Nkjoly3jXqtE3EQNsWPRp6XhlB/ewLivrwSefhpp6XE8GeWCC9jidhVAPnQIuOYa+3VVlf+PumtX4MILgbapNej/zK3YlHaqb18GdgHvv89W/JIlPBlqwwbPeq+RjLboROhDSyDXzd8ftvLRz5+PlNwNvu0OI2P5ck6F6rY8woAek6pI7+zYHtBHr5TdPiFqiB2hJ+KwQKtIa1qaNRll5EjeP8ORkw0ffOCcUFVV5byvfvrJcNdMnw4sW4buCLUFqgAADf5JREFUr/zOtz9jQBrw3HPsl09J4cHXbt3C8MHCiwh9eAhk0ScMHcS/1RtuwLWf2b0/n6AqxelS9QhtmNFzTyrbBumj37qVrSQR+qgidoTeRXKyFVc/ZAi7V+bPB8BuiunT/aNr0tOdP+pjf/iA4w5raznjZI8eSL71Rt/+bvdcy66aH34AHnmEzf8oRAu9RN2EloBC36W9bxT8dCzFjeBcwT4jIy+P06Q2Ux2Aykrgv/8Fnprq9LcHFHqdHkOKjUQVseOjd5GYaFkrOrzBqoYzbZoz/LesjD0wt95qxzMDQNpDvwYeOmI7sZ9/Hq0S7H9XxyEZHOtcVRXVM0jFog8PgX4SiYngiuErVgArViDpIZ7ll9K6EkCCXbXpxBPD2r4+fTgUvrISePxx//0BXTfLlvGHk4I0UUXMWvRJSUYiqcGDeWZKdbUjv7Y+7s47OQLFdN2k/OMlnlmSlMQZ+u65x3GeL8lTFIs8YBtm7gITQtMIZNG3bg2efTdiBDBuHJK68SBoyszP2NJoJqHXxXQqK51pEUrByh7Qol+2jN1KfpXMhUgmZoXeZ9EDLPQVFUBOTsAC34AzVp7G38szS/Lz2T3jiq80Z8pGM1OmAOPHAxdf3NItiS0Cum7MQJWUFCRez2lOU0r2AdddxwrcpYsrJ3DoSUnhXty+fRxD4NuOMiShDCVFtf5CX1vLQi/++agjZoXez6IHgLVrHQOwOhOkJrGy2P+NUlP9C2cidoS+Y0dOuxxlwUIRj1dHb906f0NYv0655Gyu8vTuu2G35jUJCXZ9BR8PPog2KMHB9fn+kWjr1nEiqIYWexBanJgVeodFP3Ag++rXrnVkfczMdJ30/fd4Fn/AXZd51880CXFSQSHGMC16LeaDBvkfp22IlFMG2BsbWPu3sXiGwT/zDNKoBPvW7OV2mUJvBTTg/PPD3TQhxMTsYKzDok9O5mmIa9div1XxqW1bj4pS8+bhDwmvA/91Vfz2wMPIFwQfptDv3BnYpb1jBy97DEhlaz47mzPsNQPu8SoAQGoq0jomYG0u+zFTEqoAWN2T777jPE5NrHcsND9ByRURjSKijUSUQ0SPeuz/PRGttP7WElENEXUI5txwoS16XxjliSdi24pD+Pxzjm47fNhDrOfM4YTvdYSgrF4NfPxx2JotxAim0Ken+6fQ0OiC8yedBOC224AXX2y2guyBiqGMvrMrtoJTwKasWswba2tZ6C+4oFnaJoSWeoWeiOIATABwGTgHwM1E5OiEKqVeVkoNVUoNBfAYgO+UUoXBnBsudIKoykprw4AB+NW2JwEE6LIuX85pDK67rs73Pekkzj8vCHVh+ujrynvz5pvA889z4ZdIYfg5cb71lKXzeWXjRmD/fq6wI0QdwVj0pwPIUUptVUpVApgG4Oo6jr8ZgC6L0dBzQ4buKvvcN8cfjwTFTns/3zwA/POf7JC87bbmaJ4Q45jiXpebr08fLmrfTEa8g1dfdb6Os/TdnPuXvPonzhelK92cdlrzNE4IKcEIfQYAYyoR8qxtfhBRCoBRAP7biHPHElEWEWUVFBQE0ay60Rb9k09aGwYMQE+rKY884jr44EHOifCLX8ROOI3QophC3xIiHgzu5KoPP8xLU+iTzjqV/ZXPPMNdYUlNHJUEI/ReP9NAlTyuBLBQKaWDGIM+Vyk1SSmVqZTK7NSpUxDNqhst9K+/buWdP/54lKANBnY54N+V/sMfeIqsa1KUIDSWaJhH554M9dxzvOxs5DdL/MvTPG4AsI8pGj6Y4EcwUTd5AMxnfw8AuwMcOwa226ah54YUM8rhyBGgzTHHoDi+A9rUFgEwJqNkZwMTJwJ33y0V7YWQUZdfPlJwxxzonoc5hpWUBL43rrwSyPDsjAtRQDAW/VIA/YmoDxElgMX8S/dBRJQO4HwAXzT03HBgdgq2bQNAhJI2XZBWts/eUVPDMcvt2gF//nNzNEs4SogGw9e06OfO9T4mKQn8BBCRj2rqFXqlVDWA8QBmAVgP4COl1DoiGkdE44xDrwXwrVKqtL5zQ/kBAnH66fb6kCG8LEk6Bm1K9lr5i8EhD4sXc1Wozp3930QQGkkzpJJvMqZFf+GF3sdISpvYIKgOplJqBoAZrm0TXa/fBfBuMOc2B+3a8UzthQvtbUWUjjQUcaGQjh05adl55wFjxjR384QYJxqEPpjU1L46tkJUE9PzO59+2l5fvx7YuicFXbEX+PFHDsdJSQHeey9ywyKEqCUurv5jWhot9HX9/EXoY4MoGDJqPKZVpest/6zvUuD7Qp4gdc01Mp1bOGrRbplAs3bNY4ToJqYt+upqe32fNQabcelgYPZsrh517rkt0zBBiADatQMefBCYNy/wMWLRxwYxLfRm2c2dO3mZdv/tvNKtm/jmhaMaIuCVV+qOKvZMFyJEHTEt9OnpXCYQ4OI9REDq8RnAli0cPy/9UkGoExm+ig1i2kcP2H76/HwurtGqFYC+fVu0TYIgCM1JTFv0gO1jLChwlgoUhHBz/vmctCwa6dWrpVsghJKYt+i1d6agwKPQiCCEEV2QKRpZuRKOsptCdBPzFr0W+v37xaIXhGBp1048nLFEzAu9GR4mdV4FQTgaiXmhNwNrxKIXBOFo5KgSerHoBUE4Gol5oTddN2LRC4JwNBLzQi+uG0EQjnZiXuhlMFYQhKOdmBd6segFQTjaiXmhN2t3XnJJy7VDEAShpYh5oTeTMvXv33LtEARBaCliXugFQRCOdmI+1w3Atb+HDWvpVgiCILQMQQk9EY0C8BqAOADvKKX+4nHMBQBeBdAawH6l1PnW9u0AigHUAKhWSmWGpOUN4J57mvuKgiAIkUO9Qk9EcQAmALgEQB6ApUT0pVIq2zimHYB/AhillNpJRJ1dbzNCKbU/hO0WBEEQgiQYH/3pAHKUUluVUpUApgG42nXMzwF8qpTaCQBKqX2hbaYgCILQWIIR+gwAucbrPGubyfEA2hPRfCJaRkS3GvsUgG+t7WMDXYSIxhJRFhFlFRQUBNt+QRAEoR6C8dF7VY1UHu9zKoCLACQDWEREi5VSmwCcrZTabblzZhPRBqXUAr83VGoSgEkAkJmZ6X5/QRAEoZEEY9HnAehpvO4BYLfHMTOVUqWWL34BgJMBQCm121ruA/AZ2BUkCIIgNBPBCP1SAP2JqA8RJQAYA+BL1zFfADiXiOKJKAXAGQDWE1EqEaUBABGlAhgJYG3omi8IgiDUR72uG6VUNRGNBzALHF45RSm1jojGWfsnKqXWE9FMAKsB1IJDMNcSUV8AnxFPT40H8IFSama4PowgCILgDykVee7wzMxMlZWV1dLNEARBiBqIaFmgeUoRKfREVABgRyNPPwZAJMfsS/uaTqS3UdrXNCK9fUBktrGXUqqT146IFPqmQERZLTH7NlikfU0n0tso7Wsakd4+IDraaCJJzQRBEGIcEXpBEIQYJxaFflJLN6AepH1NJ9LbKO1rGpHePiA62ugj5nz0giAIgpNYtOgFQRAEAxF6QRCEGCdmhJ6IRhHRRiLKIaJHW7AdU4hoHxGtNbZ1IKLZRLTZWrY39j1mtXkjEV3aDO3rSUTziGg9Ea0jogciqY1ElERES4holdW+pyOpfcY144hoBRF9HWntI6LtRLSGiFYSUVaktc+6Zjsi+oSINli/xeGR0kYiGmD97/RfERH9NlLa1yiUUlH/B07NsAVAXwAJAFYBGNRCbTkPwDAAa41tLwF41Fp/FMCL1vogq62JAPpYnyEuzO3rBmCYtZ4GYJPVjohoIzhbahtrvTWAnwCcGSntM9r5fwA+APB1BH7H2wEc49oWMe2zrvsegLus9QQA7SKtjda14wDkA+gVie0L+nO0dANC9GUMBzDLeP0YgMdasD294RT6jQC6WevdAGz0aic4n9DwZm7rF+DqYRHXRgApAJaDk+RFTPvAGVznArjQEPpIap+X0EdS+9oC2AYrGCQS22hcaySAhZHavmD/YsV1E0xxlJaki1JqDwBYS11qsUXbTUS9AZwCtpojpo2WW2QlgH0AZiulIqp94NrID4MT+GkiqX1exX4iqX19ARQA+Jfl/nrHym4bSW3UjAEw1VqPxPYFRawIfTDFUSKRFms3EbUB8F8Av1VKFdV1qMe2sLZRKVWjlBoKtpxPJ6LBdRzerO0jotEA9imllgV7ise2cH/HZyulhgG4DMC9RHReHce2RPviwe7NN5VSpwAoBbtCAtEi9wlxWvarAHxc36Ee2yJKf2JF6IMpjtKS7CWibgBgLXVN3RZpNxG1Bov8+0qpTyOxjQCglDoEYD6AURHUvrMBXEVE28H1ky8kov9EUPugvIv9REz7rGvmWT01APgELPyR1EaAH5TLlVJ7rdeR1r6giRWhD6Y4SkvyJYDbrPXbwH5xvX0MESUSUR8A/QEsCWdDiIgATAawXin1SqS1kYg6EVE7az0ZwMUANkRK+5RSjymleiileoN/Z/9TSv0yUtpHgYv9RET7AEAplQ8gl4gGWJsuApAdSW20uBm220a3I5LaFzwtPUgQwkGTy8ERJFsA/KEF2zEVwB4AVeAn/Z0AOoIH7zZbyw7G8X+w2rwRwGXN0L5zwN3K1QBWWn+XR0obAQwBsMJq31oAT1rbI6J9rrZeAHswNiLaB/Z/r7L+1ul7IVLaZ1xzKIAs63v+HED7SGojOBDgAIB0Y1vEtK+hf5ICQRAEIcaJFdeNIAiCEAARekEQhBhHhF4QBCHGEaEXBEGIcUToBUEQYhwRekEQhBhHhF4QBCHG+X+wL7+Ih0M7RAAAAABJRU5ErkJggg==\n",
      "text/plain": [
       "<Figure size 432x288 with 1 Axes>"
      ]
     },
     "metadata": {
      "needs_background": "light"
     },
     "output_type": "display_data"
    }
   ],
   "source": [
    "plt.plot(y_pred.cpu().detach().numpy(), 'r-')\n",
    "plt.plot(y_test, 'b-')\n",
    "plt.show()"
   ]
  },
  {
   "cell_type": "code",
   "execution_count": 32,
   "metadata": {},
   "outputs": [
    {
     "data": {
      "image/png": "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\n",
      "text/plain": [
       "<Figure size 432x288 with 1 Axes>"
      ]
     },
     "metadata": {
      "needs_background": "light"
     },
     "output_type": "display_data"
    }
   ],
   "source": [
    "plt.plot(y_pred.cpu().detach().numpy()[400:600], 'r-')\n",
    "plt.plot(y_test[400:600], 'b-')\n",
    "plt.show()"
   ]
  },
  {
   "cell_type": "code",
   "execution_count": 33,
   "metadata": {},
   "outputs": [
    {
     "data": {
      "image/png": "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\n",
      "text/plain": [
       "<Figure size 432x288 with 1 Axes>"
      ]
     },
     "metadata": {
      "needs_background": "light"
     },
     "output_type": "display_data"
    }
   ],
   "source": [
    "plt.plot(y_pred.cpu().detach().numpy()[400:450], 'r-')\n",
    "plt.plot(y_test[400:450], 'b-')\n",
    "plt.show()"
   ]
  },
  {
   "cell_type": "code",
   "execution_count": 34,
   "metadata": {},
   "outputs": [
    {
     "data": {
      "image/png": "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\n",
      "text/plain": [
       "<Figure size 432x288 with 1 Axes>"
      ]
     },
     "metadata": {
      "needs_background": "light"
     },
     "output_type": "display_data"
    }
   ],
   "source": [
    "plt.plot (y_pred.cpu().detach().numpy(), y_test, 'bo')\n",
    "plt.xlabel('y_pred')\n",
    "plt.ylabel('y_test')\n",
    "plt.show()"
=======
      "application/vnd.jupyter.widget-view+json": {
       "model_id": "8128d6dc7b6c4979b5b12b20f321031f",
       "version_major": 2,
       "version_minor": 0
      },
      "text/plain": [
       "HBox(children=(IntProgress(value=0, description='10/100(t)', max=14, style=ProgressStyle(description_width='in…"
      ]
     },
     "metadata": {},
     "output_type": "display_data"
    },
    {
     "name": "stdout",
     "output_type": "stream",
     "text": [
      "\n"
     ]
    },
    {
     "data": {
      "application/vnd.jupyter.widget-view+json": {
       "model_id": "84c207479ed644b6996b5f23ccf3f977",
       "version_major": 2,
       "version_minor": 0
      },
      "text/plain": [
       "HBox(children=(IntProgress(value=0, description='11/100(t)', max=14, style=ProgressStyle(description_width='in…"
      ]
     },
     "metadata": {},
     "output_type": "display_data"
    },
    {
     "name": "stdout",
     "output_type": "stream",
     "text": [
      "\n"
     ]
    },
    {
     "data": {
      "application/vnd.jupyter.widget-view+json": {
       "model_id": "8b43723d7d6c4ba8bcb7928d4d267529",
       "version_major": 2,
       "version_minor": 0
      },
      "text/plain": [
       "HBox(children=(IntProgress(value=0, description='12/100(t)', max=14, style=ProgressStyle(description_width='in…"
      ]
     },
     "metadata": {},
     "output_type": "display_data"
    },
    {
     "name": "stdout",
     "output_type": "stream",
     "text": [
      "\n"
     ]
    },
    {
     "data": {
      "application/vnd.jupyter.widget-view+json": {
       "model_id": "e99a40596c9c4051bcc1ed11f0239c3c",
       "version_major": 2,
       "version_minor": 0
      },
      "text/plain": [
       "HBox(children=(IntProgress(value=0, description='13/100(t)', max=14, style=ProgressStyle(description_width='in…"
      ]
     },
     "metadata": {},
     "output_type": "display_data"
    },
    {
     "name": "stdout",
     "output_type": "stream",
     "text": [
      "\n"
     ]
    },
    {
     "data": {
      "application/vnd.jupyter.widget-view+json": {
       "model_id": "d59092bdc2eb4530bf28507881b0b67b",
       "version_major": 2,
       "version_minor": 0
      },
      "text/plain": [
       "HBox(children=(IntProgress(value=0, description='14/100(t)', max=14, style=ProgressStyle(description_width='in…"
      ]
     },
     "metadata": {},
     "output_type": "display_data"
    },
    {
     "name": "stdout",
     "output_type": "stream",
     "text": [
      "\n"
     ]
    },
    {
     "data": {
      "application/vnd.jupyter.widget-view+json": {
       "model_id": "206149a30eed438d8679a53244d8bcc6",
       "version_major": 2,
       "version_minor": 0
      },
      "text/plain": [
       "HBox(children=(IntProgress(value=0, description='15/100(t)', max=14, style=ProgressStyle(description_width='in…"
      ]
     },
     "metadata": {},
     "output_type": "display_data"
    },
    {
     "name": "stdout",
     "output_type": "stream",
     "text": [
      "\n"
     ]
    },
    {
     "data": {
      "application/vnd.jupyter.widget-view+json": {
       "model_id": "5338deff1d4e4a14bdc2d0f2199aa1a9",
       "version_major": 2,
       "version_minor": 0
      },
      "text/plain": [
       "HBox(children=(IntProgress(value=0, description='16/100(t)', max=14, style=ProgressStyle(description_width='in…"
      ]
     },
     "metadata": {},
     "output_type": "display_data"
    },
    {
     "name": "stdout",
     "output_type": "stream",
     "text": [
      "\n"
     ]
    },
    {
     "data": {
      "application/vnd.jupyter.widget-view+json": {
       "model_id": "41a2f89038c44256b8dfa98dbbefd37d",
       "version_major": 2,
       "version_minor": 0
      },
      "text/plain": [
       "HBox(children=(IntProgress(value=0, description='17/100(t)', max=14, style=ProgressStyle(description_width='in…"
      ]
     },
     "metadata": {},
     "output_type": "display_data"
    },
    {
     "name": "stdout",
     "output_type": "stream",
     "text": [
      "\n"
     ]
    },
    {
     "data": {
      "application/vnd.jupyter.widget-view+json": {
       "model_id": "e8fa1ec6577b43c78d080b3590ce08aa",
       "version_major": 2,
       "version_minor": 0
      },
      "text/plain": [
       "HBox(children=(IntProgress(value=0, description='18/100(t)', max=14, style=ProgressStyle(description_width='in…"
      ]
     },
     "metadata": {},
     "output_type": "display_data"
    },
    {
     "name": "stdout",
     "output_type": "stream",
     "text": [
      "\n"
     ]
    },
    {
     "data": {
      "application/vnd.jupyter.widget-view+json": {
       "model_id": "fa31161f72b4487ea9bf951ceacf7058",
       "version_major": 2,
       "version_minor": 0
      },
      "text/plain": [
       "HBox(children=(IntProgress(value=0, description='19/100(t)', max=14, style=ProgressStyle(description_width='in…"
      ]
     },
     "metadata": {},
     "output_type": "display_data"
    },
    {
     "name": "stdout",
     "output_type": "stream",
     "text": [
      "\n"
     ]
    },
    {
     "data": {
      "application/vnd.jupyter.widget-view+json": {
       "model_id": "c40246dfe1cd44aaaebb069366261852",
       "version_major": 2,
       "version_minor": 0
      },
      "text/plain": [
       "HBox(children=(IntProgress(value=0, description='20/100(t)', max=14, style=ProgressStyle(description_width='in…"
      ]
     },
     "metadata": {},
     "output_type": "display_data"
    },
    {
     "name": "stdout",
     "output_type": "stream",
     "text": [
      "\n"
     ]
    },
    {
     "data": {
      "application/vnd.jupyter.widget-view+json": {
       "model_id": "2fd7728a0b3446558c619b3e7d1a1f60",
       "version_major": 2,
       "version_minor": 0
      },
      "text/plain": [
       "HBox(children=(IntProgress(value=0, description='21/100(t)', max=14, style=ProgressStyle(description_width='in…"
      ]
     },
     "metadata": {},
     "output_type": "display_data"
    },
    {
     "name": "stdout",
     "output_type": "stream",
     "text": [
      "\n"
     ]
    },
    {
     "data": {
      "application/vnd.jupyter.widget-view+json": {
       "model_id": "fe61c1afb20940a5a2aff95a3b6b133b",
       "version_major": 2,
       "version_minor": 0
      },
      "text/plain": [
       "HBox(children=(IntProgress(value=0, description='22/100(t)', max=14, style=ProgressStyle(description_width='in…"
      ]
     },
     "metadata": {},
     "output_type": "display_data"
    },
    {
     "name": "stdout",
     "output_type": "stream",
     "text": [
      "\n"
     ]
    },
    {
     "data": {
      "application/vnd.jupyter.widget-view+json": {
       "model_id": "23b2b8852171458faede1292826c1419",
       "version_major": 2,
       "version_minor": 0
      },
      "text/plain": [
       "HBox(children=(IntProgress(value=0, description='23/100(t)', max=14, style=ProgressStyle(description_width='in…"
      ]
     },
     "metadata": {},
     "output_type": "display_data"
    },
    {
     "name": "stdout",
     "output_type": "stream",
     "text": [
      "\n"
     ]
    },
    {
     "data": {
      "application/vnd.jupyter.widget-view+json": {
       "model_id": "96bd2ef283ab448f8c82359733ba7019",
       "version_major": 2,
       "version_minor": 0
      },
      "text/plain": [
       "HBox(children=(IntProgress(value=0, description='24/100(t)', max=14, style=ProgressStyle(description_width='in…"
      ]
     },
     "metadata": {},
     "output_type": "display_data"
    },
    {
     "name": "stdout",
     "output_type": "stream",
     "text": [
      "\n"
     ]
    },
    {
     "data": {
      "application/vnd.jupyter.widget-view+json": {
       "model_id": "f714b9ba7f3e417e982d3e2494972ff1",
       "version_major": 2,
       "version_minor": 0
      },
      "text/plain": [
       "HBox(children=(IntProgress(value=0, description='25/100(t)', max=14, style=ProgressStyle(description_width='in…"
      ]
     },
     "metadata": {},
     "output_type": "display_data"
    },
    {
     "name": "stdout",
     "output_type": "stream",
     "text": [
      "\n"
     ]
    },
    {
     "data": {
      "application/vnd.jupyter.widget-view+json": {
       "model_id": "9939812188104420869c22021d346752",
       "version_major": 2,
       "version_minor": 0
      },
      "text/plain": [
       "HBox(children=(IntProgress(value=0, description='26/100(t)', max=14, style=ProgressStyle(description_width='in…"
      ]
     },
     "metadata": {},
     "output_type": "display_data"
    },
    {
     "name": "stdout",
     "output_type": "stream",
     "text": [
      "\n"
     ]
    },
    {
     "data": {
      "application/vnd.jupyter.widget-view+json": {
       "model_id": "8d730f78ce2240d782113246b2f903c6",
       "version_major": 2,
       "version_minor": 0
      },
      "text/plain": [
       "HBox(children=(IntProgress(value=0, description='27/100(t)', max=14, style=ProgressStyle(description_width='in…"
      ]
     },
     "metadata": {},
     "output_type": "display_data"
    },
    {
     "name": "stdout",
     "output_type": "stream",
     "text": [
      "\n"
     ]
    },
    {
     "data": {
      "application/vnd.jupyter.widget-view+json": {
       "model_id": "f61582defb034531a6451ddcb5ac4e38",
       "version_major": 2,
       "version_minor": 0
      },
      "text/plain": [
       "HBox(children=(IntProgress(value=0, description='28/100(t)', max=14, style=ProgressStyle(description_width='in…"
      ]
     },
     "metadata": {},
     "output_type": "display_data"
    },
    {
     "name": "stdout",
     "output_type": "stream",
     "text": [
      "\n"
     ]
    },
    {
     "data": {
      "application/vnd.jupyter.widget-view+json": {
       "model_id": "58b972aad6db439ebfd11ad22f886776",
       "version_major": 2,
       "version_minor": 0
      },
      "text/plain": [
       "HBox(children=(IntProgress(value=0, description='29/100(t)', max=14, style=ProgressStyle(description_width='in…"
      ]
     },
     "metadata": {},
     "output_type": "display_data"
    },
    {
     "name": "stdout",
     "output_type": "stream",
     "text": [
      "\n"
     ]
    },
    {
     "data": {
      "application/vnd.jupyter.widget-view+json": {
       "model_id": "17bff7cc28d2427787ce4c7c60f322d1",
       "version_major": 2,
       "version_minor": 0
      },
      "text/plain": [
       "HBox(children=(IntProgress(value=0, description='30/100(t)', max=14, style=ProgressStyle(description_width='in…"
      ]
     },
     "metadata": {},
     "output_type": "display_data"
    },
    {
     "name": "stdout",
     "output_type": "stream",
     "text": [
      "\n"
     ]
    },
    {
     "data": {
      "application/vnd.jupyter.widget-view+json": {
       "model_id": "89a0a7d33bce4ede8cea7f8fcf5f1e41",
       "version_major": 2,
       "version_minor": 0
      },
      "text/plain": [
       "HBox(children=(IntProgress(value=0, description='31/100(t)', max=14, style=ProgressStyle(description_width='in…"
      ]
     },
     "metadata": {},
     "output_type": "display_data"
    },
    {
     "name": "stdout",
     "output_type": "stream",
     "text": [
      "\n"
     ]
    },
    {
     "data": {
      "application/vnd.jupyter.widget-view+json": {
       "model_id": "18258b6b2cb643ce9714be83428f3f35",
       "version_major": 2,
       "version_minor": 0
      },
      "text/plain": [
       "HBox(children=(IntProgress(value=0, description='32/100(t)', max=14, style=ProgressStyle(description_width='in…"
      ]
     },
     "metadata": {},
     "output_type": "display_data"
    },
    {
     "name": "stdout",
     "output_type": "stream",
     "text": [
      "\n"
     ]
    },
    {
     "data": {
      "application/vnd.jupyter.widget-view+json": {
       "model_id": "6b8b3e9befe04884b1e9098938ac3b74",
       "version_major": 2,
       "version_minor": 0
      },
      "text/plain": [
       "HBox(children=(IntProgress(value=0, description='33/100(t)', max=14, style=ProgressStyle(description_width='in…"
      ]
     },
     "metadata": {},
     "output_type": "display_data"
    },
    {
     "name": "stdout",
     "output_type": "stream",
     "text": [
      "\n"
     ]
    },
    {
     "data": {
      "application/vnd.jupyter.widget-view+json": {
       "model_id": "4300dd2f3293428299fb1c5471b8da99",
       "version_major": 2,
       "version_minor": 0
      },
      "text/plain": [
       "HBox(children=(IntProgress(value=0, description='34/100(t)', max=14, style=ProgressStyle(description_width='in…"
      ]
     },
     "metadata": {},
     "output_type": "display_data"
    },
    {
     "name": "stdout",
     "output_type": "stream",
     "text": [
      "\n"
     ]
    },
    {
     "data": {
      "application/vnd.jupyter.widget-view+json": {
       "model_id": "7e91b8c75fa84633b2acf1a376063fb9",
       "version_major": 2,
       "version_minor": 0
      },
      "text/plain": [
       "HBox(children=(IntProgress(value=0, description='35/100(t)', max=14, style=ProgressStyle(description_width='in…"
      ]
     },
     "metadata": {},
     "output_type": "display_data"
    },
    {
     "name": "stdout",
     "output_type": "stream",
     "text": [
      "\n"
     ]
    },
    {
     "data": {
      "application/vnd.jupyter.widget-view+json": {
       "model_id": "9fa8f598a5e64ad9b79d1ea0b71e7452",
       "version_major": 2,
       "version_minor": 0
      },
      "text/plain": [
       "HBox(children=(IntProgress(value=0, description='36/100(t)', max=14, style=ProgressStyle(description_width='in…"
      ]
     },
     "metadata": {},
     "output_type": "display_data"
    },
    {
     "name": "stdout",
     "output_type": "stream",
     "text": [
      "\n"
     ]
    },
    {
     "data": {
      "application/vnd.jupyter.widget-view+json": {
       "model_id": "ea8fde7730e341549677c8de86c0fbc4",
       "version_major": 2,
       "version_minor": 0
      },
      "text/plain": [
       "HBox(children=(IntProgress(value=0, description='37/100(t)', max=14, style=ProgressStyle(description_width='in…"
      ]
     },
     "metadata": {},
     "output_type": "display_data"
    },
    {
     "name": "stdout",
     "output_type": "stream",
     "text": [
      "\n"
     ]
    },
    {
     "data": {
      "application/vnd.jupyter.widget-view+json": {
       "model_id": "530ec4a415524490845f86106a7b0783",
       "version_major": 2,
       "version_minor": 0
      },
      "text/plain": [
       "HBox(children=(IntProgress(value=0, description='38/100(t)', max=14, style=ProgressStyle(description_width='in…"
      ]
     },
     "metadata": {},
     "output_type": "display_data"
    },
    {
     "name": "stdout",
     "output_type": "stream",
     "text": [
      "\n"
     ]
    },
    {
     "data": {
      "application/vnd.jupyter.widget-view+json": {
       "model_id": "c3d83224c7d5459690231e26ff4928d3",
       "version_major": 2,
       "version_minor": 0
      },
      "text/plain": [
       "HBox(children=(IntProgress(value=0, description='39/100(t)', max=14, style=ProgressStyle(description_width='in…"
      ]
     },
     "metadata": {},
     "output_type": "display_data"
    },
    {
     "name": "stdout",
     "output_type": "stream",
     "text": [
      "\n"
     ]
    },
    {
     "data": {
      "application/vnd.jupyter.widget-view+json": {
       "model_id": "add8990fc3354672abf025441938499c",
       "version_major": 2,
       "version_minor": 0
      },
      "text/plain": [
       "HBox(children=(IntProgress(value=0, description='40/100(t)', max=14, style=ProgressStyle(description_width='in…"
      ]
     },
     "metadata": {},
     "output_type": "display_data"
    },
    {
     "name": "stdout",
     "output_type": "stream",
     "text": [
      "\n"
     ]
    },
    {
     "data": {
      "application/vnd.jupyter.widget-view+json": {
       "model_id": "39ec05c8e4cf4479ba985f7fff7bce17",
       "version_major": 2,
       "version_minor": 0
      },
      "text/plain": [
       "HBox(children=(IntProgress(value=0, description='41/100(t)', max=14, style=ProgressStyle(description_width='in…"
      ]
     },
     "metadata": {},
     "output_type": "display_data"
    },
    {
     "name": "stdout",
     "output_type": "stream",
     "text": [
      "\n"
     ]
    },
    {
     "data": {
      "application/vnd.jupyter.widget-view+json": {
       "model_id": "86181965d84e4869b945b7455082966a",
       "version_major": 2,
       "version_minor": 0
      },
      "text/plain": [
       "HBox(children=(IntProgress(value=0, description='42/100(t)', max=14, style=ProgressStyle(description_width='in…"
      ]
     },
     "metadata": {},
     "output_type": "display_data"
    },
    {
     "name": "stdout",
     "output_type": "stream",
     "text": [
      "\n"
     ]
    },
    {
     "data": {
      "application/vnd.jupyter.widget-view+json": {
       "model_id": "b4526dbf8dc84bbdbd8f874ac2689e41",
       "version_major": 2,
       "version_minor": 0
      },
      "text/plain": [
       "HBox(children=(IntProgress(value=0, description='43/100(t)', max=14, style=ProgressStyle(description_width='in…"
      ]
     },
     "metadata": {},
     "output_type": "display_data"
    },
    {
     "name": "stdout",
     "output_type": "stream",
     "text": [
      "\n"
     ]
    },
    {
     "data": {
      "application/vnd.jupyter.widget-view+json": {
       "model_id": "57f5cba594b641a19554fe7b69ae0f31",
       "version_major": 2,
       "version_minor": 0
      },
      "text/plain": [
       "HBox(children=(IntProgress(value=0, description='44/100(t)', max=14, style=ProgressStyle(description_width='in…"
      ]
     },
     "metadata": {},
     "output_type": "display_data"
    },
    {
     "name": "stdout",
     "output_type": "stream",
     "text": [
      "\n"
     ]
    },
    {
     "data": {
      "application/vnd.jupyter.widget-view+json": {
       "model_id": "30b55f57a7374bacb26fcb0c81d97a07",
       "version_major": 2,
       "version_minor": 0
      },
      "text/plain": [
       "HBox(children=(IntProgress(value=0, description='45/100(t)', max=14, style=ProgressStyle(description_width='in…"
      ]
     },
     "metadata": {},
     "output_type": "display_data"
    },
    {
     "name": "stdout",
     "output_type": "stream",
     "text": [
      "\n"
     ]
    },
    {
     "data": {
      "application/vnd.jupyter.widget-view+json": {
       "model_id": "a65de4a63aa241a298ff050e49ece16c",
       "version_major": 2,
       "version_minor": 0
      },
      "text/plain": [
       "HBox(children=(IntProgress(value=0, description='46/100(t)', max=14, style=ProgressStyle(description_width='in…"
      ]
     },
     "metadata": {},
     "output_type": "display_data"
    },
    {
     "name": "stdout",
     "output_type": "stream",
     "text": [
      "\n"
     ]
    },
    {
     "data": {
      "application/vnd.jupyter.widget-view+json": {
       "model_id": "020b05e3866b4d2e8e265aec1ced78f8",
       "version_major": 2,
       "version_minor": 0
      },
      "text/plain": [
       "HBox(children=(IntProgress(value=0, description='47/100(t)', max=14, style=ProgressStyle(description_width='in…"
      ]
     },
     "metadata": {},
     "output_type": "display_data"
    },
    {
     "name": "stdout",
     "output_type": "stream",
     "text": [
      "\n"
     ]
    },
    {
     "data": {
      "application/vnd.jupyter.widget-view+json": {
       "model_id": "62613253bf1b40da8c1fb2f246fc53e5",
       "version_major": 2,
       "version_minor": 0
      },
      "text/plain": [
       "HBox(children=(IntProgress(value=0, description='48/100(t)', max=14, style=ProgressStyle(description_width='in…"
      ]
     },
     "metadata": {},
     "output_type": "display_data"
    },
    {
     "name": "stdout",
     "output_type": "stream",
     "text": [
      "\n"
     ]
    },
    {
     "data": {
      "application/vnd.jupyter.widget-view+json": {
       "model_id": "91f8b55088b74155b4acae5f82936872",
       "version_major": 2,
       "version_minor": 0
      },
      "text/plain": [
       "HBox(children=(IntProgress(value=0, description='49/100(t)', max=14, style=ProgressStyle(description_width='in…"
      ]
     },
     "metadata": {},
     "output_type": "display_data"
    },
    {
     "name": "stdout",
     "output_type": "stream",
     "text": [
      "\n"
     ]
    },
    {
     "data": {
      "application/vnd.jupyter.widget-view+json": {
       "model_id": "e55b8142d48f49968912cf8ff3b3edd2",
       "version_major": 2,
       "version_minor": 0
      },
      "text/plain": [
       "HBox(children=(IntProgress(value=0, description='50/100(t)', max=14, style=ProgressStyle(description_width='in…"
      ]
     },
     "metadata": {},
     "output_type": "display_data"
    },
    {
     "name": "stdout",
     "output_type": "stream",
     "text": [
      "\n"
     ]
    },
    {
     "data": {
      "application/vnd.jupyter.widget-view+json": {
       "model_id": "75ddfa17d9c345cd9059ad7c74ca5d5f",
       "version_major": 2,
       "version_minor": 0
      },
      "text/plain": [
       "HBox(children=(IntProgress(value=0, description='51/100(t)', max=14, style=ProgressStyle(description_width='in…"
      ]
     },
     "metadata": {},
     "output_type": "display_data"
    },
    {
     "name": "stdout",
     "output_type": "stream",
     "text": [
      "\n"
     ]
    },
    {
     "data": {
      "application/vnd.jupyter.widget-view+json": {
       "model_id": "e217ec4914b842a985d87c254d4889d0",
       "version_major": 2,
       "version_minor": 0
      },
      "text/plain": [
       "HBox(children=(IntProgress(value=0, description='52/100(t)', max=14, style=ProgressStyle(description_width='in…"
      ]
     },
     "metadata": {},
     "output_type": "display_data"
    },
    {
     "name": "stdout",
     "output_type": "stream",
     "text": [
      "\n"
     ]
    },
    {
     "data": {
      "application/vnd.jupyter.widget-view+json": {
       "model_id": "f0cf1b84a9874faf954ae1fd3a029972",
       "version_major": 2,
       "version_minor": 0
      },
      "text/plain": [
       "HBox(children=(IntProgress(value=0, description='53/100(t)', max=14, style=ProgressStyle(description_width='in…"
      ]
     },
     "metadata": {},
     "output_type": "display_data"
    },
    {
     "name": "stdout",
     "output_type": "stream",
     "text": [
      "\n"
     ]
    },
    {
     "data": {
      "application/vnd.jupyter.widget-view+json": {
       "model_id": "be602bacf7904004ae335a399f2472a1",
       "version_major": 2,
       "version_minor": 0
      },
      "text/plain": [
       "HBox(children=(IntProgress(value=0, description='54/100(t)', max=14, style=ProgressStyle(description_width='in…"
      ]
     },
     "metadata": {},
     "output_type": "display_data"
    },
    {
     "name": "stdout",
     "output_type": "stream",
     "text": [
      "\n"
     ]
    },
    {
     "data": {
      "application/vnd.jupyter.widget-view+json": {
       "model_id": "a2de6b3070df444788ac7ae6daf6e33d",
       "version_major": 2,
       "version_minor": 0
      },
      "text/plain": [
       "HBox(children=(IntProgress(value=0, description='55/100(t)', max=14, style=ProgressStyle(description_width='in…"
      ]
     },
     "metadata": {},
     "output_type": "display_data"
    },
    {
     "name": "stdout",
     "output_type": "stream",
     "text": [
      "\n"
     ]
    },
    {
     "data": {
      "application/vnd.jupyter.widget-view+json": {
       "model_id": "5d1a25a0097b47f4a664054439f4e302",
       "version_major": 2,
       "version_minor": 0
      },
      "text/plain": [
       "HBox(children=(IntProgress(value=0, description='56/100(t)', max=14, style=ProgressStyle(description_width='in…"
      ]
     },
     "metadata": {},
     "output_type": "display_data"
    },
    {
     "name": "stdout",
     "output_type": "stream",
     "text": [
      "\n"
     ]
    },
    {
     "data": {
      "application/vnd.jupyter.widget-view+json": {
       "model_id": "3bba4cf2cbff4b22864f0ddff191fc2f",
       "version_major": 2,
       "version_minor": 0
      },
      "text/plain": [
       "HBox(children=(IntProgress(value=0, description='57/100(t)', max=14, style=ProgressStyle(description_width='in…"
      ]
     },
     "metadata": {},
     "output_type": "display_data"
    },
    {
     "name": "stdout",
     "output_type": "stream",
     "text": [
      "\n"
     ]
    },
    {
     "data": {
      "application/vnd.jupyter.widget-view+json": {
       "model_id": "71591d622ccc4c25951df27665697ab9",
       "version_major": 2,
       "version_minor": 0
      },
      "text/plain": [
       "HBox(children=(IntProgress(value=0, description='58/100(t)', max=14, style=ProgressStyle(description_width='in…"
      ]
     },
     "metadata": {},
     "output_type": "display_data"
    },
    {
     "name": "stdout",
     "output_type": "stream",
     "text": [
      "\n"
     ]
    },
    {
     "data": {
      "application/vnd.jupyter.widget-view+json": {
       "model_id": "f833b2ba61014b42b8c54c8453169a9b",
       "version_major": 2,
       "version_minor": 0
      },
      "text/plain": [
       "HBox(children=(IntProgress(value=0, description='59/100(t)', max=14, style=ProgressStyle(description_width='in…"
      ]
     },
     "metadata": {},
     "output_type": "display_data"
    },
    {
     "name": "stdout",
     "output_type": "stream",
     "text": [
      "\n"
     ]
    },
    {
     "data": {
      "application/vnd.jupyter.widget-view+json": {
       "model_id": "736a39a62f964cd99cb41dc6ce037a0a",
       "version_major": 2,
       "version_minor": 0
      },
      "text/plain": [
       "HBox(children=(IntProgress(value=0, description='60/100(t)', max=14, style=ProgressStyle(description_width='in…"
      ]
     },
     "metadata": {},
     "output_type": "display_data"
    },
    {
     "name": "stdout",
     "output_type": "stream",
     "text": [
      "\n"
     ]
    },
    {
     "data": {
      "application/vnd.jupyter.widget-view+json": {
       "model_id": "ef17254eb746438c9831dd85317d978a",
       "version_major": 2,
       "version_minor": 0
      },
      "text/plain": [
       "HBox(children=(IntProgress(value=0, description='61/100(t)', max=14, style=ProgressStyle(description_width='in…"
      ]
     },
     "metadata": {},
     "output_type": "display_data"
    },
    {
     "name": "stdout",
     "output_type": "stream",
     "text": [
      "\n"
     ]
    },
    {
     "data": {
      "application/vnd.jupyter.widget-view+json": {
       "model_id": "a2e0587e195243eb99e7ef1871bca5bd",
       "version_major": 2,
       "version_minor": 0
      },
      "text/plain": [
       "HBox(children=(IntProgress(value=0, description='62/100(t)', max=14, style=ProgressStyle(description_width='in…"
      ]
     },
     "metadata": {},
     "output_type": "display_data"
    },
    {
     "name": "stdout",
     "output_type": "stream",
     "text": [
      "\n"
     ]
    },
    {
     "data": {
      "application/vnd.jupyter.widget-view+json": {
       "model_id": "f08bfa7f2bef42149c64f74204c2bc50",
       "version_major": 2,
       "version_minor": 0
      },
      "text/plain": [
       "HBox(children=(IntProgress(value=0, description='63/100(t)', max=14, style=ProgressStyle(description_width='in…"
      ]
     },
     "metadata": {},
     "output_type": "display_data"
    },
    {
     "name": "stdout",
     "output_type": "stream",
     "text": [
      "\n"
     ]
    },
    {
     "data": {
      "application/vnd.jupyter.widget-view+json": {
       "model_id": "c9208863f0be45c7adbba27c93f87f2a",
       "version_major": 2,
       "version_minor": 0
      },
      "text/plain": [
       "HBox(children=(IntProgress(value=0, description='64/100(t)', max=14, style=ProgressStyle(description_width='in…"
      ]
     },
     "metadata": {},
     "output_type": "display_data"
    },
    {
     "name": "stdout",
     "output_type": "stream",
     "text": [
      "\n"
     ]
    },
    {
     "data": {
      "application/vnd.jupyter.widget-view+json": {
       "model_id": "ad41dfcc08764890bd1db8e82bac396b",
       "version_major": 2,
       "version_minor": 0
      },
      "text/plain": [
       "HBox(children=(IntProgress(value=0, description='65/100(t)', max=14, style=ProgressStyle(description_width='in…"
      ]
     },
     "metadata": {},
     "output_type": "display_data"
    },
    {
     "name": "stdout",
     "output_type": "stream",
     "text": [
      "\n"
     ]
    },
    {
     "data": {
      "application/vnd.jupyter.widget-view+json": {
       "model_id": "ca529d565ad0443199426c9ec8de765f",
       "version_major": 2,
       "version_minor": 0
      },
      "text/plain": [
       "HBox(children=(IntProgress(value=0, description='66/100(t)', max=14, style=ProgressStyle(description_width='in…"
      ]
     },
     "metadata": {},
     "output_type": "display_data"
    },
    {
     "name": "stdout",
     "output_type": "stream",
     "text": [
      "\n"
     ]
    },
    {
     "data": {
      "application/vnd.jupyter.widget-view+json": {
       "model_id": "5597ae6b3e2b4b828612ac2938b73212",
       "version_major": 2,
       "version_minor": 0
      },
      "text/plain": [
       "HBox(children=(IntProgress(value=0, description='67/100(t)', max=14, style=ProgressStyle(description_width='in…"
      ]
     },
     "metadata": {},
     "output_type": "display_data"
    },
    {
     "name": "stdout",
     "output_type": "stream",
     "text": [
      "\n"
     ]
    },
    {
     "data": {
      "application/vnd.jupyter.widget-view+json": {
       "model_id": "7a83625d9d7b4e62a39d2e5ba20c9048",
       "version_major": 2,
       "version_minor": 0
      },
      "text/plain": [
       "HBox(children=(IntProgress(value=0, description='68/100(t)', max=14, style=ProgressStyle(description_width='in…"
      ]
     },
     "metadata": {},
     "output_type": "display_data"
    },
    {
     "name": "stdout",
     "output_type": "stream",
     "text": [
      "\n"
     ]
    },
    {
     "data": {
      "application/vnd.jupyter.widget-view+json": {
       "model_id": "43735579998e44238fcb58ea7f2df528",
       "version_major": 2,
       "version_minor": 0
      },
      "text/plain": [
       "HBox(children=(IntProgress(value=0, description='69/100(t)', max=14, style=ProgressStyle(description_width='in…"
      ]
     },
     "metadata": {},
     "output_type": "display_data"
    },
    {
     "name": "stdout",
     "output_type": "stream",
     "text": [
      "\n"
     ]
    },
    {
     "data": {
      "application/vnd.jupyter.widget-view+json": {
       "model_id": "eb660f5b803442ff826672123b11f9ac",
       "version_major": 2,
       "version_minor": 0
      },
      "text/plain": [
       "HBox(children=(IntProgress(value=0, description='70/100(t)', max=14, style=ProgressStyle(description_width='in…"
      ]
     },
     "metadata": {},
     "output_type": "display_data"
    },
    {
     "name": "stdout",
     "output_type": "stream",
     "text": [
      "\n"
     ]
    },
    {
     "data": {
      "application/vnd.jupyter.widget-view+json": {
       "model_id": "6dcff83f83674fd5bda238cefbdb8fb4",
       "version_major": 2,
       "version_minor": 0
      },
      "text/plain": [
       "HBox(children=(IntProgress(value=0, description='71/100(t)', max=14, style=ProgressStyle(description_width='in…"
      ]
     },
     "metadata": {},
     "output_type": "display_data"
    },
    {
     "name": "stdout",
     "output_type": "stream",
     "text": [
      "\n"
     ]
    },
    {
     "data": {
      "application/vnd.jupyter.widget-view+json": {
       "model_id": "33dda2e8aa50470b8472d2063645c309",
       "version_major": 2,
       "version_minor": 0
      },
      "text/plain": [
       "HBox(children=(IntProgress(value=0, description='72/100(t)', max=14, style=ProgressStyle(description_width='in…"
      ]
     },
     "metadata": {},
     "output_type": "display_data"
    },
    {
     "name": "stdout",
     "output_type": "stream",
     "text": [
      "\n"
     ]
    },
    {
     "data": {
      "application/vnd.jupyter.widget-view+json": {
       "model_id": "5ad117ea5bf64c53ab3d832e3808e4a5",
       "version_major": 2,
       "version_minor": 0
      },
      "text/plain": [
       "HBox(children=(IntProgress(value=0, description='73/100(t)', max=14, style=ProgressStyle(description_width='in…"
      ]
     },
     "metadata": {},
     "output_type": "display_data"
    },
    {
     "name": "stdout",
     "output_type": "stream",
     "text": [
      "\n"
     ]
    },
    {
     "data": {
      "application/vnd.jupyter.widget-view+json": {
       "model_id": "dd6000435f7a435e876bc8c0dbfe3f3e",
       "version_major": 2,
       "version_minor": 0
      },
      "text/plain": [
       "HBox(children=(IntProgress(value=0, description='74/100(t)', max=14, style=ProgressStyle(description_width='in…"
      ]
     },
     "metadata": {},
     "output_type": "display_data"
    },
    {
     "name": "stdout",
     "output_type": "stream",
     "text": [
      "\n"
     ]
    },
    {
     "data": {
      "application/vnd.jupyter.widget-view+json": {
       "model_id": "5d7ec0a8ba3046d090bcd2e778305528",
       "version_major": 2,
       "version_minor": 0
      },
      "text/plain": [
       "HBox(children=(IntProgress(value=0, description='75/100(t)', max=14, style=ProgressStyle(description_width='in…"
      ]
     },
     "metadata": {},
     "output_type": "display_data"
    },
    {
     "name": "stdout",
     "output_type": "stream",
     "text": [
      "\n"
     ]
    },
    {
     "data": {
      "application/vnd.jupyter.widget-view+json": {
       "model_id": "d001fca0de2d491b8de216a555c1cc24",
       "version_major": 2,
       "version_minor": 0
      },
      "text/plain": [
       "HBox(children=(IntProgress(value=0, description='76/100(t)', max=14, style=ProgressStyle(description_width='in…"
      ]
     },
     "metadata": {},
     "output_type": "display_data"
    },
    {
     "name": "stdout",
     "output_type": "stream",
     "text": [
      "\n"
     ]
    },
    {
     "data": {
      "application/vnd.jupyter.widget-view+json": {
       "model_id": "ca9435418d364e0b8fa855f3cef27673",
       "version_major": 2,
       "version_minor": 0
      },
      "text/plain": [
       "HBox(children=(IntProgress(value=0, description='77/100(t)', max=14, style=ProgressStyle(description_width='in…"
      ]
     },
     "metadata": {},
     "output_type": "display_data"
    },
    {
     "name": "stdout",
     "output_type": "stream",
     "text": [
      "\n"
     ]
    },
    {
     "data": {
      "application/vnd.jupyter.widget-view+json": {
       "model_id": "4e19bafb420047cfa8157f81630ec088",
       "version_major": 2,
       "version_minor": 0
      },
      "text/plain": [
       "HBox(children=(IntProgress(value=0, description='78/100(t)', max=14, style=ProgressStyle(description_width='in…"
      ]
     },
     "metadata": {},
     "output_type": "display_data"
    },
    {
     "name": "stdout",
     "output_type": "stream",
     "text": [
      "\n"
     ]
    },
    {
     "data": {
      "application/vnd.jupyter.widget-view+json": {
       "model_id": "4b99fb2b5ad64e31b5643a2fa02e2a53",
       "version_major": 2,
       "version_minor": 0
      },
      "text/plain": [
       "HBox(children=(IntProgress(value=0, description='79/100(t)', max=14, style=ProgressStyle(description_width='in…"
      ]
     },
     "metadata": {},
     "output_type": "display_data"
    },
    {
     "name": "stdout",
     "output_type": "stream",
     "text": [
      "\n"
     ]
    },
    {
     "data": {
      "application/vnd.jupyter.widget-view+json": {
       "model_id": "b65c1b82f62f4385bdd0784cf55ee3c2",
       "version_major": 2,
       "version_minor": 0
      },
      "text/plain": [
       "HBox(children=(IntProgress(value=0, description='80/100(t)', max=14, style=ProgressStyle(description_width='in…"
      ]
     },
     "metadata": {},
     "output_type": "display_data"
    },
    {
     "name": "stdout",
     "output_type": "stream",
     "text": [
      "\n"
     ]
    },
    {
     "data": {
      "application/vnd.jupyter.widget-view+json": {
       "model_id": "eccea22db84241349a4fe342f9fb73a6",
       "version_major": 2,
       "version_minor": 0
      },
      "text/plain": [
       "HBox(children=(IntProgress(value=0, description='81/100(t)', max=14, style=ProgressStyle(description_width='in…"
      ]
     },
     "metadata": {},
     "output_type": "display_data"
    },
    {
     "name": "stdout",
     "output_type": "stream",
     "text": [
      "\n"
     ]
    },
    {
     "data": {
      "application/vnd.jupyter.widget-view+json": {
       "model_id": "ea07103d5bb14c1c9211c56e9e1f454d",
       "version_major": 2,
       "version_minor": 0
      },
      "text/plain": [
       "HBox(children=(IntProgress(value=0, description='82/100(t)', max=14, style=ProgressStyle(description_width='in…"
      ]
     },
     "metadata": {},
     "output_type": "display_data"
    },
    {
     "name": "stdout",
     "output_type": "stream",
     "text": [
      "\n"
     ]
    },
    {
     "data": {
      "application/vnd.jupyter.widget-view+json": {
       "model_id": "89e81d00ad07498981f5a3ac64bd9473",
       "version_major": 2,
       "version_minor": 0
      },
      "text/plain": [
       "HBox(children=(IntProgress(value=0, description='83/100(t)', max=14, style=ProgressStyle(description_width='in…"
      ]
     },
     "metadata": {},
     "output_type": "display_data"
    },
    {
     "name": "stdout",
     "output_type": "stream",
     "text": [
      "\n"
     ]
    },
    {
     "data": {
      "application/vnd.jupyter.widget-view+json": {
       "model_id": "538038c0c90e447e882fa30eb294153d",
       "version_major": 2,
       "version_minor": 0
      },
      "text/plain": [
       "HBox(children=(IntProgress(value=0, description='84/100(t)', max=14, style=ProgressStyle(description_width='in…"
      ]
     },
     "metadata": {},
     "output_type": "display_data"
    },
    {
     "name": "stdout",
     "output_type": "stream",
     "text": [
      "\n"
     ]
    },
    {
     "data": {
      "application/vnd.jupyter.widget-view+json": {
       "model_id": "b070f272129e4f2d8b480ebcee0c07af",
       "version_major": 2,
       "version_minor": 0
      },
      "text/plain": [
       "HBox(children=(IntProgress(value=0, description='85/100(t)', max=14, style=ProgressStyle(description_width='in…"
      ]
     },
     "metadata": {},
     "output_type": "display_data"
    },
    {
     "name": "stdout",
     "output_type": "stream",
     "text": [
      "\n"
     ]
    },
    {
     "data": {
      "application/vnd.jupyter.widget-view+json": {
       "model_id": "01b87c1f76cf4bddb655a9a9f1efd552",
       "version_major": 2,
       "version_minor": 0
      },
      "text/plain": [
       "HBox(children=(IntProgress(value=0, description='86/100(t)', max=14, style=ProgressStyle(description_width='in…"
      ]
     },
     "metadata": {},
     "output_type": "display_data"
    },
    {
     "name": "stdout",
     "output_type": "stream",
     "text": [
      "\n"
     ]
    },
    {
     "data": {
      "application/vnd.jupyter.widget-view+json": {
       "model_id": "3ff3d4fa505b422db49899c1af86cb3c",
       "version_major": 2,
       "version_minor": 0
      },
      "text/plain": [
       "HBox(children=(IntProgress(value=0, description='87/100(t)', max=14, style=ProgressStyle(description_width='in…"
      ]
     },
     "metadata": {},
     "output_type": "display_data"
    },
    {
     "name": "stdout",
     "output_type": "stream",
     "text": [
      "\n"
     ]
    },
    {
     "data": {
      "application/vnd.jupyter.widget-view+json": {
       "model_id": "cd96a3337e6b4f73919b25bb10fc6574",
       "version_major": 2,
       "version_minor": 0
      },
      "text/plain": [
       "HBox(children=(IntProgress(value=0, description='88/100(t)', max=14, style=ProgressStyle(description_width='in…"
      ]
     },
     "metadata": {},
     "output_type": "display_data"
    },
    {
     "name": "stdout",
     "output_type": "stream",
     "text": [
      "\n"
     ]
    },
    {
     "data": {
      "application/vnd.jupyter.widget-view+json": {
       "model_id": "401a78a3cfca4b2884157b8f27cdead2",
       "version_major": 2,
       "version_minor": 0
      },
      "text/plain": [
       "HBox(children=(IntProgress(value=0, description='89/100(t)', max=14, style=ProgressStyle(description_width='in…"
      ]
     },
     "metadata": {},
     "output_type": "display_data"
    },
    {
     "name": "stdout",
     "output_type": "stream",
     "text": [
      "\n"
     ]
    },
    {
     "data": {
      "application/vnd.jupyter.widget-view+json": {
       "model_id": "b26bcd99b1bc4acfb839fb8def2a2470",
       "version_major": 2,
       "version_minor": 0
      },
      "text/plain": [
       "HBox(children=(IntProgress(value=0, description='90/100(t)', max=14, style=ProgressStyle(description_width='in…"
      ]
     },
     "metadata": {},
     "output_type": "display_data"
    },
    {
     "name": "stdout",
     "output_type": "stream",
     "text": [
      "\n"
     ]
    },
    {
     "data": {
      "application/vnd.jupyter.widget-view+json": {
       "model_id": "ca3b740b79e545da87b51584b20be0f8",
       "version_major": 2,
       "version_minor": 0
      },
      "text/plain": [
       "HBox(children=(IntProgress(value=0, description='91/100(t)', max=14, style=ProgressStyle(description_width='in…"
      ]
     },
     "metadata": {},
     "output_type": "display_data"
    },
    {
     "name": "stdout",
     "output_type": "stream",
     "text": [
      "\n"
     ]
    },
    {
     "data": {
      "application/vnd.jupyter.widget-view+json": {
       "model_id": "45c1ceb348bd4302a52b8a497afadbf4",
       "version_major": 2,
       "version_minor": 0
      },
      "text/plain": [
       "HBox(children=(IntProgress(value=0, description='92/100(t)', max=14, style=ProgressStyle(description_width='in…"
      ]
     },
     "metadata": {},
     "output_type": "display_data"
    },
    {
     "name": "stdout",
     "output_type": "stream",
     "text": [
      "\n"
     ]
    },
    {
     "data": {
      "application/vnd.jupyter.widget-view+json": {
       "model_id": "bd540f914fc9410a85d848530f7732e8",
       "version_major": 2,
       "version_minor": 0
      },
      "text/plain": [
       "HBox(children=(IntProgress(value=0, description='93/100(t)', max=14, style=ProgressStyle(description_width='in…"
      ]
     },
     "metadata": {},
     "output_type": "display_data"
    },
    {
     "name": "stdout",
     "output_type": "stream",
     "text": [
      "\n"
     ]
    },
    {
     "data": {
      "application/vnd.jupyter.widget-view+json": {
       "model_id": "c50f7ccc5b794e93a2266879ab84cfe1",
       "version_major": 2,
       "version_minor": 0
      },
      "text/plain": [
       "HBox(children=(IntProgress(value=0, description='94/100(t)', max=14, style=ProgressStyle(description_width='in…"
      ]
     },
     "metadata": {},
     "output_type": "display_data"
    },
    {
     "name": "stdout",
     "output_type": "stream",
     "text": [
      "\n"
     ]
    },
    {
     "data": {
      "application/vnd.jupyter.widget-view+json": {
       "model_id": "432f13b21440402294abd9e8127bc450",
       "version_major": 2,
       "version_minor": 0
      },
      "text/plain": [
       "HBox(children=(IntProgress(value=0, description='95/100(t)', max=14, style=ProgressStyle(description_width='in…"
      ]
     },
     "metadata": {},
     "output_type": "display_data"
    },
    {
     "name": "stdout",
     "output_type": "stream",
     "text": [
      "\n"
     ]
    },
    {
     "data": {
      "application/vnd.jupyter.widget-view+json": {
       "model_id": "3315d0eade1b4271b4f1c27144a25dfa",
       "version_major": 2,
       "version_minor": 0
      },
      "text/plain": [
       "HBox(children=(IntProgress(value=0, description='96/100(t)', max=14, style=ProgressStyle(description_width='in…"
      ]
     },
     "metadata": {},
     "output_type": "display_data"
    },
    {
     "name": "stdout",
     "output_type": "stream",
     "text": [
      "\n"
     ]
    },
    {
     "data": {
      "application/vnd.jupyter.widget-view+json": {
       "model_id": "87e765d6c66040f7a502e70d015b3489",
       "version_major": 2,
       "version_minor": 0
      },
      "text/plain": [
       "HBox(children=(IntProgress(value=0, description='97/100(t)', max=14, style=ProgressStyle(description_width='in…"
      ]
     },
     "metadata": {},
     "output_type": "display_data"
    },
    {
     "name": "stdout",
     "output_type": "stream",
     "text": [
      "\n"
     ]
    },
    {
     "data": {
      "application/vnd.jupyter.widget-view+json": {
       "model_id": "ae0325c45f07466f84798169270152d5",
       "version_major": 2,
       "version_minor": 0
      },
      "text/plain": [
       "HBox(children=(IntProgress(value=0, description='98/100(t)', max=14, style=ProgressStyle(description_width='in…"
      ]
     },
     "metadata": {},
     "output_type": "display_data"
    },
    {
     "name": "stdout",
     "output_type": "stream",
     "text": [
      "\n"
     ]
    },
    {
     "data": {
      "application/vnd.jupyter.widget-view+json": {
       "model_id": "df5775f3099f4dfa98ce2c07b2600012",
       "version_major": 2,
       "version_minor": 0
      },
      "text/plain": [
       "HBox(children=(IntProgress(value=0, description='99/100(t)', max=14, style=ProgressStyle(description_width='in…"
      ]
     },
     "metadata": {},
     "output_type": "display_data"
    },
    {
     "name": "stdout",
     "output_type": "stream",
     "text": [
      "\n"
     ]
    },
    {
     "data": {
      "text/plain": [
       "[{'train_steps': 14, 'validation_steps': None},\n",
       " {'train_steps': 14, 'validation_steps': None},\n",
       " {'train_steps': 14, 'validation_steps': None},\n",
       " {'train_steps': 14, 'validation_steps': None},\n",
       " {'train_steps': 14, 'validation_steps': None},\n",
       " {'train_steps': 14, 'validation_steps': None},\n",
       " {'train_steps': 14, 'validation_steps': None},\n",
       " {'train_steps': 14, 'validation_steps': None},\n",
       " {'train_steps': 14, 'validation_steps': None},\n",
       " {'train_steps': 14, 'validation_steps': None},\n",
       " {'train_steps': 14, 'validation_steps': None},\n",
       " {'train_steps': 14, 'validation_steps': None},\n",
       " {'train_steps': 14, 'validation_steps': None},\n",
       " {'train_steps': 14, 'validation_steps': None},\n",
       " {'train_steps': 14, 'validation_steps': None},\n",
       " {'train_steps': 14, 'validation_steps': None},\n",
       " {'train_steps': 14, 'validation_steps': None},\n",
       " {'train_steps': 14, 'validation_steps': None},\n",
       " {'train_steps': 14, 'validation_steps': None},\n",
       " {'train_steps': 14, 'validation_steps': None},\n",
       " {'train_steps': 14, 'validation_steps': None},\n",
       " {'train_steps': 14, 'validation_steps': None},\n",
       " {'train_steps': 14, 'validation_steps': None},\n",
       " {'train_steps': 14, 'validation_steps': None},\n",
       " {'train_steps': 14, 'validation_steps': None},\n",
       " {'train_steps': 14, 'validation_steps': None},\n",
       " {'train_steps': 14, 'validation_steps': None},\n",
       " {'train_steps': 14, 'validation_steps': None},\n",
       " {'train_steps': 14, 'validation_steps': None},\n",
       " {'train_steps': 14, 'validation_steps': None},\n",
       " {'train_steps': 14, 'validation_steps': None},\n",
       " {'train_steps': 14, 'validation_steps': None},\n",
       " {'train_steps': 14, 'validation_steps': None},\n",
       " {'train_steps': 14, 'validation_steps': None},\n",
       " {'train_steps': 14, 'validation_steps': None},\n",
       " {'train_steps': 14, 'validation_steps': None},\n",
       " {'train_steps': 14, 'validation_steps': None},\n",
       " {'train_steps': 14, 'validation_steps': None},\n",
       " {'train_steps': 14, 'validation_steps': None},\n",
       " {'train_steps': 14, 'validation_steps': None},\n",
       " {'train_steps': 14, 'validation_steps': None},\n",
       " {'train_steps': 14, 'validation_steps': None},\n",
       " {'train_steps': 14, 'validation_steps': None},\n",
       " {'train_steps': 14, 'validation_steps': None},\n",
       " {'train_steps': 14, 'validation_steps': None},\n",
       " {'train_steps': 14, 'validation_steps': None},\n",
       " {'train_steps': 14, 'validation_steps': None},\n",
       " {'train_steps': 14, 'validation_steps': None},\n",
       " {'train_steps': 14, 'validation_steps': None},\n",
       " {'train_steps': 14, 'validation_steps': None},\n",
       " {'train_steps': 14, 'validation_steps': None},\n",
       " {'train_steps': 14, 'validation_steps': None},\n",
       " {'train_steps': 14, 'validation_steps': None},\n",
       " {'train_steps': 14, 'validation_steps': None},\n",
       " {'train_steps': 14, 'validation_steps': None},\n",
       " {'train_steps': 14, 'validation_steps': None},\n",
       " {'train_steps': 14, 'validation_steps': None},\n",
       " {'train_steps': 14, 'validation_steps': None},\n",
       " {'train_steps': 14, 'validation_steps': None},\n",
       " {'train_steps': 14, 'validation_steps': None},\n",
       " {'train_steps': 14, 'validation_steps': None},\n",
       " {'train_steps': 14, 'validation_steps': None},\n",
       " {'train_steps': 14, 'validation_steps': None},\n",
       " {'train_steps': 14, 'validation_steps': None},\n",
       " {'train_steps': 14, 'validation_steps': None},\n",
       " {'train_steps': 14, 'validation_steps': None},\n",
       " {'train_steps': 14, 'validation_steps': None},\n",
       " {'train_steps': 14, 'validation_steps': None},\n",
       " {'train_steps': 14, 'validation_steps': None},\n",
       " {'train_steps': 14, 'validation_steps': None},\n",
       " {'train_steps': 14, 'validation_steps': None},\n",
       " {'train_steps': 14, 'validation_steps': None},\n",
       " {'train_steps': 14, 'validation_steps': None},\n",
       " {'train_steps': 14, 'validation_steps': None},\n",
       " {'train_steps': 14, 'validation_steps': None},\n",
       " {'train_steps': 14, 'validation_steps': None},\n",
       " {'train_steps': 14, 'validation_steps': None},\n",
       " {'train_steps': 14, 'validation_steps': None},\n",
       " {'train_steps': 14, 'validation_steps': None},\n",
       " {'train_steps': 14, 'validation_steps': None},\n",
       " {'train_steps': 14, 'validation_steps': None},\n",
       " {'train_steps': 14, 'validation_steps': None},\n",
       " {'train_steps': 14, 'validation_steps': None},\n",
       " {'train_steps': 14, 'validation_steps': None},\n",
       " {'train_steps': 14, 'validation_steps': None},\n",
       " {'train_steps': 14, 'validation_steps': None},\n",
       " {'train_steps': 14, 'validation_steps': None},\n",
       " {'train_steps': 14, 'validation_steps': None},\n",
       " {'train_steps': 14, 'validation_steps': None},\n",
       " {'train_steps': 14, 'validation_steps': None},\n",
       " {'train_steps': 14, 'validation_steps': None},\n",
       " {'train_steps': 14, 'validation_steps': None},\n",
       " {'train_steps': 14, 'validation_steps': None},\n",
       " {'train_steps': 14, 'validation_steps': None},\n",
       " {'train_steps': 14, 'validation_steps': None},\n",
       " {'train_steps': 14, 'validation_steps': None},\n",
       " {'train_steps': 14, 'validation_steps': None},\n",
       " {'train_steps': 14, 'validation_steps': None},\n",
       " {'train_steps': 14, 'validation_steps': None},\n",
       " {'train_steps': 14, 'validation_steps': None}]"
      ]
     },
     "execution_count": 341,
     "metadata": {},
     "output_type": "execute_result"
    }
   ],
   "source": [
    "# model.fit(X_train, y_train, batch_size=256, nb_epoch=50,  verbose=2)\n",
    "\n",
    "# pytorch method for training\n",
    "print(device)\n",
    "trial = Trial(model, optimiser, loss_function).to(device)\n",
    "trial.with_generators(trainloader)\n",
    "trial.run(epochs=100)\n",
    "# results = trial.evaluate(data_key=torchbearer.TEST_DATA)\n",
    "# print(results)"
   ]
  },
  {
   "cell_type": "code",
   "execution_count": 342,
   "metadata": {
    "scrolled": true
   },
   "outputs": [
    {
     "name": "stdout",
     "output_type": "stream",
     "text": [
      "torch.Size([1, 1, 100, 4]) torch.Size([1, 1])\n"
     ]
    }
   ],
   "source": [
    "#import gradient generator\n",
    "\n",
    "from vanillabackprop import VanillaBackprop\n",
    "\n",
    "\n",
    "image = trainData[0].view(-1,1,100,4).float().to(device)\n",
    "target = testData[0].view(-1,1).float().to(device)\n",
    "\n",
    "print(image.shape, target.shape)\n",
    "# Vanilla backprop\n",
    "VBP = VanillaBackprop(model,target)\n",
    "# Generate gradients\n",
    "vanilla_grads = VBP.generate_gradients(image)\n"
   ]
  },
  {
   "cell_type": "code",
   "execution_count": 343,
   "metadata": {},
   "outputs": [
    {
     "data": {
      "text/plain": [
       "array([[[0.02567175, 0.02559053, 0.02548115, 0.02556361],\n",
       "        [0.02556641, 0.02526289, 0.02455931, 0.02467626],\n",
       "        [0.02467597, 0.02457997, 0.02434553, 0.02460326],\n",
       "        [0.02460432, 0.02456725, 0.02432096, 0.02462664],\n",
       "        [0.02460789, 0.02454216, 0.02427494, 0.02454396],\n",
       "        [0.02454053, 0.02451858, 0.02413378, 0.02444785],\n",
       "        [0.02443534, 0.02408546, 0.02366921, 0.02401004],\n",
       "        [0.0240223 , 0.02400777, 0.02336833, 0.02378332],\n",
       "        [0.02379263, 0.02383282, 0.02363226, 0.02400868],\n",
       "        [0.02400091, 0.02401217, 0.02398941, 0.02447199],\n",
       "        [0.02447786, 0.02446952, 0.02439871, 0.02467196],\n",
       "        [0.02468958, 0.0246607 , 0.02460302, 0.02485644],\n",
       "        [0.02484965, 0.02457715, 0.02467814, 0.0247913 ],\n",
       "        [0.02479357, 0.02435629, 0.02410456, 0.02417986],\n",
       "        [0.02419598, 0.02381414, 0.02361085, 0.02366421]]], dtype=float32)"
      ]
     },
     "execution_count": 343,
     "metadata": {},
     "output_type": "execute_result"
    }
   ],
   "source": [
    "vanilla_grads"
>>>>>>> edafa0f35beaec0d7c7567d6246a9c7807478200
   ]
  },
  {
   "cell_type": "code",
<<<<<<< HEAD
   "execution_count": null,
   "metadata": {},
   "outputs": [],
   "source": []
=======
   "execution_count": 344,
   "metadata": {},
   "outputs": [
    {
     "data": {
      "text/plain": [
       "(1, 15, 4)"
      ]
     },
     "execution_count": 344,
     "metadata": {},
     "output_type": "execute_result"
    }
   ],
   "source": [
    "vanilla_grads.shape"
   ]
  },
  {
   "cell_type": "code",
   "execution_count": 345,
   "metadata": {},
   "outputs": [
    {
     "data": {
      "text/plain": [
       "(501, 15, 4)"
      ]
     },
     "execution_count": 345,
     "metadata": {},
     "output_type": "execute_result"
    }
   ],
   "source": [
    "vanilla_grads_ = np.empty([1,15,4])\n",
    "for i in range(1500,2000):\n",
    "    image = trainData[i].view(-1,1,100,4).float().to(device)\n",
    "    target = testData[i].view(-1,1).float().to(device)\n",
    "    \n",
    "    VBP = VanillaBackprop(model,target)\n",
    "    temp = VBP.generate_gradients(image)\n",
    "    vanilla_grads_ = np.concatenate((vanilla_grads_,temp),axis = 0)\n",
    "    \n",
    "vanilla_grads_.shape"
   ]
  },
  {
   "cell_type": "code",
   "execution_count": 346,
   "metadata": {},
   "outputs": [
    {
     "data": {
      "text/plain": [
       "(500, 15, 4)"
      ]
     },
     "execution_count": 346,
     "metadata": {},
     "output_type": "execute_result"
    }
   ],
   "source": [
    "# 500 days data from training set\n",
    "vanilla_grads = np.delete(vanilla_grads_,0, axis = 0)\n",
    "vanilla_grads.shape"
   ]
  },
  {
   "cell_type": "code",
   "execution_count": 347,
   "metadata": {},
   "outputs": [
    {
     "data": {
      "text/plain": [
       "(500, 60)"
      ]
     },
     "execution_count": 347,
     "metadata": {},
     "output_type": "execute_result"
    }
   ],
   "source": [
    "# flatten out the tensor\n",
    "flatten_grad = vanilla_grads.reshape((500,60))\n",
    "flatten_grad.shape"
   ]
  },
  {
   "cell_type": "code",
   "execution_count": 348,
   "metadata": {},
   "outputs": [],
   "source": [
    "# and convert to gray scale image \n",
    "from misc_functions import get_example_params, convert_to_grayscale, save_gradient_images\n",
    "import matplotlib.pyplot as plt\n",
    "from PIL import Image\n",
    "\n",
    "a = convert_to_grayscale(vanilla_grads)\n",
    "a\n",
    "# plt.imshow(a, cmap=plt.get_cmap('gray'))\n",
    "save_gradient_images(a,'stock_gradient')"
   ]
  },
  {
   "cell_type": "code",
   "execution_count": 360,
   "metadata": {},
   "outputs": [
    {
     "data": {
      "text/plain": [
       "[<matplotlib.lines.Line2D at 0x276e6b887f0>]"
      ]
     },
     "execution_count": 360,
     "metadata": {},
     "output_type": "execute_result"
    },
    {
     "data": {
      "image/png": "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\n",
      "text/plain": [
       "<Figure size 432x288 with 1 Axes>"
      ]
     },
     "metadata": {
      "needs_background": "light"
     },
     "output_type": "display_data"
    }
   ],
   "source": [
    "plt.plot(testData[1500:2000].numpy())"
   ]
  },
  {
   "cell_type": "code",
   "execution_count": 349,
   "metadata": {},
   "outputs": [],
   "source": [
    "# score= model.evaluate(X_test, y_test, batch_size=256)\n",
    "# a = testData[0].view(-1,1,100,4).float().to(device)\n",
    "# print(trainData[0].shape,testData[0].shape)"
   ]
  },
  {
   "cell_type": "code",
   "execution_count": 350,
   "metadata": {},
   "outputs": [
    {
     "data": {
      "text/plain": [
       "torch.Size([757, 1, 100, 4])"
      ]
     },
     "execution_count": 350,
     "metadata": {},
     "output_type": "execute_result"
    }
   ],
   "source": [
    "# print (score)\n",
    "validateData.float().shape"
   ]
  },
  {
   "cell_type": "code",
   "execution_count": 351,
   "metadata": {},
   "outputs": [],
   "source": [
    "# validateData.float()[0].view(1,1,100,4).shape"
   ]
  },
  {
   "cell_type": "code",
   "execution_count": 352,
   "metadata": {},
   "outputs": [
    {
     "data": {
      "text/plain": [
       "torch.Size([757, 1])"
      ]
     },
     "execution_count": 352,
     "metadata": {},
     "output_type": "execute_result"
    }
   ],
   "source": [
    "y_pred= model(validateData.float().to(device))\n",
    "y_pred.shape"
   ]
  },
  {
   "cell_type": "code",
   "execution_count": 353,
   "metadata": {},
   "outputs": [
    {
     "data": {
      "image/png": "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\n",
      "text/plain": [
       "<Figure size 432x288 with 1 Axes>"
      ]
     },
     "metadata": {
      "needs_background": "light"
     },
     "output_type": "display_data"
    }
   ],
   "source": [
    "plt.plot(y_pred.cpu().detach().numpy(), 'r-')\n",
    "plt.plot(y_test, 'b-')\n",
    "plt.show()"
   ]
  },
  {
   "cell_type": "code",
   "execution_count": 354,
   "metadata": {},
   "outputs": [
    {
     "data": {
      "image/png": "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\n",
      "text/plain": [
       "<Figure size 432x288 with 1 Axes>"
      ]
     },
     "metadata": {
      "needs_background": "light"
     },
     "output_type": "display_data"
    }
   ],
   "source": [
    "plt.plot(y_pred.cpu().detach().numpy()[400:600], 'r-')\n",
    "plt.plot(y_test[400:600], 'b-')\n",
    "plt.show()"
   ]
  },
  {
   "cell_type": "code",
   "execution_count": 355,
   "metadata": {},
   "outputs": [
    {
     "data": {
      "image/png": "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\n",
      "text/plain": [
       "<Figure size 432x288 with 1 Axes>"
      ]
     },
     "metadata": {
      "needs_background": "light"
     },
     "output_type": "display_data"
    }
   ],
   "source": [
    "plt.plot(y_pred.cpu().detach().numpy()[400:450], 'r-')\n",
    "plt.plot(y_test[400:450], 'b-')\n",
    "plt.show()"
   ]
  },
  {
   "cell_type": "code",
   "execution_count": 356,
   "metadata": {},
   "outputs": [
    {
     "data": {
      "image/png": "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\n",
      "text/plain": [
       "<Figure size 432x288 with 1 Axes>"
      ]
     },
     "metadata": {
      "needs_background": "light"
     },
     "output_type": "display_data"
    }
   ],
   "source": [
    "plt.plot (y_pred.cpu().detach().numpy(), y_test, 'bo')\n",
    "plt.xlabel('y_pred')\n",
    "plt.ylabel('y_test')\n",
    "plt.show()"
   ]
>>>>>>> edafa0f35beaec0d7c7567d6246a9c7807478200
  }
 ],
 "metadata": {
  "kernelspec": {
   "display_name": "Python 3",
   "language": "python",
   "name": "python3"
  },
  "language_info": {
   "codemirror_mode": {
    "name": "ipython",
    "version": 3
   },
   "file_extension": ".py",
   "mimetype": "text/x-python",
   "name": "python",
   "nbconvert_exporter": "python",
   "pygments_lexer": "ipython3",
   "version": "3.7.3"
  }
 },
 "nbformat": 4,
 "nbformat_minor": 2
}
