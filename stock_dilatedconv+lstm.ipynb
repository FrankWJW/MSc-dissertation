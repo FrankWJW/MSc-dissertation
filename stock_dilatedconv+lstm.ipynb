{
 "cells": [
  {
   "cell_type": "code",
   "execution_count": 1,
   "metadata": {},
   "outputs": [
    {
     "name": "stderr",
     "output_type": "stream",
     "text": [
      "Using TensorFlow backend.\n"
     ]
    }
   ],
   "source": [
    "import numpy as np\n",
    "import pandas as pd\n",
    "from keras.layers import merge, add\n",
    "from keras.layers import Dense, Dropout, Activation, LSTM, Conv1D, MaxPooling1D, Flatten, AtrousConvolution1D, Input\n",
    "from keras.models import Sequential, Model\n",
    "import matplotlib.pyplot as plt\n",
    "%matplotlib inline"
   ]
  },
  {
   "cell_type": "code",
   "execution_count": 2,
   "metadata": {},
   "outputs": [],
   "source": [
    "## Data preparation"
   ]
  },
  {
   "cell_type": "code",
   "execution_count": 3,
   "metadata": {},
   "outputs": [
    {
     "data": {
      "text/html": [
       "<div>\n",
       "<style scoped>\n",
       "    .dataframe tbody tr th:only-of-type {\n",
       "        vertical-align: middle;\n",
       "    }\n",
       "\n",
       "    .dataframe tbody tr th {\n",
       "        vertical-align: top;\n",
       "    }\n",
       "\n",
       "    .dataframe thead th {\n",
       "        text-align: right;\n",
       "    }\n",
       "</style>\n",
       "<table border=\"1\" class=\"dataframe\">\n",
       "  <thead>\n",
       "    <tr style=\"text-align: right;\">\n",
       "      <th></th>\n",
       "      <th>Date</th>\n",
       "      <th>Open</th>\n",
       "      <th>High</th>\n",
       "      <th>Low</th>\n",
       "      <th>Close</th>\n",
       "      <th>Adj Close</th>\n",
       "      <th>Volume</th>\n",
       "    </tr>\n",
       "  </thead>\n",
       "  <tbody>\n",
       "    <tr>\n",
       "      <th>4279</th>\n",
       "      <td>2017-01-05</td>\n",
       "      <td>19924.560547</td>\n",
       "      <td>19948.599609</td>\n",
       "      <td>19811.119141</td>\n",
       "      <td>19899.289063</td>\n",
       "      <td>19899.289063</td>\n",
       "      <td>269920000</td>\n",
       "    </tr>\n",
       "    <tr>\n",
       "      <th>4280</th>\n",
       "      <td>2017-01-06</td>\n",
       "      <td>19906.960938</td>\n",
       "      <td>19999.630859</td>\n",
       "      <td>19834.080078</td>\n",
       "      <td>19963.800781</td>\n",
       "      <td>19963.800781</td>\n",
       "      <td>277700000</td>\n",
       "    </tr>\n",
       "    <tr>\n",
       "      <th>4281</th>\n",
       "      <td>2017-01-09</td>\n",
       "      <td>19931.410156</td>\n",
       "      <td>19943.779297</td>\n",
       "      <td>19887.380859</td>\n",
       "      <td>19887.380859</td>\n",
       "      <td>19887.380859</td>\n",
       "      <td>287060000</td>\n",
       "    </tr>\n",
       "    <tr>\n",
       "      <th>4282</th>\n",
       "      <td>2017-01-10</td>\n",
       "      <td>19876.349609</td>\n",
       "      <td>19957.119141</td>\n",
       "      <td>19836.029297</td>\n",
       "      <td>19855.529297</td>\n",
       "      <td>19855.529297</td>\n",
       "      <td>299410000</td>\n",
       "    </tr>\n",
       "    <tr>\n",
       "      <th>4283</th>\n",
       "      <td>2017-01-11</td>\n",
       "      <td>19887.380859</td>\n",
       "      <td>19973.419922</td>\n",
       "      <td>19833.160156</td>\n",
       "      <td>19954.279297</td>\n",
       "      <td>19954.279297</td>\n",
       "      <td>336150000</td>\n",
       "    </tr>\n",
       "  </tbody>\n",
       "</table>\n",
       "</div>"
      ],
      "text/plain": [
       "            Date          Open          High           Low         Close  \\\n",
       "4279  2017-01-05  19924.560547  19948.599609  19811.119141  19899.289063   \n",
       "4280  2017-01-06  19906.960938  19999.630859  19834.080078  19963.800781   \n",
       "4281  2017-01-09  19931.410156  19943.779297  19887.380859  19887.380859   \n",
       "4282  2017-01-10  19876.349609  19957.119141  19836.029297  19855.529297   \n",
       "4283  2017-01-11  19887.380859  19973.419922  19833.160156  19954.279297   \n",
       "\n",
       "         Adj Close     Volume  \n",
       "4279  19899.289063  269920000  \n",
       "4280  19963.800781  277700000  \n",
       "4281  19887.380859  287060000  \n",
       "4282  19855.529297  299410000  \n",
       "4283  19954.279297  336150000  "
      ]
     },
     "execution_count": 3,
     "metadata": {},
     "output_type": "execute_result"
    }
   ],
   "source": [
    "data= pd.read_csv('^DJI.csv')\n",
    "data.tail()"
   ]
  },
  {
   "cell_type": "code",
   "execution_count": 4,
   "metadata": {},
   "outputs": [
    {
     "data": {
      "text/html": [
       "<div>\n",
       "<style scoped>\n",
       "    .dataframe tbody tr th:only-of-type {\n",
       "        vertical-align: middle;\n",
       "    }\n",
       "\n",
       "    .dataframe tbody tr th {\n",
       "        vertical-align: top;\n",
       "    }\n",
       "\n",
       "    .dataframe thead th {\n",
       "        text-align: right;\n",
       "    }\n",
       "</style>\n",
       "<table border=\"1\" class=\"dataframe\">\n",
       "  <thead>\n",
       "    <tr style=\"text-align: right;\">\n",
       "      <th></th>\n",
       "      <th>Date</th>\n",
       "      <th>Open</th>\n",
       "      <th>High</th>\n",
       "      <th>Low</th>\n",
       "      <th>Close</th>\n",
       "      <th>Adj Close</th>\n",
       "      <th>Volume</th>\n",
       "    </tr>\n",
       "  </thead>\n",
       "  <tbody>\n",
       "    <tr>\n",
       "      <th>4279</th>\n",
       "      <td>2017-01-05</td>\n",
       "      <td>19924.560547</td>\n",
       "      <td>19948.599609</td>\n",
       "      <td>19811.119141</td>\n",
       "      <td>19899.289063</td>\n",
       "      <td>19899.289063</td>\n",
       "      <td>269920000</td>\n",
       "    </tr>\n",
       "    <tr>\n",
       "      <th>4280</th>\n",
       "      <td>2017-01-06</td>\n",
       "      <td>19906.960938</td>\n",
       "      <td>19999.630859</td>\n",
       "      <td>19834.080078</td>\n",
       "      <td>19963.800781</td>\n",
       "      <td>19963.800781</td>\n",
       "      <td>277700000</td>\n",
       "    </tr>\n",
       "    <tr>\n",
       "      <th>4281</th>\n",
       "      <td>2017-01-09</td>\n",
       "      <td>19931.410156</td>\n",
       "      <td>19943.779297</td>\n",
       "      <td>19887.380859</td>\n",
       "      <td>19887.380859</td>\n",
       "      <td>19887.380859</td>\n",
       "      <td>287060000</td>\n",
       "    </tr>\n",
       "    <tr>\n",
       "      <th>4282</th>\n",
       "      <td>2017-01-10</td>\n",
       "      <td>19876.349609</td>\n",
       "      <td>19957.119141</td>\n",
       "      <td>19836.029297</td>\n",
       "      <td>19855.529297</td>\n",
       "      <td>19855.529297</td>\n",
       "      <td>299410000</td>\n",
       "    </tr>\n",
       "    <tr>\n",
       "      <th>4283</th>\n",
       "      <td>2017-01-11</td>\n",
       "      <td>19887.380859</td>\n",
       "      <td>19973.419922</td>\n",
       "      <td>19833.160156</td>\n",
       "      <td>19954.279297</td>\n",
       "      <td>19954.279297</td>\n",
       "      <td>336150000</td>\n",
       "    </tr>\n",
       "  </tbody>\n",
       "</table>\n",
       "</div>"
      ],
      "text/plain": [
       "            Date          Open          High           Low         Close  \\\n",
       "4279  2017-01-05  19924.560547  19948.599609  19811.119141  19899.289063   \n",
       "4280  2017-01-06  19906.960938  19999.630859  19834.080078  19963.800781   \n",
       "4281  2017-01-09  19931.410156  19943.779297  19887.380859  19887.380859   \n",
       "4282  2017-01-10  19876.349609  19957.119141  19836.029297  19855.529297   \n",
       "4283  2017-01-11  19887.380859  19973.419922  19833.160156  19954.279297   \n",
       "\n",
       "         Adj Close     Volume  \n",
       "4279  19899.289063  269920000  \n",
       "4280  19963.800781  277700000  \n",
       "4281  19887.380859  287060000  \n",
       "4282  19855.529297  299410000  \n",
       "4283  19954.279297  336150000  "
      ]
     },
     "execution_count": 4,
     "metadata": {},
     "output_type": "execute_result"
    }
   ],
   "source": [
    "data= data.dropna(axis=0)\n",
    "data.tail()"
   ]
  },
  {
   "cell_type": "code",
   "execution_count": 5,
   "metadata": {},
   "outputs": [
    {
     "name": "stdout",
     "output_type": "stream",
     "text": [
      "(4284, 4)\n"
     ]
    }
   ],
   "source": [
    "data= data.values[:, 1:5]\n",
    "print (data.shape)"
   ]
  },
  {
   "cell_type": "code",
   "execution_count": 6,
   "metadata": {},
   "outputs": [
    {
     "name": "stdout",
     "output_type": "stream",
     "text": [
      "[[11501.849609 11522.009766 11305.69043 11357.509766]\n",
      " [11349.75 11350.05957 10986.450195 10997.929688]\n",
      " [10989.370117 11215.099609 10938.669922 11122.650391]\n",
      " [11113.370117 11313.450195 11098.450195 11253.259766]\n",
      " [11247.05957 11528.139648 11239.919922 11522.55957]\n",
      " [11532.480469 11638.280273 11532.480469 11572.200195]]\n"
     ]
    }
   ],
   "source": [
    "print (data[:6, :])"
   ]
  },
  {
   "cell_type": "code",
   "execution_count": 7,
   "metadata": {},
   "outputs": [
    {
     "name": "stdout",
     "output_type": "stream",
     "text": [
      "(4283,)\n",
      "(4283, 4)\n"
     ]
    }
   ],
   "source": [
    "y= data[1:, 3]\n",
    "print (y.shape)\n",
    "X= data[:4283,:]\n",
    "print (X.shape)"
   ]
  },
  {
   "cell_type": "code",
   "execution_count": 8,
   "metadata": {},
   "outputs": [
    {
     "name": "stdout",
     "output_type": "stream",
     "text": [
      "[19918.880859 19933.810547 19945.039063 19833.679688 19819.779297\n",
      " 19762.599609 19881.759766 19942.160156 19899.289063 19963.800781\n",
      " 19887.380859 19855.529297 19954.279297]\n",
      "[10997.929688 11122.650391 11253.259766 11522.55957 11572.200195\n",
      " 11511.080078 11551.099609]\n"
     ]
    }
   ],
   "source": [
    "# y= (y- min(y))/(max(y)- min(y))\n",
    "print (y[4270:])\n",
    "print (y[:7])"
   ]
  },
  {
   "cell_type": "code",
   "execution_count": 9,
   "metadata": {},
   "outputs": [
    {
     "name": "stdout",
     "output_type": "stream",
     "text": [
      "(4283, 4)\n",
      "[[11501.849609 11522.009766 11305.69043 11357.509766]\n",
      " [11349.75 11350.05957 10986.450195 10997.929688]\n",
      " [10989.370117 11215.099609 10938.669922 11122.650391]]\n"
     ]
    }
   ],
   "source": [
    "# X= (X- np.min(X,axis=0))/(np.max(X, axis=0)-np.min(X,axis=0))\n",
    "print (X.shape)\n",
    "print (X[:3, :])"
   ]
  },
  {
   "cell_type": "code",
   "execution_count": 10,
   "metadata": {},
   "outputs": [],
   "source": [
    "## Input layer preparation"
   ]
  },
  {
   "cell_type": "code",
   "execution_count": 11,
   "metadata": {},
   "outputs": [
    {
     "name": "stdout",
     "output_type": "stream",
     "text": [
      "(4184, 100, 4) (4184,)\n"
     ]
    }
   ],
   "source": [
    "time_steps= 100\n",
    "X_new= np.zeros((X.shape[0] - time_steps +1, 100, X.shape[1]))\n",
    "y_new= np.zeros((y.shape[0] -time_steps +1,))\n",
    "for ix in range(X_new.shape[0]):\n",
    "    for jx in range(time_steps):\n",
    "        X_new[ix, jx, :]= X[ix +jx, :]\n",
    "    y_new[ix]= y[ix + time_steps -1]\n",
    "print (X_new.shape, y_new.shape)"
   ]
  },
  {
   "cell_type": "code",
   "execution_count": 12,
   "metadata": {},
   "outputs": [],
   "source": [
    "## split into train and test sets"
   ]
  },
  {
   "cell_type": "code",
   "execution_count": 13,
   "metadata": {},
   "outputs": [
    {
     "name": "stdout",
     "output_type": "stream",
     "text": [
      "(3427, 100, 4) (3427,)\n",
      "(757, 100, 4) (757,)\n"
     ]
    }
   ],
   "source": [
    "split = int(0.8*data.shape[0])\n",
    "X_train = X_new[:split]\n",
    "X_test = X_new[split:]\n",
    "\n",
    "y_train = y_new[:split]\n",
    "y_test = y_new[split:]\n",
    "\n",
    "print (X_train.shape, y_train.shape)\n",
    "print (X_test.shape, y_test.shape)"
   ]
  },
  {
   "cell_type": "code",
   "execution_count": 14,
   "metadata": {},
   "outputs": [],
   "source": [
    "# data normalisation after split the train/test"
   ]
  },
  {
   "cell_type": "code",
   "execution_count": 15,
   "metadata": {},
   "outputs": [],
   "source": [
    "y_train= (y_train- min(y_train))/(max(y_train)- min(y_train))\n",
    "X_train= (X_train- np.min(X_train,axis=0))/(np.max(X_train, axis=0)-np.min(X_train,axis=0))"
   ]
  },
  {
   "cell_type": "code",
   "execution_count": 16,
   "metadata": {},
   "outputs": [],
   "source": [
    "y_test= (y_test- min(y_test))/(max(y_test)- min(y_test))\n",
    "X_test= (X_test- np.min(X_test,axis=0))/(np.max(X_test, axis=0)-np.min(X_test,axis=0))"
   ]
  },
  {
   "cell_type": "code",
   "execution_count": 17,
   "metadata": {},
   "outputs": [],
   "source": [
    "## Model fitting"
   ]
  },
  {
   "cell_type": "code",
   "execution_count": 18,
   "metadata": {},
   "outputs": [],
   "source": [
    "## Model - 1 - main - with residual learning"
   ]
  },
  {
   "cell_type": "code",
   "execution_count": 19,
   "metadata": {},
   "outputs": [
    {
     "name": "stdout",
     "output_type": "stream",
     "text": [
      "WARNING:tensorflow:From /home/wang/anaconda3/lib/python3.7/site-packages/tensorflow/python/framework/op_def_library.py:263: colocate_with (from tensorflow.python.framework.ops) is deprecated and will be removed in a future version.\n",
      "Instructions for updating:\n",
      "Colocations handled automatically by placer.\n",
      "WARNING:tensorflow:From /home/wang/anaconda3/lib/python3.7/site-packages/keras/backend/tensorflow_backend.py:3445: calling dropout (from tensorflow.python.ops.nn_ops) with keep_prob is deprecated and will be removed in a future version.\n",
      "Instructions for updating:\n",
      "Please use `rate` instead of `keep_prob`. Rate should be set to `rate = 1 - keep_prob`.\n"
     ]
    },
    {
     "name": "stderr",
     "output_type": "stream",
     "text": [
      "/home/wang/anaconda3/lib/python3.7/site-packages/ipykernel_launcher.py:2: UserWarning: Update your `Conv1D` call to the Keras 2 API: `Conv1D(64, 1, activation=\"relu\", padding=\"causal\")`\n",
      "  \n",
      "/home/wang/anaconda3/lib/python3.7/site-packages/ipykernel_launcher.py:3: UserWarning: Update your `MaxPooling1D` call to the Keras 2 API: `MaxPooling1D(pool_size=2)`\n",
      "  This is separate from the ipykernel package so we can avoid doing imports until\n",
      "/home/wang/anaconda3/lib/python3.7/site-packages/keras/legacy/layers.py:290: UserWarning: The `AtrousConvolution1D` layer  has been deprecated. Use instead the `Conv1D` layer with the `dilation_rate` argument.\n",
      "  warnings.warn('The `AtrousConvolution1D` layer '\n",
      "/home/wang/anaconda3/lib/python3.7/site-packages/keras/legacy/layers.py:294: UserWarning: Update your `Conv1D` call to the Keras 2 API: `Conv1D(64, 3, activation=\"relu\", dilation_rate=2, padding=\"causal\")`\n",
      "  return Conv1D(*args, **kwargs)\n",
      "/home/wang/anaconda3/lib/python3.7/site-packages/ipykernel_launcher.py:5: UserWarning: Update your `MaxPooling1D` call to the Keras 2 API: `MaxPooling1D(pool_size=2)`\n",
      "  \"\"\"\n",
      "/home/wang/anaconda3/lib/python3.7/site-packages/ipykernel_launcher.py:10: UserWarning: Update your `Conv1D` call to the Keras 2 API: `Conv1D(32, 1, activation=\"relu\", padding=\"causal\")`\n",
      "  # Remove the CWD from sys.path while we load stuff.\n",
      "/home/wang/anaconda3/lib/python3.7/site-packages/ipykernel_launcher.py:11: UserWarning: Update your `MaxPooling1D` call to the Keras 2 API: `MaxPooling1D(pool_size=2)`\n",
      "  # This is added back by InteractiveShellApp.init_path()\n",
      "/home/wang/anaconda3/lib/python3.7/site-packages/keras/legacy/layers.py:294: UserWarning: Update your `Conv1D` call to the Keras 2 API: `Conv1D(32, 3, activation=\"relu\", dilation_rate=2, padding=\"causal\")`\n",
      "  return Conv1D(*args, **kwargs)\n",
      "/home/wang/anaconda3/lib/python3.7/site-packages/ipykernel_launcher.py:13: UserWarning: Update your `MaxPooling1D` call to the Keras 2 API: `MaxPooling1D(pool_size=2)`\n",
      "  del sys.path[0]\n",
      "/home/wang/anaconda3/lib/python3.7/site-packages/ipykernel_launcher.py:16: UserWarning: Update your `Conv1D` call to the Keras 2 API: `Conv1D(16, 3, padding=\"causal\")`\n",
      "  app.launch_new_instance()\n",
      "/home/wang/anaconda3/lib/python3.7/site-packages/ipykernel_launcher.py:18: UserWarning: Update your `Dense` call to the Keras 2 API: `Dense(activation=\"linear\", units=1)`\n"
     ]
    }
   ],
   "source": [
    "x= Input(shape= (100, 4))\n",
    "x_side= Conv1D(64, 1, border_mode='causal', activation='relu')(x)\n",
    "pool= MaxPooling1D(pool_length=2)(x_side)\n",
    "dil_conv1= AtrousConvolution1D(64, 3, atrous_rate=2, border_mode='causal', activation='relu')(x)\n",
    "pool1= MaxPooling1D(pool_length=2)(dil_conv1)\n",
    "# out1= merge([pool, pool1], mode= 'sum', output_shape= (50,64))\n",
    "out1= add([pool, pool1])\n",
    "lstm= LSTM(50, return_sequences= True)(out1)\n",
    "dropout= Dropout(0.1)(lstm)\n",
    "x_n= Conv1D(32, 1, border_mode='causal', activation='relu')(dropout)\n",
    "pool_n= MaxPooling1D(pool_length=2)(x_n)\n",
    "dil_conv2= AtrousConvolution1D(32, 3, atrous_rate=2, border_mode='causal', activation='relu')(dropout)\n",
    "pool2= MaxPooling1D(pool_length=2)(dil_conv2)\n",
    "# out2= merge([pool_n, pool2], mode= 'sum', output_shape= (25,32))\n",
    "out2 = add([pool_n, pool2])\n",
    "conv1= Conv1D(16, 3, border_mode='causal')(out2)\n",
    "flat= Flatten()(conv1)\n",
    "dense= Dense(output_dim=1, activation='linear')(flat)"
   ]
  },
  {
   "cell_type": "code",
   "execution_count": 20,
   "metadata": {
    "scrolled": false
   },
   "outputs": [
    {
     "name": "stdout",
     "output_type": "stream",
     "text": [
      "__________________________________________________________________________________________________\n",
      "Layer (type)                    Output Shape         Param #     Connected to                     \n",
      "==================================================================================================\n",
      "input_1 (InputLayer)            (None, 100, 4)       0                                            \n",
      "__________________________________________________________________________________________________\n",
      "conv1d_1 (Conv1D)               (None, 100, 64)      320         input_1[0][0]                    \n",
      "__________________________________________________________________________________________________\n",
      "conv1d_2 (Conv1D)               (None, 100, 64)      832         input_1[0][0]                    \n",
      "__________________________________________________________________________________________________\n",
      "max_pooling1d_1 (MaxPooling1D)  (None, 50, 64)       0           conv1d_1[0][0]                   \n",
      "__________________________________________________________________________________________________\n",
      "max_pooling1d_2 (MaxPooling1D)  (None, 50, 64)       0           conv1d_2[0][0]                   \n",
      "__________________________________________________________________________________________________\n",
      "add_1 (Add)                     (None, 50, 64)       0           max_pooling1d_1[0][0]            \n",
      "                                                                 max_pooling1d_2[0][0]            \n",
      "__________________________________________________________________________________________________\n",
      "lstm_1 (LSTM)                   (None, 50, 50)       23000       add_1[0][0]                      \n",
      "__________________________________________________________________________________________________\n",
      "dropout_1 (Dropout)             (None, 50, 50)       0           lstm_1[0][0]                     \n",
      "__________________________________________________________________________________________________\n",
      "conv1d_3 (Conv1D)               (None, 50, 32)       1632        dropout_1[0][0]                  \n",
      "__________________________________________________________________________________________________\n",
      "conv1d_4 (Conv1D)               (None, 50, 32)       4832        dropout_1[0][0]                  \n",
      "__________________________________________________________________________________________________\n",
      "max_pooling1d_3 (MaxPooling1D)  (None, 25, 32)       0           conv1d_3[0][0]                   \n",
      "__________________________________________________________________________________________________\n",
      "max_pooling1d_4 (MaxPooling1D)  (None, 25, 32)       0           conv1d_4[0][0]                   \n",
      "__________________________________________________________________________________________________\n",
      "add_2 (Add)                     (None, 25, 32)       0           max_pooling1d_3[0][0]            \n",
      "                                                                 max_pooling1d_4[0][0]            \n",
      "__________________________________________________________________________________________________\n",
      "conv1d_5 (Conv1D)               (None, 25, 16)       1552        add_2[0][0]                      \n",
      "__________________________________________________________________________________________________\n",
      "flatten_1 (Flatten)             (None, 400)          0           conv1d_5[0][0]                   \n",
      "__________________________________________________________________________________________________\n",
      "dense_1 (Dense)                 (None, 1)            401         flatten_1[0][0]                  \n",
      "==================================================================================================\n",
      "Total params: 32,569\n",
      "Trainable params: 32,569\n",
      "Non-trainable params: 0\n",
      "__________________________________________________________________________________________________\n",
      "WARNING:tensorflow:From /home/wang/anaconda3/lib/python3.7/site-packages/tensorflow/python/ops/math_ops.py:3066: to_int32 (from tensorflow.python.ops.math_ops) is deprecated and will be removed in a future version.\n",
      "Instructions for updating:\n",
      "Use tf.cast instead.\n"
     ]
    },
    {
     "name": "stderr",
     "output_type": "stream",
     "text": [
      "/home/wang/anaconda3/lib/python3.7/site-packages/ipykernel_launcher.py:1: UserWarning: Update your `Model` call to the Keras 2 API: `Model(inputs=Tensor(\"in..., outputs=Tensor(\"de...)`\n",
      "  \"\"\"Entry point for launching an IPython kernel.\n",
      "/home/wang/anaconda3/lib/python3.7/site-packages/ipykernel_launcher.py:9: UserWarning: The `nb_epoch` argument in `fit` has been renamed `epochs`.\n",
      "  if __name__ == '__main__':\n"
     ]
    },
    {
     "name": "stdout",
     "output_type": "stream",
     "text": [
      "Train on 3427 samples, validate on 757 samples\n",
      "Epoch 1/50\n",
      " - 3s - loss: 0.0642 - acc: 2.9180e-04 - val_loss: 0.0224 - val_acc: 0.0026\n",
      "Epoch 2/50\n",
      " - 1s - loss: 0.0111 - acc: 5.8360e-04 - val_loss: 0.0214 - val_acc: 0.0026\n",
      "Epoch 3/50\n",
      " - 1s - loss: 0.0074 - acc: 5.8360e-04 - val_loss: 0.0175 - val_acc: 0.0026\n",
      "Epoch 4/50\n",
      " - 1s - loss: 0.0056 - acc: 5.8360e-04 - val_loss: 0.0174 - val_acc: 0.0026\n",
      "Epoch 5/50\n",
      " - 1s - loss: 0.0050 - acc: 5.8360e-04 - val_loss: 0.0175 - val_acc: 0.0026\n",
      "Epoch 6/50\n",
      " - 1s - loss: 0.0046 - acc: 5.8360e-04 - val_loss: 0.0179 - val_acc: 0.0026\n",
      "Epoch 7/50\n",
      " - 1s - loss: 0.0039 - acc: 5.8360e-04 - val_loss: 0.0176 - val_acc: 0.0026\n",
      "Epoch 8/50\n",
      " - 1s - loss: 0.0035 - acc: 5.8360e-04 - val_loss: 0.0178 - val_acc: 0.0026\n",
      "Epoch 9/50\n",
      " - 1s - loss: 0.0033 - acc: 5.8360e-04 - val_loss: 0.0186 - val_acc: 0.0026\n",
      "Epoch 10/50\n",
      " - 1s - loss: 0.0030 - acc: 5.8360e-04 - val_loss: 0.0180 - val_acc: 0.0026\n",
      "Epoch 11/50\n",
      " - 1s - loss: 0.0030 - acc: 5.8360e-04 - val_loss: 0.0181 - val_acc: 0.0026\n",
      "Epoch 12/50\n",
      " - 1s - loss: 0.0027 - acc: 5.8360e-04 - val_loss: 0.0176 - val_acc: 0.0026\n",
      "Epoch 13/50\n",
      " - 1s - loss: 0.0025 - acc: 5.8360e-04 - val_loss: 0.0172 - val_acc: 0.0026\n",
      "Epoch 14/50\n",
      " - 1s - loss: 0.0024 - acc: 5.8360e-04 - val_loss: 0.0176 - val_acc: 0.0026\n",
      "Epoch 15/50\n",
      " - 1s - loss: 0.0023 - acc: 5.8360e-04 - val_loss: 0.0158 - val_acc: 0.0026\n",
      "Epoch 16/50\n",
      " - 1s - loss: 0.0020 - acc: 5.8360e-04 - val_loss: 0.0146 - val_acc: 0.0026\n",
      "Epoch 17/50\n",
      " - 1s - loss: 0.0020 - acc: 5.8360e-04 - val_loss: 0.0140 - val_acc: 0.0026\n",
      "Epoch 18/50\n",
      " - 1s - loss: 0.0019 - acc: 5.8360e-04 - val_loss: 0.0130 - val_acc: 0.0026\n",
      "Epoch 19/50\n",
      " - 1s - loss: 0.0018 - acc: 5.8360e-04 - val_loss: 0.0140 - val_acc: 0.0026\n",
      "Epoch 20/50\n",
      " - 1s - loss: 0.0018 - acc: 5.8360e-04 - val_loss: 0.0109 - val_acc: 0.0026\n",
      "Epoch 21/50\n",
      " - 1s - loss: 0.0017 - acc: 5.8360e-04 - val_loss: 0.0119 - val_acc: 0.0026\n",
      "Epoch 22/50\n",
      " - 1s - loss: 0.0016 - acc: 5.8360e-04 - val_loss: 0.0107 - val_acc: 0.0026\n",
      "Epoch 23/50\n",
      " - 1s - loss: 0.0016 - acc: 5.8360e-04 - val_loss: 0.0114 - val_acc: 0.0026\n",
      "Epoch 24/50\n",
      " - 1s - loss: 0.0015 - acc: 5.8360e-04 - val_loss: 0.0100 - val_acc: 0.0026\n",
      "Epoch 25/50\n",
      " - 1s - loss: 0.0014 - acc: 5.8360e-04 - val_loss: 0.0090 - val_acc: 0.0026\n",
      "Epoch 26/50\n",
      " - 1s - loss: 0.0014 - acc: 5.8360e-04 - val_loss: 0.0098 - val_acc: 0.0026\n",
      "Epoch 27/50\n",
      " - 1s - loss: 0.0013 - acc: 5.8360e-04 - val_loss: 0.0082 - val_acc: 0.0026\n",
      "Epoch 28/50\n",
      " - 1s - loss: 0.0014 - acc: 5.8360e-04 - val_loss: 0.0081 - val_acc: 0.0026\n",
      "Epoch 29/50\n",
      " - 1s - loss: 0.0012 - acc: 5.8360e-04 - val_loss: 0.0082 - val_acc: 0.0026\n",
      "Epoch 30/50\n",
      " - 1s - loss: 0.0012 - acc: 5.8360e-04 - val_loss: 0.0079 - val_acc: 0.0026\n",
      "Epoch 31/50\n",
      " - 1s - loss: 0.0012 - acc: 5.8360e-04 - val_loss: 0.0078 - val_acc: 0.0026\n",
      "Epoch 32/50\n",
      " - 1s - loss: 0.0011 - acc: 5.8360e-04 - val_loss: 0.0080 - val_acc: 0.0026\n",
      "Epoch 33/50\n",
      " - 1s - loss: 0.0012 - acc: 5.8360e-04 - val_loss: 0.0085 - val_acc: 0.0026\n",
      "Epoch 34/50\n",
      " - 1s - loss: 0.0011 - acc: 5.8360e-04 - val_loss: 0.0079 - val_acc: 0.0026\n",
      "Epoch 35/50\n",
      " - 1s - loss: 0.0011 - acc: 5.8360e-04 - val_loss: 0.0081 - val_acc: 0.0026\n",
      "Epoch 36/50\n",
      " - 1s - loss: 0.0011 - acc: 5.8360e-04 - val_loss: 0.0067 - val_acc: 0.0026\n",
      "Epoch 37/50\n",
      " - 1s - loss: 0.0010 - acc: 5.8360e-04 - val_loss: 0.0074 - val_acc: 0.0026\n",
      "Epoch 38/50\n",
      " - 1s - loss: 0.0011 - acc: 5.8360e-04 - val_loss: 0.0077 - val_acc: 0.0026\n",
      "Epoch 39/50\n",
      " - 1s - loss: 9.6425e-04 - acc: 5.8360e-04 - val_loss: 0.0062 - val_acc: 0.0026\n",
      "Epoch 40/50\n",
      " - 1s - loss: 8.8291e-04 - acc: 5.8360e-04 - val_loss: 0.0058 - val_acc: 0.0026\n",
      "Epoch 41/50\n",
      " - 1s - loss: 8.6798e-04 - acc: 5.8360e-04 - val_loss: 0.0059 - val_acc: 0.0026\n",
      "Epoch 42/50\n",
      " - 1s - loss: 7.9433e-04 - acc: 5.8360e-04 - val_loss: 0.0057 - val_acc: 0.0026\n",
      "Epoch 43/50\n",
      " - 1s - loss: 8.1287e-04 - acc: 5.8360e-04 - val_loss: 0.0056 - val_acc: 0.0026\n",
      "Epoch 44/50\n",
      " - 1s - loss: 8.1753e-04 - acc: 5.8360e-04 - val_loss: 0.0053 - val_acc: 0.0026\n",
      "Epoch 45/50\n",
      " - 1s - loss: 8.3896e-04 - acc: 5.8360e-04 - val_loss: 0.0057 - val_acc: 0.0026\n",
      "Epoch 46/50\n",
      " - 1s - loss: 8.5289e-04 - acc: 5.8360e-04 - val_loss: 0.0069 - val_acc: 0.0026\n",
      "Epoch 47/50\n",
      " - 1s - loss: 9.0373e-04 - acc: 5.8360e-04 - val_loss: 0.0059 - val_acc: 0.0026\n",
      "Epoch 48/50\n",
      " - 1s - loss: 7.8130e-04 - acc: 5.8360e-04 - val_loss: 0.0063 - val_acc: 0.0026\n",
      "Epoch 49/50\n",
      " - 1s - loss: 7.7399e-04 - acc: 5.8360e-04 - val_loss: 0.0054 - val_acc: 0.0026\n",
      "Epoch 50/50\n",
      " - 1s - loss: 6.8489e-04 - acc: 5.8360e-04 - val_loss: 0.0048 - val_acc: 0.0026\n"
     ]
    },
    {
     "data": {
      "text/plain": [
       "<keras.callbacks.History at 0x7f536100f438>"
      ]
     },
     "execution_count": 20,
     "metadata": {},
     "output_type": "execute_result"
    }
   ],
   "source": [
    "model = Model(input=x, output=dense)\n",
    "# model.compile(optimizer='rmsprop',\n",
    "\n",
    "model.summary()\n",
    "\n",
    "model.compile(optimizer='adam',\n",
    "              loss='mse',\n",
    "              metrics=['accuracy'])\n",
    "model.fit(X_train, y_train, batch_size=256, nb_epoch=50, validation_data = (X_test, y_test), verbose=2)"
   ]
  },
  {
   "cell_type": "code",
   "execution_count": 21,
   "metadata": {},
   "outputs": [
    {
     "name": "stdout",
     "output_type": "stream",
     "text": [
      "757/757 [==============================] - 0s 67us/step\n"
     ]
    }
   ],
   "source": [
    "score= model.evaluate(X_test, y_test, batch_size=256)"
   ]
  },
  {
   "cell_type": "code",
   "execution_count": 22,
   "metadata": {},
   "outputs": [
    {
     "name": "stdout",
     "output_type": "stream",
     "text": [
      "[0.00477478196881367, 0.0026420078688157204]\n"
     ]
    }
   ],
   "source": [
    "print (score)"
   ]
  },
  {
   "cell_type": "code",
   "execution_count": 23,
   "metadata": {},
   "outputs": [],
   "source": [
    "y_pred= model.predict(X_test)"
   ]
  },
  {
   "cell_type": "code",
   "execution_count": 24,
   "metadata": {},
   "outputs": [
    {
     "data": {
      "image/png": "[encoded data removed]",
      "text/plain": [
       "<Figure size 432x288 with 1 Axes>"
      ]
     },
     "metadata": {
      "needs_background": "light"
     },
     "output_type": "display_data"
    }
   ],
   "source": [
    "plt.plot(y_pred, 'r-')\n",
    "plt.plot(y_test, 'b-')\n",
    "plt.show()"
   ]
  },
  {
   "cell_type": "code",
   "execution_count": 25,
   "metadata": {},
   "outputs": [],
   "source": [
    "## Model - 2 - simple - without residual learning"
   ]
  },
  {
   "cell_type": "code",
   "execution_count": 26,
   "metadata": {},
   "outputs": [
    {
     "name": "stdout",
     "output_type": "stream",
     "text": [
      "_________________________________________________________________\n",
      "Layer (type)                 Output Shape              Param #   \n",
      "=================================================================\n",
      "conv1d_6 (Conv1D)            (None, 100, 64)           1344      \n",
      "_________________________________________________________________\n",
      "max_pooling1d_5 (MaxPooling1 (None, 50, 64)            0         \n",
      "_________________________________________________________________\n",
      "lstm_2 (LSTM)                (None, 50, 50)            23000     \n",
      "_________________________________________________________________\n",
      "dropout_2 (Dropout)          (None, 50, 50)            0         \n",
      "_________________________________________________________________\n",
      "conv1d_7 (Conv1D)            (None, 50, 32)            4832      \n",
      "_________________________________________________________________\n",
      "max_pooling1d_6 (MaxPooling1 (None, 25, 32)            0         \n",
      "_________________________________________________________________\n",
      "flatten_2 (Flatten)          (None, 800)               0         \n",
      "_________________________________________________________________\n",
      "dense_2 (Dense)              (None, 1)                 801       \n",
      "_________________________________________________________________\n",
      "activation_1 (Activation)    (None, 1)                 0         \n",
      "=================================================================\n",
      "Total params: 29,977\n",
      "Trainable params: 29,977\n",
      "Non-trainable params: 0\n",
      "_________________________________________________________________\n"
     ]
    },
    {
     "name": "stderr",
     "output_type": "stream",
     "text": [
      "/home/wang/anaconda3/lib/python3.7/site-packages/keras/legacy/layers.py:294: UserWarning: Update your `Conv1D` call to the Keras 2 API: `Conv1D(64, 5, input_shape=(100, 4), dilation_rate=2, padding=\"same\")`\n",
      "  return Conv1D(*args, **kwargs)\n",
      "/home/wang/anaconda3/lib/python3.7/site-packages/ipykernel_launcher.py:3: UserWarning: Update your `MaxPooling1D` call to the Keras 2 API: `MaxPooling1D(pool_size=2)`\n",
      "  This is separate from the ipykernel package so we can avoid doing imports until\n",
      "/home/wang/anaconda3/lib/python3.7/site-packages/keras/legacy/layers.py:294: UserWarning: Update your `Conv1D` call to the Keras 2 API: `Conv1D(32, 3, dilation_rate=2, padding=\"same\")`\n",
      "  return Conv1D(*args, **kwargs)\n",
      "/home/wang/anaconda3/lib/python3.7/site-packages/ipykernel_launcher.py:7: UserWarning: Update your `MaxPooling1D` call to the Keras 2 API: `MaxPooling1D(pool_size=2)`\n",
      "  import sys\n",
      "/home/wang/anaconda3/lib/python3.7/site-packages/ipykernel_launcher.py:9: UserWarning: Update your `Dense` call to the Keras 2 API: `Dense(units=1)`\n",
      "  if __name__ == '__main__':\n"
     ]
    }
   ],
   "source": [
    "model = Sequential()\n",
    "model.add(AtrousConvolution1D(64, 5, atrous_rate=2, border_mode='same', input_shape= (100,4)))\n",
    "model.add(MaxPooling1D(pool_length=2))\n",
    "model.add(LSTM(50, return_sequences=True))\n",
    "model.add(Dropout(0.1))\n",
    "model.add(AtrousConvolution1D(32, 3, atrous_rate=2, border_mode='same'))\n",
    "model.add(MaxPooling1D(pool_length=2))\n",
    "model.add(Flatten())\n",
    "model.add(Dense(output_dim=1))\n",
    "model.add(Activation('linear'))\n",
    "\n",
    "model.summary()"
   ]
  },
  {
   "cell_type": "code",
   "execution_count": 27,
   "metadata": {},
   "outputs": [],
   "source": [
    "# model.compile(loss='mse', optimizer='adagrad', metrics=['accuracy'])\n",
    "model.compile(loss='mse', optimizer='adam', metrics=['accuracy'])"
   ]
  },
  {
   "cell_type": "code",
   "execution_count": 28,
   "metadata": {},
   "outputs": [
    {
     "name": "stderr",
     "output_type": "stream",
     "text": [
      "/home/wang/anaconda3/lib/python3.7/site-packages/ipykernel_launcher.py:1: UserWarning: The `nb_epoch` argument in `fit` has been renamed `epochs`.\n",
      "  \"\"\"Entry point for launching an IPython kernel.\n"
     ]
    },
    {
     "name": "stdout",
     "output_type": "stream",
     "text": [
      "Train on 3427 samples, validate on 757 samples\n",
      "Epoch 1/50\n",
      " - 1s - loss: 0.0350 - acc: 5.8360e-04 - val_loss: 0.0275 - val_acc: 0.0026\n",
      "Epoch 2/50\n",
      " - 1s - loss: 0.0085 - acc: 5.8360e-04 - val_loss: 0.0154 - val_acc: 0.0026\n",
      "Epoch 3/50\n",
      " - 1s - loss: 0.0044 - acc: 5.8360e-04 - val_loss: 0.0135 - val_acc: 0.0026\n",
      "Epoch 4/50\n",
      " - 1s - loss: 0.0033 - acc: 5.8360e-04 - val_loss: 0.0132 - val_acc: 0.0026\n",
      "Epoch 5/50\n",
      " - 1s - loss: 0.0027 - acc: 5.8360e-04 - val_loss: 0.0126 - val_acc: 0.0026\n",
      "Epoch 6/50\n",
      " - 1s - loss: 0.0026 - acc: 5.8360e-04 - val_loss: 0.0123 - val_acc: 0.0026\n",
      "Epoch 7/50\n",
      " - 1s - loss: 0.0024 - acc: 5.8360e-04 - val_loss: 0.0118 - val_acc: 0.0026\n",
      "Epoch 8/50\n",
      " - 1s - loss: 0.0022 - acc: 5.8360e-04 - val_loss: 0.0112 - val_acc: 0.0026\n",
      "Epoch 9/50\n",
      " - 1s - loss: 0.0022 - acc: 5.8360e-04 - val_loss: 0.0105 - val_acc: 0.0026\n",
      "Epoch 10/50\n",
      " - 1s - loss: 0.0020 - acc: 5.8360e-04 - val_loss: 0.0100 - val_acc: 0.0026\n",
      "Epoch 11/50\n",
      " - 1s - loss: 0.0019 - acc: 5.8360e-04 - val_loss: 0.0097 - val_acc: 0.0026\n",
      "Epoch 12/50\n",
      " - 1s - loss: 0.0018 - acc: 5.8360e-04 - val_loss: 0.0093 - val_acc: 0.0026\n",
      "Epoch 13/50\n",
      " - 1s - loss: 0.0018 - acc: 5.8360e-04 - val_loss: 0.0088 - val_acc: 0.0026\n",
      "Epoch 14/50\n",
      " - 1s - loss: 0.0017 - acc: 5.8360e-04 - val_loss: 0.0084 - val_acc: 0.0026\n",
      "Epoch 15/50\n",
      " - 1s - loss: 0.0016 - acc: 5.8360e-04 - val_loss: 0.0079 - val_acc: 0.0026\n",
      "Epoch 16/50\n",
      " - 1s - loss: 0.0015 - acc: 5.8360e-04 - val_loss: 0.0076 - val_acc: 0.0026\n",
      "Epoch 17/50\n",
      " - 1s - loss: 0.0015 - acc: 5.8360e-04 - val_loss: 0.0073 - val_acc: 0.0026\n",
      "Epoch 18/50\n",
      " - 1s - loss: 0.0015 - acc: 5.8360e-04 - val_loss: 0.0074 - val_acc: 0.0026\n",
      "Epoch 19/50\n",
      " - 1s - loss: 0.0014 - acc: 5.8360e-04 - val_loss: 0.0072 - val_acc: 0.0026\n",
      "Epoch 20/50\n",
      " - 1s - loss: 0.0014 - acc: 5.8360e-04 - val_loss: 0.0064 - val_acc: 0.0026\n",
      "Epoch 21/50\n",
      " - 1s - loss: 0.0013 - acc: 5.8360e-04 - val_loss: 0.0061 - val_acc: 0.0026\n",
      "Epoch 22/50\n",
      " - 1s - loss: 0.0013 - acc: 5.8360e-04 - val_loss: 0.0063 - val_acc: 0.0026\n",
      "Epoch 23/50\n",
      " - 1s - loss: 0.0012 - acc: 5.8360e-04 - val_loss: 0.0058 - val_acc: 0.0026\n",
      "Epoch 24/50\n",
      " - 1s - loss: 0.0012 - acc: 5.8360e-04 - val_loss: 0.0056 - val_acc: 0.0026\n",
      "Epoch 25/50\n",
      " - 1s - loss: 0.0011 - acc: 5.8360e-04 - val_loss: 0.0061 - val_acc: 0.0026\n",
      "Epoch 26/50\n",
      " - 1s - loss: 0.0011 - acc: 5.8360e-04 - val_loss: 0.0050 - val_acc: 0.0026\n",
      "Epoch 27/50\n",
      " - 1s - loss: 0.0011 - acc: 5.8360e-04 - val_loss: 0.0056 - val_acc: 0.0026\n",
      "Epoch 28/50\n",
      " - 1s - loss: 0.0010 - acc: 5.8360e-04 - val_loss: 0.0049 - val_acc: 0.0026\n",
      "Epoch 29/50\n",
      " - 1s - loss: 0.0010 - acc: 5.8360e-04 - val_loss: 0.0051 - val_acc: 0.0026\n",
      "Epoch 30/50\n",
      " - 1s - loss: 9.3316e-04 - acc: 5.8360e-04 - val_loss: 0.0049 - val_acc: 0.0026\n",
      "Epoch 31/50\n",
      " - 1s - loss: 9.1955e-04 - acc: 5.8360e-04 - val_loss: 0.0047 - val_acc: 0.0026\n",
      "Epoch 32/50\n",
      " - 1s - loss: 8.9965e-04 - acc: 5.8360e-04 - val_loss: 0.0042 - val_acc: 0.0026\n",
      "Epoch 33/50\n",
      " - 1s - loss: 8.8706e-04 - acc: 5.8360e-04 - val_loss: 0.0039 - val_acc: 0.0026\n",
      "Epoch 34/50\n",
      " - 1s - loss: 9.2835e-04 - acc: 5.8360e-04 - val_loss: 0.0039 - val_acc: 0.0026\n",
      "Epoch 35/50\n",
      " - 1s - loss: 9.2923e-04 - acc: 5.8360e-04 - val_loss: 0.0037 - val_acc: 0.0026\n",
      "Epoch 36/50\n",
      " - 1s - loss: 0.0011 - acc: 5.8360e-04 - val_loss: 0.0037 - val_acc: 0.0026\n",
      "Epoch 37/50\n",
      " - 1s - loss: 9.5106e-04 - acc: 5.8360e-04 - val_loss: 0.0040 - val_acc: 0.0026\n",
      "Epoch 38/50\n",
      " - 1s - loss: 7.9571e-04 - acc: 5.8360e-04 - val_loss: 0.0041 - val_acc: 0.0026\n",
      "Epoch 39/50\n",
      " - 1s - loss: 7.9125e-04 - acc: 5.8360e-04 - val_loss: 0.0039 - val_acc: 0.0026\n",
      "Epoch 40/50\n",
      " - 1s - loss: 7.5208e-04 - acc: 5.8360e-04 - val_loss: 0.0039 - val_acc: 0.0026\n",
      "Epoch 41/50\n",
      " - 1s - loss: 7.7537e-04 - acc: 5.8360e-04 - val_loss: 0.0039 - val_acc: 0.0026\n",
      "Epoch 42/50\n",
      " - 1s - loss: 8.3084e-04 - acc: 5.8360e-04 - val_loss: 0.0039 - val_acc: 0.0026\n",
      "Epoch 43/50\n",
      " - 1s - loss: 8.0024e-04 - acc: 5.8360e-04 - val_loss: 0.0033 - val_acc: 0.0026\n",
      "Epoch 44/50\n",
      " - 1s - loss: 7.4379e-04 - acc: 5.8360e-04 - val_loss: 0.0033 - val_acc: 0.0026\n",
      "Epoch 45/50\n",
      " - 1s - loss: 7.6150e-04 - acc: 5.8360e-04 - val_loss: 0.0033 - val_acc: 0.0026\n",
      "Epoch 46/50\n",
      " - 1s - loss: 7.7343e-04 - acc: 5.8360e-04 - val_loss: 0.0037 - val_acc: 0.0026\n",
      "Epoch 47/50\n",
      " - 1s - loss: 7.1255e-04 - acc: 5.8360e-04 - val_loss: 0.0035 - val_acc: 0.0026\n",
      "Epoch 48/50\n",
      " - 1s - loss: 6.6584e-04 - acc: 5.8360e-04 - val_loss: 0.0031 - val_acc: 0.0026\n",
      "Epoch 49/50\n",
      " - 1s - loss: 7.6563e-04 - acc: 5.8360e-04 - val_loss: 0.0032 - val_acc: 0.0026\n",
      "Epoch 50/50\n",
      " - 1s - loss: 6.9947e-04 - acc: 5.8360e-04 - val_loss: 0.0038 - val_acc: 0.0026\n"
     ]
    },
    {
     "data": {
      "text/plain": [
       "<keras.callbacks.History at 0x7f53486bc160>"
      ]
     },
     "execution_count": 28,
     "metadata": {},
     "output_type": "execute_result"
    }
   ],
   "source": [
    "model.fit(X_train, y_train, batch_size=256, nb_epoch=50, validation_data = (X_test, y_test), verbose=2)"
   ]
  },
  {
   "cell_type": "code",
   "execution_count": 29,
   "metadata": {},
   "outputs": [],
   "source": [
    "## Evaluation of the model and display of the results"
   ]
  },
  {
   "cell_type": "code",
   "execution_count": 30,
   "metadata": {},
   "outputs": [
    {
     "name": "stdout",
     "output_type": "stream",
     "text": [
      "757/757 [==============================] - 0s 62us/step\n"
     ]
    }
   ],
   "source": [
    "score= model.evaluate(X_test, y_test, batch_size=256)"
   ]
  },
  {
   "cell_type": "code",
   "execution_count": 31,
   "metadata": {},
   "outputs": [
    {
     "name": "stdout",
     "output_type": "stream",
     "text": [
      "[0.0037737991107206995, 0.0026420078688157204]\n"
     ]
    }
   ],
   "source": [
    "print (score)"
   ]
  },
  {
   "cell_type": "code",
   "execution_count": 32,
   "metadata": {},
   "outputs": [],
   "source": [
    "y_pred= model.predict(X_test)"
   ]
  },
  {
   "cell_type": "code",
   "execution_count": 33,
   "metadata": {},
   "outputs": [
    {
     "data": {
      "image/png": "[encoded data removed]",
      "text/plain": [
       "<Figure size 432x288 with 1 Axes>"
      ]
     },
     "metadata": {
      "needs_background": "light"
     },
     "output_type": "display_data"
    }
   ],
   "source": [
    "plt.plot(y_pred, 'r-')\n",
    "plt.plot(y_test, 'b-')\n",
    "plt.show()"
   ]
  },
  {
   "cell_type": "code",
   "execution_count": 34,
   "metadata": {},
   "outputs": [
    {
     "data": {
      "image/png": "[encoded data removed]",
      "text/plain": [
       "<Figure size 432x288 with 1 Axes>"
      ]
     },
     "metadata": {
      "needs_background": "light"
     },
     "output_type": "display_data"
    }
   ],
   "source": [
    "plt.plot(y_pred[400:600], 'r-')\n",
    "plt.plot(y_test[400:600], 'b-')\n",
    "plt.show()"
   ]
  },
  {
   "cell_type": "code",
   "execution_count": 35,
   "metadata": {},
   "outputs": [
    {
     "data": {
      "image/png": "[encoded data removed]",
      "text/plain": [
       "<Figure size 432x288 with 1 Axes>"
      ]
     },
     "metadata": {
      "needs_background": "light"
     },
     "output_type": "display_data"
    }
   ],
   "source": [
    "plt.plot(y_pred[400:450], 'r-')\n",
    "plt.plot(y_test[400:450], 'b-')\n",
    "plt.show()"
   ]
  },
  {
   "cell_type": "code",
   "execution_count": 36,
   "metadata": {},
   "outputs": [
    {
     "data": {
      "image/png": "[encoded data removed]",
      "text/plain": [
       "<Figure size 432x288 with 1 Axes>"
      ]
     },
     "metadata": {
      "needs_background": "light"
     },
     "output_type": "display_data"
    }
   ],
   "source": [
    "plt.plot (y_pred, y_test, 'bo')\n",
    "plt.xlabel('y_pred')\n",
    "plt.ylabel('y_test')\n",
    "plt.show()"
   ]
  },
  {
   "cell_type": "code",
   "execution_count": null,
   "metadata": {},
   "outputs": [],
   "source": []
  }
 ],
 "metadata": {
  "kernelspec": {
   "display_name": "Python 3",
   "language": "python",
   "name": "python3"
  },
  "language_info": {
   "codemirror_mode": {
    "name": "ipython",
    "version": 3
   },
   "file_extension": ".py",
   "mimetype": "text/x-python",
   "name": "python",
   "nbconvert_exporter": "python",
   "pygments_lexer": "ipython3",
   "version": "3.7.2"
  }
 },
 "nbformat": 4,
 "nbformat_minor": 2
}
