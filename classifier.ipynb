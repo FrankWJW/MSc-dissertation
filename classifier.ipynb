{
 "cells": [
  {
   "cell_type": "code",
   "execution_count": 182,
   "metadata": {},
   "outputs": [
    {
     "name": "stdout",
     "output_type": "stream",
     "text": [
      "The autoreload extension is already loaded. To reload it, use:\n",
      "  %reload_ext autoreload\n"
     ]
    }
   ],
   "source": [
    "%load_ext autoreload\n",
    "%autoreload 2\n",
    "\n",
    "import numpy as np\n",
    "import pandas as pd\n",
    "import torch\n",
    "import torch.nn as nn\n",
    "import torch.nn.functional as F\n",
    "# from keras.layers import Dense, Dropout, Activation, LSTM, Convolution1D, MaxPooling1D, Flatten\n",
    "# from keras.models import Sequential\n",
    "import matplotlib.pyplot as plt\n",
    "\n",
    "%matplotlib inline\n",
    "from torchbearer import Trial\n",
    "import os"
   ]
  },
  {
   "cell_type": "code",
   "execution_count": 183,
   "metadata": {},
   "outputs": [],
   "source": [
    "import torch\n",
    "import torch.nn.functional as F\n",
    "import torchvision.transforms as transforms\n",
    "import torchbearer\n",
    "from torch import nn\n",
    "from torch import optim\n",
    "from torch.utils.data import DataLoader, TensorDataset, Dataset\n",
    "from torchvision.datasets import MNIST\n",
    "from torchbearer import Trial\n",
    "import torchvision.transforms as transforms"
   ]
  },
  {
   "cell_type": "code",
   "execution_count": 184,
   "metadata": {},
   "outputs": [
    {
     "data": {
      "text/plain": [
       "'E:\\\\git\\\\MSc-dissertation\\\\data'"
      ]
     },
     "execution_count": 184,
     "metadata": {},
     "output_type": "execute_result"
    }
   ],
   "source": [
    "datapath = os.path.join(os.getcwd(), 'data')\n",
    "datapath"
   ]
  },
  {
   "cell_type": "code",
   "execution_count": 185,
   "metadata": {
    "scrolled": true
   },
   "outputs": [
    {
     "data": {
      "text/html": [
       "<div>\n",
       "<style scoped>\n",
       "    .dataframe tbody tr th:only-of-type {\n",
       "        vertical-align: middle;\n",
       "    }\n",
       "\n",
       "    .dataframe tbody tr th {\n",
       "        vertical-align: top;\n",
       "    }\n",
       "\n",
       "    .dataframe thead th {\n",
       "        text-align: right;\n",
       "    }\n",
       "</style>\n",
       "<table border=\"1\" class=\"dataframe\">\n",
       "  <thead>\n",
       "    <tr style=\"text-align: right;\">\n",
       "      <th></th>\n",
       "      <th>Date</th>\n",
       "      <th>Adj Close</th>\n",
       "      <th>Volume</th>\n",
       "      <th>2-days Net change</th>\n",
       "      <th>5day-moving average</th>\n",
       "      <th>5day- standard deviation</th>\n",
       "      <th>10-day moving average</th>\n",
       "      <th>10day- standard deviation</th>\n",
       "      <th>50-day moving average</th>\n",
       "      <th>50day- standard deviation</th>\n",
       "      <th>^VIX</th>\n",
       "      <th>^TNX</th>\n",
       "    </tr>\n",
       "  </thead>\n",
       "  <tbody>\n",
       "    <tr>\n",
       "      <th>3016</th>\n",
       "      <td>2016/12/23</td>\n",
       "      <td>2263.790039</td>\n",
       "      <td>2020550000</td>\n",
       "      <td>2.830078</td>\n",
       "      <td>2264.643994</td>\n",
       "      <td>3.757096</td>\n",
       "      <td>2262.528003</td>\n",
       "      <td>5.773423</td>\n",
       "      <td>2185.648188</td>\n",
       "      <td>54.155056</td>\n",
       "      <td>11.44</td>\n",
       "      <td>2.543</td>\n",
       "    </tr>\n",
       "    <tr>\n",
       "      <th>3017</th>\n",
       "      <td>2016/12/27</td>\n",
       "      <td>2268.879883</td>\n",
       "      <td>1987080000</td>\n",
       "      <td>5.089844</td>\n",
       "      <td>2265.913965</td>\n",
       "      <td>3.932965</td>\n",
       "      <td>2263.719995</td>\n",
       "      <td>5.726416</td>\n",
       "      <td>2188.366187</td>\n",
       "      <td>54.863455</td>\n",
       "      <td>11.99</td>\n",
       "      <td>2.563</td>\n",
       "    </tr>\n",
       "    <tr>\n",
       "      <th>3018</th>\n",
       "      <td>2016/12/28</td>\n",
       "      <td>2249.919922</td>\n",
       "      <td>2392360000</td>\n",
       "      <td>-18.959961</td>\n",
       "      <td>2261.745947</td>\n",
       "      <td>7.199588</td>\n",
       "      <td>2261.539990</td>\n",
       "      <td>6.446745</td>\n",
       "      <td>2190.834585</td>\n",
       "      <td>54.799583</td>\n",
       "      <td>12.95</td>\n",
       "      <td>2.506</td>\n",
       "    </tr>\n",
       "    <tr>\n",
       "      <th>3019</th>\n",
       "      <td>2016/12/29</td>\n",
       "      <td>2249.260010</td>\n",
       "      <td>2336370000</td>\n",
       "      <td>-0.659912</td>\n",
       "      <td>2258.561963</td>\n",
       "      <td>8.671128</td>\n",
       "      <td>2261.137988</td>\n",
       "      <td>7.110240</td>\n",
       "      <td>2193.027783</td>\n",
       "      <td>54.901540</td>\n",
       "      <td>13.37</td>\n",
       "      <td>2.477</td>\n",
       "    </tr>\n",
       "    <tr>\n",
       "      <th>3020</th>\n",
       "      <td>2016/12/30</td>\n",
       "      <td>2238.830078</td>\n",
       "      <td>2670900000</td>\n",
       "      <td>-10.429932</td>\n",
       "      <td>2254.135986</td>\n",
       "      <td>12.107894</td>\n",
       "      <td>2258.817993</td>\n",
       "      <td>9.989011</td>\n",
       "      <td>2194.918584</td>\n",
       "      <td>54.816670</td>\n",
       "      <td>14.04</td>\n",
       "      <td>2.446</td>\n",
       "    </tr>\n",
       "  </tbody>\n",
       "</table>\n",
       "</div>"
      ],
      "text/plain": [
       "            Date    Adj Close      Volume  2-days Net change  \\\n",
       "3016  2016/12/23  2263.790039  2020550000           2.830078   \n",
       "3017  2016/12/27  2268.879883  1987080000           5.089844   \n",
       "3018  2016/12/28  2249.919922  2392360000         -18.959961   \n",
       "3019  2016/12/29  2249.260010  2336370000          -0.659912   \n",
       "3020  2016/12/30  2238.830078  2670900000         -10.429932   \n",
       "\n",
       "      5day-moving average  5day- standard deviation  10-day moving average  \\\n",
       "3016          2264.643994                  3.757096            2262.528003   \n",
       "3017          2265.913965                  3.932965            2263.719995   \n",
       "3018          2261.745947                  7.199588            2261.539990   \n",
       "3019          2258.561963                  8.671128            2261.137988   \n",
       "3020          2254.135986                 12.107894            2258.817993   \n",
       "\n",
       "      10day- standard deviation  50-day moving average  \\\n",
       "3016                   5.773423            2185.648188   \n",
       "3017                   5.726416            2188.366187   \n",
       "3018                   6.446745            2190.834585   \n",
       "3019                   7.110240            2193.027783   \n",
       "3020                   9.989011            2194.918584   \n",
       "\n",
       "      50day- standard deviation   ^VIX   ^TNX  \n",
       "3016                  54.155056  11.44  2.543  \n",
       "3017                  54.863455  11.99  2.563  \n",
       "3018                  54.799583  12.95  2.506  \n",
       "3019                  54.901540  13.37  2.477  \n",
       "3020                  54.816670  14.04  2.446  "
      ]
     },
     "execution_count": 185,
     "metadata": {},
     "output_type": "execute_result"
    }
   ],
   "source": [
    "df = pd.read_csv(os.path.join(datapath,'Integrated Data.csv'))\n",
    "df.tail()"
   ]
  },
  {
   "cell_type": "markdown",
   "metadata": {},
   "source": [
    "# build binary classifier"
   ]
  },
  {
   "cell_type": "code",
   "execution_count": 186,
   "metadata": {
    "scrolled": true
   },
   "outputs": [
    {
     "name": "stdout",
     "output_type": "stream",
     "text": [
      "rearch the end\n",
      "rearch the end\n",
      "rearch the end\n",
      "rearch the end\n",
      "rearch the end\n",
      "rearch the end\n",
      "rearch the end\n",
      "rearch the end\n",
      "rearch the end\n",
      "rearch the end\n",
      "rearch the end\n",
      "rearch the end\n",
      "rearch the end\n",
      "rearch the end\n",
      "rearch the end\n",
      "rearch the end\n",
      "rearch the end\n",
      "rearch the end\n",
      "rearch the end\n",
      "rearch the end\n",
      "rearch the end\n",
      "rearch the end\n",
      "rearch the end\n",
      "rearch the end\n",
      "rearch the end\n",
      "rearch the end\n",
      "rearch the end\n",
      "rearch the end\n",
      "rearch the end\n",
      "rearch the end\n",
      "rearch the end\n",
      "rearch the end\n",
      "rearch the end\n",
      "rearch the end\n",
      "rearch the end\n",
      "rearch the end\n",
      "rearch the end\n",
      "rearch the end\n",
      "rearch the end\n",
      "rearch the end\n",
      "rearch the end\n",
      "rearch the end\n",
      "rearch the end\n",
      "rearch the end\n",
      "rearch the end\n",
      "rearch the end\n",
      "rearch the end\n",
      "rearch the end\n",
      "rearch the end\n",
      "rearch the end\n",
      "rearch the end\n",
      "rearch the end\n",
      "rearch the end\n",
      "rearch the end\n",
      "rearch the end\n",
      "rearch the end\n",
      "rearch the end\n",
      "rearch the end\n",
      "rearch the end\n",
      "rearch the end\n",
      "rearch the end\n"
     ]
    }
   ],
   "source": [
    "# -1 --> tomorrow goes down \n",
    "# 0 --> tomorrow goes up\n",
    "# initialising\n",
    "df['forecasting'] = 0\n",
    "\n",
    "df['forecasting_10daysout'] = float('nan')\n",
    "df['forecasting_20daysout'] = float('nan')\n",
    "df['forecasting_30daysout'] = float('nan')\n",
    "# if y > sp500: predict as go up\n",
    "# else predict as go down\n",
    "for i in df.index:\n",
    "    try:\n",
    "        if df['Adj Close'][i+1] > df['Adj Close'][i]:  # will go up?\n",
    "            df.at[i, 'forecasting'] = 1\n",
    "        else:\n",
    "            df.at[i, 'forecasting'] = 0\n",
    "    except:\n",
    "        print('rearch the end')\n",
    "        \n",
    "for i in df.index:\n",
    "    try:\n",
    "        if df['Adj Close'][i+10] > df['Adj Close'][i]:  # will go up?\n",
    "            df.at[i, 'forecasting_10daysout'] = 1\n",
    "        else:\n",
    "            df.at[i, 'forecasting_10daysout'] = 0\n",
    "    except:\n",
    "        print('rearch the end')\n",
    "for i in df.index:\n",
    "    try:\n",
    "        if df['Adj Close'][i+20] > df['Adj Close'][i]:  # will go up?\n",
    "            df.at[i, 'forecasting_20daysout'] = 1\n",
    "        else:\n",
    "            df.at[i, 'forecasting_20daysout'] = 0\n",
    "    except:\n",
    "        print('rearch the end')\n",
    "for i in df.index:\n",
    "    try:\n",
    "        if df['Adj Close'][i+30] > df['Adj Close'][i]:  # will go up?\n",
    "            df.at[i, 'forecasting_30daysout'] = 1\n",
    "        else:\n",
    "            df.at[i, 'forecasting_30daysout'] = 0\n",
    "    except:\n",
    "        print('rearch the end')\n",
    "\n",
    "        \n",
    "df = df.dropna(axis=0)"
   ]
  },
  {
   "cell_type": "markdown",
   "metadata": {},
   "source": [
    "Now instead of set the next day's value as target,\n",
    "we will set the forecasting as target"
   ]
  },
  {
   "cell_type": "code",
   "execution_count": 187,
   "metadata": {},
   "outputs": [
    {
     "name": "stdout",
     "output_type": "stream",
     "text": [
      "2938\n",
      "(2938, 11) (2938,)\n"
     ]
    }
   ],
   "source": [
    "print(len(df))\n",
    "X = df.values[:,1:-4]\n",
    "y = df.values[:,-1] # 30_days ahead forecasting\n",
    "print(X.shape, y.shape)"
   ]
  },
  {
   "cell_type": "code",
   "execution_count": 188,
   "metadata": {
    "scrolled": true
   },
   "outputs": [
    {
     "data": {
      "text/plain": [
       "array([[1197.75, 1513530000, -9.079956, ..., 14.63291434, 13.15, 4.542],\n",
       "       [1188.069946, 1653190000, -9.680054, ..., 14.62472792, 13.49,\n",
       "        4.518],\n",
       "       [1190.209961, 1581930000, 2.140015, ..., 14.60842001, 13.29, 4.47],\n",
       "       ...,\n",
       "       [2164.199951, 5367200000, -0.25, ..., 22.14454909, 14.48, 2.222],\n",
       "       [2180.389893, 4543860000, 16.189942000000002, ..., 21.93060761,\n",
       "        13.37, 2.238],\n",
       "       [2176.939941, 3830590000, -3.4499519999999997, ..., 21.61776338,\n",
       "        13.72, 2.2230000000000003]], dtype=object)"
      ]
     },
     "execution_count": 188,
     "metadata": {},
     "output_type": "execute_result"
    }
   ],
   "source": [
    "X"
   ]
  },
  {
   "cell_type": "markdown",
   "metadata": {},
   "source": [
    "# testing train_test_split.py"
   ]
  },
  {
   "cell_type": "code",
   "execution_count": 189,
   "metadata": {},
   "outputs": [],
   "source": [
    "from train_test_split import utility_fun"
   ]
  },
  {
   "cell_type": "code",
   "execution_count": 190,
   "metadata": {},
   "outputs": [
    {
     "name": "stdout",
     "output_type": "stream",
     "text": [
      "torch.Size([889, 1, 50, 11]) torch.Size([2000, 1, 50, 11]) torch.Size([2000, 1])\n"
     ]
    }
   ],
   "source": [
    "temp = utility_fun([X, y], len_of_trainset = 2000, time_interval = 50)\n",
    "\n",
    "temp.norm()\n",
    "temp.sepera_time_step()\n",
    "temp.test_train_split()\n",
    "trainloader, validateData, trainData, testData = temp.build_dataloader()\n",
    "print(validateData.shape, trainData.shape, testData.shape)"
   ]
  },
  {
   "cell_type": "code",
   "execution_count": 191,
   "metadata": {},
   "outputs": [],
   "source": [
    "trainData.shape\n",
    "a = trainData.view(2000, -1, 11)"
   ]
  },
  {
   "cell_type": "code",
   "execution_count": 192,
   "metadata": {},
   "outputs": [
    {
     "data": {
      "image/png": "[encoded data removed]",
      "text/plain": [
       "<Figure size 432x288 with 1 Axes>"
      ]
     },
     "metadata": {
      "needs_background": "light"
     },
     "output_type": "display_data"
    }
   ],
   "source": [
    "b = a[:,0,:]\n",
    "\n",
    "for i in range(11):\n",
    "    plt.plot(b[:,i].numpy())"
   ]
  },
  {
   "cell_type": "markdown",
   "metadata": {},
   "source": [
    "# create model and training"
   ]
  },
  {
   "cell_type": "code",
   "execution_count": 193,
   "metadata": {},
   "outputs": [],
   "source": [
    "# define baseline MLP model\n",
    "class BaselineModel(nn.Module):\n",
    "    def __init__(self, input_size, hidden_size, num_classes):\n",
    "        super(BaselineModel, self).__init__()\n",
    "        self.fc1 = nn.Linear(input_size, hidden_size) \n",
    "        self.fc2 = nn.Linear(hidden_size, num_classes)  \n",
    "    \n",
    "    def forward(self, x):\n",
    "        out = self.fc1(x)\n",
    "        out = F.relu(out)        \n",
    "        out = self.fc2(out)\n",
    "        out = F.sigmoid(out)\n",
    "        out = out.squeeze()\n",
    "        return out"
   ]
  },
  {
   "cell_type": "code",
   "execution_count": 194,
   "metadata": {
    "scrolled": true
   },
   "outputs": [
    {
     "data": {
      "application/vnd.jupyter.widget-view+json": {
       "model_id": "3db0175cb3ef4213bf47caa037239613",
       "version_major": 2,
       "version_minor": 0
      },
      "text/plain": [
       "HBox(children=(IntProgress(value=0, description='0/10(t)', max=2000), HTML(value='')))"
      ]
     },
     "metadata": {},
     "output_type": "display_data"
    },
    {
     "name": "stderr",
     "output_type": "stream",
     "text": [
      "E:\\anacoda\\lib\\site-packages\\torch\\nn\\functional.py:1386: UserWarning: nn.functional.sigmoid is deprecated. Use torch.sigmoid instead.\n",
      "  warnings.warn(\"nn.functional.sigmoid is deprecated. Use torch.sigmoid instead.\")\n",
      "E:\\anacoda\\lib\\site-packages\\torch\\nn\\modules\\loss.py:512: UserWarning: Using a target size (torch.Size([1])) that is different to the input size (torch.Size([])) is deprecated. Please ensure they have the same size.\n",
      "  return F.binary_cross_entropy(input, target, weight=self.weight, reduction=self.reduction)\n"
     ]
    },
    {
     "name": "stdout",
     "output_type": "stream",
     "text": [
      "\n"
     ]
    },
    {
     "data": {
      "application/vnd.jupyter.widget-view+json": {
       "model_id": "0ae7579d00014247b87d6b61dc1370c5",
       "version_major": 2,
       "version_minor": 0
      },
      "text/plain": [
       "HBox(children=(IntProgress(value=0, description='1/10(t)', max=2000), HTML(value='')))"
      ]
     },
     "metadata": {},
     "output_type": "display_data"
    },
    {
     "name": "stdout",
     "output_type": "stream",
     "text": [
      "\n"
     ]
    },
    {
     "data": {
      "application/vnd.jupyter.widget-view+json": {
       "model_id": "657e1ff0132241ef830bde8df2a25beb",
       "version_major": 2,
       "version_minor": 0
      },
      "text/plain": [
       "HBox(children=(IntProgress(value=0, description='2/10(t)', max=2000), HTML(value='')))"
      ]
     },
     "metadata": {},
     "output_type": "display_data"
    },
    {
     "name": "stdout",
     "output_type": "stream",
     "text": [
      "\n"
     ]
    },
    {
     "data": {
      "application/vnd.jupyter.widget-view+json": {
       "model_id": "d1fba148478d48ccb894589434fc32a0",
       "version_major": 2,
       "version_minor": 0
      },
      "text/plain": [
       "HBox(children=(IntProgress(value=0, description='3/10(t)', max=2000), HTML(value='')))"
      ]
     },
     "metadata": {},
     "output_type": "display_data"
    },
    {
     "name": "stdout",
     "output_type": "stream",
     "text": [
      "\n"
     ]
    },
    {
     "data": {
      "application/vnd.jupyter.widget-view+json": {
       "model_id": "fbb31ba323dd4b449410bb2e0319fc9b",
       "version_major": 2,
       "version_minor": 0
      },
      "text/plain": [
       "HBox(children=(IntProgress(value=0, description='4/10(t)', max=2000), HTML(value='')))"
      ]
     },
     "metadata": {},
     "output_type": "display_data"
    },
    {
     "name": "stdout",
     "output_type": "stream",
     "text": [
      "\n"
     ]
    },
    {
     "data": {
      "application/vnd.jupyter.widget-view+json": {
       "model_id": "1367b1877789402abbc93c33397f080d",
       "version_major": 2,
       "version_minor": 0
      },
      "text/plain": [
       "HBox(children=(IntProgress(value=0, description='5/10(t)', max=2000), HTML(value='')))"
      ]
     },
     "metadata": {},
     "output_type": "display_data"
    },
    {
     "name": "stdout",
     "output_type": "stream",
     "text": [
      "\n"
     ]
    },
    {
     "data": {
      "application/vnd.jupyter.widget-view+json": {
       "model_id": "7edaf07db5ee43c09ece09f004e44a0d",
       "version_major": 2,
       "version_minor": 0
      },
      "text/plain": [
       "HBox(children=(IntProgress(value=0, description='6/10(t)', max=2000), HTML(value='')))"
      ]
     },
     "metadata": {},
     "output_type": "display_data"
    },
    {
     "name": "stdout",
     "output_type": "stream",
     "text": [
      "\n"
     ]
    },
    {
     "data": {
      "application/vnd.jupyter.widget-view+json": {
       "model_id": "4414fcc24e6d4e4c8492b24e62c2d280",
       "version_major": 2,
       "version_minor": 0
      },
      "text/plain": [
       "HBox(children=(IntProgress(value=0, description='7/10(t)', max=2000), HTML(value='')))"
      ]
     },
     "metadata": {},
     "output_type": "display_data"
    },
    {
     "name": "stdout",
     "output_type": "stream",
     "text": [
      "\n"
     ]
    },
    {
     "data": {
      "application/vnd.jupyter.widget-view+json": {
       "model_id": "7752a6709d6746838b1a88702995ded4",
       "version_major": 2,
       "version_minor": 0
      },
      "text/plain": [
       "HBox(children=(IntProgress(value=0, description='8/10(t)', max=2000), HTML(value='')))"
      ]
     },
     "metadata": {},
     "output_type": "display_data"
    },
    {
     "name": "stdout",
     "output_type": "stream",
     "text": [
      "\n"
     ]
    },
    {
     "data": {
      "application/vnd.jupyter.widget-view+json": {
       "model_id": "675e45ea61b94c01af70d1a8e9ad573c",
       "version_major": 2,
       "version_minor": 0
      },
      "text/plain": [
       "HBox(children=(IntProgress(value=0, description='9/10(t)', max=2000), HTML(value='')))"
      ]
     },
     "metadata": {},
     "output_type": "display_data"
    },
    {
     "name": "stdout",
     "output_type": "stream",
     "text": [
      "\n"
     ]
    },
    {
     "data": {
      "text/plain": [
       "[{'running_loss': 0.6730583310127258,\n",
       "  'running_binary_acc': 0.5799999833106995,\n",
       "  'loss': 0.6692439913749695,\n",
       "  'binary_acc': 0.624500036239624,\n",
       "  'train_steps': 2000,\n",
       "  'validation_steps': None},\n",
       " {'running_loss': 0.6605374813079834,\n",
       "  'running_binary_acc': 0.5799999833106995,\n",
       "  'loss': 0.6450147032737732,\n",
       "  'binary_acc': 0.6290000081062317,\n",
       "  'train_steps': 2000,\n",
       "  'validation_steps': None},\n",
       " {'running_loss': 0.6218039393424988,\n",
       "  'running_binary_acc': 0.6399999856948853,\n",
       "  'loss': 0.6203322410583496,\n",
       "  'binary_acc': 0.6290000081062317,\n",
       "  'train_steps': 2000,\n",
       "  'validation_steps': None},\n",
       " {'running_loss': 0.6636984348297119,\n",
       "  'running_binary_acc': 0.5999999642372131,\n",
       "  'loss': 0.5940225720405579,\n",
       "  'binary_acc': 0.6430000066757202,\n",
       "  'train_steps': 2000,\n",
       "  'validation_steps': None},\n",
       " {'running_loss': 0.6082375049591064,\n",
       "  'running_binary_acc': 0.6800000071525574,\n",
       "  'loss': 0.5734540820121765,\n",
       "  'binary_acc': 0.7055000066757202,\n",
       "  'train_steps': 2000,\n",
       "  'validation_steps': None},\n",
       " {'running_loss': 0.5722183585166931,\n",
       "  'running_binary_acc': 0.699999988079071,\n",
       "  'loss': 0.5642518401145935,\n",
       "  'binary_acc': 0.7190000414848328,\n",
       "  'train_steps': 2000,\n",
       "  'validation_steps': None},\n",
       " {'running_loss': 0.6252264380455017,\n",
       "  'running_binary_acc': 0.6800000071525574,\n",
       "  'loss': 0.5496809482574463,\n",
       "  'binary_acc': 0.7195000052452087,\n",
       "  'train_steps': 2000,\n",
       "  'validation_steps': None},\n",
       " {'running_loss': 0.5912342071533203,\n",
       "  'running_binary_acc': 0.6599999666213989,\n",
       "  'loss': 0.5462455749511719,\n",
       "  'binary_acc': 0.7285000085830688,\n",
       "  'train_steps': 2000,\n",
       "  'validation_steps': None},\n",
       " {'running_loss': 0.5170419216156006,\n",
       "  'running_binary_acc': 0.699999988079071,\n",
       "  'loss': 0.5338166952133179,\n",
       "  'binary_acc': 0.7295000553131104,\n",
       "  'train_steps': 2000,\n",
       "  'validation_steps': None},\n",
       " {'running_loss': 0.5256966352462769,\n",
       "  'running_binary_acc': 0.7199999690055847,\n",
       "  'loss': 0.5327920317649841,\n",
       "  'binary_acc': 0.7325000166893005,\n",
       "  'train_steps': 2000,\n",
       "  'validation_steps': None}]"
      ]
     },
     "execution_count": 194,
     "metadata": {},
     "output_type": "execute_result"
    }
   ],
   "source": [
    "device = \"cuda:0\" if torch.cuda.is_available() else \"cpu\"\n",
    "\n",
    "model = BaselineModel(550, 100, 1)\n",
    "\n",
    "# define the loss function and the optimiser\n",
    "# loss_function = nn.MSELoss()\n",
    "\n",
    "#classification problem  we use bce loss\n",
    "loss_function = nn.BCELoss()\n",
    "optimiser = optim.Adam(model.parameters())\n",
    "\n",
    "trial = Trial(model, optimiser, loss_function, metrics=['loss', 'accuracy']).to(device)\n",
    "trial.with_generators(trainloader)\n",
    "trial.run(epochs=10)"
   ]
  },
  {
   "cell_type": "code",
   "execution_count": 195,
   "metadata": {},
   "outputs": [],
   "source": [
    "torch.save(model.state_dict(), \"mlp_model\")"
   ]
  },
  {
   "cell_type": "markdown",
   "metadata": {},
   "source": [
    "# generate gradient"
   ]
  },
  {
   "cell_type": "code",
   "execution_count": 196,
   "metadata": {
    "scrolled": true
   },
   "outputs": [
    {
     "name": "stderr",
     "output_type": "stream",
     "text": [
      "E:\\anacoda\\lib\\site-packages\\torch\\nn\\functional.py:1386: UserWarning: nn.functional.sigmoid is deprecated. Use torch.sigmoid instead.\n",
      "  warnings.warn(\"nn.functional.sigmoid is deprecated. Use torch.sigmoid instead.\")\n"
     ]
    },
    {
     "ename": "IndexError",
     "evalue": "index 1 is out of bounds for dimension 0 with size 1",
     "output_type": "error",
     "traceback": [
      "\u001b[1;31m---------------------------------------------------------------------------\u001b[0m",
      "\u001b[1;31mIndexError\u001b[0m                                Traceback (most recent call last)",
      "\u001b[1;32m<ipython-input-196-fc555499eae3>\u001b[0m in \u001b[0;36m<module>\u001b[1;34m()\u001b[0m\n\u001b[0;32m     36\u001b[0m     \u001b[1;31m# get the inputs\u001b[0m\u001b[1;33m\u001b[0m\u001b[1;33m\u001b[0m\u001b[1;33m\u001b[0m\u001b[0m\n\u001b[0;32m     37\u001b[0m     \u001b[0minputs\u001b[0m\u001b[1;33m,\u001b[0m \u001b[0mlabels\u001b[0m \u001b[1;33m=\u001b[0m \u001b[0mdata\u001b[0m\u001b[1;33m\u001b[0m\u001b[1;33m\u001b[0m\u001b[0m\n\u001b[1;32m---> 38\u001b[1;33m     \u001b[0mins\u001b[0m \u001b[1;33m=\u001b[0m \u001b[0minputs\u001b[0m\u001b[1;33m[\u001b[0m\u001b[0mi\u001b[0m\u001b[1;33m,\u001b[0m\u001b[1;33m:\u001b[0m\u001b[1;33m]\u001b[0m\u001b[1;33m\u001b[0m\u001b[1;33m\u001b[0m\u001b[0m\n\u001b[0m\u001b[0;32m     39\u001b[0m     \u001b[0mlabs\u001b[0m \u001b[1;33m=\u001b[0m \u001b[0mlabels\u001b[0m\u001b[1;33m[\u001b[0m\u001b[0mi\u001b[0m\u001b[1;33m]\u001b[0m\u001b[1;33m\u001b[0m\u001b[1;33m\u001b[0m\u001b[0m\n\u001b[0;32m     40\u001b[0m \u001b[1;31m#     print(inputs.shape, labels.shape)\u001b[0m\u001b[1;33m\u001b[0m\u001b[1;33m\u001b[0m\u001b[1;33m\u001b[0m\u001b[0m\n",
      "\u001b[1;31mIndexError\u001b[0m: index 1 is out of bounds for dimension 0 with size 1"
     ]
    }
   ],
   "source": [
    "class gradient_generator():\n",
    "    \n",
    "    def __init__(self, model):\n",
    "        \n",
    "        self.loss = nn.BCELoss()\n",
    "        self.model = model.to('cpu')\n",
    "        self.gradients = None\n",
    "        # Put model in evaluation mode\n",
    "        self.model.eval()\n",
    "        # Hook the first layer to get the gradient\n",
    "        self.hook = self.hook_layers()\n",
    "    def hook_layers(self):    \n",
    "        def hook_function(module, grad_in, grad_out):\n",
    "#             print(\"hook called\")\n",
    "#             print(grad_out[0])\n",
    "            self.gradients = grad_out[0]\n",
    "#         print(list(self.model._modules.items()))\n",
    "        first_layer = list(self.model._modules.items())[0][1]\n",
    "        hook = first_layer.register_backward_hook(hook_function)\n",
    "        return hook\n",
    "    def generate_gradient(self, inputs, labels):\n",
    "        self.model.zero_grad()\n",
    "        output = self.model(inputs)\n",
    "        loss = self.loss(output, labels)\n",
    "        output.backward()\n",
    "        \n",
    "        self.hook.remove()\n",
    "        return self.gradients\n",
    "    \n",
    "\n",
    "grad = torch.zeros((2000,100))\n",
    "i = 0\n",
    "\n",
    "\n",
    "for data in trainloader:\n",
    "    # get the inputs\n",
    "    inputs, labels = data\n",
    "    ins = inputs[i,:]\n",
    "    labs = labels[i]\n",
    "#     print(inputs.shape, labels.shape)\n",
    "    GG = gradient_generator(model)\n",
    "    temp = GG.generate_gradient(ins, labs)\n",
    "#     print(temp)\n",
    "    grad[i,:] = temp\n",
    "    i += 1"
   ]
  },
  {
   "cell_type": "code",
   "execution_count": null,
   "metadata": {},
   "outputs": [],
   "source": [
    "plt.imshow(grad[40:100,:], cmap=plt.get_cmap('gray'))"
   ]
  },
  {
   "cell_type": "code",
   "execution_count": 162,
   "metadata": {},
   "outputs": [
    {
     "name": "stderr",
     "output_type": "stream",
     "text": [
      "E:\\anacoda\\lib\\site-packages\\torch\\nn\\functional.py:1386: UserWarning: nn.functional.sigmoid is deprecated. Use torch.sigmoid instead.\n",
      "  warnings.warn(\"nn.functional.sigmoid is deprecated. Use torch.sigmoid instead.\")\n"
     ]
    },
    {
     "name": "stdout",
     "output_type": "stream",
     "text": [
      "the 2000th day, pred: 1 ---- true: 1.0 ====== correct: 1 ---- miscorrect: 0\n"
     ]
    },
    {
     "ename": "RuntimeError",
     "evalue": "expected backend CUDA and dtype Float but got backend CPU and dtype Float",
     "output_type": "error",
     "traceback": [
      "\u001b[1;31m---------------------------------------------------------------------------\u001b[0m",
      "\u001b[1;31mRuntimeError\u001b[0m                              Traceback (most recent call last)",
      "\u001b[1;32m<ipython-input-162-471c951c4e88>\u001b[0m in \u001b[0;36m<module>\u001b[1;34m()\u001b[0m\n\u001b[0;32m     19\u001b[0m     \u001b[0mtrial\u001b[0m \u001b[1;33m=\u001b[0m \u001b[0mTrial\u001b[0m\u001b[1;33m(\u001b[0m\u001b[0mmodel\u001b[0m\u001b[1;33m,\u001b[0m \u001b[0moptimiser\u001b[0m\u001b[1;33m,\u001b[0m \u001b[0mloss_function\u001b[0m\u001b[1;33m,\u001b[0m \u001b[0mmetrics\u001b[0m\u001b[1;33m=\u001b[0m\u001b[1;33m[\u001b[0m\u001b[1;34m'loss'\u001b[0m\u001b[1;33m,\u001b[0m \u001b[1;34m'accuracy'\u001b[0m\u001b[1;33m]\u001b[0m\u001b[1;33m,\u001b[0m \u001b[0mverbose\u001b[0m \u001b[1;33m=\u001b[0m \u001b[1;32mFalse\u001b[0m\u001b[1;33m)\u001b[0m\u001b[1;33m.\u001b[0m\u001b[0mto\u001b[0m\u001b[1;33m(\u001b[0m\u001b[0mdevice\u001b[0m\u001b[1;33m)\u001b[0m\u001b[1;33m\u001b[0m\u001b[1;33m\u001b[0m\u001b[0m\n\u001b[0;32m     20\u001b[0m     \u001b[0mtrial\u001b[0m\u001b[1;33m.\u001b[0m\u001b[0mwith_generators\u001b[0m\u001b[1;33m(\u001b[0m\u001b[0mtrainloader\u001b[0m\u001b[1;33m)\u001b[0m\u001b[1;33m\u001b[0m\u001b[1;33m\u001b[0m\u001b[0m\n\u001b[1;32m---> 21\u001b[1;33m     \u001b[0mtrial\u001b[0m\u001b[1;33m.\u001b[0m\u001b[0mrun\u001b[0m\u001b[1;33m(\u001b[0m\u001b[0mepochs\u001b[0m\u001b[1;33m=\u001b[0m\u001b[1;36m2\u001b[0m\u001b[1;33m)\u001b[0m\u001b[1;33m\u001b[0m\u001b[1;33m\u001b[0m\u001b[0m\n\u001b[0m\u001b[0;32m     22\u001b[0m \u001b[1;33m\u001b[0m\u001b[0m\n\u001b[0;32m     23\u001b[0m     \u001b[0my_pred\u001b[0m\u001b[1;33m=\u001b[0m \u001b[0mmodel\u001b[0m\u001b[1;33m(\u001b[0m\u001b[0mvalidateData\u001b[0m\u001b[1;33m.\u001b[0m\u001b[0mview\u001b[0m\u001b[1;33m(\u001b[0m\u001b[0mvalidateData\u001b[0m\u001b[1;33m.\u001b[0m\u001b[0mshape\u001b[0m\u001b[1;33m[\u001b[0m\u001b[1;36m0\u001b[0m\u001b[1;33m]\u001b[0m\u001b[1;33m,\u001b[0m\u001b[1;33m-\u001b[0m\u001b[1;36m1\u001b[0m\u001b[1;33m)\u001b[0m\u001b[1;33m[\u001b[0m\u001b[1;36m0\u001b[0m\u001b[1;33m]\u001b[0m\u001b[1;33m.\u001b[0m\u001b[0mto\u001b[0m\u001b[1;33m(\u001b[0m\u001b[0mdevice\u001b[0m\u001b[1;33m)\u001b[0m\u001b[1;33m.\u001b[0m\u001b[0mfloat\u001b[0m\u001b[1;33m(\u001b[0m\u001b[1;33m)\u001b[0m\u001b[1;33m)\u001b[0m\u001b[1;33m\u001b[0m\u001b[1;33m\u001b[0m\u001b[0m\n",
      "\u001b[1;32mE:\\anacoda\\lib\\site-packages\\torchbearer\\trial.py\u001b[0m in \u001b[0;36mwrapper\u001b[1;34m(self, *args, **kwargs)\u001b[0m\n\u001b[0;32m    131\u001b[0m             \u001b[0mself\u001b[0m\u001b[1;33m.\u001b[0m\u001b[0mstate\u001b[0m\u001b[1;33m[\u001b[0m\u001b[0mtorchbearer\u001b[0m\u001b[1;33m.\u001b[0m\u001b[0mCALLBACK_LIST\u001b[0m\u001b[1;33m]\u001b[0m \u001b[1;33m=\u001b[0m \u001b[0mCallbackListInjection\u001b[0m\u001b[1;33m(\u001b[0m\u001b[0mprinter\u001b[0m\u001b[1;33m,\u001b[0m \u001b[0mcallback_list_old\u001b[0m\u001b[1;33m)\u001b[0m\u001b[1;33m\u001b[0m\u001b[1;33m\u001b[0m\u001b[0m\n\u001b[0;32m    132\u001b[0m \u001b[1;33m\u001b[0m\u001b[0m\n\u001b[1;32m--> 133\u001b[1;33m             \u001b[0mres\u001b[0m \u001b[1;33m=\u001b[0m \u001b[0mfunc\u001b[0m\u001b[1;33m(\u001b[0m\u001b[0mself\u001b[0m\u001b[1;33m,\u001b[0m \u001b[1;33m*\u001b[0m\u001b[0margs\u001b[0m\u001b[1;33m,\u001b[0m \u001b[1;33m**\u001b[0m\u001b[0mkwargs\u001b[0m\u001b[1;33m)\u001b[0m\u001b[1;33m\u001b[0m\u001b[1;33m\u001b[0m\u001b[0m\n\u001b[0m\u001b[0;32m    134\u001b[0m \u001b[1;33m\u001b[0m\u001b[0m\n\u001b[0;32m    135\u001b[0m             \u001b[0mself\u001b[0m\u001b[1;33m.\u001b[0m\u001b[0mstate\u001b[0m\u001b[1;33m[\u001b[0m\u001b[0mtorchbearer\u001b[0m\u001b[1;33m.\u001b[0m\u001b[0mCALLBACK_LIST\u001b[0m\u001b[1;33m]\u001b[0m \u001b[1;33m=\u001b[0m \u001b[0mcallback_list_old\u001b[0m\u001b[1;33m\u001b[0m\u001b[1;33m\u001b[0m\u001b[0m\n",
      "\u001b[1;32mE:\\anacoda\\lib\\site-packages\\torchbearer\\trial.py\u001b[0m in \u001b[0;36mrun\u001b[1;34m(self, epochs, verbose)\u001b[0m\n\u001b[0;32m    986\u001b[0m                 \u001b[0mstate\u001b[0m\u001b[1;33m[\u001b[0m\u001b[0mtorchbearer\u001b[0m\u001b[1;33m.\u001b[0m\u001b[0mCALLBACK_LIST\u001b[0m\u001b[1;33m]\u001b[0m\u001b[1;33m.\u001b[0m\u001b[0mon_start_epoch\u001b[0m\u001b[1;33m(\u001b[0m\u001b[0mstate\u001b[0m\u001b[1;33m)\u001b[0m\u001b[1;33m\u001b[0m\u001b[1;33m\u001b[0m\u001b[0m\n\u001b[0;32m    987\u001b[0m \u001b[1;33m\u001b[0m\u001b[0m\n\u001b[1;32m--> 988\u001b[1;33m                 \u001b[0mfinal_metrics\u001b[0m \u001b[1;33m=\u001b[0m \u001b[0mself\u001b[0m\u001b[1;33m.\u001b[0m\u001b[0m_fit_pass\u001b[0m\u001b[1;33m(\u001b[0m\u001b[0mstate\u001b[0m\u001b[1;33m)\u001b[0m\u001b[1;33m[\u001b[0m\u001b[0mtorchbearer\u001b[0m\u001b[1;33m.\u001b[0m\u001b[0mMETRICS\u001b[0m\u001b[1;33m]\u001b[0m\u001b[1;33m\u001b[0m\u001b[1;33m\u001b[0m\u001b[0m\n\u001b[0m\u001b[0;32m    989\u001b[0m \u001b[1;33m\u001b[0m\u001b[0m\n\u001b[0;32m    990\u001b[0m                 \u001b[1;32mif\u001b[0m \u001b[0mstate\u001b[0m\u001b[1;33m[\u001b[0m\u001b[0mtorchbearer\u001b[0m\u001b[1;33m.\u001b[0m\u001b[0mSTOP_TRAINING\u001b[0m\u001b[1;33m]\u001b[0m\u001b[1;33m:\u001b[0m\u001b[1;33m\u001b[0m\u001b[1;33m\u001b[0m\u001b[0m\n",
      "\u001b[1;32mE:\\anacoda\\lib\\site-packages\\torchbearer\\trial.py\u001b[0m in \u001b[0;36mwrapper\u001b[1;34m(self, *args, **kwargs)\u001b[0m\n\u001b[0;32m    296\u001b[0m             \u001b[0mself\u001b[0m\u001b[1;33m.\u001b[0m\u001b[0mstate\u001b[0m\u001b[1;33m[\u001b[0m\u001b[0mtorchbearer\u001b[0m\u001b[1;33m.\u001b[0m\u001b[0mSTEPS\u001b[0m\u001b[1;33m]\u001b[0m \u001b[1;33m=\u001b[0m \u001b[0msteps\u001b[0m\u001b[1;33m\u001b[0m\u001b[1;33m\u001b[0m\u001b[0m\n\u001b[0;32m    297\u001b[0m \u001b[1;33m\u001b[0m\u001b[0m\n\u001b[1;32m--> 298\u001b[1;33m             \u001b[0mres\u001b[0m \u001b[1;33m=\u001b[0m \u001b[0mfunc\u001b[0m\u001b[1;33m(\u001b[0m\u001b[0mself\u001b[0m\u001b[1;33m,\u001b[0m \u001b[1;33m*\u001b[0m\u001b[0margs\u001b[0m\u001b[1;33m,\u001b[0m \u001b[1;33m**\u001b[0m\u001b[0mkwargs\u001b[0m\u001b[1;33m)\u001b[0m\u001b[1;33m\u001b[0m\u001b[1;33m\u001b[0m\u001b[0m\n\u001b[0m\u001b[0;32m    299\u001b[0m \u001b[1;33m\u001b[0m\u001b[0m\n\u001b[0;32m    300\u001b[0m             \u001b[1;32mreturn\u001b[0m \u001b[0mres\u001b[0m\u001b[1;33m\u001b[0m\u001b[1;33m\u001b[0m\u001b[0m\n",
      "\u001b[1;32mE:\\anacoda\\lib\\site-packages\\torchbearer\\trial.py\u001b[0m in \u001b[0;36m_fit_pass\u001b[1;34m(self, state)\u001b[0m\n\u001b[0;32m   1031\u001b[0m \u001b[1;33m\u001b[0m\u001b[0m\n\u001b[0;32m   1032\u001b[0m             \u001b[1;31m# Update parameters\u001b[0m\u001b[1;33m\u001b[0m\u001b[1;33m\u001b[0m\u001b[1;33m\u001b[0m\u001b[0m\n\u001b[1;32m-> 1033\u001b[1;33m             \u001b[0mstate\u001b[0m\u001b[1;33m[\u001b[0m\u001b[0mtorchbearer\u001b[0m\u001b[1;33m.\u001b[0m\u001b[0mOPTIMIZER\u001b[0m\u001b[1;33m]\u001b[0m\u001b[1;33m.\u001b[0m\u001b[0mstep\u001b[0m\u001b[1;33m(\u001b[0m\u001b[1;32mlambda\u001b[0m\u001b[1;33m:\u001b[0m \u001b[0mself\u001b[0m\u001b[1;33m.\u001b[0m\u001b[0mclosure\u001b[0m\u001b[1;33m(\u001b[0m\u001b[0mstate\u001b[0m\u001b[1;33m)\u001b[0m\u001b[1;33m)\u001b[0m\u001b[1;33m\u001b[0m\u001b[1;33m\u001b[0m\u001b[0m\n\u001b[0m\u001b[0;32m   1034\u001b[0m \u001b[1;33m\u001b[0m\u001b[0m\n\u001b[0;32m   1035\u001b[0m             \u001b[0mstate\u001b[0m\u001b[1;33m[\u001b[0m\u001b[0mtorchbearer\u001b[0m\u001b[1;33m.\u001b[0m\u001b[0mMETRICS\u001b[0m\u001b[1;33m]\u001b[0m \u001b[1;33m=\u001b[0m \u001b[0mstate\u001b[0m\u001b[1;33m[\u001b[0m\u001b[0mtorchbearer\u001b[0m\u001b[1;33m.\u001b[0m\u001b[0mMETRIC_LIST\u001b[0m\u001b[1;33m]\u001b[0m\u001b[1;33m.\u001b[0m\u001b[0mprocess\u001b[0m\u001b[1;33m(\u001b[0m\u001b[0mstate\u001b[0m\u001b[1;33m.\u001b[0m\u001b[0mdata\u001b[0m\u001b[1;33m)\u001b[0m\u001b[1;33m\u001b[0m\u001b[1;33m\u001b[0m\u001b[0m\n",
      "\u001b[1;32mE:\\anacoda\\lib\\site-packages\\torch\\optim\\adam.py\u001b[0m in \u001b[0;36mstep\u001b[1;34m(self, closure)\u001b[0m\n\u001b[0;32m     91\u001b[0m \u001b[1;33m\u001b[0m\u001b[0m\n\u001b[0;32m     92\u001b[0m                 \u001b[1;31m# Decay the first and second moment running average coefficient\u001b[0m\u001b[1;33m\u001b[0m\u001b[1;33m\u001b[0m\u001b[1;33m\u001b[0m\u001b[0m\n\u001b[1;32m---> 93\u001b[1;33m                 \u001b[0mexp_avg\u001b[0m\u001b[1;33m.\u001b[0m\u001b[0mmul_\u001b[0m\u001b[1;33m(\u001b[0m\u001b[0mbeta1\u001b[0m\u001b[1;33m)\u001b[0m\u001b[1;33m.\u001b[0m\u001b[0madd_\u001b[0m\u001b[1;33m(\u001b[0m\u001b[1;36m1\u001b[0m \u001b[1;33m-\u001b[0m \u001b[0mbeta1\u001b[0m\u001b[1;33m,\u001b[0m \u001b[0mgrad\u001b[0m\u001b[1;33m)\u001b[0m\u001b[1;33m\u001b[0m\u001b[1;33m\u001b[0m\u001b[0m\n\u001b[0m\u001b[0;32m     94\u001b[0m                 \u001b[0mexp_avg_sq\u001b[0m\u001b[1;33m.\u001b[0m\u001b[0mmul_\u001b[0m\u001b[1;33m(\u001b[0m\u001b[0mbeta2\u001b[0m\u001b[1;33m)\u001b[0m\u001b[1;33m.\u001b[0m\u001b[0maddcmul_\u001b[0m\u001b[1;33m(\u001b[0m\u001b[1;36m1\u001b[0m \u001b[1;33m-\u001b[0m \u001b[0mbeta2\u001b[0m\u001b[1;33m,\u001b[0m \u001b[0mgrad\u001b[0m\u001b[1;33m,\u001b[0m \u001b[0mgrad\u001b[0m\u001b[1;33m)\u001b[0m\u001b[1;33m\u001b[0m\u001b[1;33m\u001b[0m\u001b[0m\n\u001b[0;32m     95\u001b[0m                 \u001b[1;32mif\u001b[0m \u001b[0mamsgrad\u001b[0m\u001b[1;33m:\u001b[0m\u001b[1;33m\u001b[0m\u001b[1;33m\u001b[0m\u001b[0m\n",
      "\u001b[1;31mRuntimeError\u001b[0m: expected backend CUDA and dtype Float but got backend CPU and dtype Float"
     ]
    }
   ],
   "source": [
    "from train_test_split import utility_fun\n",
    "\n",
    "#classification problem  we use bce loss\n",
    "loss_function = nn.BCELoss()\n",
    "optimiser = optim.Adam(model.parameters())\n",
    "device = \"cuda:0\" if torch.cuda.is_available() else \"cpu\"\n",
    "cor = 0\n",
    "mis = 0\n",
    "for i in range(2000, 2500):\n",
    "    temp = utility_fun([X, y], len_of_trainset = i, time_interval = 50)\n",
    "\n",
    "    temp.norm()\n",
    "    temp.sepera_time_step()\n",
    "    temp.test_train_split()\n",
    "    trainloader, validateData,_ ,_ = temp.build_dataloader()\n",
    "\n",
    "    model = BaselineModel(550, 500, 1)\n",
    "     \n",
    "    trial = Trial(model, optimiser, loss_function, metrics=['loss', 'accuracy'], verbose = False).to(device)\n",
    "    trial.with_generators(trainloader)\n",
    "    trial.run(epochs=2)\n",
    "    \n",
    "    y_pred= model(validateData.view(validateData.shape[0],-1)[0].to(device).float())\n",
    "    if y_pred.data > 0.5:\n",
    "        a = 1\n",
    "    else:\n",
    "        a = 0\n",
    "    if a == y[i]:\n",
    "        cor += 1\n",
    "    else:\n",
    "        mis += 1\n",
    "        \n",
    "    print(\"the {}th day, pred: {} ---- true: {} ====== correct: {} ---- miscorrect: {}\".format(i, a, y[i],cor,mis))"
   ]
  }
 ],
 "metadata": {
  "kernelspec": {
   "display_name": "Python 3",
   "language": "python",
   "name": "python3"
  },
  "language_info": {
   "codemirror_mode": {
    "name": "ipython",
    "version": 3
   },
   "file_extension": ".py",
   "mimetype": "text/x-python",
   "name": "python",
   "nbconvert_exporter": "python",
   "pygments_lexer": "ipython3",
   "version": "3.7.2"
  }
 },
 "nbformat": 4,
 "nbformat_minor": 2
}
